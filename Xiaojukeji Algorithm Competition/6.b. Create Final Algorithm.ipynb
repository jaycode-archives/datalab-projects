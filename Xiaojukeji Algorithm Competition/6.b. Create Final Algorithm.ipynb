{
 "cells": [
  {
   "cell_type": "code",
   "execution_count": 1,
   "metadata": {
    "collapsed": false
   },
   "outputs": [
    {
     "name": "stderr",
     "output_type": "stream",
     "text": [
      "Using TensorFlow backend.\n"
     ]
    }
   ],
   "source": [
    "import pdb\n",
    "import numpy as np\n",
    "import gcp.bigquery as bq\n",
    "import gcp.storage as storage\n",
    "import keras\n",
    "from keras.callbacks import ModelCheckpoint\n",
    "from keras import backend as K\n",
    "from keras.optimizers import SGD\n",
    "import tensorflow as tf\n",
    "import h5py\n",
    "try:\n",
    "  import cPickle as pickle\n",
    "except:\n",
    "  import pickle\n",
    "EST_FILENAME = 'best_model.hdf5'"
   ]
  },
  {
   "cell_type": "code",
   "execution_count": 2,
   "metadata": {
    "collapsed": true
   },
   "outputs": [],
   "source": [
    "# Put all categorical data first for easier implementation of One Hot Encoding.\n",
    "fields_str = \"\"\"\n",
    "gap\tday_in_week\tweather_1_slots_ago\tweather_2_slots_ago\tweather_3_slots_ago\tbusy_time\t\n",
    "tj_level1_1_slots_ago\ttj_level2_1_slots_ago\ttj_level3_1_slots_ago\ttj_level4_1_slots_ago\t\n",
    "tj_level1_2_slots_ago\ttj_level2_2_slots_ago\ttj_level3_2_slots_ago\ttj_level4_2_slots_ago\t\n",
    "tj_level1_3_slots_ago\ttj_level2_3_slots_ago\ttj_level3_3_slots_ago\ttj_level4_3_slots_ago\t\n",
    "temperature_1_slots_ago\tpm25_1_slots_ago\t\n",
    "temperature_2_slots_ago\tpm25_2_slots_ago\t\n",
    "temperature_3_slots_ago\tpm25_3_slots_ago\t\n",
    "gap_1_slots_ago\tsum_price_1_slots_ago\t\n",
    "gap_2_slots_ago\tsum_price_2_slots_ago\t\n",
    "gap_3_slots_ago\tsum_price_3_slots_ago\t\n",
    "f1\tf11\tf11_1\tf11_2\tf11_3\tf11_4\tf11_5\tf11_6\tf11_7\t\n",
    "f11_8\tf13_4\tf13_8\tf14\tf14_1\tf14_10\tf14_2\tf14_3\tf14_6\tf14_8\tf15\tf15_1\t\n",
    "f15_2\tf15_3\tf15_4\tf15_6\tf15_7\tf15_8\tf16\tf16_1\tf16_10\tf16_11\tf16_12\tf16_3\t\n",
    "f16_4\tf16_6\tf17\tf17_2\tf17_3\tf17_4\tf17_5\tf19\tf19_1\tf19_2\tf19_3\tf19_4\tf1_1\t\n",
    "f1_10\tf1_11\tf1_2\tf1_3\tf1_4\tf1_5\tf1_6\tf1_7\tf1_8\tf20\tf20_1\tf20_2\t\n",
    "f20_4\tf20_5\tf20_6\tf20_7\tf20_8\tf20_9\tf21_1\tf21_2\tf22\tf22_1\tf22_2\tf22_3\t\n",
    "f22_4\tf22_5\tf23\tf23_1\tf23_2\tf23_3\tf23_4\tf23_5\tf23_6\tf24\tf24_1\tf24_2\tf24_3\t\n",
    "f25\tf25_1\tf25_3\tf25_7\tf25_8\tf25_9\tf2_1\tf2_10\tf2_11\tf2_12\tf2_13\tf2_2\t\n",
    "f2_4\tf2_5\tf2_6\tf2_7\tf2_8\tf3_1\tf3_2\tf3_3\tf4\tf4_1\tf4_10\tf4_11\t\n",
    "f4_13\tf4_14\tf4_16\tf4_17\tf4_18\tf4_2\tf4_3\tf4_5\tf4_6\tf4_7\tf4_8\tf4_9\t\n",
    "f5\tf5_1\tf5_3\tf5_4\tf6\tf6_1\tf6_2\tf6_4\tf7\tf8\tf8_1\tf8_2\tf8_3\tf8_4\t\n",
    "f8_5\n",
    "\"\"\"\n",
    "fields = map(lambda x: x.strip(), fields_str.split('\\t'))\n",
    "features = fields[1:]\n",
    "\n",
    "# Use this instead of len(features) since this variable can change\n",
    "# e.g. when one hot encoding is used and/or new features are added.\n",
    "n_features = len(features)"
   ]
  },
  {
   "cell_type": "code",
   "execution_count": 3,
   "metadata": {
    "collapsed": true
   },
   "outputs": [],
   "source": [
    "%%sql --module q_all\n",
    "\n",
    "SELECT *, HASH(CAST(district_id AS STRING) +timeslot) AS hash_value,\n",
    "  IF(ABS(HASH(CAST(district_id AS STRING) + timeslot)) % 2 == 1, 'True', 'False')\n",
    "    AS included_in_sample, IF(timeofday_slot >= 50 AND timeofday_slot <= 53, 1, 0) AS busy_time\n",
    "FROM [datalab-projects-1331:xjk_algo_comp.gaps]\n",
    "WHERE gap > 0\n",
    "\n",
    "# The above query randomizes its outputs."
   ]
  },
  {
   "cell_type": "code",
   "execution_count": 4,
   "metadata": {
    "collapsed": false
   },
   "outputs": [
    {
     "name": "stdout",
     "output_type": "stream",
     "text": [
      "there are 102592 rows\n",
      "processed 0 rows\n",
      "processed 5000 rows\n",
      "processed 10000 rows\n",
      "processed 15000 rows\n",
      "processed 20000 rows\n",
      "processed 25000 rows\n",
      "processed 30000 rows\n",
      "processed 35000 rows\n",
      "processed 40000 rows\n",
      "processed 45000 rows\n",
      "processed 50000 rows\n",
      "processed 55000 rows\n",
      "processed 60000 rows\n",
      "processed 65000 rows\n",
      "processed 70000 rows\n",
      "processed 75000 rows\n",
      "processed 80000 rows\n",
      "processed 85000 rows\n",
      "processed 90000 rows\n",
      "processed 95000 rows\n",
      "processed 100000 rows\n"
     ]
    }
   ],
   "source": [
    "query = bq.Query(q_all)\n",
    "tableresult = query.results()\n",
    "\n",
    "all_data = np.zeros((tableresult.length, len(fields)))\n",
    "print 'there are {} rows'.format(tableresult.length)\n",
    "for rcounter, row in enumerate(tableresult):\n",
    "  for fcounter, field in enumerate(fields):\n",
    "    all_data[rcounter, fcounter] = row[field]\n",
    "  if rcounter % 5000 == 0:\n",
    "    print 'processed {} rows'.format(rcounter)\n",
    "all_data_original = np.copy(all_data)"
   ]
  },
  {
   "cell_type": "markdown",
   "metadata": {},
   "source": [
    "# Impute NaN and inf values"
   ]
  },
  {
   "cell_type": "code",
   "execution_count": 5,
   "metadata": {
    "collapsed": true
   },
   "outputs": [],
   "source": [
    "all_data = np.copy(all_data_original)"
   ]
  },
  {
   "cell_type": "code",
   "execution_count": 6,
   "metadata": {
    "collapsed": false
   },
   "outputs": [
    {
     "name": "stdout",
     "output_type": "stream",
     "text": [
      "Checkinf for NaN and Inf\n",
      "np.nan= (array([     5,      5,     19, ..., 102591, 102591, 102591]), array([24, 25, 24, ..., 21, 22, 23]))\n",
      "is.inf= (array([], dtype=int64), array([], dtype=int64))\n",
      "np.max= nan\n",
      "Shape of old data:\n",
      "(102592, 164)\n",
      "Stats (NaN values are replaced with following means for each feature):\n",
      "[  1.47531386e+01   3.01818855e+00   3.10143084e+00   3.09452721e+00\n",
      "   3.09335324e+00   3.55680755e-02   9.25288152e+02   2.11476701e+02\n",
      "   6.39290514e+01   4.27323248e+01   9.24878845e+02   2.11314586e+02\n",
      "   6.38820215e+01   4.27167737e+01   9.24081034e+02   2.11042060e+02\n",
      "   6.38010039e+01   4.26568256e+01   6.73477959e+00   1.22643715e+02\n",
      "   6.72686319e+00   1.22560244e+02   6.72055706e+00   1.22575663e+02\n",
      "   1.49658681e+01   1.38741400e+03   1.49710991e+01   1.39304667e+03\n",
      "   1.49745991e+01   1.39496361e+03   1.63135306e+03   7.13633744e+03\n",
      "   1.28722165e+03   3.13526206e+03   3.60085879e+03   2.13496506e+04\n",
      "   1.04434925e+03   7.91680944e+03   1.61694424e+03   1.98460352e+04\n",
      "   1.82435654e+04   2.48352695e+03   1.02267129e+03   9.46645937e+00\n",
      "   2.15314420e+02   8.09984599e+01   4.52081887e+02   5.77904651e+02\n",
      "   1.52562822e+02   4.03880126e+03   4.84827374e+01   2.83854790e+03\n",
      "   5.07361366e+03   2.97105729e+02   2.62249564e+03   1.43395056e+03\n",
      "   5.28717249e+01   5.65806175e+03   4.80078369e+01   7.98514334e+03\n",
      "   4.58616341e+03   1.61599848e+03   3.39218165e+02   3.66425195e+03\n",
      "   2.40710679e+01   1.04156052e+03   5.84659148e+03   1.87298522e+02\n",
      "   1.65440718e+03   6.14575714e+03   4.54160374e+04   1.42002149e+03\n",
      "   4.71361880e+02   2.21003058e+04   9.41813601e+02   1.67864005e+02\n",
      "   1.15230135e+02   1.43449423e+03   9.40248129e+02   3.22091810e+02\n",
      "   1.79188806e+02   6.39463335e+03   7.91967502e+01   8.38664711e+01\n",
      "   3.05426602e+03   2.32738142e+04   6.25673744e+03   3.80739119e+03\n",
      "   4.48044747e+03   2.66957957e+03   2.91840563e+02   9.88863628e+03\n",
      "   3.98525869e+04   8.76341235e+00   4.79536319e+01   1.03828476e+02\n",
      "   1.60324736e+03   4.33780821e+02   1.20163195e+03   6.30159896e+02\n",
      "   1.45512854e+03   5.03721460e+02   1.23227477e+03   1.99374103e+02\n",
      "   1.00694294e+02   3.84487436e+02   1.35936447e+02   5.89746423e+02\n",
      "   3.85325591e+02   1.03185863e+03   5.80984990e+04   3.65056154e+03\n",
      "   4.05705055e+02   1.57685599e+03   3.88334373e+01   3.55910899e+02\n",
      "   1.51386330e+03   1.10226204e+03   3.49489528e+03   1.61115886e+02\n",
      "   1.28839232e+03   2.22119980e+02   3.79670957e+03   9.56128577e+02\n",
      "   3.87066866e+03   1.47771746e+02   5.85421349e+02   1.88262805e+03\n",
      "   5.54077911e+02   2.89050218e+01   2.93011795e+03   1.00764680e+02\n",
      "   1.51639718e+02   6.48868956e+03   4.61307256e+02   1.92705108e+03\n",
      "   1.60898419e+03   1.80038530e+03   1.51955726e+03   3.09390040e+02\n",
      "   1.67676391e+03   1.57454136e+03   2.29341948e+03   7.89011307e+02\n",
      "   2.17821766e+03   4.26805365e+02   5.92460718e+02   2.27775908e+02\n",
      "   1.48079420e+03   1.54491549e+02   2.17979688e+03   1.49153569e+03\n",
      "   3.52025109e+01   7.32479854e+03   1.24134318e+03   6.82556720e+02\n",
      "   3.68893383e+02   5.81649732e+03   3.09710416e+02   1.59675813e+02\n",
      "   4.39927264e+03   2.81146886e+03   2.99062692e+03   3.10910207e+01]\n",
      "Shape of new data:\n",
      "(102592, 164)\n",
      "Checkinf for NaN and Inf\n",
      "np.nan= (array([], dtype=int64), array([], dtype=int64))\n",
      "is.inf= (array([], dtype=int64), array([], dtype=int64))\n",
      "np.max= 461563.0\n"
     ]
    }
   ],
   "source": [
    "from sklearn.preprocessing import Imputer\n",
    "# Useful code to check NaN and Inf values. This is needed since these values would\n",
    "# cause \"Input contains NaN, infinity or a value too large for dtype('float32')\n",
    "# errors when left unchecked.\n",
    "print \"Checkinf for NaN and Inf\"\n",
    "print \"np.nan=\", np.where(np.isnan(all_data))\n",
    "print \"is.inf=\", np.where(np.isinf(all_data))\n",
    "print \"np.max=\", np.max(abs(all_data))\n",
    "\n",
    "# Impute\n",
    "imputer = Imputer()\n",
    "imputer.fit(all_data)\n",
    "print 'Shape of old data:'\n",
    "print all_data.shape\n",
    "print 'Stats (NaN values are replaced with following means for each feature):'\n",
    "print imputer.statistics_\n",
    "all_data = imputer.fit_transform(all_data)\n",
    "print 'Shape of new data:'\n",
    "print all_data.shape\n",
    "\n",
    "# See that NaN and Inf values replaced\n",
    "print \"Checkinf for NaN and Inf\"\n",
    "print \"np.nan=\", np.where(np.isnan(all_data))\n",
    "print \"is.inf=\", np.where(np.isinf(all_data))\n",
    "print \"np.max=\", np.max(abs(all_data))"
   ]
  },
  {
   "cell_type": "markdown",
   "metadata": {},
   "source": [
    "# One Hot Encoding"
   ]
  },
  {
   "cell_type": "code",
   "execution_count": 7,
   "metadata": {
    "collapsed": false
   },
   "outputs": [
    {
     "name": "stdout",
     "output_type": "stream",
     "text": [
      "n_values_:\n",
      "[ 7 10 10 10]\n",
      "feature_indices_:\n",
      "[ 0  7 17 27 37]\n",
      "new number of features: 191\n"
     ]
    }
   ],
   "source": [
    "from sklearn.preprocessing import OneHotEncoder\n",
    "# one_hot = OneHotEncoder(categorical_features=[0, 1, 14, 17, 20], n_values='auto')\n",
    "one_hot = OneHotEncoder(categorical_features=[1, 2, 3, 4], n_values='auto')\n",
    "one_hot.fit(all_data)\n",
    "print \"n_values_:\"\n",
    "print one_hot.n_values_\n",
    "print \"feature_indices_:\"\n",
    "print one_hot.feature_indices_\n",
    "all_data = one_hot.fit_transform(all_data).todense()\n",
    "n_features = all_data.shape[1]\n",
    "print 'new number of features: {}'.format(n_features)"
   ]
  },
  {
   "cell_type": "markdown",
   "metadata": {},
   "source": [
    "# Feature Scaling"
   ]
  },
  {
   "cell_type": "code",
   "execution_count": 8,
   "metadata": {
    "collapsed": false
   },
   "outputs": [
    {
     "name": "stdout",
     "output_type": "stream",
     "text": [
      "old data:\n",
      "means: 2519.97764716, min: 0.0, max: 461563.0\n",
      "new data:\n",
      "means: 2.71320372218e-15, min: -1.94360466344, max: 62.211464139\n"
     ]
    }
   ],
   "source": [
    "from sklearn.preprocessing import MinMaxScaler, StandardScaler\n",
    "scaler = StandardScaler()\n",
    "print 'old data:'\n",
    "print 'means: {}, min: {}, max: {}'.format(np.mean(all_data), np.min(all_data), np.max(all_data))\n",
    "all_data = scaler.fit_transform(all_data)\n",
    "print 'new data:'\n",
    "print 'means: {}, min: {}, max: {}'.format(np.mean(all_data), np.min(all_data), np.max(all_data))"
   ]
  },
  {
   "cell_type": "markdown",
   "metadata": {},
   "source": [
    "# Split into Train and Test Data"
   ]
  },
  {
   "cell_type": "code",
   "execution_count": 9,
   "metadata": {
    "collapsed": true
   },
   "outputs": [],
   "source": [
    "# Split the data into train and test sets.\n",
    "data_size = all_data.shape[0]\n",
    "training_size = data_size * 90/100\n",
    "indices = np.random.permutation(data_size)\n",
    "training_idx, test_idx = indices[:training_size], indices[training_size:]\n",
    "all_data_train, all_data_test = all_data[training_idx,:], all_data[test_idx,:]\n",
    "\n",
    "data_train = all_data_train[:,1:]\n",
    "targets_train = all_data_train[:,0]\n",
    "data_test = all_data_test[:,1:]\n",
    "targets_test = all_data_test[:,0]\n",
    "data_train_original = np.copy(data_train)\n",
    "data_test_original = np.copy(data_test)"
   ]
  },
  {
   "cell_type": "markdown",
   "metadata": {},
   "source": [
    "# Model Creation"
   ]
  },
  {
   "cell_type": "code",
   "execution_count": 10,
   "metadata": {
    "collapsed": true
   },
   "outputs": [],
   "source": [
    "def mape(y, predictions):\n",
    "  return K.mean(K.abs(y-predictions/K.clip(K.abs(y), K.epsilon(), np.inf)), axis=-1)"
   ]
  },
  {
   "cell_type": "code",
   "execution_count": 11,
   "metadata": {
    "collapsed": false
   },
   "outputs": [],
   "source": [
    "from keras.wrappers.scikit_learn import KerasRegressor\n",
    "from keras.models import Sequential\n",
    "from keras.layers import Dense, Activation\n",
    "import time\n",
    "from sklearn.cross_validation import StratifiedKFold\n",
    "from sklearn.cross_validation import cross_val_score\n",
    "\n",
    "def create_model(optimizer='adagrad', init='uniform'):\n",
    "  model = Sequential()\n",
    "  model.add(Dense(data_train.shape[1], input_dim=data_train.shape[1], init=init, activation='relu'))\n",
    "  model.add(Dense(1024, init=init, activation='relu'))\n",
    "  model.add(Dense(512, init=init, activation='relu'))\n",
    "  model.add(Dense(1))\n",
    "  model.compile(loss=mape, optimizer=optimizer, metrics=['accuracy'])\n",
    "  return model\n",
    "\n",
    "seed = 13\n",
    "np.random.seed(seed)\n",
    "\n",
    "checkpoint = ModelCheckpoint(EST_FILENAME, monitor='loss', save_best_only=True, mode='min')\n",
    "callbacks_list = [checkpoint]\n",
    "\n",
    "model = KerasRegressor(build_fn=create_model, nb_epoch=20, batch_size=10)\n",
    "\n",
    "# kfold = StratifiedKFold(y=targets_train, n_folds=10, shuffle=True, random_state=seed)"
   ]
  },
  {
   "cell_type": "code",
   "execution_count": null,
   "metadata": {
    "collapsed": false
   },
   "outputs": [
    {
     "name": "stdout",
     "output_type": "stream",
     "text": [
      "0s - loss: 0.0738 - acc: 0.0000e+00\n",
      "Epoch 111/150\n",
      "0s - loss: 0.0539 - acc: 0.0000e+00\n",
      "Epoch 112/150\n",
      "0s - loss: 0.0694 - acc: 0.0000e+00\n",
      "Epoch 113/150\n",
      "0s - loss: 0.0771 - acc: 0.0000e+00\n",
      "Epoch 114/150\n",
      "0s - loss: 0.0606 - acc: 0.0000e+00\n",
      "Epoch 115/150\n",
      "0s - loss: 0.0550 - acc: 0.0000e+00\n",
      "Epoch 116/150\n",
      "0s - loss: 0.0636 - acc: 0.0000e+00\n",
      "Epoch 117/150\n",
      "0s - loss: 0.0613 - acc: 0.0000e+00\n",
      "Epoch 118/150\n",
      "0s - loss: 0.0575 - acc: 0.0000e+00\n",
      "Epoch 119/150\n",
      "0s - loss: 0.0819 - acc: 0.0000e+00\n",
      "Epoch 120/150\n",
      "0s - loss: 0.0634 - acc: 0.0000e+00\n",
      "Epoch 121/150\n",
      "0s - loss: 0.0621 - acc: 0.0000e+00\n",
      "Epoch 122/150\n",
      "0s - loss: 0.0557 - acc: 0.0000e+00\n",
      "Epoch 123/150\n",
      "0s - loss: 0.0509 - acc: 0.0000e+00\n",
      "Epoch 124/150\n",
      "0s - loss: 0.0553 - acc: 0.0000e+00\n",
      "Epoch 125/150\n",
      "0s - loss: 0.0581 - acc: 0.0000e+00\n",
      "Epoch 126/150\n",
      "0s - loss: 0.0690 - acc: 0.0000e+00\n",
      "Epoch 127/150\n",
      "0s - loss: 0.0528 - acc: 0.0000e+00\n",
      "Epoch 128/150\n",
      "0s - loss: 0.0948 - acc: 0.0000e+00\n",
      "Epoch 129/150\n",
      "0s - loss: 0.0903 - acc: 0.0000e+00\n",
      "Epoch 130/150\n",
      "0s - loss: 0.0735 - acc: 0.0000e+00\n",
      "Epoch 131/150\n",
      "0s - loss: 0.0639 - acc: 0.0000e+00\n",
      "Epoch 132/150\n",
      "0s - loss: 0.0647 - acc: 0.0000e+00\n",
      "Epoch 133/150\n",
      "0s - loss: 0.0570 - acc: 0.0000e+00\n",
      "Epoch 134/150\n",
      "0s - loss: 0.0567 - acc: 0.0000e+00\n",
      "Epoch 135/150\n",
      "0s - loss: 0.0643 - acc: 0.0000e+00\n",
      "Epoch 136/150\n",
      "0s - loss: 0.0618 - acc: 0.0000e+00\n",
      "Epoch 137/150\n",
      "0s - loss: 0.0632 - acc: 0.0000e+00\n",
      "Epoch 138/150\n",
      "0s - loss: 0.0616 - acc: 0.0000e+00\n",
      "Epoch 139/150\n",
      "0s - loss: 0.0630 - acc: 0.0000e+00\n",
      "Epoch 140/150\n",
      "0s - loss: 0.0470 - acc: 0.0000e+00\n",
      "Epoch 141/150\n",
      "0s - loss: 0.0708 - acc: 0.0000e+00\n",
      "Epoch 142/150\n",
      "0s - loss: 0.0546 - acc: 0.0000e+00\n",
      "Epoch 143/150\n",
      "0s - loss: 0.0609 - acc: 0.0000e+00\n",
      "Epoch 144/150\n",
      "0s - loss: 0.0593 - acc: 0.0000e+00\n",
      "Epoch 145/150\n",
      "0s - loss: 0.0468 - acc: 0.0000e+00\n",
      "Epoch 146/150\n",
      "0s - loss: 0.0642 - acc: 0.0000e+00\n",
      "Epoch 147/150\n",
      "0s - loss: 0.0494 - acc: 0.0000e+00\n",
      "Epoch 148/150\n",
      "0s - loss: 0.0613 - acc: 0.0000e+00\n",
      "Epoch 149/150\n",
      "0s - loss: 0.0454 - acc: 0.0000e+00\n",
      "Epoch 150/150\n",
      "0s - loss: 0.0700 - acc: 0.0000e+00\n",
      "Epoch 1/150\n",
      "0s - loss: 2.1635 - acc: 0.0000e+00\n",
      "Epoch 2/150\n",
      "0s - loss: 1.3843 - acc: 0.0000e+00\n",
      "Epoch 3/150\n",
      "0s - loss: 0.5840 - acc: 0.0000e+00\n",
      "Epoch 4/150\n",
      "0s - loss: 0.5105 - acc: 0.0000e+00\n",
      "Epoch 5/150\n",
      "0s - loss: 0.3720 - acc: 0.0000e+00\n",
      "Epoch 6/150\n",
      "0s - loss: 0.3928 - acc: 0.0000e+00\n",
      "Epoch 7/150\n",
      "0s - loss: 0.3299 - acc: 0.0000e+00\n",
      "Epoch 8/150\n",
      "0s - loss: 0.3677 - acc: 0.0000e+00\n",
      "Epoch 9/150\n",
      "0s - loss: 0.3311 - acc: 0.0000e+00\n",
      "Epoch 10/150\n",
      "0s - loss: 0.3045 - acc: 0.0000e+00\n",
      "Epoch 11/150\n",
      "0s - loss: 0.2697 - acc: 0.0000e+00\n",
      "Epoch 12/150\n",
      "0s - loss: 0.2823 - acc: 0.0000e+00\n",
      "Epoch 13/150\n",
      "0s - loss: 0.2722 - acc: 0.0000e+00\n",
      "Epoch 14/150\n",
      "0s - loss: 0.2777 - acc: 0.0000e+00\n",
      "Epoch 15/150\n",
      "0s - loss: 0.2586 - acc: 0.0000e+00\n",
      "Epoch 16/150\n",
      "0s - loss: 0.2611 - acc: 0.0000e+00\n",
      "Epoch 17/150\n",
      "0s - loss: 0.2649 - acc: 0.0000e+00\n",
      "Epoch 18/150\n",
      "0s - loss: 0.2483 - acc: 0.0000e+00\n",
      "Epoch 19/150\n",
      "0s - loss: 0.2523 - acc: 0.0000e+00\n",
      "Epoch 20/150\n",
      "0s - loss: 0.2507 - acc: 0.0000e+00\n",
      "Epoch 21/150\n",
      "0s - loss: 0.2416 - acc: 0.0000e+00\n",
      "Epoch 22/150\n",
      "0s - loss: 0.2299 - acc: 0.0000e+00\n",
      "Epoch 23/150\n",
      "0s - loss: 0.2024 - acc: 0.0000e+00\n",
      "Epoch 24/150\n",
      "0s - loss: 0.1941 - acc: 0.0000e+00\n",
      "Epoch 25/150\n",
      "0s - loss: 0.2113 - acc: 0.0000e+00\n",
      "Epoch 26/150\n",
      "0s - loss: 0.1575 - acc: 0.0000e+00\n",
      "Epoch 27/150\n",
      "0s - loss: 0.2142 - acc: 0.0000e+00\n",
      "Epoch 28/150\n",
      "0s - loss: 0.2087 - acc: 0.0000e+00\n",
      "Epoch 29/150\n",
      "0s - loss: 0.1857 - acc: 0.0000e+00\n",
      "Epoch 30/150\n",
      "0s - loss: 0.1678 - acc: 0.0000e+00\n",
      "Epoch 31/150\n",
      "0s - loss: 0.1589 - acc: 0.0000e+00\n",
      "Epoch 32/150\n",
      "0s - loss: 0.1751 - acc: 0.0000e+00\n",
      "Epoch 33/150\n",
      "0s - loss: 0.1545 - acc: 0.0000e+00\n",
      "Epoch 34/150\n",
      "0s - loss: 0.1764 - acc: 0.0000e+00\n",
      "Epoch 35/150\n",
      "0s - loss: 0.1505 - acc: 0.0000e+00\n",
      "Epoch 36/150\n",
      "0s - loss: 0.1529 - acc: 0.0000e+00\n",
      "Epoch 37/150\n",
      "0s - loss: 0.1557 - acc: 0.0000e+00\n",
      "Epoch 38/150\n",
      "0s - loss: 0.1876 - acc: 0.0000e+00\n",
      "Epoch 39/150\n",
      "0s - loss: 0.1943 - acc: 0.0000e+00\n",
      "Epoch 40/150\n",
      "0s - loss: 0.2009 - acc: 0.0000e+00\n",
      "Epoch 41/150\n",
      "0s - loss: 0.2038 - acc: 0.0000e+00\n",
      "Epoch 42/150\n",
      "0s - loss: 0.1875 - acc: 0.0000e+00\n",
      "Epoch 43/150\n",
      "0s - loss: 0.1832 - acc: 0.0000e+00\n",
      "Epoch 44/150\n",
      "0s - loss: 0.1618 - acc: 0.0000e+00\n",
      "Epoch 45/150\n",
      "0s - loss: 0.1607 - acc: 0.0000e+00\n",
      "Epoch 46/150\n",
      "0s - loss: 0.1402 - acc: 0.0000e+00\n",
      "Epoch 47/150\n",
      "0s - loss: 0.1535 - acc: 0.0000e+00\n",
      "Epoch 48/150\n",
      "0s - loss: 0.1474 - acc: 0.0000e+00\n",
      "Epoch 49/150\n",
      "0s - loss: 0.1456 - acc: 0.0000e+00\n",
      "Epoch 50/150\n",
      "0s - loss: 0.1390 - acc: 0.0000e+00\n",
      "Epoch 51/150\n",
      "0s - loss: 0.1379 - acc: 0.0000e+00\n",
      "Epoch 52/150\n",
      "0s - loss: 0.1162 - acc: 0.0000e+00\n",
      "Epoch 53/150\n",
      "0s - loss: 0.1169 - acc: 0.0000e+00\n",
      "Epoch 54/150\n",
      "0s - loss: 0.1007 - acc: 0.0000e+00\n",
      "Epoch 55/150\n",
      "0s - loss: 0.1370 - acc: 0.0000e+00\n",
      "Epoch 56/150\n",
      "0s - loss: 0.1463 - acc: 0.0000e+00\n",
      "Epoch 57/150\n",
      "0s - loss: 0.1454 - acc: 0.0000e+00\n",
      "Epoch 58/150\n",
      "0s - loss: 0.1589 - acc: 0.0000e+00\n",
      "Epoch 59/150\n",
      "0s - loss: 0.1368 - acc: 0.0000e+00\n",
      "Epoch 60/150\n",
      "0s - loss: 0.1359 - acc: 0.0000e+00\n",
      "Epoch 61/150\n",
      "0s - loss: 0.1425 - acc: 0.0000e+00\n",
      "Epoch 62/150\n",
      "0s - loss: 0.1398 - acc: 0.0000e+00\n",
      "Epoch 63/150\n",
      "0s - loss: 0.1305 - acc: 0.0000e+00\n",
      "Epoch 64/150\n",
      "0s - loss: 0.1366 - acc: 0.0000e+00\n",
      "Epoch 65/150\n",
      "0s - loss: 0.1331 - acc: 0.0000e+00\n",
      "Epoch 66/150\n",
      "0s - loss: 0.1367 - acc: 0.0000e+00\n",
      "Epoch 67/150\n",
      "0s - loss: 0.1375 - acc: 0.0000e+00\n",
      "Epoch 68/150\n",
      "0s - loss: 0.1423 - acc: 0.0000e+00\n",
      "Epoch 69/150\n",
      "0s - loss: 0.1353 - acc: 0.0000e+00\n",
      "Epoch 70/150\n",
      "0s - loss: 0.1340 - acc: 0.0000e+00\n",
      "Epoch 71/150\n",
      "0s - loss: 0.1521 - acc: 0.0000e+00\n",
      "Epoch 72/150\n",
      "0s - loss: 0.1354 - acc: 0.0000e+00\n",
      "Epoch 73/150\n",
      "0s - loss: 0.1310 - acc: 0.0000e+00\n",
      "Epoch 74/150\n"
     ]
    }
   ],
   "source": [
    "from sklearn.grid_search import GridSearchCV\n",
    "# model.fit(data_train, targets_train, validation_split=0.33,  nb_epoch=100, batch_size=10, \n",
    "#           callbacks=callbacks_list)\n",
    "# results = cross_val_score(model, data_train, targets_train, cv=kfold)\n",
    "epochs = 150\n",
    "learning_rate = 0.1\n",
    "decay_rate = learning_rate / epochs\n",
    "momentum = 0.8\n",
    "sgd = SGD(lr=learning_rate, momentum=momentum, decay=decay_rate, nesterov=False)\n",
    "\n",
    "data_train_s = data_train[:1000]\n",
    "targets_train_s = targets_train[:1000]\n",
    "optimizers = [sgd, 'adam', 'adagrad']\n",
    "init = ['glorot_uniform', 'normal', 'uniform']\n",
    "epochs_r = np.array([epochs])\n",
    "batches = np.array([5, 10, 20])\n",
    "param_grid = dict(optimizer=optimizers, nb_epoch=epochs_r, \n",
    "                  batch_size=batches, init=init,\n",
    "                  verbose=[1], callbacks=[callbacks_list])\n",
    "\n",
    "grid = GridSearchCV(estimator=model, param_grid=param_grid)\n",
    "grid_result = grid.fit(data_train_s, targets_train_s)\n",
    "time.sleep(0.5)"
   ]
  },
  {
   "cell_type": "code",
   "execution_count": null,
   "metadata": {
    "collapsed": true
   },
   "outputs": [],
   "source": [
    "# summarize results\n",
    "print(\"Best: %f using %s\" % (grid_result.best_score_, grid_result.best_params_))\n",
    "for params, mean_score, scores in grid_result.grid_scores_:\n",
    "print(\"%f (%f) with: %r\" % (scores.mean(), scores.std(), params))"
   ]
  },
  {
   "cell_type": "code",
   "execution_count": null,
   "metadata": {
    "collapsed": false
   },
   "outputs": [],
   "source": [
    "scores = model.evaluate(data_train, targets_train)\n",
    "print(\"\\nscore: %.2f%\" % (scores))"
   ]
  },
  {
   "cell_type": "code",
   "execution_count": null,
   "metadata": {
    "collapsed": false
   },
   "outputs": [],
   "source": [
    "scores = model.evaluate(data_test, targets_test)\n",
    "print(\"\\nscore: %.2f%\" % (scores))"
   ]
  },
  {
   "cell_type": "code",
   "execution_count": null,
   "metadata": {
    "collapsed": true
   },
   "outputs": [],
   "source": [
    "predictions = model.predict(data_test)"
   ]
  },
  {
   "cell_type": "code",
   "execution_count": null,
   "metadata": {
    "collapsed": false
   },
   "outputs": [],
   "source": [
    "print(predictions[0:100])"
   ]
  },
  {
   "cell_type": "code",
   "execution_count": null,
   "metadata": {
    "collapsed": true
   },
   "outputs": [],
   "source": []
  }
 ],
 "metadata": {
  "kernelspec": {
   "display_name": "Python 2",
   "language": "python",
   "name": "python2"
  },
  "language_info": {
   "codemirror_mode": {
    "name": "ipython",
    "version": 2
   },
   "file_extension": ".py",
   "mimetype": "text/x-python",
   "name": "python",
   "nbconvert_exporter": "python",
   "pygments_lexer": "ipython2",
   "version": "2.7.9"
  }
 },
 "nbformat": 4,
 "nbformat_minor": 0
}
