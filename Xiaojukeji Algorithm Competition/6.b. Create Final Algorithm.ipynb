{
 "cells": [
  {
   "cell_type": "code",
   "execution_count": 1,
   "metadata": {
    "collapsed": false
   },
   "outputs": [
    {
     "name": "stderr",
     "output_type": "stream",
     "text": [
      "Using TensorFlow backend.\n"
     ]
    }
   ],
   "source": [
    "import pdb\n",
    "import numpy as np\n",
    "import gcp.bigquery as bq\n",
    "import gcp.storage as storage\n",
    "from keras.callbacks import ModelCheckpoint\n",
    "from keras import backend as K\n",
    "from keras.optimizers import SGD\n",
    "import tensorflow as tf\n",
    "import h5py\n",
    "from sklearn.preprocessing import MinMaxScaler, StandardScaler\n",
    "from sklearn.pipeline import Pipeline\n",
    "from sklearn.preprocessing import OneHotEncoder\n",
    "from keras.wrappers.scikit_learn import KerasRegressor\n",
    "from keras.models import Sequential\n",
    "from keras.layers import Dense, Activation\n",
    "import time\n",
    "from sklearn.cross_validation import StratifiedKFold\n",
    "from sklearn.cross_validation import cross_val_score\n",
    "from sklearn.grid_search import GridSearchCV\n",
    "\n",
    "try:\n",
    "  import cPickle as pickle\n",
    "except:\n",
    "  import pickle\n",
    "HDF_FILENAME = 'best_model.hdf5'\n",
    "EST_FILENAME = 'final_estimator.pkl'\n",
    "\n",
    "seed = 13\n",
    "np.random.seed(seed)"
   ]
  },
  {
   "cell_type": "markdown",
   "metadata": {},
   "source": [
    "# 1. Load Data"
   ]
  },
  {
   "cell_type": "code",
   "execution_count": 2,
   "metadata": {
    "collapsed": true
   },
   "outputs": [],
   "source": [
    "# Put all categorical data first for easier implementation of One Hot Encoding.\n",
    "fields_str = \"\"\"\n",
    "gap\tday_in_week\tweather_1_slots_ago\tweather_2_slots_ago\tweather_3_slots_ago\tbusy_time\t\n",
    "tj_level1_1_slots_ago\ttj_level2_1_slots_ago\ttj_level3_1_slots_ago\ttj_level4_1_slots_ago\t\n",
    "tj_level1_2_slots_ago\ttj_level2_2_slots_ago\ttj_level3_2_slots_ago\ttj_level4_2_slots_ago\t\n",
    "tj_level1_3_slots_ago\ttj_level2_3_slots_ago\ttj_level3_3_slots_ago\ttj_level4_3_slots_ago\t\n",
    "temperature_1_slots_ago\tpm25_1_slots_ago\t\n",
    "temperature_2_slots_ago\tpm25_2_slots_ago\t\n",
    "temperature_3_slots_ago\tpm25_3_slots_ago\t\n",
    "gap_1_slots_ago\tsum_price_1_slots_ago\t\n",
    "gap_2_slots_ago\tsum_price_2_slots_ago\t\n",
    "gap_3_slots_ago\tsum_price_3_slots_ago\t\n",
    "f1\tf11\tf11_1\tf11_2\tf11_3\tf11_4\tf11_5\tf11_6\tf11_7\t\n",
    "f11_8\tf13_4\tf13_8\tf14\tf14_1\tf14_10\tf14_2\tf14_3\tf14_6\tf14_8\tf15\tf15_1\t\n",
    "f15_2\tf15_3\tf15_4\tf15_6\tf15_7\tf15_8\tf16\tf16_1\tf16_10\tf16_11\tf16_12\tf16_3\t\n",
    "f16_4\tf16_6\tf17\tf17_2\tf17_3\tf17_4\tf17_5\tf19\tf19_1\tf19_2\tf19_3\tf19_4\tf1_1\t\n",
    "f1_10\tf1_11\tf1_2\tf1_3\tf1_4\tf1_5\tf1_6\tf1_7\tf1_8\tf20\tf20_1\tf20_2\t\n",
    "f20_4\tf20_5\tf20_6\tf20_7\tf20_8\tf20_9\tf21_1\tf21_2\tf22\tf22_1\tf22_2\tf22_3\t\n",
    "f22_4\tf22_5\tf23\tf23_1\tf23_2\tf23_3\tf23_4\tf23_5\tf23_6\tf24\tf24_1\tf24_2\tf24_3\t\n",
    "f25\tf25_1\tf25_3\tf25_7\tf25_8\tf25_9\tf2_1\tf2_10\tf2_11\tf2_12\tf2_13\tf2_2\t\n",
    "f2_4\tf2_5\tf2_6\tf2_7\tf2_8\tf3_1\tf3_2\tf3_3\tf4\tf4_1\tf4_10\tf4_11\t\n",
    "f4_13\tf4_14\tf4_16\tf4_17\tf4_18\tf4_2\tf4_3\tf4_5\tf4_6\tf4_7\tf4_8\tf4_9\t\n",
    "f5\tf5_1\tf5_3\tf5_4\tf6\tf6_1\tf6_2\tf6_4\tf7\tf8\tf8_1\tf8_2\tf8_3\tf8_4\t\n",
    "f8_5\n",
    "\"\"\"\n",
    "fields = map(lambda x: x.strip(), fields_str.split('\\t'))\n",
    "features = fields[1:]\n",
    "\n",
    "# Use this instead of len(features) since this variable can change\n",
    "# e.g. when one hot encoding is used and/or new features are added.\n",
    "n_features = len(features)"
   ]
  },
  {
   "cell_type": "code",
   "execution_count": 3,
   "metadata": {
    "collapsed": true
   },
   "outputs": [],
   "source": [
    "%%sql --module q_all\n",
    "\n",
    "SELECT *, HASH(CAST(district_id AS STRING) +timeslot) AS hash_value,\n",
    "  IF(ABS(HASH(CAST(district_id AS STRING) + timeslot)) % 2 == 1, 'True', 'False')\n",
    "    AS included_in_sample, IF(timeofday_slot >= 50 AND timeofday_slot <= 53, 1, 0) AS busy_time\n",
    "FROM [datalab-projects-1331:xjk_algo_comp.gaps]\n",
    "WHERE gap > 0\n",
    "LIMIT 5000\n",
    "\n",
    "# The above query randomizes its outputs."
   ]
  },
  {
   "cell_type": "code",
   "execution_count": 4,
   "metadata": {
    "collapsed": false
   },
   "outputs": [
    {
     "name": "stdout",
     "output_type": "stream",
     "text": [
      "there are 5000 rows\n",
      "processed 0 rows\n"
     ]
    }
   ],
   "source": [
    "query = bq.Query(q_all)\n",
    "tableresult = query.results()\n",
    "\n",
    "all_data = np.zeros((tableresult.length, len(fields)))\n",
    "print 'there are {} rows'.format(tableresult.length)\n",
    "for rcounter, row in enumerate(tableresult):\n",
    "  for fcounter, field in enumerate(fields):\n",
    "    all_data[rcounter, fcounter] = row[field]\n",
    "  if rcounter % 5000 == 0:\n",
    "    print 'processed {} rows'.format(rcounter)\n",
    "all_data_original = np.copy(all_data)"
   ]
  },
  {
   "cell_type": "markdown",
   "metadata": {},
   "source": [
    "# 2. Preprocess Data\n",
    "\n",
    "Note that in the end we don't use data adjusted from Preprocessing steps, but rather including the preprocessing instances in Pipeline to be applied to original data."
   ]
  },
  {
   "cell_type": "code",
   "execution_count": 5,
   "metadata": {
    "collapsed": true
   },
   "outputs": [],
   "source": [
    "all_data = np.copy(all_data_original)"
   ]
  },
  {
   "cell_type": "markdown",
   "metadata": {},
   "source": [
    "## 2.1. Impute NaN and inf values"
   ]
  },
  {
   "cell_type": "code",
   "execution_count": 6,
   "metadata": {
    "collapsed": false
   },
   "outputs": [
    {
     "name": "stdout",
     "output_type": "stream",
     "text": [
      "Checkinf for NaN and Inf\n",
      "np.nan= (array([  25,   25,   32, ..., 4993, 4993, 4993]), array([24, 25,  6, ..., 21, 22, 23]))\n",
      "is.inf= (array([], dtype=int64), array([], dtype=int64))\n",
      "np.max= nan\n",
      "Shape of old data:\n",
      "(5000, 164)\n",
      "Stats (NaN values are replaced with following means for each feature):\n",
      "[  1.27114000e+01   2.28960000e+00   3.59600786e+00   3.47742985e+00\n",
      "   3.39274095e+00   0.00000000e+00   9.88235205e+02   2.06198723e+02\n",
      "   6.17592217e+01   4.31093433e+01   9.91365626e+02   2.09248750e+02\n",
      "   6.25887042e+01   4.35133090e+01   9.95095055e+02   2.11891096e+02\n",
      "   6.34207540e+01   4.39057560e+01   4.22648095e+00   1.54515216e+02\n",
      "   4.22963264e+00   1.52985462e+02   4.24715331e+00   1.52567067e+02\n",
      "   1.28356049e+01   1.34699639e+03   1.30353461e+01   1.36496606e+03\n",
      "   1.37977339e+01   1.39147560e+03   1.69990640e+03   7.40665440e+03\n",
      "   1.32121060e+03   3.25740140e+03   3.74164000e+03   2.21915274e+04\n",
      "   1.08867780e+03   8.22478540e+03   1.67816040e+03   2.05651258e+04\n",
      "   1.89839758e+04   2.58217980e+03   1.05512920e+03   9.94340000e+00\n",
      "   2.22954600e+02   8.22364000e+01   4.65613400e+02   5.94960600e+02\n",
      "   1.57119000e+02   4.20159280e+03   4.96174000e+01   2.93981020e+03\n",
      "   5.25355140e+03   3.06253400e+02   2.72080640e+03   1.48790780e+03\n",
      "   5.36346000e+01   5.87130380e+03   4.94846000e+01   8.29995020e+03\n",
      "   4.76949540e+03   1.66227420e+03   3.48483800e+02   3.77960420e+03\n",
      "   2.47174000e+01   1.08029480e+03   6.08575120e+03   1.94983600e+02\n",
      "   1.72806000e+03   6.40266980e+03   4.70974370e+04   1.45250000e+03\n",
      "   4.84122400e+02   2.30598402e+04   9.72926000e+02   1.73868400e+02\n",
      "   1.18773000e+02   1.48543440e+03   9.75283200e+02   3.34506600e+02\n",
      "   1.85156400e+02   6.66911640e+03   7.77212000e+01   8.75982000e+01\n",
      "   3.18861100e+03   2.41725714e+04   6.46174920e+03   3.95659340e+03\n",
      "   4.64353460e+03   2.76683820e+03   3.02933400e+02   1.02153246e+04\n",
      "   4.14277236e+04   9.04700000e+00   4.89700000e+01   9.82886000e+01\n",
      "   1.65960160e+03   4.52449600e+02   1.25104240e+03   6.52214000e+02\n",
      "   1.53191440e+03   5.20293800e+02   1.28518860e+03   2.04312800e+02\n",
      "   1.04264600e+02   3.99512200e+02   1.42029600e+02   6.08788400e+02\n",
      "   4.02500200e+02   1.06681560e+03   6.05629844e+04   3.78878400e+03\n",
      "   4.21391000e+02   1.63523280e+03   4.06368000e+01   3.71090400e+02\n",
      "   1.57550600e+03   1.14697700e+03   3.62326540e+03   1.66464800e+02\n",
      "   1.33482260e+03   2.31188200e+02   3.93358580e+03   9.87832800e+02\n",
      "   4.02226300e+03   1.53433800e+02   6.05003600e+02   1.96419500e+03\n",
      "   5.75123600e+02   2.96476000e+01   2.95415260e+03   1.04546800e+02\n",
      "   1.56455000e+02   6.74937740e+03   4.77266600e+02   2.01022680e+03\n",
      "   1.67415980e+03   1.86147420e+03   1.57500800e+03   3.18388000e+02\n",
      "   1.73748880e+03   1.62832720e+03   2.37625680e+03   8.20388600e+02\n",
      "   2.26307800e+03   4.47270400e+02   6.14166800e+02   2.34309000e+02\n",
      "   1.54736900e+03   1.60870600e+02   2.26116900e+03   1.54985900e+03\n",
      "   3.65532000e+01   7.61933360e+03   1.29549720e+03   7.11326600e+02\n",
      "   3.82397600e+02   5.98273960e+03   3.24994800e+02   1.65983400e+02\n",
      "   4.57132460e+03   2.92900360e+03   3.10146100e+03   3.25028000e+01]\n",
      "Shape of new data:\n",
      "(5000, 164)\n",
      "Checkinf for NaN and Inf\n",
      "np.nan= (array([], dtype=int64), array([], dtype=int64))\n",
      "is.inf= (array([], dtype=int64), array([], dtype=int64))\n",
      "np.max= 461563.0\n"
     ]
    }
   ],
   "source": [
    "from sklearn.preprocessing import Imputer\n",
    "# Useful code to check NaN and Inf values. This is needed since these values would\n",
    "# cause \"Input contains NaN, infinity or a value too large for dtype('float32')\n",
    "# errors when left unchecked.\n",
    "print \"Checkinf for NaN and Inf\"\n",
    "print \"np.nan=\", np.where(np.isnan(all_data))\n",
    "print \"is.inf=\", np.where(np.isinf(all_data))\n",
    "print \"np.max=\", np.max(abs(all_data))\n",
    "\n",
    "# Impute\n",
    "imputer = Imputer()\n",
    "imputer.fit(all_data)\n",
    "print 'Shape of old data:'\n",
    "print all_data.shape\n",
    "print 'Stats (NaN values are replaced with following means for each feature):'\n",
    "print imputer.statistics_\n",
    "all_data = imputer.fit_transform(all_data)\n",
    "print 'Shape of new data:'\n",
    "print all_data.shape\n",
    "\n",
    "# See that NaN and Inf values replaced\n",
    "print \"Checkinf for NaN and Inf\"\n",
    "print \"np.nan=\", np.where(np.isnan(all_data))\n",
    "print \"is.inf=\", np.where(np.isinf(all_data))\n",
    "print \"np.max=\", np.max(abs(all_data))"
   ]
  },
  {
   "cell_type": "markdown",
   "metadata": {},
   "source": [
    "## 2.2. One Hot Encoding"
   ]
  },
  {
   "cell_type": "code",
   "execution_count": 7,
   "metadata": {
    "collapsed": false
   },
   "outputs": [
    {
     "name": "stdout",
     "output_type": "stream",
     "text": [
      "n_values_:\n",
      "[ 7 10 10 10]\n",
      "feature_indices_:\n",
      "[ 0  7 17 27 37]\n",
      "new number of features: 189\n"
     ]
    }
   ],
   "source": [
    "one_hot = OneHotEncoder(categorical_features=[1, 2, 3, 4], n_values='auto')\n",
    "one_hot.fit(all_data)\n",
    "print \"n_values_:\"\n",
    "print one_hot.n_values_\n",
    "print \"feature_indices_:\"\n",
    "print one_hot.feature_indices_\n",
    "all_data = one_hot.fit_transform(all_data).todense()\n",
    "n_features = all_data.shape[1] - 1\n",
    "print 'new number of features: {}'.format(n_features)"
   ]
  },
  {
   "cell_type": "markdown",
   "metadata": {},
   "source": [
    "## 2.3. Feature Scaling"
   ]
  },
  {
   "cell_type": "code",
   "execution_count": 8,
   "metadata": {
    "collapsed": false
   },
   "outputs": [
    {
     "name": "stdout",
     "output_type": "stream",
     "text": [
      "old data:\n",
      "means: 2630.44168786, min: 0.0, max: 461563.0\n",
      "new data:\n",
      "means: -1.22063762606e-17, min: -1.94267747305, max: 20.7964022574\n"
     ]
    }
   ],
   "source": [
    "scaler = StandardScaler()\n",
    "print 'old data:'\n",
    "print 'means: {}, min: {}, max: {}'.format(np.mean(all_data), np.min(all_data), np.max(all_data))\n",
    "all_data = scaler.fit_transform(all_data)\n",
    "print 'new data:'\n",
    "print 'means: {}, min: {}, max: {}'.format(np.mean(all_data), np.min(all_data), np.max(all_data))"
   ]
  },
  {
   "cell_type": "markdown",
   "metadata": {},
   "source": [
    "# 3. Split into Train and Test Data"
   ]
  },
  {
   "cell_type": "code",
   "execution_count": 9,
   "metadata": {
    "collapsed": true
   },
   "outputs": [],
   "source": [
    "# Split the originaldata into train and test sets.\n",
    "data_size = all_data_original.shape[0]\n",
    "training_size = data_size * 90/100\n",
    "indices = np.random.permutation(data_size)\n",
    "training_idx, test_idx = indices[:training_size], indices[training_size:]\n",
    "all_data_train, all_data_test = all_data_original[training_idx,:], all_data_original[test_idx,:]\n",
    "\n",
    "data_train = all_data_train[:,1:]\n",
    "targets_train = all_data_train[:,0]\n",
    "data_test = all_data_test[:,1:]\n",
    "targets_test = all_data_test[:,0]"
   ]
  },
  {
   "cell_type": "markdown",
   "metadata": {},
   "source": [
    "# 4. Model Creation"
   ]
  },
  {
   "cell_type": "markdown",
   "metadata": {},
   "source": [
    "## 4.1. Loss Function"
   ]
  },
  {
   "cell_type": "code",
   "execution_count": 10,
   "metadata": {
    "collapsed": true
   },
   "outputs": [],
   "source": [
    "def mape(y, predictions):\n",
    "  return K.mean(K.abs(y-predictions/K.clip(K.abs(y), K.epsilon(), np.inf)), axis=-1)"
   ]
  },
  {
   "cell_type": "markdown",
   "metadata": {},
   "source": [
    "## 4.2. Create Pipeline"
   ]
  },
  {
   "cell_type": "code",
   "execution_count": null,
   "metadata": {
    "collapsed": false
   },
   "outputs": [],
   "source": [
    "def create_model(optimizer='adagrad', init='uniform'):\n",
    "  model = Sequential()\n",
    "  model.add(Dense(n_features, input_dim=n_features, init=init, activation='relu'))\n",
    "  model.add(Dense(floor(n_features/2), init=init, activation='relu'))\n",
    "  model.add(Dense(floor(n_features/4), init=init, activation='relu'))\n",
    "  model.add(Dense(1))\n",
    "  model.compile(loss=mape, optimizer=optimizer)\n",
    "  return model\n",
    "\n",
    "model = KerasRegressor(build_fn=create_model, nb_epoch=20, batch_size=10, verbose=2)\n",
    "\n",
    "steps = [\n",
    "  ('impute', Imputer()),\n",
    "  # Remember that gap, the first variable, is removed, thus categorical_features\n",
    "  # should start at index 0.\n",
    "  ('one_hot', OneHotEncoder(categorical_features=[0, 1, 2, 3], sparse=False)),\n",
    "  ('scale', StandardScaler()),\n",
    "#   ('pca', PCA(n_components=120)),\n",
    "  ('estimate', model)\n",
    "]\n",
    "final_est = Pipeline(steps)\n",
    "\n",
    "# kfold = StratifiedKFold(y=targets_train, n_folds=10, shuffle=True, random_state=seed)"
   ]
  },
  {
   "cell_type": "markdown",
   "metadata": {},
   "source": [
    "## 4.3. Grid Search to Find Best Hyperparameters\n",
    "\n",
    "Use subset of training data in grid search just to find what hyperparameters are best for this project. Specifically we want to find the best optimizer, initializer, and batch size. Topology of the model will be adjusted in crossvalidation step."
   ]
  },
  {
   "cell_type": "code",
   "execution_count": null,
   "metadata": {
    "collapsed": false
   },
   "outputs": [
    {
     "name": "stdout",
     "output_type": "stream",
     "text": [
      "4s - loss: 7.9120 - acc: 0.2883\n",
      "Epoch 55/150\n",
      "4s - loss: 7.7324 - acc: 0.3033\n",
      "Epoch 56/150\n",
      "4s - loss: 7.6429 - acc: 0.3168\n",
      "Epoch 57/150\n",
      "4s - loss: 7.9079 - acc: 0.3018\n",
      "Epoch 58/150\n",
      "4s - loss: 7.7146 - acc: 0.3228\n",
      "Epoch 59/150\n",
      "4s - loss: 7.7544 - acc: 0.3048\n",
      "Epoch 60/150\n",
      "4s - loss: 7.7643 - acc: 0.3063\n",
      "Epoch 61/150\n",
      "4s - loss: 7.6073 - acc: 0.3108\n",
      "Epoch 62/150\n",
      "4s - loss: 7.6058 - acc: 0.3123\n",
      "Epoch 63/150\n",
      "4s - loss: 7.0991 - acc: 0.3048\n",
      "Epoch 64/150\n",
      "4s - loss: 7.5459 - acc: 0.3048\n",
      "Epoch 65/150\n",
      "4s - loss: 7.2160 - acc: 0.3093\n",
      "Epoch 66/150\n",
      "4s - loss: 7.1942 - acc: 0.3048\n",
      "Epoch 67/150\n",
      "4s - loss: 7.0418 - acc: 0.3108\n",
      "Epoch 68/150\n",
      "4s - loss: 7.3093 - acc: 0.3108\n",
      "Epoch 69/150\n",
      "4s - loss: 7.2454 - acc: 0.3123\n",
      "Epoch 70/150\n",
      "4s - loss: 7.8120 - acc: 0.3033\n",
      "Epoch 71/150\n",
      "4s - loss: 7.2556 - acc: 0.3093\n",
      "Epoch 72/150\n",
      "4s - loss: 7.1381 - acc: 0.3063\n",
      "Epoch 73/150\n",
      "4s - loss: 7.6899 - acc: 0.3063\n",
      "Epoch 74/150\n",
      "4s - loss: 7.6946 - acc: 0.2973\n",
      "Epoch 75/150\n",
      "4s - loss: 6.9366 - acc: 0.3003\n",
      "Epoch 76/150\n",
      "4s - loss: 6.8835 - acc: 0.3168\n",
      "Epoch 77/150\n",
      "4s - loss: 6.8687 - acc: 0.3078\n",
      "Epoch 78/150\n",
      "4s - loss: 6.5687 - acc: 0.3033\n",
      "Epoch 79/150\n",
      "4s - loss: 7.2157 - acc: 0.3123\n",
      "Epoch 80/150\n",
      "4s - loss: 6.7507 - acc: 0.3108\n",
      "Epoch 81/150\n",
      "4s - loss: 6.3214 - acc: 0.2988\n",
      "Epoch 82/150\n",
      "4s - loss: 6.7310 - acc: 0.3018\n",
      "Epoch 83/150\n",
      "4s - loss: 6.4721 - acc: 0.3108\n",
      "Epoch 84/150\n",
      "4s - loss: 6.3478 - acc: 0.3048\n",
      "Epoch 85/150\n",
      "4s - loss: 6.2152 - acc: 0.3063\n",
      "Epoch 86/150\n",
      "4s - loss: 6.2566 - acc: 0.3063\n",
      "Epoch 87/150\n",
      "4s - loss: 6.2270 - acc: 0.3003\n",
      "Epoch 88/150\n",
      "4s - loss: 6.2655 - acc: 0.3078\n",
      "Epoch 89/150\n",
      "4s - loss: 5.9642 - acc: 0.3108\n",
      "Epoch 90/150\n",
      "4s - loss: 5.7386 - acc: 0.3093\n",
      "Epoch 91/150\n",
      "4s - loss: 5.6870 - acc: 0.3153\n",
      "Epoch 92/150\n",
      "4s - loss: 6.1221 - acc: 0.3033\n",
      "Epoch 93/150\n",
      "4s - loss: 5.6939 - acc: 0.3033\n",
      "Epoch 94/150\n",
      "4s - loss: 5.7960 - acc: 0.3093\n",
      "Epoch 95/150\n",
      "4s - loss: 5.6721 - acc: 0.3138\n",
      "Epoch 96/150\n",
      "4s - loss: 5.4999 - acc: 0.2973\n",
      "Epoch 97/150\n",
      "4s - loss: 5.2208 - acc: 0.2988\n",
      "Epoch 98/150\n",
      "4s - loss: 5.9999 - acc: 0.3093\n",
      "Epoch 99/150\n",
      "4s - loss: 4.9903 - acc: 0.3168\n",
      "Epoch 100/150\n",
      "4s - loss: 4.8259 - acc: 0.3108\n",
      "Epoch 101/150\n",
      "4s - loss: 5.7772 - acc: 0.3138\n",
      "Epoch 102/150\n",
      "4s - loss: 5.9331 - acc: 0.2973\n",
      "Epoch 103/150\n",
      "4s - loss: 5.0554 - acc: 0.3048\n",
      "Epoch 104/150\n",
      "4s - loss: 5.1402 - acc: 0.3063\n",
      "Epoch 105/150\n",
      "4s - loss: 4.6158 - acc: 0.3003\n",
      "Epoch 106/150\n",
      "4s - loss: 5.8503 - acc: 0.3048\n",
      "Epoch 107/150\n",
      "4s - loss: 4.7604 - acc: 0.3003\n",
      "Epoch 108/150\n",
      "4s - loss: 5.2224 - acc: 0.3033\n",
      "Epoch 109/150\n",
      "4s - loss: 4.7946 - acc: 0.3138\n",
      "Epoch 110/150\n"
     ]
    }
   ],
   "source": [
    "# model.fit(data_train, targets_train, validation_split=0.33,  nb_epoch=100, batch_size=10, \n",
    "#           callbacks=callbacks_list)\n",
    "# results = cross_val_score(model, data_train, targets_train, cv=kfold)\n",
    "\n",
    "checkpoint = ModelCheckpoint(HDF_FILENAME, monitor='loss', save_best_only=True, mode='min')\n",
    "callbacks_list = [checkpoint]\n",
    "\n",
    "epochs = 150\n",
    "learning_rate = 0.1\n",
    "decay_rate = learning_rate / epochs\n",
    "momentum = 0.8\n",
    "sgd = SGD(lr=learning_rate, momentum=momentum, decay=decay_rate, nesterov=False)\n",
    "\n",
    "data_train_s = data_train[:1000]\n",
    "targets_train_s = targets_train[:1000]\n",
    "optimizers = [sgd, 'adam', 'adagrad']\n",
    "init = ['glorot_uniform', 'normal', 'uniform']\n",
    "epochs_r = np.array([epochs])\n",
    "batches = np.array([5, 10, 20])\n",
    "param_grid = {\n",
    "  'estimate__optimizer': optimizers,\n",
    "  'estimate__nb_epoch': epochs_r, \n",
    "  'estimate__batch_size': batches,\n",
    "  'estimate__init': init,\n",
    "  'estimate__callbacks': [callbacks_list]\n",
    "}\n",
    "\n",
    "grid = GridSearchCV(estimator=final_est, param_grid=param_grid, cv=10)\n",
    "grid_result = grid.fit(data_train_s, targets_train_s)\n",
    "time.sleep(0.5)"
   ]
  },
  {
   "cell_type": "code",
   "execution_count": null,
   "metadata": {
    "collapsed": true
   },
   "outputs": [],
   "source": [
    "# summarize results\n",
    "print(\"Best: %f using %s\" % (grid_result.best_score_, grid_result.best_params_))\n",
    "for params, mean_score, scores in grid_result.grid_scores_:\n",
    "print(\"%f (%f) with: %r\" % (scores.mean(), scores.std(), params))"
   ]
  },
  {
   "cell_type": "code",
   "execution_count": null,
   "metadata": {
    "collapsed": false
   },
   "outputs": [],
   "source": [
    "scores = model.evaluate(data_train, targets_train)\n",
    "print(\"\\nscore: %.2f%\" % (scores))"
   ]
  },
  {
   "cell_type": "code",
   "execution_count": null,
   "metadata": {
    "collapsed": false
   },
   "outputs": [],
   "source": [
    "scores = model.evaluate(data_test, targets_test)\n",
    "print(\"\\nscore: %.2f%\" % (scores))"
   ]
  },
  {
   "cell_type": "markdown",
   "metadata": {},
   "source": [
    "## 4.4. Crossvalidation\n",
    "\n",
    "Use entire training data for cross validation. Resulting model from here will be the final model."
   ]
  },
  {
   "cell_type": "code",
   "execution_count": null,
   "metadata": {
    "collapsed": true
   },
   "outputs": [],
   "source": [
    "def create_final_model(optimizer='adagrad', init='uniform'):\n",
    "  final_model = Sequential()\n",
    "  final_model.add(Dense(n_features, input_dim=n_features, init=init, activation='relu'))\n",
    "  final_model.add(Dense(floor(n_features/2), init=init, activation='relu'))\n",
    "  final_model.add(Dense(floor(n_features/4), init=init, activation='relu'))\n",
    "  final_model.add(Dense(1))\n",
    "  final_model.compile(loss=mape, optimizer=optimizer)\n",
    "\n",
    "history = model.fit(X, Y, validation_split=0.33, nb_epoch=150, batch_size=10, verbose=0)\n",
    "\n",
    "kfold = KFold(n=len(data_train), n_folds=10, random_state=seed)\n",
    "results = cross_val_score(estimator, data_train, targets_train, cv=kfold)\n",
    "print(\"Results: %.2f (%.2f) MSE\" % (results.mean(), results.std()))"
   ]
  },
  {
   "cell_type": "code",
   "execution_count": null,
   "metadata": {
    "collapsed": true
   },
   "outputs": [],
   "source": [
    "predictions = model.predict(data_test)"
   ]
  },
  {
   "cell_type": "code",
   "execution_count": null,
   "metadata": {
    "collapsed": false
   },
   "outputs": [],
   "source": [
    "print(predictions[0:100])"
   ]
  },
  {
   "cell_type": "markdown",
   "metadata": {},
   "source": [
    "# Store Model to File"
   ]
  },
  {
   "cell_type": "code",
   "execution_count": null,
   "metadata": {
    "collapsed": true
   },
   "outputs": [],
   "source": [
    "model_json = model.to_json()\n",
    "with open(\"final_model.json\", \"w\") as json_file:\n",
    "  json_file.write(model_json)\n",
    "  \n",
    "# serialize weights to HDF5\n",
    "model.save_weights(\"final_model.h5\")\n",
    "print(\"Saved model to disk\")"
   ]
  },
  {
   "cell_type": "code",
   "execution_count": null,
   "metadata": {
    "collapsed": true
   },
   "outputs": [],
   "source": [
    "from keras.models import model_from_json\n",
    "json_file = open('model.json', 'r')\n",
    "loaded_model_json = json_file.read()\n",
    "json_file.close()\n",
    "loaded_model = model_from_json(loaded_model_json)\n",
    "# load weights into new model\n",
    "loaded_model.load_weights(\"model.h5\")\n",
    "print(\"Loaded model from disk\")\n",
    "\n",
    "# evaluate loaded model on test data\n",
    "loaded_model.compile(loss=mape, optimizer='adam')\n",
    "score = loaded_model.evaluate(X, Y, verbose=0)\n",
    "print \"%s: %.2f%%\" % (loaded_model.metrics_names[1], score[1]*100)\n"
   ]
  }
 ],
 "metadata": {
  "kernelspec": {
   "display_name": "Python 2",
   "language": "python",
   "name": "python2"
  },
  "language_info": {
   "codemirror_mode": {
    "name": "ipython",
    "version": 2
   },
   "file_extension": ".py",
   "mimetype": "text/x-python",
   "name": "python",
   "nbconvert_exporter": "python",
   "pygments_lexer": "ipython2",
   "version": "2.7.9"
  }
 },
 "nbformat": 4,
 "nbformat_minor": 0
}
