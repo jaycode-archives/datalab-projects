{
 "cells": [
  {
   "cell_type": "code",
   "execution_count": 83,
   "metadata": {
    "collapsed": true
   },
   "outputs": [],
   "source": [
    "import numpy as np\n",
    "import pdb\n",
    "from gcp import bigquery as bq"
   ]
  },
  {
   "cell_type": "code",
   "execution_count": 80,
   "metadata": {
    "collapsed": false
   },
   "outputs": [],
   "source": [
    "def mape(X, predictions, y):\n",
    "  num_timeslots = 43\n",
    "  num_districts = 66\n",
    "  if len(y.shape) == 1:\n",
    "    y = np.asmatrix(y)\n",
    "  if len(predictions.shape) == 1:\n",
    "    predictions = np.asmatrix(predictions)\n",
    "  Xy = np.concatenate((X, y.T, predictions.T), axis=1)\n",
    "  districts = np.unique(X[:,0])\n",
    "  district_scores = np.zeros(len(districts))\n",
    "  for key in districts:\n",
    "    group = np.compress((Xy[:,0] == key).flat, Xy, axis=0)\n",
    "    district_scores[len(district_scores)-1] = np.sum(\n",
    "        (group[:,-2] -\n",
    "         group[:,-1])/\n",
    "        group[:,-2]\n",
    "      ) / num_timeslots\n",
    "  return np.sum(district_scores) / num_districts\n",
    "\n",
    "def mape_scorer(estimator, X, y):\n",
    "  estimator.fit(X)\n",
    "  predictions = estimator.predict(X)\n",
    "  return mape(X, predictions, y)"
   ]
  },
  {
   "cell_type": "markdown",
   "metadata": {},
   "source": [
    "Testing MAPE"
   ]
  },
  {
   "cell_type": "code",
   "execution_count": 81,
   "metadata": {
    "collapsed": false
   },
   "outputs": [
    {
     "data": {
      "text/plain": [
       "0.0"
      ]
     },
     "execution_count": 81,
     "metadata": {},
     "output_type": "execute_result"
    }
   ],
   "source": [
    "from sklearn.linear_model import LogisticRegression\n",
    "\n",
    "est = LogisticRegression()\n",
    "X = np.array([[1, 1], [1, 2], [2, 3], [2, 4]])\n",
    "predictions = np.array([1, 2, 3, 4])\n",
    "y = np.array([1, 2, 3, 4])\n",
    "\n",
    "# Should return 0.0\n",
    "mape(X, predictions, y)"
   ]
  },
  {
   "cell_type": "code",
   "execution_count": 84,
   "metadata": {
    "collapsed": true
   },
   "outputs": [],
   "source": [
    "%%sql --module q_all\n",
    "\n",
    "SELECT *, HASH(CAST(district_id AS STRING) +timeslot) AS hash_value,\n",
    "  IF(ABS(HASH(CAST(district_id AS STRING) + timeslot)) % 2 == 1, 'True', 'False')\n",
    "    AS included_in_sample\n",
    "FROM [datalab-projects-1331:xjk_algo_comp.gaps_processed]\n",
    "WHERE gap > 0"
   ]
  },
  {
   "cell_type": "code",
   "execution_count": 86,
   "metadata": {
    "collapsed": false
   },
   "outputs": [],
   "source": [
    "query = bq.Query(q_all)\n",
    "tableresult = query.results()"
   ]
  },
  {
   "cell_type": "code",
   "execution_count": null,
   "metadata": {
    "collapsed": true
   },
   "outputs": [],
   "source": [
    "features = ['timeofday_slot', 'day_in_week']"
   ]
  },
  {
   "cell_type": "code",
   "execution_count": 87,
   "metadata": {
    "collapsed": false
   },
   "outputs": [
    {
     "data": {
      "text/plain": [
       "{u'avg_price': 3.027027027027027,\n",
       " u'date': u'2016-01-01',\n",
       " u'day_in_week': 5,\n",
       " u'district_id': 51,\n",
       " u'f0_': 10790,\n",
       " u'f100_': 0,\n",
       " u'f101_': 0,\n",
       " u'f102_': 1162,\n",
       " u'f103_': 1743,\n",
       " u'f104_': 1992,\n",
       " u'f105_': 1660,\n",
       " u'f106_': 1079,\n",
       " u'f107_': 415,\n",
       " u'f108_': 0,\n",
       " u'f109_': 13612,\n",
       " u'f10_': 19920,\n",
       " u'f110_': 1992,\n",
       " u'f111_': 1826,\n",
       " u'f112_': 3735,\n",
       " u'f113_': 1245,\n",
       " u'f114_': 3818,\n",
       " u'f115_': 6391,\n",
       " u'f116_': 3486,\n",
       " u'f117_': 461563,\n",
       " u'f118_': 27888,\n",
       " u'f119_': 747,\n",
       " u'f11_': 166,\n",
       " u'f120_': 15272,\n",
       " u'f121_': 332,\n",
       " u'f122_': 1079,\n",
       " u'f123_': 3818,\n",
       " u'f124_': 415,\n",
       " u'f125_': 664,\n",
       " u'f126_': 2324,\n",
       " u'f127_': 7055,\n",
       " u'f128_': 12201,\n",
       " u'f129_': 17679,\n",
       " u'f12_': 0,\n",
       " u'f130_': 83,\n",
       " u'f131_': 249,\n",
       " u'f132_': 664,\n",
       " u'f133_': 664,\n",
       " u'f134_': 0,\n",
       " u'f135_': 0,\n",
       " u'f136_': 44903,\n",
       " u'f137_': 1909,\n",
       " u'f138_': 12367,\n",
       " u'f139_': 8051,\n",
       " u'f13_': 42496,\n",
       " u'f140_': 498,\n",
       " u'f141_': 7885,\n",
       " u'f142_': 6557,\n",
       " u'f143_': 0,\n",
       " u'f144_': 1577,\n",
       " u'f145_': 14027,\n",
       " u'f146_': 7221,\n",
       " u'f147_': 11371,\n",
       " u'f148_': 2822,\n",
       " u'f149_': 332,\n",
       " u'f14_': 11537,\n",
       " u'f150_': 16102,\n",
       " u'f151_': 1079,\n",
       " u'f152_': 6225,\n",
       " u'f153_': 1079,\n",
       " u'f154_': 8798,\n",
       " u'f155_': 747,\n",
       " u'f156_': 10873,\n",
       " u'f157_': 0,\n",
       " u'f158_': 10292,\n",
       " u'f159_': 0,\n",
       " u'f15_': 28967,\n",
       " u'f160_': 36437,\n",
       " u'f161_': 13529,\n",
       " u'f162_': 5063,\n",
       " u'f163_': 1577,\n",
       " u'f164_': 4399,\n",
       " u'f165_': 34860,\n",
       " u'f166_': 0,\n",
       " u'f167_': 166,\n",
       " u'f168_': 0,\n",
       " u'f169_': 3818,\n",
       " u'f16_': 32287,\n",
       " u'f170_': 1245,\n",
       " u'f171_': 28718,\n",
       " u'f172_': 33781,\n",
       " u'f173_': 23489,\n",
       " u'f174_': 166,\n",
       " u'f175_': 0,\n",
       " u'f17_': 132302,\n",
       " u'f18_': 8300,\n",
       " u'f19_': 58847,\n",
       " u'f1_': 1079,\n",
       " u'f20_': 6889,\n",
       " u'f21_': 98355,\n",
       " u'f22_': 0,\n",
       " u'f23_': 0,\n",
       " u'f24_': 83,\n",
       " u'f25_': 0,\n",
       " u'f26_': 162597,\n",
       " u'f27_': 83,\n",
       " u'f28_': 581,\n",
       " u'f29_': 83,\n",
       " u'f2_': 332,\n",
       " u'f30_': 25730,\n",
       " u'f31_': 13446,\n",
       " u'f32_': 0,\n",
       " u'f33_': 747,\n",
       " u'f34_': 498,\n",
       " u'f35_': 3818,\n",
       " u'f36_': 0,\n",
       " u'f37_': 0,\n",
       " u'f38_': 4150,\n",
       " u'f39_': 12699,\n",
       " u'f3_': 5395,\n",
       " u'f40_': 2075,\n",
       " u'f41_': 2739,\n",
       " u'f42_': 28801,\n",
       " u'f43_': 249,\n",
       " u'f44_': 30793,\n",
       " u'f45_': 47144,\n",
       " u'f46_': 2407,\n",
       " u'f47_': 249,\n",
       " u'f48_': 18924,\n",
       " u'f49_': 12616,\n",
       " u'f4_': 6557,\n",
       " u'f50_': 332,\n",
       " u'f51_': 46397,\n",
       " u'f52_': 249,\n",
       " u'f53_': 61669,\n",
       " u'f54_': 26477,\n",
       " u'f55_': 2988,\n",
       " u'f56_': 332,\n",
       " u'f57_': 498,\n",
       " u'f58_': 12782,\n",
       " u'f59_': 0,\n",
       " u'f5_': 2988,\n",
       " u'f60_': 249,\n",
       " u'f61_': 0,\n",
       " u'f62_': 0,\n",
       " u'f63_': 415,\n",
       " u'f64_': 6059,\n",
       " u'f65_': 913,\n",
       " u'f66_': 34030,\n",
       " u'f67_': 1826,\n",
       " u'f68_': 14857,\n",
       " u'f69_': 47725,\n",
       " u'f6_': 1411,\n",
       " u'f70_': 83,\n",
       " u'f71_': 301622,\n",
       " u'f72_': 1660,\n",
       " u'f73_': 1992,\n",
       " u'f74_': 196793,\n",
       " u'f75_': 664,\n",
       " u'f76_': 581,\n",
       " u'f77_': 4150,\n",
       " u'f78_': 996,\n",
       " u'f79_': 16600,\n",
       " u'f7_': 36686,\n",
       " u'f80_': 1826,\n",
       " u'f81_': 21746,\n",
       " u'f82_': 1577,\n",
       " u'f83_': 581,\n",
       " u'f84_': 2988,\n",
       " u'f85_': 12699,\n",
       " u'f86_': 2656,\n",
       " u'f87_': 249,\n",
       " u'f88_': 0,\n",
       " u'f89_': 197125,\n",
       " u'f8_': 0,\n",
       " u'f90_': 21497,\n",
       " u'f91_': 26311,\n",
       " u'f92_': 0,\n",
       " u'f93_': 15272,\n",
       " u'f94_': 12948,\n",
       " u'f95_': 2822,\n",
       " u'f96_': 29133,\n",
       " u'f97_': 373002,\n",
       " u'f98_': 0,\n",
       " u'f99_': 83,\n",
       " u'f9_': 747,\n",
       " u'gap': 2947,\n",
       " u'hash_value': -934597364669815967,\n",
       " u'included_in_sample': u'True',\n",
       " u'sum_price': 10192.0,\n",
       " u'timeofday_slot': 10,\n",
       " u'timeslot': u'2016-01-01-10',\n",
       " u'traffic_tj_level1': 3813,\n",
       " u'traffic_tj_level2': 956,\n",
       " u'traffic_tj_level3': 237,\n",
       " u'traffic_tj_level4': 178,\n",
       " u'weather': 1,\n",
       " u'weather_pm25': 177.0,\n",
       " u'weather_temperature': 3.0}"
      ]
     },
     "execution_count": 87,
     "metadata": {},
     "output_type": "execute_result"
    }
   ],
   "source": [
    "tableresult[0]"
   ]
  },
  {
   "cell_type": "code",
   "execution_count": null,
   "metadata": {
    "collapsed": true
   },
   "outputs": [],
   "source": []
  }
 ],
 "metadata": {
  "kernelspec": {
   "display_name": "Python 2",
   "language": "python",
   "name": "python2"
  },
  "language_info": {
   "codemirror_mode": {
    "name": "ipython",
    "version": 2
   },
   "file_extension": ".py",
   "mimetype": "text/x-python",
   "name": "python",
   "nbconvert_exporter": "python",
   "pygments_lexer": "ipython2",
   "version": "2.7.9"
  }
 },
 "nbformat": 4,
 "nbformat_minor": 0
}
