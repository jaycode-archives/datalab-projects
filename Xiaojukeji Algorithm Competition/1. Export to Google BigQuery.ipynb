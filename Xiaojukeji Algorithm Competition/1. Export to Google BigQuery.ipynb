{
 "cells": [
  {
   "cell_type": "markdown",
   "metadata": {},
   "source": [
    "Most work disappeared so there you go."
   ]
  },
  {
   "cell_type": "code",
   "execution_count": 1,
   "metadata": {
    "collapsed": true
   },
   "outputs": [],
   "source": [
    "import gcp\n",
    "from cStringIO import StringIO\n",
    "import gzip\n",
    "import os\n",
    "\n",
    "import pandas as pd\n",
    "import numpy as np\n",
    "import matplotlib.pyplot as plt\n",
    "import tensorflow as tf"
   ]
  },
  {
   "cell_type": "code",
   "execution_count": 2,
   "metadata": {
    "collapsed": false
   },
   "outputs": [
    {
     "name": "stdout",
     "output_type": "stream",
     "text": [
      "Bucket: gs://datalab-projects-1331-datalab/data\n",
      "Object: gs://datalab-projects-1331-datalab/data/citydata.tar.gz\n"
     ]
    }
   ],
   "source": [
    "# Import zip file from Google Cloud Storage\n",
    "project = gcp.Context.default().project_id\n",
    "# project = 'datalab-dot-alien-oarlock-130015'\n",
    "bucket_name = project + '-datalab'\n",
    "bucket_path = 'gs://' + bucket_name + '/data'\n",
    "bucket_object = bucket_path + '/citydata.tar.gz'\n",
    "print 'Bucket: ' + bucket_path\n",
    "print 'Object: ' + bucket_object"
   ]
  },
  {
   "cell_type": "code",
   "execution_count": 3,
   "metadata": {
    "collapsed": false
   },
   "outputs": [],
   "source": [
    "%%storage read --object $bucket_object --variable compressed_file"
   ]
  },
  {
   "cell_type": "code",
   "execution_count": null,
   "metadata": {
    "collapsed": false
   },
   "outputs": [],
   "source": [
    "del compressed_file"
   ]
  },
  {
   "cell_type": "code",
   "execution_count": null,
   "metadata": {
    "collapsed": true
   },
   "outputs": [],
   "source": [
    "# Downloading and extracting the files from cloud storage.\n",
    "\n",
    "def process_datafile(localpath, storagepath, table):\n",
    "  tar_filename = 'citydata.tar'\n",
    "  datadir = 'season_1'\n",
    "  # If data has not been extracted, extract it.\n",
    "  if not os.path.isdir(datadir):\n",
    "    # If citydata.tar has not been downloaded, download it\n",
    "    if not os.path.isfile(tar_filename):\n",
    "      gzip_file = gzip.GzipFile(fileobj=StringIO(compressed_file))\n",
    "\n",
    "      import shutil\n",
    "      with open(tar_filename, 'wb') as f_out:\n",
    "        shutil.copyfileobj(gzip_file, f_out)\n",
    "\n",
    "    import tarfile\n",
    "    tar = tarfile.open(tar_filename, \"r\")\n",
    "    tar.extractall()\n",
    "    tar.close()\n",
    "    os.remove(tar_filename)\n",
    "\n",
    "  # Upload extracted file into GCS\n",
    "  \n",
    "  # Load data into Google BigQuery\n"
   ]
  },
  {
   "cell_type": "markdown",
   "metadata": {},
   "source": [
    "# Process Test Data"
   ]
  },
  {
   "cell_type": "code",
   "execution_count": null,
   "metadata": {
    "collapsed": true
   },
   "outputs": [],
   "source": [
    "table = bq.Table('datalab-projects-1331:xjk_algo_comp.gaps_processed')"
   ]
  }
 ],
 "metadata": {
  "kernelspec": {
   "display_name": "Python 2",
   "language": "python",
   "name": "python2"
  },
  "language_info": {
   "codemirror_mode": {
    "name": "ipython",
    "version": 2
   },
   "file_extension": ".py",
   "mimetype": "text/x-python",
   "name": "python",
   "nbconvert_exporter": "python",
   "pygments_lexer": "ipython2",
   "version": "2.7.9"
  }
 },
 "nbformat": 4,
 "nbformat_minor": 0
}
