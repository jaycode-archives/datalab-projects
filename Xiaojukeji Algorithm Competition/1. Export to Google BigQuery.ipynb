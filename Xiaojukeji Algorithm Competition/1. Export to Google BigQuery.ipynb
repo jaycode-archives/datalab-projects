{
 "cells": [
  {
   "cell_type": "markdown",
   "metadata": {},
   "source": [
    "Most work disappeared so there you go."
   ]
  },
  {
   "cell_type": "code",
   "execution_count": 2,
   "metadata": {
    "collapsed": true
   },
   "outputs": [],
   "source": [
    "from cStringIO import StringIO\n",
    "import gzip\n",
    "import os\n",
    "\n",
    "import gcp\n",
    "from gcp import storage\n",
    "from gcp import bigquery as bq"
   ]
  },
  {
   "cell_type": "code",
   "execution_count": 3,
   "metadata": {
    "collapsed": false
   },
   "outputs": [
    {
     "name": "stdout",
     "output_type": "stream",
     "text": [
      "Bucket: gs://datalab-projects-1331-datalab/data\n",
      "Object: gs://datalab-projects-1331-datalab/data/citydata.tar.gz\n"
     ]
    }
   ],
   "source": [
    "# Import zip file from Google Cloud Storage\n",
    "project = gcp.Context.default().project_id\n",
    "# project = 'datalab-dot-alien-oarlock-130015'\n",
    "bucket_name = project + '-datalab'\n",
    "bucket_path = 'gs://' + bucket_name + '/data'\n",
    "print 'Bucket: ' + bucket_path\n",
    "print 'Object: ' + bucket_object"
   ]
  },
  {
   "cell_type": "code",
   "execution_count": null,
   "metadata": {
    "collapsed": false
   },
   "outputs": [],
   "source": [
    "del compressed_file"
   ]
  },
  {
   "cell_type": "code",
   "execution_count": 4,
   "metadata": {
    "collapsed": true
   },
   "outputs": [],
   "source": [
    "# Downloading and extracting the files from cloud storage.\n",
    "\n",
    "def process_datafile(localpath, storagepath, table):\n",
    "  gzip_filename = 'citydata.tar.gz'\n",
    "  tar_filename = 'citydata.tar'\n",
    "  datadir = 'season_1'\n",
    "  # If data has not been extracted, extract it.\n",
    "  if not os.path.isdir(datadir):\n",
    "    # If citydata.tar has not been downloaded, download it\n",
    "    if not os.path.isfile(tar_filename):\n",
    "      \n",
    "      bucket_object = '/'.join(storagepath.split('/')[:3]) + '/citydata.tar.gz'\n",
    "      %storage read --object $bucket_object --variable compressed_file\n",
    "      \n",
    "      gzip_file = gzip.GzipFile(fileobj=StringIO(compressed_file))\n",
    "\n",
    "      import shutil\n",
    "      with open(tar_filename, 'wb') as f_out:\n",
    "        shutil.copyfileobj(gzip_file, f_out)\n",
    "\n",
    "    import tarfile\n",
    "    tar = tarfile.open(tar_filename, \"r\")\n",
    "    tar.extractall()\n",
    "    tar.close()\n",
    "    os.remove(tar_filename)\n",
    "\n",
    "  # Upload extracted file into GCS\n",
    "  bucketname = storagepath.split('/')[2]\n",
    "  itempath = '/'.join(storagepath.split('/')[3:])\n",
    "  item = storage.Item(bucketname, itempath)\n",
    "  if not item.exists():\n",
    "    f = open(localpath, 'rb')\n",
    "    item.write_to(f.read())\n",
    "    f.close()\n",
    "  # Load data into Google BigQuery\n",
    "  table.load(storagepath, mode='write', csv_options=gcp.CSVOptions(field_delimiter='\\t'))\n",
    "  "
   ]
  },
  {
   "cell_type": "markdown",
   "metadata": {},
   "source": [
    "# Process Test Data"
   ]
  },
  {
   "cell_type": "code",
   "execution_count": 5,
   "metadata": {
    "collapsed": false
   },
   "outputs": [
    {
     "ename": "NameError",
     "evalue": "global name 'compressed_file' is not defined",
     "output_type": "error",
     "traceback": [
      "\u001b[1;31m\u001b[0m",
      "\u001b[1;31mNameError\u001b[0mTraceback (most recent call last)",
      "\u001b[1;32m<ipython-input-5-8e1e4d119030>\u001b[0m in \u001b[0;36m<module>\u001b[1;34m()\u001b[0m\n\u001b[0;32m      2\u001b[0m \u001b[0mlocalpath\u001b[0m \u001b[1;33m=\u001b[0m \u001b[1;34m'season_1/test_1/cluster_map/cluster_map'\u001b[0m\u001b[1;33m\u001b[0m\u001b[0m\n\u001b[0;32m      3\u001b[0m \u001b[0mstoragepath\u001b[0m \u001b[1;33m=\u001b[0m \u001b[0mos\u001b[0m\u001b[1;33m.\u001b[0m\u001b[0mpath\u001b[0m\u001b[1;33m.\u001b[0m\u001b[0mjoin\u001b[0m\u001b[1;33m(\u001b[0m\u001b[0mbucket_path\u001b[0m\u001b[1;33m,\u001b[0m\u001b[0mlocalpath\u001b[0m\u001b[1;33m)\u001b[0m\u001b[1;33m\u001b[0m\u001b[0m\n\u001b[1;32m----> 4\u001b[1;33m \u001b[0mprocess_datafile\u001b[0m\u001b[1;33m(\u001b[0m\u001b[0mlocalpath\u001b[0m\u001b[1;33m,\u001b[0m \u001b[0mstoragepath\u001b[0m\u001b[1;33m,\u001b[0m \u001b[0mtable\u001b[0m\u001b[1;33m)\u001b[0m\u001b[1;33m\u001b[0m\u001b[0m\n\u001b[0m",
      "\u001b[1;32m<ipython-input-4-9f97f9b8bc29>\u001b[0m in \u001b[0;36mprocess_datafile\u001b[1;34m(localpath, storagepath, table)\u001b[0m\n\u001b[0;32m      8\u001b[0m     \u001b[1;31m# If citydata.tar has not been downloaded, download it\u001b[0m\u001b[1;33m\u001b[0m\u001b[1;33m\u001b[0m\u001b[0m\n\u001b[0;32m      9\u001b[0m     \u001b[1;32mif\u001b[0m \u001b[1;32mnot\u001b[0m \u001b[0mos\u001b[0m\u001b[1;33m.\u001b[0m\u001b[0mpath\u001b[0m\u001b[1;33m.\u001b[0m\u001b[0misfile\u001b[0m\u001b[1;33m(\u001b[0m\u001b[0mtar_filename\u001b[0m\u001b[1;33m)\u001b[0m\u001b[1;33m:\u001b[0m\u001b[1;33m\u001b[0m\u001b[0m\n\u001b[1;32m---> 10\u001b[1;33m       \u001b[0mgzip_file\u001b[0m \u001b[1;33m=\u001b[0m \u001b[0mgzip\u001b[0m\u001b[1;33m.\u001b[0m\u001b[0mGzipFile\u001b[0m\u001b[1;33m(\u001b[0m\u001b[0mfileobj\u001b[0m\u001b[1;33m=\u001b[0m\u001b[0mStringIO\u001b[0m\u001b[1;33m(\u001b[0m\u001b[0mcompressed_file\u001b[0m\u001b[1;33m)\u001b[0m\u001b[1;33m)\u001b[0m\u001b[1;33m\u001b[0m\u001b[0m\n\u001b[0m\u001b[0;32m     11\u001b[0m \u001b[1;33m\u001b[0m\u001b[0m\n\u001b[0;32m     12\u001b[0m       \u001b[1;32mimport\u001b[0m \u001b[0mshutil\u001b[0m\u001b[1;33m\u001b[0m\u001b[0m\n",
      "\u001b[1;31mNameError\u001b[0m: global name 'compressed_file' is not defined"
     ]
    }
   ],
   "source": [
    "table = bq.Table('datalab-projects-1331:xjk_algo_comp_test.districts')\n",
    "localpath = 'season_1/test_1/cluster_map/cluster_map'\n",
    "storagepath = os.path.join(bucket_path,localpath)\n",
    "process_datafile(localpath, storagepath, table)"
   ]
  },
  {
   "cell_type": "code",
   "execution_count": null,
   "metadata": {
    "collapsed": true
   },
   "outputs": [],
   "source": []
  }
 ],
 "metadata": {
  "kernelspec": {
   "display_name": "Python 2",
   "language": "python",
   "name": "python2"
  },
  "language_info": {
   "codemirror_mode": {
    "name": "ipython",
    "version": 2
   },
   "file_extension": ".py",
   "mimetype": "text/x-python",
   "name": "python",
   "nbconvert_exporter": "python",
   "pygments_lexer": "ipython2",
   "version": "2.7.9"
  }
 },
 "nbformat": 4,
 "nbformat_minor": 0
}
