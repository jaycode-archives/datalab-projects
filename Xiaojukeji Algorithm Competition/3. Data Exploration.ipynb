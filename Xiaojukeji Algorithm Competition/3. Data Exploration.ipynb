{
 "cells": [
  {
   "cell_type": "markdown",
   "metadata": {},
   "source": [
    "# Orders"
   ]
  },
  {
   "cell_type": "code",
   "execution_count": 2,
   "metadata": {
    "collapsed": false
   },
   "outputs": [
    {
     "data": {
      "text/html": [
       "\n",
       "    <div class=\"bqtv\" id=\"2_146715414862\"><table><tr><th>f0_</th></tr><tr><td>1110625</td></tr></table></div>\n",
       "    <br />(rows: 1, time: 0.8s,     0B processed, job: job_sgPOAUKK926p_yatrJgE3wLM6mU)<br />\n",
       "    <script>\n",
       "      require(['extensions/charting', 'element!2_146715414862', 'style!/static/extensions/charting.css'],\n",
       "        function(charts, dom) {\n",
       "          charts.render(dom,\n",
       "            {\n",
       "              chartStyle:\"table\",\n",
       "              dataName:\"1\",\n",
       "              fields:\"f0_\",\n",
       "              totalRows:1,\n",
       "              rowsPerPage:25,\n",
       "            }, {}, {\"rows\": [{\"c\": [{\"v\": 1110625}]}], \"cols\": [{\"type\": \"number\", \"id\": \"f0_\", \"label\": \"f0_\"}]});\n",
       "        }\n",
       "      );\n",
       "    </script>\n",
       "  "
      ],
      "text/plain": [
       "QueryResultsTable job_sgPOAUKK926p_yatrJgE3wLM6mU"
      ]
     },
     "execution_count": 2,
     "metadata": {},
     "output_type": "execute_result"
    }
   ],
   "source": [
    "%%sql\n",
    "SELECT COUNT(*) FROM [datalab-projects-1331:xjk_algo_comp_test.orders]"
   ]
  },
  {
   "cell_type": "code",
   "execution_count": 5,
   "metadata": {
    "collapsed": false
   },
   "outputs": [
    {
     "data": {
      "text/html": [
       "\n",
       "    <div class=\"bqtv\" id=\"4_146715652065\"><table><tr><th>f0_</th></tr><tr><td>121362</td></tr><tr><td>102104</td></tr><tr><td>126309</td></tr><tr><td>92437</td></tr><tr><td>105278</td></tr><tr><td>111815</td></tr><tr><td>125552</td></tr><tr><td>108791</td></tr><tr><td>111343</td></tr><tr><td>105634</td></tr></table></div>\n",
       "    <br />(rows: 10, time: 0.5s, cached, job: job_DvUOjO2eOTTIlXj7zPIACytphdw)<br />\n",
       "    <script>\n",
       "      require(['extensions/charting', 'element!4_146715652065', 'style!/static/extensions/charting.css'],\n",
       "        function(charts, dom) {\n",
       "          charts.render(dom,\n",
       "            {\n",
       "              chartStyle:\"table\",\n",
       "              dataName:\"3\",\n",
       "              fields:\"f0_\",\n",
       "              totalRows:10,\n",
       "              rowsPerPage:25,\n",
       "            }, {}, {\"rows\": [{\"c\": [{\"v\": 121362}]}, {\"c\": [{\"v\": 102104}]}, {\"c\": [{\"v\": 126309}]}, {\"c\": [{\"v\": 92437}]}, {\"c\": [{\"v\": 105278}]}, {\"c\": [{\"v\": 111815}]}, {\"c\": [{\"v\": 125552}]}, {\"c\": [{\"v\": 108791}]}, {\"c\": [{\"v\": 111343}]}, {\"c\": [{\"v\": 105634}]}], \"cols\": [{\"type\": \"number\", \"id\": \"f0_\", \"label\": \"f0_\"}]});\n",
       "        }\n",
       "      );\n",
       "    </script>\n",
       "  "
      ],
      "text/plain": [
       "QueryResultsTable job_DvUOjO2eOTTIlXj7zPIACytphdw"
      ]
     },
     "execution_count": 5,
     "metadata": {},
     "output_type": "execute_result"
    }
   ],
   "source": [
    "%%sql\n",
    "SELECT date, COUNT(*) AS orders FROM [datalab-projects-1331:xjk_algo_comp_test.orders] GROUP BY date"
   ]
  },
  {
   "cell_type": "code",
   "execution_count": 4,
   "metadata": {
    "collapsed": false
   },
   "outputs": [
    {
     "data": {
      "text/html": [
       "\n",
       "    <div class=\"bqgc-container\">\n",
       "      \n",
       "      <div class=\"bqgc\" id=\"3_146715648444\">\n",
       "      </div>\n",
       "    </div>\n",
       "    <script>\n",
       "      require(['extensions/charting', 'element!3_146715648444', 'style!/static/extensions/charting.css'],\n",
       "        function(charts, dom) {\n",
       "          charts.render(dom, {chartStyle:'histogram', dataName:'2', fields:'*'},\n",
       "            {}, {\"rows\": [{\"c\": [{\"v\": 121362}]}, {\"c\": [{\"v\": 102104}]}, {\"c\": [{\"v\": 126309}]}, {\"c\": [{\"v\": 92437}]}, {\"c\": [{\"v\": 105278}]}, {\"c\": [{\"v\": 111815}]}, {\"c\": [{\"v\": 125552}]}, {\"c\": [{\"v\": 108791}]}, {\"c\": [{\"v\": 111343}]}, {\"c\": [{\"v\": 105634}]}], \"cols\": [{\"type\": \"number\", \"id\": \"f0_\", \"label\": \"f0_\"}]}, []);\n",
       "        }\n",
       "      );\n",
       "    </script>\n",
       "  "
      ],
      "text/plain": [
       "<IPython.core.display.HTML object>"
      ]
     },
     "execution_count": 4,
     "metadata": {},
     "output_type": "execute_result"
    },
    {
     "data": {
      "image/png": "[encoded data removed]"
     },
     "metadata": {},
     "output_type": "display_data"
    }
   ],
   "source": [
    "%%chart histogram --data orders_by_date"
   ]
  },
  {
   "cell_type": "code",
   "execution_count": 1,
   "metadata": {
    "collapsed": false
   },
   "outputs": [
    {
     "data": {
      "text/html": [
       "\n",
       "    <div class=\"bqtv\" id=\"1_146715219915\"><table><tr><th>f0_</th></tr><tr><td>8540614</td></tr></table></div>\n",
       "    <br />(rows: 1, time: 2.4s,     0B processed, job: job_UBVxiJAMIFpNAIhLCFIqIXlhmBA)<br />\n",
       "    <script>\n",
       "      require(['extensions/charting', 'element!1_146715219915', 'style!/static/extensions/charting.css'],\n",
       "        function(charts, dom) {\n",
       "          charts.render(dom,\n",
       "            {\n",
       "              chartStyle:\"table\",\n",
       "              dataName:\"0\",\n",
       "              fields:\"f0_\",\n",
       "              totalRows:1,\n",
       "              rowsPerPage:25,\n",
       "            }, {}, {\"rows\": [{\"c\": [{\"v\": 8540614}]}], \"cols\": [{\"type\": \"number\", \"id\": \"f0_\", \"label\": \"f0_\"}]});\n",
       "        }\n",
       "      );\n",
       "    </script>\n",
       "  "
      ],
      "text/plain": [
       "QueryResultsTable job_UBVxiJAMIFpNAIhLCFIqIXlhmBA"
      ]
     },
     "execution_count": 1,
     "metadata": {},
     "output_type": "execute_result"
    }
   ],
   "source": [
    "%%sql\n",
    "SELECT COUNT(*) FROM [datalab-projects-1331:xjk_algo_comp.orders]"
   ]
  },
  {
   "cell_type": "code",
   "execution_count": null,
   "metadata": {
    "collapsed": true
   },
   "outputs": [],
   "source": []
  },
  {
   "cell_type": "code",
   "execution_count": null,
   "metadata": {
    "collapsed": true
   },
   "outputs": [],
   "source": []
  }
 ],
 "metadata": {
  "kernelspec": {
   "display_name": "Python 2",
   "language": "python",
   "name": "python2"
  },
  "language_info": {
   "codemirror_mode": {
    "name": "ipython",
    "version": 2
   },
   "file_extension": ".py",
   "mimetype": "text/x-python",
   "name": "python",
   "nbconvert_exporter": "python",
   "pygments_lexer": "ipython2",
   "version": "2.7.9"
  }
 },
 "nbformat": 4,
 "nbformat_minor": 0
}
