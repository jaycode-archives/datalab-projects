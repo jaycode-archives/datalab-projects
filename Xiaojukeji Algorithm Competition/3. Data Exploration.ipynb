{
 "cells": [
  {
   "cell_type": "markdown",
   "metadata": {},
   "source": [
    "# Orders"
   ]
  },
  {
   "cell_type": "code",
   "execution_count": 2,
   "metadata": {
    "collapsed": false
   },
   "outputs": [
    {
     "data": {
      "text/html": [
       "\n",
       "    <div class=\"bqtv\" id=\"2_146715414862\"><table><tr><th>f0_</th></tr><tr><td>1110625</td></tr></table></div>\n",
       "    <br />(rows: 1, time: 0.8s,     0B processed, job: job_sgPOAUKK926p_yatrJgE3wLM6mU)<br />\n",
       "    <script>\n",
       "      require(['extensions/charting', 'element!2_146715414862', 'style!/static/extensions/charting.css'],\n",
       "        function(charts, dom) {\n",
       "          charts.render(dom,\n",
       "            {\n",
       "              chartStyle:\"table\",\n",
       "              dataName:\"1\",\n",
       "              fields:\"f0_\",\n",
       "              totalRows:1,\n",
       "              rowsPerPage:25,\n",
       "            }, {}, {\"rows\": [{\"c\": [{\"v\": 1110625}]}], \"cols\": [{\"type\": \"number\", \"id\": \"f0_\", \"label\": \"f0_\"}]});\n",
       "        }\n",
       "      );\n",
       "    </script>\n",
       "  "
      ],
      "text/plain": [
       "QueryResultsTable job_sgPOAUKK926p_yatrJgE3wLM6mU"
      ]
     },
     "execution_count": 2,
     "metadata": {},
     "output_type": "execute_result"
    }
   ],
   "source": [
    "%%sql\n",
    "SELECT COUNT(*) FROM [datalab-projects-1331:xjk_algo_comp_test.orders]"
   ]
  },
  {
   "cell_type": "code",
   "execution_count": 9,
   "metadata": {
    "collapsed": false
   },
   "outputs": [],
   "source": [
    "%%sql --module orders_by_date\n",
    "SELECT date, COUNT(*) AS num_orders FROM [datalab-projects-1331:xjk_algo_comp_test.orders] GROUP BY date"
   ]
  },
  {
   "cell_type": "code",
   "execution_count": 12,
   "metadata": {
    "collapsed": false
   },
   "outputs": [
    {
     "data": {
      "text/html": [
       "\n",
       "    <div class=\"bqgc-container\">\n",
       "      \n",
       "      <div class=\"bqgc\" id=\"9_146715690308\">\n",
       "      </div>\n",
       "    </div>\n",
       "    <script>\n",
       "      require(['extensions/charting', 'element!9_146715690308', 'style!/static/extensions/charting.css'],\n",
       "        function(charts, dom) {\n",
       "          charts.render(dom, {chartStyle:'histogram', dataName:'2', fields:'*'},\n",
       "            {\"interpolateNulls\": false}, {\"rows\": [{\"c\": [{\"v\": \"2016-01-30\"}, {\"v\": 105278}]}, {\"c\": [{\"v\": \"2016-01-27\"}, {\"v\": 111815}]}, {\"c\": [{\"v\": \"2016-01-29\"}, {\"v\": 125552}]}, {\"c\": [{\"v\": \"2016-01-25\"}, {\"v\": 108791}]}, {\"c\": [{\"v\": \"2016-01-28\"}, {\"v\": 111343}]}, {\"c\": [{\"v\": \"2016-01-23\"}, {\"v\": 105634}]}, {\"c\": [{\"v\": \"2016-01-26\"}, {\"v\": 121362}]}, {\"c\": [{\"v\": \"2016-01-31\"}, {\"v\": 102104}]}, {\"c\": [{\"v\": \"2016-01-22\"}, {\"v\": 126309}]}, {\"c\": [{\"v\": \"2016-01-24\"}, {\"v\": 92437}]}], \"cols\": [{\"type\": \"string\", \"id\": \"date\", \"label\": \"date\"}, {\"type\": \"number\", \"id\": \"num_orders\", \"label\": \"num_orders\"}]}, []);\n",
       "        }\n",
       "      );\n",
       "    </script>\n",
       "  "
      ],
      "text/plain": [
       "<IPython.core.display.HTML object>"
      ]
     },
     "execution_count": 12,
     "metadata": {},
     "output_type": "execute_result"
    },
    {
     "data": {
      "image/png": "[encoded data removed]"
     },
     "metadata": {},
     "output_type": "display_data"
    }
   ],
   "source": [
    "%%chart histogram --data orders_by_date\n",
    "interpolateNulls: false"
   ]
  },
  {
   "cell_type": "code",
   "execution_count": 1,
   "metadata": {
    "collapsed": false
   },
   "outputs": [
    {
     "data": {
      "text/html": [
       "\n",
       "    <div class=\"bqtv\" id=\"1_146715219915\"><table><tr><th>f0_</th></tr><tr><td>8540614</td></tr></table></div>\n",
       "    <br />(rows: 1, time: 2.4s,     0B processed, job: job_UBVxiJAMIFpNAIhLCFIqIXlhmBA)<br />\n",
       "    <script>\n",
       "      require(['extensions/charting', 'element!1_146715219915', 'style!/static/extensions/charting.css'],\n",
       "        function(charts, dom) {\n",
       "          charts.render(dom,\n",
       "            {\n",
       "              chartStyle:\"table\",\n",
       "              dataName:\"0\",\n",
       "              fields:\"f0_\",\n",
       "              totalRows:1,\n",
       "              rowsPerPage:25,\n",
       "            }, {}, {\"rows\": [{\"c\": [{\"v\": 8540614}]}], \"cols\": [{\"type\": \"number\", \"id\": \"f0_\", \"label\": \"f0_\"}]});\n",
       "        }\n",
       "      );\n",
       "    </script>\n",
       "  "
      ],
      "text/plain": [
       "QueryResultsTable job_UBVxiJAMIFpNAIhLCFIqIXlhmBA"
      ]
     },
     "execution_count": 1,
     "metadata": {},
     "output_type": "execute_result"
    }
   ],
   "source": [
    "%%sql\n",
    "SELECT COUNT(*) FROM [datalab-projects-1331:xjk_algo_comp.orders]"
   ]
  },
  {
   "cell_type": "code",
   "execution_count": null,
   "metadata": {
    "collapsed": true
   },
   "outputs": [],
   "source": []
  },
  {
   "cell_type": "code",
   "execution_count": null,
   "metadata": {
    "collapsed": true
   },
   "outputs": [],
   "source": []
  }
 ],
 "metadata": {
  "kernelspec": {
   "display_name": "Python 2",
   "language": "python",
   "name": "python2"
  },
  "language_info": {
   "codemirror_mode": {
    "name": "ipython",
    "version": 2
   },
   "file_extension": ".py",
   "mimetype": "text/x-python",
   "name": "python",
   "nbconvert_exporter": "python",
   "pygments_lexer": "ipython2",
   "version": "2.7.9"
  }
 },
 "nbformat": 4,
 "nbformat_minor": 0
}
