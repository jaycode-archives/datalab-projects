{
 "cells": [
  {
   "cell_type": "code",
   "execution_count": 1,
   "metadata": {
    "collapsed": false
   },
   "outputs": [
    {
     "name": "stdout",
     "output_type": "stream",
     "text": [
      "Bucket: gs://datalab-projects-1331-datalab/data\n"
     ]
    }
   ],
   "source": [
    "from cStringIO import StringIO\n",
    "import gzip\n",
    "import os\n",
    "import glob\n",
    "import re\n",
    "import pdb\n",
    "\n",
    "import gcp\n",
    "from gcp import storage\n",
    "from gcp import bigquery as bq\n",
    "import pandas as pd\n",
    "\n",
    "# Import zip file from Google Cloud Storage\n",
    "project = gcp.Context.default().project_id\n",
    "bucket_name = project + '-datalab'\n",
    "bucket_path = 'gs://' + bucket_name + '/data'\n",
    "print 'Bucket: ' + bucket_path\n",
    "compressed_filename = 'citydata'\n",
    "season_name = 'season_2'\n",
    "subdirectory_name = 'training_data'"
   ]
  },
  {
   "cell_type": "code",
   "execution_count": 3,
   "metadata": {
    "collapsed": false
   },
   "outputs": [],
   "source": [
    "gzip_filename = '{}.tar.gz'.format(compressed_filename)\n",
    "tar_filename = '{}.tar'.format(compressed_filename)\n",
    "compressed_file = None\n",
    "datadir = season_name\n",
    "# If data has not been extracted, extract it.\n",
    "if not os.path.isdir(datadir):\n",
    "  # If citydata.tar has not been downloaded, download it\n",
    "  if not os.path.isfile(tar_filename):\n",
    "    bucket_object = '{}/{}'.format(bucket_path, gzip_filename)"
   ]
  },
  {
   "cell_type": "code",
   "execution_count": 3,
   "metadata": {
    "collapsed": false
   },
   "outputs": [
    {
     "name": "stdout",
     "output_type": "stream",
     "text": [
      "Undefined variable referenced in command line: $bucket_object\n"
     ]
    }
   ],
   "source": [
    "%%storage read --object $bucket_object --variable compressed_file"
   ]
  },
  {
   "cell_type": "code",
   "execution_count": 4,
   "metadata": {
    "collapsed": false
   },
   "outputs": [],
   "source": [
    "if compressed_file:\n",
    "  gzip_file = gzip.GzipFile(fileobj=StringIO(compressed_file))\n",
    "  del compressed_file\n",
    "\n",
    "  import shutil\n",
    "  with open(tar_filename, 'wb') as f_out:\n",
    "    shutil.copyfileobj(gzip_file, f_out)\n",
    "    \n",
    "  import tarfile\n",
    "  tar = tarfile.open(tar_filename, \"r\")\n",
    "  tar.extractall()\n",
    "  tar.close()\n",
    "  os.remove(tar_filename)"
   ]
  },
  {
   "cell_type": "code",
   "execution_count": 5,
   "metadata": {
    "collapsed": true
   },
   "outputs": [],
   "source": [
    "# Downloading and extracting the files from cloud storage.\n",
    "\n",
    "def process_datafile(localpath, storagepath, table, mode='create', overwrite=False):\n",
    "  # Upload extracted file into GCS\n",
    "  storagepath_r = storagepath.split('/')\n",
    "  bucketname = storagepath_r[2]\n",
    "  itempath = '/'.join(storagepath_r[3:])\n",
    "  item = storage.Item(bucketname, itempath)\n",
    "  if not item.exists() or overwrite:    \n",
    "    with open(localpath, 'rb') as f:\n",
    "      item.write_to(f.read(), 'text/plain')\n",
    "  # Load data into Google BigQuery\n",
    "  table.load(storagepath, mode=mode, csv_options=bq.CSVOptions(delimiter='\\t'))"
   ]
  },
  {
   "cell_type": "markdown",
   "metadata": {},
   "source": [
    "# Process Training Data"
   ]
  },
  {
   "cell_type": "markdown",
   "metadata": {},
   "source": [
    "## Districts"
   ]
  },
  {
   "cell_type": "code",
   "execution_count": 10,
   "metadata": {
    "collapsed": false
   },
   "outputs": [
    {
     "name": "stdout",
     "output_type": "stream",
     "text": [
      "gs://datalab-projects-1331-datalab/data/season_2/training_data/cluster_map/cluster_map\n"
     ]
    }
   ],
   "source": [
    "table = bq.Table('datalab-projects-1331:xjk_algo_comp.districts_preprocessed')\n",
    "if not table.exists():\n",
    "  schema = bq.Schema([\n",
    "      {'name': 'district_hash', 'type': 'STRING'},\n",
    "      {'name': 'district_id', 'type': 'INTEGER'}\n",
    "    ])\n",
    "  table.create(schema)\n",
    "  \n",
    "localpath = '{}/{}/cluster_map/cluster_map'.format(season_name, subdirectory_name)\n",
    "storagepath = os.path.join(bucket_path,localpath)\n",
    "print storagepath\n",
    "process_datafile(localpath, storagepath, table, mode='append')"
   ]
  },
  {
   "cell_type": "code",
   "execution_count": 11,
   "metadata": {
    "collapsed": false
   },
   "outputs": [
    {
     "data": {
      "text/html": [
       "\n",
       "    <div class=\"bqtv\" id=\"2_146589895713\"><table><tr><th>district_hash</th><th>district_id</th></tr><tr><td>90c5a34f06ac86aee0fd70e2adce7d8a</td><td>1</td></tr><tr><td>f2c8c4bb99e6377d21de71275afd6cd2</td><td>2</td></tr><tr><td>58c7a4888306d8ff3a641d1c0feccbe3</td><td>3</td></tr><tr><td>b26a240205c852804ff8758628c0a86a</td><td>4</td></tr><tr><td>4b9e4cf2fbdc8281b8a1f9f12b80ce4d</td><td>5</td></tr><tr><td>1cbfbdd079ef93e74405c53fcfff8567</td><td>6</td></tr><tr><td>929ec6c160e6f52c20a4217c7978f681</td><td>7</td></tr><tr><td>82cc4851f9e4faa4e54309f8bb73fd7c</td><td>8</td></tr><tr><td>b702e920dcd2765e624dc1ce3a770512</td><td>9</td></tr><tr><td>4f4041f7db0c7f69892d9b74c1a7efa1</td><td>10</td></tr><tr><td>dd8d3b9665536d6e05b29c2648c0e69a</td><td>11</td></tr><tr><td>74c1c25f4b283fa74a5514307b0d0278</td><td>12</td></tr><tr><td>4b7f6f4e2bf237b6cc58f57142bea5c0</td><td>13</td></tr><tr><td>2920ece99323b4c111d6f9affc7ea034</td><td>14</td></tr><tr><td>d5cb17978de290c56e84c9cf97e63186</td><td>15</td></tr><tr><td>307afa4120c590b3a46cf4ff5415608a</td><td>16</td></tr><tr><td>a814069db8d32f0fa6e188f41059c6e1</td><td>17</td></tr><tr><td>2350be163432e42270d2670cb3c02f80</td><td>18</td></tr><tr><td>a5609739c6b5c2719a3752327c5e33a7</td><td>19</td></tr><tr><td>91690261186ae5bee8f83808ea1e4a01</td><td>20</td></tr><tr><td>364bf755f9b270f0f9141d1a61de43ee</td><td>21</td></tr><tr><td>87285a66236346350541b8815c5fae94</td><td>22</td></tr><tr><td>4725c39a5e5f4c188d382da3910b3f3f</td><td>23</td></tr><tr><td>38d5ad2d22b61109fd8e7b43cd0e8901</td><td>24</td></tr><tr><td>3a43dcdff3c0b66b1acb1644ff055f9d</td><td>25</td></tr></table></div>\n",
       "    <br />(rows: 66, time: 1.4s,     2KB processed, job: job_jgab7jOycaxgQegqWO8wIkBMbCA)<br />\n",
       "    <script>\n",
       "      require(['extensions/charting', 'element!2_146589895713', 'style!/static/extensions/charting.css'],\n",
       "        function(charts, dom) {\n",
       "          charts.render(dom,\n",
       "            {\n",
       "              chartStyle:\"paged_table\",\n",
       "              dataName:\"0\",\n",
       "              fields:\"district_hash,district_id\",\n",
       "              totalRows:66,\n",
       "              rowsPerPage:25,\n",
       "            }, {}, {\"rows\": [{\"c\": [{\"v\": \"90c5a34f06ac86aee0fd70e2adce7d8a\"}, {\"v\": 1}]}, {\"c\": [{\"v\": \"f2c8c4bb99e6377d21de71275afd6cd2\"}, {\"v\": 2}]}, {\"c\": [{\"v\": \"58c7a4888306d8ff3a641d1c0feccbe3\"}, {\"v\": 3}]}, {\"c\": [{\"v\": \"b26a240205c852804ff8758628c0a86a\"}, {\"v\": 4}]}, {\"c\": [{\"v\": \"4b9e4cf2fbdc8281b8a1f9f12b80ce4d\"}, {\"v\": 5}]}, {\"c\": [{\"v\": \"1cbfbdd079ef93e74405c53fcfff8567\"}, {\"v\": 6}]}, {\"c\": [{\"v\": \"929ec6c160e6f52c20a4217c7978f681\"}, {\"v\": 7}]}, {\"c\": [{\"v\": \"82cc4851f9e4faa4e54309f8bb73fd7c\"}, {\"v\": 8}]}, {\"c\": [{\"v\": \"b702e920dcd2765e624dc1ce3a770512\"}, {\"v\": 9}]}, {\"c\": [{\"v\": \"4f4041f7db0c7f69892d9b74c1a7efa1\"}, {\"v\": 10}]}, {\"c\": [{\"v\": \"dd8d3b9665536d6e05b29c2648c0e69a\"}, {\"v\": 11}]}, {\"c\": [{\"v\": \"74c1c25f4b283fa74a5514307b0d0278\"}, {\"v\": 12}]}, {\"c\": [{\"v\": \"4b7f6f4e2bf237b6cc58f57142bea5c0\"}, {\"v\": 13}]}, {\"c\": [{\"v\": \"2920ece99323b4c111d6f9affc7ea034\"}, {\"v\": 14}]}, {\"c\": [{\"v\": \"d5cb17978de290c56e84c9cf97e63186\"}, {\"v\": 15}]}, {\"c\": [{\"v\": \"307afa4120c590b3a46cf4ff5415608a\"}, {\"v\": 16}]}, {\"c\": [{\"v\": \"a814069db8d32f0fa6e188f41059c6e1\"}, {\"v\": 17}]}, {\"c\": [{\"v\": \"2350be163432e42270d2670cb3c02f80\"}, {\"v\": 18}]}, {\"c\": [{\"v\": \"a5609739c6b5c2719a3752327c5e33a7\"}, {\"v\": 19}]}, {\"c\": [{\"v\": \"91690261186ae5bee8f83808ea1e4a01\"}, {\"v\": 20}]}, {\"c\": [{\"v\": \"364bf755f9b270f0f9141d1a61de43ee\"}, {\"v\": 21}]}, {\"c\": [{\"v\": \"87285a66236346350541b8815c5fae94\"}, {\"v\": 22}]}, {\"c\": [{\"v\": \"4725c39a5e5f4c188d382da3910b3f3f\"}, {\"v\": 23}]}, {\"c\": [{\"v\": \"38d5ad2d22b61109fd8e7b43cd0e8901\"}, {\"v\": 24}]}, {\"c\": [{\"v\": \"3a43dcdff3c0b66b1acb1644ff055f9d\"}, {\"v\": 25}]}], \"cols\": [{\"type\": \"string\", \"id\": \"district_hash\", \"label\": \"district_hash\"}, {\"type\": \"number\", \"id\": \"district_id\", \"label\": \"district_id\"}]});\n",
       "        }\n",
       "      );\n",
       "    </script>\n",
       "  "
      ],
      "text/plain": [
       "QueryResultsTable job_jgab7jOycaxgQegqWO8wIkBMbCA"
      ]
     },
     "execution_count": 11,
     "metadata": {},
     "output_type": "execute_result"
    }
   ],
   "source": [
    "%%bigquery execute -t datalab-projects-1331:xjk_algo_comp.districts -m overwrite\n",
    "SELECT LAST(district_hash) AS district_hash, district_id\n",
    "FROM [datalab-projects-1331:xjk_algo_comp.districts_preprocessed]\n",
    "GROUP BY district_id"
   ]
  },
  {
   "cell_type": "markdown",
   "metadata": {},
   "source": [
    "## Weather"
   ]
  },
  {
   "cell_type": "code",
   "execution_count": 12,
   "metadata": {
    "collapsed": false
   },
   "outputs": [
    {
     "name": "stdout",
     "output_type": "stream",
     "text": [
      "process gs://datalab-projects-1331-datalab/data/season_2/training_data/cluster_map/cluster_map\n",
      "process gs://datalab-projects-1331-datalab/data/season_2/training_data/weather_data/weather_data_2016-01-08\n",
      "process gs://datalab-projects-1331-datalab/data/season_2/training_data/weather_data/weather_data_2016-01-16\n",
      "process gs://datalab-projects-1331-datalab/data/season_2/training_data/weather_data/weather_data_2016-01-13\n",
      "process gs://datalab-projects-1331-datalab/data/season_2/training_data/weather_data/weather_data_2016-01-04\n",
      "process gs://datalab-projects-1331-datalab/data/season_2/training_data/weather_data/weather_data_2016-01-01\n",
      "process gs://datalab-projects-1331-datalab/data/season_2/training_data/weather_data/weather_data_2016-01-19\n",
      "process gs://datalab-projects-1331-datalab/data/season_2/training_data/weather_data/weather_data_2016-01-21\n",
      "process gs://datalab-projects-1331-datalab/data/season_2/training_data/weather_data/weather_data_2016-01-17\n",
      "process gs://datalab-projects-1331-datalab/data/season_2/training_data/weather_data/weather_data_2016-01-10\n",
      "process gs://datalab-projects-1331-datalab/data/season_2/training_data/weather_data/weather_data_2016-01-12\n",
      "process gs://datalab-projects-1331-datalab/data/season_2/training_data/weather_data/weather_data_2016-01-20\n",
      "process gs://datalab-projects-1331-datalab/data/season_2/training_data/weather_data/weather_data_2016-01-15\n",
      "process gs://datalab-projects-1331-datalab/data/season_2/training_data/weather_data/weather_data_2016-01-02\n",
      "process gs://datalab-projects-1331-datalab/data/season_2/training_data/weather_data/weather_data_2016-01-05\n",
      "process gs://datalab-projects-1331-datalab/data/season_2/training_data/weather_data/weather_data_2016-01-11\n",
      "process gs://datalab-projects-1331-datalab/data/season_2/training_data/weather_data/weather_data_2016-01-07\n",
      "process gs://datalab-projects-1331-datalab/data/season_2/training_data/weather_data/weather_data_2016-01-18\n",
      "process gs://datalab-projects-1331-datalab/data/season_2/training_data/weather_data/weather_data_2016-01-06\n",
      "process gs://datalab-projects-1331-datalab/data/season_2/training_data/weather_data/weather_data_2016-01-14\n",
      "process gs://datalab-projects-1331-datalab/data/season_2/training_data/weather_data/weather_data_2016-01-03\n"
     ]
    }
   ],
   "source": [
    "table = bq.Table('datalab-projects-1331:xjk_algo_comp.weather_preprocessed')\n",
    "if not table.exists():\n",
    "  schema = bq.Schema([\n",
    "      {'name': 'time', 'type': 'STRING'},\n",
    "      {'name': 'weather', 'type': 'INTEGER'},\n",
    "      {'name': 'temperature', 'type': 'FLOAT'},\n",
    "      {'name': 'pm25', 'type': 'FLOAT'}\n",
    "    ])\n",
    "  table.create(schema)\n",
    "  \n",
    "wildpath = '{}/{}/weather_data/*'.format(season_name, subdirectory_name)\n",
    "for localpath in glob.glob(wildpath):\n",
    "  print 'process {}'.format(storagepath)\n",
    "  storagepath = os.path.join(bucket_path,localpath)\n",
    "  process_datafile(localpath, storagepath, table, mode='append')"
   ]
  },
  {
   "cell_type": "code",
   "execution_count": 13,
   "metadata": {
    "collapsed": true
   },
   "outputs": [],
   "source": [
    "%%bigquery udf --module transform_weather_time\n",
    "\n",
    "/**\n",
    " * Pad with 0 or given string.\n",
    " *\n",
    " * @param int n Number to add padding to.\n",
    " * @param int width Width of number + padding.\n",
    " * @param string z (Optional) Other string to replace '0' as padding.\n",
    " */\n",
    "function pad(n, width, z) {\n",
    "  z = z || '0';\n",
    "  n = n + '';\n",
    "  return n.length >= width ? n : new Array(width - n.length + 1).join(z) + n;\n",
    "}\n",
    "\n",
    "/**\n",
    " * Transform timestamps of weather table into timeslots in weather table.\n",
    " *\n",
    " * @param {{time: string, weather: integer, temperature: float, pm25: float}} r\n",
    " * @param function({{time: string, weather: integer, temperature: float, pm25: float,\n",
    "                     timeslot: string, timeofday_slot: integer, day_in_week: integer,\n",
    "                     date: string}}) emitFn\n",
    " */\n",
    "function(r, emitFn) {\n",
    "  var t = r.time.split(/[ :\\-]/);\n",
    "  var slot = Math.floor((parseInt(t[3]) * 60 + parseInt(t[4])) / 10) + 1;\n",
    "  r.timeslot = t[0] + '-' + pad(t[1], 2) +\n",
    "               '-' + pad(t[2], 2) + '-' + slot;\n",
    "  r.timeofday_slot = slot;\n",
    "  r.date = t[0] + '-' + pad(t[1], 2) + '-' + pad(t[2], 2);\n",
    "  r.day_in_week = new Date(parseInt(t[0]), parseInt(t[1])-1, parseInt(t[2])).getDay();\n",
    "  emitFn(r);\n",
    "}"
   ]
  },
  {
   "cell_type": "code",
   "execution_count": 14,
   "metadata": {
    "collapsed": false
   },
   "outputs": [
    {
     "name": "stderr",
     "output_type": "stream",
     "text": [
      "Query exceeded resource limits for tier 1. Tier 3 or higher required.\n"
     ]
    }
   ],
   "source": [
    "%%bigquery execute -t datalab-projects-1331:xjk_algo_comp.weather -m overwrite\n",
    "SELECT LAST(time) AS time, LAST(weather) AS weather,\n",
    "  LAST(temperature) AS temperature, LAST(pm25) AS pm25, timeslot,\n",
    "  LAST(timeofday_slot) AS timeofday_slot, LAST(day_in_week) AS day_in_week,\n",
    "  LAST(date) AS date\n",
    "FROM transform_weather_time([datalab-projects-1331:xjk_algo_comp.weather_preprocessed])\n",
    "GROUP BY timeslot"
   ]
  },
  {
   "cell_type": "markdown",
   "metadata": {},
   "source": [
    "## Traffic"
   ]
  },
  {
   "cell_type": "code",
   "execution_count": 15,
   "metadata": {
    "collapsed": false
   },
   "outputs": [
    {
     "name": "stdout",
     "output_type": "stream",
     "text": [
      "process gs://datalab-projects-1331-datalab/data/season_2/training_data/traffic_data/traffic_data_2016-01-19\n",
      "process gs://datalab-projects-1331-datalab/data/season_2/training_data/traffic_data/traffic_data_2016-01-18\n",
      "process gs://datalab-projects-1331-datalab/data/season_2/training_data/traffic_data/traffic_data_2016-01-09\n",
      "process gs://datalab-projects-1331-datalab/data/season_2/training_data/traffic_data/traffic_data_2016-01-05\n",
      "process gs://datalab-projects-1331-datalab/data/season_2/training_data/traffic_data/traffic_data_2016-01-10\n",
      "process gs://datalab-projects-1331-datalab/data/season_2/training_data/traffic_data/traffic_data_2016-01-15\n",
      "process gs://datalab-projects-1331-datalab/data/season_2/training_data/traffic_data/traffic_data_2016-01-08\n",
      "process gs://datalab-projects-1331-datalab/data/season_2/training_data/traffic_data/traffic_data_2016-01-12\n",
      "process gs://datalab-projects-1331-datalab/data/season_2/training_data/traffic_data/traffic_data_2016-01-20\n",
      "process gs://datalab-projects-1331-datalab/data/season_2/training_data/traffic_data/traffic_data_2016-01-07\n",
      "process gs://datalab-projects-1331-datalab/data/season_2/training_data/traffic_data/traffic_data_2016-01-06\n",
      "process gs://datalab-projects-1331-datalab/data/season_2/training_data/traffic_data/traffic_data_2016-01-03\n",
      "process gs://datalab-projects-1331-datalab/data/season_2/training_data/traffic_data/traffic_data_2016-01-21\n",
      "process gs://datalab-projects-1331-datalab/data/season_2/training_data/traffic_data/traffic_data_2016-01-11\n",
      "process gs://datalab-projects-1331-datalab/data/season_2/training_data/traffic_data/traffic_data_2016-01-02\n",
      "process gs://datalab-projects-1331-datalab/data/season_2/training_data/traffic_data/traffic_data_2016-01-13\n",
      "process gs://datalab-projects-1331-datalab/data/season_2/training_data/traffic_data/traffic_data_2016-01-17\n",
      "process gs://datalab-projects-1331-datalab/data/season_2/training_data/traffic_data/traffic_data_2016-01-16\n",
      "process gs://datalab-projects-1331-datalab/data/season_2/training_data/traffic_data/traffic_data_2016-01-14\n",
      "process gs://datalab-projects-1331-datalab/data/season_2/training_data/traffic_data/traffic_data_2016-01-04\n",
      "process gs://datalab-projects-1331-datalab/data/season_2/training_data/traffic_data/traffic_data_2016-01-01\n"
     ]
    }
   ],
   "source": [
    "table = bq.Table('datalab-projects-1331:xjk_algo_comp.traffic_preprocessed')\n",
    "if not table.exists():\n",
    "  schema = bq.Schema([\n",
    "      {'name': 'district_hash', 'type': 'STRING'},\n",
    "      {'name': 'tj_level1', 'type': 'INTEGER'},\n",
    "      {'name': 'tj_level2', 'type': 'INTEGER'},\n",
    "      {'name': 'tj_level3', 'type': 'INTEGER'},\n",
    "      {'name': 'tj_level4', 'type': 'INTEGER'},\n",
    "      {'name': 'tj_time', 'type': 'STRING'}\n",
    "    ])\n",
    "  table.create(schema)\n",
    "  \n",
    "wildpath = '{}/{}/traffic_data/*'.format(season_name, subdirectory_name)\n",
    "for localpath in glob.glob(wildpath):\n",
    "  with open(localpath, 'rb') as f:\n",
    "    text = f.read()\n",
    "  with open(localpath, 'wb') as f:\n",
    "    f.write(re.sub(r'\\b\\t[0-9]:\\b', '\\t', text))\n",
    "  storagepath = os.path.join(bucket_path,localpath)\n",
    "  print 'process {}'.format(storagepath)\n",
    "  process_datafile(localpath, storagepath, table, mode='append', overwrite=True)"
   ]
  },
  {
   "cell_type": "code",
   "execution_count": 16,
   "metadata": {
    "collapsed": true
   },
   "outputs": [],
   "source": [
    "%%bigquery udf --module transform_traffic_time\n",
    "  \n",
    "/**\n",
    " * Pad with 0 or given string.\n",
    " *\n",
    " * @param int n Number to add padding to.\n",
    " * @param int width Width of number + padding.\n",
    " * @param string z (Optional) Other string to replace '0' as padding.\n",
    " */\n",
    "function pad(n, width, z) {\n",
    "  z = z || '0';\n",
    "  n = n + '';\n",
    "  return n.length >= width ? n : new Array(width - n.length + 1).join(z) + n;\n",
    "}\n",
    "\n",
    "/**\n",
    " * Transform timestamps of weather table into timeslots in traffic table.\n",
    " *\n",
    " * @param {{district_hash: string, tj_level1: integer, tj_level2: integer, tj_level3: integer, \n",
    "            tj_level4: integer, tj_time: string}} r\n",
    " * @param function({{district_hash: string, tj_level1: integer, tj_level2: integer, tj_level3: integer, \n",
    "                     tj_level4: integer, tj_time: string, timeslot: string, timeofday_slot: integer,\n",
    "                     day_in_week: integer, date: string}}) emitFn\n",
    " */\n",
    "function(r, emitFn) {\n",
    "  var t = r.tj_time.split(/[ :\\-]/);\n",
    "  var slot = Math.floor((parseInt(t[3]) * 60 + parseInt(t[4])) / 10) + 1;\n",
    "  r.timeslot = t[0] + '-' + pad(t[1], 2) +\n",
    "               '-' + pad(t[2], 2) + '-' + slot;\n",
    "  r.timeofday_slot = slot;\n",
    "  r.date = t[0] + '-' + pad(t[1], 2) + '-' + pad(t[2], 2);\n",
    "  r.day_in_week = new Date(parseInt(t[0]), parseInt(t[1])-1, parseInt(t[2])).getDay();\n",
    "  emitFn(r);\n",
    "}"
   ]
  },
  {
   "cell_type": "code",
   "execution_count": 17,
   "metadata": {
    "collapsed": false
   },
   "outputs": [
    {
     "name": "stderr",
     "output_type": "stream",
     "text": [
      "Query exceeded resource limits for tier 1. Tier 2 or higher required.\n"
     ]
    }
   ],
   "source": [
    "%%bigquery execute -t datalab-projects-1331:xjk_algo_comp.traffic -m overwrite\n",
    "  \n",
    "SELECT district_hash, AVG(tj_level1) AS tj_level1,\n",
    "  AVG(tj_level2) AS tj_level2, AVG(tj_level3) AS tj_level3, AVG(tj_level4) AS tj_level4,\n",
    "  LAST(tj_time) AS tj_time, timeslot,\n",
    "  LAST(timeofday_slot) AS timeofday_slot, LAST(day_in_week) AS day_in_week,\n",
    "  LAST(date) AS date\n",
    "FROM transform_traffic_time([datalab-projects-1331:xjk_algo_comp.traffic_preprocessed])\n",
    "GROUP BY district_hash, timeslot"
   ]
  },
  {
   "cell_type": "markdown",
   "metadata": {},
   "source": [
    "## POIs"
   ]
  },
  {
   "cell_type": "code",
   "execution_count": 18,
   "metadata": {
    "collapsed": false
   },
   "outputs": [],
   "source": [
    "table = bq.Table('datalab-projects-1331:xjk_algo_comp.pois_preprocessed')\n",
    "  \n",
    "localpath = '{}/{}/poi_data/poi_data'.format(season_name, subdirectory_name)\n",
    "\n",
    "pois = []\n",
    "pois_schema = [{'name': 'district_hash', 'type': 'STRING'}]\n",
    "with open(localpath, 'rb') as f:\n",
    "  for line in f:\n",
    "    line_pois = map(lambda x: ['f{}'.format(x.split(':')[0].replace('#', '_')), x.split(':')[1]],\n",
    "                    line.split('\\t')[1:])\n",
    "  for poi in line_pois:\n",
    "    if poi[0] not in pois:\n",
    "      pois.append(poi[0])\n",
    "      pois_schema.append({'name': poi[0], 'type': 'INTEGER'})\n",
    "pois.sort()\n",
    "pois_schema = sorted(pois_schema, key=lambda k: k['name']) \n",
    "\n",
    "if not table.exists():\n",
    "  schema = bq.Schema.from_data(pois_schema)\n",
    "  table.create(schema)\n",
    "  \n",
    "  pois_data = pd.DataFrame(columns=['district_hash'] + pois)\n",
    "  with open(localpath, 'rb') as f:\n",
    "    for line in f:\n",
    "      hash_pois = {}\n",
    "      for poi_line in line.split('\\t')[1:]:\n",
    "        hash_pois['f{}'.format(poi_line.split(':')[0].replace('#', '_'))] = poi_line.split(':')[1]\n",
    "      poi_data = [line.split('\\t')[0]]\n",
    "      # hash_pois = {f1_1: 15, ...}\n",
    "      # pois = ['f1_1', ...]\n",
    "      for poi in pois:\n",
    "        value = '0'\n",
    "        if poi in hash_pois:\n",
    "          value = hash_pois[poi].strip()\n",
    "        poi_data.append(value)\n",
    "      pois_data.loc[len(pois_data)] = poi_data\n",
    "  for poi in pois:\n",
    "    pois_data[poi] = pd.to_numeric(pois_data[poi])\n",
    "  table.insert_data(pois_data)"
   ]
  },
  {
   "cell_type": "markdown",
   "metadata": {},
   "source": [
    "Following code can be used to print out feature fields to be used when selecting from tables."
   ]
  },
  {
   "cell_type": "code",
   "execution_count": 19,
   "metadata": {
    "collapsed": false
   },
   "outputs": [
    {
     "name": "stdout",
     "output_type": "stream",
     "text": [
      "LAST(pois.f1) AS f1, LAST(pois.f11) AS f11, LAST(pois.f11_1) AS f11_1, \n",
      "LAST(pois.f11_2) AS f11_2, LAST(pois.f11_3) AS f11_3, LAST(pois.f11_4) AS f11_4, \n",
      "LAST(pois.f11_5) AS f11_5, LAST(pois.f11_6) AS f11_6, LAST(pois.f11_7) AS f11_7, \n",
      "LAST(pois.f11_8) AS f11_8, LAST(pois.f13_4) AS f13_4, LAST(pois.f13_8) AS f13_8, \n",
      "LAST(pois.f14) AS f14, LAST(pois.f14_1) AS f14_1, LAST(pois.f14_10) AS f14_10, \n",
      "LAST(pois.f14_2) AS f14_2, LAST(pois.f14_3) AS f14_3, LAST(pois.f14_6) AS f14_6, \n",
      "LAST(pois.f14_8) AS f14_8, LAST(pois.f15) AS f15, LAST(pois.f15_1) AS f15_1, \n",
      "LAST(pois.f15_2) AS f15_2, LAST(pois.f15_3) AS f15_3, LAST(pois.f15_4) AS f15_4, \n",
      "LAST(pois.f15_6) AS f15_6, LAST(pois.f15_7) AS f15_7, LAST(pois.f15_8) AS f15_8, \n",
      "LAST(pois.f16) AS f16, LAST(pois.f16_1) AS f16_1, LAST(pois.f16_10) AS f16_10, \n",
      "LAST(pois.f16_11) AS f16_11, LAST(pois.f16_12) AS f16_12, LAST(pois.f16_3) AS f16_3, \n",
      "LAST(pois.f16_4) AS f16_4, LAST(pois.f16_6) AS f16_6, LAST(pois.f17) AS f17, \n",
      "LAST(pois.f17_2) AS f17_2, LAST(pois.f17_3) AS f17_3, LAST(pois.f17_4) AS f17_4, \n",
      "LAST(pois.f17_5) AS f17_5, LAST(pois.f19) AS f19, LAST(pois.f19_1) AS f19_1, \n",
      "LAST(pois.f19_2) AS f19_2, LAST(pois.f19_3) AS f19_3, LAST(pois.f19_4) AS f19_4, \n",
      "LAST(pois.f1_1) AS f1_1, LAST(pois.f1_10) AS f1_10, LAST(pois.f1_11) AS f1_11, \n",
      "LAST(pois.f1_2) AS f1_2, LAST(pois.f1_3) AS f1_3, LAST(pois.f1_4) AS f1_4, \n",
      "LAST(pois.f1_5) AS f1_5, LAST(pois.f1_6) AS f1_6, LAST(pois.f1_7) AS f1_7, \n",
      "LAST(pois.f1_8) AS f1_8, LAST(pois.f20) AS f20, LAST(pois.f20_1) AS f20_1, \n",
      "LAST(pois.f20_2) AS f20_2, LAST(pois.f20_4) AS f20_4, LAST(pois.f20_5) AS f20_5, \n",
      "LAST(pois.f20_6) AS f20_6, LAST(pois.f20_7) AS f20_7, LAST(pois.f20_8) AS f20_8, \n",
      "LAST(pois.f20_9) AS f20_9, LAST(pois.f21_1) AS f21_1, LAST(pois.f21_2) AS f21_2, \n",
      "LAST(pois.f22) AS f22, LAST(pois.f22_1) AS f22_1, LAST(pois.f22_2) AS f22_2, \n",
      "LAST(pois.f22_3) AS f22_3, LAST(pois.f22_4) AS f22_4, LAST(pois.f22_5) AS f22_5, \n",
      "LAST(pois.f23) AS f23, LAST(pois.f23_1) AS f23_1, LAST(pois.f23_2) AS f23_2, \n",
      "LAST(pois.f23_3) AS f23_3, LAST(pois.f23_4) AS f23_4, LAST(pois.f23_5) AS f23_5, \n",
      "LAST(pois.f23_6) AS f23_6, LAST(pois.f24) AS f24, LAST(pois.f24_1) AS f24_1, \n",
      "LAST(pois.f24_2) AS f24_2, LAST(pois.f24_3) AS f24_3, LAST(pois.f25) AS f25, \n",
      "LAST(pois.f25_1) AS f25_1, LAST(pois.f25_3) AS f25_3, LAST(pois.f25_7) AS f25_7, \n",
      "LAST(pois.f25_8) AS f25_8, LAST(pois.f25_9) AS f25_9, LAST(pois.f2_1) AS f2_1, \n",
      "LAST(pois.f2_10) AS f2_10, LAST(pois.f2_11) AS f2_11, LAST(pois.f2_12) AS f2_12, \n",
      "LAST(pois.f2_13) AS f2_13, LAST(pois.f2_2) AS f2_2, LAST(pois.f2_4) AS f2_4, \n",
      "LAST(pois.f2_5) AS f2_5, LAST(pois.f2_6) AS f2_6, LAST(pois.f2_7) AS f2_7, \n",
      "LAST(pois.f2_8) AS f2_8, LAST(pois.f3_1) AS f3_1, LAST(pois.f3_2) AS f3_2, \n",
      "LAST(pois.f3_3) AS f3_3, LAST(pois.f4) AS f4, LAST(pois.f4_1) AS f4_1, \n",
      "LAST(pois.f4_10) AS f4_10, LAST(pois.f4_11) AS f4_11, LAST(pois.f4_13) AS f4_13, \n",
      "LAST(pois.f4_14) AS f4_14, LAST(pois.f4_16) AS f4_16, LAST(pois.f4_17) AS f4_17, \n",
      "LAST(pois.f4_18) AS f4_18, LAST(pois.f4_2) AS f4_2, LAST(pois.f4_3) AS f4_3, \n",
      "LAST(pois.f4_5) AS f4_5, LAST(pois.f4_6) AS f4_6, LAST(pois.f4_7) AS f4_7, \n",
      "LAST(pois.f4_8) AS f4_8, LAST(pois.f4_9) AS f4_9, LAST(pois.f5) AS f5, \n",
      "LAST(pois.f5_1) AS f5_1, LAST(pois.f5_3) AS f5_3, LAST(pois.f5_4) AS f5_4, \n",
      "LAST(pois.f6) AS f6, LAST(pois.f6_1) AS f6_1, LAST(pois.f6_2) AS f6_2, \n",
      "LAST(pois.f6_4) AS f6_4, LAST(pois.f7) AS f7, LAST(pois.f8) AS f8, \n",
      "LAST(pois.f8_1) AS f8_1, LAST(pois.f8_2) AS f8_2, LAST(pois.f8_3) AS f8_3, \n",
      "LAST(pois.f8_4) AS f8_4, LAST(pois.f8_5) AS f8_5\n"
     ]
    }
   ],
   "source": [
    "final_text = ''\n",
    "for counter, poi_text in enumerate(map(lambda x: 'LAST(pois.{}) AS {}'.format(x,x), pois)):\n",
    "  if counter%3 == 0:\n",
    "    final_text = '{}\\n'.format(final_text)\n",
    "  final_text = '{}{}, '.format(final_text, poi_text)\n",
    "print final_text[1:(len(final_text)-2)]"
   ]
  },
  {
   "cell_type": "code",
   "execution_count": 20,
   "metadata": {
    "collapsed": false
   },
   "outputs": [
    {
     "data": {
      "text/html": [
       "\n",
       "    <div class=\"bqtv\" id=\"3_146589926556\"><table><tr><th>district_hash</th><th>f1</th><th>f11</th><th>f11_1</th><th>f11_2</th><th>f11_3</th><th>f11_4</th><th>f11_5</th><th>f11_6</th><th>f11_7</th><th>f11_8</th><th>f13_4</th><th>f13_8</th><th>f14</th><th>f14_1</th><th>f14_10</th><th>f14_2</th><th>f14_3</th><th>f14_6</th><th>f14_8</th><th>f15</th><th>f15_1</th><th>f15_2</th><th>f15_3</th><th>f15_4</th><th>f15_6</th><th>f15_7</th><th>f15_8</th><th>f16</th><th>f16_1</th><th>f16_10</th><th>f16_11</th><th>f16_12</th><th>f16_3</th><th>f16_4</th><th>f16_6</th><th>f17</th><th>f17_2</th><th>f17_3</th><th>f17_4</th><th>f17_5</th><th>f19</th><th>f19_1</th><th>f19_2</th><th>f19_3</th><th>f19_4</th><th>f1_1</th><th>f1_10</th><th>f1_11</th><th>f1_2</th><th>f1_3</th><th>f1_4</th><th>f1_5</th><th>f1_6</th><th>f1_7</th><th>f1_8</th><th>f20</th><th>f20_1</th><th>f20_2</th><th>f20_4</th><th>f20_5</th><th>f20_6</th><th>f20_7</th><th>f20_8</th><th>f20_9</th><th>f21_1</th><th>f21_2</th><th>f22</th><th>f22_1</th><th>f22_2</th><th>f22_3</th><th>f22_4</th><th>f22_5</th><th>f23</th><th>f23_1</th><th>f23_2</th><th>f23_3</th><th>f23_4</th><th>f23_5</th><th>f23_6</th><th>f24</th><th>f24_1</th><th>f24_2</th><th>f24_3</th><th>f25</th><th>f25_1</th><th>f25_3</th><th>f25_7</th><th>f25_8</th><th>f25_9</th><th>f2_1</th><th>f2_10</th><th>f2_11</th><th>f2_12</th><th>f2_13</th><th>f2_2</th><th>f2_4</th><th>f2_5</th><th>f2_6</th><th>f2_7</th><th>f2_8</th><th>f3_1</th><th>f3_2</th><th>f3_3</th><th>f4</th><th>f4_1</th><th>f4_10</th><th>f4_11</th><th>f4_13</th><th>f4_14</th><th>f4_16</th><th>f4_17</th><th>f4_18</th><th>f4_2</th><th>f4_3</th><th>f4_5</th><th>f4_6</th><th>f4_7</th><th>f4_8</th><th>f4_9</th><th>f5</th><th>f5_1</th><th>f5_3</th><th>f5_4</th><th>f6</th><th>f6_1</th><th>f6_2</th><th>f6_4</th><th>f7</th><th>f8</th><th>f8_1</th><th>f8_2</th><th>f8_3</th><th>f8_4</th><th>f8_5</th></tr><tr><td>3e12208dd0be281c92a6ab57d9a6fb32</td><td>415</td><td>1245</td><td>83</td><td>166</td><td>249</td><td>3486</td><td>83</td><td>830</td><td>332</td><td>6142</td><td>1660</td><td>332</td><td>0</td><td>0</td><td>0</td><td>0</td><td>0</td><td>83</td><td>83</td><td>747</td><td>0</td><td>415</td><td>830</td><td>166</td><td>830</td><td>415</td><td>166</td><td>498</td><td>0</td><td>2241</td><td>249</td><td>1079</td><td>415</td><td>1245</td><td>0</td><td>83</td><td>415</td><td>0</td><td>0</td><td>1079</td><td>10458</td><td>747</td><td>498</td><td>1826</td><td>166</td><td>0</td><td>0</td><td>332</td><td>249</td><td>249</td><td>0</td><td>2407</td><td>249</td><td>0</td><td>249</td><td>1743</td><td>3652</td><td>913</td><td>1079</td><td>2075</td><td>0</td><td>1079</td><td>5395</td><td>0</td><td>0</td><td>0</td><td>498</td><td>0</td><td>332</td><td>0</td><td>332</td><td>332</td><td>0</td><td>0</td><td>0</td><td>83</td><td>0</td><td>332</td><td>0</td><td>83</td><td>1660</td><td>498</td><td>0</td><td>332</td><td>0</td><td>0</td><td>332</td><td>83</td><td>1826</td><td>0</td><td>830</td><td>0</td><td>0</td><td>0</td><td>166</td><td>0</td><td>415</td><td>83</td><td>83</td><td>0</td><td>3984</td><td>0</td><td>0</td><td>747</td><td>249</td><td>0</td><td>332</td><td>166</td><td>498</td><td>83</td><td>166</td><td>498</td><td>830</td><td>83</td><td>166</td><td>83</td><td>0</td><td>0</td><td>0</td><td>0</td><td>166</td><td>332</td><td>83</td><td>4233</td><td>83</td><td>166</td><td>0</td><td>3735</td><td>83</td><td>0</td><td>1162</td><td>0</td><td>1079</td><td>0</td></tr><tr><td>82cc4851f9e4faa4e54309f8bb73fd7c</td><td>6142</td><td>22161</td><td>3735</td><td>14193</td><td>13031</td><td>70052</td><td>2324</td><td>29880</td><td>6142</td><td>60258</td><td>65321</td><td>5976</td><td>1909</td><td>0</td><td>830</td><td>83</td><td>1245</td><td>996</td><td>581</td><td>14193</td><td>332</td><td>8715</td><td>14193</td><td>996</td><td>6889</td><td>4316</td><td>249</td><td>12616</td><td>166</td><td>24983</td><td>15936</td><td>2822</td><td>747</td><td>8300</td><td>0</td><td>2324</td><td>19747</td><td>747</td><td>6557</td><td>24900</td><td>145665</td><td>2407</td><td>1162</td><td>80676</td><td>2490</td><td>664</td><td>830</td><td>4980</td><td>1660</td><td>249</td><td>415</td><td>21082</td><td>83</td><td>166</td><td>11703</td><td>56440</td><td>15853</td><td>12782</td><td>10043</td><td>7055</td><td>249</td><td>27556</td><td>103335</td><td>83</td><td>0</td><td>0</td><td>2739</td><td>1411</td><td>3818</td><td>1494</td><td>2490</td><td>415</td><td>4980</td><td>664</td><td>166</td><td>1079</td><td>830</td><td>2656</td><td>1660</td><td>6308</td><td>240036</td><td>11122</td><td>2490</td><td>4897</td><td>83</td><td>913</td><td>4648</td><td>2324</td><td>9130</td><td>830</td><td>4399</td><td>996</td><td>15687</td><td>4233</td><td>16434</td><td>664</td><td>2241</td><td>6640</td><td>1992</td><td>0</td><td>2905</td><td>249</td><td>415</td><td>22576</td><td>1494</td><td>7636</td><td>7055</td><td>6889</td><td>4150</td><td>498</td><td>3652</td><td>4980</td><td>5727</td><td>4233</td><td>8881</td><td>996</td><td>1411</td><td>249</td><td>5478</td><td>747</td><td>8383</td><td>5727</td><td>0</td><td>16434</td><td>3486</td><td>2407</td><td>747</td><td>13197</td><td>996</td><td>498</td><td>13446</td><td>5893</td><td>9628</td><td>0</td></tr><tr><td>cb6041cc08444746caf6039d8b9e43cb</td><td>249</td><td>747</td><td>0</td><td>0</td><td>0</td><td>913</td><td>0</td><td>166</td><td>83</td><td>2407</td><td>83</td><td>0</td><td>249</td><td>0</td><td>83</td><td>0</td><td>0</td><td>0</td><td>0</td><td>332</td><td>0</td><td>498</td><td>664</td><td>0</td><td>166</td><td>0</td><td>0</td><td>415</td><td>0</td><td>166</td><td>0</td><td>664</td><td>249</td><td>664</td><td>0</td><td>83</td><td>664</td><td>0</td><td>83</td><td>249</td><td>10541</td><td>1328</td><td>415</td><td>1577</td><td>249</td><td>0</td><td>83</td><td>0</td><td>83</td><td>0</td><td>0</td><td>498</td><td>83</td><td>83</td><td>249</td><td>1328</td><td>3735</td><td>415</td><td>747</td><td>249</td><td>0</td><td>2075</td><td>1245</td><td>0</td><td>83</td><td>83</td><td>83</td><td>0</td><td>415</td><td>0</td><td>415</td><td>83</td><td>0</td><td>0</td><td>0</td><td>0</td><td>0</td><td>249</td><td>0</td><td>0</td><td>166</td><td>83</td><td>0</td><td>249</td><td>0</td><td>0</td><td>166</td><td>0</td><td>913</td><td>0</td><td>498</td><td>0</td><td>166</td><td>0</td><td>83</td><td>0</td><td>166</td><td>83</td><td>0</td><td>0</td><td>3901</td><td>0</td><td>0</td><td>498</td><td>249</td><td>0</td><td>249</td><td>0</td><td>83</td><td>83</td><td>249</td><td>249</td><td>415</td><td>0</td><td>0</td><td>83</td><td>0</td><td>0</td><td>0</td><td>0</td><td>83</td><td>332</td><td>249</td><td>498</td><td>0</td><td>0</td><td>0</td><td>1577</td><td>0</td><td>0</td><td>166</td><td>83</td><td>83</td><td>0</td></tr><tr><td>a735449c5c09df639c35a7d61fad3ee5</td><td>0</td><td>0</td><td>0</td><td>0</td><td>0</td><td>0</td><td>0</td><td>0</td><td>0</td><td>0</td><td>83</td><td>0</td><td>0</td><td>0</td><td>0</td><td>0</td><td>0</td><td>83</td><td>0</td><td>83</td><td>0</td><td>0</td><td>0</td><td>0</td><td>0</td><td>0</td><td>0</td><td>0</td><td>0</td><td>0</td><td>0</td><td>0</td><td>83</td><td>83</td><td>0</td><td>0</td><td>0</td><td>0</td><td>0</td><td>0</td><td>581</td><td>166</td><td>0</td><td>0</td><td>0</td><td>0</td><td>0</td><td>0</td><td>0</td><td>0</td><td>0</td><td>0</td><td>83</td><td>0</td><td>0</td><td>0</td><td>0</td><td>0</td><td>0</td><td>0</td><td>0</td><td>0</td><td>0</td><td>0</td><td>0</td><td>0</td><td>0</td><td>0</td><td>0</td><td>0</td><td>0</td><td>0</td><td>0</td><td>0</td><td>0</td><td>0</td><td>0</td><td>0</td><td>0</td><td>0</td><td>0</td><td>0</td><td>0</td><td>83</td><td>0</td><td>0</td><td>83</td><td>0</td><td>83</td><td>0</td><td>83</td><td>0</td><td>0</td><td>0</td><td>0</td><td>0</td><td>0</td><td>0</td><td>0</td><td>0</td><td>498</td><td>0</td><td>0</td><td>0</td><td>0</td><td>0</td><td>0</td><td>0</td><td>0</td><td>0</td><td>83</td><td>0</td><td>0</td><td>0</td><td>0</td><td>0</td><td>0</td><td>0</td><td>0</td><td>0</td><td>0</td><td>0</td><td>0</td><td>0</td><td>0</td><td>0</td><td>0</td><td>166</td><td>0</td><td>0</td><td>0</td><td>0</td><td>83</td><td>0</td></tr><tr><td>b05379ac3f9b7d99370d443cfd5dcc28</td><td>2656</td><td>13363</td><td>1826</td><td>4482</td><td>6557</td><td>42828</td><td>1494</td><td>12782</td><td>3486</td><td>33781</td><td>18343</td><td>498</td><td>249</td><td>0</td><td>249</td><td>83</td><td>415</td><td>249</td><td>83</td><td>3735</td><td>83</td><td>3320</td><td>4814</td><td>249</td><td>3154</td><td>1494</td><td>166</td><td>5312</td><td>0</td><td>11371</td><td>10209</td><td>3403</td><td>581</td><td>4980</td><td>0</td><td>1411</td><td>10375</td><td>498</td><td>2573</td><td>11122</td><td>72044</td><td>1411</td><td>498</td><td>21331</td><td>2324</td><td>166</td><td>332</td><td>2822</td><td>1079</td><td>83</td><td>249</td><td>10458</td><td>0</td><td>166</td><td>2739</td><td>37433</td><td>9130</td><td>6308</td><td>7802</td><td>3403</td><td>415</td><td>45982</td><td>61005</td><td>0</td><td>83</td><td>0</td><td>2324</td><td>830</td><td>1909</td><td>1162</td><td>1577</td><td>83</td><td>2241</td><td>166</td><td>0</td><td>332</td><td>83</td><td>664</td><td>0</td><td>1411</td><td>77024</td><td>6723</td><td>332</td><td>1826</td><td>0</td><td>498</td><td>2490</td><td>1909</td><td>5561</td><td>415</td><td>2656</td><td>332</td><td>7968</td><td>1577</td><td>7387</td><td>166</td><td>913</td><td>3237</td><td>996</td><td>0</td><td>5644</td><td>249</td><td>166</td><td>9628</td><td>747</td><td>3237</td><td>3486</td><td>2905</td><td>1909</td><td>166</td><td>2075</td><td>2158</td><td>1743</td><td>1577</td><td>3403</td><td>830</td><td>498</td><td>83</td><td>1992</td><td>498</td><td>3984</td><td>2739</td><td>83</td><td>7221</td><td>1743</td><td>747</td><td>166</td><td>6640</td><td>0</td><td>249</td><td>6474</td><td>3237</td><td>3818</td><td>0</td></tr><tr><td>44c097b7bd219d104050abbafe51bd49</td><td>83</td><td>1494</td><td>0</td><td>166</td><td>415</td><td>2988</td><td>83</td><td>1494</td><td>332</td><td>2075</td><td>498</td><td>0</td><td>0</td><td>0</td><td>0</td><td>83</td><td>83</td><td>83</td><td>0</td><td>747</td><td>166</td><td>664</td><td>1577</td><td>249</td><td>664</td><td>332</td><td>0</td><td>830</td><td>0</td><td>415</td><td>415</td><td>830</td><td>166</td><td>1909</td><td>83</td><td>249</td><td>747</td><td>0</td><td>166</td><td>498</td><td>10707</td><td>664</td><td>166</td><td>1577</td><td>747</td><td>83</td><td>83</td><td>83</td><td>83</td><td>0</td><td>0</td><td>498</td><td>83</td><td>0</td><td>249</td><td>2075</td><td>1743</td><td>498</td><td>1162</td><td>166</td><td>0</td><td>3154</td><td>2739</td><td>0</td><td>0</td><td>0</td><td>83</td><td>0</td><td>166</td><td>0</td><td>166</td><td>166</td><td>0</td><td>83</td><td>0</td><td>0</td><td>0</td><td>415</td><td>0</td><td>166</td><td>747</td><td>332</td><td>83</td><td>249</td><td>0</td><td>0</td><td>415</td><td>0</td><td>581</td><td>166</td><td>83</td><td>0</td><td>415</td><td>415</td><td>83</td><td>83</td><td>249</td><td>332</td><td>332</td><td>0</td><td>3486</td><td>0</td><td>83</td><td>830</td><td>249</td><td>249</td><td>83</td><td>0</td><td>83</td><td>83</td><td>249</td><td>249</td><td>332</td><td>0</td><td>83</td><td>0</td><td>166</td><td>0</td><td>249</td><td>0</td><td>498</td><td>83</td><td>0</td><td>1328</td><td>83</td><td>83</td><td>83</td><td>2490</td><td>0</td><td>0</td><td>83</td><td>83</td><td>332</td><td>0</td></tr><tr><td>73ff8ef735e1d68f0cdcbb84d788f2b6</td><td>166</td><td>249</td><td>83</td><td>415</td><td>166</td><td>1162</td><td>0</td><td>498</td><td>332</td><td>1743</td><td>747</td><td>0</td><td>0</td><td>0</td><td>0</td><td>0</td><td>332</td><td>332</td><td>0</td><td>249</td><td>0</td><td>166</td><td>415</td><td>0</td><td>0</td><td>83</td><td>0</td><td>249</td><td>0</td><td>498</td><td>332</td><td>581</td><td>332</td><td>996</td><td>0</td><td>0</td><td>332</td><td>0</td><td>83</td><td>166</td><td>8134</td><td>664</td><td>332</td><td>996</td><td>415</td><td>0</td><td>83</td><td>83</td><td>0</td><td>0</td><td>0</td><td>249</td><td>0</td><td>0</td><td>83</td><td>581</td><td>1992</td><td>415</td><td>166</td><td>332</td><td>83</td><td>581</td><td>498</td><td>0</td><td>0</td><td>0</td><td>83</td><td>0</td><td>332</td><td>0</td><td>332</td><td>0</td><td>83</td><td>0</td><td>0</td><td>0</td><td>0</td><td>83</td><td>0</td><td>83</td><td>1494</td><td>0</td><td>0</td><td>83</td><td>0</td><td>0</td><td>332</td><td>0</td><td>664</td><td>0</td><td>498</td><td>166</td><td>0</td><td>0</td><td>83</td><td>83</td><td>415</td><td>83</td><td>0</td><td>0</td><td>4482</td><td>0</td><td>0</td><td>747</td><td>0</td><td>0</td><td>166</td><td>249</td><td>166</td><td>0</td><td>332</td><td>498</td><td>166</td><td>166</td><td>83</td><td>0</td><td>0</td><td>0</td><td>0</td><td>0</td><td>249</td><td>0</td><td>166</td><td>166</td><td>0</td><td>0</td><td>0</td><td>1992</td><td>0</td><td>0</td><td>249</td><td>0</td><td>166</td><td>0</td></tr><tr><td>38d5ad2d22b61109fd8e7b43cd0e8901</td><td>1494</td><td>7304</td><td>249</td><td>2075</td><td>1909</td><td>24485</td><td>581</td><td>6723</td><td>2241</td><td>25149</td><td>9960</td><td>332</td><td>83</td><td>0</td><td>664</td><td>249</td><td>415</td><td>249</td><td>0</td><td>2739</td><td>0</td><td>1245</td><td>2656</td><td>83</td><td>1079</td><td>747</td><td>0</td><td>4150</td><td>0</td><td>5478</td><td>3569</td><td>4233</td><td>581</td><td>3984</td><td>83</td><td>1577</td><td>8300</td><td>332</td><td>1079</td><td>6308</td><td>40338</td><td>3320</td><td>249</td><td>12284</td><td>1245</td><td>249</td><td>83</td><td>2075</td><td>498</td><td>166</td><td>83</td><td>10043</td><td>249</td><td>0</td><td>2905</td><td>17845</td><td>10458</td><td>3818</td><td>5893</td><td>4565</td><td>332</td><td>15770</td><td>41832</td><td>0</td><td>0</td><td>0</td><td>4814</td><td>332</td><td>2324</td><td>830</td><td>3652</td><td>1162</td><td>332</td><td>0</td><td>0</td><td>249</td><td>0</td><td>332</td><td>83</td><td>1079</td><td>51792</td><td>2324</td><td>166</td><td>830</td><td>0</td><td>0</td><td>2905</td><td>747</td><td>5893</td><td>83</td><td>2656</td><td>249</td><td>4067</td><td>664</td><td>5063</td><td>332</td><td>664</td><td>1079</td><td>581</td><td>0</td><td>6225</td><td>166</td><td>83</td><td>6225</td><td>415</td><td>1162</td><td>1992</td><td>2822</td><td>1577</td><td>332</td><td>1494</td><td>1826</td><td>3320</td><td>1743</td><td>1992</td><td>166</td><td>166</td><td>498</td><td>664</td><td>249</td><td>913</td><td>1743</td><td>0</td><td>6474</td><td>1162</td><td>83</td><td>0</td><td>7387</td><td>166</td><td>83</td><td>3735</td><td>830</td><td>1826</td><td>0</td></tr><tr><td>1c60154546102e6525f68cb4f31e0657</td><td>0</td><td>83</td><td>0</td><td>83</td><td>83</td><td>996</td><td>0</td><td>166</td><td>0</td><td>1079</td><td>747</td><td>166</td><td>0</td><td>0</td><td>0</td><td>0</td><td>0</td><td>0</td><td>0</td><td>0</td><td>0</td><td>0</td><td>83</td><td>0</td><td>0</td><td>0</td><td>0</td><td>166</td><td>0</td><td>249</td><td>166</td><td>498</td><td>83</td><td>581</td><td>0</td><td>0</td><td>166</td><td>0</td><td>0</td><td>0</td><td>4233</td><td>0</td><td>0</td><td>913</td><td>0</td><td>0</td><td>0</td><td>166</td><td>0</td><td>83</td><td>0</td><td>249</td><td>0</td><td>0</td><td>0</td><td>2324</td><td>664</td><td>83</td><td>415</td><td>0</td><td>166</td><td>249</td><td>10956</td><td>0</td><td>0</td><td>0</td><td>166</td><td>0</td><td>0</td><td>0</td><td>0</td><td>166</td><td>0</td><td>0</td><td>0</td><td>0</td><td>0</td><td>0</td><td>0</td><td>83</td><td>664</td><td>0</td><td>0</td><td>0</td><td>0</td><td>0</td><td>0</td><td>0</td><td>166</td><td>0</td><td>83</td><td>0</td><td>0</td><td>0</td><td>415</td><td>0</td><td>83</td><td>83</td><td>0</td><td>0</td><td>166</td><td>0</td><td>0</td><td>0</td><td>0</td><td>0</td><td>0</td><td>0</td><td>0</td><td>0</td><td>166</td><td>0</td><td>1245</td><td>0</td><td>0</td><td>0</td><td>0</td><td>0</td><td>0</td><td>0</td><td>0</td><td>0</td><td>0</td><td>166</td><td>83</td><td>0</td><td>83</td><td>2241</td><td>0</td><td>0</td><td>83</td><td>0</td><td>0</td><td>0</td></tr><tr><td>91690261186ae5bee8f83808ea1e4a01</td><td>498</td><td>3901</td><td>415</td><td>913</td><td>332</td><td>8881</td><td>166</td><td>3071</td><td>415</td><td>8300</td><td>5395</td><td>664</td><td>1743</td><td>0</td><td>83</td><td>83</td><td>166</td><td>913</td><td>83</td><td>1577</td><td>0</td><td>830</td><td>2407</td><td>166</td><td>1079</td><td>498</td><td>0</td><td>2822</td><td>0</td><td>4897</td><td>5810</td><td>1826</td><td>332</td><td>3901</td><td>0</td><td>166</td><td>2324</td><td>83</td><td>83</td><td>2407</td><td>45401</td><td>2075</td><td>249</td><td>8217</td><td>3071</td><td>0</td><td>83</td><td>664</td><td>83</td><td>83</td><td>83</td><td>2241</td><td>0</td><td>0</td><td>1245</td><td>5893</td><td>4067</td><td>1494</td><td>3486</td><td>1577</td><td>249</td><td>5976</td><td>15604</td><td>0</td><td>166</td><td>83</td><td>2158</td><td>498</td><td>996</td><td>1245</td><td>1411</td><td>498</td><td>415</td><td>0</td><td>0</td><td>415</td><td>0</td><td>332</td><td>83</td><td>332</td><td>11039</td><td>1909</td><td>166</td><td>498</td><td>83</td><td>83</td><td>1245</td><td>498</td><td>2158</td><td>166</td><td>913</td><td>83</td><td>1577</td><td>0</td><td>1328</td><td>0</td><td>498</td><td>415</td><td>249</td><td>0</td><td>3237</td><td>0</td><td>249</td><td>3320</td><td>415</td><td>1162</td><td>996</td><td>747</td><td>1162</td><td>166</td><td>830</td><td>1162</td><td>1162</td><td>0</td><td>1743</td><td>332</td><td>415</td><td>166</td><td>249</td><td>166</td><td>913</td><td>83</td><td>166</td><td>3237</td><td>332</td><td>166</td><td>332</td><td>5976</td><td>0</td><td>83</td><td>2324</td><td>1079</td><td>1328</td><td>83</td></tr><tr><td>52d7b69796362a8ed1691a6cc02ddde4</td><td>332</td><td>913</td><td>332</td><td>166</td><td>498</td><td>2324</td><td>83</td><td>996</td><td>332</td><td>5146</td><td>1494</td><td>0</td><td>166</td><td>0</td><td>83</td><td>0</td><td>249</td><td>166</td><td>249</td><td>996</td><td>83</td><td>415</td><td>2324</td><td>0</td><td>747</td><td>332</td><td>0</td><td>1909</td><td>0</td><td>1162</td><td>664</td><td>581</td><td>415</td><td>1411</td><td>0</td><td>498</td><td>1826</td><td>83</td><td>166</td><td>1577</td><td>8881</td><td>1162</td><td>664</td><td>2822</td><td>166</td><td>0</td><td>0</td><td>332</td><td>166</td><td>0</td><td>0</td><td>2407</td><td>0</td><td>0</td><td>1162</td><td>4648</td><td>3071</td><td>747</td><td>1577</td><td>913</td><td>83</td><td>6142</td><td>8466</td><td>0</td><td>0</td><td>249</td><td>664</td><td>166</td><td>830</td><td>83</td><td>498</td><td>0</td><td>166</td><td>83</td><td>0</td><td>83</td><td>0</td><td>0</td><td>0</td><td>249</td><td>1992</td><td>332</td><td>0</td><td>498</td><td>0</td><td>0</td><td>830</td><td>249</td><td>1328</td><td>83</td><td>498</td><td>0</td><td>498</td><td>0</td><td>1577</td><td>166</td><td>249</td><td>83</td><td>332</td><td>0</td><td>3486</td><td>0</td><td>83</td><td>1826</td><td>83</td><td>83</td><td>249</td><td>332</td><td>581</td><td>83</td><td>332</td><td>498</td><td>747</td><td>0</td><td>664</td><td>83</td><td>166</td><td>83</td><td>249</td><td>0</td><td>747</td><td>249</td><td>0</td><td>2241</td><td>581</td><td>83</td><td>166</td><td>2573</td><td>0</td><td>83</td><td>498</td><td>581</td><td>581</td><td>0</td></tr><tr><td>3a43dcdff3c0b66b1acb1644ff055f9d</td><td>996</td><td>2822</td><td>996</td><td>913</td><td>747</td><td>9794</td><td>498</td><td>3569</td><td>747</td><td>10209</td><td>5976</td><td>83</td><td>83</td><td>0</td><td>249</td><td>83</td><td>83</td><td>166</td><td>83</td><td>2407</td><td>83</td><td>1328</td><td>3071</td><td>332</td><td>2739</td><td>1245</td><td>0</td><td>3984</td><td>249</td><td>2241</td><td>2241</td><td>913</td><td>415</td><td>4067</td><td>0</td><td>664</td><td>3154</td><td>83</td><td>581</td><td>3403</td><td>21580</td><td>1245</td><td>332</td><td>6972</td><td>913</td><td>83</td><td>0</td><td>1245</td><td>1577</td><td>249</td><td>166</td><td>4648</td><td>166</td><td>0</td><td>2075</td><td>11288</td><td>3569</td><td>1162</td><td>4067</td><td>1826</td><td>166</td><td>16766</td><td>31706</td><td>0</td><td>0</td><td>0</td><td>2158</td><td>332</td><td>913</td><td>830</td><td>1162</td><td>664</td><td>166</td><td>249</td><td>166</td><td>166</td><td>83</td><td>830</td><td>0</td><td>415</td><td>7138</td><td>996</td><td>0</td><td>1079</td><td>0</td><td>83</td><td>830</td><td>913</td><td>3486</td><td>166</td><td>498</td><td>83</td><td>1577</td><td>0</td><td>2241</td><td>83</td><td>332</td><td>83</td><td>581</td><td>0</td><td>3071</td><td>0</td><td>249</td><td>3071</td><td>332</td><td>498</td><td>830</td><td>1660</td><td>996</td><td>166</td><td>249</td><td>1079</td><td>913</td><td>581</td><td>581</td><td>0</td><td>166</td><td>498</td><td>415</td><td>0</td><td>747</td><td>581</td><td>83</td><td>5727</td><td>332</td><td>83</td><td>83</td><td>3403</td><td>249</td><td>415</td><td>1494</td><td>1992</td><td>1909</td><td>0</td></tr><tr><td>2920ece99323b4c111d6f9affc7ea034</td><td>2490</td><td>6225</td><td>2075</td><td>3071</td><td>2573</td><td>19090</td><td>581</td><td>5229</td><td>1245</td><td>17347</td><td>17845</td><td>1577</td><td>2407</td><td>0</td><td>0</td><td>83</td><td>415</td><td>2075</td><td>249</td><td>3320</td><td>0</td><td>1411</td><td>5063</td><td>249</td><td>2490</td><td>1494</td><td>83</td><td>6723</td><td>0</td><td>9794</td><td>10043</td><td>1660</td><td>332</td><td>4150</td><td>83</td><td>830</td><td>5063</td><td>249</td><td>1162</td><td>5063</td><td>24651</td><td>415</td><td>498</td><td>8383</td><td>747</td><td>0</td><td>0</td><td>1328</td><td>498</td><td>166</td><td>83</td><td>6557</td><td>0</td><td>0</td><td>2490</td><td>12782</td><td>4897</td><td>6059</td><td>2822</td><td>4399</td><td>83</td><td>13363</td><td>21912</td><td>0</td><td>83</td><td>415</td><td>2988</td><td>166</td><td>1411</td><td>166</td><td>830</td><td>415</td><td>332</td><td>415</td><td>0</td><td>498</td><td>83</td><td>166</td><td>83</td><td>581</td><td>73953</td><td>2324</td><td>332</td><td>1494</td><td>83</td><td>473</td><td>1826</td><td>1245</td><td>4233</td><td>0</td><td>1494</td><td>249</td><td>1992</td><td>166</td><td>3237</td><td>83</td><td>747</td><td>830</td><td>498</td><td>0</td><td>664</td><td>332</td><td>166</td><td>5478</td><td>664</td><td>2241</td><td>2158</td><td>1909</td><td>1909</td><td>498</td><td>2324</td><td>1494</td><td>2241</td><td>1328</td><td>3486</td><td>415</td><td>996</td><td>83</td><td>1411</td><td>415</td><td>1826</td><td>1743</td><td>83</td><td>7885</td><td>747</td><td>1328</td><td>415</td><td>8300</td><td>166</td><td>83</td><td>3652</td><td>1660</td><td>2241</td><td>0</td></tr><tr><td>c4ec24e0a58ebedaa1661e5c09e47bb5</td><td>581</td><td>2739</td><td>83</td><td>747</td><td>1328</td><td>3818</td><td>249</td><td>2158</td><td>581</td><td>7221</td><td>2407</td><td>0</td><td>0</td><td>0</td><td>0</td><td>83</td><td>83</td><td>83</td><td>0</td><td>1494</td><td>83</td><td>581</td><td>1162</td><td>83</td><td>581</td><td>581</td><td>0</td><td>2158</td><td>83</td><td>1577</td><td>0</td><td>166</td><td>332</td><td>332</td><td>0</td><td>249</td><td>1328</td><td>0</td><td>0</td><td>1328</td><td>20584</td><td>2241</td><td>332</td><td>3901</td><td>332</td><td>83</td><td>83</td><td>498</td><td>498</td><td>249</td><td>83</td><td>2407</td><td>0</td><td>0</td><td>1411</td><td>10458</td><td>4233</td><td>830</td><td>2407</td><td>498</td><td>249</td><td>7304</td><td>12118</td><td>0</td><td>0</td><td>0</td><td>3735</td><td>415</td><td>1577</td><td>5395</td><td>2490</td><td>1328</td><td>83</td><td>83</td><td>0</td><td>166</td><td>0</td><td>0</td><td>83</td><td>166</td><td>2075</td><td>747</td><td>0</td><td>664</td><td>0</td><td>0</td><td>1079</td><td>0</td><td>1992</td><td>0</td><td>747</td><td>0</td><td>249</td><td>0</td><td>1162</td><td>0</td><td>498</td><td>996</td><td>581</td><td>0</td><td>2241</td><td>0</td><td>166</td><td>1411</td><td>166</td><td>166</td><td>415</td><td>0</td><td>498</td><td>83</td><td>415</td><td>249</td><td>2490</td><td>249</td><td>332</td><td>166</td><td>0</td><td>249</td><td>498</td><td>0</td><td>498</td><td>83</td><td>0</td><td>3569</td><td>166</td><td>498</td><td>83</td><td>2158</td><td>0</td><td>0</td><td>1328</td><td>249</td><td>1328</td><td>0</td></tr><tr><td>0a5fef95db34383403d11cb6af937309</td><td>83</td><td>83</td><td>83</td><td>83</td><td>0</td><td>1162</td><td>0</td><td>581</td><td>0</td><td>1411</td><td>415</td><td>0</td><td>83</td><td>0</td><td>0</td><td>0</td><td>0</td><td>83</td><td>0</td><td>498</td><td>0</td><td>332</td><td>1411</td><td>83</td><td>1079</td><td>249</td><td>0</td><td>747</td><td>0</td><td>166</td><td>0</td><td>664</td><td>166</td><td>415</td><td>0</td><td>249</td><td>913</td><td>0</td><td>0</td><td>581</td><td>11205</td><td>1328</td><td>0</td><td>1328</td><td>249</td><td>0</td><td>0</td><td>332</td><td>83</td><td>0</td><td>83</td><td>415</td><td>0</td><td>83</td><td>0</td><td>2656</td><td>1909</td><td>415</td><td>1992</td><td>498</td><td>0</td><td>14774</td><td>9296</td><td>0</td><td>83</td><td>0</td><td>332</td><td>0</td><td>249</td><td>0</td><td>415</td><td>83</td><td>166</td><td>0</td><td>83</td><td>0</td><td>0</td><td>415</td><td>0</td><td>83</td><td>415</td><td>0</td><td>0</td><td>415</td><td>0</td><td>0</td><td>581</td><td>83</td><td>747</td><td>83</td><td>332</td><td>0</td><td>83</td><td>0</td><td>166</td><td>0</td><td>249</td><td>0</td><td>83</td><td>0</td><td>1992</td><td>0</td><td>83</td><td>332</td><td>0</td><td>83</td><td>166</td><td>0</td><td>498</td><td>166</td><td>83</td><td>830</td><td>581</td><td>0</td><td>249</td><td>83</td><td>0</td><td>249</td><td>83</td><td>0</td><td>166</td><td>0</td><td>0</td><td>498</td><td>83</td><td>0</td><td>0</td><td>2075</td><td>0</td><td>0</td><td>664</td><td>83</td><td>913</td><td>0</td></tr><tr><td>8316146a6f78cc6d9f113f0390859417</td><td>0</td><td>166</td><td>0</td><td>0</td><td>0</td><td>0</td><td>0</td><td>83</td><td>83</td><td>581</td><td>747</td><td>0</td><td>0</td><td>0</td><td>0</td><td>249</td><td>83</td><td>166</td><td>0</td><td>332</td><td>0</td><td>664</td><td>913</td><td>0</td><td>83</td><td>0</td><td>83</td><td>1577</td><td>0</td><td>747</td><td>498</td><td>332</td><td>83</td><td>1660</td><td>0</td><td>0</td><td>0</td><td>83</td><td>0</td><td>83</td><td>8964</td><td>1162</td><td>0</td><td>830</td><td>581</td><td>0</td><td>0</td><td>332</td><td>83</td><td>0</td><td>0</td><td>83</td><td>0</td><td>0</td><td>0</td><td>249</td><td>664</td><td>166</td><td>415</td><td>83</td><td>0</td><td>581</td><td>913</td><td>0</td><td>83</td><td>83</td><td>249</td><td>83</td><td>0</td><td>0</td><td>83</td><td>83</td><td>0</td><td>0</td><td>0</td><td>0</td><td>0</td><td>166</td><td>0</td><td>0</td><td>996</td><td>747</td><td>0</td><td>83</td><td>0</td><td>0</td><td>332</td><td>0</td><td>664</td><td>0</td><td>249</td><td>0</td><td>166</td><td>0</td><td>0</td><td>0</td><td>249</td><td>0</td><td>249</td><td>83</td><td>3403</td><td>0</td><td>83</td><td>581</td><td>166</td><td>0</td><td>0</td><td>0</td><td>0</td><td>83</td><td>332</td><td>415</td><td>83</td><td>0</td><td>0</td><td>0</td><td>0</td><td>0</td><td>0</td><td>0</td><td>0</td><td>0</td><td>83</td><td>166</td><td>0</td><td>0</td><td>0</td><td>2158</td><td>0</td><td>0</td><td>332</td><td>166</td><td>332</td><td>0</td></tr><tr><td>a814069db8d32f0fa6e188f41059c6e1</td><td>166</td><td>996</td><td>0</td><td>332</td><td>83</td><td>2905</td><td>0</td><td>1079</td><td>332</td><td>5395</td><td>1494</td><td>0</td><td>0</td><td>0</td><td>83</td><td>0</td><td>83</td><td>332</td><td>0</td><td>1328</td><td>0</td><td>332</td><td>1909</td><td>83</td><td>415</td><td>498</td><td>0</td><td>1328</td><td>0</td><td>332</td><td>664</td><td>1660</td><td>249</td><td>1826</td><td>0</td><td>166</td><td>1328</td><td>0</td><td>0</td><td>332</td><td>27639</td><td>2075</td><td>249</td><td>3320</td><td>332</td><td>0</td><td>0</td><td>498</td><td>166</td><td>0</td><td>83</td><td>664</td><td>83</td><td>0</td><td>83</td><td>5810</td><td>5063</td><td>498</td><td>2075</td><td>581</td><td>0</td><td>7055</td><td>10209</td><td>0</td><td>83</td><td>0</td><td>2407</td><td>83</td><td>581</td><td>332</td><td>2158</td><td>1245</td><td>0</td><td>0</td><td>0</td><td>0</td><td>0</td><td>166</td><td>0</td><td>332</td><td>2490</td><td>83</td><td>83</td><td>581</td><td>0</td><td>83</td><td>913</td><td>332</td><td>1577</td><td>83</td><td>415</td><td>0</td><td>332</td><td>83</td><td>498</td><td>0</td><td>249</td><td>166</td><td>249</td><td>0</td><td>2739</td><td>0</td><td>83</td><td>1494</td><td>0</td><td>249</td><td>83</td><td>0</td><td>664</td><td>249</td><td>83</td><td>581</td><td>996</td><td>0</td><td>166</td><td>249</td><td>83</td><td>249</td><td>0</td><td>0</td><td>581</td><td>0</td><td>0</td><td>996</td><td>249</td><td>0</td><td>0</td><td>1494</td><td>83</td><td>166</td><td>996</td><td>166</td><td>747</td><td>0</td></tr><tr><td>ca064c2682ca48c6a21de012e87c0df5</td><td>996</td><td>7885</td><td>332</td><td>664</td><td>996</td><td>19588</td><td>249</td><td>4814</td><td>1992</td><td>23655</td><td>6889</td><td>664</td><td>0</td><td>0</td><td>0</td><td>0</td><td>747</td><td>498</td><td>166</td><td>2324</td><td>83</td><td>913</td><td>3154</td><td>581</td><td>1992</td><td>1245</td><td>166</td><td>7387</td><td>83</td><td>3486</td><td>3984</td><td>1909</td><td>581</td><td>3652</td><td>0</td><td>1743</td><td>9628</td><td>0</td><td>830</td><td>3818</td><td>54863</td><td>4980</td><td>249</td><td>15272</td><td>1328</td><td>83</td><td>83</td><td>2324</td><td>498</td><td>249</td><td>83</td><td>11122</td><td>83</td><td>83</td><td>2324</td><td>34362</td><td>13363</td><td>3071</td><td>7802</td><td>2822</td><td>498</td><td>11205</td><td>47808</td><td>0</td><td>0</td><td>0</td><td>6557</td><td>664</td><td>2407</td><td>1660</td><td>3735</td><td>1577</td><td>747</td><td>166</td><td>0</td><td>166</td><td>0</td><td>581</td><td>166</td><td>498</td><td>13695</td><td>1660</td><td>0</td><td>1245</td><td>0</td><td>0</td><td>1577</td><td>996</td><td>5063</td><td>0</td><td>2656</td><td>0</td><td>1411</td><td>83</td><td>2241</td><td>249</td><td>747</td><td>332</td><td>332</td><td>0</td><td>4150</td><td>83</td><td>83</td><td>7636</td><td>581</td><td>1743</td><td>913</td><td>996</td><td>2573</td><td>83</td><td>2158</td><td>1494</td><td>4648</td><td>332</td><td>1909</td><td>664</td><td>332</td><td>415</td><td>1660</td><td>0</td><td>664</td><td>996</td><td>0</td><td>12035</td><td>1494</td><td>1162</td><td>83</td><td>6391</td><td>0</td><td>249</td><td>3818</td><td>996</td><td>2490</td><td>0</td></tr><tr><td>4b9e4cf2fbdc8281b8a1f9f12b80ce4d</td><td>83</td><td>83</td><td>1909</td><td>913</td><td>0</td><td>166</td><td>0</td><td>249</td><td>83</td><td>1909</td><td>166</td><td>0</td><td>0</td><td>0</td><td>0</td><td>83</td><td>83</td><td>83</td><td>0</td><td>332</td><td>0</td><td>83</td><td>747</td><td>166</td><td>0</td><td>249</td><td>0</td><td>332</td><td>0</td><td>249</td><td>166</td><td>332</td><td>166</td><td>415</td><td>0</td><td>83</td><td>166</td><td>0</td><td>0</td><td>166</td><td>5478</td><td>249</td><td>249</td><td>664</td><td>332</td><td>0</td><td>0</td><td>83</td><td>0</td><td>83</td><td>83</td><td>249</td><td>415</td><td>0</td><td>0</td><td>415</td><td>332</td><td>0</td><td>83</td><td>166</td><td>0</td><td>581</td><td>913</td><td>0</td><td>0</td><td>664</td><td>0</td><td>0</td><td>166</td><td>0</td><td>166</td><td>0</td><td>0</td><td>0</td><td>0</td><td>0</td><td>0</td><td>83</td><td>0</td><td>0</td><td>166</td><td>0</td><td>0</td><td>83</td><td>0</td><td>0</td><td>166</td><td>0</td><td>166</td><td>0</td><td>83</td><td>0</td><td>83</td><td>83</td><td>581</td><td>0</td><td>83</td><td>83</td><td>83</td><td>0</td><td>1328</td><td>0</td><td>83</td><td>664</td><td>0</td><td>0</td><td>0</td><td>0</td><td>166</td><td>166</td><td>0</td><td>415</td><td>249</td><td>0</td><td>166</td><td>0</td><td>0</td><td>0</td><td>0</td><td>0</td><td>83</td><td>0</td><td>0</td><td>166</td><td>0</td><td>0</td><td>0</td><td>830</td><td>0</td><td>0</td><td>249</td><td>83</td><td>332</td><td>0</td></tr><tr><td>08f5b445ec6b29deba62e6fd8b0325a6</td><td>83</td><td>332</td><td>498</td><td>0</td><td>0</td><td>166</td><td>0</td><td>0</td><td>332</td><td>2324</td><td>913</td><td>83</td><td>4731</td><td>0</td><td>415</td><td>0</td><td>249</td><td>913</td><td>83</td><td>332</td><td>0</td><td>249</td><td>415</td><td>83</td><td>249</td><td>415</td><td>0</td><td>415</td><td>0</td><td>2158</td><td>415</td><td>1245</td><td>0</td><td>1079</td><td>0</td><td>0</td><td>83</td><td>0</td><td>0</td><td>166</td><td>8051</td><td>415</td><td>498</td><td>2075</td><td>332</td><td>332</td><td>0</td><td>83</td><td>83</td><td>0</td><td>166</td><td>0</td><td>249</td><td>83</td><td>332</td><td>83</td><td>996</td><td>747</td><td>0</td><td>83</td><td>0</td><td>249</td><td>249</td><td>0</td><td>83</td><td>415</td><td>0</td><td>0</td><td>0</td><td>0</td><td>0</td><td>83</td><td>0</td><td>0</td><td>0</td><td>0</td><td>0</td><td>83</td><td>0</td><td>83</td><td>249</td><td>0</td><td>0</td><td>415</td><td>0</td><td>0</td><td>249</td><td>0</td><td>83</td><td>0</td><td>332</td><td>0</td><td>249</td><td>166</td><td>0</td><td>0</td><td>83</td><td>83</td><td>166</td><td>0</td><td>2739</td><td>0</td><td>0</td><td>664</td><td>83</td><td>0</td><td>0</td><td>0</td><td>83</td><td>166</td><td>664</td><td>83</td><td>249</td><td>0</td><td>0</td><td>0</td><td>1162</td><td>0</td><td>0</td><td>0</td><td>83</td><td>83</td><td>83</td><td>83</td><td>0</td><td>0</td><td>0</td><td>2324</td><td>0</td><td>0</td><td>249</td><td>0</td><td>166</td><td>0</td></tr><tr><td>f47f35242ed40655814bc086d7514046</td><td>166</td><td>249</td><td>0</td><td>166</td><td>0</td><td>415</td><td>0</td><td>332</td><td>83</td><td>2324</td><td>1577</td><td>0</td><td>0</td><td>0</td><td>83</td><td>0</td><td>0</td><td>166</td><td>83</td><td>996</td><td>0</td><td>498</td><td>913</td><td>0</td><td>415</td><td>166</td><td>166</td><td>249</td><td>0</td><td>83</td><td>747</td><td>1328</td><td>166</td><td>1245</td><td>0</td><td>83</td><td>83</td><td>0</td><td>0</td><td>166</td><td>9711</td><td>581</td><td>83</td><td>1245</td><td>664</td><td>0</td><td>0</td><td>0</td><td>0</td><td>0</td><td>0</td><td>83</td><td>83</td><td>0</td><td>0</td><td>249</td><td>1079</td><td>498</td><td>83</td><td>0</td><td>0</td><td>249</td><td>415</td><td>0</td><td>0</td><td>0</td><td>249</td><td>0</td><td>0</td><td>249</td><td>332</td><td>83</td><td>0</td><td>0</td><td>0</td><td>0</td><td>0</td><td>83</td><td>0</td><td>664</td><td>2407</td><td>581</td><td>0</td><td>249</td><td>0</td><td>0</td><td>249</td><td>0</td><td>332</td><td>0</td><td>332</td><td>0</td><td>498</td><td>83</td><td>498</td><td>0</td><td>249</td><td>83</td><td>166</td><td>0</td><td>3403</td><td>0</td><td>0</td><td>664</td><td>0</td><td>83</td><td>83</td><td>83</td><td>0</td><td>0</td><td>83</td><td>332</td><td>166</td><td>166</td><td>0</td><td>0</td><td>0</td><td>0</td><td>0</td><td>0</td><td>0</td><td>249</td><td>249</td><td>166</td><td>0</td><td>83</td><td>0</td><td>2988</td><td>0</td><td>0</td><td>166</td><td>166</td><td>332</td><td>0</td></tr><tr><td>52e56004d92b8c74d53e1e42699cba6f</td><td>249</td><td>1245</td><td>0</td><td>332</td><td>415</td><td>3569</td><td>83</td><td>498</td><td>581</td><td>5063</td><td>1411</td><td>0</td><td>83</td><td>0</td><td>0</td><td>83</td><td>83</td><td>166</td><td>0</td><td>332</td><td>0</td><td>498</td><td>581</td><td>249</td><td>415</td><td>0</td><td>0</td><td>166</td><td>0</td><td>1245</td><td>830</td><td>415</td><td>249</td><td>1245</td><td>0</td><td>0</td><td>747</td><td>0</td><td>83</td><td>415</td><td>14442</td><td>1494</td><td>249</td><td>2739</td><td>747</td><td>0</td><td>166</td><td>332</td><td>0</td><td>83</td><td>0</td><td>415</td><td>166</td><td>0</td><td>249</td><td>1328</td><td>3486</td><td>498</td><td>1162</td><td>913</td><td>83</td><td>1909</td><td>1660</td><td>0</td><td>0</td><td>83</td><td>249</td><td>166</td><td>249</td><td>0</td><td>498</td><td>0</td><td>166</td><td>83</td><td>0</td><td>0</td><td>0</td><td>0</td><td>0</td><td>581</td><td>2407</td><td>1162</td><td>0</td><td>166</td><td>0</td><td>0</td><td>415</td><td>166</td><td>1411</td><td>0</td><td>498</td><td>83</td><td>249</td><td>83</td><td>498</td><td>0</td><td>83</td><td>83</td><td>0</td><td>0</td><td>3569</td><td>0</td><td>0</td><td>1411</td><td>83</td><td>166</td><td>249</td><td>249</td><td>166</td><td>0</td><td>249</td><td>332</td><td>249</td><td>249</td><td>332</td><td>0</td><td>0</td><td>0</td><td>166</td><td>0</td><td>83</td><td>83</td><td>0</td><td>1079</td><td>166</td><td>0</td><td>0</td><td>2075</td><td>0</td><td>0</td><td>1079</td><td>0</td><td>747</td><td>0</td></tr><tr><td>a5609739c6b5c2719a3752327c5e33a7</td><td>415</td><td>3320</td><td>166</td><td>664</td><td>913</td><td>7968</td><td>166</td><td>2822</td><td>581</td><td>11205</td><td>6308</td><td>830</td><td>83</td><td>0</td><td>249</td><td>0</td><td>249</td><td>0</td><td>0</td><td>1577</td><td>0</td><td>1577</td><td>1660</td><td>166</td><td>664</td><td>166</td><td>83</td><td>3237</td><td>83</td><td>4980</td><td>332</td><td>747</td><td>498</td><td>2075</td><td>0</td><td>913</td><td>3320</td><td>0</td><td>332</td><td>2407</td><td>39093</td><td>1411</td><td>581</td><td>9711</td><td>1162</td><td>0</td><td>0</td><td>1079</td><td>747</td><td>166</td><td>83</td><td>2407</td><td>0</td><td>0</td><td>1079</td><td>12035</td><td>7055</td><td>1411</td><td>3652</td><td>1079</td><td>249</td><td>4814</td><td>20418</td><td>0</td><td>166</td><td>0</td><td>1079</td><td>332</td><td>747</td><td>415</td><td>996</td><td>249</td><td>0</td><td>83</td><td>0</td><td>249</td><td>0</td><td>166</td><td>83</td><td>1162</td><td>6474</td><td>3320</td><td>83</td><td>498</td><td>0</td><td>0</td><td>1162</td><td>166</td><td>2241</td><td>166</td><td>1079</td><td>83</td><td>581</td><td>0</td><td>1494</td><td>83</td><td>332</td><td>498</td><td>166</td><td>0</td><td>5644</td><td>0</td><td>0</td><td>3486</td><td>83</td><td>664</td><td>664</td><td>1245</td><td>1411</td><td>498</td><td>581</td><td>996</td><td>1577</td><td>166</td><td>1328</td><td>581</td><td>83</td><td>249</td><td>581</td><td>0</td><td>1079</td><td>747</td><td>0</td><td>3652</td><td>664</td><td>166</td><td>166</td><td>4150</td><td>83</td><td>83</td><td>3403</td><td>1079</td><td>2656</td><td>0</td></tr><tr><td>ba32abfc048219e933bee869741da911</td><td>83</td><td>3569</td><td>332</td><td>1245</td><td>1162</td><td>6142</td><td>498</td><td>3569</td><td>1162</td><td>12367</td><td>5146</td><td>83</td><td>166</td><td>0</td><td>332</td><td>166</td><td>166</td><td>166</td><td>83</td><td>2573</td><td>0</td><td>1494</td><td>3071</td><td>166</td><td>1162</td><td>664</td><td>0</td><td>3818</td><td>83</td><td>415</td><td>166</td><td>249</td><td>166</td><td>1245</td><td>0</td><td>581</td><td>2324</td><td>0</td><td>83</td><td>1826</td><td>15936</td><td>1328</td><td>830</td><td>5644</td><td>249</td><td>83</td><td>83</td><td>996</td><td>249</td><td>83</td><td>0</td><td>1660</td><td>83</td><td>0</td><td>166</td><td>5312</td><td>3735</td><td>1660</td><td>2822</td><td>1328</td><td>0</td><td>4399</td><td>9628</td><td>0</td><td>0</td><td>83</td><td>664</td><td>0</td><td>1328</td><td>249</td><td>1411</td><td>249</td><td>166</td><td>332</td><td>83</td><td>0</td><td>0</td><td>83</td><td>83</td><td>249</td><td>5727</td><td>747</td><td>83</td><td>332</td><td>83</td><td>83</td><td>1411</td><td>415</td><td>1577</td><td>166</td><td>830</td><td>83</td><td>2075</td><td>1079</td><td>2324</td><td>83</td><td>664</td><td>830</td><td>581</td><td>0</td><td>2490</td><td>0</td><td>166</td><td>1245</td><td>249</td><td>249</td><td>664</td><td>0</td><td>581</td><td>0</td><td>498</td><td>830</td><td>1245</td><td>249</td><td>581</td><td>166</td><td>0</td><td>0</td><td>415</td><td>0</td><td>1245</td><td>249</td><td>0</td><td>4233</td><td>664</td><td>332</td><td>0</td><td>4482</td><td>83</td><td>83</td><td>1079</td><td>332</td><td>415</td><td>332</td></tr><tr><td>8bb37d24db1ad665e706c2655d9c4c72</td><td>0</td><td>2905</td><td>166</td><td>0</td><td>415</td><td>2822</td><td>83</td><td>1328</td><td>249</td><td>6889</td><td>1826</td><td>0</td><td>166</td><td>0</td><td>83</td><td>0</td><td>83</td><td>83</td><td>166</td><td>664</td><td>0</td><td>498</td><td>332</td><td>0</td><td>498</td><td>664</td><td>0</td><td>498</td><td>0</td><td>664</td><td>166</td><td>1162</td><td>166</td><td>830</td><td>0</td><td>332</td><td>1162</td><td>0</td><td>83</td><td>332</td><td>12367</td><td>830</td><td>996</td><td>1743</td><td>166</td><td>0</td><td>83</td><td>581</td><td>166</td><td>83</td><td>0</td><td>249</td><td>83</td><td>0</td><td>166</td><td>1577</td><td>3403</td><td>664</td><td>1909</td><td>581</td><td>83</td><td>1079</td><td>6059</td><td>0</td><td>0</td><td>0</td><td>415</td><td>0</td><td>83</td><td>0</td><td>415</td><td>415</td><td>0</td><td>83</td><td>0</td><td>0</td><td>0</td><td>0</td><td>0</td><td>166</td><td>830</td><td>166</td><td>0</td><td>166</td><td>0</td><td>0</td><td>332</td><td>0</td><td>913</td><td>83</td><td>415</td><td>0</td><td>1245</td><td>581</td><td>166</td><td>0</td><td>0</td><td>415</td><td>166</td><td>0</td><td>1992</td><td>0</td><td>166</td><td>249</td><td>83</td><td>83</td><td>83</td><td>0</td><td>664</td><td>83</td><td>249</td><td>166</td><td>2158</td><td>0</td><td>249</td><td>83</td><td>0</td><td>332</td><td>249</td><td>0</td><td>1743</td><td>83</td><td>0</td><td>2324</td><td>0</td><td>0</td><td>0</td><td>2075</td><td>0</td><td>0</td><td>664</td><td>83</td><td>415</td><td>0</td></tr></table></div>\n",
       "    <br />(rows: 66, time: 12.6s,     0B processed, job: job_QDAtqNqzFMKI47EWy3EbGgNCaD8)<br />\n",
       "    <script>\n",
       "      require(['extensions/charting', 'element!3_146589926556', 'style!/static/extensions/charting.css'],\n",
       "        function(charts, dom) {\n",
       "          charts.render(dom,\n",
       "            {\n",
       "              chartStyle:\"paged_table\",\n",
       "              dataName:\"1\",\n",
       "              fields:\"district_hash,f1,f11,f11_1,f11_2,f11_3,f11_4,f11_5,f11_6,f11_7,f11_8,f13_4,f13_8,f14,f14_1,f14_10,f14_2,f14_3,f14_6,f14_8,f15,f15_1,f15_2,f15_3,f15_4,f15_6,f15_7,f15_8,f16,f16_1,f16_10,f16_11,f16_12,f16_3,f16_4,f16_6,f17,f17_2,f17_3,f17_4,f17_5,f19,f19_1,f19_2,f19_3,f19_4,f1_1,f1_10,f1_11,f1_2,f1_3,f1_4,f1_5,f1_6,f1_7,f1_8,f20,f20_1,f20_2,f20_4,f20_5,f20_6,f20_7,f20_8,f20_9,f21_1,f21_2,f22,f22_1,f22_2,f22_3,f22_4,f22_5,f23,f23_1,f23_2,f23_3,f23_4,f23_5,f23_6,f24,f24_1,f24_2,f24_3,f25,f25_1,f25_3,f25_7,f25_8,f25_9,f2_1,f2_10,f2_11,f2_12,f2_13,f2_2,f2_4,f2_5,f2_6,f2_7,f2_8,f3_1,f3_2,f3_3,f4,f4_1,f4_10,f4_11,f4_13,f4_14,f4_16,f4_17,f4_18,f4_2,f4_3,f4_5,f4_6,f4_7,f4_8,f4_9,f5,f5_1,f5_3,f5_4,f6,f6_1,f6_2,f6_4,f7,f8,f8_1,f8_2,f8_3,f8_4,f8_5\",\n",
       "              totalRows:66,\n",
       "              rowsPerPage:25,\n",
       "            }, {}, {\"rows\": [{\"c\": [{\"v\": \"3e12208dd0be281c92a6ab57d9a6fb32\"}, {\"v\": 415}, {\"v\": 1245}, {\"v\": 83}, {\"v\": 166}, {\"v\": 249}, {\"v\": 3486}, {\"v\": 83}, {\"v\": 830}, {\"v\": 332}, {\"v\": 6142}, {\"v\": 1660}, {\"v\": 332}, {\"v\": 0}, {\"v\": 0}, {\"v\": 0}, {\"v\": 0}, {\"v\": 0}, {\"v\": 83}, {\"v\": 83}, {\"v\": 747}, {\"v\": 0}, {\"v\": 415}, {\"v\": 830}, {\"v\": 166}, {\"v\": 830}, {\"v\": 415}, {\"v\": 166}, {\"v\": 498}, {\"v\": 0}, {\"v\": 2241}, {\"v\": 249}, {\"v\": 1079}, {\"v\": 415}, {\"v\": 1245}, {\"v\": 0}, {\"v\": 83}, {\"v\": 415}, {\"v\": 0}, {\"v\": 0}, {\"v\": 1079}, {\"v\": 10458}, {\"v\": 747}, {\"v\": 498}, {\"v\": 1826}, {\"v\": 166}, {\"v\": 0}, {\"v\": 0}, {\"v\": 332}, {\"v\": 249}, {\"v\": 249}, {\"v\": 0}, {\"v\": 2407}, {\"v\": 249}, {\"v\": 0}, {\"v\": 249}, {\"v\": 1743}, {\"v\": 3652}, {\"v\": 913}, {\"v\": 1079}, {\"v\": 2075}, {\"v\": 0}, {\"v\": 1079}, {\"v\": 5395}, {\"v\": 0}, {\"v\": 0}, {\"v\": 0}, {\"v\": 498}, {\"v\": 0}, {\"v\": 332}, {\"v\": 0}, {\"v\": 332}, {\"v\": 332}, {\"v\": 0}, {\"v\": 0}, {\"v\": 0}, {\"v\": 83}, {\"v\": 0}, {\"v\": 332}, {\"v\": 0}, {\"v\": 83}, {\"v\": 1660}, {\"v\": 498}, {\"v\": 0}, {\"v\": 332}, {\"v\": 0}, {\"v\": 0}, {\"v\": 332}, {\"v\": 83}, {\"v\": 1826}, {\"v\": 0}, {\"v\": 830}, {\"v\": 0}, {\"v\": 0}, {\"v\": 0}, {\"v\": 166}, {\"v\": 0}, {\"v\": 415}, {\"v\": 83}, {\"v\": 83}, {\"v\": 0}, {\"v\": 3984}, {\"v\": 0}, {\"v\": 0}, {\"v\": 747}, {\"v\": 249}, {\"v\": 0}, {\"v\": 332}, {\"v\": 166}, {\"v\": 498}, {\"v\": 83}, {\"v\": 166}, {\"v\": 498}, {\"v\": 830}, {\"v\": 83}, {\"v\": 166}, {\"v\": 83}, {\"v\": 0}, {\"v\": 0}, {\"v\": 0}, {\"v\": 0}, {\"v\": 166}, {\"v\": 332}, {\"v\": 83}, {\"v\": 4233}, {\"v\": 83}, {\"v\": 166}, {\"v\": 0}, {\"v\": 3735}, {\"v\": 83}, {\"v\": 0}, {\"v\": 1162}, {\"v\": 0}, {\"v\": 1079}, {\"v\": 0}]}, {\"c\": [{\"v\": \"82cc4851f9e4faa4e54309f8bb73fd7c\"}, {\"v\": 6142}, {\"v\": 22161}, {\"v\": 3735}, {\"v\": 14193}, {\"v\": 13031}, {\"v\": 70052}, {\"v\": 2324}, {\"v\": 29880}, {\"v\": 6142}, {\"v\": 60258}, {\"v\": 65321}, {\"v\": 5976}, {\"v\": 1909}, {\"v\": 0}, {\"v\": 830}, {\"v\": 83}, {\"v\": 1245}, {\"v\": 996}, {\"v\": 581}, {\"v\": 14193}, {\"v\": 332}, {\"v\": 8715}, {\"v\": 14193}, {\"v\": 996}, {\"v\": 6889}, {\"v\": 4316}, {\"v\": 249}, {\"v\": 12616}, {\"v\": 166}, {\"v\": 24983}, {\"v\": 15936}, {\"v\": 2822}, {\"v\": 747}, {\"v\": 8300}, {\"v\": 0}, {\"v\": 2324}, {\"v\": 19747}, {\"v\": 747}, {\"v\": 6557}, {\"v\": 24900}, {\"v\": 145665}, {\"v\": 2407}, {\"v\": 1162}, {\"v\": 80676}, {\"v\": 2490}, {\"v\": 664}, {\"v\": 830}, {\"v\": 4980}, {\"v\": 1660}, {\"v\": 249}, {\"v\": 415}, {\"v\": 21082}, {\"v\": 83}, {\"v\": 166}, {\"v\": 11703}, {\"v\": 56440}, {\"v\": 15853}, {\"v\": 12782}, {\"v\": 10043}, {\"v\": 7055}, {\"v\": 249}, {\"v\": 27556}, {\"v\": 103335}, {\"v\": 83}, {\"v\": 0}, {\"v\": 0}, {\"v\": 2739}, {\"v\": 1411}, {\"v\": 3818}, {\"v\": 1494}, {\"v\": 2490}, {\"v\": 415}, {\"v\": 4980}, {\"v\": 664}, {\"v\": 166}, {\"v\": 1079}, {\"v\": 830}, {\"v\": 2656}, {\"v\": 1660}, {\"v\": 6308}, {\"v\": 240036}, {\"v\": 11122}, {\"v\": 2490}, {\"v\": 4897}, {\"v\": 83}, {\"v\": 913}, {\"v\": 4648}, {\"v\": 2324}, {\"v\": 9130}, {\"v\": 830}, {\"v\": 4399}, {\"v\": 996}, {\"v\": 15687}, {\"v\": 4233}, {\"v\": 16434}, {\"v\": 664}, {\"v\": 2241}, {\"v\": 6640}, {\"v\": 1992}, {\"v\": 0}, {\"v\": 2905}, {\"v\": 249}, {\"v\": 415}, {\"v\": 22576}, {\"v\": 1494}, {\"v\": 7636}, {\"v\": 7055}, {\"v\": 6889}, {\"v\": 4150}, {\"v\": 498}, {\"v\": 3652}, {\"v\": 4980}, {\"v\": 5727}, {\"v\": 4233}, {\"v\": 8881}, {\"v\": 996}, {\"v\": 1411}, {\"v\": 249}, {\"v\": 5478}, {\"v\": 747}, {\"v\": 8383}, {\"v\": 5727}, {\"v\": 0}, {\"v\": 16434}, {\"v\": 3486}, {\"v\": 2407}, {\"v\": 747}, {\"v\": 13197}, {\"v\": 996}, {\"v\": 498}, {\"v\": 13446}, {\"v\": 5893}, {\"v\": 9628}, {\"v\": 0}]}, {\"c\": [{\"v\": \"cb6041cc08444746caf6039d8b9e43cb\"}, {\"v\": 249}, {\"v\": 747}, {\"v\": 0}, {\"v\": 0}, {\"v\": 0}, {\"v\": 913}, {\"v\": 0}, {\"v\": 166}, {\"v\": 83}, {\"v\": 2407}, {\"v\": 83}, {\"v\": 0}, {\"v\": 249}, {\"v\": 0}, {\"v\": 83}, {\"v\": 0}, {\"v\": 0}, {\"v\": 0}, {\"v\": 0}, {\"v\": 332}, {\"v\": 0}, {\"v\": 498}, {\"v\": 664}, {\"v\": 0}, {\"v\": 166}, {\"v\": 0}, {\"v\": 0}, {\"v\": 415}, {\"v\": 0}, {\"v\": 166}, {\"v\": 0}, {\"v\": 664}, {\"v\": 249}, {\"v\": 664}, {\"v\": 0}, {\"v\": 83}, {\"v\": 664}, {\"v\": 0}, {\"v\": 83}, {\"v\": 249}, {\"v\": 10541}, {\"v\": 1328}, {\"v\": 415}, {\"v\": 1577}, {\"v\": 249}, {\"v\": 0}, {\"v\": 83}, {\"v\": 0}, {\"v\": 83}, {\"v\": 0}, {\"v\": 0}, {\"v\": 498}, {\"v\": 83}, {\"v\": 83}, {\"v\": 249}, {\"v\": 1328}, {\"v\": 3735}, {\"v\": 415}, {\"v\": 747}, {\"v\": 249}, {\"v\": 0}, {\"v\": 2075}, {\"v\": 1245}, {\"v\": 0}, {\"v\": 83}, {\"v\": 83}, {\"v\": 83}, {\"v\": 0}, {\"v\": 415}, {\"v\": 0}, {\"v\": 415}, {\"v\": 83}, {\"v\": 0}, {\"v\": 0}, {\"v\": 0}, {\"v\": 0}, {\"v\": 0}, {\"v\": 249}, {\"v\": 0}, {\"v\": 0}, {\"v\": 166}, {\"v\": 83}, {\"v\": 0}, {\"v\": 249}, {\"v\": 0}, {\"v\": 0}, {\"v\": 166}, {\"v\": 0}, {\"v\": 913}, {\"v\": 0}, {\"v\": 498}, {\"v\": 0}, {\"v\": 166}, {\"v\": 0}, {\"v\": 83}, {\"v\": 0}, {\"v\": 166}, {\"v\": 83}, {\"v\": 0}, {\"v\": 0}, {\"v\": 3901}, {\"v\": 0}, {\"v\": 0}, {\"v\": 498}, {\"v\": 249}, {\"v\": 0}, {\"v\": 249}, {\"v\": 0}, {\"v\": 83}, {\"v\": 83}, {\"v\": 249}, {\"v\": 249}, {\"v\": 415}, {\"v\": 0}, {\"v\": 0}, {\"v\": 83}, {\"v\": 0}, {\"v\": 0}, {\"v\": 0}, {\"v\": 0}, {\"v\": 83}, {\"v\": 332}, {\"v\": 249}, {\"v\": 498}, {\"v\": 0}, {\"v\": 0}, {\"v\": 0}, {\"v\": 1577}, {\"v\": 0}, {\"v\": 0}, {\"v\": 166}, {\"v\": 83}, {\"v\": 83}, {\"v\": 0}]}, {\"c\": [{\"v\": \"a735449c5c09df639c35a7d61fad3ee5\"}, {\"v\": 0}, {\"v\": 0}, {\"v\": 0}, {\"v\": 0}, {\"v\": 0}, {\"v\": 0}, {\"v\": 0}, {\"v\": 0}, {\"v\": 0}, {\"v\": 0}, {\"v\": 83}, {\"v\": 0}, {\"v\": 0}, {\"v\": 0}, {\"v\": 0}, {\"v\": 0}, {\"v\": 0}, {\"v\": 83}, {\"v\": 0}, {\"v\": 83}, {\"v\": 0}, {\"v\": 0}, {\"v\": 0}, {\"v\": 0}, {\"v\": 0}, {\"v\": 0}, {\"v\": 0}, {\"v\": 0}, {\"v\": 0}, {\"v\": 0}, {\"v\": 0}, {\"v\": 0}, {\"v\": 83}, {\"v\": 83}, {\"v\": 0}, {\"v\": 0}, {\"v\": 0}, {\"v\": 0}, {\"v\": 0}, {\"v\": 0}, {\"v\": 581}, {\"v\": 166}, {\"v\": 0}, {\"v\": 0}, {\"v\": 0}, {\"v\": 0}, {\"v\": 0}, {\"v\": 0}, {\"v\": 0}, {\"v\": 0}, {\"v\": 0}, {\"v\": 0}, {\"v\": 83}, {\"v\": 0}, {\"v\": 0}, {\"v\": 0}, {\"v\": 0}, {\"v\": 0}, {\"v\": 0}, {\"v\": 0}, {\"v\": 0}, {\"v\": 0}, {\"v\": 0}, {\"v\": 0}, {\"v\": 0}, {\"v\": 0}, {\"v\": 0}, {\"v\": 0}, {\"v\": 0}, {\"v\": 0}, {\"v\": 0}, {\"v\": 0}, {\"v\": 0}, {\"v\": 0}, {\"v\": 0}, {\"v\": 0}, {\"v\": 0}, {\"v\": 0}, {\"v\": 0}, {\"v\": 0}, {\"v\": 0}, {\"v\": 0}, {\"v\": 0}, {\"v\": 83}, {\"v\": 0}, {\"v\": 0}, {\"v\": 83}, {\"v\": 0}, {\"v\": 83}, {\"v\": 0}, {\"v\": 83}, {\"v\": 0}, {\"v\": 0}, {\"v\": 0}, {\"v\": 0}, {\"v\": 0}, {\"v\": 0}, {\"v\": 0}, {\"v\": 0}, {\"v\": 0}, {\"v\": 498}, {\"v\": 0}, {\"v\": 0}, {\"v\": 0}, {\"v\": 0}, {\"v\": 0}, {\"v\": 0}, {\"v\": 0}, {\"v\": 0}, {\"v\": 0}, {\"v\": 83}, {\"v\": 0}, {\"v\": 0}, {\"v\": 0}, {\"v\": 0}, {\"v\": 0}, {\"v\": 0}, {\"v\": 0}, {\"v\": 0}, {\"v\": 0}, {\"v\": 0}, {\"v\": 0}, {\"v\": 0}, {\"v\": 0}, {\"v\": 0}, {\"v\": 0}, {\"v\": 0}, {\"v\": 166}, {\"v\": 0}, {\"v\": 0}, {\"v\": 0}, {\"v\": 0}, {\"v\": 83}, {\"v\": 0}]}, {\"c\": [{\"v\": \"b05379ac3f9b7d99370d443cfd5dcc28\"}, {\"v\": 2656}, {\"v\": 13363}, {\"v\": 1826}, {\"v\": 4482}, {\"v\": 6557}, {\"v\": 42828}, {\"v\": 1494}, {\"v\": 12782}, {\"v\": 3486}, {\"v\": 33781}, {\"v\": 18343}, {\"v\": 498}, {\"v\": 249}, {\"v\": 0}, {\"v\": 249}, {\"v\": 83}, {\"v\": 415}, {\"v\": 249}, {\"v\": 83}, {\"v\": 3735}, {\"v\": 83}, {\"v\": 3320}, {\"v\": 4814}, {\"v\": 249}, {\"v\": 3154}, {\"v\": 1494}, {\"v\": 166}, {\"v\": 5312}, {\"v\": 0}, {\"v\": 11371}, {\"v\": 10209}, {\"v\": 3403}, {\"v\": 581}, {\"v\": 4980}, {\"v\": 0}, {\"v\": 1411}, {\"v\": 10375}, {\"v\": 498}, {\"v\": 2573}, {\"v\": 11122}, {\"v\": 72044}, {\"v\": 1411}, {\"v\": 498}, {\"v\": 21331}, {\"v\": 2324}, {\"v\": 166}, {\"v\": 332}, {\"v\": 2822}, {\"v\": 1079}, {\"v\": 83}, {\"v\": 249}, {\"v\": 10458}, {\"v\": 0}, {\"v\": 166}, {\"v\": 2739}, {\"v\": 37433}, {\"v\": 9130}, {\"v\": 6308}, {\"v\": 7802}, {\"v\": 3403}, {\"v\": 415}, {\"v\": 45982}, {\"v\": 61005}, {\"v\": 0}, {\"v\": 83}, {\"v\": 0}, {\"v\": 2324}, {\"v\": 830}, {\"v\": 1909}, {\"v\": 1162}, {\"v\": 1577}, {\"v\": 83}, {\"v\": 2241}, {\"v\": 166}, {\"v\": 0}, {\"v\": 332}, {\"v\": 83}, {\"v\": 664}, {\"v\": 0}, {\"v\": 1411}, {\"v\": 77024}, {\"v\": 6723}, {\"v\": 332}, {\"v\": 1826}, {\"v\": 0}, {\"v\": 498}, {\"v\": 2490}, {\"v\": 1909}, {\"v\": 5561}, {\"v\": 415}, {\"v\": 2656}, {\"v\": 332}, {\"v\": 7968}, {\"v\": 1577}, {\"v\": 7387}, {\"v\": 166}, {\"v\": 913}, {\"v\": 3237}, {\"v\": 996}, {\"v\": 0}, {\"v\": 5644}, {\"v\": 249}, {\"v\": 166}, {\"v\": 9628}, {\"v\": 747}, {\"v\": 3237}, {\"v\": 3486}, {\"v\": 2905}, {\"v\": 1909}, {\"v\": 166}, {\"v\": 2075}, {\"v\": 2158}, {\"v\": 1743}, {\"v\": 1577}, {\"v\": 3403}, {\"v\": 830}, {\"v\": 498}, {\"v\": 83}, {\"v\": 1992}, {\"v\": 498}, {\"v\": 3984}, {\"v\": 2739}, {\"v\": 83}, {\"v\": 7221}, {\"v\": 1743}, {\"v\": 747}, {\"v\": 166}, {\"v\": 6640}, {\"v\": 0}, {\"v\": 249}, {\"v\": 6474}, {\"v\": 3237}, {\"v\": 3818}, {\"v\": 0}]}, {\"c\": [{\"v\": \"44c097b7bd219d104050abbafe51bd49\"}, {\"v\": 83}, {\"v\": 1494}, {\"v\": 0}, {\"v\": 166}, {\"v\": 415}, {\"v\": 2988}, {\"v\": 83}, {\"v\": 1494}, {\"v\": 332}, {\"v\": 2075}, {\"v\": 498}, {\"v\": 0}, {\"v\": 0}, {\"v\": 0}, {\"v\": 0}, {\"v\": 83}, {\"v\": 83}, {\"v\": 83}, {\"v\": 0}, {\"v\": 747}, {\"v\": 166}, {\"v\": 664}, {\"v\": 1577}, {\"v\": 249}, {\"v\": 664}, {\"v\": 332}, {\"v\": 0}, {\"v\": 830}, {\"v\": 0}, {\"v\": 415}, {\"v\": 415}, {\"v\": 830}, {\"v\": 166}, {\"v\": 1909}, {\"v\": 83}, {\"v\": 249}, {\"v\": 747}, {\"v\": 0}, {\"v\": 166}, {\"v\": 498}, {\"v\": 10707}, {\"v\": 664}, {\"v\": 166}, {\"v\": 1577}, {\"v\": 747}, {\"v\": 83}, {\"v\": 83}, {\"v\": 83}, {\"v\": 83}, {\"v\": 0}, {\"v\": 0}, {\"v\": 498}, {\"v\": 83}, {\"v\": 0}, {\"v\": 249}, {\"v\": 2075}, {\"v\": 1743}, {\"v\": 498}, {\"v\": 1162}, {\"v\": 166}, {\"v\": 0}, {\"v\": 3154}, {\"v\": 2739}, {\"v\": 0}, {\"v\": 0}, {\"v\": 0}, {\"v\": 83}, {\"v\": 0}, {\"v\": 166}, {\"v\": 0}, {\"v\": 166}, {\"v\": 166}, {\"v\": 0}, {\"v\": 83}, {\"v\": 0}, {\"v\": 0}, {\"v\": 0}, {\"v\": 415}, {\"v\": 0}, {\"v\": 166}, {\"v\": 747}, {\"v\": 332}, {\"v\": 83}, {\"v\": 249}, {\"v\": 0}, {\"v\": 0}, {\"v\": 415}, {\"v\": 0}, {\"v\": 581}, {\"v\": 166}, {\"v\": 83}, {\"v\": 0}, {\"v\": 415}, {\"v\": 415}, {\"v\": 83}, {\"v\": 83}, {\"v\": 249}, {\"v\": 332}, {\"v\": 332}, {\"v\": 0}, {\"v\": 3486}, {\"v\": 0}, {\"v\": 83}, {\"v\": 830}, {\"v\": 249}, {\"v\": 249}, {\"v\": 83}, {\"v\": 0}, {\"v\": 83}, {\"v\": 83}, {\"v\": 249}, {\"v\": 249}, {\"v\": 332}, {\"v\": 0}, {\"v\": 83}, {\"v\": 0}, {\"v\": 166}, {\"v\": 0}, {\"v\": 249}, {\"v\": 0}, {\"v\": 498}, {\"v\": 83}, {\"v\": 0}, {\"v\": 1328}, {\"v\": 83}, {\"v\": 83}, {\"v\": 83}, {\"v\": 2490}, {\"v\": 0}, {\"v\": 0}, {\"v\": 83}, {\"v\": 83}, {\"v\": 332}, {\"v\": 0}]}, {\"c\": [{\"v\": \"73ff8ef735e1d68f0cdcbb84d788f2b6\"}, {\"v\": 166}, {\"v\": 249}, {\"v\": 83}, {\"v\": 415}, {\"v\": 166}, {\"v\": 1162}, {\"v\": 0}, {\"v\": 498}, {\"v\": 332}, {\"v\": 1743}, {\"v\": 747}, {\"v\": 0}, {\"v\": 0}, {\"v\": 0}, {\"v\": 0}, {\"v\": 0}, {\"v\": 332}, {\"v\": 332}, {\"v\": 0}, {\"v\": 249}, {\"v\": 0}, {\"v\": 166}, {\"v\": 415}, {\"v\": 0}, {\"v\": 0}, {\"v\": 83}, {\"v\": 0}, {\"v\": 249}, {\"v\": 0}, {\"v\": 498}, {\"v\": 332}, {\"v\": 581}, {\"v\": 332}, {\"v\": 996}, {\"v\": 0}, {\"v\": 0}, {\"v\": 332}, {\"v\": 0}, {\"v\": 83}, {\"v\": 166}, {\"v\": 8134}, {\"v\": 664}, {\"v\": 332}, {\"v\": 996}, {\"v\": 415}, {\"v\": 0}, {\"v\": 83}, {\"v\": 83}, {\"v\": 0}, {\"v\": 0}, {\"v\": 0}, {\"v\": 249}, {\"v\": 0}, {\"v\": 0}, {\"v\": 83}, {\"v\": 581}, {\"v\": 1992}, {\"v\": 415}, {\"v\": 166}, {\"v\": 332}, {\"v\": 83}, {\"v\": 581}, {\"v\": 498}, {\"v\": 0}, {\"v\": 0}, {\"v\": 0}, {\"v\": 83}, {\"v\": 0}, {\"v\": 332}, {\"v\": 0}, {\"v\": 332}, {\"v\": 0}, {\"v\": 83}, {\"v\": 0}, {\"v\": 0}, {\"v\": 0}, {\"v\": 0}, {\"v\": 83}, {\"v\": 0}, {\"v\": 83}, {\"v\": 1494}, {\"v\": 0}, {\"v\": 0}, {\"v\": 83}, {\"v\": 0}, {\"v\": 0}, {\"v\": 332}, {\"v\": 0}, {\"v\": 664}, {\"v\": 0}, {\"v\": 498}, {\"v\": 166}, {\"v\": 0}, {\"v\": 0}, {\"v\": 83}, {\"v\": 83}, {\"v\": 415}, {\"v\": 83}, {\"v\": 0}, {\"v\": 0}, {\"v\": 4482}, {\"v\": 0}, {\"v\": 0}, {\"v\": 747}, {\"v\": 0}, {\"v\": 0}, {\"v\": 166}, {\"v\": 249}, {\"v\": 166}, {\"v\": 0}, {\"v\": 332}, {\"v\": 498}, {\"v\": 166}, {\"v\": 166}, {\"v\": 83}, {\"v\": 0}, {\"v\": 0}, {\"v\": 0}, {\"v\": 0}, {\"v\": 0}, {\"v\": 249}, {\"v\": 0}, {\"v\": 166}, {\"v\": 166}, {\"v\": 0}, {\"v\": 0}, {\"v\": 0}, {\"v\": 1992}, {\"v\": 0}, {\"v\": 0}, {\"v\": 249}, {\"v\": 0}, {\"v\": 166}, {\"v\": 0}]}, {\"c\": [{\"v\": \"38d5ad2d22b61109fd8e7b43cd0e8901\"}, {\"v\": 1494}, {\"v\": 7304}, {\"v\": 249}, {\"v\": 2075}, {\"v\": 1909}, {\"v\": 24485}, {\"v\": 581}, {\"v\": 6723}, {\"v\": 2241}, {\"v\": 25149}, {\"v\": 9960}, {\"v\": 332}, {\"v\": 83}, {\"v\": 0}, {\"v\": 664}, {\"v\": 249}, {\"v\": 415}, {\"v\": 249}, {\"v\": 0}, {\"v\": 2739}, {\"v\": 0}, {\"v\": 1245}, {\"v\": 2656}, {\"v\": 83}, {\"v\": 1079}, {\"v\": 747}, {\"v\": 0}, {\"v\": 4150}, {\"v\": 0}, {\"v\": 5478}, {\"v\": 3569}, {\"v\": 4233}, {\"v\": 581}, {\"v\": 3984}, {\"v\": 83}, {\"v\": 1577}, {\"v\": 8300}, {\"v\": 332}, {\"v\": 1079}, {\"v\": 6308}, {\"v\": 40338}, {\"v\": 3320}, {\"v\": 249}, {\"v\": 12284}, {\"v\": 1245}, {\"v\": 249}, {\"v\": 83}, {\"v\": 2075}, {\"v\": 498}, {\"v\": 166}, {\"v\": 83}, {\"v\": 10043}, {\"v\": 249}, {\"v\": 0}, {\"v\": 2905}, {\"v\": 17845}, {\"v\": 10458}, {\"v\": 3818}, {\"v\": 5893}, {\"v\": 4565}, {\"v\": 332}, {\"v\": 15770}, {\"v\": 41832}, {\"v\": 0}, {\"v\": 0}, {\"v\": 0}, {\"v\": 4814}, {\"v\": 332}, {\"v\": 2324}, {\"v\": 830}, {\"v\": 3652}, {\"v\": 1162}, {\"v\": 332}, {\"v\": 0}, {\"v\": 0}, {\"v\": 249}, {\"v\": 0}, {\"v\": 332}, {\"v\": 83}, {\"v\": 1079}, {\"v\": 51792}, {\"v\": 2324}, {\"v\": 166}, {\"v\": 830}, {\"v\": 0}, {\"v\": 0}, {\"v\": 2905}, {\"v\": 747}, {\"v\": 5893}, {\"v\": 83}, {\"v\": 2656}, {\"v\": 249}, {\"v\": 4067}, {\"v\": 664}, {\"v\": 5063}, {\"v\": 332}, {\"v\": 664}, {\"v\": 1079}, {\"v\": 581}, {\"v\": 0}, {\"v\": 6225}, {\"v\": 166}, {\"v\": 83}, {\"v\": 6225}, {\"v\": 415}, {\"v\": 1162}, {\"v\": 1992}, {\"v\": 2822}, {\"v\": 1577}, {\"v\": 332}, {\"v\": 1494}, {\"v\": 1826}, {\"v\": 3320}, {\"v\": 1743}, {\"v\": 1992}, {\"v\": 166}, {\"v\": 166}, {\"v\": 498}, {\"v\": 664}, {\"v\": 249}, {\"v\": 913}, {\"v\": 1743}, {\"v\": 0}, {\"v\": 6474}, {\"v\": 1162}, {\"v\": 83}, {\"v\": 0}, {\"v\": 7387}, {\"v\": 166}, {\"v\": 83}, {\"v\": 3735}, {\"v\": 830}, {\"v\": 1826}, {\"v\": 0}]}, {\"c\": [{\"v\": \"1c60154546102e6525f68cb4f31e0657\"}, {\"v\": 0}, {\"v\": 83}, {\"v\": 0}, {\"v\": 83}, {\"v\": 83}, {\"v\": 996}, {\"v\": 0}, {\"v\": 166}, {\"v\": 0}, {\"v\": 1079}, {\"v\": 747}, {\"v\": 166}, {\"v\": 0}, {\"v\": 0}, {\"v\": 0}, {\"v\": 0}, {\"v\": 0}, {\"v\": 0}, {\"v\": 0}, {\"v\": 0}, {\"v\": 0}, {\"v\": 0}, {\"v\": 83}, {\"v\": 0}, {\"v\": 0}, {\"v\": 0}, {\"v\": 0}, {\"v\": 166}, {\"v\": 0}, {\"v\": 249}, {\"v\": 166}, {\"v\": 498}, {\"v\": 83}, {\"v\": 581}, {\"v\": 0}, {\"v\": 0}, {\"v\": 166}, {\"v\": 0}, {\"v\": 0}, {\"v\": 0}, {\"v\": 4233}, {\"v\": 0}, {\"v\": 0}, {\"v\": 913}, {\"v\": 0}, {\"v\": 0}, {\"v\": 0}, {\"v\": 166}, {\"v\": 0}, {\"v\": 83}, {\"v\": 0}, {\"v\": 249}, {\"v\": 0}, {\"v\": 0}, {\"v\": 0}, {\"v\": 2324}, {\"v\": 664}, {\"v\": 83}, {\"v\": 415}, {\"v\": 0}, {\"v\": 166}, {\"v\": 249}, {\"v\": 10956}, {\"v\": 0}, {\"v\": 0}, {\"v\": 0}, {\"v\": 166}, {\"v\": 0}, {\"v\": 0}, {\"v\": 0}, {\"v\": 0}, {\"v\": 166}, {\"v\": 0}, {\"v\": 0}, {\"v\": 0}, {\"v\": 0}, {\"v\": 0}, {\"v\": 0}, {\"v\": 0}, {\"v\": 83}, {\"v\": 664}, {\"v\": 0}, {\"v\": 0}, {\"v\": 0}, {\"v\": 0}, {\"v\": 0}, {\"v\": 0}, {\"v\": 0}, {\"v\": 166}, {\"v\": 0}, {\"v\": 83}, {\"v\": 0}, {\"v\": 0}, {\"v\": 0}, {\"v\": 415}, {\"v\": 0}, {\"v\": 83}, {\"v\": 83}, {\"v\": 0}, {\"v\": 0}, {\"v\": 166}, {\"v\": 0}, {\"v\": 0}, {\"v\": 0}, {\"v\": 0}, {\"v\": 0}, {\"v\": 0}, {\"v\": 0}, {\"v\": 0}, {\"v\": 0}, {\"v\": 166}, {\"v\": 0}, {\"v\": 1245}, {\"v\": 0}, {\"v\": 0}, {\"v\": 0}, {\"v\": 0}, {\"v\": 0}, {\"v\": 0}, {\"v\": 0}, {\"v\": 0}, {\"v\": 0}, {\"v\": 0}, {\"v\": 166}, {\"v\": 83}, {\"v\": 0}, {\"v\": 83}, {\"v\": 2241}, {\"v\": 0}, {\"v\": 0}, {\"v\": 83}, {\"v\": 0}, {\"v\": 0}, {\"v\": 0}]}, {\"c\": [{\"v\": \"91690261186ae5bee8f83808ea1e4a01\"}, {\"v\": 498}, {\"v\": 3901}, {\"v\": 415}, {\"v\": 913}, {\"v\": 332}, {\"v\": 8881}, {\"v\": 166}, {\"v\": 3071}, {\"v\": 415}, {\"v\": 8300}, {\"v\": 5395}, {\"v\": 664}, {\"v\": 1743}, {\"v\": 0}, {\"v\": 83}, {\"v\": 83}, {\"v\": 166}, {\"v\": 913}, {\"v\": 83}, {\"v\": 1577}, {\"v\": 0}, {\"v\": 830}, {\"v\": 2407}, {\"v\": 166}, {\"v\": 1079}, {\"v\": 498}, {\"v\": 0}, {\"v\": 2822}, {\"v\": 0}, {\"v\": 4897}, {\"v\": 5810}, {\"v\": 1826}, {\"v\": 332}, {\"v\": 3901}, {\"v\": 0}, {\"v\": 166}, {\"v\": 2324}, {\"v\": 83}, {\"v\": 83}, {\"v\": 2407}, {\"v\": 45401}, {\"v\": 2075}, {\"v\": 249}, {\"v\": 8217}, {\"v\": 3071}, {\"v\": 0}, {\"v\": 83}, {\"v\": 664}, {\"v\": 83}, {\"v\": 83}, {\"v\": 83}, {\"v\": 2241}, {\"v\": 0}, {\"v\": 0}, {\"v\": 1245}, {\"v\": 5893}, {\"v\": 4067}, {\"v\": 1494}, {\"v\": 3486}, {\"v\": 1577}, {\"v\": 249}, {\"v\": 5976}, {\"v\": 15604}, {\"v\": 0}, {\"v\": 166}, {\"v\": 83}, {\"v\": 2158}, {\"v\": 498}, {\"v\": 996}, {\"v\": 1245}, {\"v\": 1411}, {\"v\": 498}, {\"v\": 415}, {\"v\": 0}, {\"v\": 0}, {\"v\": 415}, {\"v\": 0}, {\"v\": 332}, {\"v\": 83}, {\"v\": 332}, {\"v\": 11039}, {\"v\": 1909}, {\"v\": 166}, {\"v\": 498}, {\"v\": 83}, {\"v\": 83}, {\"v\": 1245}, {\"v\": 498}, {\"v\": 2158}, {\"v\": 166}, {\"v\": 913}, {\"v\": 83}, {\"v\": 1577}, {\"v\": 0}, {\"v\": 1328}, {\"v\": 0}, {\"v\": 498}, {\"v\": 415}, {\"v\": 249}, {\"v\": 0}, {\"v\": 3237}, {\"v\": 0}, {\"v\": 249}, {\"v\": 3320}, {\"v\": 415}, {\"v\": 1162}, {\"v\": 996}, {\"v\": 747}, {\"v\": 1162}, {\"v\": 166}, {\"v\": 830}, {\"v\": 1162}, {\"v\": 1162}, {\"v\": 0}, {\"v\": 1743}, {\"v\": 332}, {\"v\": 415}, {\"v\": 166}, {\"v\": 249}, {\"v\": 166}, {\"v\": 913}, {\"v\": 83}, {\"v\": 166}, {\"v\": 3237}, {\"v\": 332}, {\"v\": 166}, {\"v\": 332}, {\"v\": 5976}, {\"v\": 0}, {\"v\": 83}, {\"v\": 2324}, {\"v\": 1079}, {\"v\": 1328}, {\"v\": 83}]}, {\"c\": [{\"v\": \"52d7b69796362a8ed1691a6cc02ddde4\"}, {\"v\": 332}, {\"v\": 913}, {\"v\": 332}, {\"v\": 166}, {\"v\": 498}, {\"v\": 2324}, {\"v\": 83}, {\"v\": 996}, {\"v\": 332}, {\"v\": 5146}, {\"v\": 1494}, {\"v\": 0}, {\"v\": 166}, {\"v\": 0}, {\"v\": 83}, {\"v\": 0}, {\"v\": 249}, {\"v\": 166}, {\"v\": 249}, {\"v\": 996}, {\"v\": 83}, {\"v\": 415}, {\"v\": 2324}, {\"v\": 0}, {\"v\": 747}, {\"v\": 332}, {\"v\": 0}, {\"v\": 1909}, {\"v\": 0}, {\"v\": 1162}, {\"v\": 664}, {\"v\": 581}, {\"v\": 415}, {\"v\": 1411}, {\"v\": 0}, {\"v\": 498}, {\"v\": 1826}, {\"v\": 83}, {\"v\": 166}, {\"v\": 1577}, {\"v\": 8881}, {\"v\": 1162}, {\"v\": 664}, {\"v\": 2822}, {\"v\": 166}, {\"v\": 0}, {\"v\": 0}, {\"v\": 332}, {\"v\": 166}, {\"v\": 0}, {\"v\": 0}, {\"v\": 2407}, {\"v\": 0}, {\"v\": 0}, {\"v\": 1162}, {\"v\": 4648}, {\"v\": 3071}, {\"v\": 747}, {\"v\": 1577}, {\"v\": 913}, {\"v\": 83}, {\"v\": 6142}, {\"v\": 8466}, {\"v\": 0}, {\"v\": 0}, {\"v\": 249}, {\"v\": 664}, {\"v\": 166}, {\"v\": 830}, {\"v\": 83}, {\"v\": 498}, {\"v\": 0}, {\"v\": 166}, {\"v\": 83}, {\"v\": 0}, {\"v\": 83}, {\"v\": 0}, {\"v\": 0}, {\"v\": 0}, {\"v\": 249}, {\"v\": 1992}, {\"v\": 332}, {\"v\": 0}, {\"v\": 498}, {\"v\": 0}, {\"v\": 0}, {\"v\": 830}, {\"v\": 249}, {\"v\": 1328}, {\"v\": 83}, {\"v\": 498}, {\"v\": 0}, {\"v\": 498}, {\"v\": 0}, {\"v\": 1577}, {\"v\": 166}, {\"v\": 249}, {\"v\": 83}, {\"v\": 332}, {\"v\": 0}, {\"v\": 3486}, {\"v\": 0}, {\"v\": 83}, {\"v\": 1826}, {\"v\": 83}, {\"v\": 83}, {\"v\": 249}, {\"v\": 332}, {\"v\": 581}, {\"v\": 83}, {\"v\": 332}, {\"v\": 498}, {\"v\": 747}, {\"v\": 0}, {\"v\": 664}, {\"v\": 83}, {\"v\": 166}, {\"v\": 83}, {\"v\": 249}, {\"v\": 0}, {\"v\": 747}, {\"v\": 249}, {\"v\": 0}, {\"v\": 2241}, {\"v\": 581}, {\"v\": 83}, {\"v\": 166}, {\"v\": 2573}, {\"v\": 0}, {\"v\": 83}, {\"v\": 498}, {\"v\": 581}, {\"v\": 581}, {\"v\": 0}]}, {\"c\": [{\"v\": \"3a43dcdff3c0b66b1acb1644ff055f9d\"}, {\"v\": 996}, {\"v\": 2822}, {\"v\": 996}, {\"v\": 913}, {\"v\": 747}, {\"v\": 9794}, {\"v\": 498}, {\"v\": 3569}, {\"v\": 747}, {\"v\": 10209}, {\"v\": 5976}, {\"v\": 83}, {\"v\": 83}, {\"v\": 0}, {\"v\": 249}, {\"v\": 83}, {\"v\": 83}, {\"v\": 166}, {\"v\": 83}, {\"v\": 2407}, {\"v\": 83}, {\"v\": 1328}, {\"v\": 3071}, {\"v\": 332}, {\"v\": 2739}, {\"v\": 1245}, {\"v\": 0}, {\"v\": 3984}, {\"v\": 249}, {\"v\": 2241}, {\"v\": 2241}, {\"v\": 913}, {\"v\": 415}, {\"v\": 4067}, {\"v\": 0}, {\"v\": 664}, {\"v\": 3154}, {\"v\": 83}, {\"v\": 581}, {\"v\": 3403}, {\"v\": 21580}, {\"v\": 1245}, {\"v\": 332}, {\"v\": 6972}, {\"v\": 913}, {\"v\": 83}, {\"v\": 0}, {\"v\": 1245}, {\"v\": 1577}, {\"v\": 249}, {\"v\": 166}, {\"v\": 4648}, {\"v\": 166}, {\"v\": 0}, {\"v\": 2075}, {\"v\": 11288}, {\"v\": 3569}, {\"v\": 1162}, {\"v\": 4067}, {\"v\": 1826}, {\"v\": 166}, {\"v\": 16766}, {\"v\": 31706}, {\"v\": 0}, {\"v\": 0}, {\"v\": 0}, {\"v\": 2158}, {\"v\": 332}, {\"v\": 913}, {\"v\": 830}, {\"v\": 1162}, {\"v\": 664}, {\"v\": 166}, {\"v\": 249}, {\"v\": 166}, {\"v\": 166}, {\"v\": 83}, {\"v\": 830}, {\"v\": 0}, {\"v\": 415}, {\"v\": 7138}, {\"v\": 996}, {\"v\": 0}, {\"v\": 1079}, {\"v\": 0}, {\"v\": 83}, {\"v\": 830}, {\"v\": 913}, {\"v\": 3486}, {\"v\": 166}, {\"v\": 498}, {\"v\": 83}, {\"v\": 1577}, {\"v\": 0}, {\"v\": 2241}, {\"v\": 83}, {\"v\": 332}, {\"v\": 83}, {\"v\": 581}, {\"v\": 0}, {\"v\": 3071}, {\"v\": 0}, {\"v\": 249}, {\"v\": 3071}, {\"v\": 332}, {\"v\": 498}, {\"v\": 830}, {\"v\": 1660}, {\"v\": 996}, {\"v\": 166}, {\"v\": 249}, {\"v\": 1079}, {\"v\": 913}, {\"v\": 581}, {\"v\": 581}, {\"v\": 0}, {\"v\": 166}, {\"v\": 498}, {\"v\": 415}, {\"v\": 0}, {\"v\": 747}, {\"v\": 581}, {\"v\": 83}, {\"v\": 5727}, {\"v\": 332}, {\"v\": 83}, {\"v\": 83}, {\"v\": 3403}, {\"v\": 249}, {\"v\": 415}, {\"v\": 1494}, {\"v\": 1992}, {\"v\": 1909}, {\"v\": 0}]}, {\"c\": [{\"v\": \"2920ece99323b4c111d6f9affc7ea034\"}, {\"v\": 2490}, {\"v\": 6225}, {\"v\": 2075}, {\"v\": 3071}, {\"v\": 2573}, {\"v\": 19090}, {\"v\": 581}, {\"v\": 5229}, {\"v\": 1245}, {\"v\": 17347}, {\"v\": 17845}, {\"v\": 1577}, {\"v\": 2407}, {\"v\": 0}, {\"v\": 0}, {\"v\": 83}, {\"v\": 415}, {\"v\": 2075}, {\"v\": 249}, {\"v\": 3320}, {\"v\": 0}, {\"v\": 1411}, {\"v\": 5063}, {\"v\": 249}, {\"v\": 2490}, {\"v\": 1494}, {\"v\": 83}, {\"v\": 6723}, {\"v\": 0}, {\"v\": 9794}, {\"v\": 10043}, {\"v\": 1660}, {\"v\": 332}, {\"v\": 4150}, {\"v\": 83}, {\"v\": 830}, {\"v\": 5063}, {\"v\": 249}, {\"v\": 1162}, {\"v\": 5063}, {\"v\": 24651}, {\"v\": 415}, {\"v\": 498}, {\"v\": 8383}, {\"v\": 747}, {\"v\": 0}, {\"v\": 0}, {\"v\": 1328}, {\"v\": 498}, {\"v\": 166}, {\"v\": 83}, {\"v\": 6557}, {\"v\": 0}, {\"v\": 0}, {\"v\": 2490}, {\"v\": 12782}, {\"v\": 4897}, {\"v\": 6059}, {\"v\": 2822}, {\"v\": 4399}, {\"v\": 83}, {\"v\": 13363}, {\"v\": 21912}, {\"v\": 0}, {\"v\": 83}, {\"v\": 415}, {\"v\": 2988}, {\"v\": 166}, {\"v\": 1411}, {\"v\": 166}, {\"v\": 830}, {\"v\": 415}, {\"v\": 332}, {\"v\": 415}, {\"v\": 0}, {\"v\": 498}, {\"v\": 83}, {\"v\": 166}, {\"v\": 83}, {\"v\": 581}, {\"v\": 73953}, {\"v\": 2324}, {\"v\": 332}, {\"v\": 1494}, {\"v\": 83}, {\"v\": 473}, {\"v\": 1826}, {\"v\": 1245}, {\"v\": 4233}, {\"v\": 0}, {\"v\": 1494}, {\"v\": 249}, {\"v\": 1992}, {\"v\": 166}, {\"v\": 3237}, {\"v\": 83}, {\"v\": 747}, {\"v\": 830}, {\"v\": 498}, {\"v\": 0}, {\"v\": 664}, {\"v\": 332}, {\"v\": 166}, {\"v\": 5478}, {\"v\": 664}, {\"v\": 2241}, {\"v\": 2158}, {\"v\": 1909}, {\"v\": 1909}, {\"v\": 498}, {\"v\": 2324}, {\"v\": 1494}, {\"v\": 2241}, {\"v\": 1328}, {\"v\": 3486}, {\"v\": 415}, {\"v\": 996}, {\"v\": 83}, {\"v\": 1411}, {\"v\": 415}, {\"v\": 1826}, {\"v\": 1743}, {\"v\": 83}, {\"v\": 7885}, {\"v\": 747}, {\"v\": 1328}, {\"v\": 415}, {\"v\": 8300}, {\"v\": 166}, {\"v\": 83}, {\"v\": 3652}, {\"v\": 1660}, {\"v\": 2241}, {\"v\": 0}]}, {\"c\": [{\"v\": \"c4ec24e0a58ebedaa1661e5c09e47bb5\"}, {\"v\": 581}, {\"v\": 2739}, {\"v\": 83}, {\"v\": 747}, {\"v\": 1328}, {\"v\": 3818}, {\"v\": 249}, {\"v\": 2158}, {\"v\": 581}, {\"v\": 7221}, {\"v\": 2407}, {\"v\": 0}, {\"v\": 0}, {\"v\": 0}, {\"v\": 0}, {\"v\": 83}, {\"v\": 83}, {\"v\": 83}, {\"v\": 0}, {\"v\": 1494}, {\"v\": 83}, {\"v\": 581}, {\"v\": 1162}, {\"v\": 83}, {\"v\": 581}, {\"v\": 581}, {\"v\": 0}, {\"v\": 2158}, {\"v\": 83}, {\"v\": 1577}, {\"v\": 0}, {\"v\": 166}, {\"v\": 332}, {\"v\": 332}, {\"v\": 0}, {\"v\": 249}, {\"v\": 1328}, {\"v\": 0}, {\"v\": 0}, {\"v\": 1328}, {\"v\": 20584}, {\"v\": 2241}, {\"v\": 332}, {\"v\": 3901}, {\"v\": 332}, {\"v\": 83}, {\"v\": 83}, {\"v\": 498}, {\"v\": 498}, {\"v\": 249}, {\"v\": 83}, {\"v\": 2407}, {\"v\": 0}, {\"v\": 0}, {\"v\": 1411}, {\"v\": 10458}, {\"v\": 4233}, {\"v\": 830}, {\"v\": 2407}, {\"v\": 498}, {\"v\": 249}, {\"v\": 7304}, {\"v\": 12118}, {\"v\": 0}, {\"v\": 0}, {\"v\": 0}, {\"v\": 3735}, {\"v\": 415}, {\"v\": 1577}, {\"v\": 5395}, {\"v\": 2490}, {\"v\": 1328}, {\"v\": 83}, {\"v\": 83}, {\"v\": 0}, {\"v\": 166}, {\"v\": 0}, {\"v\": 0}, {\"v\": 83}, {\"v\": 166}, {\"v\": 2075}, {\"v\": 747}, {\"v\": 0}, {\"v\": 664}, {\"v\": 0}, {\"v\": 0}, {\"v\": 1079}, {\"v\": 0}, {\"v\": 1992}, {\"v\": 0}, {\"v\": 747}, {\"v\": 0}, {\"v\": 249}, {\"v\": 0}, {\"v\": 1162}, {\"v\": 0}, {\"v\": 498}, {\"v\": 996}, {\"v\": 581}, {\"v\": 0}, {\"v\": 2241}, {\"v\": 0}, {\"v\": 166}, {\"v\": 1411}, {\"v\": 166}, {\"v\": 166}, {\"v\": 415}, {\"v\": 0}, {\"v\": 498}, {\"v\": 83}, {\"v\": 415}, {\"v\": 249}, {\"v\": 2490}, {\"v\": 249}, {\"v\": 332}, {\"v\": 166}, {\"v\": 0}, {\"v\": 249}, {\"v\": 498}, {\"v\": 0}, {\"v\": 498}, {\"v\": 83}, {\"v\": 0}, {\"v\": 3569}, {\"v\": 166}, {\"v\": 498}, {\"v\": 83}, {\"v\": 2158}, {\"v\": 0}, {\"v\": 0}, {\"v\": 1328}, {\"v\": 249}, {\"v\": 1328}, {\"v\": 0}]}, {\"c\": [{\"v\": \"0a5fef95db34383403d11cb6af937309\"}, {\"v\": 83}, {\"v\": 83}, {\"v\": 83}, {\"v\": 83}, {\"v\": 0}, {\"v\": 1162}, {\"v\": 0}, {\"v\": 581}, {\"v\": 0}, {\"v\": 1411}, {\"v\": 415}, {\"v\": 0}, {\"v\": 83}, {\"v\": 0}, {\"v\": 0}, {\"v\": 0}, {\"v\": 0}, {\"v\": 83}, {\"v\": 0}, {\"v\": 498}, {\"v\": 0}, {\"v\": 332}, {\"v\": 1411}, {\"v\": 83}, {\"v\": 1079}, {\"v\": 249}, {\"v\": 0}, {\"v\": 747}, {\"v\": 0}, {\"v\": 166}, {\"v\": 0}, {\"v\": 664}, {\"v\": 166}, {\"v\": 415}, {\"v\": 0}, {\"v\": 249}, {\"v\": 913}, {\"v\": 0}, {\"v\": 0}, {\"v\": 581}, {\"v\": 11205}, {\"v\": 1328}, {\"v\": 0}, {\"v\": 1328}, {\"v\": 249}, {\"v\": 0}, {\"v\": 0}, {\"v\": 332}, {\"v\": 83}, {\"v\": 0}, {\"v\": 83}, {\"v\": 415}, {\"v\": 0}, {\"v\": 83}, {\"v\": 0}, {\"v\": 2656}, {\"v\": 1909}, {\"v\": 415}, {\"v\": 1992}, {\"v\": 498}, {\"v\": 0}, {\"v\": 14774}, {\"v\": 9296}, {\"v\": 0}, {\"v\": 83}, {\"v\": 0}, {\"v\": 332}, {\"v\": 0}, {\"v\": 249}, {\"v\": 0}, {\"v\": 415}, {\"v\": 83}, {\"v\": 166}, {\"v\": 0}, {\"v\": 83}, {\"v\": 0}, {\"v\": 0}, {\"v\": 415}, {\"v\": 0}, {\"v\": 83}, {\"v\": 415}, {\"v\": 0}, {\"v\": 0}, {\"v\": 415}, {\"v\": 0}, {\"v\": 0}, {\"v\": 581}, {\"v\": 83}, {\"v\": 747}, {\"v\": 83}, {\"v\": 332}, {\"v\": 0}, {\"v\": 83}, {\"v\": 0}, {\"v\": 166}, {\"v\": 0}, {\"v\": 249}, {\"v\": 0}, {\"v\": 83}, {\"v\": 0}, {\"v\": 1992}, {\"v\": 0}, {\"v\": 83}, {\"v\": 332}, {\"v\": 0}, {\"v\": 83}, {\"v\": 166}, {\"v\": 0}, {\"v\": 498}, {\"v\": 166}, {\"v\": 83}, {\"v\": 830}, {\"v\": 581}, {\"v\": 0}, {\"v\": 249}, {\"v\": 83}, {\"v\": 0}, {\"v\": 249}, {\"v\": 83}, {\"v\": 0}, {\"v\": 166}, {\"v\": 0}, {\"v\": 0}, {\"v\": 498}, {\"v\": 83}, {\"v\": 0}, {\"v\": 0}, {\"v\": 2075}, {\"v\": 0}, {\"v\": 0}, {\"v\": 664}, {\"v\": 83}, {\"v\": 913}, {\"v\": 0}]}, {\"c\": [{\"v\": \"8316146a6f78cc6d9f113f0390859417\"}, {\"v\": 0}, {\"v\": 166}, {\"v\": 0}, {\"v\": 0}, {\"v\": 0}, {\"v\": 0}, {\"v\": 0}, {\"v\": 83}, {\"v\": 83}, {\"v\": 581}, {\"v\": 747}, {\"v\": 0}, {\"v\": 0}, {\"v\": 0}, {\"v\": 0}, {\"v\": 249}, {\"v\": 83}, {\"v\": 166}, {\"v\": 0}, {\"v\": 332}, {\"v\": 0}, {\"v\": 664}, {\"v\": 913}, {\"v\": 0}, {\"v\": 83}, {\"v\": 0}, {\"v\": 83}, {\"v\": 1577}, {\"v\": 0}, {\"v\": 747}, {\"v\": 498}, {\"v\": 332}, {\"v\": 83}, {\"v\": 1660}, {\"v\": 0}, {\"v\": 0}, {\"v\": 0}, {\"v\": 83}, {\"v\": 0}, {\"v\": 83}, {\"v\": 8964}, {\"v\": 1162}, {\"v\": 0}, {\"v\": 830}, {\"v\": 581}, {\"v\": 0}, {\"v\": 0}, {\"v\": 332}, {\"v\": 83}, {\"v\": 0}, {\"v\": 0}, {\"v\": 83}, {\"v\": 0}, {\"v\": 0}, {\"v\": 0}, {\"v\": 249}, {\"v\": 664}, {\"v\": 166}, {\"v\": 415}, {\"v\": 83}, {\"v\": 0}, {\"v\": 581}, {\"v\": 913}, {\"v\": 0}, {\"v\": 83}, {\"v\": 83}, {\"v\": 249}, {\"v\": 83}, {\"v\": 0}, {\"v\": 0}, {\"v\": 83}, {\"v\": 83}, {\"v\": 0}, {\"v\": 0}, {\"v\": 0}, {\"v\": 0}, {\"v\": 0}, {\"v\": 166}, {\"v\": 0}, {\"v\": 0}, {\"v\": 996}, {\"v\": 747}, {\"v\": 0}, {\"v\": 83}, {\"v\": 0}, {\"v\": 0}, {\"v\": 332}, {\"v\": 0}, {\"v\": 664}, {\"v\": 0}, {\"v\": 249}, {\"v\": 0}, {\"v\": 166}, {\"v\": 0}, {\"v\": 0}, {\"v\": 0}, {\"v\": 249}, {\"v\": 0}, {\"v\": 249}, {\"v\": 83}, {\"v\": 3403}, {\"v\": 0}, {\"v\": 83}, {\"v\": 581}, {\"v\": 166}, {\"v\": 0}, {\"v\": 0}, {\"v\": 0}, {\"v\": 0}, {\"v\": 83}, {\"v\": 332}, {\"v\": 415}, {\"v\": 83}, {\"v\": 0}, {\"v\": 0}, {\"v\": 0}, {\"v\": 0}, {\"v\": 0}, {\"v\": 0}, {\"v\": 0}, {\"v\": 0}, {\"v\": 0}, {\"v\": 83}, {\"v\": 166}, {\"v\": 0}, {\"v\": 0}, {\"v\": 0}, {\"v\": 2158}, {\"v\": 0}, {\"v\": 0}, {\"v\": 332}, {\"v\": 166}, {\"v\": 332}, {\"v\": 0}]}, {\"c\": [{\"v\": \"a814069db8d32f0fa6e188f41059c6e1\"}, {\"v\": 166}, {\"v\": 996}, {\"v\": 0}, {\"v\": 332}, {\"v\": 83}, {\"v\": 2905}, {\"v\": 0}, {\"v\": 1079}, {\"v\": 332}, {\"v\": 5395}, {\"v\": 1494}, {\"v\": 0}, {\"v\": 0}, {\"v\": 0}, {\"v\": 83}, {\"v\": 0}, {\"v\": 83}, {\"v\": 332}, {\"v\": 0}, {\"v\": 1328}, {\"v\": 0}, {\"v\": 332}, {\"v\": 1909}, {\"v\": 83}, {\"v\": 415}, {\"v\": 498}, {\"v\": 0}, {\"v\": 1328}, {\"v\": 0}, {\"v\": 332}, {\"v\": 664}, {\"v\": 1660}, {\"v\": 249}, {\"v\": 1826}, {\"v\": 0}, {\"v\": 166}, {\"v\": 1328}, {\"v\": 0}, {\"v\": 0}, {\"v\": 332}, {\"v\": 27639}, {\"v\": 2075}, {\"v\": 249}, {\"v\": 3320}, {\"v\": 332}, {\"v\": 0}, {\"v\": 0}, {\"v\": 498}, {\"v\": 166}, {\"v\": 0}, {\"v\": 83}, {\"v\": 664}, {\"v\": 83}, {\"v\": 0}, {\"v\": 83}, {\"v\": 5810}, {\"v\": 5063}, {\"v\": 498}, {\"v\": 2075}, {\"v\": 581}, {\"v\": 0}, {\"v\": 7055}, {\"v\": 10209}, {\"v\": 0}, {\"v\": 83}, {\"v\": 0}, {\"v\": 2407}, {\"v\": 83}, {\"v\": 581}, {\"v\": 332}, {\"v\": 2158}, {\"v\": 1245}, {\"v\": 0}, {\"v\": 0}, {\"v\": 0}, {\"v\": 0}, {\"v\": 0}, {\"v\": 166}, {\"v\": 0}, {\"v\": 332}, {\"v\": 2490}, {\"v\": 83}, {\"v\": 83}, {\"v\": 581}, {\"v\": 0}, {\"v\": 83}, {\"v\": 913}, {\"v\": 332}, {\"v\": 1577}, {\"v\": 83}, {\"v\": 415}, {\"v\": 0}, {\"v\": 332}, {\"v\": 83}, {\"v\": 498}, {\"v\": 0}, {\"v\": 249}, {\"v\": 166}, {\"v\": 249}, {\"v\": 0}, {\"v\": 2739}, {\"v\": 0}, {\"v\": 83}, {\"v\": 1494}, {\"v\": 0}, {\"v\": 249}, {\"v\": 83}, {\"v\": 0}, {\"v\": 664}, {\"v\": 249}, {\"v\": 83}, {\"v\": 581}, {\"v\": 996}, {\"v\": 0}, {\"v\": 166}, {\"v\": 249}, {\"v\": 83}, {\"v\": 249}, {\"v\": 0}, {\"v\": 0}, {\"v\": 581}, {\"v\": 0}, {\"v\": 0}, {\"v\": 996}, {\"v\": 249}, {\"v\": 0}, {\"v\": 0}, {\"v\": 1494}, {\"v\": 83}, {\"v\": 166}, {\"v\": 996}, {\"v\": 166}, {\"v\": 747}, {\"v\": 0}]}, {\"c\": [{\"v\": \"ca064c2682ca48c6a21de012e87c0df5\"}, {\"v\": 996}, {\"v\": 7885}, {\"v\": 332}, {\"v\": 664}, {\"v\": 996}, {\"v\": 19588}, {\"v\": 249}, {\"v\": 4814}, {\"v\": 1992}, {\"v\": 23655}, {\"v\": 6889}, {\"v\": 664}, {\"v\": 0}, {\"v\": 0}, {\"v\": 0}, {\"v\": 0}, {\"v\": 747}, {\"v\": 498}, {\"v\": 166}, {\"v\": 2324}, {\"v\": 83}, {\"v\": 913}, {\"v\": 3154}, {\"v\": 581}, {\"v\": 1992}, {\"v\": 1245}, {\"v\": 166}, {\"v\": 7387}, {\"v\": 83}, {\"v\": 3486}, {\"v\": 3984}, {\"v\": 1909}, {\"v\": 581}, {\"v\": 3652}, {\"v\": 0}, {\"v\": 1743}, {\"v\": 9628}, {\"v\": 0}, {\"v\": 830}, {\"v\": 3818}, {\"v\": 54863}, {\"v\": 4980}, {\"v\": 249}, {\"v\": 15272}, {\"v\": 1328}, {\"v\": 83}, {\"v\": 83}, {\"v\": 2324}, {\"v\": 498}, {\"v\": 249}, {\"v\": 83}, {\"v\": 11122}, {\"v\": 83}, {\"v\": 83}, {\"v\": 2324}, {\"v\": 34362}, {\"v\": 13363}, {\"v\": 3071}, {\"v\": 7802}, {\"v\": 2822}, {\"v\": 498}, {\"v\": 11205}, {\"v\": 47808}, {\"v\": 0}, {\"v\": 0}, {\"v\": 0}, {\"v\": 6557}, {\"v\": 664}, {\"v\": 2407}, {\"v\": 1660}, {\"v\": 3735}, {\"v\": 1577}, {\"v\": 747}, {\"v\": 166}, {\"v\": 0}, {\"v\": 166}, {\"v\": 0}, {\"v\": 581}, {\"v\": 166}, {\"v\": 498}, {\"v\": 13695}, {\"v\": 1660}, {\"v\": 0}, {\"v\": 1245}, {\"v\": 0}, {\"v\": 0}, {\"v\": 1577}, {\"v\": 996}, {\"v\": 5063}, {\"v\": 0}, {\"v\": 2656}, {\"v\": 0}, {\"v\": 1411}, {\"v\": 83}, {\"v\": 2241}, {\"v\": 249}, {\"v\": 747}, {\"v\": 332}, {\"v\": 332}, {\"v\": 0}, {\"v\": 4150}, {\"v\": 83}, {\"v\": 83}, {\"v\": 7636}, {\"v\": 581}, {\"v\": 1743}, {\"v\": 913}, {\"v\": 996}, {\"v\": 2573}, {\"v\": 83}, {\"v\": 2158}, {\"v\": 1494}, {\"v\": 4648}, {\"v\": 332}, {\"v\": 1909}, {\"v\": 664}, {\"v\": 332}, {\"v\": 415}, {\"v\": 1660}, {\"v\": 0}, {\"v\": 664}, {\"v\": 996}, {\"v\": 0}, {\"v\": 12035}, {\"v\": 1494}, {\"v\": 1162}, {\"v\": 83}, {\"v\": 6391}, {\"v\": 0}, {\"v\": 249}, {\"v\": 3818}, {\"v\": 996}, {\"v\": 2490}, {\"v\": 0}]}, {\"c\": [{\"v\": \"4b9e4cf2fbdc8281b8a1f9f12b80ce4d\"}, {\"v\": 83}, {\"v\": 83}, {\"v\": 1909}, {\"v\": 913}, {\"v\": 0}, {\"v\": 166}, {\"v\": 0}, {\"v\": 249}, {\"v\": 83}, {\"v\": 1909}, {\"v\": 166}, {\"v\": 0}, {\"v\": 0}, {\"v\": 0}, {\"v\": 0}, {\"v\": 83}, {\"v\": 83}, {\"v\": 83}, {\"v\": 0}, {\"v\": 332}, {\"v\": 0}, {\"v\": 83}, {\"v\": 747}, {\"v\": 166}, {\"v\": 0}, {\"v\": 249}, {\"v\": 0}, {\"v\": 332}, {\"v\": 0}, {\"v\": 249}, {\"v\": 166}, {\"v\": 332}, {\"v\": 166}, {\"v\": 415}, {\"v\": 0}, {\"v\": 83}, {\"v\": 166}, {\"v\": 0}, {\"v\": 0}, {\"v\": 166}, {\"v\": 5478}, {\"v\": 249}, {\"v\": 249}, {\"v\": 664}, {\"v\": 332}, {\"v\": 0}, {\"v\": 0}, {\"v\": 83}, {\"v\": 0}, {\"v\": 83}, {\"v\": 83}, {\"v\": 249}, {\"v\": 415}, {\"v\": 0}, {\"v\": 0}, {\"v\": 415}, {\"v\": 332}, {\"v\": 0}, {\"v\": 83}, {\"v\": 166}, {\"v\": 0}, {\"v\": 581}, {\"v\": 913}, {\"v\": 0}, {\"v\": 0}, {\"v\": 664}, {\"v\": 0}, {\"v\": 0}, {\"v\": 166}, {\"v\": 0}, {\"v\": 166}, {\"v\": 0}, {\"v\": 0}, {\"v\": 0}, {\"v\": 0}, {\"v\": 0}, {\"v\": 0}, {\"v\": 83}, {\"v\": 0}, {\"v\": 0}, {\"v\": 166}, {\"v\": 0}, {\"v\": 0}, {\"v\": 83}, {\"v\": 0}, {\"v\": 0}, {\"v\": 166}, {\"v\": 0}, {\"v\": 166}, {\"v\": 0}, {\"v\": 83}, {\"v\": 0}, {\"v\": 83}, {\"v\": 83}, {\"v\": 581}, {\"v\": 0}, {\"v\": 83}, {\"v\": 83}, {\"v\": 83}, {\"v\": 0}, {\"v\": 1328}, {\"v\": 0}, {\"v\": 83}, {\"v\": 664}, {\"v\": 0}, {\"v\": 0}, {\"v\": 0}, {\"v\": 0}, {\"v\": 166}, {\"v\": 166}, {\"v\": 0}, {\"v\": 415}, {\"v\": 249}, {\"v\": 0}, {\"v\": 166}, {\"v\": 0}, {\"v\": 0}, {\"v\": 0}, {\"v\": 0}, {\"v\": 0}, {\"v\": 83}, {\"v\": 0}, {\"v\": 0}, {\"v\": 166}, {\"v\": 0}, {\"v\": 0}, {\"v\": 0}, {\"v\": 830}, {\"v\": 0}, {\"v\": 0}, {\"v\": 249}, {\"v\": 83}, {\"v\": 332}, {\"v\": 0}]}, {\"c\": [{\"v\": \"08f5b445ec6b29deba62e6fd8b0325a6\"}, {\"v\": 83}, {\"v\": 332}, {\"v\": 498}, {\"v\": 0}, {\"v\": 0}, {\"v\": 166}, {\"v\": 0}, {\"v\": 0}, {\"v\": 332}, {\"v\": 2324}, {\"v\": 913}, {\"v\": 83}, {\"v\": 4731}, {\"v\": 0}, {\"v\": 415}, {\"v\": 0}, {\"v\": 249}, {\"v\": 913}, {\"v\": 83}, {\"v\": 332}, {\"v\": 0}, {\"v\": 249}, {\"v\": 415}, {\"v\": 83}, {\"v\": 249}, {\"v\": 415}, {\"v\": 0}, {\"v\": 415}, {\"v\": 0}, {\"v\": 2158}, {\"v\": 415}, {\"v\": 1245}, {\"v\": 0}, {\"v\": 1079}, {\"v\": 0}, {\"v\": 0}, {\"v\": 83}, {\"v\": 0}, {\"v\": 0}, {\"v\": 166}, {\"v\": 8051}, {\"v\": 415}, {\"v\": 498}, {\"v\": 2075}, {\"v\": 332}, {\"v\": 332}, {\"v\": 0}, {\"v\": 83}, {\"v\": 83}, {\"v\": 0}, {\"v\": 166}, {\"v\": 0}, {\"v\": 249}, {\"v\": 83}, {\"v\": 332}, {\"v\": 83}, {\"v\": 996}, {\"v\": 747}, {\"v\": 0}, {\"v\": 83}, {\"v\": 0}, {\"v\": 249}, {\"v\": 249}, {\"v\": 0}, {\"v\": 83}, {\"v\": 415}, {\"v\": 0}, {\"v\": 0}, {\"v\": 0}, {\"v\": 0}, {\"v\": 0}, {\"v\": 83}, {\"v\": 0}, {\"v\": 0}, {\"v\": 0}, {\"v\": 0}, {\"v\": 0}, {\"v\": 83}, {\"v\": 0}, {\"v\": 83}, {\"v\": 249}, {\"v\": 0}, {\"v\": 0}, {\"v\": 415}, {\"v\": 0}, {\"v\": 0}, {\"v\": 249}, {\"v\": 0}, {\"v\": 83}, {\"v\": 0}, {\"v\": 332}, {\"v\": 0}, {\"v\": 249}, {\"v\": 166}, {\"v\": 0}, {\"v\": 0}, {\"v\": 83}, {\"v\": 83}, {\"v\": 166}, {\"v\": 0}, {\"v\": 2739}, {\"v\": 0}, {\"v\": 0}, {\"v\": 664}, {\"v\": 83}, {\"v\": 0}, {\"v\": 0}, {\"v\": 0}, {\"v\": 83}, {\"v\": 166}, {\"v\": 664}, {\"v\": 83}, {\"v\": 249}, {\"v\": 0}, {\"v\": 0}, {\"v\": 0}, {\"v\": 1162}, {\"v\": 0}, {\"v\": 0}, {\"v\": 0}, {\"v\": 83}, {\"v\": 83}, {\"v\": 83}, {\"v\": 83}, {\"v\": 0}, {\"v\": 0}, {\"v\": 0}, {\"v\": 2324}, {\"v\": 0}, {\"v\": 0}, {\"v\": 249}, {\"v\": 0}, {\"v\": 166}, {\"v\": 0}]}, {\"c\": [{\"v\": \"f47f35242ed40655814bc086d7514046\"}, {\"v\": 166}, {\"v\": 249}, {\"v\": 0}, {\"v\": 166}, {\"v\": 0}, {\"v\": 415}, {\"v\": 0}, {\"v\": 332}, {\"v\": 83}, {\"v\": 2324}, {\"v\": 1577}, {\"v\": 0}, {\"v\": 0}, {\"v\": 0}, {\"v\": 83}, {\"v\": 0}, {\"v\": 0}, {\"v\": 166}, {\"v\": 83}, {\"v\": 996}, {\"v\": 0}, {\"v\": 498}, {\"v\": 913}, {\"v\": 0}, {\"v\": 415}, {\"v\": 166}, {\"v\": 166}, {\"v\": 249}, {\"v\": 0}, {\"v\": 83}, {\"v\": 747}, {\"v\": 1328}, {\"v\": 166}, {\"v\": 1245}, {\"v\": 0}, {\"v\": 83}, {\"v\": 83}, {\"v\": 0}, {\"v\": 0}, {\"v\": 166}, {\"v\": 9711}, {\"v\": 581}, {\"v\": 83}, {\"v\": 1245}, {\"v\": 664}, {\"v\": 0}, {\"v\": 0}, {\"v\": 0}, {\"v\": 0}, {\"v\": 0}, {\"v\": 0}, {\"v\": 83}, {\"v\": 83}, {\"v\": 0}, {\"v\": 0}, {\"v\": 249}, {\"v\": 1079}, {\"v\": 498}, {\"v\": 83}, {\"v\": 0}, {\"v\": 0}, {\"v\": 249}, {\"v\": 415}, {\"v\": 0}, {\"v\": 0}, {\"v\": 0}, {\"v\": 249}, {\"v\": 0}, {\"v\": 0}, {\"v\": 249}, {\"v\": 332}, {\"v\": 83}, {\"v\": 0}, {\"v\": 0}, {\"v\": 0}, {\"v\": 0}, {\"v\": 0}, {\"v\": 83}, {\"v\": 0}, {\"v\": 664}, {\"v\": 2407}, {\"v\": 581}, {\"v\": 0}, {\"v\": 249}, {\"v\": 0}, {\"v\": 0}, {\"v\": 249}, {\"v\": 0}, {\"v\": 332}, {\"v\": 0}, {\"v\": 332}, {\"v\": 0}, {\"v\": 498}, {\"v\": 83}, {\"v\": 498}, {\"v\": 0}, {\"v\": 249}, {\"v\": 83}, {\"v\": 166}, {\"v\": 0}, {\"v\": 3403}, {\"v\": 0}, {\"v\": 0}, {\"v\": 664}, {\"v\": 0}, {\"v\": 83}, {\"v\": 83}, {\"v\": 83}, {\"v\": 0}, {\"v\": 0}, {\"v\": 83}, {\"v\": 332}, {\"v\": 166}, {\"v\": 166}, {\"v\": 0}, {\"v\": 0}, {\"v\": 0}, {\"v\": 0}, {\"v\": 0}, {\"v\": 0}, {\"v\": 0}, {\"v\": 249}, {\"v\": 249}, {\"v\": 166}, {\"v\": 0}, {\"v\": 83}, {\"v\": 0}, {\"v\": 2988}, {\"v\": 0}, {\"v\": 0}, {\"v\": 166}, {\"v\": 166}, {\"v\": 332}, {\"v\": 0}]}, {\"c\": [{\"v\": \"52e56004d92b8c74d53e1e42699cba6f\"}, {\"v\": 249}, {\"v\": 1245}, {\"v\": 0}, {\"v\": 332}, {\"v\": 415}, {\"v\": 3569}, {\"v\": 83}, {\"v\": 498}, {\"v\": 581}, {\"v\": 5063}, {\"v\": 1411}, {\"v\": 0}, {\"v\": 83}, {\"v\": 0}, {\"v\": 0}, {\"v\": 83}, {\"v\": 83}, {\"v\": 166}, {\"v\": 0}, {\"v\": 332}, {\"v\": 0}, {\"v\": 498}, {\"v\": 581}, {\"v\": 249}, {\"v\": 415}, {\"v\": 0}, {\"v\": 0}, {\"v\": 166}, {\"v\": 0}, {\"v\": 1245}, {\"v\": 830}, {\"v\": 415}, {\"v\": 249}, {\"v\": 1245}, {\"v\": 0}, {\"v\": 0}, {\"v\": 747}, {\"v\": 0}, {\"v\": 83}, {\"v\": 415}, {\"v\": 14442}, {\"v\": 1494}, {\"v\": 249}, {\"v\": 2739}, {\"v\": 747}, {\"v\": 0}, {\"v\": 166}, {\"v\": 332}, {\"v\": 0}, {\"v\": 83}, {\"v\": 0}, {\"v\": 415}, {\"v\": 166}, {\"v\": 0}, {\"v\": 249}, {\"v\": 1328}, {\"v\": 3486}, {\"v\": 498}, {\"v\": 1162}, {\"v\": 913}, {\"v\": 83}, {\"v\": 1909}, {\"v\": 1660}, {\"v\": 0}, {\"v\": 0}, {\"v\": 83}, {\"v\": 249}, {\"v\": 166}, {\"v\": 249}, {\"v\": 0}, {\"v\": 498}, {\"v\": 0}, {\"v\": 166}, {\"v\": 83}, {\"v\": 0}, {\"v\": 0}, {\"v\": 0}, {\"v\": 0}, {\"v\": 0}, {\"v\": 581}, {\"v\": 2407}, {\"v\": 1162}, {\"v\": 0}, {\"v\": 166}, {\"v\": 0}, {\"v\": 0}, {\"v\": 415}, {\"v\": 166}, {\"v\": 1411}, {\"v\": 0}, {\"v\": 498}, {\"v\": 83}, {\"v\": 249}, {\"v\": 83}, {\"v\": 498}, {\"v\": 0}, {\"v\": 83}, {\"v\": 83}, {\"v\": 0}, {\"v\": 0}, {\"v\": 3569}, {\"v\": 0}, {\"v\": 0}, {\"v\": 1411}, {\"v\": 83}, {\"v\": 166}, {\"v\": 249}, {\"v\": 249}, {\"v\": 166}, {\"v\": 0}, {\"v\": 249}, {\"v\": 332}, {\"v\": 249}, {\"v\": 249}, {\"v\": 332}, {\"v\": 0}, {\"v\": 0}, {\"v\": 0}, {\"v\": 166}, {\"v\": 0}, {\"v\": 83}, {\"v\": 83}, {\"v\": 0}, {\"v\": 1079}, {\"v\": 166}, {\"v\": 0}, {\"v\": 0}, {\"v\": 2075}, {\"v\": 0}, {\"v\": 0}, {\"v\": 1079}, {\"v\": 0}, {\"v\": 747}, {\"v\": 0}]}, {\"c\": [{\"v\": \"a5609739c6b5c2719a3752327c5e33a7\"}, {\"v\": 415}, {\"v\": 3320}, {\"v\": 166}, {\"v\": 664}, {\"v\": 913}, {\"v\": 7968}, {\"v\": 166}, {\"v\": 2822}, {\"v\": 581}, {\"v\": 11205}, {\"v\": 6308}, {\"v\": 830}, {\"v\": 83}, {\"v\": 0}, {\"v\": 249}, {\"v\": 0}, {\"v\": 249}, {\"v\": 0}, {\"v\": 0}, {\"v\": 1577}, {\"v\": 0}, {\"v\": 1577}, {\"v\": 1660}, {\"v\": 166}, {\"v\": 664}, {\"v\": 166}, {\"v\": 83}, {\"v\": 3237}, {\"v\": 83}, {\"v\": 4980}, {\"v\": 332}, {\"v\": 747}, {\"v\": 498}, {\"v\": 2075}, {\"v\": 0}, {\"v\": 913}, {\"v\": 3320}, {\"v\": 0}, {\"v\": 332}, {\"v\": 2407}, {\"v\": 39093}, {\"v\": 1411}, {\"v\": 581}, {\"v\": 9711}, {\"v\": 1162}, {\"v\": 0}, {\"v\": 0}, {\"v\": 1079}, {\"v\": 747}, {\"v\": 166}, {\"v\": 83}, {\"v\": 2407}, {\"v\": 0}, {\"v\": 0}, {\"v\": 1079}, {\"v\": 12035}, {\"v\": 7055}, {\"v\": 1411}, {\"v\": 3652}, {\"v\": 1079}, {\"v\": 249}, {\"v\": 4814}, {\"v\": 20418}, {\"v\": 0}, {\"v\": 166}, {\"v\": 0}, {\"v\": 1079}, {\"v\": 332}, {\"v\": 747}, {\"v\": 415}, {\"v\": 996}, {\"v\": 249}, {\"v\": 0}, {\"v\": 83}, {\"v\": 0}, {\"v\": 249}, {\"v\": 0}, {\"v\": 166}, {\"v\": 83}, {\"v\": 1162}, {\"v\": 6474}, {\"v\": 3320}, {\"v\": 83}, {\"v\": 498}, {\"v\": 0}, {\"v\": 0}, {\"v\": 1162}, {\"v\": 166}, {\"v\": 2241}, {\"v\": 166}, {\"v\": 1079}, {\"v\": 83}, {\"v\": 581}, {\"v\": 0}, {\"v\": 1494}, {\"v\": 83}, {\"v\": 332}, {\"v\": 498}, {\"v\": 166}, {\"v\": 0}, {\"v\": 5644}, {\"v\": 0}, {\"v\": 0}, {\"v\": 3486}, {\"v\": 83}, {\"v\": 664}, {\"v\": 664}, {\"v\": 1245}, {\"v\": 1411}, {\"v\": 498}, {\"v\": 581}, {\"v\": 996}, {\"v\": 1577}, {\"v\": 166}, {\"v\": 1328}, {\"v\": 581}, {\"v\": 83}, {\"v\": 249}, {\"v\": 581}, {\"v\": 0}, {\"v\": 1079}, {\"v\": 747}, {\"v\": 0}, {\"v\": 3652}, {\"v\": 664}, {\"v\": 166}, {\"v\": 166}, {\"v\": 4150}, {\"v\": 83}, {\"v\": 83}, {\"v\": 3403}, {\"v\": 1079}, {\"v\": 2656}, {\"v\": 0}]}, {\"c\": [{\"v\": \"ba32abfc048219e933bee869741da911\"}, {\"v\": 83}, {\"v\": 3569}, {\"v\": 332}, {\"v\": 1245}, {\"v\": 1162}, {\"v\": 6142}, {\"v\": 498}, {\"v\": 3569}, {\"v\": 1162}, {\"v\": 12367}, {\"v\": 5146}, {\"v\": 83}, {\"v\": 166}, {\"v\": 0}, {\"v\": 332}, {\"v\": 166}, {\"v\": 166}, {\"v\": 166}, {\"v\": 83}, {\"v\": 2573}, {\"v\": 0}, {\"v\": 1494}, {\"v\": 3071}, {\"v\": 166}, {\"v\": 1162}, {\"v\": 664}, {\"v\": 0}, {\"v\": 3818}, {\"v\": 83}, {\"v\": 415}, {\"v\": 166}, {\"v\": 249}, {\"v\": 166}, {\"v\": 1245}, {\"v\": 0}, {\"v\": 581}, {\"v\": 2324}, {\"v\": 0}, {\"v\": 83}, {\"v\": 1826}, {\"v\": 15936}, {\"v\": 1328}, {\"v\": 830}, {\"v\": 5644}, {\"v\": 249}, {\"v\": 83}, {\"v\": 83}, {\"v\": 996}, {\"v\": 249}, {\"v\": 83}, {\"v\": 0}, {\"v\": 1660}, {\"v\": 83}, {\"v\": 0}, {\"v\": 166}, {\"v\": 5312}, {\"v\": 3735}, {\"v\": 1660}, {\"v\": 2822}, {\"v\": 1328}, {\"v\": 0}, {\"v\": 4399}, {\"v\": 9628}, {\"v\": 0}, {\"v\": 0}, {\"v\": 83}, {\"v\": 664}, {\"v\": 0}, {\"v\": 1328}, {\"v\": 249}, {\"v\": 1411}, {\"v\": 249}, {\"v\": 166}, {\"v\": 332}, {\"v\": 83}, {\"v\": 0}, {\"v\": 0}, {\"v\": 83}, {\"v\": 83}, {\"v\": 249}, {\"v\": 5727}, {\"v\": 747}, {\"v\": 83}, {\"v\": 332}, {\"v\": 83}, {\"v\": 83}, {\"v\": 1411}, {\"v\": 415}, {\"v\": 1577}, {\"v\": 166}, {\"v\": 830}, {\"v\": 83}, {\"v\": 2075}, {\"v\": 1079}, {\"v\": 2324}, {\"v\": 83}, {\"v\": 664}, {\"v\": 830}, {\"v\": 581}, {\"v\": 0}, {\"v\": 2490}, {\"v\": 0}, {\"v\": 166}, {\"v\": 1245}, {\"v\": 249}, {\"v\": 249}, {\"v\": 664}, {\"v\": 0}, {\"v\": 581}, {\"v\": 0}, {\"v\": 498}, {\"v\": 830}, {\"v\": 1245}, {\"v\": 249}, {\"v\": 581}, {\"v\": 166}, {\"v\": 0}, {\"v\": 0}, {\"v\": 415}, {\"v\": 0}, {\"v\": 1245}, {\"v\": 249}, {\"v\": 0}, {\"v\": 4233}, {\"v\": 664}, {\"v\": 332}, {\"v\": 0}, {\"v\": 4482}, {\"v\": 83}, {\"v\": 83}, {\"v\": 1079}, {\"v\": 332}, {\"v\": 415}, {\"v\": 332}]}, {\"c\": [{\"v\": \"8bb37d24db1ad665e706c2655d9c4c72\"}, {\"v\": 0}, {\"v\": 2905}, {\"v\": 166}, {\"v\": 0}, {\"v\": 415}, {\"v\": 2822}, {\"v\": 83}, {\"v\": 1328}, {\"v\": 249}, {\"v\": 6889}, {\"v\": 1826}, {\"v\": 0}, {\"v\": 166}, {\"v\": 0}, {\"v\": 83}, {\"v\": 0}, {\"v\": 83}, {\"v\": 83}, {\"v\": 166}, {\"v\": 664}, {\"v\": 0}, {\"v\": 498}, {\"v\": 332}, {\"v\": 0}, {\"v\": 498}, {\"v\": 664}, {\"v\": 0}, {\"v\": 498}, {\"v\": 0}, {\"v\": 664}, {\"v\": 166}, {\"v\": 1162}, {\"v\": 166}, {\"v\": 830}, {\"v\": 0}, {\"v\": 332}, {\"v\": 1162}, {\"v\": 0}, {\"v\": 83}, {\"v\": 332}, {\"v\": 12367}, {\"v\": 830}, {\"v\": 996}, {\"v\": 1743}, {\"v\": 166}, {\"v\": 0}, {\"v\": 83}, {\"v\": 581}, {\"v\": 166}, {\"v\": 83}, {\"v\": 0}, {\"v\": 249}, {\"v\": 83}, {\"v\": 0}, {\"v\": 166}, {\"v\": 1577}, {\"v\": 3403}, {\"v\": 664}, {\"v\": 1909}, {\"v\": 581}, {\"v\": 83}, {\"v\": 1079}, {\"v\": 6059}, {\"v\": 0}, {\"v\": 0}, {\"v\": 0}, {\"v\": 415}, {\"v\": 0}, {\"v\": 83}, {\"v\": 0}, {\"v\": 415}, {\"v\": 415}, {\"v\": 0}, {\"v\": 83}, {\"v\": 0}, {\"v\": 0}, {\"v\": 0}, {\"v\": 0}, {\"v\": 0}, {\"v\": 166}, {\"v\": 830}, {\"v\": 166}, {\"v\": 0}, {\"v\": 166}, {\"v\": 0}, {\"v\": 0}, {\"v\": 332}, {\"v\": 0}, {\"v\": 913}, {\"v\": 83}, {\"v\": 415}, {\"v\": 0}, {\"v\": 1245}, {\"v\": 581}, {\"v\": 166}, {\"v\": 0}, {\"v\": 0}, {\"v\": 415}, {\"v\": 166}, {\"v\": 0}, {\"v\": 1992}, {\"v\": 0}, {\"v\": 166}, {\"v\": 249}, {\"v\": 83}, {\"v\": 83}, {\"v\": 83}, {\"v\": 0}, {\"v\": 664}, {\"v\": 83}, {\"v\": 249}, {\"v\": 166}, {\"v\": 2158}, {\"v\": 0}, {\"v\": 249}, {\"v\": 83}, {\"v\": 0}, {\"v\": 332}, {\"v\": 249}, {\"v\": 0}, {\"v\": 1743}, {\"v\": 83}, {\"v\": 0}, {\"v\": 2324}, {\"v\": 0}, {\"v\": 0}, {\"v\": 0}, {\"v\": 2075}, {\"v\": 0}, {\"v\": 0}, {\"v\": 664}, {\"v\": 83}, {\"v\": 415}, {\"v\": 0}]}], \"cols\": [{\"type\": \"string\", \"id\": \"district_hash\", \"label\": \"district_hash\"}, {\"type\": \"number\", \"id\": \"f1\", \"label\": \"f1\"}, {\"type\": \"number\", \"id\": \"f11\", \"label\": \"f11\"}, {\"type\": \"number\", \"id\": \"f11_1\", \"label\": \"f11_1\"}, {\"type\": \"number\", \"id\": \"f11_2\", \"label\": \"f11_2\"}, {\"type\": \"number\", \"id\": \"f11_3\", \"label\": \"f11_3\"}, {\"type\": \"number\", \"id\": \"f11_4\", \"label\": \"f11_4\"}, {\"type\": \"number\", \"id\": \"f11_5\", \"label\": \"f11_5\"}, {\"type\": \"number\", \"id\": \"f11_6\", \"label\": \"f11_6\"}, {\"type\": \"number\", \"id\": \"f11_7\", \"label\": \"f11_7\"}, {\"type\": \"number\", \"id\": \"f11_8\", \"label\": \"f11_8\"}, {\"type\": \"number\", \"id\": \"f13_4\", \"label\": \"f13_4\"}, {\"type\": \"number\", \"id\": \"f13_8\", \"label\": \"f13_8\"}, {\"type\": \"number\", \"id\": \"f14\", \"label\": \"f14\"}, {\"type\": \"number\", \"id\": \"f14_1\", \"label\": \"f14_1\"}, {\"type\": \"number\", \"id\": \"f14_10\", \"label\": \"f14_10\"}, {\"type\": \"number\", \"id\": \"f14_2\", \"label\": \"f14_2\"}, {\"type\": \"number\", \"id\": \"f14_3\", \"label\": \"f14_3\"}, {\"type\": \"number\", \"id\": \"f14_6\", \"label\": \"f14_6\"}, {\"type\": \"number\", \"id\": \"f14_8\", \"label\": \"f14_8\"}, {\"type\": \"number\", \"id\": \"f15\", \"label\": \"f15\"}, {\"type\": \"number\", \"id\": \"f15_1\", \"label\": \"f15_1\"}, {\"type\": \"number\", \"id\": \"f15_2\", \"label\": \"f15_2\"}, {\"type\": \"number\", \"id\": \"f15_3\", \"label\": \"f15_3\"}, {\"type\": \"number\", \"id\": \"f15_4\", \"label\": \"f15_4\"}, {\"type\": \"number\", \"id\": \"f15_6\", \"label\": \"f15_6\"}, {\"type\": \"number\", \"id\": \"f15_7\", \"label\": \"f15_7\"}, {\"type\": \"number\", \"id\": \"f15_8\", \"label\": \"f15_8\"}, {\"type\": \"number\", \"id\": \"f16\", \"label\": \"f16\"}, {\"type\": \"number\", \"id\": \"f16_1\", \"label\": \"f16_1\"}, {\"type\": \"number\", \"id\": \"f16_10\", \"label\": \"f16_10\"}, {\"type\": \"number\", \"id\": \"f16_11\", \"label\": \"f16_11\"}, {\"type\": \"number\", \"id\": \"f16_12\", \"label\": \"f16_12\"}, {\"type\": \"number\", \"id\": \"f16_3\", \"label\": \"f16_3\"}, {\"type\": \"number\", \"id\": \"f16_4\", \"label\": \"f16_4\"}, {\"type\": \"number\", \"id\": \"f16_6\", \"label\": \"f16_6\"}, {\"type\": \"number\", \"id\": \"f17\", \"label\": \"f17\"}, {\"type\": \"number\", \"id\": \"f17_2\", \"label\": \"f17_2\"}, {\"type\": \"number\", \"id\": \"f17_3\", \"label\": \"f17_3\"}, {\"type\": \"number\", \"id\": \"f17_4\", \"label\": \"f17_4\"}, {\"type\": \"number\", \"id\": \"f17_5\", \"label\": \"f17_5\"}, {\"type\": \"number\", \"id\": \"f19\", \"label\": \"f19\"}, {\"type\": \"number\", \"id\": \"f19_1\", \"label\": \"f19_1\"}, {\"type\": \"number\", \"id\": \"f19_2\", \"label\": \"f19_2\"}, {\"type\": \"number\", \"id\": \"f19_3\", \"label\": \"f19_3\"}, {\"type\": \"number\", \"id\": \"f19_4\", \"label\": \"f19_4\"}, {\"type\": \"number\", \"id\": \"f1_1\", \"label\": \"f1_1\"}, {\"type\": \"number\", \"id\": \"f1_10\", \"label\": \"f1_10\"}, {\"type\": \"number\", \"id\": \"f1_11\", \"label\": \"f1_11\"}, {\"type\": \"number\", \"id\": \"f1_2\", \"label\": \"f1_2\"}, {\"type\": \"number\", \"id\": \"f1_3\", \"label\": \"f1_3\"}, {\"type\": \"number\", \"id\": \"f1_4\", \"label\": \"f1_4\"}, {\"type\": \"number\", \"id\": \"f1_5\", \"label\": \"f1_5\"}, {\"type\": \"number\", \"id\": \"f1_6\", \"label\": \"f1_6\"}, {\"type\": \"number\", \"id\": \"f1_7\", \"label\": \"f1_7\"}, {\"type\": \"number\", \"id\": \"f1_8\", \"label\": \"f1_8\"}, {\"type\": \"number\", \"id\": \"f20\", \"label\": \"f20\"}, {\"type\": \"number\", \"id\": \"f20_1\", \"label\": \"f20_1\"}, {\"type\": \"number\", \"id\": \"f20_2\", \"label\": \"f20_2\"}, {\"type\": \"number\", \"id\": \"f20_4\", \"label\": \"f20_4\"}, {\"type\": \"number\", \"id\": \"f20_5\", \"label\": \"f20_5\"}, {\"type\": \"number\", \"id\": \"f20_6\", \"label\": \"f20_6\"}, {\"type\": \"number\", \"id\": \"f20_7\", \"label\": \"f20_7\"}, {\"type\": \"number\", \"id\": \"f20_8\", \"label\": \"f20_8\"}, {\"type\": \"number\", \"id\": \"f20_9\", \"label\": \"f20_9\"}, {\"type\": \"number\", \"id\": \"f21_1\", \"label\": \"f21_1\"}, {\"type\": \"number\", \"id\": \"f21_2\", \"label\": \"f21_2\"}, {\"type\": \"number\", \"id\": \"f22\", \"label\": \"f22\"}, {\"type\": \"number\", \"id\": \"f22_1\", \"label\": \"f22_1\"}, {\"type\": \"number\", \"id\": \"f22_2\", \"label\": \"f22_2\"}, {\"type\": \"number\", \"id\": \"f22_3\", \"label\": \"f22_3\"}, {\"type\": \"number\", \"id\": \"f22_4\", \"label\": \"f22_4\"}, {\"type\": \"number\", \"id\": \"f22_5\", \"label\": \"f22_5\"}, {\"type\": \"number\", \"id\": \"f23\", \"label\": \"f23\"}, {\"type\": \"number\", \"id\": \"f23_1\", \"label\": \"f23_1\"}, {\"type\": \"number\", \"id\": \"f23_2\", \"label\": \"f23_2\"}, {\"type\": \"number\", \"id\": \"f23_3\", \"label\": \"f23_3\"}, {\"type\": \"number\", \"id\": \"f23_4\", \"label\": \"f23_4\"}, {\"type\": \"number\", \"id\": \"f23_5\", \"label\": \"f23_5\"}, {\"type\": \"number\", \"id\": \"f23_6\", \"label\": \"f23_6\"}, {\"type\": \"number\", \"id\": \"f24\", \"label\": \"f24\"}, {\"type\": \"number\", \"id\": \"f24_1\", \"label\": \"f24_1\"}, {\"type\": \"number\", \"id\": \"f24_2\", \"label\": \"f24_2\"}, {\"type\": \"number\", \"id\": \"f24_3\", \"label\": \"f24_3\"}, {\"type\": \"number\", \"id\": \"f25\", \"label\": \"f25\"}, {\"type\": \"number\", \"id\": \"f25_1\", \"label\": \"f25_1\"}, {\"type\": \"number\", \"id\": \"f25_3\", \"label\": \"f25_3\"}, {\"type\": \"number\", \"id\": \"f25_7\", \"label\": \"f25_7\"}, {\"type\": \"number\", \"id\": \"f25_8\", \"label\": \"f25_8\"}, {\"type\": \"number\", \"id\": \"f25_9\", \"label\": \"f25_9\"}, {\"type\": \"number\", \"id\": \"f2_1\", \"label\": \"f2_1\"}, {\"type\": \"number\", \"id\": \"f2_10\", \"label\": \"f2_10\"}, {\"type\": \"number\", \"id\": \"f2_11\", \"label\": \"f2_11\"}, {\"type\": \"number\", \"id\": \"f2_12\", \"label\": \"f2_12\"}, {\"type\": \"number\", \"id\": \"f2_13\", \"label\": \"f2_13\"}, {\"type\": \"number\", \"id\": \"f2_2\", \"label\": \"f2_2\"}, {\"type\": \"number\", \"id\": \"f2_4\", \"label\": \"f2_4\"}, {\"type\": \"number\", \"id\": \"f2_5\", \"label\": \"f2_5\"}, {\"type\": \"number\", \"id\": \"f2_6\", \"label\": \"f2_6\"}, {\"type\": \"number\", \"id\": \"f2_7\", \"label\": \"f2_7\"}, {\"type\": \"number\", \"id\": \"f2_8\", \"label\": \"f2_8\"}, {\"type\": \"number\", \"id\": \"f3_1\", \"label\": \"f3_1\"}, {\"type\": \"number\", \"id\": \"f3_2\", \"label\": \"f3_2\"}, {\"type\": \"number\", \"id\": \"f3_3\", \"label\": \"f3_3\"}, {\"type\": \"number\", \"id\": \"f4\", \"label\": \"f4\"}, {\"type\": \"number\", \"id\": \"f4_1\", \"label\": \"f4_1\"}, {\"type\": \"number\", \"id\": \"f4_10\", \"label\": \"f4_10\"}, {\"type\": \"number\", \"id\": \"f4_11\", \"label\": \"f4_11\"}, {\"type\": \"number\", \"id\": \"f4_13\", \"label\": \"f4_13\"}, {\"type\": \"number\", \"id\": \"f4_14\", \"label\": \"f4_14\"}, {\"type\": \"number\", \"id\": \"f4_16\", \"label\": \"f4_16\"}, {\"type\": \"number\", \"id\": \"f4_17\", \"label\": \"f4_17\"}, {\"type\": \"number\", \"id\": \"f4_18\", \"label\": \"f4_18\"}, {\"type\": \"number\", \"id\": \"f4_2\", \"label\": \"f4_2\"}, {\"type\": \"number\", \"id\": \"f4_3\", \"label\": \"f4_3\"}, {\"type\": \"number\", \"id\": \"f4_5\", \"label\": \"f4_5\"}, {\"type\": \"number\", \"id\": \"f4_6\", \"label\": \"f4_6\"}, {\"type\": \"number\", \"id\": \"f4_7\", \"label\": \"f4_7\"}, {\"type\": \"number\", \"id\": \"f4_8\", \"label\": \"f4_8\"}, {\"type\": \"number\", \"id\": \"f4_9\", \"label\": \"f4_9\"}, {\"type\": \"number\", \"id\": \"f5\", \"label\": \"f5\"}, {\"type\": \"number\", \"id\": \"f5_1\", \"label\": \"f5_1\"}, {\"type\": \"number\", \"id\": \"f5_3\", \"label\": \"f5_3\"}, {\"type\": \"number\", \"id\": \"f5_4\", \"label\": \"f5_4\"}, {\"type\": \"number\", \"id\": \"f6\", \"label\": \"f6\"}, {\"type\": \"number\", \"id\": \"f6_1\", \"label\": \"f6_1\"}, {\"type\": \"number\", \"id\": \"f6_2\", \"label\": \"f6_2\"}, {\"type\": \"number\", \"id\": \"f6_4\", \"label\": \"f6_4\"}, {\"type\": \"number\", \"id\": \"f7\", \"label\": \"f7\"}, {\"type\": \"number\", \"id\": \"f8\", \"label\": \"f8\"}, {\"type\": \"number\", \"id\": \"f8_1\", \"label\": \"f8_1\"}, {\"type\": \"number\", \"id\": \"f8_2\", \"label\": \"f8_2\"}, {\"type\": \"number\", \"id\": \"f8_3\", \"label\": \"f8_3\"}, {\"type\": \"number\", \"id\": \"f8_4\", \"label\": \"f8_4\"}, {\"type\": \"number\", \"id\": \"f8_5\", \"label\": \"f8_5\"}]});\n",
       "        }\n",
       "      );\n",
       "    </script>\n",
       "  "
      ],
      "text/plain": [
       "QueryResultsTable job_QDAtqNqzFMKI47EWy3EbGgNCaD8"
      ]
     },
     "execution_count": 20,
     "metadata": {},
     "output_type": "execute_result"
    }
   ],
   "source": [
    "%%bigquery execute -t datalab-projects-1331:xjk_algo_comp.pois -m overwrite\n",
    "  \n",
    "SELECT district_hash,\n",
    "LAST(pois.f1) AS f1, LAST(pois.f11) AS f11, LAST(pois.f11_1) AS f11_1, \n",
    "LAST(pois.f11_2) AS f11_2, LAST(pois.f11_3) AS f11_3, LAST(pois.f11_4) AS f11_4, \n",
    "LAST(pois.f11_5) AS f11_5, LAST(pois.f11_6) AS f11_6, LAST(pois.f11_7) AS f11_7, \n",
    "LAST(pois.f11_8) AS f11_8, LAST(pois.f13_4) AS f13_4, LAST(pois.f13_8) AS f13_8, \n",
    "LAST(pois.f14) AS f14, LAST(pois.f14_1) AS f14_1, LAST(pois.f14_10) AS f14_10, \n",
    "LAST(pois.f14_2) AS f14_2, LAST(pois.f14_3) AS f14_3, LAST(pois.f14_6) AS f14_6, \n",
    "LAST(pois.f14_8) AS f14_8, LAST(pois.f15) AS f15, LAST(pois.f15_1) AS f15_1, \n",
    "LAST(pois.f15_2) AS f15_2, LAST(pois.f15_3) AS f15_3, LAST(pois.f15_4) AS f15_4, \n",
    "LAST(pois.f15_6) AS f15_6, LAST(pois.f15_7) AS f15_7, LAST(pois.f15_8) AS f15_8, \n",
    "LAST(pois.f16) AS f16, LAST(pois.f16_1) AS f16_1, LAST(pois.f16_10) AS f16_10, \n",
    "LAST(pois.f16_11) AS f16_11, LAST(pois.f16_12) AS f16_12, LAST(pois.f16_3) AS f16_3, \n",
    "LAST(pois.f16_4) AS f16_4, LAST(pois.f16_6) AS f16_6, LAST(pois.f17) AS f17, \n",
    "LAST(pois.f17_2) AS f17_2, LAST(pois.f17_3) AS f17_3, LAST(pois.f17_4) AS f17_4, \n",
    "LAST(pois.f17_5) AS f17_5, LAST(pois.f19) AS f19, LAST(pois.f19_1) AS f19_1, \n",
    "LAST(pois.f19_2) AS f19_2, LAST(pois.f19_3) AS f19_3, LAST(pois.f19_4) AS f19_4, \n",
    "LAST(pois.f1_1) AS f1_1, LAST(pois.f1_10) AS f1_10, LAST(pois.f1_11) AS f1_11, \n",
    "LAST(pois.f1_2) AS f1_2, LAST(pois.f1_3) AS f1_3, LAST(pois.f1_4) AS f1_4, \n",
    "LAST(pois.f1_5) AS f1_5, LAST(pois.f1_6) AS f1_6, LAST(pois.f1_7) AS f1_7, \n",
    "LAST(pois.f1_8) AS f1_8, LAST(pois.f20) AS f20, LAST(pois.f20_1) AS f20_1, \n",
    "LAST(pois.f20_2) AS f20_2, LAST(pois.f20_4) AS f20_4, LAST(pois.f20_5) AS f20_5, \n",
    "LAST(pois.f20_6) AS f20_6, LAST(pois.f20_7) AS f20_7, LAST(pois.f20_8) AS f20_8, \n",
    "LAST(pois.f20_9) AS f20_9, LAST(pois.f21_1) AS f21_1, LAST(pois.f21_2) AS f21_2, \n",
    "LAST(pois.f22) AS f22, LAST(pois.f22_1) AS f22_1, LAST(pois.f22_2) AS f22_2, \n",
    "LAST(pois.f22_3) AS f22_3, LAST(pois.f22_4) AS f22_4, LAST(pois.f22_5) AS f22_5, \n",
    "LAST(pois.f23) AS f23, LAST(pois.f23_1) AS f23_1, LAST(pois.f23_2) AS f23_2, \n",
    "LAST(pois.f23_3) AS f23_3, LAST(pois.f23_4) AS f23_4, LAST(pois.f23_5) AS f23_5, \n",
    "LAST(pois.f23_6) AS f23_6, LAST(pois.f24) AS f24, LAST(pois.f24_1) AS f24_1, \n",
    "LAST(pois.f24_2) AS f24_2, LAST(pois.f24_3) AS f24_3, LAST(pois.f25) AS f25, \n",
    "LAST(pois.f25_1) AS f25_1, LAST(pois.f25_3) AS f25_3, LAST(pois.f25_7) AS f25_7, \n",
    "LAST(pois.f25_8) AS f25_8, LAST(pois.f25_9) AS f25_9, LAST(pois.f2_1) AS f2_1, \n",
    "LAST(pois.f2_10) AS f2_10, LAST(pois.f2_11) AS f2_11, LAST(pois.f2_12) AS f2_12, \n",
    "LAST(pois.f2_13) AS f2_13, LAST(pois.f2_2) AS f2_2, LAST(pois.f2_4) AS f2_4, \n",
    "LAST(pois.f2_5) AS f2_5, LAST(pois.f2_6) AS f2_6, LAST(pois.f2_7) AS f2_7, \n",
    "LAST(pois.f2_8) AS f2_8, LAST(pois.f3_1) AS f3_1, LAST(pois.f3_2) AS f3_2, \n",
    "LAST(pois.f3_3) AS f3_3, LAST(pois.f4) AS f4, LAST(pois.f4_1) AS f4_1, \n",
    "LAST(pois.f4_10) AS f4_10, LAST(pois.f4_11) AS f4_11, LAST(pois.f4_13) AS f4_13, \n",
    "LAST(pois.f4_14) AS f4_14, LAST(pois.f4_16) AS f4_16, LAST(pois.f4_17) AS f4_17, \n",
    "LAST(pois.f4_18) AS f4_18, LAST(pois.f4_2) AS f4_2, LAST(pois.f4_3) AS f4_3, \n",
    "LAST(pois.f4_5) AS f4_5, LAST(pois.f4_6) AS f4_6, LAST(pois.f4_7) AS f4_7, \n",
    "LAST(pois.f4_8) AS f4_8, LAST(pois.f4_9) AS f4_9, LAST(pois.f5) AS f5, \n",
    "LAST(pois.f5_1) AS f5_1, LAST(pois.f5_3) AS f5_3, LAST(pois.f5_4) AS f5_4, \n",
    "LAST(pois.f6) AS f6, LAST(pois.f6_1) AS f6_1, LAST(pois.f6_2) AS f6_2, \n",
    "LAST(pois.f6_4) AS f6_4, LAST(pois.f7) AS f7, LAST(pois.f8) AS f8, \n",
    "LAST(pois.f8_1) AS f8_1, LAST(pois.f8_2) AS f8_2, LAST(pois.f8_3) AS f8_3, \n",
    "LAST(pois.f8_4) AS f8_4, LAST(pois.f8_5) AS f8_5\n",
    "FROM [datalab-projects-1331:xjk_algo_comp.pois_preprocessed] AS pois\n",
    "GROUP BY district_hash"
   ]
  },
  {
   "cell_type": "markdown",
   "metadata": {},
   "source": [
    "## Orders"
   ]
  },
  {
   "cell_type": "code",
   "execution_count": 21,
   "metadata": {
    "collapsed": false
   },
   "outputs": [
    {
     "name": "stdout",
     "output_type": "stream",
     "text": [
      "loading season_2/training_data/order_data/order_data_2016-01-16\n",
      "loading season_2/training_data/order_data/order_data_2016-01-06\n",
      "loading season_2/training_data/order_data/order_data_2016-01-21\n",
      "loading season_2/training_data/order_data/order_data_2016-01-14\n",
      "loading season_2/training_data/order_data/order_data_2016-01-02\n",
      "loading season_2/training_data/order_data/order_data_2016-01-04\n",
      "loading season_2/training_data/order_data/order_data_2016-01-05\n",
      "loading season_2/training_data/order_data/order_data_2016-01-17\n",
      "loading season_2/training_data/order_data/order_data_2016-01-09\n",
      "loading season_2/training_data/order_data/order_data_2016-01-15\n",
      "loading season_2/training_data/order_data/order_data_2016-01-12\n",
      "loading season_2/training_data/order_data/order_data_2016-01-08\n",
      "loading season_2/training_data/order_data/order_data_2016-01-18\n",
      "loading season_2/training_data/order_data/order_data_2016-01-20\n",
      "loading season_2/training_data/order_data/order_data_2016-01-11\n",
      "loading season_2/training_data/order_data/order_data_2016-01-03\n",
      "loading season_2/training_data/order_data/order_data_2016-01-19\n",
      "loading season_2/training_data/order_data/order_data_2016-01-13\n",
      "loading season_2/training_data/order_data/order_data_2016-01-10\n",
      "loading season_2/training_data/order_data/order_data_2016-01-01\n",
      "loading season_2/training_data/order_data/order_data_2016-01-07\n"
     ]
    }
   ],
   "source": [
    "table = bq.Table('datalab-projects-1331:xjk_algo_comp.orders_preprocessed')\n",
    "if not table.exists():\n",
    "  schema = bq.Schema([{'name': 'order_id', 'type': 'STRING'},\n",
    "                      {'name': 'driver_id', 'type': 'STRING'},\n",
    "                      {'name': 'passenger_id', 'type': 'STRING'},\n",
    "                      {'name': 'start_district_hash', 'type': 'STRING'},\n",
    "                      {'name': 'dest_district_hash', 'type': 'STRING'},\n",
    "                      {'name': 'price', 'type': 'FLOAT'},\n",
    "                      {'name': 'time', 'type': 'STRING'}])\n",
    "  table.create(schema)\n",
    "  \n",
    "wildpath = '{}/{}/order_data/*'.format(season_name, subdirectory_name)\n",
    "for localpath in glob.glob(wildpath):\n",
    "  print 'loading {}'.format(localpath)\n",
    "  storagepath = os.path.join(bucket_path,localpath)\n",
    "  process_datafile(localpath, storagepath, table, mode='append')"
   ]
  },
  {
   "cell_type": "code",
   "execution_count": 25,
   "metadata": {
    "collapsed": true
   },
   "outputs": [],
   "source": [
    "%%bigquery udf --module orders_create_additional_fields\n",
    "\n",
    "/**\n",
    " * Pad with 0 or given string.\n",
    " *\n",
    " * @param int n Number to add padding to.\n",
    " * @param int width Width of number + padding.\n",
    " * @param string z (Optional) Other string to replace '0' as padding.\n",
    " */\n",
    "function pad(n, width, z) {\n",
    "  z = z || '0';\n",
    "  n = n + '';\n",
    "  return n.length >= width ? n : new Array(width - n.length + 1).join(z) + n;\n",
    "}\n",
    "\n",
    "/**\n",
    " * Create additional fields on orders table for gaps table creation.\n",
    " *\n",
    " * @param {{order_id: string, driver_id: string, passenger_id: string,\n",
    "            start_district_hash: string, dest_district_hash: string, price: float,\n",
    "            time: string}} r\n",
    " * @param function({{order_id: string, driver_id: string, passenger_id: string,\n",
    "                     start_district_hash: string, dest_district_hash: string, price: float,\n",
    "                     time: string, timeslot: string, timeofday_slot: integer, day_in_week: integer,\n",
    "                     date: string}}) emitFn\n",
    " */\n",
    "function(r, emitFn) {\n",
    "  var t = r.time.split(/[ :\\-]/);\n",
    "  var slot = Math.floor((parseInt(t[3]) * 60 + parseInt(t[4])) / 10) + 1;\n",
    "  r.timeslot = t[0] + '-' + pad(t[1], 2) +\n",
    "               '-' + pad(t[2], 2) + '-' + slot;\n",
    "  r.timeofday_slot = slot;\n",
    "  r.date = t[0] + '-' + pad(t[1], 2) + '-' + pad(t[2], 2);\n",
    "  r.day_in_week = new Date(parseInt(t[0]), parseInt(t[1])-1, parseInt(t[2])).getDay();\n",
    "  emitFn(r);\n",
    "}"
   ]
  },
  {
   "cell_type": "code",
   "execution_count": 26,
   "metadata": {
    "collapsed": false
   },
   "outputs": [
    {
     "name": "stderr",
     "output_type": "stream",
     "text": [
      "Response too large to return. Consider setting allowLargeResults to true in your job configuration. For more information, see https://cloud.google.com/bigquery/troubleshooting-errors\n"
     ]
    }
   ],
   "source": [
    "%%bigquery execute -t datalab-projects-1331:xjk_algo_comp.orders -m overwrite\n",
    "SELECT order_id, driver_id, passenger_id,\n",
    "  start_district_hash, dest_district_hash,\n",
    "  price, time, timeslot, timeofday_slot, day_in_week, date\n",
    "FROM orders_create_additional_fields([datalab-projects-1331:xjk_algo_comp.orders_preprocessed])"
   ]
  },
  {
   "cell_type": "code",
   "execution_count": null,
   "metadata": {
    "collapsed": true
   },
   "outputs": [],
   "source": []
  }
 ],
 "metadata": {
  "kernelspec": {
   "display_name": "Python 2",
   "language": "python",
   "name": "python2"
  },
  "language_info": {
   "codemirror_mode": {
    "name": "ipython",
    "version": 2
   },
   "file_extension": ".py",
   "mimetype": "text/x-python",
   "name": "python",
   "nbconvert_exporter": "python",
   "pygments_lexer": "ipython2",
   "version": "2.7.9"
  }
 },
 "nbformat": 4,
 "nbformat_minor": 0
}
