{
 "cells": [
  {
   "cell_type": "code",
   "execution_count": 1,
   "metadata": {
    "collapsed": false
   },
   "outputs": [
    {
     "name": "stdout",
     "output_type": "stream",
     "text": [
      "Reading package lists...\n",
      "Building dependency tree...\n",
      "Reading state information...\n",
      "The following extra packages will be installed:\n",
      "  hdf5-helpers libhdf5-8 libhdf5-cpp-8 libhdf5-dev libjpeg-dev libjpeg62-turbo\n",
      "  libjpeg62-turbo-dev\n",
      "Suggested packages:\n",
      "  libhdf5-doc\n",
      "The following NEW packages will be installed:\n",
      "  hdf5-helpers libhdf5-8 libhdf5-cpp-8 libhdf5-dev libhdf5-serial-dev\n",
      "  libjpeg-dev libjpeg62-turbo libjpeg62-turbo-dev\n",
      "0 upgraded, 8 newly installed, 0 to remove and 1 not upgraded.\n",
      "Need to get 6231 kB of archives.\n",
      "After this operation, 32.4 MB of additional disk space will be used.\n",
      "Get:1 http://httpredir.debian.org/debian/ jessie/main libhdf5-8 amd64 1.8.13+docs-15 [1060 kB]\n",
      "Get:2 http://httpredir.debian.org/debian/ jessie/main hdf5-helpers amd64 1.8.13+docs-15 [36.5 kB]\n",
      "Get:3 http://httpredir.debian.org/debian/ jessie/main libhdf5-cpp-8 amd64 1.8.13+docs-15 [121 kB]\n",
      "Get:4 http://httpredir.debian.org/debian/ jessie/main libjpeg62-turbo amd64 1:1.3.1-12 [116 kB]\n",
      "Get:5 http://httpredir.debian.org/debian/ jessie/main libjpeg62-turbo-dev amd64 1:1.3.1-12 [455 kB]\n",
      "Get:6 http://httpredir.debian.org/debian/ jessie/main libjpeg-dev all 1:1.3.1-12 [49.3 kB]\n",
      "Get:7 http://httpredir.debian.org/debian/ jessie/main libhdf5-dev amd64 1.8.13+docs-15 [4364 kB]\n",
      "Get:8 http://httpredir.debian.org/debian/ jessie/main libhdf5-serial-dev all 1.8.13+docs-15 [28.3 kB]\n",
      "Fetched 6231 kB in 2s (2218 kB/s)\n",
      "Selecting previously unselected package libhdf5-8:amd64.\r\n",
      "(Reading database ... \r",
      "(Reading database ... 5%\r",
      "(Reading database ... 10%\r",
      "(Reading database ... 15%\r",
      "(Reading database ... 20%\r",
      "(Reading database ... 25%\r",
      "(Reading database ... 30%\r",
      "(Reading database ... 35%\r",
      "(Reading database ... 40%\r",
      "(Reading database ... 45%\r",
      "(Reading database ... 50%\r",
      "(Reading database ... 55%\r",
      "(Reading database ... 60%\r",
      "(Reading database ... 65%\r",
      "(Reading database ... 70%\r",
      "(Reading database ... 75%\r",
      "(Reading database ... 80%\r",
      "(Reading database ... 85%\r",
      "(Reading database ... 90%\r",
      "(Reading database ... 95%\r",
      "(Reading database ... 100%\r",
      "(Reading database ... 18274 files and directories currently installed.)\r\n",
      "Preparing to unpack .../libhdf5-8_1.8.13+docs-15_amd64.deb ...\r\n",
      "Unpacking libhdf5-8:amd64 (1.8.13+docs-15) ...\r\n",
      "Selecting previously unselected package hdf5-helpers.\r\n",
      "Preparing to unpack .../hdf5-helpers_1.8.13+docs-15_amd64.deb ...\r\n",
      "Unpacking hdf5-helpers (1.8.13+docs-15) ...\r\n",
      "Selecting previously unselected package libhdf5-cpp-8:amd64.\r\n",
      "Preparing to unpack .../libhdf5-cpp-8_1.8.13+docs-15_amd64.deb ...\r\n",
      "Unpacking libhdf5-cpp-8:amd64 (1.8.13+docs-15) ...\r\n",
      "Selecting previously unselected package libjpeg62-turbo:amd64.\r\n",
      "Preparing to unpack .../libjpeg62-turbo_1%3a1.3.1-12_amd64.deb ...\r\n",
      "Unpacking libjpeg62-turbo:amd64 (1:1.3.1-12) ...\r\n",
      "Selecting previously unselected package libjpeg62-turbo-dev:amd64.\r\n",
      "Preparing to unpack .../libjpeg62-turbo-dev_1%3a1.3.1-12_amd64.deb ...\r\n",
      "Unpacking libjpeg62-turbo-dev:amd64 (1:1.3.1-12) ...\r\n",
      "Selecting previously unselected package libjpeg-dev.\r\n",
      "Preparing to unpack .../libjpeg-dev_1%3a1.3.1-12_all.deb ...\r\n",
      "Unpacking libjpeg-dev (1:1.3.1-12) ...\r\n",
      "Selecting previously unselected package libhdf5-dev.\r\n",
      "Preparing to unpack .../libhdf5-dev_1.8.13+docs-15_amd64.deb ...\r\n",
      "Unpacking libhdf5-dev (1.8.13+docs-15) ...\r\n",
      "Selecting previously unselected package libhdf5-serial-dev.\r\n",
      "Preparing to unpack .../libhdf5-serial-dev_1.8.13+docs-15_all.deb ...\r\n",
      "Unpacking libhdf5-serial-dev (1.8.13+docs-15) ...\r\n",
      "Setting up libhdf5-8:amd64 (1.8.13+docs-15) ...\r\n",
      "Setting up hdf5-helpers (1.8.13+docs-15) ...\r\n",
      "Setting up libhdf5-cpp-8:amd64 (1.8.13+docs-15) ...\r\n",
      "Setting up libjpeg62-turbo:amd64 (1:1.3.1-12) ...\r\n",
      "Setting up libjpeg62-turbo-dev:amd64 (1:1.3.1-12) ...\r\n",
      "Setting up libjpeg-dev (1:1.3.1-12) ...\r\n",
      "Setting up libhdf5-dev (1.8.13+docs-15) ...\r\n",
      "update-alternatives: using /usr/lib/x86_64-linux-gnu/pkgconfig/hdf5-serial.pc to provide /usr/lib/x86_64-linux-gnu/pkgconfig/hdf5.pc (hdf5.pc) in auto mode\r\n",
      "Setting up libhdf5-serial-dev (1.8.13+docs-15) ...\r\n",
      "Processing triggers for libc-bin (2.19-18+deb8u4) ...\r\n"
     ]
    },
    {
     "name": "stderr",
     "output_type": "stream",
     "text": [
      "debconf: delaying package configuration, since apt-utils is not installed\n"
     ]
    }
   ],
   "source": [
    "%%bash\n",
    "apt-get -y install libhdf5-serial-dev\n",
    "DEBIAN_FRONTEND=noninteractive dpkg-reconfigure libhdf5-serial-dev"
   ]
  },
  {
   "cell_type": "code",
   "execution_count": null,
   "metadata": {
    "collapsed": true
   },
   "outputs": [],
   "source": [
    "%%bash\n",
    "pip install tables"
   ]
  },
  {
   "cell_type": "code",
   "execution_count": null,
   "metadata": {
    "collapsed": true
   },
   "outputs": [],
   "source": []
  }
 ],
 "metadata": {
  "kernelspec": {
   "display_name": "Python 2",
   "language": "python",
   "name": "python2"
  },
  "language_info": {
   "codemirror_mode": {
    "name": "ipython",
    "version": 2
   },
   "file_extension": ".py",
   "mimetype": "text/x-python",
   "name": "python",
   "nbconvert_exporter": "python",
   "pygments_lexer": "ipython2",
   "version": "2.7.9"
  }
 },
 "nbformat": 4,
 "nbformat_minor": 0
}
