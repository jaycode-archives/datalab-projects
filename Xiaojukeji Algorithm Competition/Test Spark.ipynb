{
 "cells": [
  {
   "cell_type": "code",
   "execution_count": 2,
   "metadata": {
    "collapsed": false
   },
   "outputs": [
    {
     "ename": "ImportError",
     "evalue": "No module named pyspark.mllib.linalg",
     "output_type": "error",
     "traceback": [
      "\u001b[1;31m\u001b[0m",
      "\u001b[1;31mImportError\u001b[0mTraceback (most recent call last)",
      "\u001b[1;32m<ipython-input-2-ec11e9e2da7e>\u001b[0m in \u001b[0;36m<module>\u001b[1;34m()\u001b[0m\n\u001b[1;32m----> 1\u001b[1;33m \u001b[1;32mfrom\u001b[0m \u001b[0mpyspark\u001b[0m\u001b[1;33m.\u001b[0m\u001b[0mmllib\u001b[0m\u001b[1;33m.\u001b[0m\u001b[0mlinalg\u001b[0m \u001b[1;32mimport\u001b[0m \u001b[0mSparseVector\u001b[0m\u001b[1;33m\u001b[0m\u001b[0m\n\u001b[0m",
      "\u001b[1;31mImportError\u001b[0m: No module named pyspark.mllib.linalg"
     ]
    }
   ],
   "source": [
    "from pyspark.mllib.linalg import SparseVector"
   ]
  },
  {
   "cell_type": "code",
   "execution_count": 3,
   "metadata": {
    "collapsed": false
   },
   "outputs": [
    {
     "name": "stdout",
     "output_type": "stream",
     "text": [
      " __ _                       _     _   _               _       _   _          \n",
      "/ _(_) __ _ _ __ ___   ___ (_) __| | /_\\  _ __   __ _| |_   _| |_(_) ___ ___ \n",
      "\\ \\| |/ _` | '_ ` _ \\ / _ \\| |/ _` |//_\\\\| '_ \\ / _` | | | | | __| |/ __/ __|\n",
      "_\\ \\ | (_| | | | | | | (_) | | (_| /  _  \\ | | | (_| | | |_| | |_| | (__\\__ \\\n",
      "\\__/_|\\__, |_| |_| |_|\\___/|_|\\__,_\\_/ \\_/_| |_|\\__,_|_|\\__, |\\__|_|\\___|___/\n",
      "      |___/              SigmoidAnalytics.com           |___/                \n",
      "\n",
      "[ Script Started ]\n",
      "# Usage: spark_gce.py <project> <no-slaves> <slave-type> <master-type> <identity-file> <zone> <cluster-name>\n",
      "# Usage: spark_gce.py <project> <cluster-name> destroy\n"
     ]
    }
   ],
   "source": [
    "%%bash\n",
    "cd spark_gce\n",
    "python spark_gce.py datalab-projects-1331 1 n1-standard-2 n1-standard-2"
   ]
  },
  {
   "cell_type": "code",
   "execution_count": 7,
   "metadata": {
    "collapsed": false
   },
   "outputs": [],
   "source": [
    "%%bash\n",
    "\n",
    "ls ~"
   ]
  },
  {
   "cell_type": "code",
   "execution_count": null,
   "metadata": {
    "collapsed": true
   },
   "outputs": [],
   "source": []
  }
 ],
 "metadata": {
  "kernelspec": {
   "display_name": "Python 2",
   "language": "python",
   "name": "python2"
  },
  "language_info": {
   "codemirror_mode": {
    "name": "ipython",
    "version": 2
   },
   "file_extension": ".py",
   "mimetype": "text/x-python",
   "name": "python",
   "nbconvert_exporter": "python",
   "pygments_lexer": "ipython2",
   "version": "2.7.9"
  }
 },
 "nbformat": 4,
 "nbformat_minor": 0
}
