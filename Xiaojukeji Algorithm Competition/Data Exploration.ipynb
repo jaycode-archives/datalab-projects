{
 "cells": [
  {
   "cell_type": "code",
   "execution_count": 5,
   "metadata": {
    "collapsed": true
   },
   "outputs": [],
   "source": [
    "import gcp\n",
    "from cStringIO import StringIO\n",
    "import gzip\n",
    "import os\n",
    "\n",
    "import pandas as pd\n",
    "import numpy as np\n",
    "import matplotlib.pyplot as plt\n",
    "import tensorflow as tf"
   ]
  },
  {
   "cell_type": "code",
   "execution_count": 6,
   "metadata": {
    "collapsed": false
   },
   "outputs": [
    {
     "name": "stdout",
     "output_type": "stream",
     "text": [
      "Bucket: gs://datalab-dot-alien-oarlock-130015-datalab/data\n",
      "Object: gs://datalab-dot-alien-oarlock-130015-datalab/data/citydata.tar.gz\n"
     ]
    }
   ],
   "source": [
    "# Import zip file from Google Cloud Storage\n",
    "# project = gcp.Context.default().project_id\n",
    "project = 'datalab-dot-alien-oarlock-130015'\n",
    "bucket_name = project + '-datalab'\n",
    "bucket_path = 'gs://' + bucket_name + '/data'\n",
    "bucket_object = bucket_path + '/citydata.tar.gz'\n",
    "print 'Bucket: ' + bucket_path\n",
    "print 'Object: ' + bucket_object"
   ]
  },
  {
   "cell_type": "code",
   "execution_count": 8,
   "metadata": {
    "collapsed": true
   },
   "outputs": [],
   "source": [
    "import urllib2\n",
    "file_location = 'https://docs.google.com/uc?export=download&confirm=oXrO&id=0B8xhdcC7mI-bUTlOOEFKTkN2dFE'\n",
    "response = urllib2.urlopen('http://www.example.com/')\n",
    "html = response.read()\n"
   ]
  },
  {
   "cell_type": "code",
   "execution_count": 9,
   "metadata": {
    "collapsed": false
   },
   "outputs": [
    {
     "name": "stderr",
     "output_type": "stream",
     "text": [
      "Invalid source object name https://docs.google.com/uc?export=download&confirm=oXrO&id=0B8xhdcC7mI-bUTlOOEFKTkN2dFE; no bucket specified.\n"
     ]
    }
   ],
   "source": [
    "%%storage read --object $bucket_object --variable compressed_file"
   ]
  },
  {
   "cell_type": "code",
   "execution_count": 4,
   "metadata": {
    "collapsed": false
   },
   "outputs": [
    {
     "ename": "NameError",
     "evalue": "name 'compressed_file' is not defined",
     "output_type": "error",
     "traceback": [
      "\u001b[1;31m\u001b[0m",
      "\u001b[1;31mNameError\u001b[0mTraceback (most recent call last)",
      "\u001b[1;32m<ipython-input-4-b33c56b34bb2>\u001b[0m in \u001b[0;36m<module>\u001b[1;34m()\u001b[0m\n\u001b[0;32m      7\u001b[0m   \u001b[1;31m# If citydata.tar has not been downloaded, download it.\u001b[0m\u001b[1;33m\u001b[0m\u001b[1;33m\u001b[0m\u001b[0m\n\u001b[0;32m      8\u001b[0m   \u001b[1;32mif\u001b[0m \u001b[1;32mnot\u001b[0m \u001b[0mos\u001b[0m\u001b[1;33m.\u001b[0m\u001b[0mpath\u001b[0m\u001b[1;33m.\u001b[0m\u001b[0misfile\u001b[0m\u001b[1;33m(\u001b[0m\u001b[0mtar_filename\u001b[0m\u001b[1;33m)\u001b[0m\u001b[1;33m:\u001b[0m\u001b[1;33m\u001b[0m\u001b[0m\n\u001b[1;32m----> 9\u001b[1;33m     \u001b[0mgzip_file\u001b[0m \u001b[1;33m=\u001b[0m \u001b[0mgzip\u001b[0m\u001b[1;33m.\u001b[0m\u001b[0mGzipFile\u001b[0m\u001b[1;33m(\u001b[0m\u001b[0mfileobj\u001b[0m\u001b[1;33m=\u001b[0m\u001b[0mStringIO\u001b[0m\u001b[1;33m(\u001b[0m\u001b[0mcompressed_file\u001b[0m\u001b[1;33m)\u001b[0m\u001b[1;33m)\u001b[0m\u001b[1;33m\u001b[0m\u001b[0m\n\u001b[0m\u001b[0;32m     10\u001b[0m \u001b[1;33m\u001b[0m\u001b[0m\n\u001b[0;32m     11\u001b[0m     \u001b[1;32mimport\u001b[0m \u001b[0mshutil\u001b[0m\u001b[1;33m\u001b[0m\u001b[0m\n",
      "\u001b[1;31mNameError\u001b[0m: name 'compressed_file' is not defined"
     ]
    }
   ],
   "source": [
    "# Downloading and extracting the files from cloud storage.\n",
    "\n",
    "tar_filename = 'citydata.tar'\n",
    "datadir = 'season_1'\n",
    "# If data has not been extracted, extract it.\n",
    "if not os.path.isdir(datadir):\n",
    "  # If citydata.tar has not been downloaded, download it.\n",
    "  if not os.path.isfile(tar_filename):\n",
    "    gzip_file = gzip.GzipFile(fileobj=StringIO(compressed_file))\n",
    "\n",
    "    import shutil\n",
    "    with open(tar_filename, 'wb') as f_out:\n",
    "      shutil.copyfileobj(gzip_file, f_out)\n",
    "\n",
    "  import tarfile\n",
    "  tar = tarfile.open(tar_filename, \"r\")\n",
    "  tar.extractall()\n",
    "  tar.close()\n",
    "  os.remove(tar_filename)"
   ]
  },
  {
   "cell_type": "code",
   "execution_count": null,
   "metadata": {
    "collapsed": true
   },
   "outputs": [],
   "source": [
    "# Reading the poi data.\n",
    "\n",
    "data = pd.read_csv(\"season_1/training_data/poi_data/poi_data\")\n",
    "\n",
    "print(data)"
   ]
  },
  {
   "cell_type": "code",
   "execution_count": null,
   "metadata": {
    "collapsed": true
   },
   "outputs": [],
   "source": [
    "# Reading the order data.\n",
    "\n",
    "data = pd.read_csv(\"season_1/training_data/order_data/order_data_2016-01-01\", sep='\\t',\n",
    "                  header=None, names=['order_id', 'driver_id', 'passenger_id',\n",
    "                                      'start_district_hash', 'dest_district_hash',\n",
    "                                      'price', 'time'])\n",
    "\n",
    "print(data)"
   ]
  }
 ],
 "metadata": {
  "kernelspec": {
   "display_name": "Python 2",
   "language": "python",
   "name": "python2"
  },
  "language_info": {
   "codemirror_mode": {
    "name": "ipython",
    "version": 2
   },
   "file_extension": ".py",
   "mimetype": "text/x-python",
   "name": "python",
   "nbconvert_exporter": "python",
   "pygments_lexer": "ipython2",
   "version": "2.7.9"
  }
 },
 "nbformat": 4,
 "nbformat_minor": 0
}
