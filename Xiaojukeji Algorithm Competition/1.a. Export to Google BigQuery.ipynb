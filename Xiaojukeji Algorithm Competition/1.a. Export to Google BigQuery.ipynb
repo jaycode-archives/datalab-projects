{
 "cells": [
  {
   "cell_type": "code",
   "execution_count": null,
   "metadata": {
    "collapsed": true
   },
   "outputs": [],
   "source": [
    "from cStringIO import StringIO\n",
    "import gzip\n",
    "import os\n",
    "import glob\n",
    "import re\n",
    "import pdb\n",
    "\n",
    "import gcp\n",
    "from gcp import storage\n",
    "from gcp import bigquery as bq\n",
    "import pandas as pd\n",
    "\n",
    "# Import zip file from Google Cloud Storage\n",
    "project = gcp.Context.default().project_id\n",
    "# project = 'datalab-dot-alien-oarlock-130015'\n",
    "bucket_name = project + '-datalab'\n",
    "bucket_path = 'gs://' + bucket_name + '/data'\n",
    "print 'Bucket: ' + bucket_path"
   ]
  },
  {
   "cell_type": "code",
   "execution_count": null,
   "metadata": {
    "collapsed": true
   },
   "outputs": [],
   "source": [
    "# Downloading and extracting the files from cloud storage.\n",
    "​\n",
    "def process_datafile(localpath, storagepath, table, mode='create', overwrite=False):\n",
    "  gzip_filename = 'citydata.tar.gz'\n",
    "  tar_filename = 'citydata.tar'\n",
    "  datadir = 'season_1'\n",
    "  storagepath_r = storagepath.split('/')\n",
    "  # If data has not been extracted, extract it.\n",
    "  if not os.path.isdir(datadir):\n",
    "    # If citydata.tar has not been downloaded, download it\n",
    "    if not os.path.isfile(tar_filename):\n",
    "      \n",
    "      bucket_object = '/'.join(storagepath_r[:3]) + '/citydata.tar.gz'\n",
    "      %storage read --object $bucket_object --variable compressed_file\n",
    "      \n",
    "      gzip_file = gzip.GzipFile(fileobj=StringIO(compressed_file))\n",
    "      del compressed_file\n",
    "\n",
    "      import shutil\n",
    "      with open(tar_filename, 'wb') as f_out:\n",
    "        shutil.copyfileobj(gzip_file, f_out)\n",
    "\n",
    "    import tarfile\n",
    "    tar = tarfile.open(tar_filename, \"r\")\n",
    "    tar.extractall()\n",
    "    tar.close()\n",
    "    os.remove(tar_filename)\n",
    "\n",
    "  # Upload extracted file into GCS\n",
    "  bucketname = storagepath_r[2]\n",
    "  itempath = '/'.join(storagepath_r[3:])\n",
    "  item = storage.Item(bucketname, itempath)\n",
    "  if not item.exists() or overwrite:    \n",
    "    with open(localpath, 'rb') as f:\n",
    "      item.write_to(f.read(), 'text/plain')\n",
    "  # Load data into Google BigQuery\n",
    "  table.load(storagepath, mode=mode, csv_options=bq.CSVOptions(delimiter='\\t'))"
   ]
  },
  {
   "cell_type": "markdown",
   "metadata": {},
   "source": [
    "# Process Training Data"
   ]
  },
  {
   "cell_type": "markdown",
   "metadata": {},
   "source": [
    "## Districts"
   ]
  },
  {
   "cell_type": "code",
   "execution_count": null,
   "metadata": {
    "collapsed": true
   },
   "outputs": [],
   "source": [
    "if not table.exists():\n",
    "  schema = bq.Schema.from_data(pois_schema)\n",
    "  table.create(schema)\n",
    "  \n",
    "  pois_data = pd.DataFrame(columns=['district_hash'] + pois)\n",
    "  with open(localpath, 'rb') as f:\n",
    "    for line in f:\n",
    "      hash_pois = {}\n",
    "      for poi_line in line.split('\\t')[1:]:\n",
    "        hash_pois['f{}'.format(poi_line.split(':')[0].replace('#', '_'))] = poi_line.split(':')[1]\n",
    "      poi_data = [line.split('\\t')[0]]\n",
    "      # hash_pois = {f1_1: 15, ...}\n",
    "      # pois = ['f1_1', ...]\n",
    "      for poi in pois:\n",
    "        value = '0'\n",
    "        if poi in hash_pois:\n",
    "          value = hash_pois[poi].strip()\n",
    "        poi_data.append(value)\n",
    "      pois_data.loc[len(pois_data)] = poi_data\n",
    "  for poi in pois:\n",
    "    pois_data[poi] = pd.to_numeric(pois_data[poi])\n",
    "  table.insert_data(pois_data)"
   ]
  },
  {
   "cell_type": "markdown",
   "metadata": {},
   "source": [
    "Following code can be used to print out feature fields to be used when selecting from tables."
   ]
  },
  {
   "cell_type": "code",
   "execution_count": null,
   "metadata": {
    "collapsed": true
   },
   "outputs": [],
   "source": [
    "final_text = ''\n",
    "for counter, poi_text in enumerate(map(lambda x: 'FIRST(pois.{}) AS {}'.format(x,x), pois)):\n",
    "  if counter%3 == 0:\n",
    "    final_text = '{}\\n'.format(final_text)\n",
    "  final_text = '{}{}, '.format(final_text, poi_text)\n",
    "print final_text[1:(len(final_text)-2)]"
   ]
  }
 ],
 "metadata": {
  "kernelspec": {
   "display_name": "Python 2",
   "language": "python",
   "name": "python2"
  },
  "language_info": {
   "codemirror_mode": {
    "name": "ipython",
    "version": 2
   },
   "file_extension": ".py",
   "mimetype": "text/x-python",
   "name": "python",
   "nbconvert_exporter": "python",
   "pygments_lexer": "ipython2",
   "version": "2.7.9"
  }
 },
 "nbformat": 4,
 "nbformat_minor": 0
}
