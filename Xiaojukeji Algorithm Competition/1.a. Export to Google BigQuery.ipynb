{
 "cells": [
  {
   "cell_type": "code",
   "execution_count": 25,
   "metadata": {
    "collapsed": false
   },
   "outputs": [
    {
     "name": "stdout",
     "output_type": "stream",
     "text": [
      "Bucket: gs://datalab-projects-1331-datalab/data\n"
     ]
    }
   ],
   "source": [
    "from cStringIO import StringIO\n",
    "import gzip\n",
    "import os\n",
    "import glob\n",
    "import re\n",
    "import pdb\n",
    "\n",
    "import gcp\n",
    "from gcp import storage\n",
    "from gcp import bigquery as bq\n",
    "import pandas as pd\n",
    "\n",
    "# Import zip file from Google Cloud Storage\n",
    "project = gcp.Context.default().project_id\n",
    "bucket_name = project + '-datalab'\n",
    "bucket_path = 'gs://' + bucket_name + '/data'\n",
    "print 'Bucket: ' + bucket_path\n",
    "compressed_filename = 'citydata2'\n",
    "season_name = 'season_2'\n",
    "subdirectory_name = 'training_data'"
   ]
  },
  {
   "cell_type": "code",
   "execution_count": 26,
   "metadata": {
    "collapsed": true
   },
   "outputs": [],
   "source": [
    "# Downloading and extracting the files from cloud storage.\n",
    "\n",
    "def process_datafile(localpath, storagepath, table, mode='create', overwrite=False, ):\n",
    "  global compressed_filename\n",
    "  gzip_filename = '{}.tar.gz'.format(compressed_filename)\n",
    "  tar_filename = '{}.tar'.format(compressed_filename)\n",
    "  datadir = 'season_2'\n",
    "  storagepath_r = storagepath.split('/')\n",
    "  # If data has not been extracted, extract it.\n",
    "  if not os.path.isdir(datadir):\n",
    "    # If citydata.tar has not been downloaded, download it\n",
    "    if not os.path.isfile(tar_filename):\n",
    "      \n",
    "      bucket_object = '{}/{}.tar.gz'.format('/'.join(storagepath_r[:3]), compressed_filename)\n",
    "      %storage read --object $bucket_object --variable compressed_file\n",
    "      \n",
    "      gzip_file = gzip.GzipFile(fileobj=StringIO(compressed_file))\n",
    "      del compressed_file\n",
    "\n",
    "      import shutil\n",
    "      with open(tar_filename, 'wb') as f_out:\n",
    "        shutil.copyfileobj(gzip_file, f_out)\n",
    "\n",
    "    import tarfile\n",
    "    tar = tarfile.open(tar_filename, \"r\")\n",
    "    tar.extractall()\n",
    "    tar.close()\n",
    "    os.remove(tar_filename)\n",
    "\n",
    "  # Upload extracted file into GCS\n",
    "  bucketname = storagepath_r[2]\n",
    "  itempath = '/'.join(storagepath_r[3:])\n",
    "  item = storage.Item(bucketname, itempath)\n",
    "  if not item.exists() or overwrite:    \n",
    "    with open(localpath, 'rb') as f:\n",
    "      item.write_to(f.read(), 'text/plain')\n",
    "  # Load data into Google BigQuery\n",
    "  table.load(storagepath, mode=mode, csv_options=bq.CSVOptions(delimiter='\\t'))"
   ]
  },
  {
   "cell_type": "markdown",
   "metadata": {},
   "source": [
    "# Process Training Data"
   ]
  },
  {
   "cell_type": "markdown",
   "metadata": {},
   "source": [
    "## Districts"
   ]
  },
  {
   "cell_type": "code",
   "execution_count": 27,
   "metadata": {
    "collapsed": false
   },
   "outputs": [
    {
     "name": "stdout",
     "output_type": "stream",
     "text": [
      "Undefined variable referenced in command line: $bucket_object\n"
     ]
    },
    {
     "ename": "UnboundLocalError",
     "evalue": "local variable 'compressed_file' referenced before assignment",
     "output_type": "error",
     "traceback": [
      "\u001b[1;31m\u001b[0m",
      "\u001b[1;31mUnboundLocalError\u001b[0mTraceback (most recent call last)",
      "\u001b[1;32m<ipython-input-27-755220c3726a>\u001b[0m in \u001b[0;36m<module>\u001b[1;34m()\u001b[0m\n\u001b[0;32m      9\u001b[0m \u001b[0mlocalpath\u001b[0m \u001b[1;33m=\u001b[0m \u001b[1;34m'{}/{}/cluster_map/cluster_map'\u001b[0m\u001b[1;33m.\u001b[0m\u001b[0mformat\u001b[0m\u001b[1;33m(\u001b[0m\u001b[0mseason_name\u001b[0m\u001b[1;33m,\u001b[0m \u001b[0msubdirectory_name\u001b[0m\u001b[1;33m)\u001b[0m\u001b[1;33m\u001b[0m\u001b[0m\n\u001b[0;32m     10\u001b[0m \u001b[0mstoragepath\u001b[0m \u001b[1;33m=\u001b[0m \u001b[0mos\u001b[0m\u001b[1;33m.\u001b[0m\u001b[0mpath\u001b[0m\u001b[1;33m.\u001b[0m\u001b[0mjoin\u001b[0m\u001b[1;33m(\u001b[0m\u001b[0mbucket_path\u001b[0m\u001b[1;33m,\u001b[0m\u001b[0mlocalpath\u001b[0m\u001b[1;33m)\u001b[0m\u001b[1;33m\u001b[0m\u001b[0m\n\u001b[1;32m---> 11\u001b[1;33m \u001b[0mprocess_datafile\u001b[0m\u001b[1;33m(\u001b[0m\u001b[0mlocalpath\u001b[0m\u001b[1;33m,\u001b[0m \u001b[0mstoragepath\u001b[0m\u001b[1;33m,\u001b[0m \u001b[0mtable\u001b[0m\u001b[1;33m,\u001b[0m \u001b[0mmode\u001b[0m\u001b[1;33m=\u001b[0m\u001b[1;34m'append'\u001b[0m\u001b[1;33m)\u001b[0m\u001b[1;33m\u001b[0m\u001b[0m\n\u001b[0m",
      "\u001b[1;32m<ipython-input-26-0c2b9164cb2c>\u001b[0m in \u001b[0;36mprocess_datafile\u001b[1;34m(localpath, storagepath, table, mode, overwrite)\u001b[0m\n\u001b[0;32m     15\u001b[0m       \u001b[0mget_ipython\u001b[0m\u001b[1;33m(\u001b[0m\u001b[1;33m)\u001b[0m\u001b[1;33m.\u001b[0m\u001b[0mmagic\u001b[0m\u001b[1;33m(\u001b[0m\u001b[1;34mu'storage read --object $bucket_object --variable compressed_file'\u001b[0m\u001b[1;33m)\u001b[0m\u001b[1;33m\u001b[0m\u001b[0m\n\u001b[0;32m     16\u001b[0m \u001b[1;33m\u001b[0m\u001b[0m\n\u001b[1;32m---> 17\u001b[1;33m       \u001b[0mgzip_file\u001b[0m \u001b[1;33m=\u001b[0m \u001b[0mgzip\u001b[0m\u001b[1;33m.\u001b[0m\u001b[0mGzipFile\u001b[0m\u001b[1;33m(\u001b[0m\u001b[0mfileobj\u001b[0m\u001b[1;33m=\u001b[0m\u001b[0mStringIO\u001b[0m\u001b[1;33m(\u001b[0m\u001b[0mcompressed_file\u001b[0m\u001b[1;33m)\u001b[0m\u001b[1;33m)\u001b[0m\u001b[1;33m\u001b[0m\u001b[0m\n\u001b[0m\u001b[0;32m     18\u001b[0m       \u001b[1;32mdel\u001b[0m \u001b[0mcompressed_file\u001b[0m\u001b[1;33m\u001b[0m\u001b[0m\n\u001b[0;32m     19\u001b[0m \u001b[1;33m\u001b[0m\u001b[0m\n",
      "\u001b[1;31mUnboundLocalError\u001b[0m: local variable 'compressed_file' referenced before assignment"
     ]
    }
   ],
   "source": [
    "table = bq.Table('datalab-projects-1331:xjk_algo_comp.districts')\n",
    "if not table.exists():\n",
    "  schema = bq.Schema([\n",
    "      {'name': 'district_hash', 'type': 'STRING'},\n",
    "      {'name': 'district_id', 'type': 'INTEGER'}\n",
    "    ])\n",
    "  table.create(schema)\n",
    "  \n",
    "localpath = '{}/{}/cluster_map/cluster_map'.format(season_name, subdirectory_name)\n",
    "storagepath = os.path.join(bucket_path,localpath)\n",
    "process_datafile(localpath, storagepath, table, mode='append')"
   ]
  },
  {
   "cell_type": "code",
   "execution_count": 23,
   "metadata": {
    "collapsed": false
   },
   "outputs": [
    {
     "data": {
      "text/html": [
       "\n",
       "    <div class=\"bqtv\" id=\"5_146580168028\"><table><tr><th>district_hash</th><th>district_id</th></tr><tr><td>90c5a34f06ac86aee0fd70e2adce7d8a</td><td>1</td></tr><tr><td>f2c8c4bb99e6377d21de71275afd6cd2</td><td>2</td></tr><tr><td>58c7a4888306d8ff3a641d1c0feccbe3</td><td>3</td></tr><tr><td>b26a240205c852804ff8758628c0a86a</td><td>4</td></tr><tr><td>4b9e4cf2fbdc8281b8a1f9f12b80ce4d</td><td>5</td></tr><tr><td>1cbfbdd079ef93e74405c53fcfff8567</td><td>6</td></tr><tr><td>929ec6c160e6f52c20a4217c7978f681</td><td>7</td></tr><tr><td>82cc4851f9e4faa4e54309f8bb73fd7c</td><td>8</td></tr><tr><td>b702e920dcd2765e624dc1ce3a770512</td><td>9</td></tr><tr><td>4f4041f7db0c7f69892d9b74c1a7efa1</td><td>10</td></tr><tr><td>dd8d3b9665536d6e05b29c2648c0e69a</td><td>11</td></tr><tr><td>74c1c25f4b283fa74a5514307b0d0278</td><td>12</td></tr><tr><td>4b7f6f4e2bf237b6cc58f57142bea5c0</td><td>13</td></tr><tr><td>2920ece99323b4c111d6f9affc7ea034</td><td>14</td></tr><tr><td>d5cb17978de290c56e84c9cf97e63186</td><td>15</td></tr><tr><td>307afa4120c590b3a46cf4ff5415608a</td><td>16</td></tr><tr><td>a814069db8d32f0fa6e188f41059c6e1</td><td>17</td></tr><tr><td>2350be163432e42270d2670cb3c02f80</td><td>18</td></tr><tr><td>a5609739c6b5c2719a3752327c5e33a7</td><td>19</td></tr><tr><td>91690261186ae5bee8f83808ea1e4a01</td><td>20</td></tr><tr><td>364bf755f9b270f0f9141d1a61de43ee</td><td>21</td></tr><tr><td>87285a66236346350541b8815c5fae94</td><td>22</td></tr><tr><td>4725c39a5e5f4c188d382da3910b3f3f</td><td>23</td></tr><tr><td>38d5ad2d22b61109fd8e7b43cd0e8901</td><td>24</td></tr><tr><td>3a43dcdff3c0b66b1acb1644ff055f9d</td><td>25</td></tr></table></div>\n",
       "    <br />(rows: 66, time: 0.6s,     2KB processed, job: job_FjLbdZ9xjgfN9djCqVHehtAXY0Q)<br />\n",
       "    <script>\n",
       "      require(['extensions/charting', 'element!5_146580168028', 'style!/static/extensions/charting.css'],\n",
       "        function(charts, dom) {\n",
       "          charts.render(dom,\n",
       "            {\n",
       "              chartStyle:\"paged_table\",\n",
       "              dataName:\"2\",\n",
       "              fields:\"district_hash,district_id\",\n",
       "              totalRows:66,\n",
       "              rowsPerPage:25,\n",
       "            }, {}, {\"rows\": [{\"c\": [{\"v\": \"90c5a34f06ac86aee0fd70e2adce7d8a\"}, {\"v\": 1}]}, {\"c\": [{\"v\": \"f2c8c4bb99e6377d21de71275afd6cd2\"}, {\"v\": 2}]}, {\"c\": [{\"v\": \"58c7a4888306d8ff3a641d1c0feccbe3\"}, {\"v\": 3}]}, {\"c\": [{\"v\": \"b26a240205c852804ff8758628c0a86a\"}, {\"v\": 4}]}, {\"c\": [{\"v\": \"4b9e4cf2fbdc8281b8a1f9f12b80ce4d\"}, {\"v\": 5}]}, {\"c\": [{\"v\": \"1cbfbdd079ef93e74405c53fcfff8567\"}, {\"v\": 6}]}, {\"c\": [{\"v\": \"929ec6c160e6f52c20a4217c7978f681\"}, {\"v\": 7}]}, {\"c\": [{\"v\": \"82cc4851f9e4faa4e54309f8bb73fd7c\"}, {\"v\": 8}]}, {\"c\": [{\"v\": \"b702e920dcd2765e624dc1ce3a770512\"}, {\"v\": 9}]}, {\"c\": [{\"v\": \"4f4041f7db0c7f69892d9b74c1a7efa1\"}, {\"v\": 10}]}, {\"c\": [{\"v\": \"dd8d3b9665536d6e05b29c2648c0e69a\"}, {\"v\": 11}]}, {\"c\": [{\"v\": \"74c1c25f4b283fa74a5514307b0d0278\"}, {\"v\": 12}]}, {\"c\": [{\"v\": \"4b7f6f4e2bf237b6cc58f57142bea5c0\"}, {\"v\": 13}]}, {\"c\": [{\"v\": \"2920ece99323b4c111d6f9affc7ea034\"}, {\"v\": 14}]}, {\"c\": [{\"v\": \"d5cb17978de290c56e84c9cf97e63186\"}, {\"v\": 15}]}, {\"c\": [{\"v\": \"307afa4120c590b3a46cf4ff5415608a\"}, {\"v\": 16}]}, {\"c\": [{\"v\": \"a814069db8d32f0fa6e188f41059c6e1\"}, {\"v\": 17}]}, {\"c\": [{\"v\": \"2350be163432e42270d2670cb3c02f80\"}, {\"v\": 18}]}, {\"c\": [{\"v\": \"a5609739c6b5c2719a3752327c5e33a7\"}, {\"v\": 19}]}, {\"c\": [{\"v\": \"91690261186ae5bee8f83808ea1e4a01\"}, {\"v\": 20}]}, {\"c\": [{\"v\": \"364bf755f9b270f0f9141d1a61de43ee\"}, {\"v\": 21}]}, {\"c\": [{\"v\": \"87285a66236346350541b8815c5fae94\"}, {\"v\": 22}]}, {\"c\": [{\"v\": \"4725c39a5e5f4c188d382da3910b3f3f\"}, {\"v\": 23}]}, {\"c\": [{\"v\": \"38d5ad2d22b61109fd8e7b43cd0e8901\"}, {\"v\": 24}]}, {\"c\": [{\"v\": \"3a43dcdff3c0b66b1acb1644ff055f9d\"}, {\"v\": 25}]}], \"cols\": [{\"type\": \"string\", \"id\": \"district_hash\", \"label\": \"district_hash\"}, {\"type\": \"number\", \"id\": \"district_id\", \"label\": \"district_id\"}]});\n",
       "        }\n",
       "      );\n",
       "    </script>\n",
       "  "
      ],
      "text/plain": [
       "QueryResultsTable job_FjLbdZ9xjgfN9djCqVHehtAXY0Q"
      ]
     },
     "execution_count": 23,
     "metadata": {},
     "output_type": "execute_result"
    }
   ],
   "source": [
    "%%bigquery execute -t datalab-projects-1331:xjk_algo_comp.districts -m overwrite\n",
    "SELECT LAST(district_hash) AS district_hash, district_id\n",
    "FROM [datalab-projects-1331:xjk_algo_comp.districts]\n",
    "GROUP BY district_id"
   ]
  },
  {
   "cell_type": "markdown",
   "metadata": {},
   "source": [
    "## Weather"
   ]
  },
  {
   "cell_type": "code",
   "execution_count": 14,
   "metadata": {
    "collapsed": true
   },
   "outputs": [],
   "source": [
    "table = bq.Table('datalab-projects-1331:xjk_algo_comp.weather')\n",
    "if not table.exists():\n",
    "  schema = bq.Schema([\n",
    "      {'name': 'time', 'type': 'STRING'},\n",
    "      {'name': 'weather', 'type': 'INTEGER'},\n",
    "      {'name': 'temperature', 'type': 'FLOAT'},\n",
    "      {'name': 'pm25', 'type': 'FLOAT'}\n",
    "    ])\n",
    "  table.create(schema)\n",
    "  \n",
    "wildpath = '{}/{}/weather_data/*'.format(season_name, subdirectory_name)\n",
    "for localpath in glob.glob(wildpath):\n",
    "  storagepath = os.path.join(bucket_path,localpath)\n",
    "  process_datafile(localpath, storagepath, table, mode='append')"
   ]
  },
  {
   "cell_type": "code",
   "execution_count": 15,
   "metadata": {
    "collapsed": true
   },
   "outputs": [],
   "source": [
    "%%bigquery udf --module transform_weather_time\n",
    "\n",
    "/**\n",
    " * Pad with 0 or given string.\n",
    " *\n",
    " * @param int n Number to add padding to.\n",
    " * @param int width Width of number + padding.\n",
    " * @param string z (Optional) Other string to replace '0' as padding.\n",
    " */\n",
    "function pad(n, width, z) {\n",
    "  z = z || '0';\n",
    "  n = n + '';\n",
    "  return n.length >= width ? n : new Array(width - n.length + 1).join(z) + n;\n",
    "}\n",
    "\n",
    "/**\n",
    " * Transform timestamps of weather table into timeslots in weather table.\n",
    " *\n",
    " * @param {{time: string, weather: integer, temperature: float, pm25: float}} r\n",
    " * @param function({{time: string, weather: integer, temperature: float, pm25: float,\n",
    "                     timeslot: string}}) emitFn\n",
    " */\n",
    "function(r, emitFn) {\n",
    "  var t = r.time.split(/[ :\\-]/);\n",
    "  var slot = Math.floor((parseInt(t[3]) * 60 + parseInt(t[4])) / 10) + 1;\n",
    "  r.timeslot = t[0] + '-' + pad(t[1], 2) +\n",
    "               '-' + pad(t[2], 2) + '-' + slot;\n",
    "  emitFn(r);\n",
    "}"
   ]
  },
  {
   "cell_type": "code",
   "execution_count": 20,
   "metadata": {
    "collapsed": false
   },
   "outputs": [
    {
     "data": {
      "text/html": [
       "\n",
       "    <div class=\"bqtv\" id=\"3_146580132391\"><table><tr><th>time</th><th>weather</th><th>temperature</th><th>pm25</th><th>timeslot</th></tr><tr><td>2016-01-18 00:06:04</td><td>3</td><td>3.0</td><td>88.0</td><td>2016-01-18-1</td></tr><tr><td>2016-01-18 00:16:13</td><td>3</td><td>3.0</td><td>88.0</td><td>2016-01-18-2</td></tr><tr><td>2016-01-18 00:25:22</td><td>3</td><td>3.0</td><td>88.0</td><td>2016-01-18-3</td></tr><tr><td>2016-01-18 00:35:40</td><td>3</td><td>3.0</td><td>88.0</td><td>2016-01-18-4</td></tr><tr><td>2016-01-18 00:45:34</td><td>3</td><td>3.0</td><td>88.0</td><td>2016-01-18-5</td></tr><tr><td>2016-01-18 00:55:33</td><td>3</td><td>3.0</td><td>82.0</td><td>2016-01-18-6</td></tr><tr><td>2016-01-18 01:05:25</td><td>3</td><td>3.0</td><td>82.0</td><td>2016-01-18-7</td></tr><tr><td>2016-01-18 01:15:22</td><td>3</td><td>3.0</td><td>82.0</td><td>2016-01-18-8</td></tr><tr><td>2016-01-18 01:25:34</td><td>3</td><td>3.0</td><td>82.0</td><td>2016-01-18-9</td></tr><tr><td>2016-01-18 01:35:38</td><td>3</td><td>3.0</td><td>82.0</td><td>2016-01-18-10</td></tr><tr><td>2016-01-18 01:45:19</td><td>3</td><td>3.0</td><td>78.0</td><td>2016-01-18-11</td></tr><tr><td>2016-01-18 01:56:01</td><td>3</td><td>3.0</td><td>78.0</td><td>2016-01-18-12</td></tr><tr><td>2016-01-18 02:05:43</td><td>3</td><td>3.0</td><td>78.0</td><td>2016-01-18-13</td></tr><tr><td>2016-01-18 02:15:26</td><td>3</td><td>3.0</td><td>78.0</td><td>2016-01-18-14</td></tr><tr><td>2016-01-18 02:25:16</td><td>3</td><td>3.0</td><td>78.0</td><td>2016-01-18-15</td></tr><tr><td>2016-01-18 02:35:46</td><td>3</td><td>3.0</td><td>78.0</td><td>2016-01-18-16</td></tr><tr><td>2016-01-18 02:46:30</td><td>3</td><td>3.0</td><td>74.0</td><td>2016-01-18-17</td></tr><tr><td>2016-01-18 02:55:39</td><td>3</td><td>3.0</td><td>74.0</td><td>2016-01-18-18</td></tr><tr><td>2016-01-18 03:06:10</td><td>3</td><td>3.0</td><td>74.0</td><td>2016-01-18-19</td></tr><tr><td>2016-01-18 03:15:32</td><td>3</td><td>3.0</td><td>74.0</td><td>2016-01-18-20</td></tr><tr><td>2016-01-18 03:25:34</td><td>3</td><td>3.0</td><td>74.0</td><td>2016-01-18-21</td></tr><tr><td>2016-01-18 03:35:24</td><td>3</td><td>3.0</td><td>74.0</td><td>2016-01-18-22</td></tr><tr><td>2016-01-18 03:45:33</td><td>3</td><td>3.0</td><td>72.0</td><td>2016-01-18-23</td></tr><tr><td>2016-01-18 03:55:34</td><td>3</td><td>3.0</td><td>72.0</td><td>2016-01-18-24</td></tr><tr><td>2016-01-18 04:06:07</td><td>3</td><td>3.0</td><td>72.0</td><td>2016-01-18-25</td></tr></table></div>\n",
       "    <br />(rows: 2670, time: 2.2s,   289KB processed, job: job_gl1RN-XUgPd1Ex9dd5Rs91dyYXU)<br />\n",
       "    <script>\n",
       "      require(['extensions/charting', 'element!3_146580132391', 'style!/static/extensions/charting.css'],\n",
       "        function(charts, dom) {\n",
       "          charts.render(dom,\n",
       "            {\n",
       "              chartStyle:\"paged_table\",\n",
       "              dataName:\"0\",\n",
       "              fields:\"time,weather,temperature,pm25,timeslot\",\n",
       "              totalRows:2670,\n",
       "              rowsPerPage:25,\n",
       "            }, {}, {\"rows\": [{\"c\": [{\"v\": \"2016-01-18 00:06:04\"}, {\"v\": 3}, {\"v\": 3.0}, {\"v\": 88.0}, {\"v\": \"2016-01-18-1\"}]}, {\"c\": [{\"v\": \"2016-01-18 00:16:13\"}, {\"v\": 3}, {\"v\": 3.0}, {\"v\": 88.0}, {\"v\": \"2016-01-18-2\"}]}, {\"c\": [{\"v\": \"2016-01-18 00:25:22\"}, {\"v\": 3}, {\"v\": 3.0}, {\"v\": 88.0}, {\"v\": \"2016-01-18-3\"}]}, {\"c\": [{\"v\": \"2016-01-18 00:35:40\"}, {\"v\": 3}, {\"v\": 3.0}, {\"v\": 88.0}, {\"v\": \"2016-01-18-4\"}]}, {\"c\": [{\"v\": \"2016-01-18 00:45:34\"}, {\"v\": 3}, {\"v\": 3.0}, {\"v\": 88.0}, {\"v\": \"2016-01-18-5\"}]}, {\"c\": [{\"v\": \"2016-01-18 00:55:33\"}, {\"v\": 3}, {\"v\": 3.0}, {\"v\": 82.0}, {\"v\": \"2016-01-18-6\"}]}, {\"c\": [{\"v\": \"2016-01-18 01:05:25\"}, {\"v\": 3}, {\"v\": 3.0}, {\"v\": 82.0}, {\"v\": \"2016-01-18-7\"}]}, {\"c\": [{\"v\": \"2016-01-18 01:15:22\"}, {\"v\": 3}, {\"v\": 3.0}, {\"v\": 82.0}, {\"v\": \"2016-01-18-8\"}]}, {\"c\": [{\"v\": \"2016-01-18 01:25:34\"}, {\"v\": 3}, {\"v\": 3.0}, {\"v\": 82.0}, {\"v\": \"2016-01-18-9\"}]}, {\"c\": [{\"v\": \"2016-01-18 01:35:38\"}, {\"v\": 3}, {\"v\": 3.0}, {\"v\": 82.0}, {\"v\": \"2016-01-18-10\"}]}, {\"c\": [{\"v\": \"2016-01-18 01:45:19\"}, {\"v\": 3}, {\"v\": 3.0}, {\"v\": 78.0}, {\"v\": \"2016-01-18-11\"}]}, {\"c\": [{\"v\": \"2016-01-18 01:56:01\"}, {\"v\": 3}, {\"v\": 3.0}, {\"v\": 78.0}, {\"v\": \"2016-01-18-12\"}]}, {\"c\": [{\"v\": \"2016-01-18 02:05:43\"}, {\"v\": 3}, {\"v\": 3.0}, {\"v\": 78.0}, {\"v\": \"2016-01-18-13\"}]}, {\"c\": [{\"v\": \"2016-01-18 02:15:26\"}, {\"v\": 3}, {\"v\": 3.0}, {\"v\": 78.0}, {\"v\": \"2016-01-18-14\"}]}, {\"c\": [{\"v\": \"2016-01-18 02:25:16\"}, {\"v\": 3}, {\"v\": 3.0}, {\"v\": 78.0}, {\"v\": \"2016-01-18-15\"}]}, {\"c\": [{\"v\": \"2016-01-18 02:35:46\"}, {\"v\": 3}, {\"v\": 3.0}, {\"v\": 78.0}, {\"v\": \"2016-01-18-16\"}]}, {\"c\": [{\"v\": \"2016-01-18 02:46:30\"}, {\"v\": 3}, {\"v\": 3.0}, {\"v\": 74.0}, {\"v\": \"2016-01-18-17\"}]}, {\"c\": [{\"v\": \"2016-01-18 02:55:39\"}, {\"v\": 3}, {\"v\": 3.0}, {\"v\": 74.0}, {\"v\": \"2016-01-18-18\"}]}, {\"c\": [{\"v\": \"2016-01-18 03:06:10\"}, {\"v\": 3}, {\"v\": 3.0}, {\"v\": 74.0}, {\"v\": \"2016-01-18-19\"}]}, {\"c\": [{\"v\": \"2016-01-18 03:15:32\"}, {\"v\": 3}, {\"v\": 3.0}, {\"v\": 74.0}, {\"v\": \"2016-01-18-20\"}]}, {\"c\": [{\"v\": \"2016-01-18 03:25:34\"}, {\"v\": 3}, {\"v\": 3.0}, {\"v\": 74.0}, {\"v\": \"2016-01-18-21\"}]}, {\"c\": [{\"v\": \"2016-01-18 03:35:24\"}, {\"v\": 3}, {\"v\": 3.0}, {\"v\": 74.0}, {\"v\": \"2016-01-18-22\"}]}, {\"c\": [{\"v\": \"2016-01-18 03:45:33\"}, {\"v\": 3}, {\"v\": 3.0}, {\"v\": 72.0}, {\"v\": \"2016-01-18-23\"}]}, {\"c\": [{\"v\": \"2016-01-18 03:55:34\"}, {\"v\": 3}, {\"v\": 3.0}, {\"v\": 72.0}, {\"v\": \"2016-01-18-24\"}]}, {\"c\": [{\"v\": \"2016-01-18 04:06:07\"}, {\"v\": 3}, {\"v\": 3.0}, {\"v\": 72.0}, {\"v\": \"2016-01-18-25\"}]}], \"cols\": [{\"type\": \"string\", \"id\": \"time\", \"label\": \"time\"}, {\"type\": \"number\", \"id\": \"weather\", \"label\": \"weather\"}, {\"type\": \"number\", \"id\": \"temperature\", \"label\": \"temperature\"}, {\"type\": \"number\", \"id\": \"pm25\", \"label\": \"pm25\"}, {\"type\": \"string\", \"id\": \"timeslot\", \"label\": \"timeslot\"}]});\n",
       "        }\n",
       "      );\n",
       "    </script>\n",
       "  "
      ],
      "text/plain": [
       "QueryResultsTable job_gl1RN-XUgPd1Ex9dd5Rs91dyYXU"
      ]
     },
     "execution_count": 20,
     "metadata": {},
     "output_type": "execute_result"
    }
   ],
   "source": [
    "%%bigquery execute -t datalab-projects-1331:xjk_algo_comp.weather -m overwrite\n",
    "SELECT LAST(time) AS time, LAST(weather) AS weather,\n",
    "  LAST(temperature) AS temperature, LAST(pm25) AS pm25, timeslot\n",
    "FROM transform_weather_time([datalab-projects-1331:xjk_algo_comp.weather])\n",
    "GROUP BY timeslot"
   ]
  },
  {
   "cell_type": "markdown",
   "metadata": {},
   "source": [
    "## Traffic"
   ]
  },
  {
   "cell_type": "code",
   "execution_count": 7,
   "metadata": {
    "collapsed": true
   },
   "outputs": [],
   "source": [
    "table = bq.Table('datalab-projects-1331:xjk_algo_comp.traffic')\n",
    "if not table.exists():\n",
    "  schema = bq.Schema([\n",
    "      {'name': 'district_hash', 'type': 'STRING'},\n",
    "      {'name': 'tj_level1', 'type': 'INTEGER'},\n",
    "      {'name': 'tj_level2', 'type': 'INTEGER'},\n",
    "      {'name': 'tj_level3', 'type': 'INTEGER'},\n",
    "      {'name': 'tj_level4', 'type': 'INTEGER'},\n",
    "      {'name': 'tj_time', 'type': 'STRING'}\n",
    "    ])\n",
    "  table.create(schema)\n",
    "  \n",
    "wildpath = '{}/{}/traffic_data/*'.format(season_name, subdirectory_name)\n",
    "for localpath in glob.glob(wildpath):\n",
    "  with open(localpath, 'rb') as f:\n",
    "    text = f.read()\n",
    "  with open(localpath, 'wb') as f:\n",
    "    f.write(re.sub(r'\\b\\t[0-9]:\\b', '\\t', text))\n",
    "  storagepath = os.path.join(bucket_path,localpath)\n",
    "  process_datafile(localpath, storagepath, table, mode='append', overwrite=True)"
   ]
  },
  {
   "cell_type": "code",
   "execution_count": 8,
   "metadata": {
    "collapsed": true
   },
   "outputs": [],
   "source": [
    "%%bigquery udf --module transform_traffic_time\n",
    "  \n",
    "/**\n",
    " * Pad with 0 or given string.\n",
    " *\n",
    " * @param int n Number to add padding to.\n",
    " * @param int width Width of number + padding.\n",
    " * @param string z (Optional) Other string to replace '0' as padding.\n",
    " */\n",
    "function pad(n, width, z) {\n",
    "  z = z || '0';\n",
    "  n = n + '';\n",
    "  return n.length >= width ? n : new Array(width - n.length + 1).join(z) + n;\n",
    "}\n",
    "\n",
    "/**\n",
    " * Transform timestamps of weather table into timeslots in traffic table.\n",
    " *\n",
    " * @param {{district_hash: string, tj_level1: integer, tj_level2: integer, tj_level3: integer, \n",
    "            tj_level4: integer, tj_time: string}} r\n",
    " * @param function({{district_hash: string, tj_level1: integer, tj_level2: integer, tj_level3: integer, \n",
    "                     tj_level4: integer, tj_time: string, timeslot: string}}) emitFn\n",
    " */\n",
    "function(r, emitFn) {\n",
    "  var t = r.tj_time.split(/[ :\\-]/);\n",
    "  var slot = Math.floor((parseInt(t[3]) * 60 + parseInt(t[4])) / 10) + 1;\n",
    "  r.timeslot = t[0] + '-' + pad(t[1], 2) +\n",
    "               '-' + pad(t[2], 2) + '-' + slot;\n",
    "  emitFn(r);\n",
    "}"
   ]
  },
  {
   "cell_type": "code",
   "execution_count": 21,
   "metadata": {
    "collapsed": false
   },
   "outputs": [
    {
     "data": {
      "text/html": [
       "\n",
       "    <div class=\"bqtv\" id=\"4_146580150160\"><table><tr><th>district_hash</th><th>tj_level1</th><th>tj_level2</th><th>tj_level3</th><th>tj_level4</th><th>tj_time</th><th>timeslot</th></tr><tr><td>4725c39a5e5f4c188d382da3910b3f3f</td><td>3063</td><td>471</td><td>156</td><td>141</td><td>2016-01-16 00:10:27</td><td>2016-01-16-2</td></tr><tr><td>d4ec2125aff74eded207d2d915ef682f</td><td>3979</td><td>675</td><td>199</td><td>143</td><td>2016-01-16 00:20:26</td><td>2016-01-16-3</td></tr><tr><td>d4ec2125aff74eded207d2d915ef682f</td><td>3930</td><td>683</td><td>172</td><td>124</td><td>2016-01-16 00:30:26</td><td>2016-01-16-4</td></tr><tr><td>d4ec2125aff74eded207d2d915ef682f</td><td>4009</td><td>649</td><td>178</td><td>128</td><td>2016-01-16 00:40:27</td><td>2016-01-16-5</td></tr><tr><td>82cc4851f9e4faa4e54309f8bb73fd7c</td><td>2527</td><td>287</td><td>87</td><td>116</td><td>2016-01-16 00:50:26</td><td>2016-01-16-6</td></tr><tr><td>4725c39a5e5f4c188d382da3910b3f3f</td><td>2928</td><td>447</td><td>137</td><td>127</td><td>2016-01-16 01:00:24</td><td>2016-01-16-7</td></tr><tr><td>4725c39a5e5f4c188d382da3910b3f3f</td><td>2893</td><td>409</td><td>150</td><td>142</td><td>2016-01-16 01:10:24</td><td>2016-01-16-8</td></tr><tr><td>d4ec2125aff74eded207d2d915ef682f</td><td>3734</td><td>531</td><td>130</td><td>106</td><td>2016-01-16 01:20:24</td><td>2016-01-16-9</td></tr><tr><td>4725c39a5e5f4c188d382da3910b3f3f</td><td>2746</td><td>434</td><td>154</td><td>107</td><td>2016-01-16 01:30:25</td><td>2016-01-16-10</td></tr><tr><td>4725c39a5e5f4c188d382da3910b3f3f</td><td>2837</td><td>408</td><td>112</td><td>119</td><td>2016-01-16 01:40:23</td><td>2016-01-16-11</td></tr><tr><td>4725c39a5e5f4c188d382da3910b3f3f</td><td>2828</td><td>362</td><td>130</td><td>115</td><td>2016-01-16 01:50:22</td><td>2016-01-16-12</td></tr><tr><td>d4ec2125aff74eded207d2d915ef682f</td><td>3644</td><td>581</td><td>147</td><td>118</td><td>2016-01-16 02:00:22</td><td>2016-01-16-13</td></tr><tr><td>4725c39a5e5f4c188d382da3910b3f3f</td><td>2894</td><td>322</td><td>98</td><td>105</td><td>2016-01-16 02:10:22</td><td>2016-01-16-14</td></tr><tr><td>82cc4851f9e4faa4e54309f8bb73fd7c</td><td>2349</td><td>180</td><td>96</td><td>92</td><td>2016-01-16 02:20:21</td><td>2016-01-16-15</td></tr><tr><td>4725c39a5e5f4c188d382da3910b3f3f</td><td>2732</td><td>347</td><td>147</td><td>96</td><td>2016-01-16 02:30:21</td><td>2016-01-16-16</td></tr><tr><td>d4ec2125aff74eded207d2d915ef682f</td><td>3557</td><td>502</td><td>135</td><td>106</td><td>2016-01-16 02:40:21</td><td>2016-01-16-17</td></tr><tr><td>4725c39a5e5f4c188d382da3910b3f3f</td><td>2778</td><td>355</td><td>98</td><td>100</td><td>2016-01-16 02:50:19</td><td>2016-01-16-18</td></tr><tr><td>4725c39a5e5f4c188d382da3910b3f3f</td><td>2755</td><td>350</td><td>94</td><td>79</td><td>2016-01-16 03:00:19</td><td>2016-01-16-19</td></tr><tr><td>82cc4851f9e4faa4e54309f8bb73fd7c</td><td>2120</td><td>183</td><td>90</td><td>91</td><td>2016-01-16 03:10:19</td><td>2016-01-16-20</td></tr><tr><td>d4ec2125aff74eded207d2d915ef682f</td><td>3512</td><td>382</td><td>117</td><td>103</td><td>2016-01-16 03:20:20</td><td>2016-01-16-21</td></tr><tr><td>d4ec2125aff74eded207d2d915ef682f</td><td>3368</td><td>354</td><td>92</td><td>87</td><td>2016-01-16 03:30:20</td><td>2016-01-16-22</td></tr><tr><td>4725c39a5e5f4c188d382da3910b3f3f</td><td>2638</td><td>347</td><td>96</td><td>90</td><td>2016-01-16 03:40:19</td><td>2016-01-16-23</td></tr><tr><td>4725c39a5e5f4c188d382da3910b3f3f</td><td>2652</td><td>270</td><td>93</td><td>94</td><td>2016-01-16 03:50:18</td><td>2016-01-16-24</td></tr><tr><td>4725c39a5e5f4c188d382da3910b3f3f</td><td>2611</td><td>244</td><td>105</td><td>85</td><td>2016-01-16 04:00:18</td><td>2016-01-16-25</td></tr><tr><td>4725c39a5e5f4c188d382da3910b3f3f</td><td>2683</td><td>266</td><td>96</td><td>101</td><td>2016-01-16 04:10:17</td><td>2016-01-16-26</td></tr></table></div>\n",
       "    <br />(rows: 2980, time: 19.1s,    81MB processed, job: job_ojeeOAfjbGXEmBO2X2LJ7P27XAg)<br />\n",
       "    <script>\n",
       "      require(['extensions/charting', 'element!4_146580150160', 'style!/static/extensions/charting.css'],\n",
       "        function(charts, dom) {\n",
       "          charts.render(dom,\n",
       "            {\n",
       "              chartStyle:\"paged_table\",\n",
       "              dataName:\"1\",\n",
       "              fields:\"district_hash,tj_level1,tj_level2,tj_level3,tj_level4,tj_time,timeslot\",\n",
       "              totalRows:2980,\n",
       "              rowsPerPage:25,\n",
       "            }, {}, {\"rows\": [{\"c\": [{\"v\": \"4725c39a5e5f4c188d382da3910b3f3f\"}, {\"v\": 3063}, {\"v\": 471}, {\"v\": 156}, {\"v\": 141}, {\"v\": \"2016-01-16 00:10:27\"}, {\"v\": \"2016-01-16-2\"}]}, {\"c\": [{\"v\": \"d4ec2125aff74eded207d2d915ef682f\"}, {\"v\": 3979}, {\"v\": 675}, {\"v\": 199}, {\"v\": 143}, {\"v\": \"2016-01-16 00:20:26\"}, {\"v\": \"2016-01-16-3\"}]}, {\"c\": [{\"v\": \"d4ec2125aff74eded207d2d915ef682f\"}, {\"v\": 3930}, {\"v\": 683}, {\"v\": 172}, {\"v\": 124}, {\"v\": \"2016-01-16 00:30:26\"}, {\"v\": \"2016-01-16-4\"}]}, {\"c\": [{\"v\": \"d4ec2125aff74eded207d2d915ef682f\"}, {\"v\": 4009}, {\"v\": 649}, {\"v\": 178}, {\"v\": 128}, {\"v\": \"2016-01-16 00:40:27\"}, {\"v\": \"2016-01-16-5\"}]}, {\"c\": [{\"v\": \"82cc4851f9e4faa4e54309f8bb73fd7c\"}, {\"v\": 2527}, {\"v\": 287}, {\"v\": 87}, {\"v\": 116}, {\"v\": \"2016-01-16 00:50:26\"}, {\"v\": \"2016-01-16-6\"}]}, {\"c\": [{\"v\": \"4725c39a5e5f4c188d382da3910b3f3f\"}, {\"v\": 2928}, {\"v\": 447}, {\"v\": 137}, {\"v\": 127}, {\"v\": \"2016-01-16 01:00:24\"}, {\"v\": \"2016-01-16-7\"}]}, {\"c\": [{\"v\": \"4725c39a5e5f4c188d382da3910b3f3f\"}, {\"v\": 2893}, {\"v\": 409}, {\"v\": 150}, {\"v\": 142}, {\"v\": \"2016-01-16 01:10:24\"}, {\"v\": \"2016-01-16-8\"}]}, {\"c\": [{\"v\": \"d4ec2125aff74eded207d2d915ef682f\"}, {\"v\": 3734}, {\"v\": 531}, {\"v\": 130}, {\"v\": 106}, {\"v\": \"2016-01-16 01:20:24\"}, {\"v\": \"2016-01-16-9\"}]}, {\"c\": [{\"v\": \"4725c39a5e5f4c188d382da3910b3f3f\"}, {\"v\": 2746}, {\"v\": 434}, {\"v\": 154}, {\"v\": 107}, {\"v\": \"2016-01-16 01:30:25\"}, {\"v\": \"2016-01-16-10\"}]}, {\"c\": [{\"v\": \"4725c39a5e5f4c188d382da3910b3f3f\"}, {\"v\": 2837}, {\"v\": 408}, {\"v\": 112}, {\"v\": 119}, {\"v\": \"2016-01-16 01:40:23\"}, {\"v\": \"2016-01-16-11\"}]}, {\"c\": [{\"v\": \"4725c39a5e5f4c188d382da3910b3f3f\"}, {\"v\": 2828}, {\"v\": 362}, {\"v\": 130}, {\"v\": 115}, {\"v\": \"2016-01-16 01:50:22\"}, {\"v\": \"2016-01-16-12\"}]}, {\"c\": [{\"v\": \"d4ec2125aff74eded207d2d915ef682f\"}, {\"v\": 3644}, {\"v\": 581}, {\"v\": 147}, {\"v\": 118}, {\"v\": \"2016-01-16 02:00:22\"}, {\"v\": \"2016-01-16-13\"}]}, {\"c\": [{\"v\": \"4725c39a5e5f4c188d382da3910b3f3f\"}, {\"v\": 2894}, {\"v\": 322}, {\"v\": 98}, {\"v\": 105}, {\"v\": \"2016-01-16 02:10:22\"}, {\"v\": \"2016-01-16-14\"}]}, {\"c\": [{\"v\": \"82cc4851f9e4faa4e54309f8bb73fd7c\"}, {\"v\": 2349}, {\"v\": 180}, {\"v\": 96}, {\"v\": 92}, {\"v\": \"2016-01-16 02:20:21\"}, {\"v\": \"2016-01-16-15\"}]}, {\"c\": [{\"v\": \"4725c39a5e5f4c188d382da3910b3f3f\"}, {\"v\": 2732}, {\"v\": 347}, {\"v\": 147}, {\"v\": 96}, {\"v\": \"2016-01-16 02:30:21\"}, {\"v\": \"2016-01-16-16\"}]}, {\"c\": [{\"v\": \"d4ec2125aff74eded207d2d915ef682f\"}, {\"v\": 3557}, {\"v\": 502}, {\"v\": 135}, {\"v\": 106}, {\"v\": \"2016-01-16 02:40:21\"}, {\"v\": \"2016-01-16-17\"}]}, {\"c\": [{\"v\": \"4725c39a5e5f4c188d382da3910b3f3f\"}, {\"v\": 2778}, {\"v\": 355}, {\"v\": 98}, {\"v\": 100}, {\"v\": \"2016-01-16 02:50:19\"}, {\"v\": \"2016-01-16-18\"}]}, {\"c\": [{\"v\": \"4725c39a5e5f4c188d382da3910b3f3f\"}, {\"v\": 2755}, {\"v\": 350}, {\"v\": 94}, {\"v\": 79}, {\"v\": \"2016-01-16 03:00:19\"}, {\"v\": \"2016-01-16-19\"}]}, {\"c\": [{\"v\": \"82cc4851f9e4faa4e54309f8bb73fd7c\"}, {\"v\": 2120}, {\"v\": 183}, {\"v\": 90}, {\"v\": 91}, {\"v\": \"2016-01-16 03:10:19\"}, {\"v\": \"2016-01-16-20\"}]}, {\"c\": [{\"v\": \"d4ec2125aff74eded207d2d915ef682f\"}, {\"v\": 3512}, {\"v\": 382}, {\"v\": 117}, {\"v\": 103}, {\"v\": \"2016-01-16 03:20:20\"}, {\"v\": \"2016-01-16-21\"}]}, {\"c\": [{\"v\": \"d4ec2125aff74eded207d2d915ef682f\"}, {\"v\": 3368}, {\"v\": 354}, {\"v\": 92}, {\"v\": 87}, {\"v\": \"2016-01-16 03:30:20\"}, {\"v\": \"2016-01-16-22\"}]}, {\"c\": [{\"v\": \"4725c39a5e5f4c188d382da3910b3f3f\"}, {\"v\": 2638}, {\"v\": 347}, {\"v\": 96}, {\"v\": 90}, {\"v\": \"2016-01-16 03:40:19\"}, {\"v\": \"2016-01-16-23\"}]}, {\"c\": [{\"v\": \"4725c39a5e5f4c188d382da3910b3f3f\"}, {\"v\": 2652}, {\"v\": 270}, {\"v\": 93}, {\"v\": 94}, {\"v\": \"2016-01-16 03:50:18\"}, {\"v\": \"2016-01-16-24\"}]}, {\"c\": [{\"v\": \"4725c39a5e5f4c188d382da3910b3f3f\"}, {\"v\": 2611}, {\"v\": 244}, {\"v\": 105}, {\"v\": 85}, {\"v\": \"2016-01-16 04:00:18\"}, {\"v\": \"2016-01-16-25\"}]}, {\"c\": [{\"v\": \"4725c39a5e5f4c188d382da3910b3f3f\"}, {\"v\": 2683}, {\"v\": 266}, {\"v\": 96}, {\"v\": 101}, {\"v\": \"2016-01-16 04:10:17\"}, {\"v\": \"2016-01-16-26\"}]}], \"cols\": [{\"type\": \"string\", \"id\": \"district_hash\", \"label\": \"district_hash\"}, {\"type\": \"number\", \"id\": \"tj_level1\", \"label\": \"tj_level1\"}, {\"type\": \"number\", \"id\": \"tj_level2\", \"label\": \"tj_level2\"}, {\"type\": \"number\", \"id\": \"tj_level3\", \"label\": \"tj_level3\"}, {\"type\": \"number\", \"id\": \"tj_level4\", \"label\": \"tj_level4\"}, {\"type\": \"string\", \"id\": \"tj_time\", \"label\": \"tj_time\"}, {\"type\": \"string\", \"id\": \"timeslot\", \"label\": \"timeslot\"}]});\n",
       "        }\n",
       "      );\n",
       "    </script>\n",
       "  "
      ],
      "text/plain": [
       "QueryResultsTable job_ojeeOAfjbGXEmBO2X2LJ7P27XAg"
      ]
     },
     "execution_count": 21,
     "metadata": {},
     "output_type": "execute_result"
    }
   ],
   "source": [
    "%%bigquery execute -t datalab-projects-1331:xjk_algo_comp.traffic -m overwrite\n",
    "  \n",
    "SELECT LAST(district_hash) AS district_hash, LAST(tj_level1) AS tj_level1,\n",
    "  LAST(tj_level2) AS tj_level2, LAST(tj_level3) AS tj_level3, LAST(tj_level4) AS tj_level4,\n",
    "  LAST(tj_time) AS tj_time, timeslot\n",
    "FROM transform_traffic_time([datalab-projects-1331:xjk_algo_comp.traffic])\n",
    "GROUP BY timeslot"
   ]
  },
  {
   "cell_type": "markdown",
   "metadata": {},
   "source": [
    "## POIs"
   ]
  },
  {
   "cell_type": "code",
   "execution_count": 10,
   "metadata": {
    "collapsed": false
   },
   "outputs": [
    {
     "ename": "IOError",
     "evalue": "[Errno 2] No such file or directory: 'season_2/training_data/poi_data/poi_data'",
     "output_type": "error",
     "traceback": [
      "\u001b[1;31m\u001b[0m",
      "\u001b[1;31mIOError\u001b[0mTraceback (most recent call last)",
      "\u001b[1;32m<ipython-input-10-68df6f0cf242>\u001b[0m in \u001b[0;36m<module>\u001b[1;34m()\u001b[0m\n\u001b[0;32m      5\u001b[0m \u001b[0mpois\u001b[0m \u001b[1;33m=\u001b[0m \u001b[1;33m[\u001b[0m\u001b[1;33m]\u001b[0m\u001b[1;33m\u001b[0m\u001b[0m\n\u001b[0;32m      6\u001b[0m \u001b[0mpois_schema\u001b[0m \u001b[1;33m=\u001b[0m \u001b[1;33m[\u001b[0m\u001b[1;33m{\u001b[0m\u001b[1;34m'name'\u001b[0m\u001b[1;33m:\u001b[0m \u001b[1;34m'district_hash'\u001b[0m\u001b[1;33m,\u001b[0m \u001b[1;34m'type'\u001b[0m\u001b[1;33m:\u001b[0m \u001b[1;34m'STRING'\u001b[0m\u001b[1;33m}\u001b[0m\u001b[1;33m]\u001b[0m\u001b[1;33m\u001b[0m\u001b[0m\n\u001b[1;32m----> 7\u001b[1;33m \u001b[1;32mwith\u001b[0m \u001b[0mopen\u001b[0m\u001b[1;33m(\u001b[0m\u001b[0mlocalpath\u001b[0m\u001b[1;33m,\u001b[0m \u001b[1;34m'rb'\u001b[0m\u001b[1;33m)\u001b[0m \u001b[1;32mas\u001b[0m \u001b[0mf\u001b[0m\u001b[1;33m:\u001b[0m\u001b[1;33m\u001b[0m\u001b[0m\n\u001b[0m\u001b[0;32m      8\u001b[0m   \u001b[1;32mfor\u001b[0m \u001b[0mline\u001b[0m \u001b[1;32min\u001b[0m \u001b[0mf\u001b[0m\u001b[1;33m:\u001b[0m\u001b[1;33m\u001b[0m\u001b[0m\n\u001b[0;32m      9\u001b[0m     line_pois = map(lambda x: ['f{}'.format(x.split(':')[0].replace('#', '_')), x.split(':')[1]],\n",
      "\u001b[1;31mIOError\u001b[0m: [Errno 2] No such file or directory: 'season_2/training_data/poi_data/poi_data'"
     ]
    }
   ],
   "source": [
    "table = bq.Table('datalab-projects-1331:xjk_algo_comp.pois')\n",
    "  \n",
    "localpath = '{}/{}/poi_data/poi_data'.format(season_name, subdirectory_name)\n",
    "\n",
    "pois = []\n",
    "pois_schema = [{'name': 'district_hash', 'type': 'STRING'}]\n",
    "with open(localpath, 'rb') as f:\n",
    "  for line in f:\n",
    "    line_pois = map(lambda x: ['f{}'.format(x.split(':')[0].replace('#', '_')), x.split(':')[1]],\n",
    "                    line.split('\\t')[1:])\n",
    "  for poi in line_pois:\n",
    "    if poi[0] not in pois:\n",
    "      pois.append(poi[0])\n",
    "      pois_schema.append({'name': poi[0], 'type': 'INTEGER'})\n",
    "pois.sort()\n",
    "pois_schema = sorted(pois_schema, key=lambda k: k['name']) \n",
    "\n",
    "if not table.exists():\n",
    "  schema = bq.Schema.from_data(pois_schema)\n",
    "  table.create(schema)\n",
    "  \n",
    "  pois_data = pd.DataFrame(columns=['district_hash'] + pois)\n",
    "  with open(localpath, 'rb') as f:\n",
    "    for line in f:\n",
    "      hash_pois = {}\n",
    "      for poi_line in line.split('\\t')[1:]:\n",
    "        hash_pois['f{}'.format(poi_line.split(':')[0].replace('#', '_'))] = poi_line.split(':')[1]\n",
    "      poi_data = [line.split('\\t')[0]]\n",
    "      # hash_pois = {f1_1: 15, ...}\n",
    "      # pois = ['f1_1', ...]\n",
    "      for poi in pois:\n",
    "        value = '0'\n",
    "        if poi in hash_pois:\n",
    "          value = hash_pois[poi].strip()\n",
    "        poi_data.append(value)\n",
    "      pois_data.loc[len(pois_data)] = poi_data\n",
    "  for poi in pois:\n",
    "    pois_data[poi] = pd.to_numeric(pois_data[poi])\n",
    "  table.insert_data(pois_data)"
   ]
  },
  {
   "cell_type": "markdown",
   "metadata": {},
   "source": [
    "Following code can be used to print out feature fields to be used when selecting from tables."
   ]
  },
  {
   "cell_type": "code",
   "execution_count": null,
   "metadata": {
    "collapsed": true
   },
   "outputs": [],
   "source": [
    "final_text = ''\n",
    "for counter, poi_text in enumerate(map(lambda x: 'FIRST(pois.{}) AS {}'.format(x,x), pois)):\n",
    "  if counter%3 == 0:\n",
    "    final_text = '{}\\n'.format(final_text)\n",
    "  final_text = '{}{}, '.format(final_text, poi_text)\n",
    "print final_text[1:(len(final_text)-2)]"
   ]
  },
  {
   "cell_type": "markdown",
   "metadata": {},
   "source": [
    "## Orders"
   ]
  },
  {
   "cell_type": "code",
   "execution_count": null,
   "metadata": {
    "collapsed": true
   },
   "outputs": [],
   "source": [
    "table = bq.Table('datalab-projects-1331:xjk_algo_comp.orders')\n",
    "if not table.exists():\n",
    "  schema = bq.Schema([{'name': 'order_id', 'type': 'STRING'},\n",
    "                      {'name': 'driver_id', 'type': 'STRING'},\n",
    "                      {'name': 'passenger_id', 'type': 'STRING'},\n",
    "                      {'name': 'start_district_hash', 'type': 'STRING'},\n",
    "                      {'name': 'dest_district_hash', 'type': 'STRING'},\n",
    "                      {'name': 'price', 'type': 'FLOAT'},\n",
    "                      {'name': 'time', 'type': 'STRING'}])\n",
    "  table.create(schema)\n",
    "  \n",
    "  wildpath = '{}/{}/order_data/*'.format(season_name, subdirectory_name)\n",
    "  for localpath in glob.glob(wildpath):\n",
    "    print 'loading {}'.format(localpath)\n",
    "    storagepath = os.path.join(bucket_path,localpath)\n",
    "    process_datafile(localpath, storagepath, table, mode='append')"
   ]
  }
 ],
 "metadata": {
  "kernelspec": {
   "display_name": "Python 2",
   "language": "python",
   "name": "python2"
  },
  "language_info": {
   "codemirror_mode": {
    "name": "ipython",
    "version": 2
   },
   "file_extension": ".py",
   "mimetype": "text/x-python",
   "name": "python",
   "nbconvert_exporter": "python",
   "pygments_lexer": "ipython2",
   "version": "2.7.9"
  }
 },
 "nbformat": 4,
 "nbformat_minor": 0
}
