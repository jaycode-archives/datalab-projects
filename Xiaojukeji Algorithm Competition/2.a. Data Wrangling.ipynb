{
 "cells": [
  {
   "cell_type": "markdown",
   "metadata": {},
   "source": [
    "# Gaps Table\n",
    "First, make a simple **gaps** table, then fill it with data from other tables."
   ]
  },
  {
   "cell_type": "code",
   "execution_count": null,
   "metadata": {
    "collapsed": true
   },
   "outputs": [],
   "source": [
    "%%bigquery udf -m orders_create_additional_fields\n",
    "/**\n",
    " * Pad with 0 or given string.\n",
    " *\n",
    " * @param int n Number to add padding to.\n",
    " * @param int width Width of number + padding.\n",
    " * @param string z (Optional) Other string to replace '0' as padding.\n",
    " */\n",
    "function pad(n, width, z) {\n",
    "  z = z || '0';\n",
    "  n = n + '';\n",
    "  return n.length >= width ? n : new Array(width - n.length + 1).join(z) + n;\n",
    "}\n",
    "\n",
    "/**\n",
    " * Create additional fields on orders table for gaps table creation.\n",
    " *\n",
    " * @param {{order_id: string, driver_id: string, passenger_id: string,\n",
    "            start_district_hash: string, dest_district_hash: string, price: float,\n",
    "            time: string}} r\n",
    " * @param function({{order_id: string, driver_id: string, passenger_id: string,\n",
    "                     start_district_hash: string, dest_district_hash: string, price: float,\n",
    "                     time: string, timeslot: string, timeofday_slot: integer, day_in_week: integer,\n",
    "                     date: string}}) emitFn\n",
    " */\n",
    "function(r, emitFn) {\n",
    "  var t = r.time.split(/[ :\\-]/);\n",
    "  var slot = Math.floor((parseInt(t[3]) * 60 + parseInt(t[4])) / 10) + 1;\n",
    "  r.timeslot = t[0] + '-' + pad(t[1], 2) +\n",
    "               '-' + pad(t[2], 2) + '-' + slot;\n",
    "  r.timeofday_slot = slot;\n",
    "  r.date = t[0] + '-' + pad(t[1], 2) + '-' + pad(t[2], 2);\n",
    "  r.day_in_week = new Date(parseInt(t[0]), parseInt(t[1])-1, parseInt(t[2])).getDay();\n",
    "  emitFn(r);\n",
    "}"
   ]
  },
  {
   "cell_type": "code",
   "execution_count": null,
   "metadata": {
    "collapsed": false
   },
   "outputs": [],
   "source": [
    "%%bigquery execute -t datalab-projects-1331:xjk_algo_comp.gaps -m create\n",
    "SELECT district_id, FIRST(orders.timeslot) AS timeslot, FIRST(orders.date) AS date,\n",
    "  FIRST(day_in_week) AS day_in_week, FIRST(timeofday_slot) AS timeofday_slot,\n",
    "  SUM(price) AS sum_price, AVG(price) AS avg_price,\n",
    "  SUM(IF(driver_id = 'NULL', 1, 0)) AS gap\n",
    "FROM orders_create_additional_fields([datalab-projects-1331:xjk_algo_comp.orders]) AS orders\n",
    "JOIN [datalab-projects-1331:xjk_algo_comp.districts] AS districts \n",
    "  ON orders.start_district_hash = districts.district_hash\n",
    "GROUP BY district_id, orders.timeslot"
   ]
  },
  {
   "cell_type": "code",
   "execution_count": null,
   "metadata": {
    "collapsed": true
   },
   "outputs": [],
   "source": [
    "%% sql -q tester\n",
    "SELECT SUM(price) FROM datalab-projects-1331:xjk_algo_comp.orders\n",
    "WHERE start_district_hash = 'd4ec2125aff74eded207d2d915ef682f'\n",
    "  AND (time LIKE \"%2016-01-01 00:5%\")\n",
    "  \n",
    "# Reference only. Use above query to check if aggregation was correct, by comparing the\n",
    "# result of that from sum of district_hash = 51 and timeslot \"2016-01-01-6\", which \n",
    "# should be 126498.0."
   ]
  },
  {
   "cell_type": "markdown",
   "metadata": {},
   "source": [
    "# +1 timeslot\n",
    "We are going to use past data to predict the gaps for the next 10 minutes (or in other words, the next timeslot). To do this, we need to update timeslot related information. Specifically we are going to do the following:\n",
    "1. Add `timeslot` feature by one:\n",
    "  - '2016-01-45' to '2016-01-46'\n",
    "  - '2016-01-144' to '2016-02-1'\n",
    "2. Update `date` and `slot` features accordingly.\n",
    "3. Recalculate `day_in_week` feature."
   ]
  },
  {
   "cell_type": "code",
   "execution_count": null,
   "metadata": {
    "collapsed": false
   },
   "outputs": [],
   "source": [
    "%%bigquery udf --module gaps_plus_one_timeslot\n",
    "  \n",
    "// Use this when testing\n",
    "// %%javascript\n",
    "\n",
    "/**\n",
    " * Pad with 0 or given string.\n",
    " *\n",
    " * @param int n Number to add padding to.\n",
    " * @param int width Width of number + padding.\n",
    " * @param string z (Optional) Other string to replace '0' as padding.\n",
    " */\n",
    "function pad(n, width, z) {\n",
    "  z = z || '0';\n",
    "  n = n + '';\n",
    "  return n.length >= width ? n : new Array(width - n.length + 1).join(z) + n;\n",
    "}\n",
    "\n",
    "/**\n",
    " * Add one timeslot and adjust other relevant tables.\n",
    " *\n",
    " * @param {{district_id: integer, timeslot: string, date: string, day_in_week: integer,\n",
    "            timeofday_slot: integer, sum_price: float, avg_price: float, gap: integer}} r\n",
    " * @param function({{district_id: integer, timeslot: string, date: string, day_in_week: integer,\n",
    "                timeofday_slot: integer, sum_price: float, avg_price: float, gap: integer,\n",
    "                timeslot_original: string}}) emitFn\n",
    " */\n",
    "function(r, emitFn) {\n",
    "  \n",
    "  var t = r.timeslot.split(/-/);\n",
    "  var oldslot = parseInt(t[3]);\n",
    "  var newslot = oldslot + 1;\n",
    "  var d = new Date(parseInt(t[0]), parseInt(t[1])-1, parseInt(t[2]));\n",
    "  if (oldslot == 144) {\n",
    "    newslot = 1;\n",
    "    d = new Date(d.setDate(d.getDate() + 1));\n",
    "    r.day_in_week = d.getDay();\n",
    "    r.date = d.getFullYear() + '-' + pad(d.getMonth()+1, 2) +\n",
    "             '-' + pad(d.getDate(), 2);\n",
    "  }\n",
    "  \n",
    "  r.timeslot_original = r.timeslot;\n",
    "\n",
    "  r.timeslot = d.getFullYear() + '-' + pad(d.getMonth()+1, 2) +\n",
    "               '-' + pad(d.getDate(), 2) + '-' + newslot;\n",
    "\n",
    "  r.timeofday_slot = newslot;\n",
    "  emitFn(r);\n",
    "}\n",
    "\n",
    "// For testing (without `new Date()` after date added by 1 setDate returns milliseconds)\n",
    "\n",
    "// var test_row = {\n",
    "//   district_id: 1,\n",
    "//   timeslot: '2016-01-22-144',\n",
    "//   date: '2016-01-22',\n",
    "//   day_in_week: 5,\n",
    "//   timeofday_slot: 144,\n",
    "//   sum_price: 0.0,\n",
    "//   avg_price: 0.0,\n",
    "//   gap: 11,\n",
    "// };\n",
    "\n",
    "// function emitter(r) {\n",
    "//   for (var p in r) {\n",
    "//     element.append(p + '=' + r[p] + '<br>');\n",
    "//   }\n",
    "// }\n",
    "\n",
    "// udf(test_row, emitter);"
   ]
  },
  {
   "cell_type": "code",
   "execution_count": null,
   "metadata": {
    "collapsed": false
   },
   "outputs": [],
   "source": [
    "%%bigquery execute -t datalab-projects-1331:xjk_algo_comp.future_gaps -m create\n",
    "\n",
    "SELECT district_id, timeslot, date, day_in_week, timeofday_slot, sum_price, avg_price, gap,\n",
    "  timeslot_original\n",
    "FROM gaps_plus_one_timeslot([datalab-projects-1331:xjk_algo_comp.gaps])"
   ]
  },
  {
   "cell_type": "markdown",
   "metadata": {},
   "source": [
    "# Gaps Table + Other Tables"
   ]
  },
  {
   "cell_type": "code",
   "execution_count": null,
   "metadata": {
    "collapsed": false
   },
   "outputs": [],
   "source": [
    "%%bigquery execute -t datalab-projects-1331:xjk_algo_comp.future_gaps_processed -m create\n",
    "\n",
    "SELECT FIRST(gaps.district_id) AS district_id, FIRST(gaps.timeslot) AS timeslot, FIRST(gaps.date) AS date,\n",
    "  FIRST(gaps.day_in_week) AS day_in_week, IF(FIRST(gaps.day_in_week) = 0, 1, 0) AS is_sunday,\n",
    "  FIRST(gaps.timeofday_slot) AS timeofday_slot,\n",
    "  FIRST(gaps.sum_price) AS sum_price, FIRST(gaps.avg_price) AS avg_price, FIRST(gaps.gap) AS gap,\n",
    "  FIRST(pois.f1) AS f1, FIRST(pois.f11) AS f11, FIRST(pois.f11_1) AS f11_1, \n",
    "  FIRST(pois.f11_2) AS f11_2, FIRST(pois.f11_3) AS f11_3, FIRST(pois.f11_4) AS f11_4, \n",
    "  FIRST(pois.f11_5) AS f11_5, FIRST(pois.f11_6) AS f11_6, FIRST(pois.f11_7) AS f11_7, \n",
    "  FIRST(pois.f11_8) AS f11_8, FIRST(pois.f13_4) AS f13_4, FIRST(pois.f13_8) AS f13_8, \n",
    "  FIRST(pois.f14) AS f14, FIRST(pois.f14_1) AS f14_1, FIRST(pois.f14_10) AS f14_10, \n",
    "  FIRST(pois.f14_2) AS f14_2, FIRST(pois.f14_3) AS f14_3, FIRST(pois.f14_6) AS f14_6, \n",
    "  FIRST(pois.f14_8) AS f14_8, FIRST(pois.f15) AS f15, FIRST(pois.f15_1) AS f15_1, \n",
    "  FIRST(pois.f15_2) AS f15_2, FIRST(pois.f15_3) AS f15_3, FIRST(pois.f15_4) AS f15_4, \n",
    "  FIRST(pois.f15_6) AS f15_6, FIRST(pois.f15_7) AS f15_7, FIRST(pois.f15_8) AS f15_8, \n",
    "  FIRST(pois.f16) AS f16, FIRST(pois.f16_1) AS f16_1, FIRST(pois.f16_10) AS f16_10, \n",
    "  FIRST(pois.f16_11) AS f16_11, FIRST(pois.f16_12) AS f16_12, FIRST(pois.f16_3) AS f16_3, \n",
    "  FIRST(pois.f16_4) AS f16_4, FIRST(pois.f16_6) AS f16_6, FIRST(pois.f17) AS f17, \n",
    "  FIRST(pois.f17_2) AS f17_2, FIRST(pois.f17_3) AS f17_3, FIRST(pois.f17_4) AS f17_4, \n",
    "  FIRST(pois.f17_5) AS f17_5, FIRST(pois.f19) AS f19, FIRST(pois.f19_1) AS f19_1, \n",
    "  FIRST(pois.f19_2) AS f19_2, FIRST(pois.f19_3) AS f19_3, FIRST(pois.f19_4) AS f19_4, \n",
    "  FIRST(pois.f1_1) AS f1_1, FIRST(pois.f1_10) AS f1_10, FIRST(pois.f1_11) AS f1_11, \n",
    "  FIRST(pois.f1_2) AS f1_2, FIRST(pois.f1_3) AS f1_3, FIRST(pois.f1_4) AS f1_4, \n",
    "  FIRST(pois.f1_5) AS f1_5, FIRST(pois.f1_6) AS f1_6, FIRST(pois.f1_7) AS f1_7, \n",
    "  FIRST(pois.f1_8) AS f1_8, FIRST(pois.f20) AS f20, FIRST(pois.f20_1) AS f20_1, \n",
    "  FIRST(pois.f20_2) AS f20_2, FIRST(pois.f20_4) AS f20_4, FIRST(pois.f20_5) AS f20_5, \n",
    "  FIRST(pois.f20_6) AS f20_6, FIRST(pois.f20_7) AS f20_7, FIRST(pois.f20_8) AS f20_8, \n",
    "  FIRST(pois.f20_9) AS f20_9, FIRST(pois.f21_1) AS f21_1, FIRST(pois.f21_2) AS f21_2, \n",
    "  FIRST(pois.f22) AS f22, FIRST(pois.f22_1) AS f22_1, FIRST(pois.f22_2) AS f22_2, \n",
    "  FIRST(pois.f22_3) AS f22_3, FIRST(pois.f22_4) AS f22_4, FIRST(pois.f22_5) AS f22_5, \n",
    "  FIRST(pois.f23) AS f23, FIRST(pois.f23_1) AS f23_1, FIRST(pois.f23_2) AS f23_2, \n",
    "  FIRST(pois.f23_3) AS f23_3, FIRST(pois.f23_4) AS f23_4, FIRST(pois.f23_5) AS f23_5, \n",
    "  FIRST(pois.f23_6) AS f23_6, FIRST(pois.f24) AS f24, FIRST(pois.f24_1) AS f24_1, \n",
    "  FIRST(pois.f24_2) AS f24_2, FIRST(pois.f24_3) AS f24_3, FIRST(pois.f25) AS f25, \n",
    "  FIRST(pois.f25_1) AS f25_1, FIRST(pois.f25_3) AS f25_3, FIRST(pois.f25_7) AS f25_7, \n",
    "  FIRST(pois.f25_8) AS f25_8, FIRST(pois.f25_9) AS f25_9, FIRST(pois.f2_1) AS f2_1, \n",
    "  FIRST(pois.f2_10) AS f2_10, FIRST(pois.f2_11) AS f2_11, FIRST(pois.f2_12) AS f2_12, \n",
    "  FIRST(pois.f2_13) AS f2_13, FIRST(pois.f2_2) AS f2_2, FIRST(pois.f2_4) AS f2_4, \n",
    "  FIRST(pois.f2_5) AS f2_5, FIRST(pois.f2_6) AS f2_6, FIRST(pois.f2_7) AS f2_7, \n",
    "  FIRST(pois.f2_8) AS f2_8, FIRST(pois.f3_1) AS f3_1, FIRST(pois.f3_2) AS f3_2, \n",
    "  FIRST(pois.f3_3) AS f3_3, FIRST(pois.f4) AS f4, FIRST(pois.f4_1) AS f4_1, \n",
    "  FIRST(pois.f4_10) AS f4_10, FIRST(pois.f4_11) AS f4_11, FIRST(pois.f4_13) AS f4_13, \n",
    "  FIRST(pois.f4_14) AS f4_14, FIRST(pois.f4_16) AS f4_16, FIRST(pois.f4_17) AS f4_17, \n",
    "  FIRST(pois.f4_18) AS f4_18, FIRST(pois.f4_2) AS f4_2, FIRST(pois.f4_3) AS f4_3, \n",
    "  FIRST(pois.f4_5) AS f4_5, FIRST(pois.f4_6) AS f4_6, FIRST(pois.f4_7) AS f4_7, \n",
    "  FIRST(pois.f4_8) AS f4_8, FIRST(pois.f4_9) AS f4_9, FIRST(pois.f5) AS f5, \n",
    "  FIRST(pois.f5_1) AS f5_1, FIRST(pois.f5_3) AS f5_3, FIRST(pois.f5_4) AS f5_4, \n",
    "  FIRST(pois.f6) AS f6, FIRST(pois.f6_1) AS f6_1, FIRST(pois.f6_2) AS f6_2, \n",
    "  FIRST(pois.f6_4) AS f6_4, FIRST(pois.f7) AS f7, FIRST(pois.f8) AS f8, \n",
    "  FIRST(pois.f8_1) AS f8_1, FIRST(pois.f8_2) AS f8_2, FIRST(pois.f8_3) AS f8_3, \n",
    "  FIRST(pois.f8_4) AS f8_4, FIRST(pois.f8_5) AS f8_5,\n",
    "  FIRST(weather.weather) AS weather,\n",
    "  FIRST(weather.temperature) AS weather_temperature, FIRST(weather.pm25) AS weather_pm25,\n",
    "  FIRST(traffic.tj_level1) AS traffic_tj_level1, FIRST(traffic.tj_level2) AS traffic_tj_level2,\n",
    "  FIRST(traffic.tj_level3) AS traffic_tj_level3, FIRST(traffic.tj_level4) AS traffic_tj_level4\n",
    "FROM [datalab-projects-1331:xjk_algo_comp.future_gaps] as gaps\n",
    "LEFT JOIN [datalab-projects-1331:xjk_algo_comp.districts] as districts\n",
    "  ON districts.district_id = gaps.district_id\n",
    "LEFT JOIN [datalab-projects-1331:xjk_algo_comp.pois] as pois\n",
    "  ON pois.district_hash = districts.district_hash\n",
    "LEFT JOIN [datalab-projects-1331:xjk_algo_comp.weather] as weather\n",
    "  ON weather.timeslot = gaps.timeslot\n",
    "LEFT JOIN [datalab-projects-1331:xjk_algo_comp.traffic] as traffic\n",
    "  ON traffic.timeslot = gaps.timeslot\n",
    "  AND traffic.district_hash = districts.district_hash\n",
    "GROUP BY gaps.district_id, gaps.timeslot"
   ]
  },
  {
   "cell_type": "markdown",
   "metadata": {},
   "source": [
    "# PCA\n",
    "Combine POIs (features starting with 'f...') into n number of features."
   ]
  },
  {
   "cell_type": "code",
   "execution_count": 3,
   "metadata": {
    "collapsed": true
   },
   "outputs": [],
   "source": [
    "from sklearn.decomposition import PCA\n",
    "import pandas as pd\n",
    "import gcp.bigquery as bq\n",
    "import numpy as np\n",
    "\n",
    "import pdb"
   ]
  },
  {
   "cell_type": "code",
   "execution_count": 4,
   "metadata": {
    "collapsed": false
   },
   "outputs": [
    {
     "name": "stdout",
     "output_type": "stream",
     "text": [
      "['f1', 'f11', 'f11_1', 'f11_2', 'f11_3', 'f11_4', 'f11_5', 'f11_6', 'f11_7', 'f11_8', 'f13_4', 'f13_8', 'f14', 'f14_1', 'f14_10', 'f14_2', 'f14_3', 'f14_6', 'f14_8', 'f15', 'f15_1', 'f15_2', 'f15_3', 'f15_4', 'f15_6', 'f15_7', 'f15_8', 'f16', 'f16_1', 'f16_10', 'f16_11', 'f16_12', 'f16_3', 'f16_4', 'f16_6', 'f17', 'f17_2', 'f17_3', 'f17_4', 'f17_5', 'f19', 'f19_1', 'f19_2', 'f19_3', 'f19_4', 'f1_1', 'f1_10', 'f1_11', 'f1_2', 'f1_3', 'f1_4', 'f1_5', 'f1_6', 'f1_7', 'f1_8', 'f20', 'f20_1', 'f20_2', 'f20_4', 'f20_5', 'f20_6', 'f20_7', 'f20_8', 'f20_9', 'f21_1', 'f21_2', 'f22', 'f22_1', 'f22_2', 'f22_3', 'f22_4', 'f22_5', 'f23', 'f23_1', 'f23_2', 'f23_3', 'f23_4', 'f23_5', 'f23_6', 'f24', 'f24_1', 'f24_2', 'f24_3', 'f25', 'f25_1', 'f25_3', 'f25_7', 'f25_8', 'f25_9', 'f2_1', 'f2_10', 'f2_11', 'f2_12', 'f2_13', 'f2_2', 'f2_4', 'f2_5', 'f2_6', 'f2_7', 'f2_8', 'f3_1', 'f3_2', 'f3_3', 'f4', 'f4_1', 'f4_10', 'f4_11', 'f4_13', 'f4_14', 'f4_16', 'f4_17', 'f4_18', 'f4_2', 'f4_3', 'f4_5', 'f4_6', 'f4_7', 'f4_8', 'f4_9', 'f5', 'f5_1', 'f5_3', 'f5_4', 'f6', 'f6_1', 'f6_2', 'f6_4', 'f7', 'f8', 'f8_1', 'f8_2', 'f8_3', 'f8_4', 'f8_5']\n"
     ]
    }
   ],
   "source": [
    "pois = \"\"\"\n",
    "f1\tf11\tf11_1\tf11_2\tf11_3\tf11_4\tf11_5\tf11_6\tf11_7\tf11_8\tf13_4\tf13_8\t\n",
    "f14\tf14_1\tf14_10\tf14_2\tf14_3\tf14_6\tf14_8\tf15\tf15_1\tf15_2\tf15_3\tf15_4\t\n",
    "f15_6\tf15_7\tf15_8\tf16\tf16_1\tf16_10\tf16_11\tf16_12\tf16_3\tf16_4\tf16_6\tf17\t\n",
    "f17_2\tf17_3\tf17_4\tf17_5\tf19\tf19_1\tf19_2\tf19_3\tf19_4\tf1_1\tf1_10\tf1_11\t\n",
    "f1_2\tf1_3\tf1_4\tf1_5\tf1_6\tf1_7\tf1_8\tf20\tf20_1\tf20_2\tf20_4\tf20_5\t\n",
    "f20_6\tf20_7\tf20_8\tf20_9\tf21_1\tf21_2\tf22\tf22_1\tf22_2\tf22_3\tf22_4\tf22_5\t\n",
    "f23\tf23_1\tf23_2\tf23_3\tf23_4\tf23_5\tf23_6\tf24\tf24_1\tf24_2\tf24_3\tf25\tf25_1\t\n",
    "f25_3\tf25_7\tf25_8\tf25_9\tf2_1\tf2_10\tf2_11\tf2_12\tf2_13\tf2_2\tf2_4\tf2_5\t\n",
    "f2_6\tf2_7\tf2_8\tf3_1\tf3_2\tf3_3\tf4\tf4_1\tf4_10\tf4_11\tf4_13\tf4_14\t\n",
    "f4_16\tf4_17\tf4_18\tf4_2\tf4_3\tf4_5\tf4_6\tf4_7\tf4_8\tf4_9\tf5\tf5_1\t\n",
    "f5_3\tf5_4\tf6\tf6_1\tf6_2\tf6_4\tf7\tf8\tf8_1\tf8_2\tf8_3\tf8_4\tf8_5\n",
    "\"\"\"\n",
    "pois = map(lambda x: \"{}\".format(x.strip()), pois.split('\\t'))\n",
    "print(pois)"
   ]
  },
  {
   "cell_type": "code",
   "execution_count": 5,
   "metadata": {
    "collapsed": true
   },
   "outputs": [],
   "source": [
    "%%sql --module q\n",
    "SELECT * FROM [datalab-projects-1331:xjk_algo_comp.future_gaps_processed]"
   ]
  },
  {
   "cell_type": "code",
   "execution_count": 6,
   "metadata": {
    "collapsed": false
   },
   "outputs": [],
   "source": [
    "query = bq.Query(q)\n",
    "tableresult = query.results()"
   ]
  },
  {
   "cell_type": "code",
   "execution_count": 7,
   "metadata": {
    "collapsed": false
   },
   "outputs": [
    {
     "name": "stdout",
     "output_type": "stream",
     "text": [
      "there are 163491 rows\n",
      "processed 0 rows\n",
      "processed 5000 rows\n",
      "processed 10000 rows\n",
      "processed 15000 rows\n",
      "processed 20000 rows\n",
      "processed 25000 rows\n",
      "processed 30000 rows\n",
      "processed 35000 rows\n",
      "processed 40000 rows\n",
      "processed 45000 rows\n",
      "processed 50000 rows\n",
      "processed 55000 rows\n",
      "processed 60000 rows\n",
      "processed 65000 rows\n",
      "processed 70000 rows\n",
      "processed 75000 rows\n",
      "processed 80000 rows\n",
      "processed 85000 rows\n",
      "processed 90000 rows\n",
      "processed 95000 rows\n",
      "processed 100000 rows\n",
      "processed 105000 rows\n",
      "processed 110000 rows\n",
      "processed 115000 rows\n",
      "processed 120000 rows\n",
      "processed 125000 rows\n",
      "processed 130000 rows\n",
      "processed 135000 rows\n",
      "processed 140000 rows\n",
      "processed 145000 rows\n",
      "processed 150000 rows\n",
      "processed 155000 rows\n",
      "processed 160000 rows\n"
     ]
    }
   ],
   "source": [
    "poi_fields = ['f1', 'f11', 'f11_1', 'f11_2', 'f11_3', 'f11_4', 'f11_5', 'f11_6', 'f11_7', 'f11_8',\n",
    "              'f13_4', 'f13_8', 'f14', 'f14_1', 'f14_10', 'f14_2', 'f14_3', 'f14_6', 'f14_8', 'f15',\n",
    "              'f15_1', 'f15_2', 'f15_3', 'f15_4', 'f15_6', 'f15_7', 'f15_8', 'f16', 'f16_1', 'f16_10',\n",
    "              'f16_11', 'f16_12', 'f16_3', 'f16_4', 'f16_6', 'f17', 'f17_2', 'f17_3', 'f17_4', 'f17_5',\n",
    "              'f19', 'f19_1', 'f19_2', 'f19_3', 'f19_4', 'f1_1', 'f1_10', 'f1_11', 'f1_2', 'f1_3', 'f1_4',\n",
    "              'f1_5', 'f1_6', 'f1_7', 'f1_8', 'f20', 'f20_1', 'f20_2', 'f20_4', 'f20_5', 'f20_6', 'f20_7',\n",
    "              'f20_8', 'f20_9', 'f21_1', 'f21_2', 'f22', 'f22_1', 'f22_2', 'f22_3', 'f22_4', 'f22_5',\n",
    "              'f23', 'f23_1', 'f23_2', 'f23_3', 'f23_4', 'f23_5', 'f23_6', 'f24', 'f24_1', 'f24_2',\n",
    "              'f24_3', 'f25', 'f25_1', 'f25_3', 'f25_7', 'f25_8', 'f25_9', 'f2_1', 'f2_10', 'f2_11',\n",
    "              'f2_12', 'f2_13', 'f2_2', 'f2_4', 'f2_5', 'f2_6', 'f2_7', 'f2_8', 'f3_1', 'f3_2', 'f3_3',\n",
    "              'f4', 'f4_1', 'f4_10', 'f4_11', 'f4_13', 'f4_14', 'f4_16', 'f4_17', 'f4_18', 'f4_2',\n",
    "              'f4_3', 'f4_5', 'f4_6', 'f4_7', 'f4_8', 'f4_9', 'f5', 'f5_1', 'f5_3', 'f5_4', 'f6', 'f6_1',\n",
    "              'f6_2', 'f6_4', 'f7', 'f8', 'f8_1', 'f8_2', 'f8_3', 'f8_4', 'f8_5']\n",
    "all_fields = tableresult[0].keys()\n",
    "all_data = []\n",
    "pois_data = np.zeros((tableresult.length, len(poi_fields)))\n",
    "print 'there are {} rows'.format(tableresult.length)\n",
    "for rcounter, row in enumerate(tableresult):\n",
    "  for fcounter, field in enumerate(poi_fields):\n",
    "    pois_data[rcounter, fcounter] = row.pop(field, None)\n",
    "  all_data.append(row)\n",
    "  if rcounter % 5000 == 0:\n",
    "    print 'processed {} rows'.format(rcounter)"
   ]
  },
  {
   "cell_type": "code",
   "execution_count": 8,
   "metadata": {
    "collapsed": true
   },
   "outputs": [],
   "source": [
    "pca = PCA(n_components=5)\n",
    "pois_data_s = pca.fit_transform(pois_data)"
   ]
  },
  {
   "cell_type": "code",
   "execution_count": 9,
   "metadata": {
    "collapsed": false
   },
   "outputs": [],
   "source": [
    "for rcounter, row in enumerate(all_data):\n",
    "  for index in range(pois_data_s.shape[1]):\n",
    "    all_data[rcounter]['poi{}'.format(index+1)] = pois_data_s[rcounter, index]"
   ]
  },
  {
   "cell_type": "code",
   "execution_count": 10,
   "metadata": {
    "collapsed": false
   },
   "outputs": [
    {
     "data": {
      "text/html": [
       "\n",
       "    <div class=\"bqtv\" id=\"1_146574407697\"><table><tr><th>district_id</th><th>timeslot</th><th>date</th><th>timeofday_slot</th><th>day_in_week</th><th>is_sunday</th><th>sum_price</th><th>avg_price</th><th>poi1</th><th>poi2</th><th>poi3</th><th>poi4</th><th>poi5</th><th>traffic_tj_level1</th><th>traffic_tj_level2</th><th>traffic_tj_level3</th><th>traffic_tj_level4</th><th>weather</th><th>weather_pm25</th><th>weather_temperature</th><th>gap</th></tr><tr><td>9</td><td>2016-01-16-34</td><td>2016-01-16</td><td>34</td><td>6</td><td>0</td><td>103.0</td><td>103.0</td><td>-47755.8885294</td><td>7847.17088075</td><td>-130.034425638</td><td>3424.89469206</td><td>8146.27641188</td><td>233</td><td>27</td><td>9</td><td>5</td><td>2</td><td>127.0</td><td>3.0</td><td>0</td></tr><tr><td>37</td><td>2016-01-15-132</td><td>2016-01-15</td><td>132</td><td>5</td><td>0</td><td>3246.7</td><td>17.7415300546</td><td>73878.6693096</td><td>7546.69860008</td><td>5382.95571638</td><td>33172.5543816</td><td>-12937.4034227</td><td>1467</td><td>316</td><td>123</td><td>95</td><td>2</td><td>117.0</td><td>6.0</td><td>30</td></tr><tr><td>14</td><td>2016-01-19-37</td><td>2016-01-19</td><td>37</td><td>2</td><td>0</td><td>170.0</td><td>21.25</td><td>17734.3389759</td><td>-13841.9662094</td><td>-28341.6714718</td><td>5611.53293532</td><td>11650.8705718</td><td>891</td><td>115</td><td>18</td><td>38</td><td>1</td><td>150.0</td><td>0.0</td><td>6</td></tr><tr><td>35</td><td>2016-01-06-13</td><td>2016-01-06</td><td>13</td><td>3</td><td>0</td><td>18.0</td><td>18.0</td><td>-62108.4053743</td><td>-1597.45404092</td><td>-2281.34151762</td><td>-5367.7204698</td><td>131.70449485</td><td>103</td><td>1</td><td>4</td><td>0</td><td>3</td><td>55.0</td><td>8.0</td><td>1</td></tr><tr><td>16</td><td>2016-01-17-61</td><td>2016-01-17</td><td>61</td><td>0</td><td>1</td><td>223.1</td><td>27.8875</td><td>-58381.0458992</td><td>4.80180731453</td><td>-3070.8259844</td><td>-4843.25916217</td><td>186.574626098</td><td>287</td><td>40</td><td>20</td><td>11</td><td>&nbsp;</td><td>&nbsp;</td><td>&nbsp;</td><td>1</td></tr><tr><td>35</td><td>2016-01-11-94</td><td>2016-01-11</td><td>94</td><td>1</td><td>0</td><td>308.0</td><td>20.5333333333</td><td>-62108.4053743</td><td>-1597.45404092</td><td>-2281.34151762</td><td>-5367.7204698</td><td>131.70449485</td><td>215</td><td>37</td><td>9</td><td>4</td><td>4</td><td>55.0</td><td>6.0</td><td>5</td></tr><tr><td>28</td><td>2016-01-17-69</td><td>2016-01-17</td><td>69</td><td>0</td><td>1</td><td>2910.1</td><td>14.8474489796</td><td>16820.5263554</td><td>-4039.83206677</td><td>-11239.117798</td><td>16800.5024686</td><td>14677.9847326</td><td>1368</td><td>377</td><td>78</td><td>85</td><td>4</td><td>55.0</td><td>6.0</td><td>17</td></tr><tr><td>55</td><td>2016-01-10-95</td><td>2016-01-10</td><td>95</td><td>0</td><td>1</td><td>87.0</td><td>12.4285714286</td><td>-69611.8629381</td><td>-1892.33312714</td><td>-7761.44080403</td><td>-9488.94736783</td><td>4224.42538625</td><td>111</td><td>6</td><td>7</td><td>8</td><td>8</td><td>182.0</td><td>7.0</td><td>1</td></tr><tr><td>17</td><td>2016-01-16-118</td><td>2016-01-16</td><td>118</td><td>6</td><td>0</td><td>99.0</td><td>14.1428571429</td><td>-49290.4626288</td><td>332.995686437</td><td>7382.5712453</td><td>-2785.38370919</td><td>-7976.15142278</td><td>332</td><td>29</td><td>8</td><td>12</td><td>2</td><td>108.0</td><td>8.0</td><td>0</td></tr><tr><td>7</td><td>2016-01-20-97</td><td>2016-01-20</td><td>97</td><td>3</td><td>0</td><td>5266.8</td><td>21.5852459016</td><td>194502.176825</td><td>-118529.111417</td><td>41855.6026355</td><td>-25162.9509794</td><td>-6096.77473852</td><td>1767</td><td>605</td><td>196</td><td>138</td><td>&nbsp;</td><td>&nbsp;</td><td>&nbsp;</td><td>114</td></tr><tr><td>55</td><td>2016-01-01-67</td><td>2016-01-01</td><td>67</td><td>5</td><td>0</td><td>53.0</td><td>26.5</td><td>-69611.8629381</td><td>-1892.33312714</td><td>-7761.44080403</td><td>-9488.94736783</td><td>4224.42538625</td><td>139</td><td>9</td><td>1</td><td>5</td><td>2</td><td>205.0</td><td>6.0</td><td>0</td></tr><tr><td>8</td><td>2016-01-13-136</td><td>2016-01-13</td><td>136</td><td>3</td><td>0</td><td>3342.3</td><td>15.3316513761</td><td>272662.311567</td><td>-47763.1985915</td><td>-8298.80475429</td><td>19828.326286</td><td>8690.55846578</td><td>2697</td><td>419</td><td>158</td><td>114</td><td>2</td><td>106.0</td><td>3.0</td><td>12</td></tr><tr><td>25</td><td>2016-01-19-17</td><td>2016-01-19</td><td>17</td><td>2</td><td>0</td><td>326.0</td><td>54.3333333333</td><td>-31927.3566485</td><td>17027.5306468</td><td>8299.89607968</td><td>3632.54114853</td><td>-1024.61841571</td><td>361</td><td>31</td><td>9</td><td>8</td><td>1</td><td>199.0</td><td>1.0</td><td>2</td></tr><tr><td>57</td><td>2016-01-17-73</td><td>2016-01-17</td><td>73</td><td>0</td><td>1</td><td>193.0</td><td>9.65</td><td>-47773.2232319</td><td>257.739348485</td><td>2191.72447653</td><td>752.021298701</td><td>454.553098606</td><td>468</td><td>119</td><td>21</td><td>22</td><td>&nbsp;</td><td>&nbsp;</td><td>&nbsp;</td><td>1</td></tr><tr><td>41</td><td>2016-01-09-13</td><td>2016-01-09</td><td>13</td><td>6</td><td>0</td><td>18.0</td><td>18.0</td><td>-63794.1683046</td><td>-2381.66430634</td><td>-3549.84942555</td><td>-7280.20851261</td><td>1028.16747064</td><td>139</td><td>11</td><td>5</td><td>4</td><td>2</td><td>136.0</td><td>3.0</td><td>1</td></tr><tr><td>33</td><td>2016-01-04-96</td><td>2016-01-04</td><td>96</td><td>1</td><td>0</td><td>83.0</td><td>20.75</td><td>-57374.1656061</td><td>3331.11578506</td><td>-2333.90366109</td><td>-3774.5385603</td><td>761.532298242</td><td>205</td><td>70</td><td>35</td><td>12</td><td>4</td><td>237.0</td><td>12.0</td><td>1</td></tr><tr><td>56</td><td>2016-01-10-59</td><td>2016-01-10</td><td>59</td><td>0</td><td>1</td><td>30.0</td><td>15.0</td><td>-62654.031676</td><td>6028.48480374</td><td>-4445.54885145</td><td>-10283.3290636</td><td>5597.91594742</td><td>202</td><td>25</td><td>6</td><td>1</td><td>4</td><td>162.0</td><td>7.0</td><td>0</td></tr><tr><td>28</td><td>2016-01-18-46</td><td>2016-01-18</td><td>46</td><td>1</td><td>0</td><td>2849.8</td><td>13.9014634146</td><td>16820.5263554</td><td>-4039.83206677</td><td>-11239.117798</td><td>16800.5024686</td><td>14677.9847326</td><td>1281</td><td>355</td><td>113</td><td>62</td><td>2</td><td>81.0</td><td>3.0</td><td>11</td></tr><tr><td>57</td><td>2016-01-14-121</td><td>2016-01-14</td><td>121</td><td>4</td><td>0</td><td>98.0</td><td>8.90909090909</td><td>-47773.2232319</td><td>257.739348485</td><td>2191.72447653</td><td>752.021298701</td><td>454.553098606</td><td>499</td><td>117</td><td>22</td><td>18</td><td>2</td><td>129.0</td><td>7.0</td><td>0</td></tr><tr><td>41</td><td>2016-01-17-59</td><td>2016-01-17</td><td>59</td><td>0</td><td>1</td><td>303.6</td><td>18.975</td><td>-63794.1683046</td><td>-2381.66430634</td><td>-3549.84942555</td><td>-7280.20851261</td><td>1028.16747064</td><td>280</td><td>52</td><td>7</td><td>9</td><td>4</td><td>75.0</td><td>6.0</td><td>0</td></tr><tr><td>3</td><td>2016-01-04-112</td><td>2016-01-04</td><td>112</td><td>1</td><td>0</td><td>123.0</td><td>24.6</td><td>-66868.5966276</td><td>-2705.95947645</td><td>-5066.36332972</td><td>-8212.92607684</td><td>2311.90006922</td><td>240</td><td>76</td><td>28</td><td>10</td><td>4</td><td>241.0</td><td>12.0</td><td>0</td></tr><tr><td>44</td><td>2016-01-04-103</td><td>2016-01-04</td><td>103</td><td>1</td><td>0</td><td>35.0</td><td>11.6666666667</td><td>-65241.6963285</td><td>-3025.62811134</td><td>-3997.35137938</td><td>-9049.14780103</td><td>1384.8372849</td><td>97</td><td>14</td><td>8</td><td>3</td><td>4</td><td>234.0</td><td>12.0</td><td>0</td></tr><tr><td>66</td><td>2016-01-12-51</td><td>2016-01-12</td><td>51</td><td>2</td><td>0</td><td>272.0</td><td>8.77419354839</td><td>-52646.4935158</td><td>4421.92221361</td><td>991.864182788</td><td>-1757.49739348</td><td>3384.41796185</td><td>310</td><td>63</td><td>7</td><td>12</td><td>2</td><td>52.0</td><td>4.0</td><td>1</td></tr><tr><td>25</td><td>2016-01-20-1</td><td>2016-01-20</td><td>1</td><td>3</td><td>0</td><td>300.0</td><td>15.7894736842</td><td>-31927.3566485</td><td>17027.5306468</td><td>8299.89607968</td><td>3632.54114853</td><td>-1024.61841571</td><td>&nbsp;</td><td>&nbsp;</td><td>&nbsp;</td><td>&nbsp;</td><td>&nbsp;</td><td>&nbsp;</td><td>&nbsp;</td><td>1</td></tr><tr><td>12</td><td>2016-01-12-51</td><td>2016-01-12</td><td>51</td><td>2</td><td>0</td><td>2279.6</td><td>13.4887573964</td><td>128675.369122</td><td>31288.8410916</td><td>-14001.17762</td><td>1242.64062714</td><td>39493.874894</td><td>1523</td><td>466</td><td>170</td><td>69</td><td>2</td><td>52.0</td><td>4.0</td><td>19</td></tr></table></div>\n",
       "    <br />(rows: 0, datalab-projects-1331:xjk_algo_comp.future_gaps_final1)<br />\n",
       "    <script>\n",
       "      require(['extensions/charting', 'element!1_146574407697', 'style!/static/extensions/charting.css'],\n",
       "        function(charts, dom) {\n",
       "          charts.render(dom,\n",
       "            {\n",
       "              chartStyle:\"table\",\n",
       "              dataName:\"0\",\n",
       "              fields:\"district_id,timeslot,date,timeofday_slot,day_in_week,is_sunday,sum_price,avg_price,poi1,poi2,poi3,poi4,poi5,traffic_tj_level1,traffic_tj_level2,traffic_tj_level3,traffic_tj_level4,weather,weather_pm25,weather_temperature,gap\",\n",
       "              totalRows:0,\n",
       "              rowsPerPage:25,\n",
       "            }, {}, {\"rows\": [{\"c\": [{\"v\": 9}, {\"v\": \"2016-01-16-34\"}, {\"v\": \"2016-01-16\"}, {\"v\": 34}, {\"v\": 6}, {\"v\": 0}, {\"v\": 103.0}, {\"v\": 103.0}, {\"v\": -47755.888529398544}, {\"v\": 7847.170880750486}, {\"v\": -130.03442563754814}, {\"v\": 3424.894692060525}, {\"v\": 8146.276411878912}, {\"v\": 233}, {\"v\": 27}, {\"v\": 9}, {\"v\": 5}, {\"v\": 2}, {\"v\": 127.0}, {\"v\": 3.0}, {\"v\": 0}]}, {\"c\": [{\"v\": 37}, {\"v\": \"2016-01-15-132\"}, {\"v\": \"2016-01-15\"}, {\"v\": 132}, {\"v\": 5}, {\"v\": 0}, {\"v\": 3246.6999999999975}, {\"v\": 17.741530054644794}, {\"v\": 73878.66930958108}, {\"v\": 7546.698600081027}, {\"v\": 5382.955716384117}, {\"v\": 33172.55438164289}, {\"v\": -12937.403422663932}, {\"v\": 1467}, {\"v\": 316}, {\"v\": 123}, {\"v\": 95}, {\"v\": 2}, {\"v\": 117.0}, {\"v\": 6.0}, {\"v\": 30}]}, {\"c\": [{\"v\": 14}, {\"v\": \"2016-01-19-37\"}, {\"v\": \"2016-01-19\"}, {\"v\": 37}, {\"v\": 2}, {\"v\": 0}, {\"v\": 170.0}, {\"v\": 21.25}, {\"v\": 17734.3389758934}, {\"v\": -13841.966209369697}, {\"v\": -28341.67147182252}, {\"v\": 5611.532935324984}, {\"v\": 11650.87057184014}, {\"v\": 891}, {\"v\": 115}, {\"v\": 18}, {\"v\": 38}, {\"v\": 1}, {\"v\": 150.0}, {\"v\": 0.0}, {\"v\": 6}]}, {\"c\": [{\"v\": 35}, {\"v\": \"2016-01-06-13\"}, {\"v\": \"2016-01-06\"}, {\"v\": 13}, {\"v\": 3}, {\"v\": 0}, {\"v\": 18.0}, {\"v\": 18.0}, {\"v\": -62108.40537426752}, {\"v\": -1597.4540409213016}, {\"v\": -2281.3415176206936}, {\"v\": -5367.720469804684}, {\"v\": 131.7044948496004}, {\"v\": 103}, {\"v\": 1}, {\"v\": 4}, {\"v\": 0}, {\"v\": 3}, {\"v\": 55.0}, {\"v\": 8.0}, {\"v\": 1}]}, {\"c\": [{\"v\": 16}, {\"v\": \"2016-01-17-61\"}, {\"v\": \"2016-01-17\"}, {\"v\": 61}, {\"v\": 0}, {\"v\": 1}, {\"v\": 223.1}, {\"v\": 27.8875}, {\"v\": -58381.045899161414}, {\"v\": 4.801807314527694}, {\"v\": -3070.825984398579}, {\"v\": -4843.259162165069}, {\"v\": 186.57462609760358}, {\"v\": 287}, {\"v\": 40}, {\"v\": 20}, {\"v\": 11}, {\"v\": null}, {\"v\": null}, {\"v\": null}, {\"v\": 1}]}, {\"c\": [{\"v\": 35}, {\"v\": \"2016-01-11-94\"}, {\"v\": \"2016-01-11\"}, {\"v\": 94}, {\"v\": 1}, {\"v\": 0}, {\"v\": 308.0}, {\"v\": 20.533333333333335}, {\"v\": -62108.40537426752}, {\"v\": -1597.4540409213016}, {\"v\": -2281.3415176206936}, {\"v\": -5367.720469804684}, {\"v\": 131.7044948496004}, {\"v\": 215}, {\"v\": 37}, {\"v\": 9}, {\"v\": 4}, {\"v\": 4}, {\"v\": 55.0}, {\"v\": 6.0}, {\"v\": 5}]}, {\"c\": [{\"v\": 28}, {\"v\": \"2016-01-17-69\"}, {\"v\": \"2016-01-17\"}, {\"v\": 69}, {\"v\": 0}, {\"v\": 1}, {\"v\": 2910.1}, {\"v\": 14.847448979591837}, {\"v\": 16820.526355399863}, {\"v\": -4039.8320667658554}, {\"v\": -11239.117798036088}, {\"v\": 16800.502468573173}, {\"v\": 14677.984732639436}, {\"v\": 1368}, {\"v\": 377}, {\"v\": 78}, {\"v\": 85}, {\"v\": 4}, {\"v\": 55.0}, {\"v\": 6.0}, {\"v\": 17}]}, {\"c\": [{\"v\": 55}, {\"v\": \"2016-01-10-95\"}, {\"v\": \"2016-01-10\"}, {\"v\": 95}, {\"v\": 0}, {\"v\": 1}, {\"v\": 87.0}, {\"v\": 12.428571428571429}, {\"v\": -69611.8629380815}, {\"v\": -1892.3331271392567}, {\"v\": -7761.440804030624}, {\"v\": -9488.947367829103}, {\"v\": 4224.425386246355}, {\"v\": 111}, {\"v\": 6}, {\"v\": 7}, {\"v\": 8}, {\"v\": 8}, {\"v\": 182.0}, {\"v\": 7.0}, {\"v\": 1}]}, {\"c\": [{\"v\": 17}, {\"v\": \"2016-01-16-118\"}, {\"v\": \"2016-01-16\"}, {\"v\": 118}, {\"v\": 6}, {\"v\": 0}, {\"v\": 99.0}, {\"v\": 14.142857142857142}, {\"v\": -49290.46262875628}, {\"v\": 332.995686436503}, {\"v\": 7382.57124530197}, {\"v\": -2785.3837091940823}, {\"v\": -7976.151422779466}, {\"v\": 332}, {\"v\": 29}, {\"v\": 8}, {\"v\": 12}, {\"v\": 2}, {\"v\": 108.0}, {\"v\": 8.0}, {\"v\": 0}]}, {\"c\": [{\"v\": 7}, {\"v\": \"2016-01-20-97\"}, {\"v\": \"2016-01-20\"}, {\"v\": 97}, {\"v\": 3}, {\"v\": 0}, {\"v\": 5266.8}, {\"v\": 21.585245901639347}, {\"v\": 194502.1768251736}, {\"v\": -118529.11141726472}, {\"v\": 41855.60263548842}, {\"v\": -25162.950979380294}, {\"v\": -6096.774738519995}, {\"v\": 1767}, {\"v\": 605}, {\"v\": 196}, {\"v\": 138}, {\"v\": null}, {\"v\": null}, {\"v\": null}, {\"v\": 114}]}, {\"c\": [{\"v\": 55}, {\"v\": \"2016-01-01-67\"}, {\"v\": \"2016-01-01\"}, {\"v\": 67}, {\"v\": 5}, {\"v\": 0}, {\"v\": 53.0}, {\"v\": 26.5}, {\"v\": -69611.8629380815}, {\"v\": -1892.3331271392567}, {\"v\": -7761.440804030624}, {\"v\": -9488.947367829103}, {\"v\": 4224.425386246355}, {\"v\": 139}, {\"v\": 9}, {\"v\": 1}, {\"v\": 5}, {\"v\": 2}, {\"v\": 205.0}, {\"v\": 6.0}, {\"v\": 0}]}, {\"c\": [{\"v\": 8}, {\"v\": \"2016-01-13-136\"}, {\"v\": \"2016-01-13\"}, {\"v\": 136}, {\"v\": 3}, {\"v\": 0}, {\"v\": 3342.3}, {\"v\": 15.33165137614679}, {\"v\": 272662.31156683835}, {\"v\": -47763.19859145043}, {\"v\": -8298.804754286419}, {\"v\": 19828.32628601877}, {\"v\": 8690.55846577551}, {\"v\": 2697}, {\"v\": 419}, {\"v\": 158}, {\"v\": 114}, {\"v\": 2}, {\"v\": 106.0}, {\"v\": 3.0}, {\"v\": 12}]}, {\"c\": [{\"v\": 25}, {\"v\": \"2016-01-19-17\"}, {\"v\": \"2016-01-19\"}, {\"v\": 17}, {\"v\": 2}, {\"v\": 0}, {\"v\": 326.0}, {\"v\": 54.333333333333336}, {\"v\": -31927.356648464465}, {\"v\": 17027.530646824303}, {\"v\": 8299.896079676664}, {\"v\": 3632.5411485307463}, {\"v\": -1024.618415711511}, {\"v\": 361}, {\"v\": 31}, {\"v\": 9}, {\"v\": 8}, {\"v\": 1}, {\"v\": 199.0}, {\"v\": 1.0}, {\"v\": 2}]}, {\"c\": [{\"v\": 57}, {\"v\": \"2016-01-17-73\"}, {\"v\": \"2016-01-17\"}, {\"v\": 73}, {\"v\": 0}, {\"v\": 1}, {\"v\": 193.0}, {\"v\": 9.65}, {\"v\": -47773.22323187668}, {\"v\": 257.7393484854198}, {\"v\": 2191.7244765258706}, {\"v\": 752.021298700525}, {\"v\": 454.5530986064317}, {\"v\": 468}, {\"v\": 119}, {\"v\": 21}, {\"v\": 22}, {\"v\": null}, {\"v\": null}, {\"v\": null}, {\"v\": 1}]}, {\"c\": [{\"v\": 41}, {\"v\": \"2016-01-09-13\"}, {\"v\": \"2016-01-09\"}, {\"v\": 13}, {\"v\": 6}, {\"v\": 0}, {\"v\": 18.0}, {\"v\": 18.0}, {\"v\": -63794.1683045981}, {\"v\": -2381.6643063379875}, {\"v\": -3549.849425554242}, {\"v\": -7280.208512607691}, {\"v\": 1028.1674706444596}, {\"v\": 139}, {\"v\": 11}, {\"v\": 5}, {\"v\": 4}, {\"v\": 2}, {\"v\": 136.0}, {\"v\": 3.0}, {\"v\": 1}]}, {\"c\": [{\"v\": 33}, {\"v\": \"2016-01-04-96\"}, {\"v\": \"2016-01-04\"}, {\"v\": 96}, {\"v\": 1}, {\"v\": 0}, {\"v\": 83.0}, {\"v\": 20.75}, {\"v\": -57374.16560605138}, {\"v\": 3331.1157850622044}, {\"v\": -2333.9036610863395}, {\"v\": -3774.5385603010945}, {\"v\": 761.5322982419874}, {\"v\": 205}, {\"v\": 70}, {\"v\": 35}, {\"v\": 12}, {\"v\": 4}, {\"v\": 237.0}, {\"v\": 12.0}, {\"v\": 1}]}, {\"c\": [{\"v\": 56}, {\"v\": \"2016-01-10-59\"}, {\"v\": \"2016-01-10\"}, {\"v\": 59}, {\"v\": 0}, {\"v\": 1}, {\"v\": 30.0}, {\"v\": 15.0}, {\"v\": -62654.031675997874}, {\"v\": 6028.484803735022}, {\"v\": -4445.548851447891}, {\"v\": -10283.329063610014}, {\"v\": 5597.915947424435}, {\"v\": 202}, {\"v\": 25}, {\"v\": 6}, {\"v\": 1}, {\"v\": 4}, {\"v\": 162.0}, {\"v\": 7.0}, {\"v\": 0}]}, {\"c\": [{\"v\": 28}, {\"v\": \"2016-01-18-46\"}, {\"v\": \"2016-01-18\"}, {\"v\": 46}, {\"v\": 1}, {\"v\": 0}, {\"v\": 2849.8}, {\"v\": 13.901463414634147}, {\"v\": 16820.526355399863}, {\"v\": -4039.8320667658554}, {\"v\": -11239.117798036088}, {\"v\": 16800.502468573173}, {\"v\": 14677.984732639436}, {\"v\": 1281}, {\"v\": 355}, {\"v\": 113}, {\"v\": 62}, {\"v\": 2}, {\"v\": 81.0}, {\"v\": 3.0}, {\"v\": 11}]}, {\"c\": [{\"v\": 57}, {\"v\": \"2016-01-14-121\"}, {\"v\": \"2016-01-14\"}, {\"v\": 121}, {\"v\": 4}, {\"v\": 0}, {\"v\": 98.0}, {\"v\": 8.909090909090908}, {\"v\": -47773.22323187668}, {\"v\": 257.7393484854198}, {\"v\": 2191.7244765258706}, {\"v\": 752.021298700525}, {\"v\": 454.5530986064317}, {\"v\": 499}, {\"v\": 117}, {\"v\": 22}, {\"v\": 18}, {\"v\": 2}, {\"v\": 129.0}, {\"v\": 7.0}, {\"v\": 0}]}, {\"c\": [{\"v\": 41}, {\"v\": \"2016-01-17-59\"}, {\"v\": \"2016-01-17\"}, {\"v\": 59}, {\"v\": 0}, {\"v\": 1}, {\"v\": 303.6}, {\"v\": 18.975}, {\"v\": -63794.1683045981}, {\"v\": -2381.6643063379875}, {\"v\": -3549.849425554242}, {\"v\": -7280.208512607691}, {\"v\": 1028.1674706444596}, {\"v\": 280}, {\"v\": 52}, {\"v\": 7}, {\"v\": 9}, {\"v\": 4}, {\"v\": 75.0}, {\"v\": 6.0}, {\"v\": 0}]}, {\"c\": [{\"v\": 3}, {\"v\": \"2016-01-04-112\"}, {\"v\": \"2016-01-04\"}, {\"v\": 112}, {\"v\": 1}, {\"v\": 0}, {\"v\": 123.0}, {\"v\": 24.6}, {\"v\": -66868.59662759819}, {\"v\": -2705.959476449649}, {\"v\": -5066.3633297187625}, {\"v\": -8212.926076839733}, {\"v\": 2311.9000692183176}, {\"v\": 240}, {\"v\": 76}, {\"v\": 28}, {\"v\": 10}, {\"v\": 4}, {\"v\": 241.0}, {\"v\": 12.0}, {\"v\": 0}]}, {\"c\": [{\"v\": 44}, {\"v\": \"2016-01-04-103\"}, {\"v\": \"2016-01-04\"}, {\"v\": 103}, {\"v\": 1}, {\"v\": 0}, {\"v\": 35.0}, {\"v\": 11.666666666666666}, {\"v\": -65241.696328510974}, {\"v\": -3025.628111336731}, {\"v\": -3997.351379383407}, {\"v\": -9049.147801025816}, {\"v\": 1384.83728489974}, {\"v\": 97}, {\"v\": 14}, {\"v\": 8}, {\"v\": 3}, {\"v\": 4}, {\"v\": 234.0}, {\"v\": 12.0}, {\"v\": 0}]}, {\"c\": [{\"v\": 66}, {\"v\": \"2016-01-12-51\"}, {\"v\": \"2016-01-12\"}, {\"v\": 51}, {\"v\": 2}, {\"v\": 0}, {\"v\": 272.0}, {\"v\": 8.774193548387096}, {\"v\": -52646.493515755064}, {\"v\": 4421.922213608454}, {\"v\": 991.8641827878794}, {\"v\": -1757.4973934781292}, {\"v\": 3384.4179618456346}, {\"v\": 310}, {\"v\": 63}, {\"v\": 7}, {\"v\": 12}, {\"v\": 2}, {\"v\": 52.0}, {\"v\": 4.0}, {\"v\": 1}]}, {\"c\": [{\"v\": 25}, {\"v\": \"2016-01-20-1\"}, {\"v\": \"2016-01-20\"}, {\"v\": 1}, {\"v\": 3}, {\"v\": 0}, {\"v\": 300.0}, {\"v\": 15.789473684210526}, {\"v\": -31927.356648464465}, {\"v\": 17027.530646824303}, {\"v\": 8299.896079676664}, {\"v\": 3632.5411485307463}, {\"v\": -1024.618415711511}, {\"v\": null}, {\"v\": null}, {\"v\": null}, {\"v\": null}, {\"v\": null}, {\"v\": null}, {\"v\": null}, {\"v\": 1}]}, {\"c\": [{\"v\": 12}, {\"v\": \"2016-01-12-51\"}, {\"v\": \"2016-01-12\"}, {\"v\": 51}, {\"v\": 2}, {\"v\": 0}, {\"v\": 2279.6000000000013}, {\"v\": 13.488757396449712}, {\"v\": 128675.36912207802}, {\"v\": 31288.84109163725}, {\"v\": -14001.177619992111}, {\"v\": 1242.6406271417618}, {\"v\": 39493.87489403659}, {\"v\": 1523}, {\"v\": 466}, {\"v\": 170}, {\"v\": 69}, {\"v\": 2}, {\"v\": 52.0}, {\"v\": 4.0}, {\"v\": 19}]}], \"cols\": [{\"type\": \"number\", \"id\": \"district_id\", \"label\": \"district_id\"}, {\"type\": \"string\", \"id\": \"timeslot\", \"label\": \"timeslot\"}, {\"type\": \"string\", \"id\": \"date\", \"label\": \"date\"}, {\"type\": \"number\", \"id\": \"timeofday_slot\", \"label\": \"timeofday_slot\"}, {\"type\": \"number\", \"id\": \"day_in_week\", \"label\": \"day_in_week\"}, {\"type\": \"number\", \"id\": \"is_sunday\", \"label\": \"is_sunday\"}, {\"type\": \"number\", \"id\": \"sum_price\", \"label\": \"sum_price\"}, {\"type\": \"number\", \"id\": \"avg_price\", \"label\": \"avg_price\"}, {\"type\": \"number\", \"id\": \"poi1\", \"label\": \"poi1\"}, {\"type\": \"number\", \"id\": \"poi2\", \"label\": \"poi2\"}, {\"type\": \"number\", \"id\": \"poi3\", \"label\": \"poi3\"}, {\"type\": \"number\", \"id\": \"poi4\", \"label\": \"poi4\"}, {\"type\": \"number\", \"id\": \"poi5\", \"label\": \"poi5\"}, {\"type\": \"number\", \"id\": \"traffic_tj_level1\", \"label\": \"traffic_tj_level1\"}, {\"type\": \"number\", \"id\": \"traffic_tj_level2\", \"label\": \"traffic_tj_level2\"}, {\"type\": \"number\", \"id\": \"traffic_tj_level3\", \"label\": \"traffic_tj_level3\"}, {\"type\": \"number\", \"id\": \"traffic_tj_level4\", \"label\": \"traffic_tj_level4\"}, {\"type\": \"number\", \"id\": \"weather\", \"label\": \"weather\"}, {\"type\": \"number\", \"id\": \"weather_pm25\", \"label\": \"weather_pm25\"}, {\"type\": \"number\", \"id\": \"weather_temperature\", \"label\": \"weather_temperature\"}, {\"type\": \"number\", \"id\": \"gap\", \"label\": \"gap\"}]});\n",
       "        }\n",
       "      );\n",
       "    </script>\n",
       "  "
      ],
      "text/plain": [
       "Table datalab-projects-1331:xjk_algo_comp.future_gaps_final1"
      ]
     },
     "execution_count": 10,
     "metadata": {},
     "output_type": "execute_result"
    }
   ],
   "source": [
    "schema = bq.Schema([\n",
    "    {'name': 'district_id', 'type': 'INTEGER'},\n",
    "    {'name': 'timeslot', 'type': 'STRING'},\n",
    "    {'name': 'date', 'type': 'STRING'},\n",
    "    {'name': 'timeofday_slot', 'type': 'INTEGER'},\n",
    "    {'name': 'day_in_week', 'type': 'INTEGER'},\n",
    "    {'name': 'is_sunday', 'type': 'INTEGER'},\n",
    "    {'name': 'sum_price', 'type': 'FLOAT'},\n",
    "    {'name': 'avg_price', 'type': 'FLOAT'},\n",
    "    {'name': 'poi1', 'type': 'FLOAT'},\n",
    "    {'name': 'poi2', 'type': 'FLOAT'},\n",
    "    {'name': 'poi3', 'type': 'FLOAT'},\n",
    "    {'name': 'poi4', 'type': 'FLOAT'},\n",
    "    {'name': 'poi5', 'type': 'FLOAT'},\n",
    "    {'name': 'traffic_tj_level1', 'type': 'INTEGER'},\n",
    "    {'name': 'traffic_tj_level2', 'type': 'INTEGER'},\n",
    "    {'name': 'traffic_tj_level3', 'type': 'INTEGER'},\n",
    "    {'name': 'traffic_tj_level4', 'type': 'INTEGER'},\n",
    "    {'name': 'weather', 'type': 'INTEGER'},\n",
    "    {'name': 'weather_pm25', 'type': 'FLOAT'},\n",
    "    {'name': 'weather_temperature', 'type': 'FLOAT'},\n",
    "    {'name': 'gap', 'type': 'INTEGER'}\n",
    "])\n",
    "table = bq.Table('datalab-projects-1331:xjk_algo_comp.future_gaps_final1')\n",
    "table.create(schema)\n",
    "table.insert_data(all_data)"
   ]
  },
  {
   "cell_type": "markdown",
   "metadata": {},
   "source": [
    "# Previous Gap\n",
    "Add `previous_gap` field to data."
   ]
  },
  {
   "cell_type": "code",
   "execution_count": 13,
   "metadata": {
    "collapsed": true
   },
   "outputs": [],
   "source": [
    "%%sql --module q_original\n",
    "\n",
    "SELECT district_id, timeslot, timeslot_original, gap\n",
    "FROM [datalab-projects-1331:xjk_algo_comp.future_gaps] ORDER BY timeslot, district_id"
   ]
  },
  {
   "cell_type": "code",
   "execution_count": 12,
   "metadata": {
    "collapsed": true
   },
   "outputs": [],
   "source": [
    "%%sql --module q_final\n",
    "\n",
    "SELECT *\n",
    "FROM [datalab-projects-1331:xjk_algo_comp.future_gaps_final1]\n",
    "ORDER BY timeslot, district_id"
   ]
  },
  {
   "cell_type": "code",
   "execution_count": null,
   "metadata": {
    "collapsed": false
   },
   "outputs": [],
   "source": [
    "query_f = bq.Query(q_final)\n",
    "query_o = bq.Query(q_original)\n",
    "tableresult_f = query_f.results()\n",
    "tableresult_o = query_o.results()\n",
    "all_data = []\n",
    "print 'there are {} rows'.format(tableresult_f.length)\n",
    "for rcounter, row in enumerate(tableresult_f):\n",
    "  previous_gap = 0\n",
    "  try:\n",
    "    row_o = (item for item in tableresult_o if item['district_id'] == row['district_id'] and\n",
    "      item['timeslot_original'] == row['timeslot']).next()\n",
    "    previous_gap = row_o['gap']\n",
    "  except:\n",
    "    pass\n",
    "  all_data.append(row)\n",
    "  if rcounter % 5000 == 0:\n",
    "    print 'processed {} rows'.format(rcounter)"
   ]
  },
  {
   "cell_type": "code",
   "execution_count": 14,
   "metadata": {
    "collapsed": false
   },
   "outputs": [
    {
     "ename": "NameError",
     "evalue": "name 'tableresult_o' is not defined",
     "output_type": "error",
     "traceback": [
      "\u001b[1;31m\u001b[0m",
      "\u001b[1;31mNameError\u001b[0mTraceback (most recent call last)",
      "\u001b[1;32m<ipython-input-14-83e491e6951f>\u001b[0m in \u001b[0;36m<module>\u001b[1;34m()\u001b[0m\n\u001b[1;32m----> 1\u001b[1;33m \u001b[1;33m(\u001b[0m\u001b[0mitem\u001b[0m \u001b[1;32mfor\u001b[0m \u001b[0mitem\u001b[0m \u001b[1;32min\u001b[0m \u001b[0mtableresult_o\u001b[0m \u001b[1;32mif\u001b[0m \u001b[0mitem\u001b[0m\u001b[1;33m[\u001b[0m\u001b[1;34m'district_id'\u001b[0m\u001b[1;33m]\u001b[0m \u001b[1;33m==\u001b[0m \u001b[1;36m100\u001b[0m\u001b[1;33m)\u001b[0m\u001b[1;33m.\u001b[0m\u001b[0mnext\u001b[0m\u001b[1;33m(\u001b[0m\u001b[1;33m)\u001b[0m\u001b[1;33m\u001b[0m\u001b[0m\n\u001b[0m",
      "\u001b[1;31mNameError\u001b[0m: name 'tableresult_o' is not defined"
     ]
    }
   ],
   "source": [
    "  (item for item in tableresult_o if item['district_id'] == 100).next()"
   ]
  },
  {
   "cell_type": "code",
   "execution_count": null,
   "metadata": {
    "collapsed": true
   },
   "outputs": [],
   "source": []
  }
 ],
 "metadata": {
  "kernelspec": {
   "display_name": "Python 2",
   "language": "python",
   "name": "python2"
  },
  "language_info": {
   "codemirror_mode": {
    "name": "ipython",
    "version": 2
   },
   "file_extension": ".py",
   "mimetype": "text/x-python",
   "name": "python",
   "nbconvert_exporter": "python",
   "pygments_lexer": "ipython2",
   "version": "2.7.9"
  }
 },
 "nbformat": 4,
 "nbformat_minor": 0
}
