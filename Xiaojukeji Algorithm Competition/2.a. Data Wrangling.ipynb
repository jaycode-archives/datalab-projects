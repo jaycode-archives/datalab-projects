{
 "cells": [
  {
   "cell_type": "code",
   "execution_count": 19,
   "metadata": {
    "collapsed": true
   },
   "outputs": [],
   "source": [
    "from sklearn.decomposition import PCA\n",
    "import pandas as pd\n",
    "import gcp.bigquery as bq\n",
    "import numpy as np\n",
    "from datetime import date\n",
    "from datetime import timedelta\n",
    "\n",
    "import pdb"
   ]
  },
  {
   "cell_type": "markdown",
   "metadata": {},
   "source": [
    "# Gaps Table\n",
    "First, make a simple **gaps** table, then fill it with data from other tables."
   ]
  },
  {
   "cell_type": "code",
   "execution_count": null,
   "metadata": {
    "collapsed": true
   },
   "outputs": [],
   "source": [
    "%%bigquery udf -m orders_create_additional_fields\n",
    "/**\n",
    " * Pad with 0 or given string.\n",
    " *\n",
    " * @param int n Number to add padding to.\n",
    " * @param int width Width of number + padding.\n",
    " * @param string z (Optional) Other string to replace '0' as padding.\n",
    " */\n",
    "function pad(n, width, z) {\n",
    "  z = z || '0';\n",
    "  n = n + '';\n",
    "  return n.length >= width ? n : new Array(width - n.length + 1).join(z) + n;\n",
    "}\n",
    "\n",
    "/**\n",
    " * Create additional fields on orders table for gaps table creation.\n",
    " *\n",
    " * @param {{order_id: string, driver_id: string, passenger_id: string,\n",
    "            start_district_hash: string, dest_district_hash: string, price: float,\n",
    "            time: string}} r\n",
    " * @param function({{order_id: string, driver_id: string, passenger_id: string,\n",
    "                     start_district_hash: string, dest_district_hash: string, price: float,\n",
    "                     time: string, timeslot: string, timeofday_slot: integer, day_in_week: integer,\n",
    "                     date: string}}) emitFn\n",
    " */\n",
    "function(r, emitFn) {\n",
    "  var t = r.time.split(/[ :\\-]/);\n",
    "  var slot = Math.floor((parseInt(t[3]) * 60 + parseInt(t[4])) / 10) + 1;\n",
    "  r.timeslot = t[0] + '-' + pad(t[1], 2) +\n",
    "               '-' + pad(t[2], 2) + '-' + slot;\n",
    "  r.timeofday_slot = slot;\n",
    "  r.date = t[0] + '-' + pad(t[1], 2) + '-' + pad(t[2], 2);\n",
    "  r.day_in_week = new Date(parseInt(t[0]), parseInt(t[1])-1, parseInt(t[2])).getDay();\n",
    "  emitFn(r);\n",
    "}"
   ]
  },
  {
   "cell_type": "code",
   "execution_count": null,
   "metadata": {
    "collapsed": false
   },
   "outputs": [],
   "source": [
    "%%bigquery execute -t datalab-projects-1331:xjk_algo_comp.gaps -m create\n",
    "SELECT district_id, FIRST(orders.timeslot) AS timeslot, FIRST(orders.date) AS date,\n",
    "  FIRST(day_in_week) AS day_in_week, FIRST(timeofday_slot) AS timeofday_slot,\n",
    "  SUM(price) AS sum_price, AVG(price) AS avg_price,\n",
    "  SUM(IF(driver_id = 'NULL', 1, 0)) AS gap\n",
    "FROM orders_create_additional_fields([datalab-projects-1331:xjk_algo_comp.orders]) AS orders\n",
    "JOIN [datalab-projects-1331:xjk_algo_comp.districts] AS districts \n",
    "  ON orders.start_district_hash = districts.district_hash\n",
    "GROUP BY district_id, orders.timeslot"
   ]
  },
  {
   "cell_type": "code",
   "execution_count": null,
   "metadata": {
    "collapsed": true
   },
   "outputs": [],
   "source": [
    "%% sql -q tester\n",
    "SELECT SUM(price) FROM datalab-projects-1331:xjk_algo_comp.orders\n",
    "WHERE start_district_hash = 'd4ec2125aff74eded207d2d915ef682f'\n",
    "  AND (time LIKE \"%2016-01-01 00:5%\")\n",
    "  \n",
    "# Reference only. Use above query to check if aggregation was correct, by comparing the\n",
    "# result of that from sum of district_hash = 51 and timeslot \"2016-01-01-6\", which \n",
    "# should be 126498.0."
   ]
  },
  {
   "cell_type": "markdown",
   "metadata": {},
   "source": [
    "# +1 timeslot\n",
    "We are going to use past data to predict the gaps for the next 10 minutes (or in other words, the next timeslot). To do this, we need to update timeslot related information. Specifically we are going to do the following:\n",
    "1. Add `timeslot` feature by one:\n",
    "  - '2016-01-45' to '2016-01-46'\n",
    "  - '2016-01-144' to '2016-02-1'\n",
    "2. Update `date` and `slot` features accordingly.\n",
    "3. Recalculate `day_in_week` feature."
   ]
  },
  {
   "cell_type": "code",
   "execution_count": null,
   "metadata": {
    "collapsed": false
   },
   "outputs": [],
   "source": [
    "%%bigquery udf --module gaps_plus_one_timeslot\n",
    "  \n",
    "// Use this when testing\n",
    "// %%javascript\n",
    "\n",
    "/**\n",
    " * Pad with 0 or given string.\n",
    " *\n",
    " * @param int n Number to add padding to.\n",
    " * @param int width Width of number + padding.\n",
    " * @param string z (Optional) Other string to replace '0' as padding.\n",
    " */\n",
    "function pad(n, width, z) {\n",
    "  z = z || '0';\n",
    "  n = n + '';\n",
    "  return n.length >= width ? n : new Array(width - n.length + 1).join(z) + n;\n",
    "}\n",
    "\n",
    "/**\n",
    " * Add one timeslot and adjust other relevant tables.\n",
    " *\n",
    " * @param {{district_id: integer, timeslot: string, date: string, day_in_week: integer,\n",
    "            timeofday_slot: integer, sum_price: float, avg_price: float, gap: integer}} r\n",
    " * @param function({{district_id: integer, timeslot: string, date: string, day_in_week: integer,\n",
    "                timeofday_slot: integer, sum_price: float, avg_price: float, gap: integer,\n",
    "                timeslot_original: string}}) emitFn\n",
    " */\n",
    "function(r, emitFn) {\n",
    "  \n",
    "  var t = r.timeslot.split(/-/);\n",
    "  var oldslot = parseInt(t[3]);\n",
    "  var newslot = oldslot + 1;\n",
    "  var d = new Date(parseInt(t[0]), parseInt(t[1])-1, parseInt(t[2]));\n",
    "  if (oldslot == 144) {\n",
    "    newslot = 1;\n",
    "    d = new Date(d.setDate(d.getDate() + 1));\n",
    "    r.day_in_week = d.getDay();\n",
    "    r.date = d.getFullYear() + '-' + pad(d.getMonth()+1, 2) +\n",
    "             '-' + pad(d.getDate(), 2);\n",
    "  }\n",
    "  \n",
    "  r.timeslot_original = r.timeslot;\n",
    "\n",
    "  r.timeslot = d.getFullYear() + '-' + pad(d.getMonth()+1, 2) +\n",
    "               '-' + pad(d.getDate(), 2) + '-' + newslot;\n",
    "\n",
    "  r.timeofday_slot = newslot;\n",
    "  emitFn(r);\n",
    "}\n",
    "\n",
    "// For testing (without `new Date()` after date added by 1 setDate returns milliseconds)\n",
    "\n",
    "// var test_row = {\n",
    "//   district_id: 1,\n",
    "//   timeslot: '2016-01-22-144',\n",
    "//   date: '2016-01-22',\n",
    "//   day_in_week: 5,\n",
    "//   timeofday_slot: 144,\n",
    "//   sum_price: 0.0,\n",
    "//   avg_price: 0.0,\n",
    "//   gap: 11,\n",
    "// };\n",
    "\n",
    "// function emitter(r) {\n",
    "//   for (var p in r) {\n",
    "//     element.append(p + '=' + r[p] + '<br>');\n",
    "//   }\n",
    "// }\n",
    "\n",
    "// udf(test_row, emitter);"
   ]
  },
  {
   "cell_type": "code",
   "execution_count": null,
   "metadata": {
    "collapsed": false
   },
   "outputs": [],
   "source": [
    "%%bigquery execute -t datalab-projects-1331:xjk_algo_comp.future_gaps -m create\n",
    "\n",
    "SELECT district_id, timeslot, date, day_in_week, timeofday_slot, sum_price, avg_price, gap,\n",
    "  timeslot_original\n",
    "FROM gaps_plus_one_timeslot([datalab-projects-1331:xjk_algo_comp.gaps])"
   ]
  },
  {
   "cell_type": "markdown",
   "metadata": {},
   "source": [
    "# Gaps Table + Other Tables"
   ]
  },
  {
   "cell_type": "code",
   "execution_count": null,
   "metadata": {
    "collapsed": false
   },
   "outputs": [],
   "source": [
    "%%bigquery execute -t datalab-projects-1331:xjk_algo_comp.future_gaps_processed -m create\n",
    "\n",
    "SELECT FIRST(gaps.district_id) AS district_id, FIRST(gaps.timeslot) AS timeslot, FIRST(gaps.date) AS date,\n",
    "  FIRST(gaps.day_in_week) AS day_in_week, IF(FIRST(gaps.day_in_week) = 0, 1, 0) AS is_sunday,\n",
    "  FIRST(gaps.timeofday_slot) AS timeofday_slot,\n",
    "  FIRST(gaps.sum_price) AS sum_price, FIRST(gaps.avg_price) AS avg_price, FIRST(gaps.gap) AS gap,\n",
    "  FIRST(pois.f1) AS f1, FIRST(pois.f11) AS f11, FIRST(pois.f11_1) AS f11_1, \n",
    "  FIRST(pois.f11_2) AS f11_2, FIRST(pois.f11_3) AS f11_3, FIRST(pois.f11_4) AS f11_4, \n",
    "  FIRST(pois.f11_5) AS f11_5, FIRST(pois.f11_6) AS f11_6, FIRST(pois.f11_7) AS f11_7, \n",
    "  FIRST(pois.f11_8) AS f11_8, FIRST(pois.f13_4) AS f13_4, FIRST(pois.f13_8) AS f13_8, \n",
    "  FIRST(pois.f14) AS f14, FIRST(pois.f14_1) AS f14_1, FIRST(pois.f14_10) AS f14_10, \n",
    "  FIRST(pois.f14_2) AS f14_2, FIRST(pois.f14_3) AS f14_3, FIRST(pois.f14_6) AS f14_6, \n",
    "  FIRST(pois.f14_8) AS f14_8, FIRST(pois.f15) AS f15, FIRST(pois.f15_1) AS f15_1, \n",
    "  FIRST(pois.f15_2) AS f15_2, FIRST(pois.f15_3) AS f15_3, FIRST(pois.f15_4) AS f15_4, \n",
    "  FIRST(pois.f15_6) AS f15_6, FIRST(pois.f15_7) AS f15_7, FIRST(pois.f15_8) AS f15_8, \n",
    "  FIRST(pois.f16) AS f16, FIRST(pois.f16_1) AS f16_1, FIRST(pois.f16_10) AS f16_10, \n",
    "  FIRST(pois.f16_11) AS f16_11, FIRST(pois.f16_12) AS f16_12, FIRST(pois.f16_3) AS f16_3, \n",
    "  FIRST(pois.f16_4) AS f16_4, FIRST(pois.f16_6) AS f16_6, FIRST(pois.f17) AS f17, \n",
    "  FIRST(pois.f17_2) AS f17_2, FIRST(pois.f17_3) AS f17_3, FIRST(pois.f17_4) AS f17_4, \n",
    "  FIRST(pois.f17_5) AS f17_5, FIRST(pois.f19) AS f19, FIRST(pois.f19_1) AS f19_1, \n",
    "  FIRST(pois.f19_2) AS f19_2, FIRST(pois.f19_3) AS f19_3, FIRST(pois.f19_4) AS f19_4, \n",
    "  FIRST(pois.f1_1) AS f1_1, FIRST(pois.f1_10) AS f1_10, FIRST(pois.f1_11) AS f1_11, \n",
    "  FIRST(pois.f1_2) AS f1_2, FIRST(pois.f1_3) AS f1_3, FIRST(pois.f1_4) AS f1_4, \n",
    "  FIRST(pois.f1_5) AS f1_5, FIRST(pois.f1_6) AS f1_6, FIRST(pois.f1_7) AS f1_7, \n",
    "  FIRST(pois.f1_8) AS f1_8, FIRST(pois.f20) AS f20, FIRST(pois.f20_1) AS f20_1, \n",
    "  FIRST(pois.f20_2) AS f20_2, FIRST(pois.f20_4) AS f20_4, FIRST(pois.f20_5) AS f20_5, \n",
    "  FIRST(pois.f20_6) AS f20_6, FIRST(pois.f20_7) AS f20_7, FIRST(pois.f20_8) AS f20_8, \n",
    "  FIRST(pois.f20_9) AS f20_9, FIRST(pois.f21_1) AS f21_1, FIRST(pois.f21_2) AS f21_2, \n",
    "  FIRST(pois.f22) AS f22, FIRST(pois.f22_1) AS f22_1, FIRST(pois.f22_2) AS f22_2, \n",
    "  FIRST(pois.f22_3) AS f22_3, FIRST(pois.f22_4) AS f22_4, FIRST(pois.f22_5) AS f22_5, \n",
    "  FIRST(pois.f23) AS f23, FIRST(pois.f23_1) AS f23_1, FIRST(pois.f23_2) AS f23_2, \n",
    "  FIRST(pois.f23_3) AS f23_3, FIRST(pois.f23_4) AS f23_4, FIRST(pois.f23_5) AS f23_5, \n",
    "  FIRST(pois.f23_6) AS f23_6, FIRST(pois.f24) AS f24, FIRST(pois.f24_1) AS f24_1, \n",
    "  FIRST(pois.f24_2) AS f24_2, FIRST(pois.f24_3) AS f24_3, FIRST(pois.f25) AS f25, \n",
    "  FIRST(pois.f25_1) AS f25_1, FIRST(pois.f25_3) AS f25_3, FIRST(pois.f25_7) AS f25_7, \n",
    "  FIRST(pois.f25_8) AS f25_8, FIRST(pois.f25_9) AS f25_9, FIRST(pois.f2_1) AS f2_1, \n",
    "  FIRST(pois.f2_10) AS f2_10, FIRST(pois.f2_11) AS f2_11, FIRST(pois.f2_12) AS f2_12, \n",
    "  FIRST(pois.f2_13) AS f2_13, FIRST(pois.f2_2) AS f2_2, FIRST(pois.f2_4) AS f2_4, \n",
    "  FIRST(pois.f2_5) AS f2_5, FIRST(pois.f2_6) AS f2_6, FIRST(pois.f2_7) AS f2_7, \n",
    "  FIRST(pois.f2_8) AS f2_8, FIRST(pois.f3_1) AS f3_1, FIRST(pois.f3_2) AS f3_2, \n",
    "  FIRST(pois.f3_3) AS f3_3, FIRST(pois.f4) AS f4, FIRST(pois.f4_1) AS f4_1, \n",
    "  FIRST(pois.f4_10) AS f4_10, FIRST(pois.f4_11) AS f4_11, FIRST(pois.f4_13) AS f4_13, \n",
    "  FIRST(pois.f4_14) AS f4_14, FIRST(pois.f4_16) AS f4_16, FIRST(pois.f4_17) AS f4_17, \n",
    "  FIRST(pois.f4_18) AS f4_18, FIRST(pois.f4_2) AS f4_2, FIRST(pois.f4_3) AS f4_3, \n",
    "  FIRST(pois.f4_5) AS f4_5, FIRST(pois.f4_6) AS f4_6, FIRST(pois.f4_7) AS f4_7, \n",
    "  FIRST(pois.f4_8) AS f4_8, FIRST(pois.f4_9) AS f4_9, FIRST(pois.f5) AS f5, \n",
    "  FIRST(pois.f5_1) AS f5_1, FIRST(pois.f5_3) AS f5_3, FIRST(pois.f5_4) AS f5_4, \n",
    "  FIRST(pois.f6) AS f6, FIRST(pois.f6_1) AS f6_1, FIRST(pois.f6_2) AS f6_2, \n",
    "  FIRST(pois.f6_4) AS f6_4, FIRST(pois.f7) AS f7, FIRST(pois.f8) AS f8, \n",
    "  FIRST(pois.f8_1) AS f8_1, FIRST(pois.f8_2) AS f8_2, FIRST(pois.f8_3) AS f8_3, \n",
    "  FIRST(pois.f8_4) AS f8_4, FIRST(pois.f8_5) AS f8_5,\n",
    "  FIRST(weather.weather) AS weather,\n",
    "  FIRST(weather.temperature) AS weather_temperature, FIRST(weather.pm25) AS weather_pm25,\n",
    "  FIRST(traffic.tj_level1) AS traffic_tj_level1, FIRST(traffic.tj_level2) AS traffic_tj_level2,\n",
    "  FIRST(traffic.tj_level3) AS traffic_tj_level3, FIRST(traffic.tj_level4) AS traffic_tj_level4\n",
    "FROM [datalab-projects-1331:xjk_algo_comp.future_gaps] as gaps\n",
    "LEFT JOIN [datalab-projects-1331:xjk_algo_comp.districts] as districts\n",
    "  ON districts.district_id = gaps.district_id\n",
    "LEFT JOIN [datalab-projects-1331:xjk_algo_comp.pois] as pois\n",
    "  ON pois.district_hash = districts.district_hash\n",
    "LEFT JOIN [datalab-projects-1331:xjk_algo_comp.weather] as weather\n",
    "  ON weather.timeslot = gaps.timeslot\n",
    "LEFT JOIN [datalab-projects-1331:xjk_algo_comp.traffic] as traffic\n",
    "  ON traffic.timeslot = gaps.timeslot\n",
    "  AND traffic.district_hash = districts.district_hash\n",
    "GROUP BY gaps.district_id, gaps.timeslot"
   ]
  },
  {
   "cell_type": "markdown",
   "metadata": {},
   "source": [
    "# PCA\n",
    "Combine POIs (features starting with 'f...') into n number of features."
   ]
  },
  {
   "cell_type": "code",
   "execution_count": null,
   "metadata": {
    "collapsed": false
   },
   "outputs": [],
   "source": [
    "pois = \"\"\"\n",
    "f1\tf11\tf11_1\tf11_2\tf11_3\tf11_4\tf11_5\tf11_6\tf11_7\tf11_8\tf13_4\tf13_8\t\n",
    "f14\tf14_1\tf14_10\tf14_2\tf14_3\tf14_6\tf14_8\tf15\tf15_1\tf15_2\tf15_3\tf15_4\t\n",
    "f15_6\tf15_7\tf15_8\tf16\tf16_1\tf16_10\tf16_11\tf16_12\tf16_3\tf16_4\tf16_6\tf17\t\n",
    "f17_2\tf17_3\tf17_4\tf17_5\tf19\tf19_1\tf19_2\tf19_3\tf19_4\tf1_1\tf1_10\tf1_11\t\n",
    "f1_2\tf1_3\tf1_4\tf1_5\tf1_6\tf1_7\tf1_8\tf20\tf20_1\tf20_2\tf20_4\tf20_5\t\n",
    "f20_6\tf20_7\tf20_8\tf20_9\tf21_1\tf21_2\tf22\tf22_1\tf22_2\tf22_3\tf22_4\tf22_5\t\n",
    "f23\tf23_1\tf23_2\tf23_3\tf23_4\tf23_5\tf23_6\tf24\tf24_1\tf24_2\tf24_3\tf25\tf25_1\t\n",
    "f25_3\tf25_7\tf25_8\tf25_9\tf2_1\tf2_10\tf2_11\tf2_12\tf2_13\tf2_2\tf2_4\tf2_5\t\n",
    "f2_6\tf2_7\tf2_8\tf3_1\tf3_2\tf3_3\tf4\tf4_1\tf4_10\tf4_11\tf4_13\tf4_14\t\n",
    "f4_16\tf4_17\tf4_18\tf4_2\tf4_3\tf4_5\tf4_6\tf4_7\tf4_8\tf4_9\tf5\tf5_1\t\n",
    "f5_3\tf5_4\tf6\tf6_1\tf6_2\tf6_4\tf7\tf8\tf8_1\tf8_2\tf8_3\tf8_4\tf8_5\n",
    "\"\"\"\n",
    "pois = map(lambda x: \"{}\".format(x.strip()), pois.split('\\t'))\n",
    "print(pois)"
   ]
  },
  {
   "cell_type": "code",
   "execution_count": null,
   "metadata": {
    "collapsed": true
   },
   "outputs": [],
   "source": [
    "%%sql --module q\n",
    "SELECT * FROM [datalab-projects-1331:xjk_algo_comp.future_gaps_processed]"
   ]
  },
  {
   "cell_type": "code",
   "execution_count": null,
   "metadata": {
    "collapsed": false
   },
   "outputs": [],
   "source": [
    "query = bq.Query(q)\n",
    "tableresult = query.results()"
   ]
  },
  {
   "cell_type": "code",
   "execution_count": null,
   "metadata": {
    "collapsed": false
   },
   "outputs": [],
   "source": [
    "poi_fields = ['f1', 'f11', 'f11_1', 'f11_2', 'f11_3', 'f11_4', 'f11_5', 'f11_6', 'f11_7', 'f11_8',\n",
    "              'f13_4', 'f13_8', 'f14', 'f14_1', 'f14_10', 'f14_2', 'f14_3', 'f14_6', 'f14_8', 'f15',\n",
    "              'f15_1', 'f15_2', 'f15_3', 'f15_4', 'f15_6', 'f15_7', 'f15_8', 'f16', 'f16_1', 'f16_10',\n",
    "              'f16_11', 'f16_12', 'f16_3', 'f16_4', 'f16_6', 'f17', 'f17_2', 'f17_3', 'f17_4', 'f17_5',\n",
    "              'f19', 'f19_1', 'f19_2', 'f19_3', 'f19_4', 'f1_1', 'f1_10', 'f1_11', 'f1_2', 'f1_3', 'f1_4',\n",
    "              'f1_5', 'f1_6', 'f1_7', 'f1_8', 'f20', 'f20_1', 'f20_2', 'f20_4', 'f20_5', 'f20_6', 'f20_7',\n",
    "              'f20_8', 'f20_9', 'f21_1', 'f21_2', 'f22', 'f22_1', 'f22_2', 'f22_3', 'f22_4', 'f22_5',\n",
    "              'f23', 'f23_1', 'f23_2', 'f23_3', 'f23_4', 'f23_5', 'f23_6', 'f24', 'f24_1', 'f24_2',\n",
    "              'f24_3', 'f25', 'f25_1', 'f25_3', 'f25_7', 'f25_8', 'f25_9', 'f2_1', 'f2_10', 'f2_11',\n",
    "              'f2_12', 'f2_13', 'f2_2', 'f2_4', 'f2_5', 'f2_6', 'f2_7', 'f2_8', 'f3_1', 'f3_2', 'f3_3',\n",
    "              'f4', 'f4_1', 'f4_10', 'f4_11', 'f4_13', 'f4_14', 'f4_16', 'f4_17', 'f4_18', 'f4_2',\n",
    "              'f4_3', 'f4_5', 'f4_6', 'f4_7', 'f4_8', 'f4_9', 'f5', 'f5_1', 'f5_3', 'f5_4', 'f6', 'f6_1',\n",
    "              'f6_2', 'f6_4', 'f7', 'f8', 'f8_1', 'f8_2', 'f8_3', 'f8_4', 'f8_5']\n",
    "all_fields = tableresult[0].keys()\n",
    "all_data = []\n",
    "pois_data = np.zeros((tableresult.length, len(poi_fields)))\n",
    "print 'there are {} rows'.format(tableresult.length)\n",
    "for rcounter, row in enumerate(tableresult):\n",
    "  for fcounter, field in enumerate(poi_fields):\n",
    "    pois_data[rcounter, fcounter] = row.pop(field, None)\n",
    "  all_data.append(row)\n",
    "  if rcounter % 5000 == 0:\n",
    "    print 'processed {} rows'.format(rcounter)"
   ]
  },
  {
   "cell_type": "code",
   "execution_count": null,
   "metadata": {
    "collapsed": true
   },
   "outputs": [],
   "source": [
    "pca = PCA(n_components=5)\n",
    "pois_data_s = pca.fit_transform(pois_data)"
   ]
  },
  {
   "cell_type": "code",
   "execution_count": null,
   "metadata": {
    "collapsed": false
   },
   "outputs": [],
   "source": [
    "for rcounter, row in enumerate(all_data):\n",
    "  for index in range(pois_data_s.shape[1]):\n",
    "    all_data[rcounter]['poi{}'.format(index+1)] = pois_data_s[rcounter, index]"
   ]
  },
  {
   "cell_type": "code",
   "execution_count": null,
   "metadata": {
    "collapsed": false
   },
   "outputs": [],
   "source": [
    "schema = bq.Schema([\n",
    "    {'name': 'district_id', 'type': 'INTEGER'},\n",
    "    {'name': 'timeslot', 'type': 'STRING'},\n",
    "    {'name': 'date', 'type': 'STRING'},\n",
    "    {'name': 'timeofday_slot', 'type': 'INTEGER'},\n",
    "    {'name': 'day_in_week', 'type': 'INTEGER'},\n",
    "    {'name': 'is_sunday', 'type': 'INTEGER'},\n",
    "    {'name': 'sum_price', 'type': 'FLOAT'},\n",
    "    {'name': 'avg_price', 'type': 'FLOAT'},\n",
    "    {'name': 'poi1', 'type': 'FLOAT'},\n",
    "    {'name': 'poi2', 'type': 'FLOAT'},\n",
    "    {'name': 'poi3', 'type': 'FLOAT'},\n",
    "    {'name': 'poi4', 'type': 'FLOAT'},\n",
    "    {'name': 'poi5', 'type': 'FLOAT'},\n",
    "    {'name': 'traffic_tj_level1', 'type': 'INTEGER'},\n",
    "    {'name': 'traffic_tj_level2', 'type': 'INTEGER'},\n",
    "    {'name': 'traffic_tj_level3', 'type': 'INTEGER'},\n",
    "    {'name': 'traffic_tj_level4', 'type': 'INTEGER'},\n",
    "    {'name': 'weather', 'type': 'INTEGER'},\n",
    "    {'name': 'weather_pm25', 'type': 'FLOAT'},\n",
    "    {'name': 'weather_temperature', 'type': 'FLOAT'},\n",
    "    {'name': 'gap', 'type': 'INTEGER'}\n",
    "])\n",
    "table = bq.Table('datalab-projects-1331:xjk_algo_comp.future_gaps_final1')\n",
    "table.create(schema)\n",
    "table.insert_data(all_data)"
   ]
  },
  {
   "cell_type": "markdown",
   "metadata": {},
   "source": [
    "# Previous Gap\n",
    "Add `previous_gap` field to data."
   ]
  },
  {
   "cell_type": "code",
   "execution_count": 9,
   "metadata": {
    "collapsed": true
   },
   "outputs": [],
   "source": [
    "%%sql --module q\n",
    "\n",
    "SELECT *\n",
    "FROM [datalab-projects-1331:xjk_algo_comp.future_gaps_final1]\n",
    "ORDER BY timeslot, district_id"
   ]
  },
  {
   "cell_type": "code",
   "execution_count": 11,
   "metadata": {
    "collapsed": false
   },
   "outputs": [
    {
     "name": "stdout",
     "output_type": "stream",
     "text": [
      "there are 163491 rows\n",
      "processed 0 rows\n",
      "processed 5000 rows\n",
      "processed 10000 rows\n",
      "processed 15000 rows\n",
      "processed 20000 rows\n",
      "processed 25000 rows\n",
      "processed 30000 rows\n",
      "processed 35000 rows\n",
      "processed 40000 rows\n",
      "processed 45000 rows\n",
      "processed 50000 rows\n",
      "processed 55000 rows\n",
      "processed 60000 rows\n",
      "processed 65000 rows\n",
      "processed 70000 rows\n",
      "processed 75000 rows\n",
      "processed 80000 rows\n",
      "processed 85000 rows\n",
      "processed 90000 rows\n",
      "processed 95000 rows\n",
      "processed 100000 rows\n",
      "processed 105000 rows\n",
      "processed 110000 rows\n",
      "processed 115000 rows\n",
      "processed 120000 rows\n",
      "processed 125000 rows\n",
      "processed 130000 rows\n",
      "processed 135000 rows\n",
      "processed 140000 rows\n",
      "processed 145000 rows\n",
      "processed 150000 rows\n",
      "processed 155000 rows\n",
      "processed 160000 rows\n"
     ]
    }
   ],
   "source": [
    "query = bq.Query(q)\n",
    "tableresult = query.results()\n",
    "\n",
    "previous_gaps = {}\n",
    "print 'there are {} rows'.format(tableresult.length)\n",
    "for rcounter, row in enumerate(tableresult):\n",
    "  previous_gaps['{}:{}'.format(row['timeslot'], row['district_id'])] = row['gap']\n",
    "  if rcounter % 5000 == 0:\n",
    "    print 'processed {} rows'.format(rcounter)"
   ]
  },
  {
   "cell_type": "code",
   "execution_count": 20,
   "metadata": {
    "collapsed": false
   },
   "outputs": [
    {
     "name": "stdout",
     "output_type": "stream",
     "text": [
      "there are 163491 rows\n",
      "processed 0 rows\n",
      "processed 5000 rows\n",
      "processed 10000 rows\n",
      "processed 15000 rows\n",
      "processed 20000 rows\n",
      "processed 25000 rows\n",
      "processed 30000 rows\n",
      "processed 35000 rows\n",
      "processed 40000 rows\n",
      "processed 45000 rows\n",
      "processed 50000 rows\n",
      "processed 55000 rows\n",
      "processed 60000 rows\n",
      "processed 65000 rows\n",
      "processed 70000 rows\n",
      "processed 75000 rows\n",
      "processed 80000 rows\n",
      "processed 85000 rows\n",
      "processed 90000 rows\n",
      "processed 95000 rows\n",
      "processed 100000 rows\n",
      "processed 105000 rows\n",
      "processed 110000 rows\n",
      "processed 115000 rows\n",
      "processed 120000 rows\n",
      "processed 125000 rows\n",
      "processed 130000 rows\n",
      "processed 135000 rows\n",
      "processed 140000 rows\n",
      "processed 145000 rows\n",
      "processed 150000 rows\n",
      "processed 155000 rows\n",
      "processed 160000 rows\n"
     ]
    }
   ],
   "source": [
    "prev_n_range = 5\n",
    "all_data = []\n",
    "print 'there are {} rows'.format(tableresult.length)\n",
    "for rcounter, row in enumerate(tableresult):\n",
    "  timeslot_r = map(lambda x: int(x), row['timeslot'].split('-'))\n",
    "  for prev_n in range()\n",
    "  slot = timeslot_r[3] - 1\n",
    "  date_obj = date(timeslot_r[0], timeslot_r[1], timeslot_r[2])\n",
    "  if slot <= 0:\n",
    "    slot = 144\n",
    "    date_obj = date_obj - timedelta(days=1)\n",
    "  prev_timestamp = '{}-{}-{}-{}'.format(\n",
    "    date_obj.year, str(date_obj.month).zfill(2), str(date_obj.day).zfill(2), slot)\n",
    "  prev_index = '{}:{}'.format(prev_timestamp, row['district_id'])\n",
    "  row['previous_gap'] = 0\n",
    "  if prev_index in previous_gaps:\n",
    "    row['previous_gap'] = previous_gaps[prev_index]\n",
    "  all_data.append(row)\n",
    "  if rcounter % 5000 == 0:\n",
    "    print 'processed {} rows'.format(rcounter)"
   ]
  },
  {
   "cell_type": "code",
   "execution_count": 25,
   "metadata": {
    "collapsed": false
   },
   "outputs": [
    {
     "data": {
      "text/html": [
       "\n",
       "    <div class=\"bqtv\" id=\"1_146575609590\"><table><tr><th>district_id</th><th>timeslot</th><th>date</th><th>timeofday_slot</th><th>day_in_week</th><th>is_sunday</th><th>sum_price</th><th>avg_price</th><th>poi1</th><th>poi2</th><th>poi3</th><th>poi4</th><th>poi5</th><th>traffic_tj_level1</th><th>traffic_tj_level2</th><th>traffic_tj_level3</th><th>traffic_tj_level4</th><th>weather</th><th>weather_pm25</th><th>weather_temperature</th><th>previous_gap</th><th>gap</th></tr><tr><td>20</td><td>2016-01-15-121</td><td>2016-01-15</td><td>121</td><td>5</td><td>0</td><td>2252.9</td><td>14.5348387097</td><td>-29369.221533</td><td>-4388.81043264</td><td>16971.0911119</td><td>774.884329289</td><td>-9202.18006576</td><td>1040</td><td>235</td><td>61</td><td>32</td><td>2</td><td>90.0</td><td>7.0</td><td>2</td><td>6</td></tr><tr><td>5</td><td>2016-01-02-3</td><td>2016-01-02</td><td>3</td><td>6</td><td>0</td><td>21.0</td><td>10.5</td><td>-67141.5911136</td><td>-2070.58480976</td><td>-5449.47599653</td><td>-8630.63260495</td><td>2999.47987894</td><td>93</td><td>7</td><td>1</td><td>0</td><td>2</td><td>131.0</td><td>8.0</td><td>0</td><td>2</td></tr><tr><td>1</td><td>2016-01-02-74</td><td>2016-01-02</td><td>74</td><td>6</td><td>0</td><td>1626.8</td><td>11.2193103448</td><td>48245.8900598</td><td>-341.806380342</td><td>8231.71262987</td><td>29193.6731936</td><td>4288.37478157</td><td>1442</td><td>341</td><td>94</td><td>86</td><td>9</td><td>167.0</td><td>15.0</td><td>4</td><td>4</td></tr><tr><td>66</td><td>2016-01-10-102</td><td>2016-01-10</td><td>102</td><td>0</td><td>1</td><td>527.0</td><td>25.0952380952</td><td>-52646.4935158</td><td>4421.92221361</td><td>991.864182788</td><td>-1757.49739348</td><td>3384.41796185</td><td>289</td><td>75</td><td>19</td><td>12</td><td>4</td><td>180.0</td><td>7.0</td><td>0</td><td>0</td></tr><tr><td>56</td><td>2016-01-20-86</td><td>2016-01-20</td><td>86</td><td>3</td><td>0</td><td>138.7</td><td>19.8142857143</td><td>-62654.031676</td><td>6028.48480374</td><td>-4445.54885145</td><td>-10283.3290636</td><td>5597.91594742</td><td>163</td><td>27</td><td>13</td><td>1</td><td>&nbsp;</td><td>&nbsp;</td><td>&nbsp;</td><td>0</td><td>1</td></tr><tr><td>51</td><td>2016-01-06-36</td><td>2016-01-06</td><td>36</td><td>3</td><td>0</td><td>900.0</td><td>29.0322580645</td><td>708222.866131</td><td>56252.6432525</td><td>45318.9443189</td><td>-31516.3520766</td><td>6643.82498022</td><td>3349</td><td>400</td><td>69</td><td>83</td><td>4</td><td>46.0</td><td>7.0</td><td>4</td><td>7</td></tr><tr><td>59</td><td>2016-01-01-80</td><td>2016-01-01</td><td>80</td><td>5</td><td>0</td><td>165.0</td><td>33.0</td><td>-64364.6353441</td><td>-1598.17517753</td><td>-6410.65516565</td><td>-7173.08461937</td><td>2429.5624518</td><td>167</td><td>52</td><td>13</td><td>6</td><td>2</td><td>232.0</td><td>10.0</td><td>2</td><td>1</td></tr><tr><td>31</td><td>2016-01-12-125</td><td>2016-01-12</td><td>125</td><td>2</td><td>0</td><td>176.0</td><td>19.5555555556</td><td>-55528.6688413</td><td>-3665.78773112</td><td>121.680839099</td><td>-5696.16021106</td><td>-1436.15863563</td><td>563</td><td>52</td><td>32</td><td>21</td><td>2</td><td>86.0</td><td>3.0</td><td>0</td><td>1</td></tr><tr><td>1</td><td>2016-01-05-84</td><td>2016-01-05</td><td>84</td><td>2</td><td>0</td><td>1644.7</td><td>12.0051094891</td><td>48245.8900598</td><td>-341.806380342</td><td>8231.71262987</td><td>29193.6731936</td><td>4288.37478157</td><td>1544</td><td>364</td><td>88</td><td>113</td><td>4</td><td>34.0</td><td>8.0</td><td>3</td><td>7</td></tr><tr><td>41</td><td>2016-01-16-141</td><td>2016-01-16</td><td>141</td><td>6</td><td>0</td><td>147.0</td><td>36.75</td><td>-63794.1683046</td><td>-2381.66430634</td><td>-3549.84942555</td><td>-7280.20851261</td><td>1028.16747064</td><td>253</td><td>44</td><td>7</td><td>4</td><td>4</td><td>108.0</td><td>7.0</td><td>0</td><td>1</td></tr><tr><td>45</td><td>2016-01-16-135</td><td>2016-01-16</td><td>135</td><td>6</td><td>0</td><td>35.5</td><td>8.875</td><td>-66735.1264469</td><td>-3337.61570672</td><td>-5161.29421015</td><td>-10325.8106081</td><td>2348.68012892</td><td>109</td><td>14</td><td>2</td><td>1</td><td>&nbsp;</td><td>&nbsp;</td><td>&nbsp;</td><td>0</td><td>0</td></tr><tr><td>58</td><td>2016-01-16-136</td><td>2016-01-16</td><td>136</td><td>6</td><td>0</td><td>138.0</td><td>23.0</td><td>-64227.7681026</td><td>-2781.68340986</td><td>-2423.97865573</td><td>-6508.8479544</td><td>-359.594687569</td><td>198</td><td>43</td><td>5</td><td>6</td><td>4</td><td>113.0</td><td>8.0</td><td>5</td><td>2</td></tr><tr><td>29</td><td>2016-01-01-2</td><td>2016-01-01</td><td>2</td><td>5</td><td>0</td><td>276.0</td><td>21.2307692308</td><td>-47097.0663665</td><td>3307.05605661</td><td>7418.35302358</td><td>3174.13059945</td><td>-3171.53771642</td><td>666</td><td>183</td><td>41</td><td>30</td><td>1</td><td>177.0</td><td>3.0</td><td>0</td><td>0</td></tr><tr><td>21</td><td>2016-01-06-95</td><td>2016-01-06</td><td>95</td><td>3</td><td>0</td><td>983.7</td><td>12.6115384615</td><td>-7961.09113226</td><td>-11508.7412803</td><td>-23975.3366729</td><td>6447.47422405</td><td>15754.4322921</td><td>836</td><td>123</td><td>32</td><td>29</td><td>4</td><td>69.0</td><td>8.0</td><td>4</td><td>5</td></tr><tr><td>30</td><td>2016-01-01-75</td><td>2016-01-01</td><td>75</td><td>5</td><td>0</td><td>52.0</td><td>13.0</td><td>-60469.4159806</td><td>665.37872562</td><td>-599.111905385</td><td>-5799.07729084</td><td>1796.70349854</td><td>107</td><td>14</td><td>12</td><td>8</td><td>2</td><td>229.0</td><td>8.0</td><td>2</td><td>1</td></tr><tr><td>9</td><td>2016-01-08-121</td><td>2016-01-08</td><td>121</td><td>5</td><td>0</td><td>370.8</td><td>13.7333333333</td><td>-47755.8885294</td><td>7847.17088075</td><td>-130.034425638</td><td>3424.89469206</td><td>8146.27641188</td><td>572</td><td>121</td><td>36</td><td>22</td><td>2</td><td>113.0</td><td>5.0</td><td>1</td><td>1</td></tr><tr><td>28</td><td>2016-01-15-16</td><td>2016-01-15</td><td>16</td><td>5</td><td>0</td><td>203.0</td><td>18.4545454545</td><td>16820.5263554</td><td>-4039.83206677</td><td>-11239.117798</td><td>16800.5024686</td><td>14677.9847326</td><td>830</td><td>134</td><td>42</td><td>22</td><td>3</td><td>188.0</td><td>5.0</td><td>0</td><td>2</td></tr><tr><td>60</td><td>2016-01-20-120</td><td>2016-01-20</td><td>120</td><td>3</td><td>0</td><td>53.0</td><td>17.6666666667</td><td>-66761.3724892</td><td>-2538.88204255</td><td>-4796.53947855</td><td>-8817.95570495</td><td>2271.60862384</td><td>&nbsp;</td><td>&nbsp;</td><td>&nbsp;</td><td>&nbsp;</td><td>&nbsp;</td><td>&nbsp;</td><td>&nbsp;</td><td>1</td><td>0</td></tr><tr><td>37</td><td>2016-01-04-51</td><td>2016-01-04</td><td>51</td><td>1</td><td>0</td><td>4804.8</td><td>8.91428571429</td><td>73878.6693096</td><td>7546.69860008</td><td>5382.95571638</td><td>33172.5543816</td><td>-12937.4034227</td><td>1344</td><td>390</td><td>120</td><td>101</td><td>8</td><td>208.0</td><td>12.0</td><td>384</td><td>396</td></tr><tr><td>8</td><td>2016-01-07-37</td><td>2016-01-07</td><td>37</td><td>4</td><td>0</td><td>534.0</td><td>29.6666666667</td><td>272662.311567</td><td>-47763.1985915</td><td>-8298.80475429</td><td>19828.326286</td><td>8690.55846578</td><td>1986</td><td>169</td><td>48</td><td>76</td><td>4</td><td>107.0</td><td>7.0</td><td>6</td><td>4</td></tr><tr><td>35</td><td>2016-01-10-124</td><td>2016-01-10</td><td>124</td><td>0</td><td>1</td><td>185.8</td><td>30.9666666667</td><td>-62108.4053743</td><td>-1597.45404092</td><td>-2281.34151762</td><td>-5367.7204698</td><td>131.70449485</td><td>233</td><td>44</td><td>6</td><td>8</td><td>4</td><td>148.0</td><td>7.0</td><td>0</td><td>1</td></tr><tr><td>41</td><td>2016-01-17-122</td><td>2016-01-17</td><td>122</td><td>0</td><td>1</td><td>146.0</td><td>24.3333333333</td><td>-63794.1683046</td><td>-2381.66430634</td><td>-3549.84942555</td><td>-7280.20851261</td><td>1028.16747064</td><td>256</td><td>53</td><td>17</td><td>11</td><td>4</td><td>106.0</td><td>4.0</td><td>1</td><td>0</td></tr><tr><td>46</td><td>2016-01-03-31</td><td>2016-01-03</td><td>31</td><td>0</td><td>1</td><td>226.0</td><td>37.6666666667</td><td>18767.1616569</td><td>2451.15879754</td><td>16298.0717158</td><td>22162.1266474</td><td>1191.45309531</td><td>579</td><td>87</td><td>37</td><td>31</td><td>4</td><td>148.0</td><td>10.0</td><td>4</td><td>2</td></tr><tr><td>64</td><td>2016-01-18-10</td><td>2016-01-18</td><td>10</td><td>1</td><td>0</td><td>8.0</td><td>8.0</td><td>-37490.7902772</td><td>17372.1863673</td><td>1128.36211179</td><td>926.566058587</td><td>-4135.29875105</td><td>364</td><td>27</td><td>13</td><td>6</td><td>3</td><td>82.0</td><td>3.0</td><td>0</td><td>0</td></tr><tr><td>51</td><td>2016-01-18-56</td><td>2016-01-18</td><td>56</td><td>1</td><td>0</td><td>6881.1</td><td>16.7831707317</td><td>708222.866131</td><td>56252.6432525</td><td>45318.9443189</td><td>-31516.3520766</td><td>6643.82498022</td><td>3559</td><td>1673</td><td>418</td><td>238</td><td>2</td><td>153.0</td><td>4.0</td><td>18</td><td>14</td></tr></table></div>\n",
       "    <br />(rows: 0, datalab-projects-1331:xjk_algo_comp.future_gaps_final2)<br />\n",
       "    <script>\n",
       "      require(['extensions/charting', 'element!1_146575609590', 'style!/static/extensions/charting.css'],\n",
       "        function(charts, dom) {\n",
       "          charts.render(dom,\n",
       "            {\n",
       "              chartStyle:\"table\",\n",
       "              dataName:\"0\",\n",
       "              fields:\"district_id,timeslot,date,timeofday_slot,day_in_week,is_sunday,sum_price,avg_price,poi1,poi2,poi3,poi4,poi5,traffic_tj_level1,traffic_tj_level2,traffic_tj_level3,traffic_tj_level4,weather,weather_pm25,weather_temperature,previous_gap,gap\",\n",
       "              totalRows:0,\n",
       "              rowsPerPage:25,\n",
       "            }, {}, {\"rows\": [{\"c\": [{\"v\": 20}, {\"v\": \"2016-01-15-121\"}, {\"v\": \"2016-01-15\"}, {\"v\": 121}, {\"v\": 5}, {\"v\": 0}, {\"v\": 2252.9000000000005}, {\"v\": 14.534838709677423}, {\"v\": -29369.221533006694}, {\"v\": -4388.810432640775}, {\"v\": 16971.091111949005}, {\"v\": 774.8843292892159}, {\"v\": -9202.180065764165}, {\"v\": 1040}, {\"v\": 235}, {\"v\": 61}, {\"v\": 32}, {\"v\": 2}, {\"v\": 90.0}, {\"v\": 7.0}, {\"v\": 2}, {\"v\": 6}]}, {\"c\": [{\"v\": 5}, {\"v\": \"2016-01-02-3\"}, {\"v\": \"2016-01-02\"}, {\"v\": 3}, {\"v\": 6}, {\"v\": 0}, {\"v\": 21.0}, {\"v\": 10.5}, {\"v\": -67141.59111360085}, {\"v\": -2070.5848097573657}, {\"v\": -5449.475996527105}, {\"v\": -8630.632604950304}, {\"v\": 2999.479878942455}, {\"v\": 93}, {\"v\": 7}, {\"v\": 1}, {\"v\": 0}, {\"v\": 2}, {\"v\": 131.0}, {\"v\": 8.0}, {\"v\": 0}, {\"v\": 2}]}, {\"c\": [{\"v\": 1}, {\"v\": \"2016-01-02-74\"}, {\"v\": \"2016-01-02\"}, {\"v\": 74}, {\"v\": 6}, {\"v\": 0}, {\"v\": 1626.8}, {\"v\": 11.219310344827585}, {\"v\": 48245.89005979162}, {\"v\": -341.80638034240724}, {\"v\": 8231.712629865922}, {\"v\": 29193.673193590483}, {\"v\": 4288.374781572557}, {\"v\": 1442}, {\"v\": 341}, {\"v\": 94}, {\"v\": 86}, {\"v\": 9}, {\"v\": 167.0}, {\"v\": 15.0}, {\"v\": 4}, {\"v\": 4}]}, {\"c\": [{\"v\": 66}, {\"v\": \"2016-01-10-102\"}, {\"v\": \"2016-01-10\"}, {\"v\": 102}, {\"v\": 0}, {\"v\": 1}, {\"v\": 527.0}, {\"v\": 25.095238095238095}, {\"v\": -52646.493515755064}, {\"v\": 4421.922213608454}, {\"v\": 991.8641827878794}, {\"v\": -1757.4973934781292}, {\"v\": 3384.4179618456346}, {\"v\": 289}, {\"v\": 75}, {\"v\": 19}, {\"v\": 12}, {\"v\": 4}, {\"v\": 180.0}, {\"v\": 7.0}, {\"v\": 0}, {\"v\": 0}]}, {\"c\": [{\"v\": 56}, {\"v\": \"2016-01-20-86\"}, {\"v\": \"2016-01-20\"}, {\"v\": 86}, {\"v\": 3}, {\"v\": 0}, {\"v\": 138.7}, {\"v\": 19.814285714285713}, {\"v\": -62654.031675997874}, {\"v\": 6028.484803735022}, {\"v\": -4445.548851447891}, {\"v\": -10283.329063610014}, {\"v\": 5597.915947424435}, {\"v\": 163}, {\"v\": 27}, {\"v\": 13}, {\"v\": 1}, {\"v\": null}, {\"v\": null}, {\"v\": null}, {\"v\": 0}, {\"v\": 1}]}, {\"c\": [{\"v\": 51}, {\"v\": \"2016-01-06-36\"}, {\"v\": \"2016-01-06\"}, {\"v\": 36}, {\"v\": 3}, {\"v\": 0}, {\"v\": 900.0}, {\"v\": 29.032258064516128}, {\"v\": 708222.8661305557}, {\"v\": 56252.64325249546}, {\"v\": 45318.94431890442}, {\"v\": -31516.352076592088}, {\"v\": 6643.824980215071}, {\"v\": 3349}, {\"v\": 400}, {\"v\": 69}, {\"v\": 83}, {\"v\": 4}, {\"v\": 46.0}, {\"v\": 7.0}, {\"v\": 4}, {\"v\": 7}]}, {\"c\": [{\"v\": 59}, {\"v\": \"2016-01-01-80\"}, {\"v\": \"2016-01-01\"}, {\"v\": 80}, {\"v\": 5}, {\"v\": 0}, {\"v\": 165.0}, {\"v\": 33.0}, {\"v\": -64364.635344067996}, {\"v\": -1598.1751775255598}, {\"v\": -6410.655165648449}, {\"v\": -7173.084619374977}, {\"v\": 2429.5624518000873}, {\"v\": 167}, {\"v\": 52}, {\"v\": 13}, {\"v\": 6}, {\"v\": 2}, {\"v\": 232.0}, {\"v\": 10.0}, {\"v\": 2}, {\"v\": 1}]}, {\"c\": [{\"v\": 31}, {\"v\": \"2016-01-12-125\"}, {\"v\": \"2016-01-12\"}, {\"v\": 125}, {\"v\": 2}, {\"v\": 0}, {\"v\": 176.0}, {\"v\": 19.555555555555557}, {\"v\": -55528.66884130713}, {\"v\": -3665.7877311167153}, {\"v\": 121.6808390985545}, {\"v\": -5696.160211060884}, {\"v\": -1436.1586356324203}, {\"v\": 563}, {\"v\": 52}, {\"v\": 32}, {\"v\": 21}, {\"v\": 2}, {\"v\": 86.0}, {\"v\": 3.0}, {\"v\": 0}, {\"v\": 1}]}, {\"c\": [{\"v\": 1}, {\"v\": \"2016-01-05-84\"}, {\"v\": \"2016-01-05\"}, {\"v\": 84}, {\"v\": 2}, {\"v\": 0}, {\"v\": 1644.6999999999998}, {\"v\": 12.005109489051094}, {\"v\": 48245.89005979162}, {\"v\": -341.80638034240724}, {\"v\": 8231.712629865922}, {\"v\": 29193.673193590483}, {\"v\": 4288.374781572557}, {\"v\": 1544}, {\"v\": 364}, {\"v\": 88}, {\"v\": 113}, {\"v\": 4}, {\"v\": 34.0}, {\"v\": 8.0}, {\"v\": 3}, {\"v\": 7}]}, {\"c\": [{\"v\": 41}, {\"v\": \"2016-01-16-141\"}, {\"v\": \"2016-01-16\"}, {\"v\": 141}, {\"v\": 6}, {\"v\": 0}, {\"v\": 147.0}, {\"v\": 36.75}, {\"v\": -63794.1683045981}, {\"v\": -2381.6643063379875}, {\"v\": -3549.849425554242}, {\"v\": -7280.208512607691}, {\"v\": 1028.1674706444596}, {\"v\": 253}, {\"v\": 44}, {\"v\": 7}, {\"v\": 4}, {\"v\": 4}, {\"v\": 108.0}, {\"v\": 7.0}, {\"v\": 0}, {\"v\": 1}]}, {\"c\": [{\"v\": 45}, {\"v\": \"2016-01-16-135\"}, {\"v\": \"2016-01-16\"}, {\"v\": 135}, {\"v\": 6}, {\"v\": 0}, {\"v\": 35.5}, {\"v\": 8.875}, {\"v\": -66735.12644689214}, {\"v\": -3337.615706720996}, {\"v\": -5161.294210154281}, {\"v\": -10325.810608069978}, {\"v\": 2348.6801289249465}, {\"v\": 109}, {\"v\": 14}, {\"v\": 2}, {\"v\": 1}, {\"v\": null}, {\"v\": null}, {\"v\": null}, {\"v\": 0}, {\"v\": 0}]}, {\"c\": [{\"v\": 58}, {\"v\": \"2016-01-16-136\"}, {\"v\": \"2016-01-16\"}, {\"v\": 136}, {\"v\": 6}, {\"v\": 0}, {\"v\": 138.0}, {\"v\": 23.0}, {\"v\": -64227.7681026366}, {\"v\": -2781.683409864666}, {\"v\": -2423.978655731152}, {\"v\": -6508.847954398299}, {\"v\": -359.5946875690494}, {\"v\": 198}, {\"v\": 43}, {\"v\": 5}, {\"v\": 6}, {\"v\": 4}, {\"v\": 113.0}, {\"v\": 8.0}, {\"v\": 5}, {\"v\": 2}]}, {\"c\": [{\"v\": 29}, {\"v\": \"2016-01-01-2\"}, {\"v\": \"2016-01-01\"}, {\"v\": 2}, {\"v\": 5}, {\"v\": 0}, {\"v\": 276.0}, {\"v\": 21.23076923076923}, {\"v\": -47097.06636653798}, {\"v\": 3307.0560566067043}, {\"v\": 7418.353023578275}, {\"v\": 3174.1305994501704}, {\"v\": -3171.53771641945}, {\"v\": 666}, {\"v\": 183}, {\"v\": 41}, {\"v\": 30}, {\"v\": 1}, {\"v\": 177.0}, {\"v\": 3.0}, {\"v\": 0}, {\"v\": 0}]}, {\"c\": [{\"v\": 21}, {\"v\": \"2016-01-06-95\"}, {\"v\": \"2016-01-06\"}, {\"v\": 95}, {\"v\": 3}, {\"v\": 0}, {\"v\": 983.7000000000002}, {\"v\": 12.611538461538464}, {\"v\": -7961.091132263672}, {\"v\": -11508.74128031313}, {\"v\": -23975.336672946476}, {\"v\": 6447.47422404655}, {\"v\": 15754.432292092706}, {\"v\": 836}, {\"v\": 123}, {\"v\": 32}, {\"v\": 29}, {\"v\": 4}, {\"v\": 69.0}, {\"v\": 8.0}, {\"v\": 4}, {\"v\": 5}]}, {\"c\": [{\"v\": 30}, {\"v\": \"2016-01-01-75\"}, {\"v\": \"2016-01-01\"}, {\"v\": 75}, {\"v\": 5}, {\"v\": 0}, {\"v\": 52.0}, {\"v\": 13.0}, {\"v\": -60469.415980600636}, {\"v\": 665.3787256203718}, {\"v\": -599.1119053847455}, {\"v\": -5799.077290838605}, {\"v\": 1796.703498536144}, {\"v\": 107}, {\"v\": 14}, {\"v\": 12}, {\"v\": 8}, {\"v\": 2}, {\"v\": 229.0}, {\"v\": 8.0}, {\"v\": 2}, {\"v\": 1}]}, {\"c\": [{\"v\": 9}, {\"v\": \"2016-01-08-121\"}, {\"v\": \"2016-01-08\"}, {\"v\": 121}, {\"v\": 5}, {\"v\": 0}, {\"v\": 370.7999999999999}, {\"v\": 13.733333333333329}, {\"v\": -47755.888529398544}, {\"v\": 7847.170880750486}, {\"v\": -130.03442563754814}, {\"v\": 3424.894692060525}, {\"v\": 8146.276411878912}, {\"v\": 572}, {\"v\": 121}, {\"v\": 36}, {\"v\": 22}, {\"v\": 2}, {\"v\": 113.0}, {\"v\": 5.0}, {\"v\": 1}, {\"v\": 1}]}, {\"c\": [{\"v\": 28}, {\"v\": \"2016-01-15-16\"}, {\"v\": \"2016-01-15\"}, {\"v\": 16}, {\"v\": 5}, {\"v\": 0}, {\"v\": 203.0}, {\"v\": 18.454545454545453}, {\"v\": 16820.526355399863}, {\"v\": -4039.8320667658554}, {\"v\": -11239.117798036088}, {\"v\": 16800.502468573173}, {\"v\": 14677.984732639436}, {\"v\": 830}, {\"v\": 134}, {\"v\": 42}, {\"v\": 22}, {\"v\": 3}, {\"v\": 188.0}, {\"v\": 5.0}, {\"v\": 0}, {\"v\": 2}]}, {\"c\": [{\"v\": 60}, {\"v\": \"2016-01-20-120\"}, {\"v\": \"2016-01-20\"}, {\"v\": 120}, {\"v\": 3}, {\"v\": 0}, {\"v\": 53.0}, {\"v\": 17.666666666666668}, {\"v\": -66761.37248919958}, {\"v\": -2538.882042550721}, {\"v\": -4796.539478553142}, {\"v\": -8817.955704947435}, {\"v\": 2271.6086238353123}, {\"v\": null}, {\"v\": null}, {\"v\": null}, {\"v\": null}, {\"v\": null}, {\"v\": null}, {\"v\": null}, {\"v\": 1}, {\"v\": 0}]}, {\"c\": [{\"v\": 37}, {\"v\": \"2016-01-04-51\"}, {\"v\": \"2016-01-04\"}, {\"v\": 51}, {\"v\": 1}, {\"v\": 0}, {\"v\": 4804.8}, {\"v\": 8.914285714285715}, {\"v\": 73878.66930958108}, {\"v\": 7546.698600081027}, {\"v\": 5382.955716384117}, {\"v\": 33172.55438164289}, {\"v\": -12937.403422663932}, {\"v\": 1344}, {\"v\": 390}, {\"v\": 120}, {\"v\": 101}, {\"v\": 8}, {\"v\": 208.0}, {\"v\": 12.0}, {\"v\": 384}, {\"v\": 396}]}, {\"c\": [{\"v\": 8}, {\"v\": \"2016-01-07-37\"}, {\"v\": \"2016-01-07\"}, {\"v\": 37}, {\"v\": 4}, {\"v\": 0}, {\"v\": 534.0}, {\"v\": 29.666666666666668}, {\"v\": 272662.31156683835}, {\"v\": -47763.19859145043}, {\"v\": -8298.804754286419}, {\"v\": 19828.32628601877}, {\"v\": 8690.55846577551}, {\"v\": 1986}, {\"v\": 169}, {\"v\": 48}, {\"v\": 76}, {\"v\": 4}, {\"v\": 107.0}, {\"v\": 7.0}, {\"v\": 6}, {\"v\": 4}]}, {\"c\": [{\"v\": 35}, {\"v\": \"2016-01-10-124\"}, {\"v\": \"2016-01-10\"}, {\"v\": 124}, {\"v\": 0}, {\"v\": 1}, {\"v\": 185.8}, {\"v\": 30.96666666666667}, {\"v\": -62108.40537426752}, {\"v\": -1597.4540409213016}, {\"v\": -2281.3415176206936}, {\"v\": -5367.720469804684}, {\"v\": 131.7044948496004}, {\"v\": 233}, {\"v\": 44}, {\"v\": 6}, {\"v\": 8}, {\"v\": 4}, {\"v\": 148.0}, {\"v\": 7.0}, {\"v\": 0}, {\"v\": 1}]}, {\"c\": [{\"v\": 41}, {\"v\": \"2016-01-17-122\"}, {\"v\": \"2016-01-17\"}, {\"v\": 122}, {\"v\": 0}, {\"v\": 1}, {\"v\": 146.0}, {\"v\": 24.333333333333332}, {\"v\": -63794.1683045981}, {\"v\": -2381.6643063379875}, {\"v\": -3549.849425554242}, {\"v\": -7280.208512607691}, {\"v\": 1028.1674706444596}, {\"v\": 256}, {\"v\": 53}, {\"v\": 17}, {\"v\": 11}, {\"v\": 4}, {\"v\": 106.0}, {\"v\": 4.0}, {\"v\": 1}, {\"v\": 0}]}, {\"c\": [{\"v\": 46}, {\"v\": \"2016-01-03-31\"}, {\"v\": \"2016-01-03\"}, {\"v\": 31}, {\"v\": 0}, {\"v\": 1}, {\"v\": 226.0}, {\"v\": 37.666666666666664}, {\"v\": 18767.16165687503}, {\"v\": 2451.1587975424773}, {\"v\": 16298.071715811115}, {\"v\": 22162.126647351284}, {\"v\": 1191.4530953054111}, {\"v\": 579}, {\"v\": 87}, {\"v\": 37}, {\"v\": 31}, {\"v\": 4}, {\"v\": 148.0}, {\"v\": 10.0}, {\"v\": 4}, {\"v\": 2}]}, {\"c\": [{\"v\": 64}, {\"v\": \"2016-01-18-10\"}, {\"v\": \"2016-01-18\"}, {\"v\": 10}, {\"v\": 1}, {\"v\": 0}, {\"v\": 8.0}, {\"v\": 8.0}, {\"v\": -37490.79027715142}, {\"v\": 17372.18636730356}, {\"v\": 1128.362111785697}, {\"v\": 926.5660585866817}, {\"v\": -4135.298751049407}, {\"v\": 364}, {\"v\": 27}, {\"v\": 13}, {\"v\": 6}, {\"v\": 3}, {\"v\": 82.0}, {\"v\": 3.0}, {\"v\": 0}, {\"v\": 0}]}, {\"c\": [{\"v\": 51}, {\"v\": \"2016-01-18-56\"}, {\"v\": \"2016-01-18\"}, {\"v\": 56}, {\"v\": 1}, {\"v\": 0}, {\"v\": 6881.1}, {\"v\": 16.78317073170732}, {\"v\": 708222.8661305557}, {\"v\": 56252.64325249546}, {\"v\": 45318.94431890442}, {\"v\": -31516.352076592088}, {\"v\": 6643.824980215071}, {\"v\": 3559}, {\"v\": 1673}, {\"v\": 418}, {\"v\": 238}, {\"v\": 2}, {\"v\": 153.0}, {\"v\": 4.0}, {\"v\": 18}, {\"v\": 14}]}], \"cols\": [{\"type\": \"number\", \"id\": \"district_id\", \"label\": \"district_id\"}, {\"type\": \"string\", \"id\": \"timeslot\", \"label\": \"timeslot\"}, {\"type\": \"string\", \"id\": \"date\", \"label\": \"date\"}, {\"type\": \"number\", \"id\": \"timeofday_slot\", \"label\": \"timeofday_slot\"}, {\"type\": \"number\", \"id\": \"day_in_week\", \"label\": \"day_in_week\"}, {\"type\": \"number\", \"id\": \"is_sunday\", \"label\": \"is_sunday\"}, {\"type\": \"number\", \"id\": \"sum_price\", \"label\": \"sum_price\"}, {\"type\": \"number\", \"id\": \"avg_price\", \"label\": \"avg_price\"}, {\"type\": \"number\", \"id\": \"poi1\", \"label\": \"poi1\"}, {\"type\": \"number\", \"id\": \"poi2\", \"label\": \"poi2\"}, {\"type\": \"number\", \"id\": \"poi3\", \"label\": \"poi3\"}, {\"type\": \"number\", \"id\": \"poi4\", \"label\": \"poi4\"}, {\"type\": \"number\", \"id\": \"poi5\", \"label\": \"poi5\"}, {\"type\": \"number\", \"id\": \"traffic_tj_level1\", \"label\": \"traffic_tj_level1\"}, {\"type\": \"number\", \"id\": \"traffic_tj_level2\", \"label\": \"traffic_tj_level2\"}, {\"type\": \"number\", \"id\": \"traffic_tj_level3\", \"label\": \"traffic_tj_level3\"}, {\"type\": \"number\", \"id\": \"traffic_tj_level4\", \"label\": \"traffic_tj_level4\"}, {\"type\": \"number\", \"id\": \"weather\", \"label\": \"weather\"}, {\"type\": \"number\", \"id\": \"weather_pm25\", \"label\": \"weather_pm25\"}, {\"type\": \"number\", \"id\": \"weather_temperature\", \"label\": \"weather_temperature\"}, {\"type\": \"number\", \"id\": \"previous_gap\", \"label\": \"previous_gap\"}, {\"type\": \"number\", \"id\": \"gap\", \"label\": \"gap\"}]});\n",
       "        }\n",
       "      );\n",
       "    </script>\n",
       "  "
      ],
      "text/plain": [
       "Table datalab-projects-1331:xjk_algo_comp.future_gaps_final2"
      ]
     },
     "execution_count": 25,
     "metadata": {},
     "output_type": "execute_result"
    }
   ],
   "source": [
    "schema = bq.Schema([\n",
    "    {'name': 'district_id', 'type': 'INTEGER'},\n",
    "    {'name': 'timeslot', 'type': 'STRING'},\n",
    "    {'name': 'date', 'type': 'STRING'},\n",
    "    {'name': 'timeofday_slot', 'type': 'INTEGER'},\n",
    "    {'name': 'day_in_week', 'type': 'INTEGER'},\n",
    "    {'name': 'is_sunday', 'type': 'INTEGER'},\n",
    "    {'name': 'sum_price', 'type': 'FLOAT'},\n",
    "    {'name': 'avg_price', 'type': 'FLOAT'},\n",
    "    {'name': 'poi1', 'type': 'FLOAT'},\n",
    "    {'name': 'poi2', 'type': 'FLOAT'},\n",
    "    {'name': 'poi3', 'type': 'FLOAT'},\n",
    "    {'name': 'poi4', 'type': 'FLOAT'},\n",
    "    {'name': 'poi5', 'type': 'FLOAT'},\n",
    "    {'name': 'traffic_tj_level1', 'type': 'INTEGER'},\n",
    "    {'name': 'traffic_tj_level2', 'type': 'INTEGER'},\n",
    "    {'name': 'traffic_tj_level3', 'type': 'INTEGER'},\n",
    "    {'name': 'traffic_tj_level4', 'type': 'INTEGER'},\n",
    "    {'name': 'weather', 'type': 'INTEGER'},\n",
    "    {'name': 'weather_pm25', 'type': 'FLOAT'},\n",
    "    {'name': 'weather_temperature', 'type': 'FLOAT'},\n",
    "    {'name': 'previous_gap', 'type': 'INTEGER'},\n",
    "    {'name': 'gap', 'type': 'INTEGER'}\n",
    "])\n",
    "table = bq.Table('datalab-projects-1331:xjk_algo_comp.future_gaps_final2')\n",
    "table.create(schema)\n",
    "table.insert_data(all_data)"
   ]
  }
 ],
 "metadata": {
  "kernelspec": {
   "display_name": "Python 2",
   "language": "python",
   "name": "python2"
  },
  "language_info": {
   "codemirror_mode": {
    "name": "ipython",
    "version": 2
   },
   "file_extension": ".py",
   "mimetype": "text/x-python",
   "name": "python",
   "nbconvert_exporter": "python",
   "pygments_lexer": "ipython2",
   "version": "2.7.9"
  }
 },
 "nbformat": 4,
 "nbformat_minor": 0
}
