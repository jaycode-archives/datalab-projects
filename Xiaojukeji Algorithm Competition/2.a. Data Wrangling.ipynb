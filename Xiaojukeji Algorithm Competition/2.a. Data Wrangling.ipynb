{
 "cells": [
  {
   "cell_type": "code",
   "execution_count": 31,
   "metadata": {
    "collapsed": false
   },
   "outputs": [],
   "source": [
    "from sklearn.decomposition import PCA\n",
    "import pandas as pd\n",
    "import gcp.bigquery as bq\n",
    "import numpy as np\n",
    "from datetime import date\n",
    "from datetime import timedelta\n",
    "\n",
    "import pdb\n",
    "\n",
    "poi_n_range = 10\n",
    "poi_schema = []\n",
    "for i in range(pca_n_range):\n",
    "  poi_n = i+1\n",
    "  poi_schema.append({'name': 'poi{}'.format(poi_n), 'type': 'FLOAT'})\n",
    "  \n",
    "prev_n_range = 5\n",
    "prev_gap_schema = []\n",
    "for i in range(prev_n_range):\n",
    "  prev_n = i+1\n",
    "  prev_gap_schema.append({'name': 'previous_gap{}'.format(prev_n), 'type': 'INTEGER'})"
   ]
  },
  {
   "cell_type": "markdown",
   "metadata": {},
   "source": [
    "# Gaps Table\n",
    "First, make a simple **gaps** table, then fill it with data from other tables."
   ]
  },
  {
   "cell_type": "code",
   "execution_count": null,
   "metadata": {
    "collapsed": true
   },
   "outputs": [],
   "source": [
    "%%bigquery udf -m orders_create_additional_fields\n",
    "/**\n",
    " * Pad with 0 or given string.\n",
    " *\n",
    " * @param int n Number to add padding to.\n",
    " * @param int width Width of number + padding.\n",
    " * @param string z (Optional) Other string to replace '0' as padding.\n",
    " */\n",
    "function pad(n, width, z) {\n",
    "  z = z || '0';\n",
    "  n = n + '';\n",
    "  return n.length >= width ? n : new Array(width - n.length + 1).join(z) + n;\n",
    "}\n",
    "\n",
    "/**\n",
    " * Create additional fields on orders table for gaps table creation.\n",
    " *\n",
    " * @param {{order_id: string, driver_id: string, passenger_id: string,\n",
    "            start_district_hash: string, dest_district_hash: string, price: float,\n",
    "            time: string}} r\n",
    " * @param function({{order_id: string, driver_id: string, passenger_id: string,\n",
    "                     start_district_hash: string, dest_district_hash: string, price: float,\n",
    "                     time: string, timeslot: string, timeofday_slot: integer, day_in_week: integer,\n",
    "                     date: string}}) emitFn\n",
    " */\n",
    "function(r, emitFn) {\n",
    "  var t = r.time.split(/[ :\\-]/);\n",
    "  var slot = Math.floor((parseInt(t[3]) * 60 + parseInt(t[4])) / 10) + 1;\n",
    "  r.timeslot = t[0] + '-' + pad(t[1], 2) +\n",
    "               '-' + pad(t[2], 2) + '-' + slot;\n",
    "  r.timeofday_slot = slot;\n",
    "  r.date = t[0] + '-' + pad(t[1], 2) + '-' + pad(t[2], 2);\n",
    "  r.day_in_week = new Date(parseInt(t[0]), parseInt(t[1])-1, parseInt(t[2])).getDay();\n",
    "  emitFn(r);\n",
    "}"
   ]
  },
  {
   "cell_type": "code",
   "execution_count": null,
   "metadata": {
    "collapsed": false
   },
   "outputs": [],
   "source": [
    "%%bigquery execute -t datalab-projects-1331:xjk_algo_comp.gaps -m create\n",
    "SELECT district_id, FIRST(orders.timeslot) AS timeslot, FIRST(orders.date) AS date,\n",
    "  FIRST(day_in_week) AS day_in_week, FIRST(timeofday_slot) AS timeofday_slot,\n",
    "  SUM(price) AS sum_price, AVG(price) AS avg_price,\n",
    "  SUM(IF(driver_id = 'NULL', 1, 0)) AS gap\n",
    "FROM orders_create_additional_fields([datalab-projects-1331:xjk_algo_comp.orders]) AS orders\n",
    "JOIN [datalab-projects-1331:xjk_algo_comp.districts] AS districts \n",
    "  ON orders.start_district_hash = districts.district_hash\n",
    "GROUP BY district_id, orders.timeslot"
   ]
  },
  {
   "cell_type": "code",
   "execution_count": null,
   "metadata": {
    "collapsed": true
   },
   "outputs": [],
   "source": [
    "%% sql -q tester\n",
    "SELECT SUM(price) FROM datalab-projects-1331:xjk_algo_comp.orders\n",
    "WHERE start_district_hash = 'd4ec2125aff74eded207d2d915ef682f'\n",
    "  AND (time LIKE \"%2016-01-01 00:5%\")\n",
    "  \n",
    "# Reference only. Use above query to check if aggregation was correct, by comparing the\n",
    "# result of that from sum of district_hash = 51 and timeslot \"2016-01-01-6\", which \n",
    "# should be 126498.0."
   ]
  },
  {
   "cell_type": "markdown",
   "metadata": {},
   "source": [
    "# +1 timeslot\n",
    "We are going to use past data to predict the gaps for the next 10 minutes (or in other words, the next timeslot). To do this, we need to update timeslot related information. Specifically we are going to do the following:\n",
    "1. Add `timeslot` feature by one:\n",
    "  - '2016-01-45' to '2016-01-46'\n",
    "  - '2016-01-144' to '2016-02-1'\n",
    "2. Update `date` and `slot` features accordingly.\n",
    "3. Recalculate `day_in_week` feature."
   ]
  },
  {
   "cell_type": "code",
   "execution_count": null,
   "metadata": {
    "collapsed": false
   },
   "outputs": [],
   "source": [
    "%%bigquery udf --module gaps_plus_one_timeslot\n",
    "  \n",
    "// Use this when testing\n",
    "// %%javascript\n",
    "\n",
    "/**\n",
    " * Pad with 0 or given string.\n",
    " *\n",
    " * @param int n Number to add padding to.\n",
    " * @param int width Width of number + padding.\n",
    " * @param string z (Optional) Other string to replace '0' as padding.\n",
    " */\n",
    "function pad(n, width, z) {\n",
    "  z = z || '0';\n",
    "  n = n + '';\n",
    "  return n.length >= width ? n : new Array(width - n.length + 1).join(z) + n;\n",
    "}\n",
    "\n",
    "/**\n",
    " * Add one timeslot and adjust other relevant tables.\n",
    " *\n",
    " * @param {{district_id: integer, timeslot: string, date: string, day_in_week: integer,\n",
    "            timeofday_slot: integer, sum_price: float, avg_price: float, gap: integer}} r\n",
    " * @param function({{district_id: integer, timeslot: string, date: string, day_in_week: integer,\n",
    "                timeofday_slot: integer, sum_price: float, avg_price: float, gap: integer,\n",
    "                timeslot_original: string}}) emitFn\n",
    " */\n",
    "function(r, emitFn) {\n",
    "  \n",
    "  var t = r.timeslot.split(/-/);\n",
    "  var oldslot = parseInt(t[3]);\n",
    "  var newslot = oldslot + 1;\n",
    "  var d = new Date(parseInt(t[0]), parseInt(t[1])-1, parseInt(t[2]));\n",
    "  if (oldslot == 144) {\n",
    "    newslot = 1;\n",
    "    d = new Date(d.setDate(d.getDate() + 1));\n",
    "    r.day_in_week = d.getDay();\n",
    "    r.date = d.getFullYear() + '-' + pad(d.getMonth()+1, 2) +\n",
    "             '-' + pad(d.getDate(), 2);\n",
    "  }\n",
    "  \n",
    "  r.timeslot_original = r.timeslot;\n",
    "\n",
    "  r.timeslot = d.getFullYear() + '-' + pad(d.getMonth()+1, 2) +\n",
    "               '-' + pad(d.getDate(), 2) + '-' + newslot;\n",
    "\n",
    "  r.timeofday_slot = newslot;\n",
    "  emitFn(r);\n",
    "}\n",
    "\n",
    "// For testing (without `new Date()` after date added by 1 setDate returns milliseconds)\n",
    "\n",
    "// var test_row = {\n",
    "//   district_id: 1,\n",
    "//   timeslot: '2016-01-22-144',\n",
    "//   date: '2016-01-22',\n",
    "//   day_in_week: 5,\n",
    "//   timeofday_slot: 144,\n",
    "//   sum_price: 0.0,\n",
    "//   avg_price: 0.0,\n",
    "//   gap: 11,\n",
    "// };\n",
    "\n",
    "// function emitter(r) {\n",
    "//   for (var p in r) {\n",
    "//     element.append(p + '=' + r[p] + '<br>');\n",
    "//   }\n",
    "// }\n",
    "\n",
    "// udf(test_row, emitter);"
   ]
  },
  {
   "cell_type": "code",
   "execution_count": null,
   "metadata": {
    "collapsed": false
   },
   "outputs": [],
   "source": [
    "%%bigquery execute -t datalab-projects-1331:xjk_algo_comp.future_gaps -m create\n",
    "\n",
    "SELECT district_id, timeslot, date, day_in_week, timeofday_slot, sum_price, avg_price, gap,\n",
    "  timeslot_original\n",
    "FROM gaps_plus_one_timeslot([datalab-projects-1331:xjk_algo_comp.gaps])"
   ]
  },
  {
   "cell_type": "markdown",
   "metadata": {},
   "source": [
    "# Gaps Table + Other Tables"
   ]
  },
  {
   "cell_type": "code",
   "execution_count": null,
   "metadata": {
    "collapsed": false
   },
   "outputs": [],
   "source": [
    "%%bigquery execute -t datalab-projects-1331:xjk_algo_comp.future_gaps_processed -m create\n",
    "\n",
    "SELECT FIRST(gaps.district_id) AS district_id, FIRST(gaps.timeslot) AS timeslot, FIRST(gaps.date) AS date,\n",
    "  FIRST(gaps.day_in_week) AS day_in_week, IF(FIRST(gaps.day_in_week) = 0, 1, 0) AS is_sunday,\n",
    "  FIRST(gaps.timeofday_slot) AS timeofday_slot,\n",
    "  FIRST(gaps.sum_price) AS sum_price, FIRST(gaps.avg_price) AS avg_price, FIRST(gaps.gap) AS gap,\n",
    "  FIRST(pois.f1) AS f1, FIRST(pois.f11) AS f11, FIRST(pois.f11_1) AS f11_1, \n",
    "  FIRST(pois.f11_2) AS f11_2, FIRST(pois.f11_3) AS f11_3, FIRST(pois.f11_4) AS f11_4, \n",
    "  FIRST(pois.f11_5) AS f11_5, FIRST(pois.f11_6) AS f11_6, FIRST(pois.f11_7) AS f11_7, \n",
    "  FIRST(pois.f11_8) AS f11_8, FIRST(pois.f13_4) AS f13_4, FIRST(pois.f13_8) AS f13_8, \n",
    "  FIRST(pois.f14) AS f14, FIRST(pois.f14_1) AS f14_1, FIRST(pois.f14_10) AS f14_10, \n",
    "  FIRST(pois.f14_2) AS f14_2, FIRST(pois.f14_3) AS f14_3, FIRST(pois.f14_6) AS f14_6, \n",
    "  FIRST(pois.f14_8) AS f14_8, FIRST(pois.f15) AS f15, FIRST(pois.f15_1) AS f15_1, \n",
    "  FIRST(pois.f15_2) AS f15_2, FIRST(pois.f15_3) AS f15_3, FIRST(pois.f15_4) AS f15_4, \n",
    "  FIRST(pois.f15_6) AS f15_6, FIRST(pois.f15_7) AS f15_7, FIRST(pois.f15_8) AS f15_8, \n",
    "  FIRST(pois.f16) AS f16, FIRST(pois.f16_1) AS f16_1, FIRST(pois.f16_10) AS f16_10, \n",
    "  FIRST(pois.f16_11) AS f16_11, FIRST(pois.f16_12) AS f16_12, FIRST(pois.f16_3) AS f16_3, \n",
    "  FIRST(pois.f16_4) AS f16_4, FIRST(pois.f16_6) AS f16_6, FIRST(pois.f17) AS f17, \n",
    "  FIRST(pois.f17_2) AS f17_2, FIRST(pois.f17_3) AS f17_3, FIRST(pois.f17_4) AS f17_4, \n",
    "  FIRST(pois.f17_5) AS f17_5, FIRST(pois.f19) AS f19, FIRST(pois.f19_1) AS f19_1, \n",
    "  FIRST(pois.f19_2) AS f19_2, FIRST(pois.f19_3) AS f19_3, FIRST(pois.f19_4) AS f19_4, \n",
    "  FIRST(pois.f1_1) AS f1_1, FIRST(pois.f1_10) AS f1_10, FIRST(pois.f1_11) AS f1_11, \n",
    "  FIRST(pois.f1_2) AS f1_2, FIRST(pois.f1_3) AS f1_3, FIRST(pois.f1_4) AS f1_4, \n",
    "  FIRST(pois.f1_5) AS f1_5, FIRST(pois.f1_6) AS f1_6, FIRST(pois.f1_7) AS f1_7, \n",
    "  FIRST(pois.f1_8) AS f1_8, FIRST(pois.f20) AS f20, FIRST(pois.f20_1) AS f20_1, \n",
    "  FIRST(pois.f20_2) AS f20_2, FIRST(pois.f20_4) AS f20_4, FIRST(pois.f20_5) AS f20_5, \n",
    "  FIRST(pois.f20_6) AS f20_6, FIRST(pois.f20_7) AS f20_7, FIRST(pois.f20_8) AS f20_8, \n",
    "  FIRST(pois.f20_9) AS f20_9, FIRST(pois.f21_1) AS f21_1, FIRST(pois.f21_2) AS f21_2, \n",
    "  FIRST(pois.f22) AS f22, FIRST(pois.f22_1) AS f22_1, FIRST(pois.f22_2) AS f22_2, \n",
    "  FIRST(pois.f22_3) AS f22_3, FIRST(pois.f22_4) AS f22_4, FIRST(pois.f22_5) AS f22_5, \n",
    "  FIRST(pois.f23) AS f23, FIRST(pois.f23_1) AS f23_1, FIRST(pois.f23_2) AS f23_2, \n",
    "  FIRST(pois.f23_3) AS f23_3, FIRST(pois.f23_4) AS f23_4, FIRST(pois.f23_5) AS f23_5, \n",
    "  FIRST(pois.f23_6) AS f23_6, FIRST(pois.f24) AS f24, FIRST(pois.f24_1) AS f24_1, \n",
    "  FIRST(pois.f24_2) AS f24_2, FIRST(pois.f24_3) AS f24_3, FIRST(pois.f25) AS f25, \n",
    "  FIRST(pois.f25_1) AS f25_1, FIRST(pois.f25_3) AS f25_3, FIRST(pois.f25_7) AS f25_7, \n",
    "  FIRST(pois.f25_8) AS f25_8, FIRST(pois.f25_9) AS f25_9, FIRST(pois.f2_1) AS f2_1, \n",
    "  FIRST(pois.f2_10) AS f2_10, FIRST(pois.f2_11) AS f2_11, FIRST(pois.f2_12) AS f2_12, \n",
    "  FIRST(pois.f2_13) AS f2_13, FIRST(pois.f2_2) AS f2_2, FIRST(pois.f2_4) AS f2_4, \n",
    "  FIRST(pois.f2_5) AS f2_5, FIRST(pois.f2_6) AS f2_6, FIRST(pois.f2_7) AS f2_7, \n",
    "  FIRST(pois.f2_8) AS f2_8, FIRST(pois.f3_1) AS f3_1, FIRST(pois.f3_2) AS f3_2, \n",
    "  FIRST(pois.f3_3) AS f3_3, FIRST(pois.f4) AS f4, FIRST(pois.f4_1) AS f4_1, \n",
    "  FIRST(pois.f4_10) AS f4_10, FIRST(pois.f4_11) AS f4_11, FIRST(pois.f4_13) AS f4_13, \n",
    "  FIRST(pois.f4_14) AS f4_14, FIRST(pois.f4_16) AS f4_16, FIRST(pois.f4_17) AS f4_17, \n",
    "  FIRST(pois.f4_18) AS f4_18, FIRST(pois.f4_2) AS f4_2, FIRST(pois.f4_3) AS f4_3, \n",
    "  FIRST(pois.f4_5) AS f4_5, FIRST(pois.f4_6) AS f4_6, FIRST(pois.f4_7) AS f4_7, \n",
    "  FIRST(pois.f4_8) AS f4_8, FIRST(pois.f4_9) AS f4_9, FIRST(pois.f5) AS f5, \n",
    "  FIRST(pois.f5_1) AS f5_1, FIRST(pois.f5_3) AS f5_3, FIRST(pois.f5_4) AS f5_4, \n",
    "  FIRST(pois.f6) AS f6, FIRST(pois.f6_1) AS f6_1, FIRST(pois.f6_2) AS f6_2, \n",
    "  FIRST(pois.f6_4) AS f6_4, FIRST(pois.f7) AS f7, FIRST(pois.f8) AS f8, \n",
    "  FIRST(pois.f8_1) AS f8_1, FIRST(pois.f8_2) AS f8_2, FIRST(pois.f8_3) AS f8_3, \n",
    "  FIRST(pois.f8_4) AS f8_4, FIRST(pois.f8_5) AS f8_5,\n",
    "  FIRST(weather.weather) AS weather,\n",
    "  FIRST(weather.temperature) AS weather_temperature, FIRST(weather.pm25) AS weather_pm25,\n",
    "  FIRST(traffic.tj_level1) AS traffic_tj_level1, FIRST(traffic.tj_level2) AS traffic_tj_level2,\n",
    "  FIRST(traffic.tj_level3) AS traffic_tj_level3, FIRST(traffic.tj_level4) AS traffic_tj_level4\n",
    "FROM [datalab-projects-1331:xjk_algo_comp.future_gaps] as gaps\n",
    "LEFT JOIN [datalab-projects-1331:xjk_algo_comp.districts] as districts\n",
    "  ON districts.district_id = gaps.district_id\n",
    "LEFT JOIN [datalab-projects-1331:xjk_algo_comp.pois] as pois\n",
    "  ON pois.district_hash = districts.district_hash\n",
    "LEFT JOIN [datalab-projects-1331:xjk_algo_comp.weather] as weather\n",
    "  ON weather.timeslot = gaps.timeslot\n",
    "LEFT JOIN [datalab-projects-1331:xjk_algo_comp.traffic] as traffic\n",
    "  ON traffic.timeslot = gaps.timeslot\n",
    "  AND traffic.district_hash = districts.district_hash\n",
    "GROUP BY gaps.district_id, gaps.timeslot"
   ]
  },
  {
   "cell_type": "markdown",
   "metadata": {},
   "source": [
    "# PCA\n",
    "Combine POIs (features starting with 'f...') into n number of features."
   ]
  },
  {
   "cell_type": "code",
   "execution_count": 32,
   "metadata": {
    "collapsed": false
   },
   "outputs": [
    {
     "name": "stdout",
     "output_type": "stream",
     "text": [
      "['f1', 'f11', 'f11_1', 'f11_2', 'f11_3', 'f11_4', 'f11_5', 'f11_6', 'f11_7', 'f11_8', 'f13_4', 'f13_8', 'f14', 'f14_1', 'f14_10', 'f14_2', 'f14_3', 'f14_6', 'f14_8', 'f15', 'f15_1', 'f15_2', 'f15_3', 'f15_4', 'f15_6', 'f15_7', 'f15_8', 'f16', 'f16_1', 'f16_10', 'f16_11', 'f16_12', 'f16_3', 'f16_4', 'f16_6', 'f17', 'f17_2', 'f17_3', 'f17_4', 'f17_5', 'f19', 'f19_1', 'f19_2', 'f19_3', 'f19_4', 'f1_1', 'f1_10', 'f1_11', 'f1_2', 'f1_3', 'f1_4', 'f1_5', 'f1_6', 'f1_7', 'f1_8', 'f20', 'f20_1', 'f20_2', 'f20_4', 'f20_5', 'f20_6', 'f20_7', 'f20_8', 'f20_9', 'f21_1', 'f21_2', 'f22', 'f22_1', 'f22_2', 'f22_3', 'f22_4', 'f22_5', 'f23', 'f23_1', 'f23_2', 'f23_3', 'f23_4', 'f23_5', 'f23_6', 'f24', 'f24_1', 'f24_2', 'f24_3', 'f25', 'f25_1', 'f25_3', 'f25_7', 'f25_8', 'f25_9', 'f2_1', 'f2_10', 'f2_11', 'f2_12', 'f2_13', 'f2_2', 'f2_4', 'f2_5', 'f2_6', 'f2_7', 'f2_8', 'f3_1', 'f3_2', 'f3_3', 'f4', 'f4_1', 'f4_10', 'f4_11', 'f4_13', 'f4_14', 'f4_16', 'f4_17', 'f4_18', 'f4_2', 'f4_3', 'f4_5', 'f4_6', 'f4_7', 'f4_8', 'f4_9', 'f5', 'f5_1', 'f5_3', 'f5_4', 'f6', 'f6_1', 'f6_2', 'f6_4', 'f7', 'f8', 'f8_1', 'f8_2', 'f8_3', 'f8_4', 'f8_5']\n"
     ]
    }
   ],
   "source": [
    "pois = \"\"\"\n",
    "f1\tf11\tf11_1\tf11_2\tf11_3\tf11_4\tf11_5\tf11_6\tf11_7\tf11_8\tf13_4\tf13_8\t\n",
    "f14\tf14_1\tf14_10\tf14_2\tf14_3\tf14_6\tf14_8\tf15\tf15_1\tf15_2\tf15_3\tf15_4\t\n",
    "f15_6\tf15_7\tf15_8\tf16\tf16_1\tf16_10\tf16_11\tf16_12\tf16_3\tf16_4\tf16_6\tf17\t\n",
    "f17_2\tf17_3\tf17_4\tf17_5\tf19\tf19_1\tf19_2\tf19_3\tf19_4\tf1_1\tf1_10\tf1_11\t\n",
    "f1_2\tf1_3\tf1_4\tf1_5\tf1_6\tf1_7\tf1_8\tf20\tf20_1\tf20_2\tf20_4\tf20_5\t\n",
    "f20_6\tf20_7\tf20_8\tf20_9\tf21_1\tf21_2\tf22\tf22_1\tf22_2\tf22_3\tf22_4\tf22_5\t\n",
    "f23\tf23_1\tf23_2\tf23_3\tf23_4\tf23_5\tf23_6\tf24\tf24_1\tf24_2\tf24_3\tf25\tf25_1\t\n",
    "f25_3\tf25_7\tf25_8\tf25_9\tf2_1\tf2_10\tf2_11\tf2_12\tf2_13\tf2_2\tf2_4\tf2_5\t\n",
    "f2_6\tf2_7\tf2_8\tf3_1\tf3_2\tf3_3\tf4\tf4_1\tf4_10\tf4_11\tf4_13\tf4_14\t\n",
    "f4_16\tf4_17\tf4_18\tf4_2\tf4_3\tf4_5\tf4_6\tf4_7\tf4_8\tf4_9\tf5\tf5_1\t\n",
    "f5_3\tf5_4\tf6\tf6_1\tf6_2\tf6_4\tf7\tf8\tf8_1\tf8_2\tf8_3\tf8_4\tf8_5\n",
    "\"\"\"\n",
    "pois = map(lambda x: \"{}\".format(x.strip()), pois.split('\\t'))\n",
    "print(pois)"
   ]
  },
  {
   "cell_type": "code",
   "execution_count": 33,
   "metadata": {
    "collapsed": true
   },
   "outputs": [],
   "source": [
    "%%sql --module q\n",
    "SELECT * FROM [datalab-projects-1331:xjk_algo_comp.future_gaps_processed]"
   ]
  },
  {
   "cell_type": "code",
   "execution_count": null,
   "metadata": {
    "collapsed": false
   },
   "outputs": [
    {
     "name": "stdout",
     "output_type": "stream",
     "text": [
      "there are 163491 rows\n",
      "processed 0 rows\n",
      "processed 5000 rows\n",
      "processed 10000 rows\n",
      "processed 15000 rows\n",
      "processed 20000 rows\n",
      "processed 25000 rows\n",
      "processed 30000 rows\n",
      "processed 35000 rows\n",
      "processed 40000 rows\n",
      "processed 45000 rows\n",
      "processed 50000 rows\n",
      "processed 55000 rows\n"
     ]
    }
   ],
   "source": [
    "query = bq.Query(q)\n",
    "tableresult = query.results()\n",
    "\n",
    "poi_fields = ['f1', 'f11', 'f11_1', 'f11_2', 'f11_3', 'f11_4', 'f11_5', 'f11_6', 'f11_7', 'f11_8',\n",
    "              'f13_4', 'f13_8', 'f14', 'f14_1', 'f14_10', 'f14_2', 'f14_3', 'f14_6', 'f14_8', 'f15',\n",
    "              'f15_1', 'f15_2', 'f15_3', 'f15_4', 'f15_6', 'f15_7', 'f15_8', 'f16', 'f16_1', 'f16_10',\n",
    "              'f16_11', 'f16_12', 'f16_3', 'f16_4', 'f16_6', 'f17', 'f17_2', 'f17_3', 'f17_4', 'f17_5',\n",
    "              'f19', 'f19_1', 'f19_2', 'f19_3', 'f19_4', 'f1_1', 'f1_10', 'f1_11', 'f1_2', 'f1_3', 'f1_4',\n",
    "              'f1_5', 'f1_6', 'f1_7', 'f1_8', 'f20', 'f20_1', 'f20_2', 'f20_4', 'f20_5', 'f20_6', 'f20_7',\n",
    "              'f20_8', 'f20_9', 'f21_1', 'f21_2', 'f22', 'f22_1', 'f22_2', 'f22_3', 'f22_4', 'f22_5',\n",
    "              'f23', 'f23_1', 'f23_2', 'f23_3', 'f23_4', 'f23_5', 'f23_6', 'f24', 'f24_1', 'f24_2',\n",
    "              'f24_3', 'f25', 'f25_1', 'f25_3', 'f25_7', 'f25_8', 'f25_9', 'f2_1', 'f2_10', 'f2_11',\n",
    "              'f2_12', 'f2_13', 'f2_2', 'f2_4', 'f2_5', 'f2_6', 'f2_7', 'f2_8', 'f3_1', 'f3_2', 'f3_3',\n",
    "              'f4', 'f4_1', 'f4_10', 'f4_11', 'f4_13', 'f4_14', 'f4_16', 'f4_17', 'f4_18', 'f4_2',\n",
    "              'f4_3', 'f4_5', 'f4_6', 'f4_7', 'f4_8', 'f4_9', 'f5', 'f5_1', 'f5_3', 'f5_4', 'f6', 'f6_1',\n",
    "              'f6_2', 'f6_4', 'f7', 'f8', 'f8_1', 'f8_2', 'f8_3', 'f8_4', 'f8_5']\n",
    "all_fields = tableresult[0].keys()\n",
    "all_data = []\n",
    "pois_data = np.zeros((tableresult.length, len(poi_fields)))\n",
    "print 'there are {} rows'.format(tableresult.length)\n",
    "for rcounter, row in enumerate(tableresult):\n",
    "  for fcounter, field in enumerate(poi_fields):\n",
    "    pois_data[rcounter, fcounter] = row.pop(field, None)\n",
    "  all_data.append(row)\n",
    "  if rcounter % 5000 == 0:\n",
    "    print 'processed {} rows'.format(rcounter)"
   ]
  },
  {
   "cell_type": "code",
   "execution_count": 37,
   "metadata": {
    "collapsed": false
   },
   "outputs": [],
   "source": [
    "pca = PCA(n_components=poi_n_range)\n",
    "pois_data_s = pca.fit_transform(pois_data)"
   ]
  },
  {
   "cell_type": "code",
   "execution_count": 39,
   "metadata": {
    "collapsed": false
   },
   "outputs": [],
   "source": [
    "for rcounter, row in enumerate(all_data):\n",
    "  for index in range(pois_data_s.shape[1]):\n",
    "    all_data[rcounter]['poi{}'.format(index+1)] = pois_data_s[rcounter, index]"
   ]
  },
  {
   "cell_type": "code",
   "execution_count": 40,
   "metadata": {
    "collapsed": false
   },
   "outputs": [
    {
     "data": {
      "text/html": [
       "\n",
       "    <div class=\"bqtv\" id=\"2_146576680666\"><table><tr><th>district_id</th><th>timeslot</th><th>date</th><th>timeofday_slot</th><th>day_in_week</th><th>is_sunday</th><th>sum_price</th><th>avg_price</th><th>traffic_tj_level1</th><th>traffic_tj_level2</th><th>traffic_tj_level3</th><th>traffic_tj_level4</th><th>weather</th><th>weather_pm25</th><th>weather_temperature</th><th>gap</th><th>poi1</th><th>poi2</th><th>poi3</th><th>poi4</th><th>poi5</th><th>poi6</th><th>poi7</th><th>poi8</th><th>poi9</th><th>poi10</th></tr><tr><td>30</td><td>2016-01-20-125</td><td>2016-01-20</td><td>125</td><td>3</td><td>0</td><td>40.0</td><td>13.3333333333</td><td>146</td><td>20</td><td>5</td><td>5</td><td>&nbsp;</td><td>&nbsp;</td><td>&nbsp;</td><td>0</td><td>-60469.4159806</td><td>665.37872562</td><td>-599.111905385</td><td>-5799.07729084</td><td>1796.70349854</td><td>1285.99299699</td><td>204.950290579</td><td>1290.46677208</td><td>357.587898054</td><td>922.158228952</td></tr><tr><td>7</td><td>2016-01-07-47</td><td>2016-01-07</td><td>47</td><td>4</td><td>0</td><td>1468.6</td><td>20.6845070423</td><td>1627</td><td>497</td><td>150</td><td>53</td><td>4</td><td>105.0</td><td>7.0</td><td>4</td><td>194502.176825</td><td>-118529.111417</td><td>41855.6026355</td><td>-25162.9509794</td><td>-6096.77473852</td><td>-186.002779811</td><td>11923.0017676</td><td>-4404.59473317</td><td>-6875.54302364</td><td>-377.031986926</td></tr><tr><td>9</td><td>2016-01-09-19</td><td>2016-01-09</td><td>19</td><td>6</td><td>0</td><td>18.0</td><td>9.0</td><td>282</td><td>22</td><td>1</td><td>2</td><td>2</td><td>132.0</td><td>3.0</td><td>0</td><td>-47755.8885294</td><td>7847.17088075</td><td>-130.034425638</td><td>3424.89469206</td><td>8146.27641188</td><td>-7062.21365284</td><td>3952.96297027</td><td>604.999396073</td><td>-2442.00753845</td><td>-1470.50995439</td></tr><tr><td>27</td><td>2016-01-09-13</td><td>2016-01-09</td><td>13</td><td>6</td><td>0</td><td>331.0</td><td>18.3888888889</td><td>1193</td><td>134</td><td>45</td><td>34</td><td>2</td><td>136.0</td><td>3.0</td><td>1</td><td>15201.8312713</td><td>33595.0164625</td><td>31369.1915082</td><td>11753.1017407</td><td>-10783.3375298</td><td>-3147.94282698</td><td>7470.16433446</td><td>4919.48412073</td><td>782.65254709</td><td>-6877.69961476</td></tr><tr><td>21</td><td>2016-01-18-24</td><td>2016-01-18</td><td>24</td><td>1</td><td>0</td><td>29.0</td><td>14.5</td><td>166</td><td>32</td><td>2</td><td>8</td><td>3</td><td>72.0</td><td>3.0</td><td>0</td><td>-7961.09113226</td><td>-11508.7412803</td><td>-23975.3366729</td><td>6447.47422405</td><td>15754.4322921</td><td>-10370.3177435</td><td>-6619.72605671</td><td>2503.82428353</td><td>-4072.60462965</td><td>5788.36347968</td></tr><tr><td>42</td><td>2016-01-07-3</td><td>2016-01-07</td><td>3</td><td>4</td><td>0</td><td>646.0</td><td>19.5757575758</td><td>1270</td><td>203</td><td>57</td><td>48</td><td>4</td><td>93.0</td><td>8.0</td><td>2</td><td>5159.04699367</td><td>25063.5464052</td><td>26556.7762355</td><td>14427.9257913</td><td>-21064.5834914</td><td>1391.51913019</td><td>1272.36295249</td><td>-10635.0527994</td><td>4077.15079438</td><td>1679.00450733</td></tr><tr><td>51</td><td>2016-01-16-30</td><td>2016-01-16</td><td>30</td><td>6</td><td>0</td><td>1475.0</td><td>35.119047619</td><td>3150</td><td>356</td><td>107</td><td>55</td><td>2</td><td>127.0</td><td>3.0</td><td>10</td><td>708222.866131</td><td>56252.6432525</td><td>45318.9443189</td><td>-31516.3520766</td><td>6643.82498022</td><td>-6255.77998574</td><td>-5874.62782275</td><td>5230.07088296</td><td>960.212337132</td><td>925.726201223</td></tr><tr><td>35</td><td>2016-01-14-54</td><td>2016-01-14</td><td>54</td><td>4</td><td>0</td><td>890.5</td><td>16.4907407407</td><td>262</td><td>57</td><td>26</td><td>3</td><td>2</td><td>108.0</td><td>2.0</td><td>2</td><td>-62108.4053743</td><td>-1597.45404092</td><td>-2281.34151762</td><td>-5367.7204698</td><td>131.70449485</td><td>6.32311376921</td><td>-1158.91039613</td><td>1808.46310163</td><td>9.69436119653</td><td>933.533777802</td></tr><tr><td>29</td><td>2016-01-07-7</td><td>2016-01-07</td><td>7</td><td>4</td><td>0</td><td>48.0</td><td>16.0</td><td>568</td><td>68</td><td>23</td><td>37</td><td>4</td><td>92.0</td><td>8.0</td><td>0</td><td>-47097.0663665</td><td>3307.05605661</td><td>7418.35302358</td><td>3174.13059945</td><td>-3171.53771642</td><td>1888.56676221</td><td>-3952.83862092</td><td>-3341.65383476</td><td>3770.59023866</td><td>1319.48775781</td></tr><tr><td>57</td><td>2016-01-13-110</td><td>2016-01-13</td><td>110</td><td>3</td><td>0</td><td>297.0</td><td>24.75</td><td>558</td><td>111</td><td>18</td><td>13</td><td>2</td><td>93.0</td><td>4.0</td><td>0</td><td>-47773.2232319</td><td>257.739348485</td><td>2191.72447653</td><td>752.021298701</td><td>454.553098606</td><td>-3717.49886904</td><td>1848.41911385</td><td>-400.272143831</td><td>684.008237371</td><td>-745.139999164</td></tr><tr><td>64</td><td>2016-01-04-58</td><td>2016-01-04</td><td>58</td><td>1</td><td>0</td><td>115.0</td><td>10.4545454545</td><td>400</td><td>78</td><td>19</td><td>15</td><td>8</td><td>209.0</td><td>12.0</td><td>2</td><td>-37490.7902772</td><td>17372.1863673</td><td>1128.36211179</td><td>926.566058587</td><td>-4135.29875105</td><td>-5936.90993822</td><td>10155.3627218</td><td>1946.42030939</td><td>-1276.71774331</td><td>-649.260787228</td></tr><tr><td>38</td><td>2016-01-16-1</td><td>2016-01-16</td><td>1</td><td>6</td><td>0</td><td>61.0</td><td>30.5</td><td>&nbsp;</td><td>&nbsp;</td><td>&nbsp;</td><td>&nbsp;</td><td>2</td><td>132.0</td><td>4.0</td><td>0</td><td>-55675.9716833</td><td>197.557492556</td><td>1409.85979012</td><td>-5526.46183733</td><td>-1318.21198254</td><td>441.984514419</td><td>-1170.48133519</td><td>972.374122858</td><td>1210.75318309</td><td>964.328514639</td></tr><tr><td>56</td><td>2016-01-02-79</td><td>2016-01-02</td><td>79</td><td>6</td><td>0</td><td>19.0</td><td>19.0</td><td>181</td><td>14</td><td>7</td><td>9</td><td>2</td><td>156.0</td><td>15.0</td><td>0</td><td>-62654.031676</td><td>6028.48480374</td><td>-4445.54885145</td><td>-10283.3290636</td><td>5597.91594742</td><td>-709.945447157</td><td>730.248044767</td><td>1275.14169685</td><td>298.169958159</td><td>2850.16479881</td></tr><tr><td>11</td><td>2016-01-04-125</td><td>2016-01-04</td><td>125</td><td>1</td><td>0</td><td>441.4</td><td>19.1913043478</td><td>752</td><td>134</td><td>29</td><td>18</td><td>4</td><td>211.0</td><td>12.0</td><td>1</td><td>-33769.1898693</td><td>-1151.34828854</td><td>18533.2250738</td><td>6789.14501789</td><td>-23522.0351577</td><td>7287.98304105</td><td>-1428.28651003</td><td>-1332.11359029</td><td>3062.1052634</td><td>822.533561102</td></tr><tr><td>40</td><td>2016-01-20-50</td><td>2016-01-20</td><td>50</td><td>3</td><td>0</td><td>499.9</td><td>33.3266666667</td><td>323</td><td>41</td><td>11</td><td>8</td><td>&nbsp;</td><td>&nbsp;</td><td>&nbsp;</td><td>9</td><td>-64931.4946754</td><td>-3401.9619505</td><td>-4726.89727348</td><td>-7591.19720166</td><td>1775.65412799</td><td>-241.22485119</td><td>-1948.92277199</td><td>549.508500755</td><td>1107.80099352</td><td>953.159739621</td></tr><tr><td>22</td><td>2016-01-10-18</td><td>2016-01-10</td><td>18</td><td>0</td><td>1</td><td>49.0</td><td>16.3333333333</td><td>549</td><td>85</td><td>18</td><td>9</td><td>8</td><td>167.0</td><td>6.0</td><td>1</td><td>-45438.035406</td><td>103.795714537</td><td>5852.79321657</td><td>-2209.18926654</td><td>-1052.24802345</td><td>-9.23992381649</td><td>-2590.60474435</td><td>-642.673279177</td><td>1197.17958284</td><td>-4524.19568693</td></tr><tr><td>10</td><td>2016-01-13-74</td><td>2016-01-13</td><td>74</td><td>3</td><td>0</td><td>49.3</td><td>8.21666666667</td><td>149</td><td>14</td><td>12</td><td>3</td><td>2</td><td>88.0</td><td>3.0</td><td>4</td><td>-67611.826108</td><td>-898.594182802</td><td>-7635.17717761</td><td>-8032.08938774</td><td>5210.17826651</td><td>-2477.07503048</td><td>1930.20698948</td><td>929.994145541</td><td>-88.2044184257</td><td>738.211767452</td></tr><tr><td>35</td><td>2016-01-04-141</td><td>2016-01-04</td><td>141</td><td>1</td><td>0</td><td>72.0</td><td>12.0</td><td>221</td><td>22</td><td>2</td><td>3</td><td>4</td><td>176.0</td><td>12.0</td><td>1</td><td>-62108.4053743</td><td>-1597.45404092</td><td>-2281.34151762</td><td>-5367.7204698</td><td>131.70449485</td><td>6.32311376921</td><td>-1158.91039613</td><td>1808.46310163</td><td>9.69436119653</td><td>933.533777802</td></tr><tr><td>49</td><td>2016-01-02-76</td><td>2016-01-02</td><td>76</td><td>6</td><td>0</td><td>162.8</td><td>23.2571428571</td><td>189</td><td>18</td><td>0</td><td>8</td><td>2</td><td>167.0</td><td>15.0</td><td>2</td><td>-64881.743159</td><td>-1156.06590118</td><td>-3863.32884248</td><td>-7024.05804759</td><td>1711.43981114</td><td>878.268392926</td><td>632.783216321</td><td>1996.28966742</td><td>548.436164035</td><td>1224.67929559</td></tr><tr><td>54</td><td>2016-01-02-105</td><td>2016-01-02</td><td>105</td><td>6</td><td>0</td><td>184.0</td><td>8.7619047619</td><td>&nbsp;</td><td>&nbsp;</td><td>&nbsp;</td><td>&nbsp;</td><td>2</td><td>91.0</td><td>15.0</td><td>0</td><td>-48692.7906052</td><td>5023.94317324</td><td>4011.23332883</td><td>-1168.11560868</td><td>-7489.8740527</td><td>1615.01701483</td><td>501.629376494</td><td>-527.163601424</td><td>1293.42276079</td><td>1256.37766564</td></tr><tr><td>54</td><td>2016-01-10-115</td><td>2016-01-10</td><td>115</td><td>0</td><td>1</td><td>429.0</td><td>13.40625</td><td>&nbsp;</td><td>&nbsp;</td><td>&nbsp;</td><td>&nbsp;</td><td>4</td><td>156.0</td><td>7.0</td><td>0</td><td>-48692.7906052</td><td>5023.94317324</td><td>4011.23332883</td><td>-1168.11560868</td><td>-7489.8740527</td><td>1615.01701483</td><td>501.629376494</td><td>-527.163601424</td><td>1293.42276079</td><td>1256.37766564</td></tr><tr><td>48</td><td>2016-01-01-35</td><td>2016-01-01</td><td>35</td><td>5</td><td>0</td><td>1461.0</td><td>25.1896551724</td><td>1757</td><td>180</td><td>56</td><td>42</td><td>1</td><td>184.0</td><td>2.0</td><td>43</td><td>303528.02255</td><td>14673.1668546</td><td>-108784.562531</td><td>-13890.9635498</td><td>-32547.7300861</td><td>-2243.11996941</td><td>2666.3170299</td><td>-5703.47445931</td><td>-4761.85534916</td><td>-1191.15386499</td></tr><tr><td>26</td><td>2016-01-13-89</td><td>2016-01-13</td><td>89</td><td>3</td><td>0</td><td>473.0</td><td>20.5652173913</td><td>345</td><td>64</td><td>24</td><td>17</td><td>2</td><td>90.0</td><td>5.0</td><td>0</td><td>-59316.1977014</td><td>-4734.67815088</td><td>-504.891626878</td><td>-4147.46537609</td><td>-582.399857378</td><td>89.5481513595</td><td>-2526.64154424</td><td>-520.847612615</td><td>453.972078536</td><td>404.144086264</td></tr><tr><td>57</td><td>2016-01-21-87</td><td>2016-01-21</td><td>87</td><td>4</td><td>0</td><td>252.0</td><td>15.75</td><td>525</td><td>100</td><td>15</td><td>25</td><td>&nbsp;</td><td>&nbsp;</td><td>&nbsp;</td><td>1</td><td>-47773.2232319</td><td>257.739348485</td><td>2191.72447653</td><td>752.021298701</td><td>454.553098606</td><td>-3717.49886904</td><td>1848.41911385</td><td>-400.272143831</td><td>684.008237371</td><td>-745.139999164</td></tr><tr><td>7</td><td>2016-01-08-98</td><td>2016-01-08</td><td>98</td><td>5</td><td>0</td><td>3440.5</td><td>19.4378531073</td><td>1723</td><td>650</td><td>211</td><td>104</td><td>3</td><td>114.0</td><td>6.0</td><td>6</td><td>194502.176825</td><td>-118529.111417</td><td>41855.6026355</td><td>-25162.9509794</td><td>-6096.77473852</td><td>-186.002779811</td><td>11923.0017676</td><td>-4404.59473317</td><td>-6875.54302364</td><td>-377.031986926</td></tr></table></div>\n",
       "    <br />(rows: 0, datalab-projects-1331:xjk_algo_comp.future_gaps_final1)<br />\n",
       "    <script>\n",
       "      require(['extensions/charting', 'element!2_146576680666', 'style!/static/extensions/charting.css'],\n",
       "        function(charts, dom) {\n",
       "          charts.render(dom,\n",
       "            {\n",
       "              chartStyle:\"table\",\n",
       "              dataName:\"1\",\n",
       "              fields:\"district_id,timeslot,date,timeofday_slot,day_in_week,is_sunday,sum_price,avg_price,traffic_tj_level1,traffic_tj_level2,traffic_tj_level3,traffic_tj_level4,weather,weather_pm25,weather_temperature,gap,poi1,poi2,poi3,poi4,poi5,poi6,poi7,poi8,poi9,poi10\",\n",
       "              totalRows:0,\n",
       "              rowsPerPage:25,\n",
       "            }, {}, {\"rows\": [{\"c\": [{\"v\": 30}, {\"v\": \"2016-01-20-125\"}, {\"v\": \"2016-01-20\"}, {\"v\": 125}, {\"v\": 3}, {\"v\": 0}, {\"v\": 40.0}, {\"v\": 13.333333333333334}, {\"v\": 146}, {\"v\": 20}, {\"v\": 5}, {\"v\": 5}, {\"v\": null}, {\"v\": null}, {\"v\": null}, {\"v\": 0}, {\"v\": -60469.415980600636}, {\"v\": 665.3787256203718}, {\"v\": -599.1119053847455}, {\"v\": -5799.077290838605}, {\"v\": 1796.703498536144}, {\"v\": 1285.9929969917073}, {\"v\": 204.95029057929207}, {\"v\": 1290.4667720787008}, {\"v\": 357.58789805362085}, {\"v\": 922.1582289523242}]}, {\"c\": [{\"v\": 7}, {\"v\": \"2016-01-07-47\"}, {\"v\": \"2016-01-07\"}, {\"v\": 47}, {\"v\": 4}, {\"v\": 0}, {\"v\": 1468.6000000000004}, {\"v\": 20.684507042253525}, {\"v\": 1627}, {\"v\": 497}, {\"v\": 150}, {\"v\": 53}, {\"v\": 4}, {\"v\": 105.0}, {\"v\": 7.0}, {\"v\": 4}, {\"v\": 194502.1768251736}, {\"v\": -118529.11141726472}, {\"v\": 41855.60263548842}, {\"v\": -25162.950979380294}, {\"v\": -6096.774738519995}, {\"v\": -186.00277981099455}, {\"v\": 11923.001767560034}, {\"v\": -4404.594733167425}, {\"v\": -6875.543023636828}, {\"v\": -377.03198692554037}]}, {\"c\": [{\"v\": 9}, {\"v\": \"2016-01-09-19\"}, {\"v\": \"2016-01-09\"}, {\"v\": 19}, {\"v\": 6}, {\"v\": 0}, {\"v\": 18.0}, {\"v\": 9.0}, {\"v\": 282}, {\"v\": 22}, {\"v\": 1}, {\"v\": 2}, {\"v\": 2}, {\"v\": 132.0}, {\"v\": 3.0}, {\"v\": 0}, {\"v\": -47755.888529398544}, {\"v\": 7847.170880750486}, {\"v\": -130.03442563754814}, {\"v\": 3424.894692060525}, {\"v\": 8146.276411878912}, {\"v\": -7062.213652837777}, {\"v\": 3952.962970273269}, {\"v\": 604.9993960734463}, {\"v\": -2442.007538450393}, {\"v\": -1470.5099543868812}]}, {\"c\": [{\"v\": 27}, {\"v\": \"2016-01-09-13\"}, {\"v\": \"2016-01-09\"}, {\"v\": 13}, {\"v\": 6}, {\"v\": 0}, {\"v\": 331.0}, {\"v\": 18.38888888888889}, {\"v\": 1193}, {\"v\": 134}, {\"v\": 45}, {\"v\": 34}, {\"v\": 2}, {\"v\": 136.0}, {\"v\": 3.0}, {\"v\": 1}, {\"v\": 15201.831271316769}, {\"v\": 33595.01646245219}, {\"v\": 31369.19150821243}, {\"v\": 11753.101740653468}, {\"v\": -10783.33752984086}, {\"v\": -3147.9428269815107}, {\"v\": 7470.164334456248}, {\"v\": 4919.4841207341515}, {\"v\": 782.652547090078}, {\"v\": -6877.69961475933}]}, {\"c\": [{\"v\": 21}, {\"v\": \"2016-01-18-24\"}, {\"v\": \"2016-01-18\"}, {\"v\": 24}, {\"v\": 1}, {\"v\": 0}, {\"v\": 29.0}, {\"v\": 14.5}, {\"v\": 166}, {\"v\": 32}, {\"v\": 2}, {\"v\": 8}, {\"v\": 3}, {\"v\": 72.0}, {\"v\": 3.0}, {\"v\": 0}, {\"v\": -7961.091132263672}, {\"v\": -11508.74128031313}, {\"v\": -23975.336672946476}, {\"v\": 6447.47422404655}, {\"v\": 15754.432292092706}, {\"v\": -10370.317743485248}, {\"v\": -6619.726056711029}, {\"v\": 2503.8242835273977}, {\"v\": -4072.604629645091}, {\"v\": 5788.363479682356}]}, {\"c\": [{\"v\": 42}, {\"v\": \"2016-01-07-3\"}, {\"v\": \"2016-01-07\"}, {\"v\": 3}, {\"v\": 4}, {\"v\": 0}, {\"v\": 646.0}, {\"v\": 19.575757575757574}, {\"v\": 1270}, {\"v\": 203}, {\"v\": 57}, {\"v\": 48}, {\"v\": 4}, {\"v\": 93.0}, {\"v\": 8.0}, {\"v\": 2}, {\"v\": 5159.046993673655}, {\"v\": 25063.54640523879}, {\"v\": 26556.77623545344}, {\"v\": 14427.925791292902}, {\"v\": -21064.583491410158}, {\"v\": 1391.519130193114}, {\"v\": 1272.362952493876}, {\"v\": -10635.052799429292}, {\"v\": 4077.150794378404}, {\"v\": 1679.0045073341585}]}, {\"c\": [{\"v\": 51}, {\"v\": \"2016-01-16-30\"}, {\"v\": \"2016-01-16\"}, {\"v\": 30}, {\"v\": 6}, {\"v\": 0}, {\"v\": 1475.0}, {\"v\": 35.11904761904762}, {\"v\": 3150}, {\"v\": 356}, {\"v\": 107}, {\"v\": 55}, {\"v\": 2}, {\"v\": 127.0}, {\"v\": 3.0}, {\"v\": 10}, {\"v\": 708222.8661305557}, {\"v\": 56252.64325249546}, {\"v\": 45318.94431890442}, {\"v\": -31516.352076592088}, {\"v\": 6643.824980215071}, {\"v\": -6255.779985737854}, {\"v\": -5874.627822750455}, {\"v\": 5230.070882955488}, {\"v\": 960.2123371321513}, {\"v\": 925.7262012233465}]}, {\"c\": [{\"v\": 35}, {\"v\": \"2016-01-14-54\"}, {\"v\": \"2016-01-14\"}, {\"v\": 54}, {\"v\": 4}, {\"v\": 0}, {\"v\": 890.5000000000001}, {\"v\": 16.490740740740744}, {\"v\": 262}, {\"v\": 57}, {\"v\": 26}, {\"v\": 3}, {\"v\": 2}, {\"v\": 108.0}, {\"v\": 2.0}, {\"v\": 2}, {\"v\": -62108.40537426752}, {\"v\": -1597.4540409213016}, {\"v\": -2281.3415176206936}, {\"v\": -5367.720469804684}, {\"v\": 131.7044948496004}, {\"v\": 6.323113769207557}, {\"v\": -1158.9103961311603}, {\"v\": 1808.4631016349813}, {\"v\": 9.694361196531876}, {\"v\": 933.5337778022598}]}, {\"c\": [{\"v\": 29}, {\"v\": \"2016-01-07-7\"}, {\"v\": \"2016-01-07\"}, {\"v\": 7}, {\"v\": 4}, {\"v\": 0}, {\"v\": 48.0}, {\"v\": 16.0}, {\"v\": 568}, {\"v\": 68}, {\"v\": 23}, {\"v\": 37}, {\"v\": 4}, {\"v\": 92.0}, {\"v\": 8.0}, {\"v\": 0}, {\"v\": -47097.06636653798}, {\"v\": 3307.0560566067043}, {\"v\": 7418.353023578275}, {\"v\": 3174.1305994501704}, {\"v\": -3171.53771641945}, {\"v\": 1888.5667622108429}, {\"v\": -3952.838620917695}, {\"v\": -3341.653834759758}, {\"v\": 3770.59023866098}, {\"v\": 1319.4877578087917}]}, {\"c\": [{\"v\": 57}, {\"v\": \"2016-01-13-110\"}, {\"v\": \"2016-01-13\"}, {\"v\": 110}, {\"v\": 3}, {\"v\": 0}, {\"v\": 297.0}, {\"v\": 24.75}, {\"v\": 558}, {\"v\": 111}, {\"v\": 18}, {\"v\": 13}, {\"v\": 2}, {\"v\": 93.0}, {\"v\": 4.0}, {\"v\": 0}, {\"v\": -47773.22323187668}, {\"v\": 257.7393484854198}, {\"v\": 2191.7244765258706}, {\"v\": 752.021298700525}, {\"v\": 454.5530986064317}, {\"v\": -3717.498869037879}, {\"v\": 1848.419113846315}, {\"v\": -400.2721438307467}, {\"v\": 684.0082373708226}, {\"v\": -745.1399991640477}]}, {\"c\": [{\"v\": 64}, {\"v\": \"2016-01-04-58\"}, {\"v\": \"2016-01-04\"}, {\"v\": 58}, {\"v\": 1}, {\"v\": 0}, {\"v\": 115.0}, {\"v\": 10.454545454545455}, {\"v\": 400}, {\"v\": 78}, {\"v\": 19}, {\"v\": 15}, {\"v\": 8}, {\"v\": 209.0}, {\"v\": 12.0}, {\"v\": 2}, {\"v\": -37490.79027715142}, {\"v\": 17372.18636730356}, {\"v\": 1128.362111785697}, {\"v\": 926.5660585866817}, {\"v\": -4135.298751049407}, {\"v\": -5936.9099382234235}, {\"v\": 10155.36272180107}, {\"v\": 1946.4203093884096}, {\"v\": -1276.7177433146064}, {\"v\": -649.2607872280148}]}, {\"c\": [{\"v\": 38}, {\"v\": \"2016-01-16-1\"}, {\"v\": \"2016-01-16\"}, {\"v\": 1}, {\"v\": 6}, {\"v\": 0}, {\"v\": 61.0}, {\"v\": 30.5}, {\"v\": null}, {\"v\": null}, {\"v\": null}, {\"v\": null}, {\"v\": 2}, {\"v\": 132.0}, {\"v\": 4.0}, {\"v\": 0}, {\"v\": -55675.97168334918}, {\"v\": 197.55749255608782}, {\"v\": 1409.8597901207015}, {\"v\": -5526.461837325348}, {\"v\": -1318.2119825386803}, {\"v\": 441.98451441921895}, {\"v\": -1170.4813351876405}, {\"v\": 972.3741228581148}, {\"v\": 1210.753183088647}, {\"v\": 964.3285146391023}]}, {\"c\": [{\"v\": 56}, {\"v\": \"2016-01-02-79\"}, {\"v\": \"2016-01-02\"}, {\"v\": 79}, {\"v\": 6}, {\"v\": 0}, {\"v\": 19.0}, {\"v\": 19.0}, {\"v\": 181}, {\"v\": 14}, {\"v\": 7}, {\"v\": 9}, {\"v\": 2}, {\"v\": 156.0}, {\"v\": 15.0}, {\"v\": 0}, {\"v\": -62654.031675997874}, {\"v\": 6028.484803735022}, {\"v\": -4445.548851447891}, {\"v\": -10283.329063610014}, {\"v\": 5597.915947424435}, {\"v\": -709.9454471567989}, {\"v\": 730.2480447667864}, {\"v\": 1275.1416968467174}, {\"v\": 298.16995815888276}, {\"v\": 2850.1647988092195}]}, {\"c\": [{\"v\": 11}, {\"v\": \"2016-01-04-125\"}, {\"v\": \"2016-01-04\"}, {\"v\": 125}, {\"v\": 1}, {\"v\": 0}, {\"v\": 441.40000000000003}, {\"v\": 19.191304347826087}, {\"v\": 752}, {\"v\": 134}, {\"v\": 29}, {\"v\": 18}, {\"v\": 4}, {\"v\": 211.0}, {\"v\": 12.0}, {\"v\": 1}, {\"v\": -33769.189869272246}, {\"v\": -1151.3482885368967}, {\"v\": 18533.225073816397}, {\"v\": 6789.145017891535}, {\"v\": -23522.03515773121}, {\"v\": 7287.9830410494815}, {\"v\": -1428.2865100300417}, {\"v\": -1332.1135902923972}, {\"v\": 3062.105263397846}, {\"v\": 822.5335611019855}]}, {\"c\": [{\"v\": 40}, {\"v\": \"2016-01-20-50\"}, {\"v\": \"2016-01-20\"}, {\"v\": 50}, {\"v\": 3}, {\"v\": 0}, {\"v\": 499.9}, {\"v\": 33.32666666666667}, {\"v\": 323}, {\"v\": 41}, {\"v\": 11}, {\"v\": 8}, {\"v\": null}, {\"v\": null}, {\"v\": null}, {\"v\": 9}, {\"v\": -64931.49467540745}, {\"v\": -3401.9619504950874}, {\"v\": -4726.897273478495}, {\"v\": -7591.197201663188}, {\"v\": 1775.6541279919063}, {\"v\": -241.2248511901506}, {\"v\": -1948.922771986791}, {\"v\": 549.5085007553547}, {\"v\": 1107.8009935188818}, {\"v\": 953.1597396209328}]}, {\"c\": [{\"v\": 22}, {\"v\": \"2016-01-10-18\"}, {\"v\": \"2016-01-10\"}, {\"v\": 18}, {\"v\": 0}, {\"v\": 1}, {\"v\": 49.0}, {\"v\": 16.333333333333332}, {\"v\": 549}, {\"v\": 85}, {\"v\": 18}, {\"v\": 9}, {\"v\": 8}, {\"v\": 167.0}, {\"v\": 6.0}, {\"v\": 1}, {\"v\": -45438.035406044546}, {\"v\": 103.79571453676553}, {\"v\": 5852.793216570541}, {\"v\": -2209.189266541676}, {\"v\": -1052.2480234549105}, {\"v\": -9.239923816489588}, {\"v\": -2590.604744347458}, {\"v\": -642.6732791773317}, {\"v\": 1197.1795828390977}, {\"v\": -4524.195686930682}]}, {\"c\": [{\"v\": 10}, {\"v\": \"2016-01-13-74\"}, {\"v\": \"2016-01-13\"}, {\"v\": 74}, {\"v\": 3}, {\"v\": 0}, {\"v\": 49.300000000000004}, {\"v\": 8.216666666666667}, {\"v\": 149}, {\"v\": 14}, {\"v\": 12}, {\"v\": 3}, {\"v\": 2}, {\"v\": 88.0}, {\"v\": 3.0}, {\"v\": 4}, {\"v\": -67611.82610801347}, {\"v\": -898.5941828023707}, {\"v\": -7635.177177613466}, {\"v\": -8032.089387741988}, {\"v\": 5210.1782665080755}, {\"v\": -2477.0750304801663}, {\"v\": 1930.2069894775955}, {\"v\": 929.9941455407438}, {\"v\": -88.20441842574546}, {\"v\": 738.2117674524503}]}, {\"c\": [{\"v\": 35}, {\"v\": \"2016-01-04-141\"}, {\"v\": \"2016-01-04\"}, {\"v\": 141}, {\"v\": 1}, {\"v\": 0}, {\"v\": 72.0}, {\"v\": 12.0}, {\"v\": 221}, {\"v\": 22}, {\"v\": 2}, {\"v\": 3}, {\"v\": 4}, {\"v\": 176.0}, {\"v\": 12.0}, {\"v\": 1}, {\"v\": -62108.40537426752}, {\"v\": -1597.4540409213016}, {\"v\": -2281.3415176206936}, {\"v\": -5367.720469804684}, {\"v\": 131.7044948496004}, {\"v\": 6.323113769207557}, {\"v\": -1158.9103961311603}, {\"v\": 1808.4631016349813}, {\"v\": 9.694361196531876}, {\"v\": 933.5337778022598}]}, {\"c\": [{\"v\": 49}, {\"v\": \"2016-01-02-76\"}, {\"v\": \"2016-01-02\"}, {\"v\": 76}, {\"v\": 6}, {\"v\": 0}, {\"v\": 162.8}, {\"v\": 23.25714285714286}, {\"v\": 189}, {\"v\": 18}, {\"v\": 0}, {\"v\": 8}, {\"v\": 2}, {\"v\": 167.0}, {\"v\": 15.0}, {\"v\": 2}, {\"v\": -64881.74315903964}, {\"v\": -1156.0659011781643}, {\"v\": -3863.328842476251}, {\"v\": -7024.058047585387}, {\"v\": 1711.4398111364687}, {\"v\": 878.2683929264282}, {\"v\": 632.7832163209396}, {\"v\": 1996.2896674171216}, {\"v\": 548.4361640353386}, {\"v\": 1224.6792955872024}]}, {\"c\": [{\"v\": 54}, {\"v\": \"2016-01-02-105\"}, {\"v\": \"2016-01-02\"}, {\"v\": 105}, {\"v\": 6}, {\"v\": 0}, {\"v\": 184.0}, {\"v\": 8.761904761904763}, {\"v\": null}, {\"v\": null}, {\"v\": null}, {\"v\": null}, {\"v\": 2}, {\"v\": 91.0}, {\"v\": 15.0}, {\"v\": 0}, {\"v\": -48692.790605235336}, {\"v\": 5023.943173240101}, {\"v\": 4011.233328833058}, {\"v\": -1168.1156086830792}, {\"v\": -7489.87405270384}, {\"v\": 1615.0170148318837}, {\"v\": 501.62937649389056}, {\"v\": -527.1636014241343}, {\"v\": 1293.422760793384}, {\"v\": 1256.3776656419784}]}, {\"c\": [{\"v\": 54}, {\"v\": \"2016-01-10-115\"}, {\"v\": \"2016-01-10\"}, {\"v\": 115}, {\"v\": 0}, {\"v\": 1}, {\"v\": 429.0}, {\"v\": 13.40625}, {\"v\": null}, {\"v\": null}, {\"v\": null}, {\"v\": null}, {\"v\": 4}, {\"v\": 156.0}, {\"v\": 7.0}, {\"v\": 0}, {\"v\": -48692.790605235336}, {\"v\": 5023.943173240101}, {\"v\": 4011.233328833058}, {\"v\": -1168.1156086830792}, {\"v\": -7489.87405270384}, {\"v\": 1615.0170148318837}, {\"v\": 501.62937649389056}, {\"v\": -527.1636014241343}, {\"v\": 1293.422760793384}, {\"v\": 1256.3776656419784}]}, {\"c\": [{\"v\": 48}, {\"v\": \"2016-01-01-35\"}, {\"v\": \"2016-01-01\"}, {\"v\": 35}, {\"v\": 5}, {\"v\": 0}, {\"v\": 1461.0}, {\"v\": 25.189655172413794}, {\"v\": 1757}, {\"v\": 180}, {\"v\": 56}, {\"v\": 42}, {\"v\": 1}, {\"v\": 184.0}, {\"v\": 2.0}, {\"v\": 43}, {\"v\": 303528.0225495317}, {\"v\": 14673.166854568637}, {\"v\": -108784.56253072582}, {\"v\": -13890.963549820584}, {\"v\": -32547.730086099262}, {\"v\": -2243.1199694081133}, {\"v\": 2666.3170298973546}, {\"v\": -5703.474459306734}, {\"v\": -4761.855349164535}, {\"v\": -1191.1538649926056}]}, {\"c\": [{\"v\": 26}, {\"v\": \"2016-01-13-89\"}, {\"v\": \"2016-01-13\"}, {\"v\": 89}, {\"v\": 3}, {\"v\": 0}, {\"v\": 473.00000000000006}, {\"v\": 20.56521739130435}, {\"v\": 345}, {\"v\": 64}, {\"v\": 24}, {\"v\": 17}, {\"v\": 2}, {\"v\": 90.0}, {\"v\": 5.0}, {\"v\": 0}, {\"v\": -59316.19770135737}, {\"v\": -4734.678150883374}, {\"v\": -504.89162687795965}, {\"v\": -4147.46537609326}, {\"v\": -582.3998573778894}, {\"v\": 89.5481513594684}, {\"v\": -2526.64154423666}, {\"v\": -520.8476126145814}, {\"v\": 453.97207853578675}, {\"v\": 404.1440862641897}]}, {\"c\": [{\"v\": 57}, {\"v\": \"2016-01-21-87\"}, {\"v\": \"2016-01-21\"}, {\"v\": 87}, {\"v\": 4}, {\"v\": 0}, {\"v\": 252.0}, {\"v\": 15.75}, {\"v\": 525}, {\"v\": 100}, {\"v\": 15}, {\"v\": 25}, {\"v\": null}, {\"v\": null}, {\"v\": null}, {\"v\": 1}, {\"v\": -47773.22323187668}, {\"v\": 257.7393484854198}, {\"v\": 2191.7244765258706}, {\"v\": 752.021298700525}, {\"v\": 454.5530986064317}, {\"v\": -3717.498869037879}, {\"v\": 1848.419113846315}, {\"v\": -400.2721438307467}, {\"v\": 684.0082373708226}, {\"v\": -745.1399991640477}]}, {\"c\": [{\"v\": 7}, {\"v\": \"2016-01-08-98\"}, {\"v\": \"2016-01-08\"}, {\"v\": 98}, {\"v\": 5}, {\"v\": 0}, {\"v\": 3440.500000000002}, {\"v\": 19.437853107344644}, {\"v\": 1723}, {\"v\": 650}, {\"v\": 211}, {\"v\": 104}, {\"v\": 3}, {\"v\": 114.0}, {\"v\": 6.0}, {\"v\": 6}, {\"v\": 194502.1768251736}, {\"v\": -118529.11141726472}, {\"v\": 41855.60263548842}, {\"v\": -25162.950979380294}, {\"v\": -6096.774738519995}, {\"v\": -186.00277981099455}, {\"v\": 11923.001767560034}, {\"v\": -4404.594733167425}, {\"v\": -6875.543023636828}, {\"v\": -377.03198692554037}]}], \"cols\": [{\"type\": \"number\", \"id\": \"district_id\", \"label\": \"district_id\"}, {\"type\": \"string\", \"id\": \"timeslot\", \"label\": \"timeslot\"}, {\"type\": \"string\", \"id\": \"date\", \"label\": \"date\"}, {\"type\": \"number\", \"id\": \"timeofday_slot\", \"label\": \"timeofday_slot\"}, {\"type\": \"number\", \"id\": \"day_in_week\", \"label\": \"day_in_week\"}, {\"type\": \"number\", \"id\": \"is_sunday\", \"label\": \"is_sunday\"}, {\"type\": \"number\", \"id\": \"sum_price\", \"label\": \"sum_price\"}, {\"type\": \"number\", \"id\": \"avg_price\", \"label\": \"avg_price\"}, {\"type\": \"number\", \"id\": \"traffic_tj_level1\", \"label\": \"traffic_tj_level1\"}, {\"type\": \"number\", \"id\": \"traffic_tj_level2\", \"label\": \"traffic_tj_level2\"}, {\"type\": \"number\", \"id\": \"traffic_tj_level3\", \"label\": \"traffic_tj_level3\"}, {\"type\": \"number\", \"id\": \"traffic_tj_level4\", \"label\": \"traffic_tj_level4\"}, {\"type\": \"number\", \"id\": \"weather\", \"label\": \"weather\"}, {\"type\": \"number\", \"id\": \"weather_pm25\", \"label\": \"weather_pm25\"}, {\"type\": \"number\", \"id\": \"weather_temperature\", \"label\": \"weather_temperature\"}, {\"type\": \"number\", \"id\": \"gap\", \"label\": \"gap\"}, {\"type\": \"number\", \"id\": \"poi1\", \"label\": \"poi1\"}, {\"type\": \"number\", \"id\": \"poi2\", \"label\": \"poi2\"}, {\"type\": \"number\", \"id\": \"poi3\", \"label\": \"poi3\"}, {\"type\": \"number\", \"id\": \"poi4\", \"label\": \"poi4\"}, {\"type\": \"number\", \"id\": \"poi5\", \"label\": \"poi5\"}, {\"type\": \"number\", \"id\": \"poi6\", \"label\": \"poi6\"}, {\"type\": \"number\", \"id\": \"poi7\", \"label\": \"poi7\"}, {\"type\": \"number\", \"id\": \"poi8\", \"label\": \"poi8\"}, {\"type\": \"number\", \"id\": \"poi9\", \"label\": \"poi9\"}, {\"type\": \"number\", \"id\": \"poi10\", \"label\": \"poi10\"}]});\n",
       "        }\n",
       "      );\n",
       "    </script>\n",
       "  "
      ],
      "text/plain": [
       "Table datalab-projects-1331:xjk_algo_comp.future_gaps_final1"
      ]
     },
     "execution_count": 40,
     "metadata": {},
     "output_type": "execute_result"
    }
   ],
   "source": [
    "schema = bq.Schema([\n",
    "    {'name': 'district_id', 'type': 'INTEGER'},\n",
    "    {'name': 'timeslot', 'type': 'STRING'},\n",
    "    {'name': 'date', 'type': 'STRING'},\n",
    "    {'name': 'timeofday_slot', 'type': 'INTEGER'},\n",
    "    {'name': 'day_in_week', 'type': 'INTEGER'},\n",
    "    {'name': 'is_sunday', 'type': 'INTEGER'},\n",
    "    {'name': 'sum_price', 'type': 'FLOAT'},\n",
    "    {'name': 'avg_price', 'type': 'FLOAT'},\n",
    "    {'name': 'traffic_tj_level1', 'type': 'INTEGER'},\n",
    "    {'name': 'traffic_tj_level2', 'type': 'INTEGER'},\n",
    "    {'name': 'traffic_tj_level3', 'type': 'INTEGER'},\n",
    "    {'name': 'traffic_tj_level4', 'type': 'INTEGER'},\n",
    "    {'name': 'weather', 'type': 'INTEGER'},\n",
    "    {'name': 'weather_pm25', 'type': 'FLOAT'},\n",
    "    {'name': 'weather_temperature', 'type': 'FLOAT'},\n",
    "    {'name': 'gap', 'type': 'INTEGER'}\n",
    "] + poi_schema)\n",
    "table = bq.Table('datalab-projects-1331:xjk_algo_comp.future_gaps_final1')\n",
    "table.create(schema)\n",
    "table.insert_data(all_data)"
   ]
  },
  {
   "cell_type": "markdown",
   "metadata": {},
   "source": [
    "# Replace NULL Values"
   ]
  },
  {
   "cell_type": "code",
   "execution_count": null,
   "metadata": {
    "collapsed": true
   },
   "outputs": [],
   "source": [
    "all_data_df = pd.DataFrame(all_data)\n",
    "all_data_df\n",
    "all_data_df['traffic_tj_level1'] = all_data_df['traffic_tj_level1'].fillna(0).astype('int64')\n",
    "all_data_df['traffic_tj_level2'] = all_data_df['traffic_tj_level2'].fillna(0).astype('int64')\n",
    "all_data_df['traffic_tj_level3'] = all_data_df['traffic_tj_level3'].fillna(0).astype('int64')\n",
    "all_data_df['traffic_tj_level4'] = all_data_df['traffic_tj_level4'].fillna(0).astype('int64')\n",
    "all_data_df['weather'] = all_data_df['weather'].fillna(0).astype('int64')\n",
    "\n",
    "schema = bq.Schema([\n",
    "    {'name': 'district_id', 'type': 'INTEGER'},\n",
    "    {'name': 'timeslot', 'type': 'STRING'},\n",
    "    {'name': 'date', 'type': 'STRING'},\n",
    "    {'name': 'timeofday_slot', 'type': 'INTEGER'},\n",
    "    {'name': 'day_in_week', 'type': 'INTEGER'},\n",
    "    {'name': 'is_sunday', 'type': 'INTEGER'},\n",
    "    {'name': 'sum_price', 'type': 'FLOAT'},\n",
    "    {'name': 'avg_price', 'type': 'FLOAT'},\n",
    "    {'name': 'traffic_tj_level1', 'type': 'INTEGER'},\n",
    "    {'name': 'traffic_tj_level2', 'type': 'INTEGER'},\n",
    "    {'name': 'traffic_tj_level3', 'type': 'INTEGER'},\n",
    "    {'name': 'traffic_tj_level4', 'type': 'INTEGER'},\n",
    "    {'name': 'weather', 'type': 'INTEGER'},\n",
    "    {'name': 'weather_pm25', 'type': 'FLOAT'},\n",
    "    {'name': 'weather_temperature', 'type': 'FLOAT'},\n",
    "    {'name': 'gap', 'type': 'INTEGER'}\n",
    "] + poi_schema)\n",
    "table = bq.Table('datalab-projects-1331:xjk_algo_comp.future_gaps_final1')\n",
    "if not table.exists():\n",
    "  table.create(schema)\n",
    "table.insert_data(all_data_df)"
   ]
  },
  {
   "cell_type": "markdown",
   "metadata": {},
   "source": [
    "# Previous Gap\n",
    "Add `previous_gap` field to data."
   ]
  },
  {
   "cell_type": "code",
   "execution_count": null,
   "metadata": {
    "collapsed": true
   },
   "outputs": [],
   "source": [
    "%%sql --module q\n",
    "\n",
    "SELECT *\n",
    "FROM [datalab-projects-1331:xjk_algo_comp.future_gaps_final1]\n",
    "ORDER BY timeslot, district_id"
   ]
  },
  {
   "cell_type": "code",
   "execution_count": null,
   "metadata": {
    "collapsed": false
   },
   "outputs": [],
   "source": [
    "query = bq.Query(q)\n",
    "tableresult = query.results()\n",
    "\n",
    "previous_gaps = {}\n",
    "print 'there are {} rows'.format(tableresult.length)\n",
    "for rcounter, row in enumerate(tableresult):\n",
    "  previous_gaps['{}:{}'.format(row['timeslot'], row['district_id'])] = row['gap']\n",
    "  if rcounter % 5000 == 0:\n",
    "    print 'processed {} rows'.format(rcounter)"
   ]
  },
  {
   "cell_type": "code",
   "execution_count": null,
   "metadata": {
    "collapsed": false
   },
   "outputs": [],
   "source": [
    "all_data = []\n",
    "print 'there are {} rows'.format(tableresult.length)\n",
    "for rcounter, row in enumerate(tableresult):\n",
    "  timeslot_r = map(lambda x: int(x), row['timeslot'].split('-'))\n",
    "  for i in range(prev_n_range):\n",
    "    prev_n = i+1\n",
    "    slot = timeslot_r[3] - 1\n",
    "    date_obj = date(timeslot_r[0], timeslot_r[1], timeslot_r[2])\n",
    "    if slot <= 0:\n",
    "      slot = 144\n",
    "      date_obj = date_obj - timedelta(days=1)\n",
    "    prev_timestamp = '{}-{}-{}-{}'.format(\n",
    "      date_obj.year, str(date_obj.month).zfill(2), str(date_obj.day).zfill(2), slot)\n",
    "    prev_index = '{}:{}'.format(prev_timestamp, row['district_id'])\n",
    "    row['previous_gap{}'.format(prev_n)] = 0\n",
    "    if prev_index in previous_gaps:\n",
    "      row['previous_gap{}'.format(prev_n)] = previous_gaps[prev_index]\n",
    "  all_data.append(row)\n",
    "  if rcounter % 5000 == 0:\n",
    "    print 'processed {} rows'.format(rcounter)"
   ]
  },
  {
   "cell_type": "code",
   "execution_count": null,
   "metadata": {
    "collapsed": false
   },
   "outputs": [],
   "source": [
    "schema = bq.Schema([\n",
    "    {'name': 'district_id', 'type': 'INTEGER'},\n",
    "    {'name': 'timeslot', 'type': 'STRING'},\n",
    "    {'name': 'date', 'type': 'STRING'},\n",
    "    {'name': 'timeofday_slot', 'type': 'INTEGER'},\n",
    "    {'name': 'day_in_week', 'type': 'INTEGER'},\n",
    "    {'name': 'is_sunday', 'type': 'INTEGER'},\n",
    "    {'name': 'sum_price', 'type': 'FLOAT'},\n",
    "    {'name': 'avg_price', 'type': 'FLOAT'},\n",
    "    {'name': 'poi1', 'type': 'FLOAT'},\n",
    "    {'name': 'poi2', 'type': 'FLOAT'},\n",
    "    {'name': 'poi3', 'type': 'FLOAT'},\n",
    "    {'name': 'poi4', 'type': 'FLOAT'},\n",
    "    {'name': 'poi5', 'type': 'FLOAT'},\n",
    "    {'name': 'traffic_tj_level1', 'type': 'INTEGER'},\n",
    "    {'name': 'traffic_tj_level2', 'type': 'INTEGER'},\n",
    "    {'name': 'traffic_tj_level3', 'type': 'INTEGER'},\n",
    "    {'name': 'traffic_tj_level4', 'type': 'INTEGER'},\n",
    "    {'name': 'weather', 'type': 'INTEGER'},\n",
    "    {'name': 'weather_pm25', 'type': 'FLOAT'},\n",
    "    {'name': 'weather_temperature', 'type': 'FLOAT'},\n",
    "    {'name': 'gap', 'type': 'INTEGER'}\n",
    "] + poi_schema + prev_gap_schema)\n",
    "table = bq.Table('datalab-projects-1331:xjk_algo_comp.future_gaps_final2')\n",
    "table.create(schema)\n",
    "table.insert_data(all_data)"
   ]
  },
  {
   "cell_type": "code",
   "execution_count": null,
   "metadata": {
    "collapsed": true
   },
   "outputs": [],
   "source": []
  }
 ],
 "metadata": {
  "kernelspec": {
   "display_name": "Python 2",
   "language": "python",
   "name": "python2"
  },
  "language_info": {
   "codemirror_mode": {
    "name": "ipython",
    "version": 2
   },
   "file_extension": ".py",
   "mimetype": "text/x-python",
   "name": "python",
   "nbconvert_exporter": "python",
   "pygments_lexer": "ipython2",
   "version": "2.7.9"
  }
 },
 "nbformat": 4,
 "nbformat_minor": 0
}
