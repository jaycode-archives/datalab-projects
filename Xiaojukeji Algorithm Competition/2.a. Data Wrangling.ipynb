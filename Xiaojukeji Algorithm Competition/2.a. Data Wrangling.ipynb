{
 "cells": [
  {
   "cell_type": "markdown",
   "metadata": {},
   "source": [
    "# Gaps Table\n",
    "First, make a simple **gaps** table, then fill it with data from other tables."
   ]
  },
  {
   "cell_type": "code",
   "execution_count": null,
   "metadata": {
    "collapsed": true
   },
   "outputs": [],
   "source": [
    "%%bigquery udf -m orders_create_additional_fields\n",
    "/**\n",
    " * Pad with 0 or given string.\n",
    " *\n",
    " * @param int n Number to add padding to.\n",
    " * @param int width Width of number + padding.\n",
    " * @param string z (Optional) Other string to replace '0' as padding.\n",
    " */\n",
    "function pad(n, width, z) {\n",
    "  z = z || '0';\n",
    "  n = n + '';\n",
    "  return n.length >= width ? n : new Array(width - n.length + 1).join(z) + n;\n",
    "}\n",
    "\n",
    "/**\n",
    " * Create additional fields on orders table for gaps table creation.\n",
    " *\n",
    " * @param {{order_id: string, driver_id: string, passenger_id: string,\n",
    "            start_district_hash: string, dest_district_hash: string, price: float,\n",
    "            time: string}} r\n",
    " * @param function({{order_id: string, driver_id: string, passenger_id: string,\n",
    "                     start_district_hash: string, dest_district_hash: string, price: float,\n",
    "                     time: string, timeslot: string, timeofday_slot: integer, day_in_week: integer,\n",
    "                     date: string}}) emitFn\n",
    " */\n",
    "function(r, emitFn) {\n",
    "  var t = r.time.split(/[ :\\-]/);\n",
    "  var slot = Math.floor((parseInt(t[3]) * 60 + parseInt(t[4])) / 10) + 1;\n",
    "  r.timeslot = t[0] + '-' + pad(t[1], 2) +\n",
    "               '-' + pad(t[2], 2) + '-' + slot;\n",
    "  r.timeofday_slot = slot;\n",
    "  r.date = t[0] + '-' + pad(t[1], 2) + '-' + pad(t[2], 2);\n",
    "  r.day_in_week = new Date(parseInt(t[0]), parseInt(t[1])-1, parseInt(t[2])).getDay();\n",
    "  emitFn(r);\n",
    "}"
   ]
  },
  {
   "cell_type": "code",
   "execution_count": null,
   "metadata": {
    "collapsed": false
   },
   "outputs": [],
   "source": [
    "%%bigquery execute -t datalab-projects-1331:xjk_algo_comp.gaps -m create\n",
    "SELECT district_id, FIRST(orders.timeslot) AS timeslot, FIRST(orders.date) AS date,\n",
    "  FIRST(day_in_week) AS day_in_week, FIRST(timeofday_slot) AS timeofday_slot,\n",
    "  SUM(price) AS sum_price, AVG(price) AS avg_price,\n",
    "  SUM(IF(driver_id = 'NULL', 1, 0)) AS gap\n",
    "FROM orders_create_additional_fields([datalab-projects-1331:xjk_algo_comp.orders]) AS orders\n",
    "JOIN [datalab-projects-1331:xjk_algo_comp.districts] AS districts \n",
    "  ON orders.start_district_hash = districts.district_hash\n",
    "GROUP BY district_id, orders.timeslot"
   ]
  },
  {
   "cell_type": "code",
   "execution_count": null,
   "metadata": {
    "collapsed": true
   },
   "outputs": [],
   "source": [
    "%% sql -q tester\n",
    "SELECT SUM(price) FROM datalab-projects-1331:xjk_algo_comp.orders\n",
    "WHERE start_district_hash = 'd4ec2125aff74eded207d2d915ef682f'\n",
    "  AND (time LIKE \"%2016-01-01 00:5%\")\n",
    "  \n",
    "# Reference only. Use above query to check if aggregation was correct, by comparing the\n",
    "# result of that from sum of district_hash = 51 and timeslot \"2016-01-01-6\", which \n",
    "# should be 126498.0."
   ]
  },
  {
   "cell_type": "markdown",
   "metadata": {},
   "source": [
    "# +1 timeslot\n",
    "We are going to use past data to predict the gaps for the next 10 minutes (or in other words, the next timeslot). To do this, we need to update timeslot related information. Specifically we are going to do the following:\n",
    "1. Add `timeslot` feature by one:\n",
    "  - '2016-01-45' to '2016-01-46'\n",
    "  - '2016-01-144' to '2016-02-1'\n",
    "2. Update `date` and `slot` features accordingly.\n",
    "3. Recalculate `day_in_week` feature."
   ]
  },
  {
   "cell_type": "code",
   "execution_count": null,
   "metadata": {
    "collapsed": true
   },
   "outputs": [],
   "source": [
    "%%bigquery udf --module gaps_plus_one_timeslot\n",
    "/**\n",
    " * Pad with 0 or given string.\n",
    " *\n",
    " * @param int n Number to add padding to.\n",
    " * @param int width Width of number + padding.\n",
    " * @param string z (Optional) Other string to replace '0' as padding.\n",
    " */\n",
    "function pad(n, width, z) {\n",
    "  z = z || '0';\n",
    "  n = n + '';\n",
    "  return n.length >= width ? n : new Array(width - n.length + 1).join(z) + n;\n",
    "}\n",
    "\n",
    "/**\n",
    " * Add one timeslot and adjust other relevant tables.\n",
    " *\n",
    " * @param {{district_id: integer, timeslot: string, date: string, day_in_week: integer,\n",
    "            timeofday_slot: integer, sum_price: float, avg_price: float, gap: integer}} r\n",
    " * @param function({{district_id: integer, timeslot: string, date: string, day_in_week: integer,\n",
    "                timeofday_slot: integer, sum_price: float, avg_price: float, gap: integer}}) emitFn\n",
    " */\n",
    "function(r, emitFn) {\n",
    "  \n",
    "  var t = r.timeslot.split(/-/);\n",
    "  var oldslot = parseInt(t[3]);\n",
    "  var newslot = oldslot + 1;\n",
    "  var d = new Date(parseInt(t[0]), parseInt(t[1])-1, parseInt(t[2]));\n",
    "  if (oldslot == 144) {\n",
    "    newslot = 1;\n",
    "    d = d.setDate(d.getDate() + 1);\n",
    "    r.day_in_week = d.getDay();\n",
    "    r.date = d.getFullYear() + '-' + pad(d.getMonth()+1, 2) +\n",
    "             '-' + pad(d.getDate(), 2);\n",
    "  }\n",
    "  r.timeslot = d.getFullYear() + '-' + pad(d.getMonth()+1, 2) +\n",
    "               '-' + pad(d.getDate(), 2) + '-' + newslot;\n",
    "\n",
    "  r.timeofday_slot = newslot;\n",
    "  emitFn(r);\n",
    "}"
   ]
  },
  {
   "cell_type": "code",
   "execution_count": null,
   "metadata": {
    "collapsed": false
   },
   "outputs": [],
   "source": [
    "%%bigquery udf --module gaps_plus_one_timeslot\n",
    "  \n",
    "// Use this when testing\n",
    "// %%javascript\n",
    "\n",
    "/**\n",
    " * Pad with 0 or given string.\n",
    " *\n",
    " * @param int n Number to add padding to.\n",
    " * @param int width Width of number + padding.\n",
    " * @param string z (Optional) Other string to replace '0' as padding.\n",
    " */\n",
    "function pad(n, width, z) {\n",
    "  z = z || '0';\n",
    "  n = n + '';\n",
    "  return n.length >= width ? n : new Array(width - n.length + 1).join(z) + n;\n",
    "}\n",
    "\n",
    "/**\n",
    " * Add one timeslot and adjust other relevant tables.\n",
    " *\n",
    " * @param {{district_id: integer, timeslot: string, date: string, day_in_week: integer,\n",
    "            timeofday_slot: integer, sum_price: float, avg_price: float, gap: integer}} r\n",
    " * @param function({{district_id: integer, timeslot: string, date: string, day_in_week: integer,\n",
    "                timeofday_slot: integer, sum_price: float, avg_price: float, gap: integer}}) emitFn\n",
    " */\n",
    "function(r, emitFn) {\n",
    "  \n",
    "  var t = r.timeslot.split(/-/);\n",
    "  var oldslot = parseInt(t[3]);\n",
    "  var newslot = oldslot + 1;\n",
    "  var d = new Date(parseInt(t[0]), parseInt(t[1])-1, parseInt(t[2]));\n",
    "  if (oldslot == 144) {\n",
    "    newslot = 1;\n",
    "    d = new Date(d.setDate(d.getDate() + 1));\n",
    "    r.day_in_week = d.getDay();\n",
    "    r.date = d.getFullYear() + '-' + pad(d.getMonth()+1, 2) +\n",
    "             '-' + pad(d.getDate(), 2);\n",
    "  }\n",
    "  r.timeslot = d.getFullYear() + '-' + pad(d.getMonth()+1, 2) +\n",
    "               '-' + pad(d.getDate(), 2) + '-' + newslot;\n",
    "\n",
    "  r.timeofday_slot = newslot;\n",
    "  emitFn(r);\n",
    "}\n",
    "\n",
    "// For testing (without `new Date()` after date added by 1 setDate returns milliseconds)\n",
    "\n",
    "// var test_row = {\n",
    "//   district_id: 1,\n",
    "//   timeslot: '2016-01-22-144',\n",
    "//   date: '2016-01-22',\n",
    "//   day_in_week: 5,\n",
    "//   timeofday_slot: 144,\n",
    "//   sum_price: 0.0,\n",
    "//   avg_price: 0.0,\n",
    "//   gap: 11\n",
    "// };\n",
    "\n",
    "// function emitter(r) {\n",
    "//   for (var p in r) {\n",
    "//     element.append(p + '=' + r[p] + '<br>');\n",
    "//   }\n",
    "// }\n",
    "\n",
    "// udf(test_row, emitter);"
   ]
  },
  {
   "cell_type": "code",
   "execution_count": null,
   "metadata": {
    "collapsed": false
   },
   "outputs": [],
   "source": [
    "%%bigquery execute -t datalab-projects-1331:xjk_algo_comp.future_gaps -m create\n",
    "\n",
    "SELECT district_id, timeslot, date, day_in_week, timeofday_slot, sum_price, avg_price, gap\n",
    "FROM gaps_plus_one_timeslot([datalab-projects-1331:xjk_algo_comp.gaps])"
   ]
  },
  {
   "cell_type": "markdown",
   "metadata": {},
   "source": [
    "# Gaps Table + Other Tables"
   ]
  },
  {
   "cell_type": "code",
   "execution_count": null,
   "metadata": {
    "collapsed": false
   },
   "outputs": [],
   "source": [
    "%%bigquery execute -t datalab-projects-1331:xjk_algo_comp.future_gaps_processed -m create\n",
    "\n",
    "SELECT FIRST(gaps.district_id) AS district_id, FIRST(gaps.timeslot) AS timeslot, FIRST(gaps.date) AS date,\n",
    "  FIRST(gaps.day_in_week) AS day_in_week, IF(FIRST(gaps.day_in_week) = 0, 1, 0) AS is_sunday,\n",
    "  FIRST(gaps.timeofday_slot) AS timeofday_slot,\n",
    "  FIRST(gaps.sum_price) AS sum_price, FIRST(gaps.avg_price) AS avg_price, FIRST(gaps.gap) AS gap,\n",
    "  FIRST(pois.f1) AS f1, FIRST(pois.f11) AS f11, FIRST(pois.f11_1) AS f11_1, \n",
    "  FIRST(pois.f11_2) AS f11_2, FIRST(pois.f11_3) AS f11_3, FIRST(pois.f11_4) AS f11_4, \n",
    "  FIRST(pois.f11_5) AS f11_5, FIRST(pois.f11_6) AS f11_6, FIRST(pois.f11_7) AS f11_7, \n",
    "  FIRST(pois.f11_8) AS f11_8, FIRST(pois.f13_4) AS f13_4, FIRST(pois.f13_8) AS f13_8, \n",
    "  FIRST(pois.f14) AS f14, FIRST(pois.f14_1) AS f14_1, FIRST(pois.f14_10) AS f14_10, \n",
    "  FIRST(pois.f14_2) AS f14_2, FIRST(pois.f14_3) AS f14_3, FIRST(pois.f14_6) AS f14_6, \n",
    "  FIRST(pois.f14_8) AS f14_8, FIRST(pois.f15) AS f15, FIRST(pois.f15_1) AS f15_1, \n",
    "  FIRST(pois.f15_2) AS f15_2, FIRST(pois.f15_3) AS f15_3, FIRST(pois.f15_4) AS f15_4, \n",
    "  FIRST(pois.f15_6) AS f15_6, FIRST(pois.f15_7) AS f15_7, FIRST(pois.f15_8) AS f15_8, \n",
    "  FIRST(pois.f16) AS f16, FIRST(pois.f16_1) AS f16_1, FIRST(pois.f16_10) AS f16_10, \n",
    "  FIRST(pois.f16_11) AS f16_11, FIRST(pois.f16_12) AS f16_12, FIRST(pois.f16_3) AS f16_3, \n",
    "  FIRST(pois.f16_4) AS f16_4, FIRST(pois.f16_6) AS f16_6, FIRST(pois.f17) AS f17, \n",
    "  FIRST(pois.f17_2) AS f17_2, FIRST(pois.f17_3) AS f17_3, FIRST(pois.f17_4) AS f17_4, \n",
    "  FIRST(pois.f17_5) AS f17_5, FIRST(pois.f19) AS f19, FIRST(pois.f19_1) AS f19_1, \n",
    "  FIRST(pois.f19_2) AS f19_2, FIRST(pois.f19_3) AS f19_3, FIRST(pois.f19_4) AS f19_4, \n",
    "  FIRST(pois.f1_1) AS f1_1, FIRST(pois.f1_10) AS f1_10, FIRST(pois.f1_11) AS f1_11, \n",
    "  FIRST(pois.f1_2) AS f1_2, FIRST(pois.f1_3) AS f1_3, FIRST(pois.f1_4) AS f1_4, \n",
    "  FIRST(pois.f1_5) AS f1_5, FIRST(pois.f1_6) AS f1_6, FIRST(pois.f1_7) AS f1_7, \n",
    "  FIRST(pois.f1_8) AS f1_8, FIRST(pois.f20) AS f20, FIRST(pois.f20_1) AS f20_1, \n",
    "  FIRST(pois.f20_2) AS f20_2, FIRST(pois.f20_4) AS f20_4, FIRST(pois.f20_5) AS f20_5, \n",
    "  FIRST(pois.f20_6) AS f20_6, FIRST(pois.f20_7) AS f20_7, FIRST(pois.f20_8) AS f20_8, \n",
    "  FIRST(pois.f20_9) AS f20_9, FIRST(pois.f21_1) AS f21_1, FIRST(pois.f21_2) AS f21_2, \n",
    "  FIRST(pois.f22) AS f22, FIRST(pois.f22_1) AS f22_1, FIRST(pois.f22_2) AS f22_2, \n",
    "  FIRST(pois.f22_3) AS f22_3, FIRST(pois.f22_4) AS f22_4, FIRST(pois.f22_5) AS f22_5, \n",
    "  FIRST(pois.f23) AS f23, FIRST(pois.f23_1) AS f23_1, FIRST(pois.f23_2) AS f23_2, \n",
    "  FIRST(pois.f23_3) AS f23_3, FIRST(pois.f23_4) AS f23_4, FIRST(pois.f23_5) AS f23_5, \n",
    "  FIRST(pois.f23_6) AS f23_6, FIRST(pois.f24) AS f24, FIRST(pois.f24_1) AS f24_1, \n",
    "  FIRST(pois.f24_2) AS f24_2, FIRST(pois.f24_3) AS f24_3, FIRST(pois.f25) AS f25, \n",
    "  FIRST(pois.f25_1) AS f25_1, FIRST(pois.f25_3) AS f25_3, FIRST(pois.f25_7) AS f25_7, \n",
    "  FIRST(pois.f25_8) AS f25_8, FIRST(pois.f25_9) AS f25_9, FIRST(pois.f2_1) AS f2_1, \n",
    "  FIRST(pois.f2_10) AS f2_10, FIRST(pois.f2_11) AS f2_11, FIRST(pois.f2_12) AS f2_12, \n",
    "  FIRST(pois.f2_13) AS f2_13, FIRST(pois.f2_2) AS f2_2, FIRST(pois.f2_4) AS f2_4, \n",
    "  FIRST(pois.f2_5) AS f2_5, FIRST(pois.f2_6) AS f2_6, FIRST(pois.f2_7) AS f2_7, \n",
    "  FIRST(pois.f2_8) AS f2_8, FIRST(pois.f3_1) AS f3_1, FIRST(pois.f3_2) AS f3_2, \n",
    "  FIRST(pois.f3_3) AS f3_3, FIRST(pois.f4) AS f4, FIRST(pois.f4_1) AS f4_1, \n",
    "  FIRST(pois.f4_10) AS f4_10, FIRST(pois.f4_11) AS f4_11, FIRST(pois.f4_13) AS f4_13, \n",
    "  FIRST(pois.f4_14) AS f4_14, FIRST(pois.f4_16) AS f4_16, FIRST(pois.f4_17) AS f4_17, \n",
    "  FIRST(pois.f4_18) AS f4_18, FIRST(pois.f4_2) AS f4_2, FIRST(pois.f4_3) AS f4_3, \n",
    "  FIRST(pois.f4_5) AS f4_5, FIRST(pois.f4_6) AS f4_6, FIRST(pois.f4_7) AS f4_7, \n",
    "  FIRST(pois.f4_8) AS f4_8, FIRST(pois.f4_9) AS f4_9, FIRST(pois.f5) AS f5, \n",
    "  FIRST(pois.f5_1) AS f5_1, FIRST(pois.f5_3) AS f5_3, FIRST(pois.f5_4) AS f5_4, \n",
    "  FIRST(pois.f6) AS f6, FIRST(pois.f6_1) AS f6_1, FIRST(pois.f6_2) AS f6_2, \n",
    "  FIRST(pois.f6_4) AS f6_4, FIRST(pois.f7) AS f7, FIRST(pois.f8) AS f8, \n",
    "  FIRST(pois.f8_1) AS f8_1, FIRST(pois.f8_2) AS f8_2, FIRST(pois.f8_3) AS f8_3, \n",
    "  FIRST(pois.f8_4) AS f8_4, FIRST(pois.f8_5) AS f8_5,\n",
    "  FIRST(weather.weather) AS weather,\n",
    "  FIRST(weather.temperature) AS weather_temperature, FIRST(weather.pm25) AS weather_pm25,\n",
    "  FIRST(traffic.tj_level1) AS traffic_tj_level1, FIRST(traffic.tj_level2) AS traffic_tj_level2,\n",
    "  FIRST(traffic.tj_level3) AS traffic_tj_level3, FIRST(traffic.tj_level4) AS traffic_tj_level4\n",
    "FROM [datalab-projects-1331:xjk_algo_comp.future_gaps] as gaps\n",
    "LEFT JOIN [datalab-projects-1331:xjk_algo_comp.districts] as districts\n",
    "  ON districts.district_id = gaps.district_id\n",
    "LEFT JOIN [datalab-projects-1331:xjk_algo_comp.pois] as pois\n",
    "  ON pois.district_hash = districts.district_hash\n",
    "LEFT JOIN [datalab-projects-1331:xjk_algo_comp.weather] as weather\n",
    "  ON weather.timeslot = gaps.timeslot\n",
    "LEFT JOIN [datalab-projects-1331:xjk_algo_comp.traffic] as traffic\n",
    "  ON traffic.timeslot = gaps.timeslot\n",
    "  AND traffic.district_hash = districts.district_hash\n",
    "GROUP BY gaps.district_id, gaps.timeslot"
   ]
  },
  {
   "cell_type": "markdown",
   "metadata": {},
   "source": [
    "# PCA\n",
    "Combine POIs (features starting with 'f...') into n number of features."
   ]
  },
  {
   "cell_type": "code",
   "execution_count": 11,
   "metadata": {
    "collapsed": true
   },
   "outputs": [],
   "source": [
    "from sklearn.decomposition import PCA\n",
    "import pandas as pd\n",
    "import gcp.bigquery as bq\n",
    "import numpy as np\n",
    "\n",
    "import pdb"
   ]
  },
  {
   "cell_type": "code",
   "execution_count": null,
   "metadata": {
    "collapsed": false
   },
   "outputs": [],
   "source": [
    "pois = \"\"\"\n",
    "f1\tf11\tf11_1\tf11_2\tf11_3\tf11_4\tf11_5\tf11_6\tf11_7\tf11_8\tf13_4\tf13_8\t\n",
    "f14\tf14_1\tf14_10\tf14_2\tf14_3\tf14_6\tf14_8\tf15\tf15_1\tf15_2\tf15_3\tf15_4\t\n",
    "f15_6\tf15_7\tf15_8\tf16\tf16_1\tf16_10\tf16_11\tf16_12\tf16_3\tf16_4\tf16_6\tf17\t\n",
    "f17_2\tf17_3\tf17_4\tf17_5\tf19\tf19_1\tf19_2\tf19_3\tf19_4\tf1_1\tf1_10\tf1_11\t\n",
    "f1_2\tf1_3\tf1_4\tf1_5\tf1_6\tf1_7\tf1_8\tf20\tf20_1\tf20_2\tf20_4\tf20_5\t\n",
    "f20_6\tf20_7\tf20_8\tf20_9\tf21_1\tf21_2\tf22\tf22_1\tf22_2\tf22_3\tf22_4\tf22_5\t\n",
    "f23\tf23_1\tf23_2\tf23_3\tf23_4\tf23_5\tf23_6\tf24\tf24_1\tf24_2\tf24_3\tf25\tf25_1\t\n",
    "f25_3\tf25_7\tf25_8\tf25_9\tf2_1\tf2_10\tf2_11\tf2_12\tf2_13\tf2_2\tf2_4\tf2_5\t\n",
    "f2_6\tf2_7\tf2_8\tf3_1\tf3_2\tf3_3\tf4\tf4_1\tf4_10\tf4_11\tf4_13\tf4_14\t\n",
    "f4_16\tf4_17\tf4_18\tf4_2\tf4_3\tf4_5\tf4_6\tf4_7\tf4_8\tf4_9\tf5\tf5_1\t\n",
    "f5_3\tf5_4\tf6\tf6_1\tf6_2\tf6_4\tf7\tf8\tf8_1\tf8_2\tf8_3\tf8_4\tf8_5\n",
    "\"\"\"\n",
    "pois = map(lambda x: \"{}\".format(x.strip()), pois.split('\\t'))\n",
    "print(pois)"
   ]
  },
  {
   "cell_type": "code",
   "execution_count": 6,
   "metadata": {
    "collapsed": true
   },
   "outputs": [],
   "source": [
    "%%sql --module q\n",
    "SELECT * FROM [datalab-projects-1331:xjk_algo_comp.future_gaps_processed]"
   ]
  },
  {
   "cell_type": "code",
   "execution_count": 7,
   "metadata": {
    "collapsed": false
   },
   "outputs": [],
   "source": [
    "query = bq.Query(q)\n",
    "tableresult = query.results()"
   ]
  },
  {
   "cell_type": "code",
   "execution_count": 12,
   "metadata": {
    "collapsed": false
   },
   "outputs": [
    {
     "name": "stdout",
     "output_type": "stream",
     "text": [
      "there are 163491 rows\n",
      "processed 0 rows\n",
      "processed 5000 rows\n",
      "processed 10000 rows\n",
      "processed 15000 rows\n",
      "processed 20000 rows\n",
      "processed 25000 rows\n",
      "processed 30000 rows\n",
      "processed 35000 rows\n",
      "processed 40000 rows\n",
      "processed 45000 rows\n",
      "processed 50000 rows\n",
      "processed 55000 rows\n",
      "processed 60000 rows\n",
      "processed 65000 rows\n",
      "processed 70000 rows\n",
      "processed 75000 rows\n",
      "processed 80000 rows\n",
      "processed 85000 rows\n",
      "processed 90000 rows\n",
      "processed 95000 rows\n",
      "processed 100000 rows\n",
      "processed 105000 rows\n",
      "processed 110000 rows\n",
      "processed 115000 rows\n",
      "processed 120000 rows\n",
      "processed 125000 rows\n",
      "processed 130000 rows\n",
      "processed 135000 rows\n",
      "processed 140000 rows\n",
      "processed 145000 rows\n",
      "processed 150000 rows\n",
      "processed 155000 rows\n",
      "processed 160000 rows\n"
     ]
    }
   ],
   "source": [
    "poi_fields = ['f1', 'f11', 'f11_1', 'f11_2', 'f11_3', 'f11_4', 'f11_5', 'f11_6', 'f11_7', 'f11_8',\n",
    "              'f13_4', 'f13_8', 'f14', 'f14_1', 'f14_10', 'f14_2', 'f14_3', 'f14_6', 'f14_8', 'f15',\n",
    "              'f15_1', 'f15_2', 'f15_3', 'f15_4', 'f15_6', 'f15_7', 'f15_8', 'f16', 'f16_1', 'f16_10',\n",
    "              'f16_11', 'f16_12', 'f16_3', 'f16_4', 'f16_6', 'f17', 'f17_2', 'f17_3', 'f17_4', 'f17_5',\n",
    "              'f19', 'f19_1', 'f19_2', 'f19_3', 'f19_4', 'f1_1', 'f1_10', 'f1_11', 'f1_2', 'f1_3', 'f1_4',\n",
    "              'f1_5', 'f1_6', 'f1_7', 'f1_8', 'f20', 'f20_1', 'f20_2', 'f20_4', 'f20_5', 'f20_6', 'f20_7',\n",
    "              'f20_8', 'f20_9', 'f21_1', 'f21_2', 'f22', 'f22_1', 'f22_2', 'f22_3', 'f22_4', 'f22_5',\n",
    "              'f23', 'f23_1', 'f23_2', 'f23_3', 'f23_4', 'f23_5', 'f23_6', 'f24', 'f24_1', 'f24_2',\n",
    "              'f24_3', 'f25', 'f25_1', 'f25_3', 'f25_7', 'f25_8', 'f25_9', 'f2_1', 'f2_10', 'f2_11',\n",
    "              'f2_12', 'f2_13', 'f2_2', 'f2_4', 'f2_5', 'f2_6', 'f2_7', 'f2_8', 'f3_1', 'f3_2', 'f3_3',\n",
    "              'f4', 'f4_1', 'f4_10', 'f4_11', 'f4_13', 'f4_14', 'f4_16', 'f4_17', 'f4_18', 'f4_2',\n",
    "              'f4_3', 'f4_5', 'f4_6', 'f4_7', 'f4_8', 'f4_9', 'f5', 'f5_1', 'f5_3', 'f5_4', 'f6', 'f6_1',\n",
    "              'f6_2', 'f6_4', 'f7', 'f8', 'f8_1', 'f8_2', 'f8_3', 'f8_4', 'f8_5']\n",
    "all_fields = tableresult[0].keys()\n",
    "all_data = []\n",
    "pois_data = np.zeros((tableresult.length, len(poi_fields)))\n",
    "print 'there are {} rows'.format(tableresult.length)\n",
    "for rcounter, row in enumerate(tableresult):\n",
    "  for fcounter, field in enumerate(poi_fields):\n",
    "    pois_data[rcounter, fcounter] = row.pop(field, None)\n",
    "  all_data.append(row)\n",
    "  if rcounter % 5000 == 0:\n",
    "    print 'processed {} rows'.format(rcounter)"
   ]
  },
  {
   "cell_type": "code",
   "execution_count": 26,
   "metadata": {
    "collapsed": true
   },
   "outputs": [],
   "source": [
    "pca = PCA(n_components=5)\n",
    "pois_data_s = pca.fit_transform(pois_data)"
   ]
  },
  {
   "cell_type": "code",
   "execution_count": 28,
   "metadata": {
    "collapsed": false
   },
   "outputs": [],
   "source": [
    "for rcounter, row in enumerate(all_data):\n",
    "  for index in range(pois_data_s.shape[1]):\n",
    "    all_data[rcounter]['poi{}'.format(index+1)] = pois_data_s[rcounter, index]"
   ]
  },
  {
   "cell_type": "code",
   "execution_count": 29,
   "metadata": {
    "collapsed": false
   },
   "outputs": [
    {
     "data": {
      "text/html": [
       "\n",
       "    <div class=\"bqtv\" id=\"2_146572786286\"><table><tr><th>district_id</th><th>timeslot</th><th>date</th><th>timeofday_slot</th><th>day_in_week</th><th>is_sunday</th><th>sum_price</th><th>avg_price</th><th>poi1</th><th>poi2</th><th>poi3</th><th>poi4</th><th>poi5</th><th>traffic_tj_level1</th><th>traffic_tj_level2</th><th>traffic_tj_level3</th><th>traffic_tj_level4</th><th>weather</th><th>weather_pm25</th><th>weather_temperature</th><th>gap</th></tr><tr><td>51</td><td>2016-01-13-86</td><td>2016-01-13</td><td>86</td><td>3</td><td>0</td><td>8691.8</td><td>17.7383673469</td><td>708222.866131</td><td>-56252.6432525</td><td>-45318.9443189</td><td>31516.3520766</td><td>-6643.82498022</td><td>3485</td><td>1574</td><td>469</td><td>289</td><td>2</td><td>90.0</td><td>5.0</td><td>33</td></tr><tr><td>29</td><td>2016-01-16-69</td><td>2016-01-16</td><td>69</td><td>6</td><td>0</td><td>387.0</td><td>20.3684210526</td><td>-47097.0663665</td><td>-3307.05605661</td><td>-7418.35302358</td><td>-3174.13059945</td><td>3171.53771642</td><td>674</td><td>200</td><td>37</td><td>28</td><td>2</td><td>128.0</td><td>6.0</td><td>1</td></tr><tr><td>46</td><td>2016-01-20-17</td><td>2016-01-20</td><td>17</td><td>3</td><td>0</td><td>327.0</td><td>29.7272727273</td><td>18767.1616569</td><td>-2451.15879754</td><td>-16298.0717158</td><td>-22162.1266474</td><td>-1191.45309531</td><td>728</td><td>74</td><td>23</td><td>29</td><td>2</td><td>106.0</td><td>1.0</td><td>3</td></tr><tr><td>24</td><td>2016-01-13-46</td><td>2016-01-13</td><td>46</td><td>3</td><td>0</td><td>3132.9</td><td>29.5556603774</td><td>19523.2410099</td><td>-4962.96782651</td><td>1374.24953385</td><td>-16082.7083821</td><td>-3468.89739271</td><td>942</td><td>307</td><td>89</td><td>54</td><td>2</td><td>87.0</td><td>3.0</td><td>2</td></tr><tr><td>2</td><td>2016-01-21-61</td><td>2016-01-21</td><td>61</td><td>4</td><td>0</td><td>291.0</td><td>12.652173913</td><td>-13085.7815533</td><td>-33883.0675434</td><td>-17593.0039942</td><td>-6360.29424912</td><td>1329.90180926</td><td>697</td><td>119</td><td>33</td><td>28</td><td>&nbsp;</td><td>&nbsp;</td><td>&nbsp;</td><td>0</td></tr><tr><td>39</td><td>2016-01-08-10</td><td>2016-01-08</td><td>10</td><td>5</td><td>0</td><td>1069.0</td><td>178.166666667</td><td>-59555.2167128</td><td>-7363.13006907</td><td>2115.23884511</td><td>7184.86910524</td><td>-3614.32759192</td><td>98</td><td>13</td><td>3</td><td>2</td><td>2</td><td>162.0</td><td>5.0</td><td>2</td></tr><tr><td>2</td><td>2016-01-10-11</td><td>2016-01-10</td><td>11</td><td>0</td><td>1</td><td>41.0</td><td>8.2</td><td>-13085.7815533</td><td>-33883.0675434</td><td>-17593.0039942</td><td>-6360.29424912</td><td>1329.90180926</td><td>605</td><td>47</td><td>17</td><td>10</td><td>2</td><td>177.0</td><td>6.0</td><td>0</td></tr><tr><td>53</td><td>2016-01-07-59</td><td>2016-01-07</td><td>59</td><td>4</td><td>0</td><td>520.6</td><td>17.9517241379</td><td>-63660.5412437</td><td>4384.50818766</td><td>4188.36362632</td><td>8202.02116481</td><td>-1580.76060181</td><td>404</td><td>55</td><td>17</td><td>6</td><td>2</td><td>101.0</td><td>7.0</td><td>22</td></tr><tr><td>32</td><td>2016-01-07-109</td><td>2016-01-07</td><td>109</td><td>4</td><td>0</td><td>127.0</td><td>18.1428571429</td><td>-61194.5683891</td><td>1660.197622</td><td>240.659554095</td><td>7812.03838761</td><td>314.309459331</td><td>123</td><td>19</td><td>3</td><td>1</td><td>3</td><td>124.0</td><td>8.0</td><td>4</td></tr><tr><td>36</td><td>2016-01-09-6</td><td>2016-01-09</td><td>6</td><td>6</td><td>0</td><td>34.0</td><td>17.0</td><td>-64632.8615604</td><td>2037.09623213</td><td>5723.93033099</td><td>5377.36772339</td><td>-3747.84066913</td><td>206</td><td>20</td><td>4</td><td>7</td><td>2</td><td>132.0</td><td>4.0</td><td>0</td></tr><tr><td>38</td><td>2016-01-05-35</td><td>2016-01-05</td><td>35</td><td>2</td><td>0</td><td>16.0</td><td>16.0</td><td>-55675.9716833</td><td>-197.557492555</td><td>-1409.85979012</td><td>5526.46183733</td><td>1318.21198254</td><td>144</td><td>30</td><td>10</td><td>15</td><td>4</td><td>127.0</td><td>11.0</td><td>0</td></tr><tr><td>2</td><td>2016-01-07-96</td><td>2016-01-07</td><td>96</td><td>4</td><td>0</td><td>287.0</td><td>11.0384615385</td><td>-13085.7815533</td><td>-33883.0675434</td><td>-17593.0039942</td><td>-6360.29424912</td><td>1329.90180926</td><td>538</td><td>232</td><td>26</td><td>19</td><td>3</td><td>120.0</td><td>8.0</td><td>2</td></tr><tr><td>33</td><td>2016-01-08-142</td><td>2016-01-08</td><td>142</td><td>5</td><td>0</td><td>136.0</td><td>34.0</td><td>-57374.165606</td><td>-3331.11578506</td><td>2333.90366109</td><td>3774.5385603</td><td>-761.532298242</td><td>219</td><td>52</td><td>18</td><td>5</td><td>2</td><td>127.0</td><td>4.0</td><td>0</td></tr><tr><td>6</td><td>2016-01-17-144</td><td>2016-01-17</td><td>144</td><td>0</td><td>1</td><td>65.0</td><td>32.5</td><td>-58268.2599224</td><td>1553.06283308</td><td>3886.86562462</td><td>-5876.70076959</td><td>-7169.47752702</td><td>292</td><td>27</td><td>5</td><td>13</td><td>3</td><td>88.0</td><td>3.0</td><td>0</td></tr><tr><td>65</td><td>2016-01-01-77</td><td>2016-01-01</td><td>77</td><td>5</td><td>0</td><td>44.0</td><td>22.0</td><td>-58141.9377557</td><td>3048.09142129</td><td>-3477.91508411</td><td>4167.03011412</td><td>5175.74838892</td><td>327</td><td>43</td><td>15</td><td>18</td><td>2</td><td>232.0</td><td>9.0</td><td>2</td></tr><tr><td>34</td><td>2016-01-04-131</td><td>2016-01-04</td><td>131</td><td>1</td><td>0</td><td>222.9</td><td>44.58</td><td>-59244.5713351</td><td>263.0828471</td><td>-239.665154505</td><td>3525.03461628</td><td>-1619.95441111</td><td>219</td><td>42</td><td>11</td><td>7</td><td>4</td><td>194.0</td><td>12.0</td><td>0</td></tr><tr><td>33</td><td>2016-01-21-97</td><td>2016-01-21</td><td>97</td><td>4</td><td>0</td><td>249.0</td><td>15.5625</td><td>-57374.165606</td><td>-3331.11578506</td><td>2333.90366109</td><td>3774.5385603</td><td>-761.532298242</td><td>234</td><td>66</td><td>18</td><td>8</td><td>&nbsp;</td><td>&nbsp;</td><td>&nbsp;</td><td>2</td></tr><tr><td>24</td><td>2016-01-07-13</td><td>2016-01-07</td><td>13</td><td>4</td><td>0</td><td>238.0</td><td>39.6666666667</td><td>19523.2410099</td><td>-4962.96782651</td><td>1374.24953385</td><td>-16082.7083821</td><td>-3468.89739271</td><td>787</td><td>112</td><td>40</td><td>34</td><td>4</td><td>90.0</td><td>7.0</td><td>0</td></tr><tr><td>58</td><td>2016-01-02-35</td><td>2016-01-02</td><td>35</td><td>6</td><td>0</td><td>6.0</td><td>6.0</td><td>-64227.7681026</td><td>2781.68340986</td><td>2423.97865573</td><td>6508.8479544</td><td>359.594687569</td><td>55</td><td>0</td><td>6</td><td>2</td><td>2</td><td>179.0</td><td>7.0</td><td>1</td></tr><tr><td>46</td><td>2016-01-19-40</td><td>2016-01-19</td><td>40</td><td>2</td><td>0</td><td>465.0</td><td>29.0625</td><td>18767.1616569</td><td>-2451.15879754</td><td>-16298.0717158</td><td>-22162.1266474</td><td>-1191.45309531</td><td>1001</td><td>108</td><td>47</td><td>41</td><td>1</td><td>150.0</td><td>0.0</td><td>6</td></tr><tr><td>64</td><td>2016-01-19-111</td><td>2016-01-19</td><td>111</td><td>2</td><td>0</td><td>132.0</td><td>9.42857142857</td><td>-37490.7902771</td><td>-17372.1863673</td><td>-1128.36211178</td><td>-926.566058586</td><td>4135.29875105</td><td>523</td><td>100</td><td>25</td><td>11</td><td>2</td><td>91.0</td><td>3.0</td><td>0</td></tr><tr><td>24</td><td>2016-01-05-112</td><td>2016-01-05</td><td>112</td><td>2</td><td>0</td><td>1702.4</td><td>18.9155555556</td><td>19523.2410099</td><td>-4962.96782651</td><td>1374.24953385</td><td>-16082.7083821</td><td>-3468.89739271</td><td>990</td><td>450</td><td>114</td><td>79</td><td>4</td><td>42.0</td><td>8.0</td><td>3</td></tr><tr><td>18</td><td>2016-01-07-105</td><td>2016-01-07</td><td>105</td><td>4</td><td>0</td><td>155.1</td><td>25.85</td><td>-49107.5399143</td><td>2692.84708264</td><td>-9935.23171878</td><td>3298.62388163</td><td>5935.49457607</td><td>422</td><td>78</td><td>25</td><td>26</td><td>3</td><td>120.0</td><td>9.0</td><td>2</td></tr><tr><td>31</td><td>2016-01-01-80</td><td>2016-01-01</td><td>80</td><td>5</td><td>0</td><td>424.7</td><td>19.3045454545</td><td>-55528.6688413</td><td>3665.78773112</td><td>-121.680839099</td><td>5696.16021106</td><td>1436.15863563</td><td>549</td><td>72</td><td>30</td><td>15</td><td>2</td><td>232.0</td><td>10.0</td><td>1</td></tr><tr><td>37</td><td>2016-01-11-99</td><td>2016-01-11</td><td>99</td><td>1</td><td>0</td><td>2910.3</td><td>19.0215686275</td><td>73878.6693096</td><td>-7546.69860008</td><td>-5382.95571638</td><td>-33172.5543816</td><td>12937.4034227</td><td>1520</td><td>391</td><td>110</td><td>103</td><td>4</td><td>55.0</td><td>6.0</td><td>6</td></tr></table></div>\n",
       "    <br />(rows: 0, datalab-projects-1331:xjk_algo_comp.future_gaps_final1)<br />\n",
       "    <script>\n",
       "      require(['extensions/charting', 'element!2_146572786286', 'style!/static/extensions/charting.css'],\n",
       "        function(charts, dom) {\n",
       "          charts.render(dom,\n",
       "            {\n",
       "              chartStyle:\"table\",\n",
       "              dataName:\"0\",\n",
       "              fields:\"district_id,timeslot,date,timeofday_slot,day_in_week,is_sunday,sum_price,avg_price,poi1,poi2,poi3,poi4,poi5,traffic_tj_level1,traffic_tj_level2,traffic_tj_level3,traffic_tj_level4,weather,weather_pm25,weather_temperature,gap\",\n",
       "              totalRows:0,\n",
       "              rowsPerPage:25,\n",
       "            }, {}, {\"rows\": [{\"c\": [{\"v\": 51}, {\"v\": \"2016-01-13-86\"}, {\"v\": \"2016-01-13\"}, {\"v\": 86}, {\"v\": 3}, {\"v\": 0}, {\"v\": 8691.799999999987}, {\"v\": 17.738367346938748}, {\"v\": 708222.8661305554}, {\"v\": -56252.64325249404}, {\"v\": -45318.944318905895}, {\"v\": 31516.352076591913}, {\"v\": -6643.824980215212}, {\"v\": 3485}, {\"v\": 1574}, {\"v\": 469}, {\"v\": 289}, {\"v\": 2}, {\"v\": 90.0}, {\"v\": 5.0}, {\"v\": 33}]}, {\"c\": [{\"v\": 29}, {\"v\": \"2016-01-16-69\"}, {\"v\": \"2016-01-16\"}, {\"v\": 69}, {\"v\": 6}, {\"v\": 0}, {\"v\": 387.00000000000006}, {\"v\": 20.368421052631582}, {\"v\": -47097.06636653838}, {\"v\": -3307.056056606577}, {\"v\": -7418.353023579051}, {\"v\": -3174.1305994505665}, {\"v\": 3171.5377164198685}, {\"v\": 674}, {\"v\": 200}, {\"v\": 37}, {\"v\": 28}, {\"v\": 2}, {\"v\": 128.0}, {\"v\": 6.0}, {\"v\": 1}]}, {\"c\": [{\"v\": 46}, {\"v\": \"2016-01-20-17\"}, {\"v\": \"2016-01-20\"}, {\"v\": 17}, {\"v\": 3}, {\"v\": 0}, {\"v\": 327.0}, {\"v\": 29.727272727272727}, {\"v\": 18767.16165687465}, {\"v\": -2451.158797542126}, {\"v\": -16298.071715811237}, {\"v\": -22162.12664735151}, {\"v\": -1191.453095305304}, {\"v\": 728}, {\"v\": 74}, {\"v\": 23}, {\"v\": 29}, {\"v\": 2}, {\"v\": 106.0}, {\"v\": 1.0}, {\"v\": 3}]}, {\"c\": [{\"v\": 24}, {\"v\": \"2016-01-13-46\"}, {\"v\": \"2016-01-13\"}, {\"v\": 46}, {\"v\": 3}, {\"v\": 0}, {\"v\": 3132.900000000001}, {\"v\": 29.5556603773585}, {\"v\": 19523.241009931346}, {\"v\": -4962.967826509936}, {\"v\": 1374.2495338487072}, {\"v\": -16082.708382071802}, {\"v\": -3468.8973927125126}, {\"v\": 942}, {\"v\": 307}, {\"v\": 89}, {\"v\": 54}, {\"v\": 2}, {\"v\": 87.0}, {\"v\": 3.0}, {\"v\": 2}]}, {\"c\": [{\"v\": 2}, {\"v\": \"2016-01-21-61\"}, {\"v\": \"2016-01-21\"}, {\"v\": 61}, {\"v\": 4}, {\"v\": 0}, {\"v\": 291.0}, {\"v\": 12.652173913043478}, {\"v\": -13085.781553322795}, {\"v\": -33883.06754336737}, {\"v\": -17593.00399420398}, {\"v\": -6360.2942491198655}, {\"v\": 1329.9018092597978}, {\"v\": 697}, {\"v\": 119}, {\"v\": 33}, {\"v\": 28}, {\"v\": null}, {\"v\": null}, {\"v\": null}, {\"v\": 0}]}, {\"c\": [{\"v\": 39}, {\"v\": \"2016-01-08-10\"}, {\"v\": \"2016-01-08\"}, {\"v\": 10}, {\"v\": 5}, {\"v\": 0}, {\"v\": 1069.0}, {\"v\": 178.16666666666666}, {\"v\": -59555.2167128321}, {\"v\": -7363.130069073999}, {\"v\": 2115.2388451143347}, {\"v\": 7184.869105238915}, {\"v\": -3614.3275919160396}, {\"v\": 98}, {\"v\": 13}, {\"v\": 3}, {\"v\": 2}, {\"v\": 2}, {\"v\": 162.0}, {\"v\": 5.0}, {\"v\": 2}]}, {\"c\": [{\"v\": 2}, {\"v\": \"2016-01-10-11\"}, {\"v\": \"2016-01-10\"}, {\"v\": 11}, {\"v\": 0}, {\"v\": 1}, {\"v\": 41.0}, {\"v\": 8.2}, {\"v\": -13085.781553322795}, {\"v\": -33883.06754336737}, {\"v\": -17593.00399420398}, {\"v\": -6360.2942491198655}, {\"v\": 1329.9018092597978}, {\"v\": 605}, {\"v\": 47}, {\"v\": 17}, {\"v\": 10}, {\"v\": 2}, {\"v\": 177.0}, {\"v\": 6.0}, {\"v\": 0}]}, {\"c\": [{\"v\": 53}, {\"v\": \"2016-01-07-59\"}, {\"v\": \"2016-01-07\"}, {\"v\": 59}, {\"v\": 4}, {\"v\": 0}, {\"v\": 520.6}, {\"v\": 17.951724137931034}, {\"v\": -63660.54124372137}, {\"v\": 4384.5081876589265}, {\"v\": 4188.363626320295}, {\"v\": 8202.021164806249}, {\"v\": -1580.760601811694}, {\"v\": 404}, {\"v\": 55}, {\"v\": 17}, {\"v\": 6}, {\"v\": 2}, {\"v\": 101.0}, {\"v\": 7.0}, {\"v\": 22}]}, {\"c\": [{\"v\": 32}, {\"v\": \"2016-01-07-109\"}, {\"v\": \"2016-01-07\"}, {\"v\": 109}, {\"v\": 4}, {\"v\": 0}, {\"v\": 127.0}, {\"v\": 18.142857142857142}, {\"v\": -61194.56838910149}, {\"v\": 1660.1976219990247}, {\"v\": 240.65955409521456}, {\"v\": 7812.038387613448}, {\"v\": 314.3094593309765}, {\"v\": 123}, {\"v\": 19}, {\"v\": 3}, {\"v\": 1}, {\"v\": 3}, {\"v\": 124.0}, {\"v\": 8.0}, {\"v\": 4}]}, {\"c\": [{\"v\": 36}, {\"v\": \"2016-01-09-6\"}, {\"v\": \"2016-01-09\"}, {\"v\": 6}, {\"v\": 6}, {\"v\": 0}, {\"v\": 34.0}, {\"v\": 17.0}, {\"v\": -64632.86156037957}, {\"v\": 2037.0962321250827}, {\"v\": 5723.930330991166}, {\"v\": 5377.367723391234}, {\"v\": -3747.8406691262303}, {\"v\": 206}, {\"v\": 20}, {\"v\": 4}, {\"v\": 7}, {\"v\": 2}, {\"v\": 132.0}, {\"v\": 4.0}, {\"v\": 0}]}, {\"c\": [{\"v\": 38}, {\"v\": \"2016-01-05-35\"}, {\"v\": \"2016-01-05\"}, {\"v\": 35}, {\"v\": 2}, {\"v\": 0}, {\"v\": 16.0}, {\"v\": 16.0}, {\"v\": -55675.97168334644}, {\"v\": -197.5574925545992}, {\"v\": -1409.8597901183748}, {\"v\": 5526.461837325963}, {\"v\": 1318.2119825378088}, {\"v\": 144}, {\"v\": 30}, {\"v\": 10}, {\"v\": 15}, {\"v\": 4}, {\"v\": 127.0}, {\"v\": 11.0}, {\"v\": 0}]}, {\"c\": [{\"v\": 2}, {\"v\": \"2016-01-07-96\"}, {\"v\": \"2016-01-07\"}, {\"v\": 96}, {\"v\": 4}, {\"v\": 0}, {\"v\": 287.0}, {\"v\": 11.038461538461538}, {\"v\": -13085.781553322795}, {\"v\": -33883.06754336737}, {\"v\": -17593.00399420398}, {\"v\": -6360.2942491198655}, {\"v\": 1329.9018092597978}, {\"v\": 538}, {\"v\": 232}, {\"v\": 26}, {\"v\": 19}, {\"v\": 3}, {\"v\": 120.0}, {\"v\": 8.0}, {\"v\": 2}]}, {\"c\": [{\"v\": 33}, {\"v\": \"2016-01-08-142\"}, {\"v\": \"2016-01-08\"}, {\"v\": 142}, {\"v\": 5}, {\"v\": 0}, {\"v\": 136.0}, {\"v\": 34.0}, {\"v\": -57374.165606049966}, {\"v\": -3331.115785061569}, {\"v\": 2333.9036610875914}, {\"v\": 3774.538560301424}, {\"v\": -761.5322982423888}, {\"v\": 219}, {\"v\": 52}, {\"v\": 18}, {\"v\": 5}, {\"v\": 2}, {\"v\": 127.0}, {\"v\": 4.0}, {\"v\": 0}]}, {\"c\": [{\"v\": 6}, {\"v\": \"2016-01-17-144\"}, {\"v\": \"2016-01-17\"}, {\"v\": 144}, {\"v\": 0}, {\"v\": 1}, {\"v\": 65.0}, {\"v\": 32.5}, {\"v\": -58268.25992237715}, {\"v\": 1553.062833084042}, {\"v\": 3886.8656246211526}, {\"v\": -5876.7007695924885}, {\"v\": -7169.47752701655}, {\"v\": 292}, {\"v\": 27}, {\"v\": 5}, {\"v\": 13}, {\"v\": 3}, {\"v\": 88.0}, {\"v\": 3.0}, {\"v\": 0}]}, {\"c\": [{\"v\": 65}, {\"v\": \"2016-01-01-77\"}, {\"v\": \"2016-01-01\"}, {\"v\": 77}, {\"v\": 5}, {\"v\": 0}, {\"v\": 44.0}, {\"v\": 22.0}, {\"v\": -58141.93775565909}, {\"v\": 3048.0914212900198}, {\"v\": -3477.915084105603}, {\"v\": 4167.030114124517}, {\"v\": 5175.748388918811}, {\"v\": 327}, {\"v\": 43}, {\"v\": 15}, {\"v\": 18}, {\"v\": 2}, {\"v\": 232.0}, {\"v\": 9.0}, {\"v\": 2}]}, {\"c\": [{\"v\": 34}, {\"v\": \"2016-01-04-131\"}, {\"v\": \"2016-01-04\"}, {\"v\": 131}, {\"v\": 1}, {\"v\": 0}, {\"v\": 222.9}, {\"v\": 44.58}, {\"v\": -59244.57133508353}, {\"v\": 263.08284709961396}, {\"v\": -239.66515450499344}, {\"v\": 3525.0346162832575}, {\"v\": -1619.9544111068599}, {\"v\": 219}, {\"v\": 42}, {\"v\": 11}, {\"v\": 7}, {\"v\": 4}, {\"v\": 194.0}, {\"v\": 12.0}, {\"v\": 0}]}, {\"c\": [{\"v\": 33}, {\"v\": \"2016-01-21-97\"}, {\"v\": \"2016-01-21\"}, {\"v\": 97}, {\"v\": 4}, {\"v\": 0}, {\"v\": 249.0}, {\"v\": 15.5625}, {\"v\": -57374.165606049966}, {\"v\": -3331.115785061569}, {\"v\": 2333.9036610875914}, {\"v\": 3774.538560301424}, {\"v\": -761.5322982423888}, {\"v\": 234}, {\"v\": 66}, {\"v\": 18}, {\"v\": 8}, {\"v\": null}, {\"v\": null}, {\"v\": null}, {\"v\": 2}]}, {\"c\": [{\"v\": 24}, {\"v\": \"2016-01-07-13\"}, {\"v\": \"2016-01-07\"}, {\"v\": 13}, {\"v\": 4}, {\"v\": 0}, {\"v\": 238.0}, {\"v\": 39.666666666666664}, {\"v\": 19523.241009931346}, {\"v\": -4962.967826509936}, {\"v\": 1374.2495338487072}, {\"v\": -16082.708382071802}, {\"v\": -3468.8973927125126}, {\"v\": 787}, {\"v\": 112}, {\"v\": 40}, {\"v\": 34}, {\"v\": 4}, {\"v\": 90.0}, {\"v\": 7.0}, {\"v\": 0}]}, {\"c\": [{\"v\": 58}, {\"v\": \"2016-01-02-35\"}, {\"v\": \"2016-01-02\"}, {\"v\": 35}, {\"v\": 6}, {\"v\": 0}, {\"v\": 6.0}, {\"v\": 6.0}, {\"v\": -64227.76810263748}, {\"v\": 2781.683409864001}, {\"v\": 2423.978655730286}, {\"v\": 6508.847954397946}, {\"v\": 359.5946875693344}, {\"v\": 55}, {\"v\": 0}, {\"v\": 6}, {\"v\": 2}, {\"v\": 2}, {\"v\": 179.0}, {\"v\": 7.0}, {\"v\": 1}]}, {\"c\": [{\"v\": 46}, {\"v\": \"2016-01-19-40\"}, {\"v\": \"2016-01-19\"}, {\"v\": 40}, {\"v\": 2}, {\"v\": 0}, {\"v\": 465.0}, {\"v\": 29.0625}, {\"v\": 18767.16165687465}, {\"v\": -2451.158797542126}, {\"v\": -16298.071715811237}, {\"v\": -22162.12664735151}, {\"v\": -1191.453095305304}, {\"v\": 1001}, {\"v\": 108}, {\"v\": 47}, {\"v\": 41}, {\"v\": 1}, {\"v\": 150.0}, {\"v\": 0.0}, {\"v\": 6}]}, {\"c\": [{\"v\": 64}, {\"v\": \"2016-01-19-111\"}, {\"v\": \"2016-01-19\"}, {\"v\": 111}, {\"v\": 2}, {\"v\": 0}, {\"v\": 132.0}, {\"v\": 9.428571428571429}, {\"v\": -37490.790277148524}, {\"v\": -17372.186367301965}, {\"v\": -1128.3621117836146}, {\"v\": -926.5660585861773}, {\"v\": 4135.29875104839}, {\"v\": 523}, {\"v\": 100}, {\"v\": 25}, {\"v\": 11}, {\"v\": 2}, {\"v\": 91.0}, {\"v\": 3.0}, {\"v\": 0}]}, {\"c\": [{\"v\": 24}, {\"v\": \"2016-01-05-112\"}, {\"v\": \"2016-01-05\"}, {\"v\": 112}, {\"v\": 2}, {\"v\": 0}, {\"v\": 1702.3999999999999}, {\"v\": 18.915555555555553}, {\"v\": 19523.241009931346}, {\"v\": -4962.967826509936}, {\"v\": 1374.2495338487072}, {\"v\": -16082.708382071802}, {\"v\": -3468.8973927125126}, {\"v\": 990}, {\"v\": 450}, {\"v\": 114}, {\"v\": 79}, {\"v\": 4}, {\"v\": 42.0}, {\"v\": 8.0}, {\"v\": 3}]}, {\"c\": [{\"v\": 18}, {\"v\": \"2016-01-07-105\"}, {\"v\": \"2016-01-07\"}, {\"v\": 105}, {\"v\": 4}, {\"v\": 0}, {\"v\": 155.1}, {\"v\": 25.849999999999998}, {\"v\": -49107.539914295536}, {\"v\": 2692.847082640432}, {\"v\": -9935.231718784093}, {\"v\": 3298.623881626821}, {\"v\": 5935.4945760676155}, {\"v\": 422}, {\"v\": 78}, {\"v\": 25}, {\"v\": 26}, {\"v\": 3}, {\"v\": 120.0}, {\"v\": 9.0}, {\"v\": 2}]}, {\"c\": [{\"v\": 31}, {\"v\": \"2016-01-01-80\"}, {\"v\": \"2016-01-01\"}, {\"v\": 80}, {\"v\": 5}, {\"v\": 0}, {\"v\": 424.7}, {\"v\": 19.304545454545455}, {\"v\": -55528.668841307204}, {\"v\": 3665.787731116525}, {\"v\": -121.68083909928292}, {\"v\": 5696.1602110608865}, {\"v\": 1436.1586356328332}, {\"v\": 549}, {\"v\": 72}, {\"v\": 30}, {\"v\": 15}, {\"v\": 2}, {\"v\": 232.0}, {\"v\": 10.0}, {\"v\": 1}]}, {\"c\": [{\"v\": 37}, {\"v\": \"2016-01-11-99\"}, {\"v\": \"2016-01-11\"}, {\"v\": 99}, {\"v\": 1}, {\"v\": 0}, {\"v\": 2910.2999999999984}, {\"v\": 19.02156862745097}, {\"v\": 73878.66930958138}, {\"v\": -7546.698600080717}, {\"v\": -5382.955716384357}, {\"v\": -33172.55438164256}, {\"v\": 12937.403422664855}, {\"v\": 1520}, {\"v\": 391}, {\"v\": 110}, {\"v\": 103}, {\"v\": 4}, {\"v\": 55.0}, {\"v\": 6.0}, {\"v\": 6}]}], \"cols\": [{\"type\": \"number\", \"id\": \"district_id\", \"label\": \"district_id\"}, {\"type\": \"string\", \"id\": \"timeslot\", \"label\": \"timeslot\"}, {\"type\": \"string\", \"id\": \"date\", \"label\": \"date\"}, {\"type\": \"number\", \"id\": \"timeofday_slot\", \"label\": \"timeofday_slot\"}, {\"type\": \"number\", \"id\": \"day_in_week\", \"label\": \"day_in_week\"}, {\"type\": \"number\", \"id\": \"is_sunday\", \"label\": \"is_sunday\"}, {\"type\": \"number\", \"id\": \"sum_price\", \"label\": \"sum_price\"}, {\"type\": \"number\", \"id\": \"avg_price\", \"label\": \"avg_price\"}, {\"type\": \"number\", \"id\": \"poi1\", \"label\": \"poi1\"}, {\"type\": \"number\", \"id\": \"poi2\", \"label\": \"poi2\"}, {\"type\": \"number\", \"id\": \"poi3\", \"label\": \"poi3\"}, {\"type\": \"number\", \"id\": \"poi4\", \"label\": \"poi4\"}, {\"type\": \"number\", \"id\": \"poi5\", \"label\": \"poi5\"}, {\"type\": \"number\", \"id\": \"traffic_tj_level1\", \"label\": \"traffic_tj_level1\"}, {\"type\": \"number\", \"id\": \"traffic_tj_level2\", \"label\": \"traffic_tj_level2\"}, {\"type\": \"number\", \"id\": \"traffic_tj_level3\", \"label\": \"traffic_tj_level3\"}, {\"type\": \"number\", \"id\": \"traffic_tj_level4\", \"label\": \"traffic_tj_level4\"}, {\"type\": \"number\", \"id\": \"weather\", \"label\": \"weather\"}, {\"type\": \"number\", \"id\": \"weather_pm25\", \"label\": \"weather_pm25\"}, {\"type\": \"number\", \"id\": \"weather_temperature\", \"label\": \"weather_temperature\"}, {\"type\": \"number\", \"id\": \"gap\", \"label\": \"gap\"}]});\n",
       "        }\n",
       "      );\n",
       "    </script>\n",
       "  "
      ],
      "text/plain": [
       "Table datalab-projects-1331:xjk_algo_comp.future_gaps_final1"
      ]
     },
     "execution_count": 29,
     "metadata": {},
     "output_type": "execute_result"
    },
    {
     "data": {
      "text/html": [
       "\n",
       "    <div class=\"bqtv\" id=\"2_146572786286\"><table><tr><th>district_id</th><th>timeslot</th><th>date</th><th>timeofday_slot</th><th>day_in_week</th><th>is_sunday</th><th>sum_price</th><th>avg_price</th><th>poi1</th><th>poi2</th><th>poi3</th><th>poi4</th><th>poi5</th><th>traffic_tj_level1</th><th>traffic_tj_level2</th><th>traffic_tj_level3</th><th>traffic_tj_level4</th><th>weather</th><th>weather_pm25</th><th>weather_temperature</th><th>gap</th></tr><tr><td>51</td><td>2016-01-13-86</td><td>2016-01-13</td><td>86</td><td>3</td><td>0</td><td>8691.8</td><td>17.7383673469</td><td>708222.866131</td><td>-56252.6432525</td><td>-45318.9443189</td><td>31516.3520766</td><td>-6643.82498022</td><td>3485</td><td>1574</td><td>469</td><td>289</td><td>2</td><td>90.0</td><td>5.0</td><td>33</td></tr><tr><td>29</td><td>2016-01-16-69</td><td>2016-01-16</td><td>69</td><td>6</td><td>0</td><td>387.0</td><td>20.3684210526</td><td>-47097.0663665</td><td>-3307.05605661</td><td>-7418.35302358</td><td>-3174.13059945</td><td>3171.53771642</td><td>674</td><td>200</td><td>37</td><td>28</td><td>2</td><td>128.0</td><td>6.0</td><td>1</td></tr><tr><td>46</td><td>2016-01-20-17</td><td>2016-01-20</td><td>17</td><td>3</td><td>0</td><td>327.0</td><td>29.7272727273</td><td>18767.1616569</td><td>-2451.15879754</td><td>-16298.0717158</td><td>-22162.1266474</td><td>-1191.45309531</td><td>728</td><td>74</td><td>23</td><td>29</td><td>2</td><td>106.0</td><td>1.0</td><td>3</td></tr><tr><td>24</td><td>2016-01-13-46</td><td>2016-01-13</td><td>46</td><td>3</td><td>0</td><td>3132.9</td><td>29.5556603774</td><td>19523.2410099</td><td>-4962.96782651</td><td>1374.24953385</td><td>-16082.7083821</td><td>-3468.89739271</td><td>942</td><td>307</td><td>89</td><td>54</td><td>2</td><td>87.0</td><td>3.0</td><td>2</td></tr><tr><td>2</td><td>2016-01-21-61</td><td>2016-01-21</td><td>61</td><td>4</td><td>0</td><td>291.0</td><td>12.652173913</td><td>-13085.7815533</td><td>-33883.0675434</td><td>-17593.0039942</td><td>-6360.29424912</td><td>1329.90180926</td><td>697</td><td>119</td><td>33</td><td>28</td><td>&nbsp;</td><td>&nbsp;</td><td>&nbsp;</td><td>0</td></tr><tr><td>39</td><td>2016-01-08-10</td><td>2016-01-08</td><td>10</td><td>5</td><td>0</td><td>1069.0</td><td>178.166666667</td><td>-59555.2167128</td><td>-7363.13006907</td><td>2115.23884511</td><td>7184.86910524</td><td>-3614.32759192</td><td>98</td><td>13</td><td>3</td><td>2</td><td>2</td><td>162.0</td><td>5.0</td><td>2</td></tr><tr><td>2</td><td>2016-01-10-11</td><td>2016-01-10</td><td>11</td><td>0</td><td>1</td><td>41.0</td><td>8.2</td><td>-13085.7815533</td><td>-33883.0675434</td><td>-17593.0039942</td><td>-6360.29424912</td><td>1329.90180926</td><td>605</td><td>47</td><td>17</td><td>10</td><td>2</td><td>177.0</td><td>6.0</td><td>0</td></tr><tr><td>53</td><td>2016-01-07-59</td><td>2016-01-07</td><td>59</td><td>4</td><td>0</td><td>520.6</td><td>17.9517241379</td><td>-63660.5412437</td><td>4384.50818766</td><td>4188.36362632</td><td>8202.02116481</td><td>-1580.76060181</td><td>404</td><td>55</td><td>17</td><td>6</td><td>2</td><td>101.0</td><td>7.0</td><td>22</td></tr><tr><td>32</td><td>2016-01-07-109</td><td>2016-01-07</td><td>109</td><td>4</td><td>0</td><td>127.0</td><td>18.1428571429</td><td>-61194.5683891</td><td>1660.197622</td><td>240.659554095</td><td>7812.03838761</td><td>314.309459331</td><td>123</td><td>19</td><td>3</td><td>1</td><td>3</td><td>124.0</td><td>8.0</td><td>4</td></tr><tr><td>36</td><td>2016-01-09-6</td><td>2016-01-09</td><td>6</td><td>6</td><td>0</td><td>34.0</td><td>17.0</td><td>-64632.8615604</td><td>2037.09623213</td><td>5723.93033099</td><td>5377.36772339</td><td>-3747.84066913</td><td>206</td><td>20</td><td>4</td><td>7</td><td>2</td><td>132.0</td><td>4.0</td><td>0</td></tr><tr><td>38</td><td>2016-01-05-35</td><td>2016-01-05</td><td>35</td><td>2</td><td>0</td><td>16.0</td><td>16.0</td><td>-55675.9716833</td><td>-197.557492555</td><td>-1409.85979012</td><td>5526.46183733</td><td>1318.21198254</td><td>144</td><td>30</td><td>10</td><td>15</td><td>4</td><td>127.0</td><td>11.0</td><td>0</td></tr><tr><td>2</td><td>2016-01-07-96</td><td>2016-01-07</td><td>96</td><td>4</td><td>0</td><td>287.0</td><td>11.0384615385</td><td>-13085.7815533</td><td>-33883.0675434</td><td>-17593.0039942</td><td>-6360.29424912</td><td>1329.90180926</td><td>538</td><td>232</td><td>26</td><td>19</td><td>3</td><td>120.0</td><td>8.0</td><td>2</td></tr><tr><td>33</td><td>2016-01-08-142</td><td>2016-01-08</td><td>142</td><td>5</td><td>0</td><td>136.0</td><td>34.0</td><td>-57374.165606</td><td>-3331.11578506</td><td>2333.90366109</td><td>3774.5385603</td><td>-761.532298242</td><td>219</td><td>52</td><td>18</td><td>5</td><td>2</td><td>127.0</td><td>4.0</td><td>0</td></tr><tr><td>6</td><td>2016-01-17-144</td><td>2016-01-17</td><td>144</td><td>0</td><td>1</td><td>65.0</td><td>32.5</td><td>-58268.2599224</td><td>1553.06283308</td><td>3886.86562462</td><td>-5876.70076959</td><td>-7169.47752702</td><td>292</td><td>27</td><td>5</td><td>13</td><td>3</td><td>88.0</td><td>3.0</td><td>0</td></tr><tr><td>65</td><td>2016-01-01-77</td><td>2016-01-01</td><td>77</td><td>5</td><td>0</td><td>44.0</td><td>22.0</td><td>-58141.9377557</td><td>3048.09142129</td><td>-3477.91508411</td><td>4167.03011412</td><td>5175.74838892</td><td>327</td><td>43</td><td>15</td><td>18</td><td>2</td><td>232.0</td><td>9.0</td><td>2</td></tr><tr><td>34</td><td>2016-01-04-131</td><td>2016-01-04</td><td>131</td><td>1</td><td>0</td><td>222.9</td><td>44.58</td><td>-59244.5713351</td><td>263.0828471</td><td>-239.665154505</td><td>3525.03461628</td><td>-1619.95441111</td><td>219</td><td>42</td><td>11</td><td>7</td><td>4</td><td>194.0</td><td>12.0</td><td>0</td></tr><tr><td>33</td><td>2016-01-21-97</td><td>2016-01-21</td><td>97</td><td>4</td><td>0</td><td>249.0</td><td>15.5625</td><td>-57374.165606</td><td>-3331.11578506</td><td>2333.90366109</td><td>3774.5385603</td><td>-761.532298242</td><td>234</td><td>66</td><td>18</td><td>8</td><td>&nbsp;</td><td>&nbsp;</td><td>&nbsp;</td><td>2</td></tr><tr><td>24</td><td>2016-01-07-13</td><td>2016-01-07</td><td>13</td><td>4</td><td>0</td><td>238.0</td><td>39.6666666667</td><td>19523.2410099</td><td>-4962.96782651</td><td>1374.24953385</td><td>-16082.7083821</td><td>-3468.89739271</td><td>787</td><td>112</td><td>40</td><td>34</td><td>4</td><td>90.0</td><td>7.0</td><td>0</td></tr><tr><td>58</td><td>2016-01-02-35</td><td>2016-01-02</td><td>35</td><td>6</td><td>0</td><td>6.0</td><td>6.0</td><td>-64227.7681026</td><td>2781.68340986</td><td>2423.97865573</td><td>6508.8479544</td><td>359.594687569</td><td>55</td><td>0</td><td>6</td><td>2</td><td>2</td><td>179.0</td><td>7.0</td><td>1</td></tr><tr><td>46</td><td>2016-01-19-40</td><td>2016-01-19</td><td>40</td><td>2</td><td>0</td><td>465.0</td><td>29.0625</td><td>18767.1616569</td><td>-2451.15879754</td><td>-16298.0717158</td><td>-22162.1266474</td><td>-1191.45309531</td><td>1001</td><td>108</td><td>47</td><td>41</td><td>1</td><td>150.0</td><td>0.0</td><td>6</td></tr><tr><td>64</td><td>2016-01-19-111</td><td>2016-01-19</td><td>111</td><td>2</td><td>0</td><td>132.0</td><td>9.42857142857</td><td>-37490.7902771</td><td>-17372.1863673</td><td>-1128.36211178</td><td>-926.566058586</td><td>4135.29875105</td><td>523</td><td>100</td><td>25</td><td>11</td><td>2</td><td>91.0</td><td>3.0</td><td>0</td></tr><tr><td>24</td><td>2016-01-05-112</td><td>2016-01-05</td><td>112</td><td>2</td><td>0</td><td>1702.4</td><td>18.9155555556</td><td>19523.2410099</td><td>-4962.96782651</td><td>1374.24953385</td><td>-16082.7083821</td><td>-3468.89739271</td><td>990</td><td>450</td><td>114</td><td>79</td><td>4</td><td>42.0</td><td>8.0</td><td>3</td></tr><tr><td>18</td><td>2016-01-07-105</td><td>2016-01-07</td><td>105</td><td>4</td><td>0</td><td>155.1</td><td>25.85</td><td>-49107.5399143</td><td>2692.84708264</td><td>-9935.23171878</td><td>3298.62388163</td><td>5935.49457607</td><td>422</td><td>78</td><td>25</td><td>26</td><td>3</td><td>120.0</td><td>9.0</td><td>2</td></tr><tr><td>31</td><td>2016-01-01-80</td><td>2016-01-01</td><td>80</td><td>5</td><td>0</td><td>424.7</td><td>19.3045454545</td><td>-55528.6688413</td><td>3665.78773112</td><td>-121.680839099</td><td>5696.16021106</td><td>1436.15863563</td><td>549</td><td>72</td><td>30</td><td>15</td><td>2</td><td>232.0</td><td>10.0</td><td>1</td></tr><tr><td>37</td><td>2016-01-11-99</td><td>2016-01-11</td><td>99</td><td>1</td><td>0</td><td>2910.3</td><td>19.0215686275</td><td>73878.6693096</td><td>-7546.69860008</td><td>-5382.95571638</td><td>-33172.5543816</td><td>12937.4034227</td><td>1520</td><td>391</td><td>110</td><td>103</td><td>4</td><td>55.0</td><td>6.0</td><td>6</td></tr></table></div>\n",
       "    <br />(rows: 0, datalab-projects-1331:xjk_algo_comp.future_gaps_final1)<br />\n",
       "    <script>\n",
       "      require(['extensions/charting', 'element!2_146572786286', 'style!/static/extensions/charting.css'],\n",
       "        function(charts, dom) {\n",
       "          charts.render(dom,\n",
       "            {\n",
       "              chartStyle:\"table\",\n",
       "              dataName:\"0\",\n",
       "              fields:\"district_id,timeslot,date,timeofday_slot,day_in_week,is_sunday,sum_price,avg_price,poi1,poi2,poi3,poi4,poi5,traffic_tj_level1,traffic_tj_level2,traffic_tj_level3,traffic_tj_level4,weather,weather_pm25,weather_temperature,gap\",\n",
       "              totalRows:0,\n",
       "              rowsPerPage:25,\n",
       "            }, {}, {\"rows\": [{\"c\": [{\"v\": 51}, {\"v\": \"2016-01-13-86\"}, {\"v\": \"2016-01-13\"}, {\"v\": 86}, {\"v\": 3}, {\"v\": 0}, {\"v\": 8691.799999999987}, {\"v\": 17.738367346938748}, {\"v\": 708222.8661305554}, {\"v\": -56252.64325249404}, {\"v\": -45318.944318905895}, {\"v\": 31516.352076591913}, {\"v\": -6643.824980215212}, {\"v\": 3485}, {\"v\": 1574}, {\"v\": 469}, {\"v\": 289}, {\"v\": 2}, {\"v\": 90.0}, {\"v\": 5.0}, {\"v\": 33}]}, {\"c\": [{\"v\": 29}, {\"v\": \"2016-01-16-69\"}, {\"v\": \"2016-01-16\"}, {\"v\": 69}, {\"v\": 6}, {\"v\": 0}, {\"v\": 387.00000000000006}, {\"v\": 20.368421052631582}, {\"v\": -47097.06636653838}, {\"v\": -3307.056056606577}, {\"v\": -7418.353023579051}, {\"v\": -3174.1305994505665}, {\"v\": 3171.5377164198685}, {\"v\": 674}, {\"v\": 200}, {\"v\": 37}, {\"v\": 28}, {\"v\": 2}, {\"v\": 128.0}, {\"v\": 6.0}, {\"v\": 1}]}, {\"c\": [{\"v\": 46}, {\"v\": \"2016-01-20-17\"}, {\"v\": \"2016-01-20\"}, {\"v\": 17}, {\"v\": 3}, {\"v\": 0}, {\"v\": 327.0}, {\"v\": 29.727272727272727}, {\"v\": 18767.16165687465}, {\"v\": -2451.158797542126}, {\"v\": -16298.071715811237}, {\"v\": -22162.12664735151}, {\"v\": -1191.453095305304}, {\"v\": 728}, {\"v\": 74}, {\"v\": 23}, {\"v\": 29}, {\"v\": 2}, {\"v\": 106.0}, {\"v\": 1.0}, {\"v\": 3}]}, {\"c\": [{\"v\": 24}, {\"v\": \"2016-01-13-46\"}, {\"v\": \"2016-01-13\"}, {\"v\": 46}, {\"v\": 3}, {\"v\": 0}, {\"v\": 3132.900000000001}, {\"v\": 29.5556603773585}, {\"v\": 19523.241009931346}, {\"v\": -4962.967826509936}, {\"v\": 1374.2495338487072}, {\"v\": -16082.708382071802}, {\"v\": -3468.8973927125126}, {\"v\": 942}, {\"v\": 307}, {\"v\": 89}, {\"v\": 54}, {\"v\": 2}, {\"v\": 87.0}, {\"v\": 3.0}, {\"v\": 2}]}, {\"c\": [{\"v\": 2}, {\"v\": \"2016-01-21-61\"}, {\"v\": \"2016-01-21\"}, {\"v\": 61}, {\"v\": 4}, {\"v\": 0}, {\"v\": 291.0}, {\"v\": 12.652173913043478}, {\"v\": -13085.781553322795}, {\"v\": -33883.06754336737}, {\"v\": -17593.00399420398}, {\"v\": -6360.2942491198655}, {\"v\": 1329.9018092597978}, {\"v\": 697}, {\"v\": 119}, {\"v\": 33}, {\"v\": 28}, {\"v\": null}, {\"v\": null}, {\"v\": null}, {\"v\": 0}]}, {\"c\": [{\"v\": 39}, {\"v\": \"2016-01-08-10\"}, {\"v\": \"2016-01-08\"}, {\"v\": 10}, {\"v\": 5}, {\"v\": 0}, {\"v\": 1069.0}, {\"v\": 178.16666666666666}, {\"v\": -59555.2167128321}, {\"v\": -7363.130069073999}, {\"v\": 2115.2388451143347}, {\"v\": 7184.869105238915}, {\"v\": -3614.3275919160396}, {\"v\": 98}, {\"v\": 13}, {\"v\": 3}, {\"v\": 2}, {\"v\": 2}, {\"v\": 162.0}, {\"v\": 5.0}, {\"v\": 2}]}, {\"c\": [{\"v\": 2}, {\"v\": \"2016-01-10-11\"}, {\"v\": \"2016-01-10\"}, {\"v\": 11}, {\"v\": 0}, {\"v\": 1}, {\"v\": 41.0}, {\"v\": 8.2}, {\"v\": -13085.781553322795}, {\"v\": -33883.06754336737}, {\"v\": -17593.00399420398}, {\"v\": -6360.2942491198655}, {\"v\": 1329.9018092597978}, {\"v\": 605}, {\"v\": 47}, {\"v\": 17}, {\"v\": 10}, {\"v\": 2}, {\"v\": 177.0}, {\"v\": 6.0}, {\"v\": 0}]}, {\"c\": [{\"v\": 53}, {\"v\": \"2016-01-07-59\"}, {\"v\": \"2016-01-07\"}, {\"v\": 59}, {\"v\": 4}, {\"v\": 0}, {\"v\": 520.6}, {\"v\": 17.951724137931034}, {\"v\": -63660.54124372137}, {\"v\": 4384.5081876589265}, {\"v\": 4188.363626320295}, {\"v\": 8202.021164806249}, {\"v\": -1580.760601811694}, {\"v\": 404}, {\"v\": 55}, {\"v\": 17}, {\"v\": 6}, {\"v\": 2}, {\"v\": 101.0}, {\"v\": 7.0}, {\"v\": 22}]}, {\"c\": [{\"v\": 32}, {\"v\": \"2016-01-07-109\"}, {\"v\": \"2016-01-07\"}, {\"v\": 109}, {\"v\": 4}, {\"v\": 0}, {\"v\": 127.0}, {\"v\": 18.142857142857142}, {\"v\": -61194.56838910149}, {\"v\": 1660.1976219990247}, {\"v\": 240.65955409521456}, {\"v\": 7812.038387613448}, {\"v\": 314.3094593309765}, {\"v\": 123}, {\"v\": 19}, {\"v\": 3}, {\"v\": 1}, {\"v\": 3}, {\"v\": 124.0}, {\"v\": 8.0}, {\"v\": 4}]}, {\"c\": [{\"v\": 36}, {\"v\": \"2016-01-09-6\"}, {\"v\": \"2016-01-09\"}, {\"v\": 6}, {\"v\": 6}, {\"v\": 0}, {\"v\": 34.0}, {\"v\": 17.0}, {\"v\": -64632.86156037957}, {\"v\": 2037.0962321250827}, {\"v\": 5723.930330991166}, {\"v\": 5377.367723391234}, {\"v\": -3747.8406691262303}, {\"v\": 206}, {\"v\": 20}, {\"v\": 4}, {\"v\": 7}, {\"v\": 2}, {\"v\": 132.0}, {\"v\": 4.0}, {\"v\": 0}]}, {\"c\": [{\"v\": 38}, {\"v\": \"2016-01-05-35\"}, {\"v\": \"2016-01-05\"}, {\"v\": 35}, {\"v\": 2}, {\"v\": 0}, {\"v\": 16.0}, {\"v\": 16.0}, {\"v\": -55675.97168334644}, {\"v\": -197.5574925545992}, {\"v\": -1409.8597901183748}, {\"v\": 5526.461837325963}, {\"v\": 1318.2119825378088}, {\"v\": 144}, {\"v\": 30}, {\"v\": 10}, {\"v\": 15}, {\"v\": 4}, {\"v\": 127.0}, {\"v\": 11.0}, {\"v\": 0}]}, {\"c\": [{\"v\": 2}, {\"v\": \"2016-01-07-96\"}, {\"v\": \"2016-01-07\"}, {\"v\": 96}, {\"v\": 4}, {\"v\": 0}, {\"v\": 287.0}, {\"v\": 11.038461538461538}, {\"v\": -13085.781553322795}, {\"v\": -33883.06754336737}, {\"v\": -17593.00399420398}, {\"v\": -6360.2942491198655}, {\"v\": 1329.9018092597978}, {\"v\": 538}, {\"v\": 232}, {\"v\": 26}, {\"v\": 19}, {\"v\": 3}, {\"v\": 120.0}, {\"v\": 8.0}, {\"v\": 2}]}, {\"c\": [{\"v\": 33}, {\"v\": \"2016-01-08-142\"}, {\"v\": \"2016-01-08\"}, {\"v\": 142}, {\"v\": 5}, {\"v\": 0}, {\"v\": 136.0}, {\"v\": 34.0}, {\"v\": -57374.165606049966}, {\"v\": -3331.115785061569}, {\"v\": 2333.9036610875914}, {\"v\": 3774.538560301424}, {\"v\": -761.5322982423888}, {\"v\": 219}, {\"v\": 52}, {\"v\": 18}, {\"v\": 5}, {\"v\": 2}, {\"v\": 127.0}, {\"v\": 4.0}, {\"v\": 0}]}, {\"c\": [{\"v\": 6}, {\"v\": \"2016-01-17-144\"}, {\"v\": \"2016-01-17\"}, {\"v\": 144}, {\"v\": 0}, {\"v\": 1}, {\"v\": 65.0}, {\"v\": 32.5}, {\"v\": -58268.25992237715}, {\"v\": 1553.062833084042}, {\"v\": 3886.8656246211526}, {\"v\": -5876.7007695924885}, {\"v\": -7169.47752701655}, {\"v\": 292}, {\"v\": 27}, {\"v\": 5}, {\"v\": 13}, {\"v\": 3}, {\"v\": 88.0}, {\"v\": 3.0}, {\"v\": 0}]}, {\"c\": [{\"v\": 65}, {\"v\": \"2016-01-01-77\"}, {\"v\": \"2016-01-01\"}, {\"v\": 77}, {\"v\": 5}, {\"v\": 0}, {\"v\": 44.0}, {\"v\": 22.0}, {\"v\": -58141.93775565909}, {\"v\": 3048.0914212900198}, {\"v\": -3477.915084105603}, {\"v\": 4167.030114124517}, {\"v\": 5175.748388918811}, {\"v\": 327}, {\"v\": 43}, {\"v\": 15}, {\"v\": 18}, {\"v\": 2}, {\"v\": 232.0}, {\"v\": 9.0}, {\"v\": 2}]}, {\"c\": [{\"v\": 34}, {\"v\": \"2016-01-04-131\"}, {\"v\": \"2016-01-04\"}, {\"v\": 131}, {\"v\": 1}, {\"v\": 0}, {\"v\": 222.9}, {\"v\": 44.58}, {\"v\": -59244.57133508353}, {\"v\": 263.08284709961396}, {\"v\": -239.66515450499344}, {\"v\": 3525.0346162832575}, {\"v\": -1619.9544111068599}, {\"v\": 219}, {\"v\": 42}, {\"v\": 11}, {\"v\": 7}, {\"v\": 4}, {\"v\": 194.0}, {\"v\": 12.0}, {\"v\": 0}]}, {\"c\": [{\"v\": 33}, {\"v\": \"2016-01-21-97\"}, {\"v\": \"2016-01-21\"}, {\"v\": 97}, {\"v\": 4}, {\"v\": 0}, {\"v\": 249.0}, {\"v\": 15.5625}, {\"v\": -57374.165606049966}, {\"v\": -3331.115785061569}, {\"v\": 2333.9036610875914}, {\"v\": 3774.538560301424}, {\"v\": -761.5322982423888}, {\"v\": 234}, {\"v\": 66}, {\"v\": 18}, {\"v\": 8}, {\"v\": null}, {\"v\": null}, {\"v\": null}, {\"v\": 2}]}, {\"c\": [{\"v\": 24}, {\"v\": \"2016-01-07-13\"}, {\"v\": \"2016-01-07\"}, {\"v\": 13}, {\"v\": 4}, {\"v\": 0}, {\"v\": 238.0}, {\"v\": 39.666666666666664}, {\"v\": 19523.241009931346}, {\"v\": -4962.967826509936}, {\"v\": 1374.2495338487072}, {\"v\": -16082.708382071802}, {\"v\": -3468.8973927125126}, {\"v\": 787}, {\"v\": 112}, {\"v\": 40}, {\"v\": 34}, {\"v\": 4}, {\"v\": 90.0}, {\"v\": 7.0}, {\"v\": 0}]}, {\"c\": [{\"v\": 58}, {\"v\": \"2016-01-02-35\"}, {\"v\": \"2016-01-02\"}, {\"v\": 35}, {\"v\": 6}, {\"v\": 0}, {\"v\": 6.0}, {\"v\": 6.0}, {\"v\": -64227.76810263748}, {\"v\": 2781.683409864001}, {\"v\": 2423.978655730286}, {\"v\": 6508.847954397946}, {\"v\": 359.5946875693344}, {\"v\": 55}, {\"v\": 0}, {\"v\": 6}, {\"v\": 2}, {\"v\": 2}, {\"v\": 179.0}, {\"v\": 7.0}, {\"v\": 1}]}, {\"c\": [{\"v\": 46}, {\"v\": \"2016-01-19-40\"}, {\"v\": \"2016-01-19\"}, {\"v\": 40}, {\"v\": 2}, {\"v\": 0}, {\"v\": 465.0}, {\"v\": 29.0625}, {\"v\": 18767.16165687465}, {\"v\": -2451.158797542126}, {\"v\": -16298.071715811237}, {\"v\": -22162.12664735151}, {\"v\": -1191.453095305304}, {\"v\": 1001}, {\"v\": 108}, {\"v\": 47}, {\"v\": 41}, {\"v\": 1}, {\"v\": 150.0}, {\"v\": 0.0}, {\"v\": 6}]}, {\"c\": [{\"v\": 64}, {\"v\": \"2016-01-19-111\"}, {\"v\": \"2016-01-19\"}, {\"v\": 111}, {\"v\": 2}, {\"v\": 0}, {\"v\": 132.0}, {\"v\": 9.428571428571429}, {\"v\": -37490.790277148524}, {\"v\": -17372.186367301965}, {\"v\": -1128.3621117836146}, {\"v\": -926.5660585861773}, {\"v\": 4135.29875104839}, {\"v\": 523}, {\"v\": 100}, {\"v\": 25}, {\"v\": 11}, {\"v\": 2}, {\"v\": 91.0}, {\"v\": 3.0}, {\"v\": 0}]}, {\"c\": [{\"v\": 24}, {\"v\": \"2016-01-05-112\"}, {\"v\": \"2016-01-05\"}, {\"v\": 112}, {\"v\": 2}, {\"v\": 0}, {\"v\": 1702.3999999999999}, {\"v\": 18.915555555555553}, {\"v\": 19523.241009931346}, {\"v\": -4962.967826509936}, {\"v\": 1374.2495338487072}, {\"v\": -16082.708382071802}, {\"v\": -3468.8973927125126}, {\"v\": 990}, {\"v\": 450}, {\"v\": 114}, {\"v\": 79}, {\"v\": 4}, {\"v\": 42.0}, {\"v\": 8.0}, {\"v\": 3}]}, {\"c\": [{\"v\": 18}, {\"v\": \"2016-01-07-105\"}, {\"v\": \"2016-01-07\"}, {\"v\": 105}, {\"v\": 4}, {\"v\": 0}, {\"v\": 155.1}, {\"v\": 25.849999999999998}, {\"v\": -49107.539914295536}, {\"v\": 2692.847082640432}, {\"v\": -9935.231718784093}, {\"v\": 3298.623881626821}, {\"v\": 5935.4945760676155}, {\"v\": 422}, {\"v\": 78}, {\"v\": 25}, {\"v\": 26}, {\"v\": 3}, {\"v\": 120.0}, {\"v\": 9.0}, {\"v\": 2}]}, {\"c\": [{\"v\": 31}, {\"v\": \"2016-01-01-80\"}, {\"v\": \"2016-01-01\"}, {\"v\": 80}, {\"v\": 5}, {\"v\": 0}, {\"v\": 424.7}, {\"v\": 19.304545454545455}, {\"v\": -55528.668841307204}, {\"v\": 3665.787731116525}, {\"v\": -121.68083909928292}, {\"v\": 5696.1602110608865}, {\"v\": 1436.1586356328332}, {\"v\": 549}, {\"v\": 72}, {\"v\": 30}, {\"v\": 15}, {\"v\": 2}, {\"v\": 232.0}, {\"v\": 10.0}, {\"v\": 1}]}, {\"c\": [{\"v\": 37}, {\"v\": \"2016-01-11-99\"}, {\"v\": \"2016-01-11\"}, {\"v\": 99}, {\"v\": 1}, {\"v\": 0}, {\"v\": 2910.2999999999984}, {\"v\": 19.02156862745097}, {\"v\": 73878.66930958138}, {\"v\": -7546.698600080717}, {\"v\": -5382.955716384357}, {\"v\": -33172.55438164256}, {\"v\": 12937.403422664855}, {\"v\": 1520}, {\"v\": 391}, {\"v\": 110}, {\"v\": 103}, {\"v\": 4}, {\"v\": 55.0}, {\"v\": 6.0}, {\"v\": 6}]}], \"cols\": [{\"type\": \"number\", \"id\": \"district_id\", \"label\": \"district_id\"}, {\"type\": \"string\", \"id\": \"timeslot\", \"label\": \"timeslot\"}, {\"type\": \"string\", \"id\": \"date\", \"label\": \"date\"}, {\"type\": \"number\", \"id\": \"timeofday_slot\", \"label\": \"timeofday_slot\"}, {\"type\": \"number\", \"id\": \"day_in_week\", \"label\": \"day_in_week\"}, {\"type\": \"number\", \"id\": \"is_sunday\", \"label\": \"is_sunday\"}, {\"type\": \"number\", \"id\": \"sum_price\", \"label\": \"sum_price\"}, {\"type\": \"number\", \"id\": \"avg_price\", \"label\": \"avg_price\"}, {\"type\": \"number\", \"id\": \"poi1\", \"label\": \"poi1\"}, {\"type\": \"number\", \"id\": \"poi2\", \"label\": \"poi2\"}, {\"type\": \"number\", \"id\": \"poi3\", \"label\": \"poi3\"}, {\"type\": \"number\", \"id\": \"poi4\", \"label\": \"poi4\"}, {\"type\": \"number\", \"id\": \"poi5\", \"label\": \"poi5\"}, {\"type\": \"number\", \"id\": \"traffic_tj_level1\", \"label\": \"traffic_tj_level1\"}, {\"type\": \"number\", \"id\": \"traffic_tj_level2\", \"label\": \"traffic_tj_level2\"}, {\"type\": \"number\", \"id\": \"traffic_tj_level3\", \"label\": \"traffic_tj_level3\"}, {\"type\": \"number\", \"id\": \"traffic_tj_level4\", \"label\": \"traffic_tj_level4\"}, {\"type\": \"number\", \"id\": \"weather\", \"label\": \"weather\"}, {\"type\": \"number\", \"id\": \"weather_pm25\", \"label\": \"weather_pm25\"}, {\"type\": \"number\", \"id\": \"weather_temperature\", \"label\": \"weather_temperature\"}, {\"type\": \"number\", \"id\": \"gap\", \"label\": \"gap\"}]});\n",
       "        }\n",
       "      );\n",
       "    </script>\n",
       "  "
      ],
      "text/plain": [
       "Table datalab-projects-1331:xjk_algo_comp.future_gaps_final1"
      ]
     },
     "execution_count": 29,
     "metadata": {},
     "output_type": "execute_result"
    },
    {
     "data": {
      "text/html": [
       "\n",
       "    <div class=\"bqtv\" id=\"2_146572786286\"><table><tr><th>district_id</th><th>timeslot</th><th>date</th><th>timeofday_slot</th><th>day_in_week</th><th>is_sunday</th><th>sum_price</th><th>avg_price</th><th>poi1</th><th>poi2</th><th>poi3</th><th>poi4</th><th>poi5</th><th>traffic_tj_level1</th><th>traffic_tj_level2</th><th>traffic_tj_level3</th><th>traffic_tj_level4</th><th>weather</th><th>weather_pm25</th><th>weather_temperature</th><th>gap</th></tr><tr><td>51</td><td>2016-01-13-86</td><td>2016-01-13</td><td>86</td><td>3</td><td>0</td><td>8691.8</td><td>17.7383673469</td><td>708222.866131</td><td>-56252.6432525</td><td>-45318.9443189</td><td>31516.3520766</td><td>-6643.82498022</td><td>3485</td><td>1574</td><td>469</td><td>289</td><td>2</td><td>90.0</td><td>5.0</td><td>33</td></tr><tr><td>29</td><td>2016-01-16-69</td><td>2016-01-16</td><td>69</td><td>6</td><td>0</td><td>387.0</td><td>20.3684210526</td><td>-47097.0663665</td><td>-3307.05605661</td><td>-7418.35302358</td><td>-3174.13059945</td><td>3171.53771642</td><td>674</td><td>200</td><td>37</td><td>28</td><td>2</td><td>128.0</td><td>6.0</td><td>1</td></tr><tr><td>46</td><td>2016-01-20-17</td><td>2016-01-20</td><td>17</td><td>3</td><td>0</td><td>327.0</td><td>29.7272727273</td><td>18767.1616569</td><td>-2451.15879754</td><td>-16298.0717158</td><td>-22162.1266474</td><td>-1191.45309531</td><td>728</td><td>74</td><td>23</td><td>29</td><td>2</td><td>106.0</td><td>1.0</td><td>3</td></tr><tr><td>24</td><td>2016-01-13-46</td><td>2016-01-13</td><td>46</td><td>3</td><td>0</td><td>3132.9</td><td>29.5556603774</td><td>19523.2410099</td><td>-4962.96782651</td><td>1374.24953385</td><td>-16082.7083821</td><td>-3468.89739271</td><td>942</td><td>307</td><td>89</td><td>54</td><td>2</td><td>87.0</td><td>3.0</td><td>2</td></tr><tr><td>2</td><td>2016-01-21-61</td><td>2016-01-21</td><td>61</td><td>4</td><td>0</td><td>291.0</td><td>12.652173913</td><td>-13085.7815533</td><td>-33883.0675434</td><td>-17593.0039942</td><td>-6360.29424912</td><td>1329.90180926</td><td>697</td><td>119</td><td>33</td><td>28</td><td>&nbsp;</td><td>&nbsp;</td><td>&nbsp;</td><td>0</td></tr><tr><td>39</td><td>2016-01-08-10</td><td>2016-01-08</td><td>10</td><td>5</td><td>0</td><td>1069.0</td><td>178.166666667</td><td>-59555.2167128</td><td>-7363.13006907</td><td>2115.23884511</td><td>7184.86910524</td><td>-3614.32759192</td><td>98</td><td>13</td><td>3</td><td>2</td><td>2</td><td>162.0</td><td>5.0</td><td>2</td></tr><tr><td>2</td><td>2016-01-10-11</td><td>2016-01-10</td><td>11</td><td>0</td><td>1</td><td>41.0</td><td>8.2</td><td>-13085.7815533</td><td>-33883.0675434</td><td>-17593.0039942</td><td>-6360.29424912</td><td>1329.90180926</td><td>605</td><td>47</td><td>17</td><td>10</td><td>2</td><td>177.0</td><td>6.0</td><td>0</td></tr><tr><td>53</td><td>2016-01-07-59</td><td>2016-01-07</td><td>59</td><td>4</td><td>0</td><td>520.6</td><td>17.9517241379</td><td>-63660.5412437</td><td>4384.50818766</td><td>4188.36362632</td><td>8202.02116481</td><td>-1580.76060181</td><td>404</td><td>55</td><td>17</td><td>6</td><td>2</td><td>101.0</td><td>7.0</td><td>22</td></tr><tr><td>32</td><td>2016-01-07-109</td><td>2016-01-07</td><td>109</td><td>4</td><td>0</td><td>127.0</td><td>18.1428571429</td><td>-61194.5683891</td><td>1660.197622</td><td>240.659554095</td><td>7812.03838761</td><td>314.309459331</td><td>123</td><td>19</td><td>3</td><td>1</td><td>3</td><td>124.0</td><td>8.0</td><td>4</td></tr><tr><td>36</td><td>2016-01-09-6</td><td>2016-01-09</td><td>6</td><td>6</td><td>0</td><td>34.0</td><td>17.0</td><td>-64632.8615604</td><td>2037.09623213</td><td>5723.93033099</td><td>5377.36772339</td><td>-3747.84066913</td><td>206</td><td>20</td><td>4</td><td>7</td><td>2</td><td>132.0</td><td>4.0</td><td>0</td></tr><tr><td>38</td><td>2016-01-05-35</td><td>2016-01-05</td><td>35</td><td>2</td><td>0</td><td>16.0</td><td>16.0</td><td>-55675.9716833</td><td>-197.557492555</td><td>-1409.85979012</td><td>5526.46183733</td><td>1318.21198254</td><td>144</td><td>30</td><td>10</td><td>15</td><td>4</td><td>127.0</td><td>11.0</td><td>0</td></tr><tr><td>2</td><td>2016-01-07-96</td><td>2016-01-07</td><td>96</td><td>4</td><td>0</td><td>287.0</td><td>11.0384615385</td><td>-13085.7815533</td><td>-33883.0675434</td><td>-17593.0039942</td><td>-6360.29424912</td><td>1329.90180926</td><td>538</td><td>232</td><td>26</td><td>19</td><td>3</td><td>120.0</td><td>8.0</td><td>2</td></tr><tr><td>33</td><td>2016-01-08-142</td><td>2016-01-08</td><td>142</td><td>5</td><td>0</td><td>136.0</td><td>34.0</td><td>-57374.165606</td><td>-3331.11578506</td><td>2333.90366109</td><td>3774.5385603</td><td>-761.532298242</td><td>219</td><td>52</td><td>18</td><td>5</td><td>2</td><td>127.0</td><td>4.0</td><td>0</td></tr><tr><td>6</td><td>2016-01-17-144</td><td>2016-01-17</td><td>144</td><td>0</td><td>1</td><td>65.0</td><td>32.5</td><td>-58268.2599224</td><td>1553.06283308</td><td>3886.86562462</td><td>-5876.70076959</td><td>-7169.47752702</td><td>292</td><td>27</td><td>5</td><td>13</td><td>3</td><td>88.0</td><td>3.0</td><td>0</td></tr><tr><td>65</td><td>2016-01-01-77</td><td>2016-01-01</td><td>77</td><td>5</td><td>0</td><td>44.0</td><td>22.0</td><td>-58141.9377557</td><td>3048.09142129</td><td>-3477.91508411</td><td>4167.03011412</td><td>5175.74838892</td><td>327</td><td>43</td><td>15</td><td>18</td><td>2</td><td>232.0</td><td>9.0</td><td>2</td></tr><tr><td>34</td><td>2016-01-04-131</td><td>2016-01-04</td><td>131</td><td>1</td><td>0</td><td>222.9</td><td>44.58</td><td>-59244.5713351</td><td>263.0828471</td><td>-239.665154505</td><td>3525.03461628</td><td>-1619.95441111</td><td>219</td><td>42</td><td>11</td><td>7</td><td>4</td><td>194.0</td><td>12.0</td><td>0</td></tr><tr><td>33</td><td>2016-01-21-97</td><td>2016-01-21</td><td>97</td><td>4</td><td>0</td><td>249.0</td><td>15.5625</td><td>-57374.165606</td><td>-3331.11578506</td><td>2333.90366109</td><td>3774.5385603</td><td>-761.532298242</td><td>234</td><td>66</td><td>18</td><td>8</td><td>&nbsp;</td><td>&nbsp;</td><td>&nbsp;</td><td>2</td></tr><tr><td>24</td><td>2016-01-07-13</td><td>2016-01-07</td><td>13</td><td>4</td><td>0</td><td>238.0</td><td>39.6666666667</td><td>19523.2410099</td><td>-4962.96782651</td><td>1374.24953385</td><td>-16082.7083821</td><td>-3468.89739271</td><td>787</td><td>112</td><td>40</td><td>34</td><td>4</td><td>90.0</td><td>7.0</td><td>0</td></tr><tr><td>58</td><td>2016-01-02-35</td><td>2016-01-02</td><td>35</td><td>6</td><td>0</td><td>6.0</td><td>6.0</td><td>-64227.7681026</td><td>2781.68340986</td><td>2423.97865573</td><td>6508.8479544</td><td>359.594687569</td><td>55</td><td>0</td><td>6</td><td>2</td><td>2</td><td>179.0</td><td>7.0</td><td>1</td></tr><tr><td>46</td><td>2016-01-19-40</td><td>2016-01-19</td><td>40</td><td>2</td><td>0</td><td>465.0</td><td>29.0625</td><td>18767.1616569</td><td>-2451.15879754</td><td>-16298.0717158</td><td>-22162.1266474</td><td>-1191.45309531</td><td>1001</td><td>108</td><td>47</td><td>41</td><td>1</td><td>150.0</td><td>0.0</td><td>6</td></tr><tr><td>64</td><td>2016-01-19-111</td><td>2016-01-19</td><td>111</td><td>2</td><td>0</td><td>132.0</td><td>9.42857142857</td><td>-37490.7902771</td><td>-17372.1863673</td><td>-1128.36211178</td><td>-926.566058586</td><td>4135.29875105</td><td>523</td><td>100</td><td>25</td><td>11</td><td>2</td><td>91.0</td><td>3.0</td><td>0</td></tr><tr><td>24</td><td>2016-01-05-112</td><td>2016-01-05</td><td>112</td><td>2</td><td>0</td><td>1702.4</td><td>18.9155555556</td><td>19523.2410099</td><td>-4962.96782651</td><td>1374.24953385</td><td>-16082.7083821</td><td>-3468.89739271</td><td>990</td><td>450</td><td>114</td><td>79</td><td>4</td><td>42.0</td><td>8.0</td><td>3</td></tr><tr><td>18</td><td>2016-01-07-105</td><td>2016-01-07</td><td>105</td><td>4</td><td>0</td><td>155.1</td><td>25.85</td><td>-49107.5399143</td><td>2692.84708264</td><td>-9935.23171878</td><td>3298.62388163</td><td>5935.49457607</td><td>422</td><td>78</td><td>25</td><td>26</td><td>3</td><td>120.0</td><td>9.0</td><td>2</td></tr><tr><td>31</td><td>2016-01-01-80</td><td>2016-01-01</td><td>80</td><td>5</td><td>0</td><td>424.7</td><td>19.3045454545</td><td>-55528.6688413</td><td>3665.78773112</td><td>-121.680839099</td><td>5696.16021106</td><td>1436.15863563</td><td>549</td><td>72</td><td>30</td><td>15</td><td>2</td><td>232.0</td><td>10.0</td><td>1</td></tr><tr><td>37</td><td>2016-01-11-99</td><td>2016-01-11</td><td>99</td><td>1</td><td>0</td><td>2910.3</td><td>19.0215686275</td><td>73878.6693096</td><td>-7546.69860008</td><td>-5382.95571638</td><td>-33172.5543816</td><td>12937.4034227</td><td>1520</td><td>391</td><td>110</td><td>103</td><td>4</td><td>55.0</td><td>6.0</td><td>6</td></tr></table></div>\n",
       "    <br />(rows: 0, datalab-projects-1331:xjk_algo_comp.future_gaps_final1)<br />\n",
       "    <script>\n",
       "      require(['extensions/charting', 'element!2_146572786286', 'style!/static/extensions/charting.css'],\n",
       "        function(charts, dom) {\n",
       "          charts.render(dom,\n",
       "            {\n",
       "              chartStyle:\"table\",\n",
       "              dataName:\"0\",\n",
       "              fields:\"district_id,timeslot,date,timeofday_slot,day_in_week,is_sunday,sum_price,avg_price,poi1,poi2,poi3,poi4,poi5,traffic_tj_level1,traffic_tj_level2,traffic_tj_level3,traffic_tj_level4,weather,weather_pm25,weather_temperature,gap\",\n",
       "              totalRows:0,\n",
       "              rowsPerPage:25,\n",
       "            }, {}, {\"rows\": [{\"c\": [{\"v\": 51}, {\"v\": \"2016-01-13-86\"}, {\"v\": \"2016-01-13\"}, {\"v\": 86}, {\"v\": 3}, {\"v\": 0}, {\"v\": 8691.799999999987}, {\"v\": 17.738367346938748}, {\"v\": 708222.8661305554}, {\"v\": -56252.64325249404}, {\"v\": -45318.944318905895}, {\"v\": 31516.352076591913}, {\"v\": -6643.824980215212}, {\"v\": 3485}, {\"v\": 1574}, {\"v\": 469}, {\"v\": 289}, {\"v\": 2}, {\"v\": 90.0}, {\"v\": 5.0}, {\"v\": 33}]}, {\"c\": [{\"v\": 29}, {\"v\": \"2016-01-16-69\"}, {\"v\": \"2016-01-16\"}, {\"v\": 69}, {\"v\": 6}, {\"v\": 0}, {\"v\": 387.00000000000006}, {\"v\": 20.368421052631582}, {\"v\": -47097.06636653838}, {\"v\": -3307.056056606577}, {\"v\": -7418.353023579051}, {\"v\": -3174.1305994505665}, {\"v\": 3171.5377164198685}, {\"v\": 674}, {\"v\": 200}, {\"v\": 37}, {\"v\": 28}, {\"v\": 2}, {\"v\": 128.0}, {\"v\": 6.0}, {\"v\": 1}]}, {\"c\": [{\"v\": 46}, {\"v\": \"2016-01-20-17\"}, {\"v\": \"2016-01-20\"}, {\"v\": 17}, {\"v\": 3}, {\"v\": 0}, {\"v\": 327.0}, {\"v\": 29.727272727272727}, {\"v\": 18767.16165687465}, {\"v\": -2451.158797542126}, {\"v\": -16298.071715811237}, {\"v\": -22162.12664735151}, {\"v\": -1191.453095305304}, {\"v\": 728}, {\"v\": 74}, {\"v\": 23}, {\"v\": 29}, {\"v\": 2}, {\"v\": 106.0}, {\"v\": 1.0}, {\"v\": 3}]}, {\"c\": [{\"v\": 24}, {\"v\": \"2016-01-13-46\"}, {\"v\": \"2016-01-13\"}, {\"v\": 46}, {\"v\": 3}, {\"v\": 0}, {\"v\": 3132.900000000001}, {\"v\": 29.5556603773585}, {\"v\": 19523.241009931346}, {\"v\": -4962.967826509936}, {\"v\": 1374.2495338487072}, {\"v\": -16082.708382071802}, {\"v\": -3468.8973927125126}, {\"v\": 942}, {\"v\": 307}, {\"v\": 89}, {\"v\": 54}, {\"v\": 2}, {\"v\": 87.0}, {\"v\": 3.0}, {\"v\": 2}]}, {\"c\": [{\"v\": 2}, {\"v\": \"2016-01-21-61\"}, {\"v\": \"2016-01-21\"}, {\"v\": 61}, {\"v\": 4}, {\"v\": 0}, {\"v\": 291.0}, {\"v\": 12.652173913043478}, {\"v\": -13085.781553322795}, {\"v\": -33883.06754336737}, {\"v\": -17593.00399420398}, {\"v\": -6360.2942491198655}, {\"v\": 1329.9018092597978}, {\"v\": 697}, {\"v\": 119}, {\"v\": 33}, {\"v\": 28}, {\"v\": null}, {\"v\": null}, {\"v\": null}, {\"v\": 0}]}, {\"c\": [{\"v\": 39}, {\"v\": \"2016-01-08-10\"}, {\"v\": \"2016-01-08\"}, {\"v\": 10}, {\"v\": 5}, {\"v\": 0}, {\"v\": 1069.0}, {\"v\": 178.16666666666666}, {\"v\": -59555.2167128321}, {\"v\": -7363.130069073999}, {\"v\": 2115.2388451143347}, {\"v\": 7184.869105238915}, {\"v\": -3614.3275919160396}, {\"v\": 98}, {\"v\": 13}, {\"v\": 3}, {\"v\": 2}, {\"v\": 2}, {\"v\": 162.0}, {\"v\": 5.0}, {\"v\": 2}]}, {\"c\": [{\"v\": 2}, {\"v\": \"2016-01-10-11\"}, {\"v\": \"2016-01-10\"}, {\"v\": 11}, {\"v\": 0}, {\"v\": 1}, {\"v\": 41.0}, {\"v\": 8.2}, {\"v\": -13085.781553322795}, {\"v\": -33883.06754336737}, {\"v\": -17593.00399420398}, {\"v\": -6360.2942491198655}, {\"v\": 1329.9018092597978}, {\"v\": 605}, {\"v\": 47}, {\"v\": 17}, {\"v\": 10}, {\"v\": 2}, {\"v\": 177.0}, {\"v\": 6.0}, {\"v\": 0}]}, {\"c\": [{\"v\": 53}, {\"v\": \"2016-01-07-59\"}, {\"v\": \"2016-01-07\"}, {\"v\": 59}, {\"v\": 4}, {\"v\": 0}, {\"v\": 520.6}, {\"v\": 17.951724137931034}, {\"v\": -63660.54124372137}, {\"v\": 4384.5081876589265}, {\"v\": 4188.363626320295}, {\"v\": 8202.021164806249}, {\"v\": -1580.760601811694}, {\"v\": 404}, {\"v\": 55}, {\"v\": 17}, {\"v\": 6}, {\"v\": 2}, {\"v\": 101.0}, {\"v\": 7.0}, {\"v\": 22}]}, {\"c\": [{\"v\": 32}, {\"v\": \"2016-01-07-109\"}, {\"v\": \"2016-01-07\"}, {\"v\": 109}, {\"v\": 4}, {\"v\": 0}, {\"v\": 127.0}, {\"v\": 18.142857142857142}, {\"v\": -61194.56838910149}, {\"v\": 1660.1976219990247}, {\"v\": 240.65955409521456}, {\"v\": 7812.038387613448}, {\"v\": 314.3094593309765}, {\"v\": 123}, {\"v\": 19}, {\"v\": 3}, {\"v\": 1}, {\"v\": 3}, {\"v\": 124.0}, {\"v\": 8.0}, {\"v\": 4}]}, {\"c\": [{\"v\": 36}, {\"v\": \"2016-01-09-6\"}, {\"v\": \"2016-01-09\"}, {\"v\": 6}, {\"v\": 6}, {\"v\": 0}, {\"v\": 34.0}, {\"v\": 17.0}, {\"v\": -64632.86156037957}, {\"v\": 2037.0962321250827}, {\"v\": 5723.930330991166}, {\"v\": 5377.367723391234}, {\"v\": -3747.8406691262303}, {\"v\": 206}, {\"v\": 20}, {\"v\": 4}, {\"v\": 7}, {\"v\": 2}, {\"v\": 132.0}, {\"v\": 4.0}, {\"v\": 0}]}, {\"c\": [{\"v\": 38}, {\"v\": \"2016-01-05-35\"}, {\"v\": \"2016-01-05\"}, {\"v\": 35}, {\"v\": 2}, {\"v\": 0}, {\"v\": 16.0}, {\"v\": 16.0}, {\"v\": -55675.97168334644}, {\"v\": -197.5574925545992}, {\"v\": -1409.8597901183748}, {\"v\": 5526.461837325963}, {\"v\": 1318.2119825378088}, {\"v\": 144}, {\"v\": 30}, {\"v\": 10}, {\"v\": 15}, {\"v\": 4}, {\"v\": 127.0}, {\"v\": 11.0}, {\"v\": 0}]}, {\"c\": [{\"v\": 2}, {\"v\": \"2016-01-07-96\"}, {\"v\": \"2016-01-07\"}, {\"v\": 96}, {\"v\": 4}, {\"v\": 0}, {\"v\": 287.0}, {\"v\": 11.038461538461538}, {\"v\": -13085.781553322795}, {\"v\": -33883.06754336737}, {\"v\": -17593.00399420398}, {\"v\": -6360.2942491198655}, {\"v\": 1329.9018092597978}, {\"v\": 538}, {\"v\": 232}, {\"v\": 26}, {\"v\": 19}, {\"v\": 3}, {\"v\": 120.0}, {\"v\": 8.0}, {\"v\": 2}]}, {\"c\": [{\"v\": 33}, {\"v\": \"2016-01-08-142\"}, {\"v\": \"2016-01-08\"}, {\"v\": 142}, {\"v\": 5}, {\"v\": 0}, {\"v\": 136.0}, {\"v\": 34.0}, {\"v\": -57374.165606049966}, {\"v\": -3331.115785061569}, {\"v\": 2333.9036610875914}, {\"v\": 3774.538560301424}, {\"v\": -761.5322982423888}, {\"v\": 219}, {\"v\": 52}, {\"v\": 18}, {\"v\": 5}, {\"v\": 2}, {\"v\": 127.0}, {\"v\": 4.0}, {\"v\": 0}]}, {\"c\": [{\"v\": 6}, {\"v\": \"2016-01-17-144\"}, {\"v\": \"2016-01-17\"}, {\"v\": 144}, {\"v\": 0}, {\"v\": 1}, {\"v\": 65.0}, {\"v\": 32.5}, {\"v\": -58268.25992237715}, {\"v\": 1553.062833084042}, {\"v\": 3886.8656246211526}, {\"v\": -5876.7007695924885}, {\"v\": -7169.47752701655}, {\"v\": 292}, {\"v\": 27}, {\"v\": 5}, {\"v\": 13}, {\"v\": 3}, {\"v\": 88.0}, {\"v\": 3.0}, {\"v\": 0}]}, {\"c\": [{\"v\": 65}, {\"v\": \"2016-01-01-77\"}, {\"v\": \"2016-01-01\"}, {\"v\": 77}, {\"v\": 5}, {\"v\": 0}, {\"v\": 44.0}, {\"v\": 22.0}, {\"v\": -58141.93775565909}, {\"v\": 3048.0914212900198}, {\"v\": -3477.915084105603}, {\"v\": 4167.030114124517}, {\"v\": 5175.748388918811}, {\"v\": 327}, {\"v\": 43}, {\"v\": 15}, {\"v\": 18}, {\"v\": 2}, {\"v\": 232.0}, {\"v\": 9.0}, {\"v\": 2}]}, {\"c\": [{\"v\": 34}, {\"v\": \"2016-01-04-131\"}, {\"v\": \"2016-01-04\"}, {\"v\": 131}, {\"v\": 1}, {\"v\": 0}, {\"v\": 222.9}, {\"v\": 44.58}, {\"v\": -59244.57133508353}, {\"v\": 263.08284709961396}, {\"v\": -239.66515450499344}, {\"v\": 3525.0346162832575}, {\"v\": -1619.9544111068599}, {\"v\": 219}, {\"v\": 42}, {\"v\": 11}, {\"v\": 7}, {\"v\": 4}, {\"v\": 194.0}, {\"v\": 12.0}, {\"v\": 0}]}, {\"c\": [{\"v\": 33}, {\"v\": \"2016-01-21-97\"}, {\"v\": \"2016-01-21\"}, {\"v\": 97}, {\"v\": 4}, {\"v\": 0}, {\"v\": 249.0}, {\"v\": 15.5625}, {\"v\": -57374.165606049966}, {\"v\": -3331.115785061569}, {\"v\": 2333.9036610875914}, {\"v\": 3774.538560301424}, {\"v\": -761.5322982423888}, {\"v\": 234}, {\"v\": 66}, {\"v\": 18}, {\"v\": 8}, {\"v\": null}, {\"v\": null}, {\"v\": null}, {\"v\": 2}]}, {\"c\": [{\"v\": 24}, {\"v\": \"2016-01-07-13\"}, {\"v\": \"2016-01-07\"}, {\"v\": 13}, {\"v\": 4}, {\"v\": 0}, {\"v\": 238.0}, {\"v\": 39.666666666666664}, {\"v\": 19523.241009931346}, {\"v\": -4962.967826509936}, {\"v\": 1374.2495338487072}, {\"v\": -16082.708382071802}, {\"v\": -3468.8973927125126}, {\"v\": 787}, {\"v\": 112}, {\"v\": 40}, {\"v\": 34}, {\"v\": 4}, {\"v\": 90.0}, {\"v\": 7.0}, {\"v\": 0}]}, {\"c\": [{\"v\": 58}, {\"v\": \"2016-01-02-35\"}, {\"v\": \"2016-01-02\"}, {\"v\": 35}, {\"v\": 6}, {\"v\": 0}, {\"v\": 6.0}, {\"v\": 6.0}, {\"v\": -64227.76810263748}, {\"v\": 2781.683409864001}, {\"v\": 2423.978655730286}, {\"v\": 6508.847954397946}, {\"v\": 359.5946875693344}, {\"v\": 55}, {\"v\": 0}, {\"v\": 6}, {\"v\": 2}, {\"v\": 2}, {\"v\": 179.0}, {\"v\": 7.0}, {\"v\": 1}]}, {\"c\": [{\"v\": 46}, {\"v\": \"2016-01-19-40\"}, {\"v\": \"2016-01-19\"}, {\"v\": 40}, {\"v\": 2}, {\"v\": 0}, {\"v\": 465.0}, {\"v\": 29.0625}, {\"v\": 18767.16165687465}, {\"v\": -2451.158797542126}, {\"v\": -16298.071715811237}, {\"v\": -22162.12664735151}, {\"v\": -1191.453095305304}, {\"v\": 1001}, {\"v\": 108}, {\"v\": 47}, {\"v\": 41}, {\"v\": 1}, {\"v\": 150.0}, {\"v\": 0.0}, {\"v\": 6}]}, {\"c\": [{\"v\": 64}, {\"v\": \"2016-01-19-111\"}, {\"v\": \"2016-01-19\"}, {\"v\": 111}, {\"v\": 2}, {\"v\": 0}, {\"v\": 132.0}, {\"v\": 9.428571428571429}, {\"v\": -37490.790277148524}, {\"v\": -17372.186367301965}, {\"v\": -1128.3621117836146}, {\"v\": -926.5660585861773}, {\"v\": 4135.29875104839}, {\"v\": 523}, {\"v\": 100}, {\"v\": 25}, {\"v\": 11}, {\"v\": 2}, {\"v\": 91.0}, {\"v\": 3.0}, {\"v\": 0}]}, {\"c\": [{\"v\": 24}, {\"v\": \"2016-01-05-112\"}, {\"v\": \"2016-01-05\"}, {\"v\": 112}, {\"v\": 2}, {\"v\": 0}, {\"v\": 1702.3999999999999}, {\"v\": 18.915555555555553}, {\"v\": 19523.241009931346}, {\"v\": -4962.967826509936}, {\"v\": 1374.2495338487072}, {\"v\": -16082.708382071802}, {\"v\": -3468.8973927125126}, {\"v\": 990}, {\"v\": 450}, {\"v\": 114}, {\"v\": 79}, {\"v\": 4}, {\"v\": 42.0}, {\"v\": 8.0}, {\"v\": 3}]}, {\"c\": [{\"v\": 18}, {\"v\": \"2016-01-07-105\"}, {\"v\": \"2016-01-07\"}, {\"v\": 105}, {\"v\": 4}, {\"v\": 0}, {\"v\": 155.1}, {\"v\": 25.849999999999998}, {\"v\": -49107.539914295536}, {\"v\": 2692.847082640432}, {\"v\": -9935.231718784093}, {\"v\": 3298.623881626821}, {\"v\": 5935.4945760676155}, {\"v\": 422}, {\"v\": 78}, {\"v\": 25}, {\"v\": 26}, {\"v\": 3}, {\"v\": 120.0}, {\"v\": 9.0}, {\"v\": 2}]}, {\"c\": [{\"v\": 31}, {\"v\": \"2016-01-01-80\"}, {\"v\": \"2016-01-01\"}, {\"v\": 80}, {\"v\": 5}, {\"v\": 0}, {\"v\": 424.7}, {\"v\": 19.304545454545455}, {\"v\": -55528.668841307204}, {\"v\": 3665.787731116525}, {\"v\": -121.68083909928292}, {\"v\": 5696.1602110608865}, {\"v\": 1436.1586356328332}, {\"v\": 549}, {\"v\": 72}, {\"v\": 30}, {\"v\": 15}, {\"v\": 2}, {\"v\": 232.0}, {\"v\": 10.0}, {\"v\": 1}]}, {\"c\": [{\"v\": 37}, {\"v\": \"2016-01-11-99\"}, {\"v\": \"2016-01-11\"}, {\"v\": 99}, {\"v\": 1}, {\"v\": 0}, {\"v\": 2910.2999999999984}, {\"v\": 19.02156862745097}, {\"v\": 73878.66930958138}, {\"v\": -7546.698600080717}, {\"v\": -5382.955716384357}, {\"v\": -33172.55438164256}, {\"v\": 12937.403422664855}, {\"v\": 1520}, {\"v\": 391}, {\"v\": 110}, {\"v\": 103}, {\"v\": 4}, {\"v\": 55.0}, {\"v\": 6.0}, {\"v\": 6}]}], \"cols\": [{\"type\": \"number\", \"id\": \"district_id\", \"label\": \"district_id\"}, {\"type\": \"string\", \"id\": \"timeslot\", \"label\": \"timeslot\"}, {\"type\": \"string\", \"id\": \"date\", \"label\": \"date\"}, {\"type\": \"number\", \"id\": \"timeofday_slot\", \"label\": \"timeofday_slot\"}, {\"type\": \"number\", \"id\": \"day_in_week\", \"label\": \"day_in_week\"}, {\"type\": \"number\", \"id\": \"is_sunday\", \"label\": \"is_sunday\"}, {\"type\": \"number\", \"id\": \"sum_price\", \"label\": \"sum_price\"}, {\"type\": \"number\", \"id\": \"avg_price\", \"label\": \"avg_price\"}, {\"type\": \"number\", \"id\": \"poi1\", \"label\": \"poi1\"}, {\"type\": \"number\", \"id\": \"poi2\", \"label\": \"poi2\"}, {\"type\": \"number\", \"id\": \"poi3\", \"label\": \"poi3\"}, {\"type\": \"number\", \"id\": \"poi4\", \"label\": \"poi4\"}, {\"type\": \"number\", \"id\": \"poi5\", \"label\": \"poi5\"}, {\"type\": \"number\", \"id\": \"traffic_tj_level1\", \"label\": \"traffic_tj_level1\"}, {\"type\": \"number\", \"id\": \"traffic_tj_level2\", \"label\": \"traffic_tj_level2\"}, {\"type\": \"number\", \"id\": \"traffic_tj_level3\", \"label\": \"traffic_tj_level3\"}, {\"type\": \"number\", \"id\": \"traffic_tj_level4\", \"label\": \"traffic_tj_level4\"}, {\"type\": \"number\", \"id\": \"weather\", \"label\": \"weather\"}, {\"type\": \"number\", \"id\": \"weather_pm25\", \"label\": \"weather_pm25\"}, {\"type\": \"number\", \"id\": \"weather_temperature\", \"label\": \"weather_temperature\"}, {\"type\": \"number\", \"id\": \"gap\", \"label\": \"gap\"}]});\n",
       "        }\n",
       "      );\n",
       "    </script>\n",
       "  "
      ],
      "text/plain": [
       "Table datalab-projects-1331:xjk_algo_comp.future_gaps_final1"
      ]
     },
     "execution_count": 29,
     "metadata": {},
     "output_type": "execute_result"
    }
   ],
   "source": [
    "schema = bq.Schema([\n",
    "    {'name': 'district_id', 'type': 'INTEGER'},\n",
    "    {'name': 'timeslot', 'type': 'STRING'},\n",
    "    {'name': 'date', 'type': 'STRING'},\n",
    "    {'name': 'timeofday_slot', 'type': 'INTEGER'},\n",
    "    {'name': 'day_in_week', 'type': 'INTEGER'},\n",
    "    {'name': 'is_sunday', 'type': 'INTEGER'},\n",
    "    {'name': 'sum_price', 'type': 'FLOAT'},\n",
    "    {'name': 'avg_price', 'type': 'FLOAT'},\n",
    "    {'name': 'poi1', 'type': 'FLOAT'},\n",
    "    {'name': 'poi2', 'type': 'FLOAT'},\n",
    "    {'name': 'poi3', 'type': 'FLOAT'},\n",
    "    {'name': 'poi4', 'type': 'FLOAT'},\n",
    "    {'name': 'poi5', 'type': 'FLOAT'},\n",
    "    {'name': 'traffic_tj_level1', 'type': 'INTEGER'},\n",
    "    {'name': 'traffic_tj_level2', 'type': 'INTEGER'},\n",
    "    {'name': 'traffic_tj_level3', 'type': 'INTEGER'},\n",
    "    {'name': 'traffic_tj_level4', 'type': 'INTEGER'},\n",
    "    {'name': 'weather', 'type': 'INTEGER'},\n",
    "    {'name': 'weather_pm25', 'type': 'FLOAT'},\n",
    "    {'name': 'weather_temperature', 'type': 'FLOAT'},\n",
    "    {'name': 'gap', 'type': 'INTEGER'}\n",
    "])\n",
    "table = bq.Table('datalab-projects-1331:xjk_algo_comp.future_gaps_final1')\n",
    "table.create(schema)\n",
    "table.insert_data(all_data)"
   ]
  },
  {
   "cell_type": "markdown",
   "metadata": {},
   "source": [
    "# Previous Gap\n",
    "Add `previous_gap` field to data."
   ]
  },
  {
   "cell_type": "code",
   "execution_count": 31,
   "metadata": {
    "collapsed": true
   },
   "outputs": [],
   "source": [
    "%%sql --module q\n",
    "\n",
    "SELECT *\n",
    "FROM [datalab-projects-1331:xjk_algo_comp.future_gaps_final1]\n",
    "ORDER BY timeslot, district_id"
   ]
  },
  {
   "cell_type": "code",
   "execution_count": 34,
   "metadata": {
    "collapsed": false
   },
   "outputs": [
    {
     "name": "stdout",
     "output_type": "stream",
     "text": [
      "there are 163491 rows\n",
      "there are 163491 rows\n",
      "there are 163491 rows\n",
      "processed 0 rows\n",
      "processed 0 rows\n",
      "processed 0 rows\n",
      "processed 5000 rows\n",
      "processed 5000 rows\n",
      "processed 5000 rows\n",
      "processed 10000 rows\n",
      "processed 10000 rows\n",
      "processed 10000 rows\n",
      "processed 15000 rows\n",
      "processed 15000 rows\n",
      "processed 15000 rows\n",
      "processed 20000 rows\n",
      "processed 20000 rows\n",
      "processed 20000 rows\n",
      "processed 25000 rows\n",
      "processed 25000 rows\n",
      "processed 25000 rows\n",
      "processed 30000 rows\n",
      "processed 30000 rows\n",
      "processed 30000 rows\n",
      "processed 35000 rows\n",
      "processed 35000 rows\n",
      "processed 35000 rows\n",
      "processed 40000 rows\n",
      "processed 40000 rows\n",
      "processed 40000 rows\n",
      "processed 45000 rows\n",
      "processed 45000 rows\n",
      "processed 45000 rows\n",
      "processed 50000 rows\n",
      "processed 50000 rows\n",
      "processed 50000 rows\n",
      "processed 55000 rows\n",
      "processed 55000 rows\n",
      "processed 55000 rows\n",
      "processed 60000 rows\n",
      "processed 60000 rows\n",
      "processed 60000 rows\n",
      "processed 65000 rows\n",
      "processed 65000 rows\n",
      "processed 65000 rows\n",
      "processed 70000 rows\n",
      "processed 70000 rows\n",
      "processed 70000 rows\n",
      "processed 75000 rows\n",
      "processed 75000 rows\n",
      "processed 75000 rows\n",
      "processed 80000 rows\n",
      "processed 80000 rows\n",
      "processed 80000 rows\n",
      "processed 85000 rows\n",
      "processed 85000 rows\n",
      "processed 85000 rows\n",
      "processed 90000 rows\n",
      "processed 90000 rows\n",
      "processed 90000 rows\n",
      "processed 95000 rows\n",
      "processed 95000 rows\n",
      "processed 95000 rows\n",
      "processed 100000 rows\n",
      "processed 100000 rows\n",
      "processed 100000 rows\n",
      "processed 105000 rows\n",
      "processed 105000 rows\n",
      "processed 105000 rows\n",
      "processed 110000 rows\n",
      "processed 110000 rows\n",
      "processed 110000 rows\n",
      "processed 115000 rows\n",
      "processed 115000 rows\n",
      "processed 115000 rows\n",
      "processed 120000 rows\n",
      "processed 120000 rows\n",
      "processed 120000 rows\n",
      "processed 125000 rows\n",
      "processed 125000 rows\n",
      "processed 125000 rows\n",
      "processed 130000 rows\n",
      "processed 130000 rows\n",
      "processed 130000 rows\n",
      "processed 135000 rows\n",
      "processed 135000 rows\n",
      "processed 135000 rows\n",
      "processed 140000 rows\n",
      "processed 140000 rows\n",
      "processed 140000 rows\n",
      "processed 145000 rows\n",
      "processed 145000 rows\n",
      "processed 145000 rows\n",
      "processed 150000 rows\n",
      "processed 150000 rows\n",
      "processed 150000 rows\n",
      "processed 155000 rows\n",
      "processed 155000 rows\n",
      "processed 155000 rows\n",
      "processed 160000 rows\n",
      "processed 160000 rows\n",
      "processed 160000 rows\n"
     ]
    }
   ],
   "source": [
    "query = bq.Query(q)\n",
    "tableresult = query.results()\n",
    "all_data = []\n",
    "print 'there are {} rows'.format(tableresult.length)\n",
    "for rcounter, row in enumerate(tableresult):\n",
    "  all_data.append(row)\n",
    "  if rcounter % 5000 == 0:\n",
    "    print 'processed {} rows'.format(rcounter)"
   ]
  },
  {
   "cell_type": "code",
   "execution_count": 33,
   "metadata": {
    "collapsed": false
   },
   "outputs": [
    {
     "ename": "ValueError",
     "evalue": "too many values to unpack",
     "output_type": "error",
     "traceback": [
      "\u001b[1;31m\u001b[0m",
      "\u001b[1;31mValueError\u001b[0mTraceback (most recent call last)",
      "\u001b[1;32m<ipython-input-33-3f6a5b46cdd6>\u001b[0m in \u001b[0;36m<module>\u001b[1;34m()\u001b[0m\n\u001b[1;32m----> 1\u001b[1;33m \u001b[1;33m(\u001b[0m\u001b[0midx\u001b[0m \u001b[1;32mfor\u001b[0m \u001b[1;33m(\u001b[0m\u001b[0midx\u001b[0m\u001b[1;33m,\u001b[0m \u001b[0mrow\u001b[0m\u001b[1;33m)\u001b[0m \u001b[1;32min\u001b[0m \u001b[0mtableresult\u001b[0m \u001b[1;32mif\u001b[0m \u001b[0mrow\u001b[0m\u001b[1;33m[\u001b[0m\u001b[1;34m'district_id'\u001b[0m\u001b[1;33m]\u001b[0m \u001b[1;33m==\u001b[0m \u001b[1;36m1\u001b[0m\u001b[1;33m)\u001b[0m\u001b[1;33m.\u001b[0m\u001b[0mnext\u001b[0m\u001b[1;33m(\u001b[0m\u001b[1;33m)\u001b[0m\u001b[1;33m\u001b[0m\u001b[0m\n\u001b[0m",
      "\u001b[1;32m<ipython-input-33-3f6a5b46cdd6>\u001b[0m in \u001b[0;36m<genexpr>\u001b[1;34m(***failed resolving arguments***)\u001b[0m\n\u001b[1;32m----> 1\u001b[1;33m \u001b[1;33m(\u001b[0m\u001b[0midx\u001b[0m \u001b[1;32mfor\u001b[0m \u001b[1;33m(\u001b[0m\u001b[0midx\u001b[0m\u001b[1;33m,\u001b[0m \u001b[0mrow\u001b[0m\u001b[1;33m)\u001b[0m \u001b[1;32min\u001b[0m \u001b[0mtableresult\u001b[0m \u001b[1;32mif\u001b[0m \u001b[0mrow\u001b[0m\u001b[1;33m[\u001b[0m\u001b[1;34m'district_id'\u001b[0m\u001b[1;33m]\u001b[0m \u001b[1;33m==\u001b[0m \u001b[1;36m1\u001b[0m\u001b[1;33m)\u001b[0m\u001b[1;33m.\u001b[0m\u001b[0mnext\u001b[0m\u001b[1;33m(\u001b[0m\u001b[1;33m)\u001b[0m\u001b[1;33m\u001b[0m\u001b[0m\n\u001b[0m",
      "\u001b[1;31mValueError\u001b[0m: too many values to unpack"
     ]
    },
    {
     "ename": "ValueError",
     "evalue": "too many values to unpack",
     "output_type": "error",
     "traceback": [
      "\u001b[1;31m\u001b[0m",
      "\u001b[1;31mValueError\u001b[0mTraceback (most recent call last)",
      "\u001b[1;32m<ipython-input-33-3f6a5b46cdd6>\u001b[0m in \u001b[0;36m<module>\u001b[1;34m()\u001b[0m\n\u001b[1;32m----> 1\u001b[1;33m \u001b[1;33m(\u001b[0m\u001b[0midx\u001b[0m \u001b[1;32mfor\u001b[0m \u001b[1;33m(\u001b[0m\u001b[0midx\u001b[0m\u001b[1;33m,\u001b[0m \u001b[0mrow\u001b[0m\u001b[1;33m)\u001b[0m \u001b[1;32min\u001b[0m \u001b[0mtableresult\u001b[0m \u001b[1;32mif\u001b[0m \u001b[0mrow\u001b[0m\u001b[1;33m[\u001b[0m\u001b[1;34m'district_id'\u001b[0m\u001b[1;33m]\u001b[0m \u001b[1;33m==\u001b[0m \u001b[1;36m1\u001b[0m\u001b[1;33m)\u001b[0m\u001b[1;33m.\u001b[0m\u001b[0mnext\u001b[0m\u001b[1;33m(\u001b[0m\u001b[1;33m)\u001b[0m\u001b[1;33m\u001b[0m\u001b[0m\n\u001b[0m",
      "\u001b[1;32m<ipython-input-33-3f6a5b46cdd6>\u001b[0m in \u001b[0;36m<genexpr>\u001b[1;34m(***failed resolving arguments***)\u001b[0m\n\u001b[1;32m----> 1\u001b[1;33m \u001b[1;33m(\u001b[0m\u001b[0midx\u001b[0m \u001b[1;32mfor\u001b[0m \u001b[1;33m(\u001b[0m\u001b[0midx\u001b[0m\u001b[1;33m,\u001b[0m \u001b[0mrow\u001b[0m\u001b[1;33m)\u001b[0m \u001b[1;32min\u001b[0m \u001b[0mtableresult\u001b[0m \u001b[1;32mif\u001b[0m \u001b[0mrow\u001b[0m\u001b[1;33m[\u001b[0m\u001b[1;34m'district_id'\u001b[0m\u001b[1;33m]\u001b[0m \u001b[1;33m==\u001b[0m \u001b[1;36m1\u001b[0m\u001b[1;33m)\u001b[0m\u001b[1;33m.\u001b[0m\u001b[0mnext\u001b[0m\u001b[1;33m(\u001b[0m\u001b[1;33m)\u001b[0m\u001b[1;33m\u001b[0m\u001b[0m\n\u001b[0m",
      "\u001b[1;31mValueError\u001b[0m: too many values to unpack"
     ]
    },
    {
     "ename": "ValueError",
     "evalue": "too many values to unpack",
     "output_type": "error",
     "traceback": [
      "\u001b[1;31m\u001b[0m",
      "\u001b[1;31mValueError\u001b[0mTraceback (most recent call last)",
      "\u001b[1;32m<ipython-input-33-3f6a5b46cdd6>\u001b[0m in \u001b[0;36m<module>\u001b[1;34m()\u001b[0m\n\u001b[1;32m----> 1\u001b[1;33m \u001b[1;33m(\u001b[0m\u001b[0midx\u001b[0m \u001b[1;32mfor\u001b[0m \u001b[1;33m(\u001b[0m\u001b[0midx\u001b[0m\u001b[1;33m,\u001b[0m \u001b[0mrow\u001b[0m\u001b[1;33m)\u001b[0m \u001b[1;32min\u001b[0m \u001b[0mtableresult\u001b[0m \u001b[1;32mif\u001b[0m \u001b[0mrow\u001b[0m\u001b[1;33m[\u001b[0m\u001b[1;34m'district_id'\u001b[0m\u001b[1;33m]\u001b[0m \u001b[1;33m==\u001b[0m \u001b[1;36m1\u001b[0m\u001b[1;33m)\u001b[0m\u001b[1;33m.\u001b[0m\u001b[0mnext\u001b[0m\u001b[1;33m(\u001b[0m\u001b[1;33m)\u001b[0m\u001b[1;33m\u001b[0m\u001b[0m\n\u001b[0m",
      "\u001b[1;32m<ipython-input-33-3f6a5b46cdd6>\u001b[0m in \u001b[0;36m<genexpr>\u001b[1;34m(***failed resolving arguments***)\u001b[0m\n\u001b[1;32m----> 1\u001b[1;33m \u001b[1;33m(\u001b[0m\u001b[0midx\u001b[0m \u001b[1;32mfor\u001b[0m \u001b[1;33m(\u001b[0m\u001b[0midx\u001b[0m\u001b[1;33m,\u001b[0m \u001b[0mrow\u001b[0m\u001b[1;33m)\u001b[0m \u001b[1;32min\u001b[0m \u001b[0mtableresult\u001b[0m \u001b[1;32mif\u001b[0m \u001b[0mrow\u001b[0m\u001b[1;33m[\u001b[0m\u001b[1;34m'district_id'\u001b[0m\u001b[1;33m]\u001b[0m \u001b[1;33m==\u001b[0m \u001b[1;36m1\u001b[0m\u001b[1;33m)\u001b[0m\u001b[1;33m.\u001b[0m\u001b[0mnext\u001b[0m\u001b[1;33m(\u001b[0m\u001b[1;33m)\u001b[0m\u001b[1;33m\u001b[0m\u001b[0m\n\u001b[0m",
      "\u001b[1;31mValueError\u001b[0m: too many values to unpack"
     ]
    }
   ],
   "source": [
    "(item for (idx, item) in all_data if item['district_id'] == 1).next()\n",
    "\n",
    "(item for item in dicts if item[\"name\"] == \"Pam\").next()"
   ]
  },
  {
   "cell_type": "code",
   "execution_count": null,
   "metadata": {
    "collapsed": true
   },
   "outputs": [],
   "source": []
  }
 ],
 "metadata": {
  "kernelspec": {
   "display_name": "Python 2",
   "language": "python",
   "name": "python2"
  },
  "language_info": {
   "codemirror_mode": {
    "name": "ipython",
    "version": 2
   },
   "file_extension": ".py",
   "mimetype": "text/x-python",
   "name": "python",
   "nbconvert_exporter": "python",
   "pygments_lexer": "ipython2",
   "version": "2.7.9"
  }
 },
 "nbformat": 4,
 "nbformat_minor": 0
}
