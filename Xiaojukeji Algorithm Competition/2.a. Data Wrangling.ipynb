{
 "cells": [
  {
   "cell_type": "code",
   "execution_count": 7,
   "metadata": {
    "collapsed": false
   },
   "outputs": [],
   "source": [
    "from sklearn.decomposition import PCA\n",
    "import pandas as pd\n",
    "import gcp.bigquery as bq\n",
    "import numpy as np\n",
    "from datetime import date\n",
    "from datetime import timedelta\n",
    "\n",
    "import pdb\n",
    "\n",
    "poi_n_range = 10\n",
    "poi_schema = []\n",
    "for i in range(poi_n_range):\n",
    "  poi_n = i+1\n",
    "  poi_schema.append({'name': 'poi{}'.format(poi_n), 'type': 'FLOAT'})\n",
    "  \n",
    "prev_n_range = 5\n",
    "prev_gap_schema = []\n",
    "for i in range(prev_n_range):\n",
    "  prev_n = i+1\n",
    "  prev_gap_schema.append({'name': 'previous_gap{}'.format(prev_n), 'type': 'INTEGER'})"
   ]
  },
  {
   "cell_type": "markdown",
   "metadata": {},
   "source": [
    "# Gaps Table\n",
    "First, make a simple **gaps** table, then fill it with data from other tables."
   ]
  },
  {
   "cell_type": "code",
   "execution_count": null,
   "metadata": {
    "collapsed": true
   },
   "outputs": [],
   "source": [
    "%%bigquery udf -m orders_create_additional_fields\n",
    "/**\n",
    " * Pad with 0 or given string.\n",
    " *\n",
    " * @param int n Number to add padding to.\n",
    " * @param int width Width of number + padding.\n",
    " * @param string z (Optional) Other string to replace '0' as padding.\n",
    " */\n",
    "function pad(n, width, z) {\n",
    "  z = z || '0';\n",
    "  n = n + '';\n",
    "  return n.length >= width ? n : new Array(width - n.length + 1).join(z) + n;\n",
    "}\n",
    "\n",
    "/**\n",
    " * Create additional fields on orders table for gaps table creation.\n",
    " *\n",
    " * @param {{order_id: string, driver_id: string, passenger_id: string,\n",
    "            start_district_hash: string, dest_district_hash: string, price: float,\n",
    "            time: string}} r\n",
    " * @param function({{order_id: string, driver_id: string, passenger_id: string,\n",
    "                     start_district_hash: string, dest_district_hash: string, price: float,\n",
    "                     time: string, timeslot: string, timeofday_slot: integer, day_in_week: integer,\n",
    "                     date: string}}) emitFn\n",
    " */\n",
    "function(r, emitFn) {\n",
    "  var t = r.time.split(/[ :\\-]/);\n",
    "  var slot = Math.floor((parseInt(t[3]) * 60 + parseInt(t[4])) / 10) + 1;\n",
    "  r.timeslot = t[0] + '-' + pad(t[1], 2) +\n",
    "               '-' + pad(t[2], 2) + '-' + slot;\n",
    "  r.timeofday_slot = slot;\n",
    "  r.date = t[0] + '-' + pad(t[1], 2) + '-' + pad(t[2], 2);\n",
    "  r.day_in_week = new Date(parseInt(t[0]), parseInt(t[1])-1, parseInt(t[2])).getDay();\n",
    "  emitFn(r);\n",
    "}"
   ]
  },
  {
   "cell_type": "code",
   "execution_count": null,
   "metadata": {
    "collapsed": false
   },
   "outputs": [],
   "source": [
    "%%bigquery execute -t datalab-projects-1331:xjk_algo_comp.gaps -m create\n",
    "SELECT district_id, FIRST(orders.timeslot) AS timeslot, FIRST(orders.date) AS date,\n",
    "  FIRST(day_in_week) AS day_in_week, FIRST(timeofday_slot) AS timeofday_slot,\n",
    "  SUM(price) AS sum_price, AVG(price) AS avg_price,\n",
    "  SUM(IF(driver_id = 'NULL', 1, 0)) AS gap\n",
    "FROM orders_create_additional_fields([datalab-projects-1331:xjk_algo_comp.orders]) AS orders\n",
    "JOIN [datalab-projects-1331:xjk_algo_comp.districts] AS districts \n",
    "  ON orders.start_district_hash = districts.district_hash\n",
    "GROUP BY district_id, orders.timeslot"
   ]
  },
  {
   "cell_type": "code",
   "execution_count": null,
   "metadata": {
    "collapsed": true
   },
   "outputs": [],
   "source": [
    "%% sql -q tester\n",
    "SELECT SUM(price) FROM datalab-projects-1331:xjk_algo_comp.orders\n",
    "WHERE start_district_hash = 'd4ec2125aff74eded207d2d915ef682f'\n",
    "  AND (time LIKE \"%2016-01-01 00:5%\")\n",
    "  \n",
    "# Reference only. Use above query to check if aggregation was correct, by comparing the\n",
    "# result of that from sum of district_hash = 51 and timeslot \"2016-01-01-6\", which \n",
    "# should be 126498.0."
   ]
  },
  {
   "cell_type": "markdown",
   "metadata": {},
   "source": [
    "# +1 timeslot\n",
    "We are going to use past data to predict the gaps for the next 10 minutes (or in other words, the next timeslot). To do this, we need to update timeslot related information. Specifically we are going to do the following:\n",
    "1. Add `timeslot` feature by one:\n",
    "  - '2016-01-45' to '2016-01-46'\n",
    "  - '2016-01-144' to '2016-02-1'\n",
    "2. Update `date` and `slot` features accordingly.\n",
    "3. Recalculate `day_in_week` feature."
   ]
  },
  {
   "cell_type": "code",
   "execution_count": null,
   "metadata": {
    "collapsed": false
   },
   "outputs": [],
   "source": [
    "%%bigquery udf --module gaps_plus_one_timeslot\n",
    "  \n",
    "// Use this when testing\n",
    "// %%javascript\n",
    "\n",
    "/**\n",
    " * Pad with 0 or given string.\n",
    " *\n",
    " * @param int n Number to add padding to.\n",
    " * @param int width Width of number + padding.\n",
    " * @param string z (Optional) Other string to replace '0' as padding.\n",
    " */\n",
    "function pad(n, width, z) {\n",
    "  z = z || '0';\n",
    "  n = n + '';\n",
    "  return n.length >= width ? n : new Array(width - n.length + 1).join(z) + n;\n",
    "}\n",
    "\n",
    "/**\n",
    " * Add one timeslot and adjust other relevant tables.\n",
    " *\n",
    " * @param {{district_id: integer, timeslot: string, date: string, day_in_week: integer,\n",
    "            timeofday_slot: integer, sum_price: float, avg_price: float, gap: integer}} r\n",
    " * @param function({{district_id: integer, timeslot: string, date: string, day_in_week: integer,\n",
    "                timeofday_slot: integer, sum_price: float, avg_price: float, gap: integer,\n",
    "                timeslot_original: string}}) emitFn\n",
    " */\n",
    "function(r, emitFn) {\n",
    "  \n",
    "  var t = r.timeslot.split(/-/);\n",
    "  var oldslot = parseInt(t[3]);\n",
    "  var newslot = oldslot + 1;\n",
    "  var d = new Date(parseInt(t[0]), parseInt(t[1])-1, parseInt(t[2]));\n",
    "  if (oldslot == 144) {\n",
    "    newslot = 1;\n",
    "    d = new Date(d.setDate(d.getDate() + 1));\n",
    "    r.day_in_week = d.getDay();\n",
    "    r.date = d.getFullYear() + '-' + pad(d.getMonth()+1, 2) +\n",
    "             '-' + pad(d.getDate(), 2);\n",
    "  }\n",
    "  \n",
    "  r.timeslot_original = r.timeslot;\n",
    "\n",
    "  r.timeslot = d.getFullYear() + '-' + pad(d.getMonth()+1, 2) +\n",
    "               '-' + pad(d.getDate(), 2) + '-' + newslot;\n",
    "\n",
    "  r.timeofday_slot = newslot;\n",
    "  emitFn(r);\n",
    "}\n",
    "\n",
    "// For testing (without `new Date()` after date added by 1 setDate returns milliseconds)\n",
    "\n",
    "// var test_row = {\n",
    "//   district_id: 1,\n",
    "//   timeslot: '2016-01-22-144',\n",
    "//   date: '2016-01-22',\n",
    "//   day_in_week: 5,\n",
    "//   timeofday_slot: 144,\n",
    "//   sum_price: 0.0,\n",
    "//   avg_price: 0.0,\n",
    "//   gap: 11,\n",
    "// };\n",
    "\n",
    "// function emitter(r) {\n",
    "//   for (var p in r) {\n",
    "//     element.append(p + '=' + r[p] + '<br>');\n",
    "//   }\n",
    "// }\n",
    "\n",
    "// udf(test_row, emitter);"
   ]
  },
  {
   "cell_type": "code",
   "execution_count": null,
   "metadata": {
    "collapsed": false
   },
   "outputs": [],
   "source": [
    "%%bigquery execute -t datalab-projects-1331:xjk_algo_comp.future_gaps -m create\n",
    "\n",
    "SELECT district_id, timeslot, date, day_in_week, timeofday_slot, sum_price, avg_price, gap,\n",
    "  timeslot_original\n",
    "FROM gaps_plus_one_timeslot([datalab-projects-1331:xjk_algo_comp.gaps])"
   ]
  },
  {
   "cell_type": "markdown",
   "metadata": {},
   "source": [
    "# Gaps Table + Other Tables"
   ]
  },
  {
   "cell_type": "code",
   "execution_count": null,
   "metadata": {
    "collapsed": false
   },
   "outputs": [],
   "source": [
    "%%bigquery execute -t datalab-projects-1331:xjk_algo_comp.future_gaps_processed -m create\n",
    "\n",
    "SELECT FIRST(gaps.district_id) AS district_id, FIRST(gaps.timeslot) AS timeslot, FIRST(gaps.date) AS date,\n",
    "  FIRST(gaps.day_in_week) AS day_in_week, IF(FIRST(gaps.day_in_week) = 0, 1, 0) AS is_sunday,\n",
    "  FIRST(gaps.timeofday_slot) AS timeofday_slot,\n",
    "  FIRST(gaps.sum_price) AS sum_price, FIRST(gaps.avg_price) AS avg_price, FIRST(gaps.gap) AS gap,\n",
    "  FIRST(pois.f1) AS f1, FIRST(pois.f11) AS f11, FIRST(pois.f11_1) AS f11_1, \n",
    "  FIRST(pois.f11_2) AS f11_2, FIRST(pois.f11_3) AS f11_3, FIRST(pois.f11_4) AS f11_4, \n",
    "  FIRST(pois.f11_5) AS f11_5, FIRST(pois.f11_6) AS f11_6, FIRST(pois.f11_7) AS f11_7, \n",
    "  FIRST(pois.f11_8) AS f11_8, FIRST(pois.f13_4) AS f13_4, FIRST(pois.f13_8) AS f13_8, \n",
    "  FIRST(pois.f14) AS f14, FIRST(pois.f14_1) AS f14_1, FIRST(pois.f14_10) AS f14_10, \n",
    "  FIRST(pois.f14_2) AS f14_2, FIRST(pois.f14_3) AS f14_3, FIRST(pois.f14_6) AS f14_6, \n",
    "  FIRST(pois.f14_8) AS f14_8, FIRST(pois.f15) AS f15, FIRST(pois.f15_1) AS f15_1, \n",
    "  FIRST(pois.f15_2) AS f15_2, FIRST(pois.f15_3) AS f15_3, FIRST(pois.f15_4) AS f15_4, \n",
    "  FIRST(pois.f15_6) AS f15_6, FIRST(pois.f15_7) AS f15_7, FIRST(pois.f15_8) AS f15_8, \n",
    "  FIRST(pois.f16) AS f16, FIRST(pois.f16_1) AS f16_1, FIRST(pois.f16_10) AS f16_10, \n",
    "  FIRST(pois.f16_11) AS f16_11, FIRST(pois.f16_12) AS f16_12, FIRST(pois.f16_3) AS f16_3, \n",
    "  FIRST(pois.f16_4) AS f16_4, FIRST(pois.f16_6) AS f16_6, FIRST(pois.f17) AS f17, \n",
    "  FIRST(pois.f17_2) AS f17_2, FIRST(pois.f17_3) AS f17_3, FIRST(pois.f17_4) AS f17_4, \n",
    "  FIRST(pois.f17_5) AS f17_5, FIRST(pois.f19) AS f19, FIRST(pois.f19_1) AS f19_1, \n",
    "  FIRST(pois.f19_2) AS f19_2, FIRST(pois.f19_3) AS f19_3, FIRST(pois.f19_4) AS f19_4, \n",
    "  FIRST(pois.f1_1) AS f1_1, FIRST(pois.f1_10) AS f1_10, FIRST(pois.f1_11) AS f1_11, \n",
    "  FIRST(pois.f1_2) AS f1_2, FIRST(pois.f1_3) AS f1_3, FIRST(pois.f1_4) AS f1_4, \n",
    "  FIRST(pois.f1_5) AS f1_5, FIRST(pois.f1_6) AS f1_6, FIRST(pois.f1_7) AS f1_7, \n",
    "  FIRST(pois.f1_8) AS f1_8, FIRST(pois.f20) AS f20, FIRST(pois.f20_1) AS f20_1, \n",
    "  FIRST(pois.f20_2) AS f20_2, FIRST(pois.f20_4) AS f20_4, FIRST(pois.f20_5) AS f20_5, \n",
    "  FIRST(pois.f20_6) AS f20_6, FIRST(pois.f20_7) AS f20_7, FIRST(pois.f20_8) AS f20_8, \n",
    "  FIRST(pois.f20_9) AS f20_9, FIRST(pois.f21_1) AS f21_1, FIRST(pois.f21_2) AS f21_2, \n",
    "  FIRST(pois.f22) AS f22, FIRST(pois.f22_1) AS f22_1, FIRST(pois.f22_2) AS f22_2, \n",
    "  FIRST(pois.f22_3) AS f22_3, FIRST(pois.f22_4) AS f22_4, FIRST(pois.f22_5) AS f22_5, \n",
    "  FIRST(pois.f23) AS f23, FIRST(pois.f23_1) AS f23_1, FIRST(pois.f23_2) AS f23_2, \n",
    "  FIRST(pois.f23_3) AS f23_3, FIRST(pois.f23_4) AS f23_4, FIRST(pois.f23_5) AS f23_5, \n",
    "  FIRST(pois.f23_6) AS f23_6, FIRST(pois.f24) AS f24, FIRST(pois.f24_1) AS f24_1, \n",
    "  FIRST(pois.f24_2) AS f24_2, FIRST(pois.f24_3) AS f24_3, FIRST(pois.f25) AS f25, \n",
    "  FIRST(pois.f25_1) AS f25_1, FIRST(pois.f25_3) AS f25_3, FIRST(pois.f25_7) AS f25_7, \n",
    "  FIRST(pois.f25_8) AS f25_8, FIRST(pois.f25_9) AS f25_9, FIRST(pois.f2_1) AS f2_1, \n",
    "  FIRST(pois.f2_10) AS f2_10, FIRST(pois.f2_11) AS f2_11, FIRST(pois.f2_12) AS f2_12, \n",
    "  FIRST(pois.f2_13) AS f2_13, FIRST(pois.f2_2) AS f2_2, FIRST(pois.f2_4) AS f2_4, \n",
    "  FIRST(pois.f2_5) AS f2_5, FIRST(pois.f2_6) AS f2_6, FIRST(pois.f2_7) AS f2_7, \n",
    "  FIRST(pois.f2_8) AS f2_8, FIRST(pois.f3_1) AS f3_1, FIRST(pois.f3_2) AS f3_2, \n",
    "  FIRST(pois.f3_3) AS f3_3, FIRST(pois.f4) AS f4, FIRST(pois.f4_1) AS f4_1, \n",
    "  FIRST(pois.f4_10) AS f4_10, FIRST(pois.f4_11) AS f4_11, FIRST(pois.f4_13) AS f4_13, \n",
    "  FIRST(pois.f4_14) AS f4_14, FIRST(pois.f4_16) AS f4_16, FIRST(pois.f4_17) AS f4_17, \n",
    "  FIRST(pois.f4_18) AS f4_18, FIRST(pois.f4_2) AS f4_2, FIRST(pois.f4_3) AS f4_3, \n",
    "  FIRST(pois.f4_5) AS f4_5, FIRST(pois.f4_6) AS f4_6, FIRST(pois.f4_7) AS f4_7, \n",
    "  FIRST(pois.f4_8) AS f4_8, FIRST(pois.f4_9) AS f4_9, FIRST(pois.f5) AS f5, \n",
    "  FIRST(pois.f5_1) AS f5_1, FIRST(pois.f5_3) AS f5_3, FIRST(pois.f5_4) AS f5_4, \n",
    "  FIRST(pois.f6) AS f6, FIRST(pois.f6_1) AS f6_1, FIRST(pois.f6_2) AS f6_2, \n",
    "  FIRST(pois.f6_4) AS f6_4, FIRST(pois.f7) AS f7, FIRST(pois.f8) AS f8, \n",
    "  FIRST(pois.f8_1) AS f8_1, FIRST(pois.f8_2) AS f8_2, FIRST(pois.f8_3) AS f8_3, \n",
    "  FIRST(pois.f8_4) AS f8_4, FIRST(pois.f8_5) AS f8_5,\n",
    "  FIRST(weather.weather) AS weather,\n",
    "  FIRST(weather.temperature) AS weather_temperature, FIRST(weather.pm25) AS weather_pm25,\n",
    "  FIRST(traffic.tj_level1) AS traffic_tj_level1, FIRST(traffic.tj_level2) AS traffic_tj_level2,\n",
    "  FIRST(traffic.tj_level3) AS traffic_tj_level3, FIRST(traffic.tj_level4) AS traffic_tj_level4\n",
    "FROM [datalab-projects-1331:xjk_algo_comp.future_gaps] as gaps\n",
    "LEFT JOIN [datalab-projects-1331:xjk_algo_comp.districts] as districts\n",
    "  ON districts.district_id = gaps.district_id\n",
    "LEFT JOIN [datalab-projects-1331:xjk_algo_comp.pois] as pois\n",
    "  ON pois.district_hash = districts.district_hash\n",
    "LEFT JOIN [datalab-projects-1331:xjk_algo_comp.weather] as weather\n",
    "  ON weather.timeslot = gaps.timeslot\n",
    "LEFT JOIN [datalab-projects-1331:xjk_algo_comp.traffic] as traffic\n",
    "  ON traffic.timeslot = gaps.timeslot\n",
    "  AND traffic.district_hash = districts.district_hash\n",
    "GROUP BY gaps.district_id, gaps.timeslot"
   ]
  },
  {
   "cell_type": "markdown",
   "metadata": {},
   "source": [
    "# PCA\n",
    "Combine POIs (features starting with 'f...') into n number of features."
   ]
  },
  {
   "cell_type": "code",
   "execution_count": null,
   "metadata": {
    "collapsed": false
   },
   "outputs": [],
   "source": [
    "pois = \"\"\"\n",
    "f1\tf11\tf11_1\tf11_2\tf11_3\tf11_4\tf11_5\tf11_6\tf11_7\tf11_8\tf13_4\tf13_8\t\n",
    "f14\tf14_1\tf14_10\tf14_2\tf14_3\tf14_6\tf14_8\tf15\tf15_1\tf15_2\tf15_3\tf15_4\t\n",
    "f15_6\tf15_7\tf15_8\tf16\tf16_1\tf16_10\tf16_11\tf16_12\tf16_3\tf16_4\tf16_6\tf17\t\n",
    "f17_2\tf17_3\tf17_4\tf17_5\tf19\tf19_1\tf19_2\tf19_3\tf19_4\tf1_1\tf1_10\tf1_11\t\n",
    "f1_2\tf1_3\tf1_4\tf1_5\tf1_6\tf1_7\tf1_8\tf20\tf20_1\tf20_2\tf20_4\tf20_5\t\n",
    "f20_6\tf20_7\tf20_8\tf20_9\tf21_1\tf21_2\tf22\tf22_1\tf22_2\tf22_3\tf22_4\tf22_5\t\n",
    "f23\tf23_1\tf23_2\tf23_3\tf23_4\tf23_5\tf23_6\tf24\tf24_1\tf24_2\tf24_3\tf25\tf25_1\t\n",
    "f25_3\tf25_7\tf25_8\tf25_9\tf2_1\tf2_10\tf2_11\tf2_12\tf2_13\tf2_2\tf2_4\tf2_5\t\n",
    "f2_6\tf2_7\tf2_8\tf3_1\tf3_2\tf3_3\tf4\tf4_1\tf4_10\tf4_11\tf4_13\tf4_14\t\n",
    "f4_16\tf4_17\tf4_18\tf4_2\tf4_3\tf4_5\tf4_6\tf4_7\tf4_8\tf4_9\tf5\tf5_1\t\n",
    "f5_3\tf5_4\tf6\tf6_1\tf6_2\tf6_4\tf7\tf8\tf8_1\tf8_2\tf8_3\tf8_4\tf8_5\n",
    "\"\"\"\n",
    "pois = map(lambda x: \"{}\".format(x.strip()), pois.split('\\t'))\n",
    "print(pois)"
   ]
  },
  {
   "cell_type": "code",
   "execution_count": 14,
   "metadata": {
    "collapsed": true
   },
   "outputs": [],
   "source": [
    "%%sql --module q\n",
    "SELECT * FROM [datalab-projects-1331:xjk_algo_comp.future_gaps_processed]"
   ]
  },
  {
   "cell_type": "code",
   "execution_count": 15,
   "metadata": {
    "collapsed": false
   },
   "outputs": [
    {
     "name": "stdout",
     "output_type": "stream",
     "text": [
      "there are 163491 rows\n",
      "processed 0 rows\n",
      "processed 5000 rows\n",
      "processed 10000 rows\n",
      "processed 15000 rows\n",
      "processed 20000 rows\n",
      "processed 25000 rows\n",
      "processed 30000 rows\n",
      "processed 35000 rows\n",
      "processed 40000 rows\n",
      "processed 45000 rows\n",
      "processed 50000 rows\n",
      "processed 55000 rows\n",
      "processed 60000 rows\n",
      "processed 65000 rows\n",
      "processed 70000 rows\n",
      "processed 75000 rows\n",
      "processed 80000 rows\n",
      "processed 85000 rows\n",
      "processed 90000 rows\n",
      "processed 95000 rows\n",
      "processed 100000 rows\n",
      "processed 105000 rows\n",
      "processed 110000 rows\n",
      "processed 115000 rows\n",
      "processed 120000 rows\n",
      "processed 125000 rows\n",
      "processed 130000 rows\n",
      "processed 135000 rows\n",
      "processed 140000 rows\n",
      "processed 145000 rows\n",
      "processed 150000 rows\n",
      "processed 155000 rows\n",
      "processed 160000 rows\n"
     ]
    }
   ],
   "source": [
    "query = bq.Query(q)\n",
    "tableresult = query.results()\n",
    "\n",
    "poi_fields = ['f1', 'f11', 'f11_1', 'f11_2', 'f11_3', 'f11_4', 'f11_5', 'f11_6', 'f11_7', 'f11_8',\n",
    "              'f13_4', 'f13_8', 'f14', 'f14_1', 'f14_10', 'f14_2', 'f14_3', 'f14_6', 'f14_8', 'f15',\n",
    "              'f15_1', 'f15_2', 'f15_3', 'f15_4', 'f15_6', 'f15_7', 'f15_8', 'f16', 'f16_1', 'f16_10',\n",
    "              'f16_11', 'f16_12', 'f16_3', 'f16_4', 'f16_6', 'f17', 'f17_2', 'f17_3', 'f17_4', 'f17_5',\n",
    "              'f19', 'f19_1', 'f19_2', 'f19_3', 'f19_4', 'f1_1', 'f1_10', 'f1_11', 'f1_2', 'f1_3', 'f1_4',\n",
    "              'f1_5', 'f1_6', 'f1_7', 'f1_8', 'f20', 'f20_1', 'f20_2', 'f20_4', 'f20_5', 'f20_6', 'f20_7',\n",
    "              'f20_8', 'f20_9', 'f21_1', 'f21_2', 'f22', 'f22_1', 'f22_2', 'f22_3', 'f22_4', 'f22_5',\n",
    "              'f23', 'f23_1', 'f23_2', 'f23_3', 'f23_4', 'f23_5', 'f23_6', 'f24', 'f24_1', 'f24_2',\n",
    "              'f24_3', 'f25', 'f25_1', 'f25_3', 'f25_7', 'f25_8', 'f25_9', 'f2_1', 'f2_10', 'f2_11',\n",
    "              'f2_12', 'f2_13', 'f2_2', 'f2_4', 'f2_5', 'f2_6', 'f2_7', 'f2_8', 'f3_1', 'f3_2', 'f3_3',\n",
    "              'f4', 'f4_1', 'f4_10', 'f4_11', 'f4_13', 'f4_14', 'f4_16', 'f4_17', 'f4_18', 'f4_2',\n",
    "              'f4_3', 'f4_5', 'f4_6', 'f4_7', 'f4_8', 'f4_9', 'f5', 'f5_1', 'f5_3', 'f5_4', 'f6', 'f6_1',\n",
    "              'f6_2', 'f6_4', 'f7', 'f8', 'f8_1', 'f8_2', 'f8_3', 'f8_4', 'f8_5']\n",
    "all_fields = tableresult[0].keys()\n",
    "all_data = []\n",
    "pois_data = np.zeros((tableresult.length, len(poi_fields)))\n",
    "print 'there are {} rows'.format(tableresult.length)\n",
    "for rcounter, row in enumerate(tableresult):\n",
    "  for fcounter, field in enumerate(poi_fields):\n",
    "    pois_data[rcounter, fcounter] = row.pop(field, None)\n",
    "  all_data.append(row)\n",
    "  if rcounter % 5000 == 0:\n",
    "    print 'processed {} rows'.format(rcounter)"
   ]
  },
  {
   "cell_type": "code",
   "execution_count": 16,
   "metadata": {
    "collapsed": false
   },
   "outputs": [],
   "source": [
    "pca = PCA(n_components=poi_n_range)\n",
    "pois_data_s = pca.fit_transform(pois_data)"
   ]
  },
  {
   "cell_type": "code",
   "execution_count": null,
   "metadata": {
    "collapsed": false
   },
   "outputs": [],
   "source": [
    "for rcounter, row in enumerate(all_data):\n",
    "  for index in range(pois_data_s.shape[1]):\n",
    "    all_data[rcounter]['poi{}'.format(index+1)] = pois_data_s[rcounter, index]"
   ]
  },
  {
   "cell_type": "code",
   "execution_count": null,
   "metadata": {
    "collapsed": false
   },
   "outputs": [],
   "source": [
    "schema = bq.Schema([\n",
    "    {'name': 'district_id', 'type': 'INTEGER'},\n",
    "    {'name': 'timeslot', 'type': 'STRING'},\n",
    "    {'name': 'date', 'type': 'STRING'},\n",
    "    {'name': 'timeofday_slot', 'type': 'INTEGER'},\n",
    "    {'name': 'day_in_week', 'type': 'INTEGER'},\n",
    "    {'name': 'is_sunday', 'type': 'INTEGER'},\n",
    "    {'name': 'sum_price', 'type': 'FLOAT'},\n",
    "    {'name': 'avg_price', 'type': 'FLOAT'},\n",
    "    {'name': 'traffic_tj_level1', 'type': 'INTEGER'},\n",
    "    {'name': 'traffic_tj_level2', 'type': 'INTEGER'},\n",
    "    {'name': 'traffic_tj_level3', 'type': 'INTEGER'},\n",
    "    {'name': 'traffic_tj_level4', 'type': 'INTEGER'},\n",
    "    {'name': 'weather', 'type': 'INTEGER'},\n",
    "    {'name': 'weather_pm25', 'type': 'FLOAT'},\n",
    "    {'name': 'weather_temperature', 'type': 'FLOAT'},\n",
    "    {'name': 'gap', 'type': 'INTEGER'}\n",
    "] + poi_schema)\n",
    "table = bq.Table('datalab-projects-1331:xjk_algo_comp.future_gaps_final1')\n",
    "if table.exists():\n",
    "  table.delete()\n",
    "table.create(schema)\n",
    "  \n",
    "table.insert_data(all_data)"
   ]
  },
  {
   "cell_type": "markdown",
   "metadata": {},
   "source": [
    "# Replace NULL Values"
   ]
  },
  {
   "cell_type": "code",
   "execution_count": null,
   "metadata": {
    "collapsed": false
   },
   "outputs": [],
   "source": [
    "all_data_df = pd.DataFrame(all_data)\n",
    "all_data_df\n",
    "all_data_df['traffic_tj_level1'] = all_data_df['traffic_tj_level1'].fillna(0).astype('int64')\n",
    "all_data_df['traffic_tj_level2'] = all_data_df['traffic_tj_level2'].fillna(0).astype('int64')\n",
    "all_data_df['traffic_tj_level3'] = all_data_df['traffic_tj_level3'].fillna(0).astype('int64')\n",
    "all_data_df['traffic_tj_level4'] = all_data_df['traffic_tj_level4'].fillna(0).astype('int64')\n",
    "all_data_df['weather'] = all_data_df['weather'].fillna(0).astype('int64')\n",
    "\n",
    "schema = bq.Schema([\n",
    "    {'name': 'district_id', 'type': 'INTEGER'},\n",
    "    {'name': 'timeslot', 'type': 'STRING'},\n",
    "    {'name': 'date', 'type': 'STRING'},\n",
    "    {'name': 'timeofday_slot', 'type': 'INTEGER'},\n",
    "    {'name': 'day_in_week', 'type': 'INTEGER'},\n",
    "    {'name': 'is_sunday', 'type': 'INTEGER'},\n",
    "    {'name': 'sum_price', 'type': 'FLOAT'},\n",
    "    {'name': 'avg_price', 'type': 'FLOAT'},\n",
    "    {'name': 'traffic_tj_level1', 'type': 'INTEGER'},\n",
    "    {'name': 'traffic_tj_level2', 'type': 'INTEGER'},\n",
    "    {'name': 'traffic_tj_level3', 'type': 'INTEGER'},\n",
    "    {'name': 'traffic_tj_level4', 'type': 'INTEGER'},\n",
    "    {'name': 'weather', 'type': 'INTEGER'},\n",
    "    {'name': 'weather_pm25', 'type': 'FLOAT'},\n",
    "    {'name': 'weather_temperature', 'type': 'FLOAT'},\n",
    "    {'name': 'gap', 'type': 'INTEGER'}\n",
    "] + poi_schema)\n",
    "table = bq.Table('datalab-projects-1331:xjk_algo_comp.future_gaps_final1')\n",
    "if table.exists():\n",
    "  table.delete()\n",
    "\n",
    "table.create(schema)\n",
    "table.insert_data(all_data_df)"
   ]
  },
  {
   "cell_type": "markdown",
   "metadata": {},
   "source": [
    "# Previous Gap\n",
    "Add `previous_gap` field to data."
   ]
  },
  {
   "cell_type": "code",
   "execution_count": 10,
   "metadata": {
    "collapsed": true
   },
   "outputs": [],
   "source": [
    "%%sql --module q\n",
    "\n",
    "SELECT *\n",
    "FROM [datalab-projects-1331:xjk_algo_comp.future_gaps_final1]\n",
    "ORDER BY timeslot, district_id"
   ]
  },
  {
   "cell_type": "code",
   "execution_count": 11,
   "metadata": {
    "collapsed": false
   },
   "outputs": [
    {
     "name": "stdout",
     "output_type": "stream",
     "text": [
      "there are 74058 rows\n",
      "processed 0 rows\n",
      "processed 5000 rows\n",
      "processed 10000 rows\n",
      "processed 15000 rows\n",
      "processed 20000 rows\n",
      "processed 25000 rows\n",
      "processed 30000 rows\n",
      "processed 35000 rows\n",
      "processed 40000 rows\n",
      "processed 45000 rows\n",
      "processed 50000 rows\n",
      "processed 55000 rows\n",
      "processed 60000 rows\n",
      "processed 65000 rows\n",
      "processed 70000 rows\n"
     ]
    }
   ],
   "source": [
    "query = bq.Query(q)\n",
    "tableresult = query.results()\n",
    "\n",
    "previous_gaps = {}\n",
    "print 'there are {} rows'.format(tableresult.length)\n",
    "for rcounter, row in enumerate(tableresult):\n",
    "  previous_gaps['{}:{}'.format(row['timeslot'], row['district_id'])] = row['gap']\n",
    "  if rcounter % 5000 == 0:\n",
    "    print 'processed {} rows'.format(rcounter)"
   ]
  },
  {
   "cell_type": "code",
   "execution_count": 12,
   "metadata": {
    "collapsed": false
   },
   "outputs": [
    {
     "name": "stdout",
     "output_type": "stream",
     "text": [
      "there are 74058 rows\n",
      "processed 0 rows\n",
      "processed 5000 rows\n",
      "processed 10000 rows\n",
      "processed 15000 rows\n",
      "processed 20000 rows\n",
      "processed 25000 rows\n",
      "processed 30000 rows\n",
      "processed 35000 rows\n",
      "processed 40000 rows\n",
      "processed 45000 rows\n",
      "processed 50000 rows\n",
      "processed 55000 rows\n",
      "processed 60000 rows\n",
      "processed 65000 rows\n",
      "processed 70000 rows\n"
     ]
    }
   ],
   "source": [
    "all_data = []\n",
    "print 'there are {} rows'.format(tableresult.length)\n",
    "for rcounter, row in enumerate(tableresult):\n",
    "  timeslot_r = map(lambda x: int(x), row['timeslot'].split('-'))\n",
    "  for i in range(prev_n_range):\n",
    "    prev_n = i+1\n",
    "    slot = timeslot_r[3] - 1\n",
    "    date_obj = date(timeslot_r[0], timeslot_r[1], timeslot_r[2])\n",
    "    if slot <= 0:\n",
    "      slot = 144\n",
    "      date_obj = date_obj - timedelta(days=1)\n",
    "    prev_timestamp = '{}-{}-{}-{}'.format(\n",
    "      date_obj.year, str(date_obj.month).zfill(2), str(date_obj.day).zfill(2), slot)\n",
    "    prev_index = '{}:{}'.format(prev_timestamp, row['district_id'])\n",
    "    row['previous_gap{}'.format(prev_n)] = 0\n",
    "    if prev_index in previous_gaps:\n",
    "      row['previous_gap{}'.format(prev_n)] = previous_gaps[prev_index]\n",
    "  all_data.append(row)\n",
    "  if rcounter % 5000 == 0:\n",
    "    print 'processed {} rows'.format(rcounter)"
   ]
  },
  {
   "cell_type": "code",
   "execution_count": 13,
   "metadata": {
    "collapsed": false
   },
   "outputs": [
    {
     "data": {
      "text/html": [
       "\n",
       "    <div class=\"bqtv\" id=\"3_146579610293\"><table><tr><th>district_id</th><th>timeslot</th><th>date</th><th>timeofday_slot</th><th>day_in_week</th><th>is_sunday</th><th>sum_price</th><th>avg_price</th><th>traffic_tj_level1</th><th>traffic_tj_level2</th><th>traffic_tj_level3</th><th>traffic_tj_level4</th><th>weather</th><th>weather_pm25</th><th>weather_temperature</th><th>gap</th><th>poi1</th><th>poi2</th><th>poi3</th><th>poi4</th><th>poi5</th><th>poi6</th><th>poi7</th><th>poi8</th><th>poi9</th><th>poi10</th><th>previous_gap1</th><th>previous_gap2</th><th>previous_gap3</th><th>previous_gap4</th><th>previous_gap5</th></tr><tr><td>42</td><td>2016-01-04-16</td><td>2016-01-04</td><td>16</td><td>1</td><td>0</td><td>414.0</td><td>29.5714285714</td><td>1006</td><td>87</td><td>26</td><td>25</td><td>2</td><td>202.0</td><td>13.0</td><td>1</td><td>5159.04699367</td><td>25063.5464052</td><td>26556.7762355</td><td>14427.9257913</td><td>-21064.5834914</td><td>1391.51913019</td><td>1272.36295249</td><td>-10635.0527994</td><td>4077.15079438</td><td>1679.00450733</td><td>0</td><td>0</td><td>0</td><td>0</td><td>0</td></tr><tr><td>11</td><td>2016-01-04-93</td><td>2016-01-04</td><td>93</td><td>1</td><td>0</td><td>196.5</td><td>16.375</td><td>721</td><td>209</td><td>67</td><td>38</td><td>4</td><td>228.0</td><td>12.0</td><td>0</td><td>-33769.1898693</td><td>-1151.34828854</td><td>18533.2250738</td><td>6789.14501789</td><td>-23522.0351577</td><td>7287.98304105</td><td>-1428.28651003</td><td>-1332.11359029</td><td>3062.1052634</td><td>822.533561102</td><td>0</td><td>0</td><td>0</td><td>0</td><td>0</td></tr><tr><td>48</td><td>2016-01-08-117</td><td>2016-01-08</td><td>117</td><td>5</td><td>0</td><td>3686.3</td><td>16.0273913043</td><td>2305</td><td>779</td><td>196</td><td>142</td><td>2</td><td>111.0</td><td>5.0</td><td>12</td><td>303528.02255</td><td>14673.1668546</td><td>-108784.562531</td><td>-13890.9635498</td><td>-32547.7300861</td><td>-2243.11996941</td><td>2666.3170299</td><td>-5703.47445931</td><td>-4761.85534916</td><td>-1191.15386499</td><td>0</td><td>0</td><td>0</td><td>0</td><td>0</td></tr><tr><td>42</td><td>2016-01-17-139</td><td>2016-01-17</td><td>139</td><td>0</td><td>1</td><td>1034.1</td><td>18.4660714286</td><td>1299</td><td>292</td><td>45</td><td>60</td><td>3</td><td>96.0</td><td>3.0</td><td>1</td><td>5159.04699367</td><td>25063.5464052</td><td>26556.7762355</td><td>14427.9257913</td><td>-21064.5834914</td><td>1391.51913019</td><td>1272.36295249</td><td>-10635.0527994</td><td>4077.15079438</td><td>1679.00450733</td><td>0</td><td>0</td><td>0</td><td>0</td><td>0</td></tr><tr><td>51</td><td>2016-01-06-36</td><td>2016-01-06</td><td>36</td><td>3</td><td>0</td><td>900.0</td><td>29.0322580645</td><td>3349</td><td>400</td><td>69</td><td>83</td><td>4</td><td>46.0</td><td>7.0</td><td>7</td><td>708222.866131</td><td>56252.6432525</td><td>45318.9443189</td><td>-31516.3520766</td><td>6643.82498022</td><td>-6255.77998574</td><td>-5874.62782275</td><td>5230.07088296</td><td>960.212337132</td><td>925.726201223</td><td>4</td><td>4</td><td>4</td><td>4</td><td>4</td></tr><tr><td>33</td><td>2016-01-01-63</td><td>2016-01-01</td><td>63</td><td>5</td><td>0</td><td>298.0</td><td>18.625</td><td>213</td><td>61</td><td>16</td><td>18</td><td>2</td><td>186.0</td><td>5.0</td><td>7</td><td>-57374.1656061</td><td>3331.11578506</td><td>-2333.90366109</td><td>-3774.5385603</td><td>761.532298242</td><td>640.505156553</td><td>3157.74923423</td><td>2164.46583818</td><td>929.502327117</td><td>-422.925590902</td><td>0</td><td>0</td><td>0</td><td>0</td><td>0</td></tr><tr><td>11</td><td>2016-01-12-58</td><td>2016-01-12</td><td>58</td><td>2</td><td>0</td><td>540.0</td><td>20.7692307692</td><td>767</td><td>159</td><td>53</td><td>27</td><td>2</td><td>47.0</td><td>4.0</td><td>0</td><td>-33769.1898693</td><td>-1151.34828854</td><td>18533.2250738</td><td>6789.14501789</td><td>-23522.0351577</td><td>7287.98304105</td><td>-1428.28651003</td><td>-1332.11359029</td><td>3062.1052634</td><td>822.533561102</td><td>0</td><td>0</td><td>0</td><td>0</td><td>0</td></tr><tr><td>32</td><td>2016-01-15-49</td><td>2016-01-15</td><td>49</td><td>5</td><td>0</td><td>56.0</td><td>18.6666666667</td><td>165</td><td>19</td><td>8</td><td>1</td><td>2</td><td>151.0</td><td>4.0</td><td>0</td><td>-61194.5683891</td><td>-1660.197622</td><td>-240.659554095</td><td>-7812.03838761</td><td>-314.309459331</td><td>951.826244726</td><td>-2217.22041198</td><td>271.075852592</td><td>1307.60256577</td><td>-446.363405432</td><td>0</td><td>0</td><td>0</td><td>0</td><td>0</td></tr><tr><td>50</td><td>2016-01-15-91</td><td>2016-01-15</td><td>91</td><td>5</td><td>0</td><td>55.0</td><td>55.0</td><td>184</td><td>17</td><td>15</td><td>0</td><td>2</td><td>84.0</td><td>11.0</td><td>0</td><td>-61876.0995581</td><td>-1357.49437049</td><td>-2077.24967252</td><td>-7257.02419144</td><td>794.360329292</td><td>1241.74877553</td><td>-535.387910289</td><td>2506.10742456</td><td>448.09618372</td><td>280.719551554</td><td>0</td><td>0</td><td>0</td><td>0</td><td>0</td></tr><tr><td>59</td><td>2016-01-04-75</td><td>2016-01-04</td><td>75</td><td>1</td><td>0</td><td>29.0</td><td>9.66666666667</td><td>148</td><td>15</td><td>4</td><td>2</td><td>4</td><td>219.0</td><td>12.0</td><td>1</td><td>-64364.6353441</td><td>-1598.17517753</td><td>-6410.65516565</td><td>-7173.08461937</td><td>2429.5624518</td><td>-1025.4069752</td><td>1553.93575592</td><td>1311.01084431</td><td>1011.70315328</td><td>-51.4614331857</td><td>0</td><td>0</td><td>0</td><td>0</td><td>0</td></tr><tr><td>14</td><td>2016-01-03-38</td><td>2016-01-03</td><td>38</td><td>0</td><td>1</td><td>222.0</td><td>31.7142857143</td><td>870</td><td>91</td><td>34</td><td>17</td><td>4</td><td>145.0</td><td>9.0</td><td>4</td><td>17734.3389759</td><td>-13841.9662094</td><td>-28341.6714718</td><td>5611.53293532</td><td>11650.8705718</td><td>2326.98406762</td><td>206.363122397</td><td>4512.20689356</td><td>2241.49009815</td><td>-8619.42763411</td><td>1</td><td>1</td><td>1</td><td>1</td><td>1</td></tr><tr><td>27</td><td>2016-01-15-23</td><td>2016-01-15</td><td>23</td><td>5</td><td>0</td><td>78.0</td><td>11.1428571429</td><td>715</td><td>113</td><td>15</td><td>18</td><td>3</td><td>187.0</td><td>5.0</td><td>0</td><td>15201.8312713</td><td>33595.0164625</td><td>31369.1915082</td><td>11753.1017407</td><td>-10783.3375298</td><td>-3147.94282698</td><td>7470.16433446</td><td>4919.48412073</td><td>782.65254709</td><td>-6877.69961476</td><td>3</td><td>3</td><td>3</td><td>3</td><td>3</td></tr><tr><td>19</td><td>2016-01-03-144</td><td>2016-01-03</td><td>144</td><td>0</td><td>1</td><td>626.0</td><td>28.4545454545</td><td>875</td><td>81</td><td>29</td><td>26</td><td>2</td><td>187.0</td><td>13.0</td><td>4</td><td>-30607.7422422</td><td>3946.77733415</td><td>16612.4041996</td><td>-390.103056531</td><td>-10345.9421066</td><td>2559.25120739</td><td>-5740.01017661</td><td>-4110.47554238</td><td>-286.100084612</td><td>-925.376266964</td><td>0</td><td>0</td><td>0</td><td>0</td><td>0</td></tr><tr><td>24</td><td>2016-01-16-102</td><td>2016-01-16</td><td>102</td><td>6</td><td>0</td><td>2200.5</td><td>22.4540816327</td><td>1045</td><td>327</td><td>105</td><td>78</td><td>2</td><td>115.0</td><td>11.0</td><td>2</td><td>19523.2410099</td><td>4962.96782651</td><td>-1374.24953385</td><td>16082.7083821</td><td>3468.89739271</td><td>8432.75509471</td><td>1453.92654116</td><td>-3655.43865866</td><td>1804.03000189</td><td>2994.38127998</td><td>5</td><td>5</td><td>5</td><td>5</td><td>5</td></tr><tr><td>24</td><td>2016-01-01-119</td><td>2016-01-01</td><td>119</td><td>5</td><td>0</td><td>1693.8</td><td>19.0314606742</td><td>1025</td><td>369</td><td>116</td><td>68</td><td>2</td><td>141.0</td><td>9.0</td><td>4</td><td>19523.2410099</td><td>4962.96782651</td><td>-1374.24953385</td><td>16082.7083821</td><td>3468.89739271</td><td>8432.75509471</td><td>1453.92654116</td><td>-3655.43865866</td><td>1804.03000189</td><td>2994.38127998</td><td>4</td><td>4</td><td>4</td><td>4</td><td>4</td></tr><tr><td>27</td><td>2016-01-04-51</td><td>2016-01-04</td><td>51</td><td>1</td><td>0</td><td>1294.0</td><td>9.04895104895</td><td>1405</td><td>327</td><td>80</td><td>32</td><td>8</td><td>208.0</td><td>12.0</td><td>24</td><td>15201.8312713</td><td>33595.0164625</td><td>31369.1915082</td><td>11753.1017407</td><td>-10783.3375298</td><td>-3147.94282698</td><td>7470.16433446</td><td>4919.48412073</td><td>782.65254709</td><td>-6877.69961476</td><td>0</td><td>0</td><td>0</td><td>0</td><td>0</td></tr><tr><td>5</td><td>2016-01-01-56</td><td>2016-01-01</td><td>56</td><td>5</td><td>0</td><td>70.0</td><td>35.0</td><td>145</td><td>16</td><td>6</td><td>2</td><td>8</td><td>178.0</td><td>3.0</td><td>1</td><td>-67141.5911136</td><td>-2070.58480976</td><td>-5449.47599653</td><td>-8630.63260495</td><td>2999.47987894</td><td>-901.82149272</td><td>-52.9234322828</td><td>1185.22007693</td><td>283.110401505</td><td>791.885996661</td><td>0</td><td>0</td><td>0</td><td>0</td><td>0</td></tr><tr><td>6</td><td>2016-01-14-65</td><td>2016-01-14</td><td>65</td><td>4</td><td>0</td><td>423.6</td><td>28.24</td><td>336</td><td>51</td><td>14</td><td>14</td><td>2</td><td>122.0</td><td>5.0</td><td>5</td><td>-58268.2599224</td><td>-1553.06283308</td><td>-3886.86562462</td><td>5876.70076959</td><td>7169.47752702</td><td>-10532.7414717</td><td>1005.83266285</td><td>814.820646962</td><td>-1816.13564323</td><td>3099.17358955</td><td>4</td><td>4</td><td>4</td><td>4</td><td>4</td></tr><tr><td>64</td><td>2016-01-14-113</td><td>2016-01-14</td><td>113</td><td>4</td><td>0</td><td>82.0</td><td>7.45454545455</td><td>498</td><td>114</td><td>37</td><td>33</td><td>2</td><td>129.0</td><td>7.0</td><td>0</td><td>-37490.7902772</td><td>17372.1863673</td><td>1128.36211179</td><td>926.566058587</td><td>-4135.29875105</td><td>-5936.90993822</td><td>10155.3627218</td><td>1946.42030939</td><td>-1276.71774331</td><td>-649.260787228</td><td>0</td><td>0</td><td>0</td><td>0</td><td>0</td></tr><tr><td>35</td><td>2016-01-15-130</td><td>2016-01-15</td><td>130</td><td>5</td><td>0</td><td>688.6</td><td>23.7448275862</td><td>314</td><td>20</td><td>16</td><td>4</td><td>0</td><td>nan</td><td>nan</td><td>10</td><td>-62108.4053743</td><td>-1597.45404092</td><td>-2281.34151762</td><td>-5367.7204698</td><td>131.70449485</td><td>6.32311376921</td><td>-1158.91039613</td><td>1808.46310163</td><td>9.69436119653</td><td>933.533777802</td><td>0</td><td>0</td><td>0</td><td>0</td><td>0</td></tr><tr><td>40</td><td>2016-01-05-103</td><td>2016-01-05</td><td>103</td><td>2</td><td>0</td><td>37.0</td><td>18.5</td><td>299</td><td>53</td><td>18</td><td>2</td><td>4</td><td>40.0</td><td>8.0</td><td>0</td><td>-64931.4946754</td><td>-3401.9619505</td><td>-4726.89727348</td><td>-7591.19720166</td><td>1775.65412799</td><td>-241.22485119</td><td>-1948.92277199</td><td>549.508500755</td><td>1107.80099352</td><td>953.159739621</td><td>0</td><td>0</td><td>0</td><td>0</td><td>0</td></tr><tr><td>24</td><td>2016-01-21-12</td><td>2016-01-21</td><td>12</td><td>4</td><td>0</td><td>194.0</td><td>12.9333333333</td><td>891</td><td>105</td><td>35</td><td>50</td><td>0</td><td>nan</td><td>nan</td><td>3</td><td>19523.2410099</td><td>4962.96782651</td><td>-1374.24953385</td><td>16082.7083821</td><td>3468.89739271</td><td>8432.75509471</td><td>1453.92654116</td><td>-3655.43865866</td><td>1804.03000189</td><td>2994.38127998</td><td>0</td><td>0</td><td>0</td><td>0</td><td>0</td></tr><tr><td>48</td><td>2016-01-21-135</td><td>2016-01-21</td><td>135</td><td>4</td><td>0</td><td>4054.4</td><td>16.8933333333</td><td>2663</td><td>495</td><td>116</td><td>75</td><td>2</td><td>53.0</td><td>1.0</td><td>71</td><td>303528.02255</td><td>14673.1668546</td><td>-108784.562531</td><td>-13890.9635498</td><td>-32547.7300861</td><td>-2243.11996941</td><td>2666.3170299</td><td>-5703.47445931</td><td>-4761.85534916</td><td>-1191.15386499</td><td>0</td><td>0</td><td>0</td><td>0</td><td>0</td></tr><tr><td>2</td><td>2016-01-08-10</td><td>2016-01-08</td><td>10</td><td>5</td><td>0</td><td>6.0</td><td>6.0</td><td>616</td><td>58</td><td>11</td><td>19</td><td>2</td><td>162.0</td><td>5.0</td><td>0</td><td>-13085.7815533</td><td>33883.0675434</td><td>17593.0039942</td><td>6360.29424912</td><td>-1329.90180926</td><td>-5838.49593253</td><td>13958.607697</td><td>-5913.7071105</td><td>-657.395883052</td><td>581.697782643</td><td>0</td><td>0</td><td>0</td><td>0</td><td>0</td></tr><tr><td>61</td><td>2016-01-19-61</td><td>2016-01-19</td><td>61</td><td>2</td><td>0</td><td>57.0</td><td>19.0</td><td>131</td><td>66</td><td>15</td><td>2</td><td>2</td><td>160.0</td><td>3.0</td><td>0</td><td>-57522.6538955</td><td>5687.88705209</td><td>-1342.72536191</td><td>-5245.15355336</td><td>1567.68560819</td><td>56.1497310365</td><td>1986.3367863</td><td>3289.87617896</td><td>-520.584615428</td><td>557.657946392</td><td>0</td><td>0</td><td>0</td><td>0</td><td>0</td></tr></table></div>\n",
       "    <br />(rows: 0, datalab-projects-1331:xjk_algo_comp.future_gaps_final2)<br />\n",
       "    <script>\n",
       "      require(['extensions/charting', 'element!3_146579610293', 'style!/static/extensions/charting.css'],\n",
       "        function(charts, dom) {\n",
       "          charts.render(dom,\n",
       "            {\n",
       "              chartStyle:\"table\",\n",
       "              dataName:\"1\",\n",
       "              fields:\"district_id,timeslot,date,timeofday_slot,day_in_week,is_sunday,sum_price,avg_price,traffic_tj_level1,traffic_tj_level2,traffic_tj_level3,traffic_tj_level4,weather,weather_pm25,weather_temperature,gap,poi1,poi2,poi3,poi4,poi5,poi6,poi7,poi8,poi9,poi10,previous_gap1,previous_gap2,previous_gap3,previous_gap4,previous_gap5\",\n",
       "              totalRows:0,\n",
       "              rowsPerPage:25,\n",
       "            }, {}, {\"rows\": [{\"c\": [{\"v\": 42}, {\"v\": \"2016-01-04-16\"}, {\"v\": \"2016-01-04\"}, {\"v\": 16}, {\"v\": 1}, {\"v\": 0}, {\"v\": 414.0}, {\"v\": 29.571428571428573}, {\"v\": 1006}, {\"v\": 87}, {\"v\": 26}, {\"v\": 25}, {\"v\": 2}, {\"v\": 202.0}, {\"v\": 13.0}, {\"v\": 1}, {\"v\": 5159.046993673655}, {\"v\": 25063.54640523879}, {\"v\": 26556.77623545344}, {\"v\": 14427.925791292902}, {\"v\": -21064.583491410158}, {\"v\": 1391.519130193114}, {\"v\": 1272.362952493876}, {\"v\": -10635.052799429292}, {\"v\": 4077.150794378404}, {\"v\": 1679.0045073341585}, {\"v\": 0}, {\"v\": 0}, {\"v\": 0}, {\"v\": 0}, {\"v\": 0}]}, {\"c\": [{\"v\": 11}, {\"v\": \"2016-01-04-93\"}, {\"v\": \"2016-01-04\"}, {\"v\": 93}, {\"v\": 1}, {\"v\": 0}, {\"v\": 196.5}, {\"v\": 16.375}, {\"v\": 721}, {\"v\": 209}, {\"v\": 67}, {\"v\": 38}, {\"v\": 4}, {\"v\": 228.0}, {\"v\": 12.0}, {\"v\": 0}, {\"v\": -33769.189869272246}, {\"v\": -1151.3482885368967}, {\"v\": 18533.225073816397}, {\"v\": 6789.145017891535}, {\"v\": -23522.03515773121}, {\"v\": 7287.9830410494815}, {\"v\": -1428.2865100300417}, {\"v\": -1332.1135902923972}, {\"v\": 3062.105263397846}, {\"v\": 822.5335611019855}, {\"v\": 0}, {\"v\": 0}, {\"v\": 0}, {\"v\": 0}, {\"v\": 0}]}, {\"c\": [{\"v\": 48}, {\"v\": \"2016-01-08-117\"}, {\"v\": \"2016-01-08\"}, {\"v\": 117}, {\"v\": 5}, {\"v\": 0}, {\"v\": 3686.3000000000006}, {\"v\": 16.02739130434783}, {\"v\": 2305}, {\"v\": 779}, {\"v\": 196}, {\"v\": 142}, {\"v\": 2}, {\"v\": 111.0}, {\"v\": 5.0}, {\"v\": 12}, {\"v\": 303528.0225495317}, {\"v\": 14673.166854568637}, {\"v\": -108784.56253072582}, {\"v\": -13890.963549820584}, {\"v\": -32547.730086099262}, {\"v\": -2243.1199694081133}, {\"v\": 2666.3170298973546}, {\"v\": -5703.474459306734}, {\"v\": -4761.855349164535}, {\"v\": -1191.1538649926056}, {\"v\": 0}, {\"v\": 0}, {\"v\": 0}, {\"v\": 0}, {\"v\": 0}]}, {\"c\": [{\"v\": 42}, {\"v\": \"2016-01-17-139\"}, {\"v\": \"2016-01-17\"}, {\"v\": 139}, {\"v\": 0}, {\"v\": 1}, {\"v\": 1034.1000000000001}, {\"v\": 18.466071428571432}, {\"v\": 1299}, {\"v\": 292}, {\"v\": 45}, {\"v\": 60}, {\"v\": 3}, {\"v\": 96.0}, {\"v\": 3.0}, {\"v\": 1}, {\"v\": 5159.046993673655}, {\"v\": 25063.54640523879}, {\"v\": 26556.77623545344}, {\"v\": 14427.925791292902}, {\"v\": -21064.583491410158}, {\"v\": 1391.519130193114}, {\"v\": 1272.362952493876}, {\"v\": -10635.052799429292}, {\"v\": 4077.150794378404}, {\"v\": 1679.0045073341585}, {\"v\": 0}, {\"v\": 0}, {\"v\": 0}, {\"v\": 0}, {\"v\": 0}]}, {\"c\": [{\"v\": 51}, {\"v\": \"2016-01-06-36\"}, {\"v\": \"2016-01-06\"}, {\"v\": 36}, {\"v\": 3}, {\"v\": 0}, {\"v\": 900.0}, {\"v\": 29.032258064516128}, {\"v\": 3349}, {\"v\": 400}, {\"v\": 69}, {\"v\": 83}, {\"v\": 4}, {\"v\": 46.0}, {\"v\": 7.0}, {\"v\": 7}, {\"v\": 708222.8661305557}, {\"v\": 56252.64325249546}, {\"v\": 45318.94431890442}, {\"v\": -31516.352076592088}, {\"v\": 6643.824980215071}, {\"v\": -6255.779985737854}, {\"v\": -5874.627822750455}, {\"v\": 5230.070882955488}, {\"v\": 960.2123371321513}, {\"v\": 925.7262012233465}, {\"v\": 4}, {\"v\": 4}, {\"v\": 4}, {\"v\": 4}, {\"v\": 4}]}, {\"c\": [{\"v\": 33}, {\"v\": \"2016-01-01-63\"}, {\"v\": \"2016-01-01\"}, {\"v\": 63}, {\"v\": 5}, {\"v\": 0}, {\"v\": 298.0}, {\"v\": 18.625}, {\"v\": 213}, {\"v\": 61}, {\"v\": 16}, {\"v\": 18}, {\"v\": 2}, {\"v\": 186.0}, {\"v\": 5.0}, {\"v\": 7}, {\"v\": -57374.16560605138}, {\"v\": 3331.1157850622044}, {\"v\": -2333.9036610863395}, {\"v\": -3774.5385603010945}, {\"v\": 761.5322982419874}, {\"v\": 640.5051565532003}, {\"v\": 3157.7492342287615}, {\"v\": 2164.4658381786003}, {\"v\": 929.502327117297}, {\"v\": -422.9255909017496}, {\"v\": 0}, {\"v\": 0}, {\"v\": 0}, {\"v\": 0}, {\"v\": 0}]}, {\"c\": [{\"v\": 11}, {\"v\": \"2016-01-12-58\"}, {\"v\": \"2016-01-12\"}, {\"v\": 58}, {\"v\": 2}, {\"v\": 0}, {\"v\": 540.0}, {\"v\": 20.76923076923077}, {\"v\": 767}, {\"v\": 159}, {\"v\": 53}, {\"v\": 27}, {\"v\": 2}, {\"v\": 47.0}, {\"v\": 4.0}, {\"v\": 0}, {\"v\": -33769.189869272246}, {\"v\": -1151.3482885368967}, {\"v\": 18533.225073816397}, {\"v\": 6789.145017891535}, {\"v\": -23522.03515773121}, {\"v\": 7287.9830410494815}, {\"v\": -1428.2865100300417}, {\"v\": -1332.1135902923972}, {\"v\": 3062.105263397846}, {\"v\": 822.5335611019855}, {\"v\": 0}, {\"v\": 0}, {\"v\": 0}, {\"v\": 0}, {\"v\": 0}]}, {\"c\": [{\"v\": 32}, {\"v\": \"2016-01-15-49\"}, {\"v\": \"2016-01-15\"}, {\"v\": 49}, {\"v\": 5}, {\"v\": 0}, {\"v\": 56.0}, {\"v\": 18.666666666666668}, {\"v\": 165}, {\"v\": 19}, {\"v\": 8}, {\"v\": 1}, {\"v\": 2}, {\"v\": 151.0}, {\"v\": 4.0}, {\"v\": 0}, {\"v\": -61194.568389101645}, {\"v\": -1660.1976219990602}, {\"v\": -240.65955409524784}, {\"v\": -7812.03838761322}, {\"v\": -314.30945933104056}, {\"v\": 951.8262447256409}, {\"v\": -2217.22041197867}, {\"v\": 271.07585259212425}, {\"v\": 1307.6025657742475}, {\"v\": -446.3634054322516}, {\"v\": 0}, {\"v\": 0}, {\"v\": 0}, {\"v\": 0}, {\"v\": 0}]}, {\"c\": [{\"v\": 50}, {\"v\": \"2016-01-15-91\"}, {\"v\": \"2016-01-15\"}, {\"v\": 91}, {\"v\": 5}, {\"v\": 0}, {\"v\": 55.0}, {\"v\": 55.0}, {\"v\": 184}, {\"v\": 17}, {\"v\": 15}, {\"v\": 0}, {\"v\": 2}, {\"v\": 84.0}, {\"v\": 11.0}, {\"v\": 0}, {\"v\": -61876.0995580792}, {\"v\": -1357.4943704870614}, {\"v\": -2077.2496725224833}, {\"v\": -7257.024191441956}, {\"v\": 794.3603292915484}, {\"v\": 1241.748775534419}, {\"v\": -535.3879102894167}, {\"v\": 2506.1074245615077}, {\"v\": 448.0961837201894}, {\"v\": 280.7195515535912}, {\"v\": 0}, {\"v\": 0}, {\"v\": 0}, {\"v\": 0}, {\"v\": 0}]}, {\"c\": [{\"v\": 59}, {\"v\": \"2016-01-04-75\"}, {\"v\": \"2016-01-04\"}, {\"v\": 75}, {\"v\": 1}, {\"v\": 0}, {\"v\": 29.0}, {\"v\": 9.666666666666666}, {\"v\": 148}, {\"v\": 15}, {\"v\": 4}, {\"v\": 2}, {\"v\": 4}, {\"v\": 219.0}, {\"v\": 12.0}, {\"v\": 1}, {\"v\": -64364.635344067996}, {\"v\": -1598.1751775255598}, {\"v\": -6410.655165648449}, {\"v\": -7173.084619374977}, {\"v\": 2429.5624518000873}, {\"v\": -1025.4069751985178}, {\"v\": 1553.9357559189664}, {\"v\": 1311.010844309015}, {\"v\": 1011.7031532815921}, {\"v\": -51.46143318573841}, {\"v\": 0}, {\"v\": 0}, {\"v\": 0}, {\"v\": 0}, {\"v\": 0}]}, {\"c\": [{\"v\": 14}, {\"v\": \"2016-01-03-38\"}, {\"v\": \"2016-01-03\"}, {\"v\": 38}, {\"v\": 0}, {\"v\": 1}, {\"v\": 222.0}, {\"v\": 31.714285714285715}, {\"v\": 870}, {\"v\": 91}, {\"v\": 34}, {\"v\": 17}, {\"v\": 4}, {\"v\": 145.0}, {\"v\": 9.0}, {\"v\": 4}, {\"v\": 17734.3389758934}, {\"v\": -13841.966209369697}, {\"v\": -28341.67147182252}, {\"v\": 5611.532935324984}, {\"v\": 11650.87057184014}, {\"v\": 2326.9840676221397}, {\"v\": 206.36312239694496}, {\"v\": 4512.206893564415}, {\"v\": 2241.490098146428}, {\"v\": -8619.427634111038}, {\"v\": 1}, {\"v\": 1}, {\"v\": 1}, {\"v\": 1}, {\"v\": 1}]}, {\"c\": [{\"v\": 27}, {\"v\": \"2016-01-15-23\"}, {\"v\": \"2016-01-15\"}, {\"v\": 23}, {\"v\": 5}, {\"v\": 0}, {\"v\": 78.0}, {\"v\": 11.142857142857142}, {\"v\": 715}, {\"v\": 113}, {\"v\": 15}, {\"v\": 18}, {\"v\": 3}, {\"v\": 187.0}, {\"v\": 5.0}, {\"v\": 0}, {\"v\": 15201.831271316769}, {\"v\": 33595.01646245219}, {\"v\": 31369.19150821243}, {\"v\": 11753.101740653468}, {\"v\": -10783.33752984086}, {\"v\": -3147.9428269815107}, {\"v\": 7470.164334456248}, {\"v\": 4919.4841207341515}, {\"v\": 782.652547090078}, {\"v\": -6877.69961475933}, {\"v\": 3}, {\"v\": 3}, {\"v\": 3}, {\"v\": 3}, {\"v\": 3}]}, {\"c\": [{\"v\": 19}, {\"v\": \"2016-01-03-144\"}, {\"v\": \"2016-01-03\"}, {\"v\": 144}, {\"v\": 0}, {\"v\": 1}, {\"v\": 626.0}, {\"v\": 28.454545454545453}, {\"v\": 875}, {\"v\": 81}, {\"v\": 29}, {\"v\": 26}, {\"v\": 2}, {\"v\": 187.0}, {\"v\": 13.0}, {\"v\": 4}, {\"v\": -30607.742242210294}, {\"v\": 3946.777334152007}, {\"v\": 16612.404199587338}, {\"v\": -390.1030565311408}, {\"v\": -10345.942106647737}, {\"v\": 2559.251207386308}, {\"v\": -5740.0101766107155}, {\"v\": -4110.4755423831975}, {\"v\": -286.10008461213437}, {\"v\": -925.376266963528}, {\"v\": 0}, {\"v\": 0}, {\"v\": 0}, {\"v\": 0}, {\"v\": 0}]}, {\"c\": [{\"v\": 24}, {\"v\": \"2016-01-16-102\"}, {\"v\": \"2016-01-16\"}, {\"v\": 102}, {\"v\": 6}, {\"v\": 0}, {\"v\": 2200.5}, {\"v\": 22.45408163265306}, {\"v\": 1045}, {\"v\": 327}, {\"v\": 105}, {\"v\": 78}, {\"v\": 2}, {\"v\": 115.0}, {\"v\": 11.0}, {\"v\": 2}, {\"v\": 19523.24100993228}, {\"v\": 4962.96782650953}, {\"v\": -1374.2495338499116}, {\"v\": 16082.708382071507}, {\"v\": 3468.8973927133134}, {\"v\": 8432.755094709415}, {\"v\": 1453.926541164961}, {\"v\": -3655.4386586649694}, {\"v\": 1804.0300018923638}, {\"v\": 2994.381279975609}, {\"v\": 5}, {\"v\": 5}, {\"v\": 5}, {\"v\": 5}, {\"v\": 5}]}, {\"c\": [{\"v\": 24}, {\"v\": \"2016-01-01-119\"}, {\"v\": \"2016-01-01\"}, {\"v\": 119}, {\"v\": 5}, {\"v\": 0}, {\"v\": 1693.8000000000002}, {\"v\": 19.031460674157305}, {\"v\": 1025}, {\"v\": 369}, {\"v\": 116}, {\"v\": 68}, {\"v\": 2}, {\"v\": 141.0}, {\"v\": 9.0}, {\"v\": 4}, {\"v\": 19523.24100993228}, {\"v\": 4962.96782650953}, {\"v\": -1374.2495338499116}, {\"v\": 16082.708382071507}, {\"v\": 3468.8973927133134}, {\"v\": 8432.755094709415}, {\"v\": 1453.926541164961}, {\"v\": -3655.4386586649694}, {\"v\": 1804.0300018923638}, {\"v\": 2994.381279975609}, {\"v\": 4}, {\"v\": 4}, {\"v\": 4}, {\"v\": 4}, {\"v\": 4}]}, {\"c\": [{\"v\": 27}, {\"v\": \"2016-01-04-51\"}, {\"v\": \"2016-01-04\"}, {\"v\": 51}, {\"v\": 1}, {\"v\": 0}, {\"v\": 1294.0}, {\"v\": 9.048951048951048}, {\"v\": 1405}, {\"v\": 327}, {\"v\": 80}, {\"v\": 32}, {\"v\": 8}, {\"v\": 208.0}, {\"v\": 12.0}, {\"v\": 24}, {\"v\": 15201.831271316769}, {\"v\": 33595.01646245219}, {\"v\": 31369.19150821243}, {\"v\": 11753.101740653468}, {\"v\": -10783.33752984086}, {\"v\": -3147.9428269815107}, {\"v\": 7470.164334456248}, {\"v\": 4919.4841207341515}, {\"v\": 782.652547090078}, {\"v\": -6877.69961475933}, {\"v\": 0}, {\"v\": 0}, {\"v\": 0}, {\"v\": 0}, {\"v\": 0}]}, {\"c\": [{\"v\": 5}, {\"v\": \"2016-01-01-56\"}, {\"v\": \"2016-01-01\"}, {\"v\": 56}, {\"v\": 5}, {\"v\": 0}, {\"v\": 70.0}, {\"v\": 35.0}, {\"v\": 145}, {\"v\": 16}, {\"v\": 6}, {\"v\": 2}, {\"v\": 8}, {\"v\": 178.0}, {\"v\": 3.0}, {\"v\": 1}, {\"v\": -67141.59111360085}, {\"v\": -2070.5848097573657}, {\"v\": -5449.475996527105}, {\"v\": -8630.632604950304}, {\"v\": 2999.479878942455}, {\"v\": -901.8214927199183}, {\"v\": -52.92343228276281}, {\"v\": 1185.2200769270205}, {\"v\": 283.110401504965}, {\"v\": 791.8859966611691}, {\"v\": 0}, {\"v\": 0}, {\"v\": 0}, {\"v\": 0}, {\"v\": 0}]}, {\"c\": [{\"v\": 6}, {\"v\": \"2016-01-14-65\"}, {\"v\": \"2016-01-14\"}, {\"v\": 65}, {\"v\": 4}, {\"v\": 0}, {\"v\": 423.59999999999997}, {\"v\": 28.24}, {\"v\": 336}, {\"v\": 51}, {\"v\": 14}, {\"v\": 14}, {\"v\": 2}, {\"v\": 122.0}, {\"v\": 5.0}, {\"v\": 5}, {\"v\": -58268.25992237927}, {\"v\": -1553.0628330829727}, {\"v\": -3886.8656246193473}, {\"v\": 5876.700769592929}, {\"v\": 7169.477527015734}, {\"v\": -10532.74147173003}, {\"v\": 1005.8326628517453}, {\"v\": 814.8206469619756}, {\"v\": -1816.1356432252346}, {\"v\": 3099.1735895539805}, {\"v\": 4}, {\"v\": 4}, {\"v\": 4}, {\"v\": 4}, {\"v\": 4}]}, {\"c\": [{\"v\": 64}, {\"v\": \"2016-01-14-113\"}, {\"v\": \"2016-01-14\"}, {\"v\": 113}, {\"v\": 4}, {\"v\": 0}, {\"v\": 82.0}, {\"v\": 7.454545454545454}, {\"v\": 498}, {\"v\": 114}, {\"v\": 37}, {\"v\": 33}, {\"v\": 2}, {\"v\": 129.0}, {\"v\": 7.0}, {\"v\": 0}, {\"v\": -37490.79027715142}, {\"v\": 17372.18636730356}, {\"v\": 1128.362111785697}, {\"v\": 926.5660585866817}, {\"v\": -4135.298751049407}, {\"v\": -5936.9099382234235}, {\"v\": 10155.36272180107}, {\"v\": 1946.4203093884096}, {\"v\": -1276.7177433146064}, {\"v\": -649.2607872280148}, {\"v\": 0}, {\"v\": 0}, {\"v\": 0}, {\"v\": 0}, {\"v\": 0}]}, {\"c\": [{\"v\": 35}, {\"v\": \"2016-01-15-130\"}, {\"v\": \"2016-01-15\"}, {\"v\": 130}, {\"v\": 5}, {\"v\": 0}, {\"v\": 688.6000000000001}, {\"v\": 23.744827586206902}, {\"v\": 314}, {\"v\": 20}, {\"v\": 16}, {\"v\": 4}, {\"v\": 0}, {\"v\": NaN}, {\"v\": NaN}, {\"v\": 10}, {\"v\": -62108.40537426752}, {\"v\": -1597.4540409213016}, {\"v\": -2281.3415176206936}, {\"v\": -5367.720469804684}, {\"v\": 131.7044948496004}, {\"v\": 6.323113769207557}, {\"v\": -1158.9103961311603}, {\"v\": 1808.4631016349813}, {\"v\": 9.694361196531876}, {\"v\": 933.5337778022598}, {\"v\": 0}, {\"v\": 0}, {\"v\": 0}, {\"v\": 0}, {\"v\": 0}]}, {\"c\": [{\"v\": 40}, {\"v\": \"2016-01-05-103\"}, {\"v\": \"2016-01-05\"}, {\"v\": 103}, {\"v\": 2}, {\"v\": 0}, {\"v\": 37.0}, {\"v\": 18.5}, {\"v\": 299}, {\"v\": 53}, {\"v\": 18}, {\"v\": 2}, {\"v\": 4}, {\"v\": 40.0}, {\"v\": 8.0}, {\"v\": 0}, {\"v\": -64931.49467540745}, {\"v\": -3401.9619504950874}, {\"v\": -4726.897273478495}, {\"v\": -7591.197201663188}, {\"v\": 1775.6541279919063}, {\"v\": -241.2248511901506}, {\"v\": -1948.922771986791}, {\"v\": 549.5085007553547}, {\"v\": 1107.8009935188818}, {\"v\": 953.1597396209328}, {\"v\": 0}, {\"v\": 0}, {\"v\": 0}, {\"v\": 0}, {\"v\": 0}]}, {\"c\": [{\"v\": 24}, {\"v\": \"2016-01-21-12\"}, {\"v\": \"2016-01-21\"}, {\"v\": 12}, {\"v\": 4}, {\"v\": 0}, {\"v\": 194.0}, {\"v\": 12.933333333333334}, {\"v\": 891}, {\"v\": 105}, {\"v\": 35}, {\"v\": 50}, {\"v\": 0}, {\"v\": NaN}, {\"v\": NaN}, {\"v\": 3}, {\"v\": 19523.24100993228}, {\"v\": 4962.96782650953}, {\"v\": -1374.2495338499116}, {\"v\": 16082.708382071507}, {\"v\": 3468.8973927133134}, {\"v\": 8432.755094709415}, {\"v\": 1453.926541164961}, {\"v\": -3655.4386586649694}, {\"v\": 1804.0300018923638}, {\"v\": 2994.381279975609}, {\"v\": 0}, {\"v\": 0}, {\"v\": 0}, {\"v\": 0}, {\"v\": 0}]}, {\"c\": [{\"v\": 48}, {\"v\": \"2016-01-21-135\"}, {\"v\": \"2016-01-21\"}, {\"v\": 135}, {\"v\": 4}, {\"v\": 0}, {\"v\": 4054.399999999998}, {\"v\": 16.893333333333324}, {\"v\": 2663}, {\"v\": 495}, {\"v\": 116}, {\"v\": 75}, {\"v\": 2}, {\"v\": 53.0}, {\"v\": 1.0}, {\"v\": 71}, {\"v\": 303528.0225495317}, {\"v\": 14673.166854568637}, {\"v\": -108784.56253072582}, {\"v\": -13890.963549820584}, {\"v\": -32547.730086099262}, {\"v\": -2243.1199694081133}, {\"v\": 2666.3170298973546}, {\"v\": -5703.474459306734}, {\"v\": -4761.855349164535}, {\"v\": -1191.1538649926056}, {\"v\": 0}, {\"v\": 0}, {\"v\": 0}, {\"v\": 0}, {\"v\": 0}]}, {\"c\": [{\"v\": 2}, {\"v\": \"2016-01-08-10\"}, {\"v\": \"2016-01-08\"}, {\"v\": 10}, {\"v\": 5}, {\"v\": 0}, {\"v\": 6.0}, {\"v\": 6.0}, {\"v\": 616}, {\"v\": 58}, {\"v\": 11}, {\"v\": 19}, {\"v\": 2}, {\"v\": 162.0}, {\"v\": 5.0}, {\"v\": 0}, {\"v\": -13085.781553322005}, {\"v\": 33883.06754336779}, {\"v\": 17593.003994202918}, {\"v\": 6360.294249119616}, {\"v\": -1329.9018092597025}, {\"v\": -5838.495932526977}, {\"v\": 13958.607697046706}, {\"v\": -5913.707110504817}, {\"v\": -657.3958830521748}, {\"v\": 581.6977826432997}, {\"v\": 0}, {\"v\": 0}, {\"v\": 0}, {\"v\": 0}, {\"v\": 0}]}, {\"c\": [{\"v\": 61}, {\"v\": \"2016-01-19-61\"}, {\"v\": \"2016-01-19\"}, {\"v\": 61}, {\"v\": 2}, {\"v\": 0}, {\"v\": 57.0}, {\"v\": 19.0}, {\"v\": 131}, {\"v\": 66}, {\"v\": 15}, {\"v\": 2}, {\"v\": 2}, {\"v\": 160.0}, {\"v\": 3.0}, {\"v\": 0}, {\"v\": -57522.65389547758}, {\"v\": 5687.887052085828}, {\"v\": -1342.725361909802}, {\"v\": -5245.153553357035}, {\"v\": 1567.6856081897292}, {\"v\": 56.14973103647431}, {\"v\": 1986.3367863023009}, {\"v\": 3289.876178964265}, {\"v\": -520.5846154276641}, {\"v\": 557.6579463923554}, {\"v\": 0}, {\"v\": 0}, {\"v\": 0}, {\"v\": 0}, {\"v\": 0}]}], \"cols\": [{\"type\": \"number\", \"id\": \"district_id\", \"label\": \"district_id\"}, {\"type\": \"string\", \"id\": \"timeslot\", \"label\": \"timeslot\"}, {\"type\": \"string\", \"id\": \"date\", \"label\": \"date\"}, {\"type\": \"number\", \"id\": \"timeofday_slot\", \"label\": \"timeofday_slot\"}, {\"type\": \"number\", \"id\": \"day_in_week\", \"label\": \"day_in_week\"}, {\"type\": \"number\", \"id\": \"is_sunday\", \"label\": \"is_sunday\"}, {\"type\": \"number\", \"id\": \"sum_price\", \"label\": \"sum_price\"}, {\"type\": \"number\", \"id\": \"avg_price\", \"label\": \"avg_price\"}, {\"type\": \"number\", \"id\": \"traffic_tj_level1\", \"label\": \"traffic_tj_level1\"}, {\"type\": \"number\", \"id\": \"traffic_tj_level2\", \"label\": \"traffic_tj_level2\"}, {\"type\": \"number\", \"id\": \"traffic_tj_level3\", \"label\": \"traffic_tj_level3\"}, {\"type\": \"number\", \"id\": \"traffic_tj_level4\", \"label\": \"traffic_tj_level4\"}, {\"type\": \"number\", \"id\": \"weather\", \"label\": \"weather\"}, {\"type\": \"number\", \"id\": \"weather_pm25\", \"label\": \"weather_pm25\"}, {\"type\": \"number\", \"id\": \"weather_temperature\", \"label\": \"weather_temperature\"}, {\"type\": \"number\", \"id\": \"gap\", \"label\": \"gap\"}, {\"type\": \"number\", \"id\": \"poi1\", \"label\": \"poi1\"}, {\"type\": \"number\", \"id\": \"poi2\", \"label\": \"poi2\"}, {\"type\": \"number\", \"id\": \"poi3\", \"label\": \"poi3\"}, {\"type\": \"number\", \"id\": \"poi4\", \"label\": \"poi4\"}, {\"type\": \"number\", \"id\": \"poi5\", \"label\": \"poi5\"}, {\"type\": \"number\", \"id\": \"poi6\", \"label\": \"poi6\"}, {\"type\": \"number\", \"id\": \"poi7\", \"label\": \"poi7\"}, {\"type\": \"number\", \"id\": \"poi8\", \"label\": \"poi8\"}, {\"type\": \"number\", \"id\": \"poi9\", \"label\": \"poi9\"}, {\"type\": \"number\", \"id\": \"poi10\", \"label\": \"poi10\"}, {\"type\": \"number\", \"id\": \"previous_gap1\", \"label\": \"previous_gap1\"}, {\"type\": \"number\", \"id\": \"previous_gap2\", \"label\": \"previous_gap2\"}, {\"type\": \"number\", \"id\": \"previous_gap3\", \"label\": \"previous_gap3\"}, {\"type\": \"number\", \"id\": \"previous_gap4\", \"label\": \"previous_gap4\"}, {\"type\": \"number\", \"id\": \"previous_gap5\", \"label\": \"previous_gap5\"}]});\n",
       "        }\n",
       "      );\n",
       "    </script>\n",
       "  "
      ],
      "text/plain": [
       "Table datalab-projects-1331:xjk_algo_comp.future_gaps_final2"
      ]
     },
     "execution_count": 13,
     "metadata": {},
     "output_type": "execute_result"
    }
   ],
   "source": [
    "schema = bq.Schema([\n",
    "    {'name': 'district_id', 'type': 'INTEGER'},\n",
    "    {'name': 'timeslot', 'type': 'STRING'},\n",
    "    {'name': 'date', 'type': 'STRING'},\n",
    "    {'name': 'timeofday_slot', 'type': 'INTEGER'},\n",
    "    {'name': 'day_in_week', 'type': 'INTEGER'},\n",
    "    {'name': 'is_sunday', 'type': 'INTEGER'},\n",
    "    {'name': 'sum_price', 'type': 'FLOAT'},\n",
    "    {'name': 'avg_price', 'type': 'FLOAT'},\n",
    "    {'name': 'traffic_tj_level1', 'type': 'INTEGER'},\n",
    "    {'name': 'traffic_tj_level2', 'type': 'INTEGER'},\n",
    "    {'name': 'traffic_tj_level3', 'type': 'INTEGER'},\n",
    "    {'name': 'traffic_tj_level4', 'type': 'INTEGER'},\n",
    "    {'name': 'weather', 'type': 'INTEGER'},\n",
    "    {'name': 'weather_pm25', 'type': 'FLOAT'},\n",
    "    {'name': 'weather_temperature', 'type': 'FLOAT'},\n",
    "    {'name': 'gap', 'type': 'INTEGER'}\n",
    "] + poi_schema + prev_gap_schema)\n",
    "table = bq.Table('datalab-projects-1331:xjk_algo_comp.future_gaps_final2')\n",
    "if table.exists():\n",
    "  table.delete()\n",
    "table.create(schema)\n",
    "table.insert_data(all_data)"
   ]
  },
  {
   "cell_type": "code",
   "execution_count": null,
   "metadata": {
    "collapsed": true
   },
   "outputs": [],
   "source": []
  }
 ],
 "metadata": {
  "kernelspec": {
   "display_name": "Python 2",
   "language": "python",
   "name": "python2"
  },
  "language_info": {
   "codemirror_mode": {
    "name": "ipython",
    "version": 2
   },
   "file_extension": ".py",
   "mimetype": "text/x-python",
   "name": "python",
   "nbconvert_exporter": "python",
   "pygments_lexer": "ipython2",
   "version": "2.7.9"
  }
 },
 "nbformat": 4,
 "nbformat_minor": 0
}
