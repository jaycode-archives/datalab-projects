{
 "cells": [
  {
   "cell_type": "code",
   "execution_count": 7,
   "metadata": {
    "collapsed": false
   },
   "outputs": [],
   "source": [
    "from sklearn.decomposition import PCA\n",
    "import pandas as pd\n",
    "import gcp.bigquery as bq\n",
    "import numpy as np\n",
    "from datetime import date\n",
    "from datetime import timedelta\n",
    "\n",
    "import pdb\n",
    "\n",
    "poi_n_range = 10\n",
    "poi_schema = []\n",
    "for i in range(poi_n_range):\n",
    "  poi_n = i+1\n",
    "  poi_schema.append({'name': 'poi{}'.format(poi_n), 'type': 'FLOAT'})\n",
    "  \n",
    "prev_n_range = 5\n",
    "prev_gap_schema = []\n",
    "for i in range(prev_n_range):\n",
    "  prev_n = i+1\n",
    "  prev_gap_schema.append({'name': 'previous_gap{}'.format(prev_n), 'type': 'INTEGER'})"
   ]
  },
  {
   "cell_type": "markdown",
   "metadata": {},
   "source": [
    "# Gaps Table\n",
    "First, make a simple **gaps** table, then fill it with data from other tables."
   ]
  },
  {
   "cell_type": "code",
   "execution_count": null,
   "metadata": {
    "collapsed": true
   },
   "outputs": [],
   "source": [
    "%%bigquery udf -m orders_create_additional_fields\n",
    "/**\n",
    " * Pad with 0 or given string.\n",
    " *\n",
    " * @param int n Number to add padding to.\n",
    " * @param int width Width of number + padding.\n",
    " * @param string z (Optional) Other string to replace '0' as padding.\n",
    " */\n",
    "function pad(n, width, z) {\n",
    "  z = z || '0';\n",
    "  n = n + '';\n",
    "  return n.length >= width ? n : new Array(width - n.length + 1).join(z) + n;\n",
    "}\n",
    "\n",
    "/**\n",
    " * Create additional fields on orders table for gaps table creation.\n",
    " *\n",
    " * @param {{order_id: string, driver_id: string, passenger_id: string,\n",
    "            start_district_hash: string, dest_district_hash: string, price: float,\n",
    "            time: string}} r\n",
    " * @param function({{order_id: string, driver_id: string, passenger_id: string,\n",
    "                     start_district_hash: string, dest_district_hash: string, price: float,\n",
    "                     time: string, timeslot: string, timeofday_slot: integer, day_in_week: integer,\n",
    "                     date: string}}) emitFn\n",
    " */\n",
    "function(r, emitFn) {\n",
    "  var t = r.time.split(/[ :\\-]/);\n",
    "  var slot = Math.floor((parseInt(t[3]) * 60 + parseInt(t[4])) / 10) + 1;\n",
    "  r.timeslot = t[0] + '-' + pad(t[1], 2) +\n",
    "               '-' + pad(t[2], 2) + '-' + slot;\n",
    "  r.timeofday_slot = slot;\n",
    "  r.date = t[0] + '-' + pad(t[1], 2) + '-' + pad(t[2], 2);\n",
    "  r.day_in_week = new Date(parseInt(t[0]), parseInt(t[1])-1, parseInt(t[2])).getDay();\n",
    "  emitFn(r);\n",
    "}"
   ]
  },
  {
   "cell_type": "code",
   "execution_count": null,
   "metadata": {
    "collapsed": false
   },
   "outputs": [],
   "source": [
    "%%bigquery execute -t datalab-projects-1331:xjk_algo_comp.gaps -m create\n",
    "SELECT district_id, FIRST(orders.timeslot) AS timeslot, FIRST(orders.date) AS date,\n",
    "  FIRST(day_in_week) AS day_in_week, FIRST(timeofday_slot) AS timeofday_slot,\n",
    "  SUM(price) AS sum_price, AVG(price) AS avg_price,\n",
    "  SUM(IF(driver_id = 'NULL', 1, 0)) AS gap\n",
    "FROM orders_create_additional_fields([datalab-projects-1331:xjk_algo_comp.orders]) AS orders\n",
    "JOIN [datalab-projects-1331:xjk_algo_comp.districts] AS districts \n",
    "  ON orders.start_district_hash = districts.district_hash\n",
    "GROUP BY district_id, orders.timeslot"
   ]
  },
  {
   "cell_type": "code",
   "execution_count": null,
   "metadata": {
    "collapsed": true
   },
   "outputs": [],
   "source": [
    "%% sql -q tester\n",
    "SELECT SUM(price) FROM datalab-projects-1331:xjk_algo_comp.orders\n",
    "WHERE start_district_hash = 'd4ec2125aff74eded207d2d915ef682f'\n",
    "  AND (time LIKE \"%2016-01-01 00:5%\")\n",
    "  \n",
    "# Reference only. Use above query to check if aggregation was correct, by comparing the\n",
    "# result of that from sum of district_hash = 51 and timeslot \"2016-01-01-6\", which \n",
    "# should be 126498.0."
   ]
  },
  {
   "cell_type": "markdown",
   "metadata": {},
   "source": [
    "# +1 timeslot\n",
    "We are going to use past data to predict the gaps for the next 10 minutes (or in other words, the next timeslot). To do this, we need to update timeslot related information. Specifically we are going to do the following:\n",
    "1. Add `timeslot` feature by one:\n",
    "  - '2016-01-45' to '2016-01-46'\n",
    "  - '2016-01-144' to '2016-02-1'\n",
    "2. Update `date` and `slot` features accordingly.\n",
    "3. Recalculate `day_in_week` feature."
   ]
  },
  {
   "cell_type": "code",
   "execution_count": null,
   "metadata": {
    "collapsed": false
   },
   "outputs": [],
   "source": [
    "%%bigquery udf --module gaps_plus_one_timeslot\n",
    "  \n",
    "// Use this when testing\n",
    "// %%javascript\n",
    "\n",
    "/**\n",
    " * Pad with 0 or given string.\n",
    " *\n",
    " * @param int n Number to add padding to.\n",
    " * @param int width Width of number + padding.\n",
    " * @param string z (Optional) Other string to replace '0' as padding.\n",
    " */\n",
    "function pad(n, width, z) {\n",
    "  z = z || '0';\n",
    "  n = n + '';\n",
    "  return n.length >= width ? n : new Array(width - n.length + 1).join(z) + n;\n",
    "}\n",
    "\n",
    "/**\n",
    " * Add one timeslot and adjust other relevant tables.\n",
    " *\n",
    " * @param {{district_id: integer, timeslot: string, date: string, day_in_week: integer,\n",
    "            timeofday_slot: integer, sum_price: float, avg_price: float, gap: integer}} r\n",
    " * @param function({{district_id: integer, timeslot: string, date: string, day_in_week: integer,\n",
    "                timeofday_slot: integer, sum_price: float, avg_price: float, gap: integer,\n",
    "                timeslot_original: string}}) emitFn\n",
    " */\n",
    "function(r, emitFn) {\n",
    "  \n",
    "  var t = r.timeslot.split(/-/);\n",
    "  var oldslot = parseInt(t[3]);\n",
    "  var newslot = oldslot + 1;\n",
    "  var d = new Date(parseInt(t[0]), parseInt(t[1])-1, parseInt(t[2]));\n",
    "  if (oldslot == 144) {\n",
    "    newslot = 1;\n",
    "    d = new Date(d.setDate(d.getDate() + 1));\n",
    "    r.day_in_week = d.getDay();\n",
    "    r.date = d.getFullYear() + '-' + pad(d.getMonth()+1, 2) +\n",
    "             '-' + pad(d.getDate(), 2);\n",
    "  }\n",
    "  \n",
    "  r.timeslot_original = r.timeslot;\n",
    "\n",
    "  r.timeslot = d.getFullYear() + '-' + pad(d.getMonth()+1, 2) +\n",
    "               '-' + pad(d.getDate(), 2) + '-' + newslot;\n",
    "\n",
    "  r.timeofday_slot = newslot;\n",
    "  emitFn(r);\n",
    "}\n",
    "\n",
    "// For testing (without `new Date()` after date added by 1 setDate returns milliseconds)\n",
    "\n",
    "// var test_row = {\n",
    "//   district_id: 1,\n",
    "//   timeslot: '2016-01-22-144',\n",
    "//   date: '2016-01-22',\n",
    "//   day_in_week: 5,\n",
    "//   timeofday_slot: 144,\n",
    "//   sum_price: 0.0,\n",
    "//   avg_price: 0.0,\n",
    "//   gap: 11,\n",
    "// };\n",
    "\n",
    "// function emitter(r) {\n",
    "//   for (var p in r) {\n",
    "//     element.append(p + '=' + r[p] + '<br>');\n",
    "//   }\n",
    "// }\n",
    "\n",
    "// udf(test_row, emitter);"
   ]
  },
  {
   "cell_type": "code",
   "execution_count": null,
   "metadata": {
    "collapsed": false
   },
   "outputs": [],
   "source": [
    "%%bigquery execute -t datalab-projects-1331:xjk_algo_comp.future_gaps -m create\n",
    "\n",
    "SELECT district_id, timeslot, date, day_in_week, timeofday_slot, sum_price, avg_price, gap,\n",
    "  timeslot_original\n",
    "FROM gaps_plus_one_timeslot([datalab-projects-1331:xjk_algo_comp.gaps])"
   ]
  },
  {
   "cell_type": "markdown",
   "metadata": {},
   "source": [
    "# Gaps Table + Other Tables"
   ]
  },
  {
   "cell_type": "code",
   "execution_count": null,
   "metadata": {
    "collapsed": false
   },
   "outputs": [],
   "source": [
    "%%bigquery execute -t datalab-projects-1331:xjk_algo_comp.future_gaps_processed -m create\n",
    "\n",
    "SELECT FIRST(gaps.district_id) AS district_id, FIRST(gaps.timeslot) AS timeslot, FIRST(gaps.date) AS date,\n",
    "  FIRST(gaps.day_in_week) AS day_in_week, IF(FIRST(gaps.day_in_week) = 0, 1, 0) AS is_sunday,\n",
    "  FIRST(gaps.timeofday_slot) AS timeofday_slot,\n",
    "  FIRST(gaps.sum_price) AS sum_price, FIRST(gaps.avg_price) AS avg_price, FIRST(gaps.gap) AS gap,\n",
    "  FIRST(pois.f1) AS f1, FIRST(pois.f11) AS f11, FIRST(pois.f11_1) AS f11_1, \n",
    "  FIRST(pois.f11_2) AS f11_2, FIRST(pois.f11_3) AS f11_3, FIRST(pois.f11_4) AS f11_4, \n",
    "  FIRST(pois.f11_5) AS f11_5, FIRST(pois.f11_6) AS f11_6, FIRST(pois.f11_7) AS f11_7, \n",
    "  FIRST(pois.f11_8) AS f11_8, FIRST(pois.f13_4) AS f13_4, FIRST(pois.f13_8) AS f13_8, \n",
    "  FIRST(pois.f14) AS f14, FIRST(pois.f14_1) AS f14_1, FIRST(pois.f14_10) AS f14_10, \n",
    "  FIRST(pois.f14_2) AS f14_2, FIRST(pois.f14_3) AS f14_3, FIRST(pois.f14_6) AS f14_6, \n",
    "  FIRST(pois.f14_8) AS f14_8, FIRST(pois.f15) AS f15, FIRST(pois.f15_1) AS f15_1, \n",
    "  FIRST(pois.f15_2) AS f15_2, FIRST(pois.f15_3) AS f15_3, FIRST(pois.f15_4) AS f15_4, \n",
    "  FIRST(pois.f15_6) AS f15_6, FIRST(pois.f15_7) AS f15_7, FIRST(pois.f15_8) AS f15_8, \n",
    "  FIRST(pois.f16) AS f16, FIRST(pois.f16_1) AS f16_1, FIRST(pois.f16_10) AS f16_10, \n",
    "  FIRST(pois.f16_11) AS f16_11, FIRST(pois.f16_12) AS f16_12, FIRST(pois.f16_3) AS f16_3, \n",
    "  FIRST(pois.f16_4) AS f16_4, FIRST(pois.f16_6) AS f16_6, FIRST(pois.f17) AS f17, \n",
    "  FIRST(pois.f17_2) AS f17_2, FIRST(pois.f17_3) AS f17_3, FIRST(pois.f17_4) AS f17_4, \n",
    "  FIRST(pois.f17_5) AS f17_5, FIRST(pois.f19) AS f19, FIRST(pois.f19_1) AS f19_1, \n",
    "  FIRST(pois.f19_2) AS f19_2, FIRST(pois.f19_3) AS f19_3, FIRST(pois.f19_4) AS f19_4, \n",
    "  FIRST(pois.f1_1) AS f1_1, FIRST(pois.f1_10) AS f1_10, FIRST(pois.f1_11) AS f1_11, \n",
    "  FIRST(pois.f1_2) AS f1_2, FIRST(pois.f1_3) AS f1_3, FIRST(pois.f1_4) AS f1_4, \n",
    "  FIRST(pois.f1_5) AS f1_5, FIRST(pois.f1_6) AS f1_6, FIRST(pois.f1_7) AS f1_7, \n",
    "  FIRST(pois.f1_8) AS f1_8, FIRST(pois.f20) AS f20, FIRST(pois.f20_1) AS f20_1, \n",
    "  FIRST(pois.f20_2) AS f20_2, FIRST(pois.f20_4) AS f20_4, FIRST(pois.f20_5) AS f20_5, \n",
    "  FIRST(pois.f20_6) AS f20_6, FIRST(pois.f20_7) AS f20_7, FIRST(pois.f20_8) AS f20_8, \n",
    "  FIRST(pois.f20_9) AS f20_9, FIRST(pois.f21_1) AS f21_1, FIRST(pois.f21_2) AS f21_2, \n",
    "  FIRST(pois.f22) AS f22, FIRST(pois.f22_1) AS f22_1, FIRST(pois.f22_2) AS f22_2, \n",
    "  FIRST(pois.f22_3) AS f22_3, FIRST(pois.f22_4) AS f22_4, FIRST(pois.f22_5) AS f22_5, \n",
    "  FIRST(pois.f23) AS f23, FIRST(pois.f23_1) AS f23_1, FIRST(pois.f23_2) AS f23_2, \n",
    "  FIRST(pois.f23_3) AS f23_3, FIRST(pois.f23_4) AS f23_4, FIRST(pois.f23_5) AS f23_5, \n",
    "  FIRST(pois.f23_6) AS f23_6, FIRST(pois.f24) AS f24, FIRST(pois.f24_1) AS f24_1, \n",
    "  FIRST(pois.f24_2) AS f24_2, FIRST(pois.f24_3) AS f24_3, FIRST(pois.f25) AS f25, \n",
    "  FIRST(pois.f25_1) AS f25_1, FIRST(pois.f25_3) AS f25_3, FIRST(pois.f25_7) AS f25_7, \n",
    "  FIRST(pois.f25_8) AS f25_8, FIRST(pois.f25_9) AS f25_9, FIRST(pois.f2_1) AS f2_1, \n",
    "  FIRST(pois.f2_10) AS f2_10, FIRST(pois.f2_11) AS f2_11, FIRST(pois.f2_12) AS f2_12, \n",
    "  FIRST(pois.f2_13) AS f2_13, FIRST(pois.f2_2) AS f2_2, FIRST(pois.f2_4) AS f2_4, \n",
    "  FIRST(pois.f2_5) AS f2_5, FIRST(pois.f2_6) AS f2_6, FIRST(pois.f2_7) AS f2_7, \n",
    "  FIRST(pois.f2_8) AS f2_8, FIRST(pois.f3_1) AS f3_1, FIRST(pois.f3_2) AS f3_2, \n",
    "  FIRST(pois.f3_3) AS f3_3, FIRST(pois.f4) AS f4, FIRST(pois.f4_1) AS f4_1, \n",
    "  FIRST(pois.f4_10) AS f4_10, FIRST(pois.f4_11) AS f4_11, FIRST(pois.f4_13) AS f4_13, \n",
    "  FIRST(pois.f4_14) AS f4_14, FIRST(pois.f4_16) AS f4_16, FIRST(pois.f4_17) AS f4_17, \n",
    "  FIRST(pois.f4_18) AS f4_18, FIRST(pois.f4_2) AS f4_2, FIRST(pois.f4_3) AS f4_3, \n",
    "  FIRST(pois.f4_5) AS f4_5, FIRST(pois.f4_6) AS f4_6, FIRST(pois.f4_7) AS f4_7, \n",
    "  FIRST(pois.f4_8) AS f4_8, FIRST(pois.f4_9) AS f4_9, FIRST(pois.f5) AS f5, \n",
    "  FIRST(pois.f5_1) AS f5_1, FIRST(pois.f5_3) AS f5_3, FIRST(pois.f5_4) AS f5_4, \n",
    "  FIRST(pois.f6) AS f6, FIRST(pois.f6_1) AS f6_1, FIRST(pois.f6_2) AS f6_2, \n",
    "  FIRST(pois.f6_4) AS f6_4, FIRST(pois.f7) AS f7, FIRST(pois.f8) AS f8, \n",
    "  FIRST(pois.f8_1) AS f8_1, FIRST(pois.f8_2) AS f8_2, FIRST(pois.f8_3) AS f8_3, \n",
    "  FIRST(pois.f8_4) AS f8_4, FIRST(pois.f8_5) AS f8_5,\n",
    "  FIRST(weather.weather) AS weather,\n",
    "  FIRST(weather.temperature) AS weather_temperature, FIRST(weather.pm25) AS weather_pm25,\n",
    "  FIRST(traffic.tj_level1) AS traffic_tj_level1, FIRST(traffic.tj_level2) AS traffic_tj_level2,\n",
    "  FIRST(traffic.tj_level3) AS traffic_tj_level3, FIRST(traffic.tj_level4) AS traffic_tj_level4\n",
    "FROM [datalab-projects-1331:xjk_algo_comp.future_gaps] as gaps\n",
    "LEFT JOIN [datalab-projects-1331:xjk_algo_comp.districts] as districts\n",
    "  ON districts.district_id = gaps.district_id\n",
    "LEFT JOIN [datalab-projects-1331:xjk_algo_comp.pois] as pois\n",
    "  ON pois.district_hash = districts.district_hash\n",
    "LEFT JOIN [datalab-projects-1331:xjk_algo_comp.weather] as weather\n",
    "  ON weather.timeslot = gaps.timeslot\n",
    "LEFT JOIN [datalab-projects-1331:xjk_algo_comp.traffic] as traffic\n",
    "  ON traffic.timeslot = gaps.timeslot\n",
    "  AND traffic.district_hash = districts.district_hash\n",
    "GROUP BY gaps.district_id, gaps.timeslot"
   ]
  },
  {
   "cell_type": "markdown",
   "metadata": {},
   "source": [
    "# PCA\n",
    "Combine POIs (features starting with 'f...') into n number of features."
   ]
  },
  {
   "cell_type": "code",
   "execution_count": null,
   "metadata": {
    "collapsed": false
   },
   "outputs": [],
   "source": [
    "pois = \"\"\"\n",
    "f1\tf11\tf11_1\tf11_2\tf11_3\tf11_4\tf11_5\tf11_6\tf11_7\tf11_8\tf13_4\tf13_8\t\n",
    "f14\tf14_1\tf14_10\tf14_2\tf14_3\tf14_6\tf14_8\tf15\tf15_1\tf15_2\tf15_3\tf15_4\t\n",
    "f15_6\tf15_7\tf15_8\tf16\tf16_1\tf16_10\tf16_11\tf16_12\tf16_3\tf16_4\tf16_6\tf17\t\n",
    "f17_2\tf17_3\tf17_4\tf17_5\tf19\tf19_1\tf19_2\tf19_3\tf19_4\tf1_1\tf1_10\tf1_11\t\n",
    "f1_2\tf1_3\tf1_4\tf1_5\tf1_6\tf1_7\tf1_8\tf20\tf20_1\tf20_2\tf20_4\tf20_5\t\n",
    "f20_6\tf20_7\tf20_8\tf20_9\tf21_1\tf21_2\tf22\tf22_1\tf22_2\tf22_3\tf22_4\tf22_5\t\n",
    "f23\tf23_1\tf23_2\tf23_3\tf23_4\tf23_5\tf23_6\tf24\tf24_1\tf24_2\tf24_3\tf25\tf25_1\t\n",
    "f25_3\tf25_7\tf25_8\tf25_9\tf2_1\tf2_10\tf2_11\tf2_12\tf2_13\tf2_2\tf2_4\tf2_5\t\n",
    "f2_6\tf2_7\tf2_8\tf3_1\tf3_2\tf3_3\tf4\tf4_1\tf4_10\tf4_11\tf4_13\tf4_14\t\n",
    "f4_16\tf4_17\tf4_18\tf4_2\tf4_3\tf4_5\tf4_6\tf4_7\tf4_8\tf4_9\tf5\tf5_1\t\n",
    "f5_3\tf5_4\tf6\tf6_1\tf6_2\tf6_4\tf7\tf8\tf8_1\tf8_2\tf8_3\tf8_4\tf8_5\n",
    "\"\"\"\n",
    "pois = map(lambda x: \"{}\".format(x.strip()), pois.split('\\t'))\n",
    "print(pois)"
   ]
  },
  {
   "cell_type": "code",
   "execution_count": 2,
   "metadata": {
    "collapsed": true
   },
   "outputs": [],
   "source": [
    "%%sql --module q\n",
    "SELECT * FROM [datalab-projects-1331:xjk_algo_comp.future_gaps_processed]"
   ]
  },
  {
   "cell_type": "code",
   "execution_count": 3,
   "metadata": {
    "collapsed": false
   },
   "outputs": [
    {
     "name": "stdout",
     "output_type": "stream",
     "text": [
      "there are 163491 rows\n",
      "processed 0 rows\n",
      "processed 5000 rows\n",
      "processed 10000 rows\n",
      "processed 15000 rows\n",
      "processed 20000 rows\n",
      "processed 25000 rows\n",
      "processed 30000 rows\n",
      "processed 35000 rows\n",
      "processed 40000 rows\n",
      "processed 45000 rows\n",
      "processed 50000 rows\n",
      "processed 55000 rows\n",
      "processed 60000 rows\n",
      "processed 65000 rows\n",
      "processed 70000 rows\n",
      "processed 75000 rows\n",
      "processed 80000 rows\n",
      "processed 85000 rows\n",
      "processed 90000 rows\n",
      "processed 95000 rows\n",
      "processed 100000 rows\n",
      "processed 105000 rows\n",
      "processed 110000 rows\n",
      "processed 115000 rows\n",
      "processed 120000 rows\n",
      "processed 125000 rows\n",
      "processed 130000 rows\n",
      "processed 135000 rows\n",
      "processed 140000 rows\n",
      "processed 145000 rows\n",
      "processed 150000 rows\n",
      "processed 155000 rows\n",
      "processed 160000 rows\n"
     ]
    }
   ],
   "source": [
    "query = bq.Query(q)\n",
    "tableresult = query.results()\n",
    "\n",
    "poi_fields = ['f1', 'f11', 'f11_1', 'f11_2', 'f11_3', 'f11_4', 'f11_5', 'f11_6', 'f11_7', 'f11_8',\n",
    "              'f13_4', 'f13_8', 'f14', 'f14_1', 'f14_10', 'f14_2', 'f14_3', 'f14_6', 'f14_8', 'f15',\n",
    "              'f15_1', 'f15_2', 'f15_3', 'f15_4', 'f15_6', 'f15_7', 'f15_8', 'f16', 'f16_1', 'f16_10',\n",
    "              'f16_11', 'f16_12', 'f16_3', 'f16_4', 'f16_6', 'f17', 'f17_2', 'f17_3', 'f17_4', 'f17_5',\n",
    "              'f19', 'f19_1', 'f19_2', 'f19_3', 'f19_4', 'f1_1', 'f1_10', 'f1_11', 'f1_2', 'f1_3', 'f1_4',\n",
    "              'f1_5', 'f1_6', 'f1_7', 'f1_8', 'f20', 'f20_1', 'f20_2', 'f20_4', 'f20_5', 'f20_6', 'f20_7',\n",
    "              'f20_8', 'f20_9', 'f21_1', 'f21_2', 'f22', 'f22_1', 'f22_2', 'f22_3', 'f22_4', 'f22_5',\n",
    "              'f23', 'f23_1', 'f23_2', 'f23_3', 'f23_4', 'f23_5', 'f23_6', 'f24', 'f24_1', 'f24_2',\n",
    "              'f24_3', 'f25', 'f25_1', 'f25_3', 'f25_7', 'f25_8', 'f25_9', 'f2_1', 'f2_10', 'f2_11',\n",
    "              'f2_12', 'f2_13', 'f2_2', 'f2_4', 'f2_5', 'f2_6', 'f2_7', 'f2_8', 'f3_1', 'f3_2', 'f3_3',\n",
    "              'f4', 'f4_1', 'f4_10', 'f4_11', 'f4_13', 'f4_14', 'f4_16', 'f4_17', 'f4_18', 'f4_2',\n",
    "              'f4_3', 'f4_5', 'f4_6', 'f4_7', 'f4_8', 'f4_9', 'f5', 'f5_1', 'f5_3', 'f5_4', 'f6', 'f6_1',\n",
    "              'f6_2', 'f6_4', 'f7', 'f8', 'f8_1', 'f8_2', 'f8_3', 'f8_4', 'f8_5']\n",
    "all_fields = tableresult[0].keys()\n",
    "all_data = []\n",
    "pois_data = np.zeros((tableresult.length, len(poi_fields)))\n",
    "print 'there are {} rows'.format(tableresult.length)\n",
    "for rcounter, row in enumerate(tableresult):\n",
    "  for fcounter, field in enumerate(poi_fields):\n",
    "    pois_data[rcounter, fcounter] = row.pop(field, None)\n",
    "  all_data.append(row)\n",
    "  if rcounter % 5000 == 0:\n",
    "    print 'processed {} rows'.format(rcounter)"
   ]
  },
  {
   "cell_type": "code",
   "execution_count": 4,
   "metadata": {
    "collapsed": false
   },
   "outputs": [],
   "source": [
    "pca = PCA(n_components=poi_n_range)\n",
    "pois_data_s = pca.fit_transform(pois_data)"
   ]
  },
  {
   "cell_type": "code",
   "execution_count": 5,
   "metadata": {
    "collapsed": false
   },
   "outputs": [],
   "source": [
    "for rcounter, row in enumerate(all_data):\n",
    "  for index in range(pois_data_s.shape[1]):\n",
    "    all_data[rcounter]['poi{}'.format(index+1)] = pois_data_s[rcounter, index]"
   ]
  },
  {
   "cell_type": "code",
   "execution_count": 8,
   "metadata": {
    "collapsed": false
   },
   "outputs": [
    {
     "data": {
      "text/html": [
       "\n",
       "    <div class=\"bqtv\" id=\"1_146579562403\"><table><tr><th>district_id</th><th>timeslot</th><th>date</th><th>timeofday_slot</th><th>day_in_week</th><th>is_sunday</th><th>sum_price</th><th>avg_price</th><th>traffic_tj_level1</th><th>traffic_tj_level2</th><th>traffic_tj_level3</th><th>traffic_tj_level4</th><th>weather</th><th>weather_pm25</th><th>weather_temperature</th><th>gap</th><th>poi1</th><th>poi2</th><th>poi3</th><th>poi4</th><th>poi5</th><th>poi6</th><th>poi7</th><th>poi8</th><th>poi9</th><th>poi10</th></tr><tr><td>36</td><td>2016-01-03-140</td><td>2016-01-03</td><td>140</td><td>0</td><td>1</td><td>209.0</td><td>20.9</td><td>268</td><td>28</td><td>14</td><td>16</td><td>2</td><td>192.0</td><td>14.0</td><td>1</td><td>-64632.8615604</td><td>-2037.09623213</td><td>-5723.93033099</td><td>-5377.36772339</td><td>3747.84066913</td><td>-5267.39236136</td><td>-1423.36052111</td><td>2624.75365557</td><td>694.524711648</td><td>1524.14476581</td></tr><tr><td>1</td><td>2016-01-02-140</td><td>2016-01-02</td><td>140</td><td>6</td><td>0</td><td>1138.0</td><td>12.7865168539</td><td>1411</td><td>243</td><td>79</td><td>78</td><td>4</td><td>146.0</td><td>10.0</td><td>1</td><td>48245.8900598</td><td>-341.806380342</td><td>8231.71262987</td><td>29193.6731936</td><td>4288.37478157</td><td>-28909.2613655</td><td>-4401.50679455</td><td>-5676.78441475</td><td>-8417.26375319</td><td>-435.32474746</td></tr><tr><td>39</td><td>2016-01-05-114</td><td>2016-01-05</td><td>114</td><td>2</td><td>0</td><td>614.0</td><td>102.333333333</td><td>118</td><td>27</td><td>8</td><td>2</td><td>4</td><td>44.0</td><td>8.0</td><td>1</td><td>-59555.2167128</td><td>7363.13006907</td><td>-2115.23884511</td><td>-7184.86910524</td><td>3614.32759192</td><td>2073.19037788</td><td>1290.74676875</td><td>2132.79229794</td><td>-415.938454866</td><td>2694.51223127</td></tr><tr><td>7</td><td>2016-01-08-100</td><td>2016-01-08</td><td>100</td><td>5</td><td>0</td><td>4484.6</td><td>20.762037037</td><td>1832</td><td>619</td><td>175</td><td>103</td><td>3</td><td>114.0</td><td>6.0</td><td>27</td><td>194502.176825</td><td>-118529.111417</td><td>41855.6026355</td><td>-25162.9509794</td><td>-6096.77473852</td><td>-186.002779811</td><td>11923.0017676</td><td>-4404.59473317</td><td>-6875.54302364</td><td>-377.031986926</td></tr><tr><td>21</td><td>2016-01-07-72</td><td>2016-01-07</td><td>72</td><td>4</td><td>0</td><td>1004.8</td><td>14.7764705882</td><td>753</td><td>127</td><td>40</td><td>45</td><td>3</td><td>98.0</td><td>8.0</td><td>0</td><td>-7961.09113226</td><td>-11508.7412803</td><td>-23975.3366729</td><td>6447.47422405</td><td>15754.4322921</td><td>-10370.3177435</td><td>-6619.72605671</td><td>2503.82428353</td><td>-4072.60462965</td><td>5788.36347968</td></tr><tr><td>13</td><td>2016-01-18-11</td><td>2016-01-18</td><td>11</td><td>1</td><td>0</td><td>11.0</td><td>11.0</td><td>295</td><td>19</td><td>3</td><td>2</td><td>3</td><td>78.0</td><td>3.0</td><td>0</td><td>-53310.3255827</td><td>-2583.55230974</td><td>-1927.6004504</td><td>-6646.53373107</td><td>-1076.47552776</td><td>1962.3554565</td><td>-2279.78587346</td><td>-1111.8401536</td><td>1612.52688082</td><td>-444.10092771</td></tr><tr><td>33</td><td>2016-01-12-74</td><td>2016-01-12</td><td>74</td><td>2</td><td>0</td><td>320.0</td><td>40.0</td><td>194</td><td>57</td><td>13</td><td>8</td><td>3</td><td>47.0</td><td>4.0</td><td>3</td><td>-57374.1656061</td><td>3331.11578506</td><td>-2333.90366109</td><td>-3774.5385603</td><td>761.532298242</td><td>640.505156553</td><td>3157.74923423</td><td>2164.46583818</td><td>929.502327117</td><td>-422.925590902</td></tr><tr><td>51</td><td>2016-01-13-15</td><td>2016-01-13</td><td>15</td><td>3</td><td>0</td><td>1505.0</td><td>23.1538461538</td><td>3403</td><td>470</td><td>129</td><td>105</td><td>3</td><td>101.0</td><td>3.0</td><td>7</td><td>708222.866131</td><td>56252.6432525</td><td>45318.9443189</td><td>-31516.3520766</td><td>6643.82498022</td><td>-6255.77998574</td><td>-5874.62782275</td><td>5230.07088296</td><td>960.212337132</td><td>925.726201223</td></tr><tr><td>34</td><td>2016-01-06-140</td><td>2016-01-06</td><td>140</td><td>3</td><td>0</td><td>123.0</td><td>30.75</td><td>215</td><td>42</td><td>9</td><td>2</td><td>4</td><td>93.0</td><td>7.0</td><td>1</td><td>-59244.5713351</td><td>-263.0828471</td><td>239.665154504</td><td>-3525.03461628</td><td>1619.95441111</td><td>-1711.39599849</td><td>-1192.70261555</td><td>-1900.85717249</td><td>123.528385042</td><td>1466.20028437</td></tr><tr><td>62</td><td>2016-01-12-51</td><td>2016-01-12</td><td>51</td><td>2</td><td>0</td><td>47.0</td><td>23.5</td><td>35</td><td>21</td><td>8</td><td>5</td><td>2</td><td>52.0</td><td>4.0</td><td>0</td><td>-70380.7934623</td><td>-1503.74729571</td><td>-8728.68638896</td><td>-9893.99510896</td><td>4790.81925975</td><td>-2121.848774</td><td>883.535562167</td><td>2123.56128155</td><td>548.773507439</td><td>1891.63362143</td></tr><tr><td>59</td><td>2016-01-02-98</td><td>2016-01-02</td><td>98</td><td>6</td><td>0</td><td>45.0</td><td>22.5</td><td>171</td><td>34</td><td>12</td><td>10</td><td>2</td><td>103.0</td><td>17.0</td><td>1</td><td>-64364.6353441</td><td>-1598.17517753</td><td>-6410.65516565</td><td>-7173.08461937</td><td>2429.5624518</td><td>-1025.4069752</td><td>1553.93575592</td><td>1311.01084431</td><td>1011.70315328</td><td>-51.4614331857</td></tr><tr><td>34</td><td>2016-01-15-70</td><td>2016-01-15</td><td>70</td><td>5</td><td>0</td><td>485.1</td><td>25.5315789474</td><td>238</td><td>42</td><td>21</td><td>15</td><td>2</td><td>141.0</td><td>9.0</td><td>6</td><td>-59244.5713351</td><td>-263.0828471</td><td>239.665154504</td><td>-3525.03461628</td><td>1619.95441111</td><td>-1711.39599849</td><td>-1192.70261555</td><td>-1900.85717249</td><td>123.528385042</td><td>1466.20028437</td></tr><tr><td>34</td><td>2016-01-10-98</td><td>2016-01-10</td><td>98</td><td>0</td><td>1</td><td>290.1</td><td>36.2625</td><td>290</td><td>59</td><td>37</td><td>17</td><td>4</td><td>182.0</td><td>7.0</td><td>0</td><td>-59244.5713351</td><td>-263.0828471</td><td>239.665154504</td><td>-3525.03461628</td><td>1619.95441111</td><td>-1711.39599849</td><td>-1192.70261555</td><td>-1900.85717249</td><td>123.528385042</td><td>1466.20028437</td></tr><tr><td>25</td><td>2016-01-18-71</td><td>2016-01-18</td><td>71</td><td>1</td><td>0</td><td>474.0</td><td>16.9285714286</td><td>768</td><td>126</td><td>38</td><td>44</td><td>2</td><td>227.0</td><td>6.0</td><td>1</td><td>-31927.3566485</td><td>17027.5306468</td><td>8299.89607968</td><td>3632.54114853</td><td>-1024.61841571</td><td>4767.02660797</td><td>6389.64024105</td><td>6162.75220713</td><td>-2138.41574365</td><td>166.993277365</td></tr><tr><td>17</td><td>2016-01-19-135</td><td>2016-01-19</td><td>135</td><td>2</td><td>0</td><td>72.0</td><td>14.4</td><td>329</td><td>34</td><td>10</td><td>0</td><td>2</td><td>112.0</td><td>1.0</td><td>1</td><td>-49290.4626288</td><td>332.995686437</td><td>7382.5712453</td><td>-2785.38370919</td><td>-7976.15142278</td><td>6388.05360456</td><td>-4493.58049229</td><td>-1129.3414217</td><td>112.011338561</td><td>1819.48162144</td></tr><tr><td>50</td><td>2016-01-07-19</td><td>2016-01-07</td><td>19</td><td>4</td><td>0</td><td>87.0</td><td>87.0</td><td>35</td><td>2</td><td>4</td><td>0</td><td>4</td><td>92.0</td><td>7.0</td><td>1</td><td>-61876.0995581</td><td>-1357.49437049</td><td>-2077.24967252</td><td>-7257.02419144</td><td>794.360329292</td><td>1241.74877553</td><td>-535.387910289</td><td>2506.10742456</td><td>448.09618372</td><td>280.719551554</td></tr><tr><td>47</td><td>2016-01-13-65</td><td>2016-01-13</td><td>65</td><td>3</td><td>0</td><td>177.6</td><td>22.2</td><td>444</td><td>90</td><td>16</td><td>18</td><td>2</td><td>85.0</td><td>3.0</td><td>1</td><td>-59267.0761051</td><td>-298.712815794</td><td>-1318.1696625</td><td>-3484.31975625</td><td>2144.64725284</td><td>-1968.13276049</td><td>211.287357684</td><td>-1559.27435187</td><td>1607.27762393</td><td>-819.968862219</td></tr><tr><td>16</td><td>2016-01-10-89</td><td>2016-01-10</td><td>89</td><td>0</td><td>1</td><td>114.9</td><td>16.4142857143</td><td>338</td><td>43</td><td>26</td><td>19</td><td>8</td><td>183.0</td><td>7.0</td><td>0</td><td>-58381.0458992</td><td>4.80180731453</td><td>-3070.8259844</td><td>-4843.25916217</td><td>186.574626098</td><td>-342.428268756</td><td>556.691766186</td><td>1592.93173229</td><td>381.26891949</td><td>230.332669622</td></tr><tr><td>9</td><td>2016-01-11-29</td><td>2016-01-11</td><td>29</td><td>1</td><td>0</td><td>40.0</td><td>13.3333333333</td><td>131</td><td>15</td><td>5</td><td>5</td><td>4</td><td>33.0</td><td>7.0</td><td>2</td><td>-47755.8885294</td><td>7847.17088075</td><td>-130.034425638</td><td>3424.89469206</td><td>8146.27641188</td><td>-7062.21365284</td><td>3952.96297027</td><td>604.999396073</td><td>-2442.00753845</td><td>-1470.50995439</td></tr><tr><td>35</td><td>2016-01-06-15</td><td>2016-01-06</td><td>15</td><td>3</td><td>0</td><td>8.0</td><td>8.0</td><td>91</td><td>2</td><td>0</td><td>0</td><td>3</td><td>55.0</td><td>8.0</td><td>0</td><td>-62108.4053743</td><td>-1597.45404092</td><td>-2281.34151762</td><td>-5367.7204698</td><td>131.70449485</td><td>6.32311376921</td><td>-1158.91039613</td><td>1808.46310163</td><td>9.69436119653</td><td>933.533777802</td></tr><tr><td>19</td><td>2016-01-21-17</td><td>2016-01-21</td><td>17</td><td>4</td><td>0</td><td>224.0</td><td>14.9333333333</td><td>652</td><td>49</td><td>14</td><td>24</td><td>&nbsp;</td><td>&nbsp;</td><td>&nbsp;</td><td>7</td><td>-30607.7422422</td><td>3946.77733415</td><td>16612.4041996</td><td>-390.103056531</td><td>-10345.9421066</td><td>2559.25120739</td><td>-5740.01017661</td><td>-4110.47554238</td><td>-286.100084612</td><td>-925.376266964</td></tr><tr><td>39</td><td>2016-01-16-14</td><td>2016-01-16</td><td>14</td><td>6</td><td>0</td><td>491.0</td><td>163.666666667</td><td>62</td><td>3</td><td>0</td><td>1</td><td>2</td><td>136.0</td><td>3.0</td><td>0</td><td>-59555.2167128</td><td>7363.13006907</td><td>-2115.23884511</td><td>-7184.86910524</td><td>3614.32759192</td><td>2073.19037788</td><td>1290.74676875</td><td>2132.79229794</td><td>-415.938454866</td><td>2694.51223127</td></tr><tr><td>16</td><td>2016-01-12-100</td><td>2016-01-12</td><td>100</td><td>2</td><td>0</td><td>289.0</td><td>28.9</td><td>307</td><td>57</td><td>24</td><td>19</td><td>3</td><td>68.0</td><td>4.0</td><td>1</td><td>-58381.0458992</td><td>4.80180731453</td><td>-3070.8259844</td><td>-4843.25916217</td><td>186.574626098</td><td>-342.428268756</td><td>556.691766186</td><td>1592.93173229</td><td>381.26891949</td><td>230.332669622</td></tr><tr><td>66</td><td>2016-01-18-37</td><td>2016-01-18</td><td>37</td><td>1</td><td>0</td><td>9.0</td><td>4.5</td><td>168</td><td>23</td><td>4</td><td>10</td><td>3</td><td>72.0</td><td>3.0</td><td>0</td><td>-52646.4935158</td><td>4421.92221361</td><td>991.864182788</td><td>-1757.49739348</td><td>3384.41796185</td><td>-3588.40672067</td><td>6515.58476744</td><td>-1727.4606157</td><td>643.647481803</td><td>-3740.65404394</td></tr><tr><td>30</td><td>2016-01-03-13</td><td>2016-01-03</td><td>13</td><td>0</td><td>1</td><td>17.0</td><td>17.0</td><td>48</td><td>8</td><td>1</td><td>1</td><td>4</td><td>161.0</td><td>10.0</td><td>1</td><td>-60469.4159806</td><td>665.37872562</td><td>-599.111905385</td><td>-5799.07729084</td><td>1796.70349854</td><td>1285.99299699</td><td>204.950290579</td><td>1290.46677208</td><td>357.587898054</td><td>922.158228952</td></tr></table></div>\n",
       "    <br />(rows: 0, datalab-projects-1331:xjk_algo_comp.future_gaps_final1)<br />\n",
       "    <script>\n",
       "      require(['extensions/charting', 'element!1_146579562403', 'style!/static/extensions/charting.css'],\n",
       "        function(charts, dom) {\n",
       "          charts.render(dom,\n",
       "            {\n",
       "              chartStyle:\"table\",\n",
       "              dataName:\"0\",\n",
       "              fields:\"district_id,timeslot,date,timeofday_slot,day_in_week,is_sunday,sum_price,avg_price,traffic_tj_level1,traffic_tj_level2,traffic_tj_level3,traffic_tj_level4,weather,weather_pm25,weather_temperature,gap,poi1,poi2,poi3,poi4,poi5,poi6,poi7,poi8,poi9,poi10\",\n",
       "              totalRows:0,\n",
       "              rowsPerPage:25,\n",
       "            }, {}, {\"rows\": [{\"c\": [{\"v\": 36}, {\"v\": \"2016-01-03-140\"}, {\"v\": \"2016-01-03\"}, {\"v\": 140}, {\"v\": 0}, {\"v\": 1}, {\"v\": 209.0}, {\"v\": 20.9}, {\"v\": 268}, {\"v\": 28}, {\"v\": 14}, {\"v\": 16}, {\"v\": 2}, {\"v\": 192.0}, {\"v\": 14.0}, {\"v\": 1}, {\"v\": -64632.86156037975}, {\"v\": -2037.0962321252669}, {\"v\": -5723.930330990788}, {\"v\": -5377.367723391139}, {\"v\": 3747.8406691258297}, {\"v\": -5267.392361356852}, {\"v\": -1423.3605211095714}, {\"v\": 2624.7536555669935}, {\"v\": 694.5247116475816}, {\"v\": 1524.1447658066968}]}, {\"c\": [{\"v\": 1}, {\"v\": \"2016-01-02-140\"}, {\"v\": \"2016-01-02\"}, {\"v\": 140}, {\"v\": 6}, {\"v\": 0}, {\"v\": 1138.0}, {\"v\": 12.786516853932584}, {\"v\": 1411}, {\"v\": 243}, {\"v\": 79}, {\"v\": 78}, {\"v\": 4}, {\"v\": 146.0}, {\"v\": 10.0}, {\"v\": 1}, {\"v\": 48245.89005979162}, {\"v\": -341.80638034240724}, {\"v\": 8231.712629865922}, {\"v\": 29193.673193590483}, {\"v\": 4288.374781572557}, {\"v\": -28909.26136546567}, {\"v\": -4401.506794546594}, {\"v\": -5676.7844147532805}, {\"v\": -8417.263753188867}, {\"v\": -435.3247474599002}]}, {\"c\": [{\"v\": 39}, {\"v\": \"2016-01-05-114\"}, {\"v\": \"2016-01-05\"}, {\"v\": 114}, {\"v\": 2}, {\"v\": 0}, {\"v\": 614.0}, {\"v\": 102.33333333333333}, {\"v\": 118}, {\"v\": 27}, {\"v\": 8}, {\"v\": 2}, {\"v\": 4}, {\"v\": 44.0}, {\"v\": 8.0}, {\"v\": 1}, {\"v\": -59555.21671283265}, {\"v\": 7363.130069074176}, {\"v\": -2115.2388451137595}, {\"v\": -7184.869105238935}, {\"v\": 3614.327591915591}, {\"v\": 2073.1903778795117}, {\"v\": 1290.746768746685}, {\"v\": 2132.7922979362816}, {\"v\": -415.9384548655239}, {\"v\": 2694.512231266671}]}, {\"c\": [{\"v\": 7}, {\"v\": \"2016-01-08-100\"}, {\"v\": \"2016-01-08\"}, {\"v\": 100}, {\"v\": 5}, {\"v\": 0}, {\"v\": 4484.600000000002}, {\"v\": 20.762037037037047}, {\"v\": 1832}, {\"v\": 619}, {\"v\": 175}, {\"v\": 103}, {\"v\": 3}, {\"v\": 114.0}, {\"v\": 6.0}, {\"v\": 27}, {\"v\": 194502.1768251736}, {\"v\": -118529.11141726472}, {\"v\": 41855.60263548842}, {\"v\": -25162.950979380294}, {\"v\": -6096.774738519995}, {\"v\": -186.00277981099455}, {\"v\": 11923.001767560034}, {\"v\": -4404.594733167425}, {\"v\": -6875.543023636828}, {\"v\": -377.03198692554037}]}, {\"c\": [{\"v\": 21}, {\"v\": \"2016-01-07-72\"}, {\"v\": \"2016-01-07\"}, {\"v\": 72}, {\"v\": 4}, {\"v\": 0}, {\"v\": 1004.7999999999997}, {\"v\": 14.77647058823529}, {\"v\": 753}, {\"v\": 127}, {\"v\": 40}, {\"v\": 45}, {\"v\": 3}, {\"v\": 98.0}, {\"v\": 8.0}, {\"v\": 0}, {\"v\": -7961.091132263672}, {\"v\": -11508.74128031313}, {\"v\": -23975.336672946476}, {\"v\": 6447.47422404655}, {\"v\": 15754.432292092706}, {\"v\": -10370.317743485248}, {\"v\": -6619.726056711029}, {\"v\": 2503.8242835273977}, {\"v\": -4072.604629645091}, {\"v\": 5788.363479682356}]}, {\"c\": [{\"v\": 13}, {\"v\": \"2016-01-18-11\"}, {\"v\": \"2016-01-18\"}, {\"v\": 11}, {\"v\": 1}, {\"v\": 0}, {\"v\": 11.0}, {\"v\": 11.0}, {\"v\": 295}, {\"v\": 19}, {\"v\": 3}, {\"v\": 2}, {\"v\": 3}, {\"v\": 78.0}, {\"v\": 3.0}, {\"v\": 0}, {\"v\": -53310.32558268119}, {\"v\": -2583.5523097364153}, {\"v\": -1927.6004503974498}, {\"v\": -6646.533731071672}, {\"v\": -1076.4755277570903}, {\"v\": 1962.3554565027787}, {\"v\": -2279.785873464565}, {\"v\": -1111.8401535961045}, {\"v\": 1612.526880822237}, {\"v\": -444.1009277099243}]}, {\"c\": [{\"v\": 33}, {\"v\": \"2016-01-12-74\"}, {\"v\": \"2016-01-12\"}, {\"v\": 74}, {\"v\": 2}, {\"v\": 0}, {\"v\": 320.0}, {\"v\": 40.0}, {\"v\": 194}, {\"v\": 57}, {\"v\": 13}, {\"v\": 8}, {\"v\": 3}, {\"v\": 47.0}, {\"v\": 4.0}, {\"v\": 3}, {\"v\": -57374.16560605138}, {\"v\": 3331.1157850622044}, {\"v\": -2333.9036610863395}, {\"v\": -3774.5385603010945}, {\"v\": 761.5322982419874}, {\"v\": 640.5051565532003}, {\"v\": 3157.7492342287615}, {\"v\": 2164.4658381786003}, {\"v\": 929.502327117297}, {\"v\": -422.9255909017496}]}, {\"c\": [{\"v\": 51}, {\"v\": \"2016-01-13-15\"}, {\"v\": \"2016-01-13\"}, {\"v\": 15}, {\"v\": 3}, {\"v\": 0}, {\"v\": 1505.0}, {\"v\": 23.153846153846153}, {\"v\": 3403}, {\"v\": 470}, {\"v\": 129}, {\"v\": 105}, {\"v\": 3}, {\"v\": 101.0}, {\"v\": 3.0}, {\"v\": 7}, {\"v\": 708222.8661305557}, {\"v\": 56252.64325249546}, {\"v\": 45318.94431890442}, {\"v\": -31516.352076592088}, {\"v\": 6643.824980215071}, {\"v\": -6255.779985737854}, {\"v\": -5874.627822750455}, {\"v\": 5230.070882955488}, {\"v\": 960.2123371321513}, {\"v\": 925.7262012233465}]}, {\"c\": [{\"v\": 34}, {\"v\": \"2016-01-06-140\"}, {\"v\": \"2016-01-06\"}, {\"v\": 140}, {\"v\": 3}, {\"v\": 0}, {\"v\": 123.0}, {\"v\": 30.75}, {\"v\": 215}, {\"v\": 42}, {\"v\": 9}, {\"v\": 2}, {\"v\": 4}, {\"v\": 93.0}, {\"v\": 7.0}, {\"v\": 1}, {\"v\": -59244.57133508226}, {\"v\": -263.082847100255}, {\"v\": 239.66515450360902}, {\"v\": -3525.03461628383}, {\"v\": 1619.9544111072937}, {\"v\": -1711.3959984852017}, {\"v\": -1192.7026155528206}, {\"v\": -1900.8571724936967}, {\"v\": 123.52838504241097}, {\"v\": 1466.2002843746586}]}, {\"c\": [{\"v\": 62}, {\"v\": \"2016-01-12-51\"}, {\"v\": \"2016-01-12\"}, {\"v\": 51}, {\"v\": 2}, {\"v\": 0}, {\"v\": 47.0}, {\"v\": 23.5}, {\"v\": 35}, {\"v\": 21}, {\"v\": 8}, {\"v\": 5}, {\"v\": 2}, {\"v\": 52.0}, {\"v\": 4.0}, {\"v\": 0}, {\"v\": -70380.79346228832}, {\"v\": -1503.7472957086154}, {\"v\": -8728.686388956914}, {\"v\": -9893.99510895667}, {\"v\": 4790.819259746651}, {\"v\": -2121.848774000056}, {\"v\": 883.5355621674021}, {\"v\": 2123.561281547239}, {\"v\": 548.7735074387612}, {\"v\": 1891.6336214348505}]}, {\"c\": [{\"v\": 59}, {\"v\": \"2016-01-02-98\"}, {\"v\": \"2016-01-02\"}, {\"v\": 98}, {\"v\": 6}, {\"v\": 0}, {\"v\": 45.0}, {\"v\": 22.5}, {\"v\": 171}, {\"v\": 34}, {\"v\": 12}, {\"v\": 10}, {\"v\": 2}, {\"v\": 103.0}, {\"v\": 17.0}, {\"v\": 1}, {\"v\": -64364.635344067996}, {\"v\": -1598.1751775255598}, {\"v\": -6410.655165648449}, {\"v\": -7173.084619374977}, {\"v\": 2429.5624518000873}, {\"v\": -1025.4069751985178}, {\"v\": 1553.9357559189664}, {\"v\": 1311.010844309015}, {\"v\": 1011.7031532815921}, {\"v\": -51.46143318573841}]}, {\"c\": [{\"v\": 34}, {\"v\": \"2016-01-15-70\"}, {\"v\": \"2016-01-15\"}, {\"v\": 70}, {\"v\": 5}, {\"v\": 0}, {\"v\": 485.1}, {\"v\": 25.531578947368423}, {\"v\": 238}, {\"v\": 42}, {\"v\": 21}, {\"v\": 15}, {\"v\": 2}, {\"v\": 141.0}, {\"v\": 9.0}, {\"v\": 6}, {\"v\": -59244.57133508226}, {\"v\": -263.082847100255}, {\"v\": 239.66515450360902}, {\"v\": -3525.03461628383}, {\"v\": 1619.9544111072937}, {\"v\": -1711.3959984852017}, {\"v\": -1192.7026155528206}, {\"v\": -1900.8571724936967}, {\"v\": 123.52838504241097}, {\"v\": 1466.2002843746586}]}, {\"c\": [{\"v\": 34}, {\"v\": \"2016-01-10-98\"}, {\"v\": \"2016-01-10\"}, {\"v\": 98}, {\"v\": 0}, {\"v\": 1}, {\"v\": 290.1}, {\"v\": 36.2625}, {\"v\": 290}, {\"v\": 59}, {\"v\": 37}, {\"v\": 17}, {\"v\": 4}, {\"v\": 182.0}, {\"v\": 7.0}, {\"v\": 0}, {\"v\": -59244.57133508226}, {\"v\": -263.082847100255}, {\"v\": 239.66515450360902}, {\"v\": -3525.03461628383}, {\"v\": 1619.9544111072937}, {\"v\": -1711.3959984852017}, {\"v\": -1192.7026155528206}, {\"v\": -1900.8571724936967}, {\"v\": 123.52838504241097}, {\"v\": 1466.2002843746586}]}, {\"c\": [{\"v\": 25}, {\"v\": \"2016-01-18-71\"}, {\"v\": \"2016-01-18\"}, {\"v\": 71}, {\"v\": 1}, {\"v\": 0}, {\"v\": 474.0}, {\"v\": 16.928571428571427}, {\"v\": 768}, {\"v\": 126}, {\"v\": 38}, {\"v\": 44}, {\"v\": 2}, {\"v\": 227.0}, {\"v\": 6.0}, {\"v\": 1}, {\"v\": -31927.356648464465}, {\"v\": 17027.530646824303}, {\"v\": 8299.896079676664}, {\"v\": 3632.5411485307463}, {\"v\": -1024.618415711511}, {\"v\": 4767.026607966623}, {\"v\": 6389.64024104815}, {\"v\": 6162.752207131447}, {\"v\": -2138.4157436498244}, {\"v\": 166.99327736474052}]}, {\"c\": [{\"v\": 17}, {\"v\": \"2016-01-19-135\"}, {\"v\": \"2016-01-19\"}, {\"v\": 135}, {\"v\": 2}, {\"v\": 0}, {\"v\": 72.0}, {\"v\": 14.4}, {\"v\": 329}, {\"v\": 34}, {\"v\": 10}, {\"v\": 0}, {\"v\": 2}, {\"v\": 112.0}, {\"v\": 1.0}, {\"v\": 1}, {\"v\": -49290.46262875628}, {\"v\": 332.995686436503}, {\"v\": 7382.57124530197}, {\"v\": -2785.3837091940823}, {\"v\": -7976.151422779466}, {\"v\": 6388.053604559627}, {\"v\": -4493.580492291713}, {\"v\": -1129.3414217018799}, {\"v\": 112.01133856093396}, {\"v\": 1819.4816214375335}]}, {\"c\": [{\"v\": 50}, {\"v\": \"2016-01-07-19\"}, {\"v\": \"2016-01-07\"}, {\"v\": 19}, {\"v\": 4}, {\"v\": 0}, {\"v\": 87.0}, {\"v\": 87.0}, {\"v\": 35}, {\"v\": 2}, {\"v\": 4}, {\"v\": 0}, {\"v\": 4}, {\"v\": 92.0}, {\"v\": 7.0}, {\"v\": 1}, {\"v\": -61876.0995580792}, {\"v\": -1357.4943704870614}, {\"v\": -2077.2496725224833}, {\"v\": -7257.024191441956}, {\"v\": 794.3603292915484}, {\"v\": 1241.748775534419}, {\"v\": -535.3879102894167}, {\"v\": 2506.1074245615077}, {\"v\": 448.0961837201894}, {\"v\": 280.7195515535912}]}, {\"c\": [{\"v\": 47}, {\"v\": \"2016-01-13-65\"}, {\"v\": \"2016-01-13\"}, {\"v\": 65}, {\"v\": 3}, {\"v\": 0}, {\"v\": 177.6}, {\"v\": 22.2}, {\"v\": 444}, {\"v\": 90}, {\"v\": 16}, {\"v\": 18}, {\"v\": 2}, {\"v\": 85.0}, {\"v\": 3.0}, {\"v\": 1}, {\"v\": -59267.076105071916}, {\"v\": -298.71281579407565}, {\"v\": -1318.1696625029372}, {\"v\": -3484.319756247455}, {\"v\": 2144.6472528439826}, {\"v\": -1968.1327604860267}, {\"v\": 211.28735768438474}, {\"v\": -1559.2743518667883}, {\"v\": 1607.2776239324871}, {\"v\": -819.9688622191118}]}, {\"c\": [{\"v\": 16}, {\"v\": \"2016-01-10-89\"}, {\"v\": \"2016-01-10\"}, {\"v\": 89}, {\"v\": 0}, {\"v\": 1}, {\"v\": 114.9}, {\"v\": 16.414285714285715}, {\"v\": 338}, {\"v\": 43}, {\"v\": 26}, {\"v\": 19}, {\"v\": 8}, {\"v\": 183.0}, {\"v\": 7.0}, {\"v\": 0}, {\"v\": -58381.045899161414}, {\"v\": 4.801807314527694}, {\"v\": -3070.825984398579}, {\"v\": -4843.259162165069}, {\"v\": 186.57462609760358}, {\"v\": -342.428268756161}, {\"v\": 556.691766186206}, {\"v\": 1592.931732288435}, {\"v\": 381.26891948955694}, {\"v\": 230.33266962164006}]}, {\"c\": [{\"v\": 9}, {\"v\": \"2016-01-11-29\"}, {\"v\": \"2016-01-11\"}, {\"v\": 29}, {\"v\": 1}, {\"v\": 0}, {\"v\": 40.0}, {\"v\": 13.333333333333334}, {\"v\": 131}, {\"v\": 15}, {\"v\": 5}, {\"v\": 5}, {\"v\": 4}, {\"v\": 33.0}, {\"v\": 7.0}, {\"v\": 2}, {\"v\": -47755.888529398544}, {\"v\": 7847.170880750486}, {\"v\": -130.03442563754814}, {\"v\": 3424.894692060525}, {\"v\": 8146.276411878912}, {\"v\": -7062.213652837777}, {\"v\": 3952.962970273269}, {\"v\": 604.9993960734463}, {\"v\": -2442.007538450393}, {\"v\": -1470.5099543868812}]}, {\"c\": [{\"v\": 35}, {\"v\": \"2016-01-06-15\"}, {\"v\": \"2016-01-06\"}, {\"v\": 15}, {\"v\": 3}, {\"v\": 0}, {\"v\": 8.0}, {\"v\": 8.0}, {\"v\": 91}, {\"v\": 2}, {\"v\": 0}, {\"v\": 0}, {\"v\": 3}, {\"v\": 55.0}, {\"v\": 8.0}, {\"v\": 0}, {\"v\": -62108.40537426752}, {\"v\": -1597.4540409213016}, {\"v\": -2281.3415176206936}, {\"v\": -5367.720469804684}, {\"v\": 131.7044948496004}, {\"v\": 6.323113769207557}, {\"v\": -1158.9103961311603}, {\"v\": 1808.4631016349813}, {\"v\": 9.694361196531876}, {\"v\": 933.5337778022598}]}, {\"c\": [{\"v\": 19}, {\"v\": \"2016-01-21-17\"}, {\"v\": \"2016-01-21\"}, {\"v\": 17}, {\"v\": 4}, {\"v\": 0}, {\"v\": 224.0}, {\"v\": 14.933333333333334}, {\"v\": 652}, {\"v\": 49}, {\"v\": 14}, {\"v\": 24}, {\"v\": null}, {\"v\": null}, {\"v\": null}, {\"v\": 7}, {\"v\": -30607.742242210294}, {\"v\": 3946.777334152007}, {\"v\": 16612.404199587338}, {\"v\": -390.1030565311408}, {\"v\": -10345.942106647737}, {\"v\": 2559.251207386308}, {\"v\": -5740.0101766107155}, {\"v\": -4110.4755423831975}, {\"v\": -286.10008461213437}, {\"v\": -925.376266963528}]}, {\"c\": [{\"v\": 39}, {\"v\": \"2016-01-16-14\"}, {\"v\": \"2016-01-16\"}, {\"v\": 14}, {\"v\": 6}, {\"v\": 0}, {\"v\": 491.0}, {\"v\": 163.66666666666666}, {\"v\": 62}, {\"v\": 3}, {\"v\": 0}, {\"v\": 1}, {\"v\": 2}, {\"v\": 136.0}, {\"v\": 3.0}, {\"v\": 0}, {\"v\": -59555.21671283265}, {\"v\": 7363.130069074176}, {\"v\": -2115.2388451137595}, {\"v\": -7184.869105238935}, {\"v\": 3614.327591915591}, {\"v\": 2073.1903778795117}, {\"v\": 1290.746768746685}, {\"v\": 2132.7922979362816}, {\"v\": -415.9384548655239}, {\"v\": 2694.512231266671}]}, {\"c\": [{\"v\": 16}, {\"v\": \"2016-01-12-100\"}, {\"v\": \"2016-01-12\"}, {\"v\": 100}, {\"v\": 2}, {\"v\": 0}, {\"v\": 289.0}, {\"v\": 28.9}, {\"v\": 307}, {\"v\": 57}, {\"v\": 24}, {\"v\": 19}, {\"v\": 3}, {\"v\": 68.0}, {\"v\": 4.0}, {\"v\": 1}, {\"v\": -58381.045899161414}, {\"v\": 4.801807314527694}, {\"v\": -3070.825984398579}, {\"v\": -4843.259162165069}, {\"v\": 186.57462609760358}, {\"v\": -342.428268756161}, {\"v\": 556.691766186206}, {\"v\": 1592.931732288435}, {\"v\": 381.26891948955694}, {\"v\": 230.33266962164006}]}, {\"c\": [{\"v\": 66}, {\"v\": \"2016-01-18-37\"}, {\"v\": \"2016-01-18\"}, {\"v\": 37}, {\"v\": 1}, {\"v\": 0}, {\"v\": 9.0}, {\"v\": 4.5}, {\"v\": 168}, {\"v\": 23}, {\"v\": 4}, {\"v\": 10}, {\"v\": 3}, {\"v\": 72.0}, {\"v\": 3.0}, {\"v\": 0}, {\"v\": -52646.493515755064}, {\"v\": 4421.922213608454}, {\"v\": 991.8641827878794}, {\"v\": -1757.4973934781292}, {\"v\": 3384.4179618456346}, {\"v\": -3588.406720665278}, {\"v\": 6515.584767436208}, {\"v\": -1727.460615698098}, {\"v\": 643.647481802993}, {\"v\": -3740.6540439442533}]}, {\"c\": [{\"v\": 30}, {\"v\": \"2016-01-03-13\"}, {\"v\": \"2016-01-03\"}, {\"v\": 13}, {\"v\": 0}, {\"v\": 1}, {\"v\": 17.0}, {\"v\": 17.0}, {\"v\": 48}, {\"v\": 8}, {\"v\": 1}, {\"v\": 1}, {\"v\": 4}, {\"v\": 161.0}, {\"v\": 10.0}, {\"v\": 1}, {\"v\": -60469.415980600636}, {\"v\": 665.3787256203718}, {\"v\": -599.1119053847455}, {\"v\": -5799.077290838605}, {\"v\": 1796.703498536144}, {\"v\": 1285.9929969917073}, {\"v\": 204.95029057929207}, {\"v\": 1290.4667720787008}, {\"v\": 357.58789805362085}, {\"v\": 922.1582289523242}]}], \"cols\": [{\"type\": \"number\", \"id\": \"district_id\", \"label\": \"district_id\"}, {\"type\": \"string\", \"id\": \"timeslot\", \"label\": \"timeslot\"}, {\"type\": \"string\", \"id\": \"date\", \"label\": \"date\"}, {\"type\": \"number\", \"id\": \"timeofday_slot\", \"label\": \"timeofday_slot\"}, {\"type\": \"number\", \"id\": \"day_in_week\", \"label\": \"day_in_week\"}, {\"type\": \"number\", \"id\": \"is_sunday\", \"label\": \"is_sunday\"}, {\"type\": \"number\", \"id\": \"sum_price\", \"label\": \"sum_price\"}, {\"type\": \"number\", \"id\": \"avg_price\", \"label\": \"avg_price\"}, {\"type\": \"number\", \"id\": \"traffic_tj_level1\", \"label\": \"traffic_tj_level1\"}, {\"type\": \"number\", \"id\": \"traffic_tj_level2\", \"label\": \"traffic_tj_level2\"}, {\"type\": \"number\", \"id\": \"traffic_tj_level3\", \"label\": \"traffic_tj_level3\"}, {\"type\": \"number\", \"id\": \"traffic_tj_level4\", \"label\": \"traffic_tj_level4\"}, {\"type\": \"number\", \"id\": \"weather\", \"label\": \"weather\"}, {\"type\": \"number\", \"id\": \"weather_pm25\", \"label\": \"weather_pm25\"}, {\"type\": \"number\", \"id\": \"weather_temperature\", \"label\": \"weather_temperature\"}, {\"type\": \"number\", \"id\": \"gap\", \"label\": \"gap\"}, {\"type\": \"number\", \"id\": \"poi1\", \"label\": \"poi1\"}, {\"type\": \"number\", \"id\": \"poi2\", \"label\": \"poi2\"}, {\"type\": \"number\", \"id\": \"poi3\", \"label\": \"poi3\"}, {\"type\": \"number\", \"id\": \"poi4\", \"label\": \"poi4\"}, {\"type\": \"number\", \"id\": \"poi5\", \"label\": \"poi5\"}, {\"type\": \"number\", \"id\": \"poi6\", \"label\": \"poi6\"}, {\"type\": \"number\", \"id\": \"poi7\", \"label\": \"poi7\"}, {\"type\": \"number\", \"id\": \"poi8\", \"label\": \"poi8\"}, {\"type\": \"number\", \"id\": \"poi9\", \"label\": \"poi9\"}, {\"type\": \"number\", \"id\": \"poi10\", \"label\": \"poi10\"}]});\n",
       "        }\n",
       "      );\n",
       "    </script>\n",
       "  "
      ],
      "text/plain": [
       "Table datalab-projects-1331:xjk_algo_comp.future_gaps_final1"
      ]
     },
     "execution_count": 8,
     "metadata": {},
     "output_type": "execute_result"
    }
   ],
   "source": [
    "schema = bq.Schema([\n",
    "    {'name': 'district_id', 'type': 'INTEGER'},\n",
    "    {'name': 'timeslot', 'type': 'STRING'},\n",
    "    {'name': 'date', 'type': 'STRING'},\n",
    "    {'name': 'timeofday_slot', 'type': 'INTEGER'},\n",
    "    {'name': 'day_in_week', 'type': 'INTEGER'},\n",
    "    {'name': 'is_sunday', 'type': 'INTEGER'},\n",
    "    {'name': 'sum_price', 'type': 'FLOAT'},\n",
    "    {'name': 'avg_price', 'type': 'FLOAT'},\n",
    "    {'name': 'traffic_tj_level1', 'type': 'INTEGER'},\n",
    "    {'name': 'traffic_tj_level2', 'type': 'INTEGER'},\n",
    "    {'name': 'traffic_tj_level3', 'type': 'INTEGER'},\n",
    "    {'name': 'traffic_tj_level4', 'type': 'INTEGER'},\n",
    "    {'name': 'weather', 'type': 'INTEGER'},\n",
    "    {'name': 'weather_pm25', 'type': 'FLOAT'},\n",
    "    {'name': 'weather_temperature', 'type': 'FLOAT'},\n",
    "    {'name': 'gap', 'type': 'INTEGER'}\n",
    "] + poi_schema)\n",
    "table = bq.Table('datalab-projects-1331:xjk_algo_comp.future_gaps_final1')\n",
    "if table.exists():\n",
    "  table.delete()\n",
    "table.create(schema)\n",
    "  \n",
    "table.insert_data(all_data)"
   ]
  },
  {
   "cell_type": "markdown",
   "metadata": {},
   "source": [
    "# Replace NULL Values"
   ]
  },
  {
   "cell_type": "code",
   "execution_count": 9,
   "metadata": {
    "collapsed": false
   },
   "outputs": [
    {
     "data": {
      "text/html": [
       "\n",
       "    <div class=\"bqtv\" id=\"2_146579591045\"><table><tr><th>district_id</th><th>timeslot</th><th>date</th><th>timeofday_slot</th><th>day_in_week</th><th>is_sunday</th><th>sum_price</th><th>avg_price</th><th>traffic_tj_level1</th><th>traffic_tj_level2</th><th>traffic_tj_level3</th><th>traffic_tj_level4</th><th>weather</th><th>weather_pm25</th><th>weather_temperature</th><th>gap</th><th>poi1</th><th>poi2</th><th>poi3</th><th>poi4</th><th>poi5</th><th>poi6</th><th>poi7</th><th>poi8</th><th>poi9</th><th>poi10</th></tr><tr><td>8</td><td>2016-01-13-142</td><td>2016-01-13</td><td>142</td><td>3</td><td>0</td><td>2387.0</td><td>19.8916666667</td><td>2626</td><td>331</td><td>96</td><td>114</td><td>2</td><td>110.0</td><td>3.0</td><td>3</td><td>272662.311567</td><td>-47763.1985915</td><td>-8298.80475429</td><td>19828.326286</td><td>8690.55846578</td><td>10089.0995883</td><td>-10552.4003383</td><td>-1210.32713141</td><td>-1476.11394448</td><td>-2306.97571286</td></tr><tr><td>59</td><td>2016-01-02-122</td><td>2016-01-02</td><td>122</td><td>6</td><td>0</td><td>86.0</td><td>21.5</td><td>178</td><td>31</td><td>8</td><td>3</td><td>2</td><td>100.0</td><td>13.0</td><td>0</td><td>-64364.6353441</td><td>-1598.17517753</td><td>-6410.65516565</td><td>-7173.08461937</td><td>2429.5624518</td><td>-1025.4069752</td><td>1553.93575592</td><td>1311.01084431</td><td>1011.70315328</td><td>-51.4614331857</td></tr><tr><td>56</td><td>2016-01-06-47</td><td>2016-01-06</td><td>47</td><td>3</td><td>0</td><td>9.0</td><td>9.0</td><td>223</td><td>17</td><td>3</td><td>3</td><td>4</td><td>55.0</td><td>7.0</td><td>0</td><td>-62654.031676</td><td>6028.48480374</td><td>-4445.54885145</td><td>-10283.3290636</td><td>5597.91594742</td><td>-709.945447157</td><td>730.248044767</td><td>1275.14169685</td><td>298.169958159</td><td>2850.16479881</td></tr><tr><td>40</td><td>2016-01-17-66</td><td>2016-01-17</td><td>66</td><td>0</td><td>1</td><td>215.0</td><td>19.5454545455</td><td>302</td><td>71</td><td>12</td><td>3</td><td>4</td><td>55.0</td><td>6.0</td><td>1</td><td>-64931.4946754</td><td>-3401.9619505</td><td>-4726.89727348</td><td>-7591.19720166</td><td>1775.65412799</td><td>-241.22485119</td><td>-1948.92277199</td><td>549.508500755</td><td>1107.80099352</td><td>953.159739621</td></tr><tr><td>10</td><td>2016-01-20-143</td><td>2016-01-20</td><td>143</td><td>3</td><td>0</td><td>22.0</td><td>11.0</td><td>142</td><td>6</td><td>4</td><td>2</td><td>0</td><td>nan</td><td>nan</td><td>0</td><td>-67611.826108</td><td>-898.594182802</td><td>-7635.17717761</td><td>-8032.08938774</td><td>5210.17826651</td><td>-2477.07503048</td><td>1930.20698948</td><td>929.994145541</td><td>-88.2044184257</td><td>738.211767452</td></tr><tr><td>8</td><td>2016-01-18-20</td><td>2016-01-18</td><td>20</td><td>1</td><td>0</td><td>211.0</td><td>19.1818181818</td><td>2053</td><td>158</td><td>61</td><td>65</td><td>3</td><td>74.0</td><td>3.0</td><td>0</td><td>272662.311567</td><td>-47763.1985915</td><td>-8298.80475429</td><td>19828.326286</td><td>8690.55846578</td><td>10089.0995883</td><td>-10552.4003383</td><td>-1210.32713141</td><td>-1476.11394448</td><td>-2306.97571286</td></tr><tr><td>26</td><td>2016-01-20-64</td><td>2016-01-20</td><td>64</td><td>3</td><td>0</td><td>351.6</td><td>15.2869565217</td><td>350</td><td>107</td><td>31</td><td>11</td><td>0</td><td>nan</td><td>nan</td><td>0</td><td>-59316.1977014</td><td>-4734.67815088</td><td>-504.891626878</td><td>-4147.46537609</td><td>-582.399857378</td><td>89.5481513595</td><td>-2526.64154424</td><td>-520.847612615</td><td>453.972078536</td><td>404.144086264</td></tr><tr><td>31</td><td>2016-01-08-57</td><td>2016-01-08</td><td>57</td><td>5</td><td>0</td><td>264.0</td><td>16.5</td><td>629</td><td>82</td><td>20</td><td>16</td><td>2</td><td>93.0</td><td>4.0</td><td>2</td><td>-55528.6688413</td><td>-3665.78773112</td><td>121.680839099</td><td>-5696.16021106</td><td>-1436.15863563</td><td>1383.4872069</td><td>-4241.30111214</td><td>707.76087898</td><td>2489.72004366</td><td>-1447.51592168</td></tr><tr><td>1</td><td>2016-01-04-130</td><td>2016-01-04</td><td>130</td><td>1</td><td>0</td><td>2194.0</td><td>9.92760180995</td><td>1470</td><td>346</td><td>96</td><td>75</td><td>4</td><td>194.0</td><td>12.0</td><td>6</td><td>48245.8900598</td><td>-341.806380342</td><td>8231.71262987</td><td>29193.6731936</td><td>4288.37478157</td><td>-28909.2613655</td><td>-4401.50679455</td><td>-5676.78441475</td><td>-8417.26375319</td><td>-435.32474746</td></tr><tr><td>1</td><td>2016-01-17-24</td><td>2016-01-17</td><td>24</td><td>0</td><td>1</td><td>416.0</td><td>24.4705882353</td><td>821</td><td>130</td><td>26</td><td>25</td><td>4</td><td>117.0</td><td>6.0</td><td>2</td><td>48245.8900598</td><td>-341.806380342</td><td>8231.71262987</td><td>29193.6731936</td><td>4288.37478157</td><td>-28909.2613655</td><td>-4401.50679455</td><td>-5676.78441475</td><td>-8417.26375319</td><td>-435.32474746</td></tr><tr><td>56</td><td>2016-01-20-87</td><td>2016-01-20</td><td>87</td><td>3</td><td>0</td><td>22.0</td><td>22.0</td><td>179</td><td>31</td><td>11</td><td>2</td><td>0</td><td>nan</td><td>nan</td><td>0</td><td>-62654.031676</td><td>6028.48480374</td><td>-4445.54885145</td><td>-10283.3290636</td><td>5597.91594742</td><td>-709.945447157</td><td>730.248044767</td><td>1275.14169685</td><td>298.169958159</td><td>2850.16479881</td></tr><tr><td>31</td><td>2016-01-04-19</td><td>2016-01-04</td><td>19</td><td>1</td><td>0</td><td>18.0</td><td>18.0</td><td>219</td><td>32</td><td>6</td><td>2</td><td>2</td><td>202.0</td><td>13.0</td><td>0</td><td>-55528.6688413</td><td>-3665.78773112</td><td>121.680839099</td><td>-5696.16021106</td><td>-1436.15863563</td><td>1383.4872069</td><td>-4241.30111214</td><td>707.76087898</td><td>2489.72004366</td><td>-1447.51592168</td></tr><tr><td>19</td><td>2016-01-11-45</td><td>2016-01-11</td><td>45</td><td>1</td><td>0</td><td>639.6</td><td>16.8315789474</td><td>883</td><td>158</td><td>42</td><td>23</td><td>4</td><td>35.0</td><td>7.0</td><td>0</td><td>-30607.7422422</td><td>3946.77733415</td><td>16612.4041996</td><td>-390.103056531</td><td>-10345.9421066</td><td>2559.25120739</td><td>-5740.01017661</td><td>-4110.47554238</td><td>-286.100084612</td><td>-925.376266964</td></tr><tr><td>9</td><td>2016-01-06-52</td><td>2016-01-06</td><td>52</td><td>3</td><td>0</td><td>1286.6</td><td>25.2274509804</td><td>555</td><td>125</td><td>30</td><td>25</td><td>4</td><td>55.0</td><td>7.0</td><td>3</td><td>-47755.8885294</td><td>7847.17088075</td><td>-130.034425638</td><td>3424.89469206</td><td>8146.27641188</td><td>-7062.21365284</td><td>3952.96297027</td><td>604.999396073</td><td>-2442.00753845</td><td>-1470.50995439</td></tr><tr><td>32</td><td>2016-01-18-88</td><td>2016-01-18</td><td>88</td><td>1</td><td>0</td><td>18.0</td><td>9.0</td><td>116</td><td>13</td><td>2</td><td>0</td><td>2</td><td>263.0</td><td>6.0</td><td>0</td><td>-61194.5683891</td><td>-1660.197622</td><td>-240.659554095</td><td>-7812.03838761</td><td>-314.309459331</td><td>951.826244726</td><td>-2217.22041198</td><td>271.075852592</td><td>1307.60256577</td><td>-446.363405432</td></tr><tr><td>20</td><td>2016-01-02-50</td><td>2016-01-02</td><td>50</td><td>6</td><td>0</td><td>607.6</td><td>13.2086956522</td><td>902</td><td>176</td><td>42</td><td>51</td><td>2</td><td>166.0</td><td>7.0</td><td>0</td><td>-29369.221533</td><td>-4388.81043264</td><td>16971.0911119</td><td>774.884329289</td><td>-9202.18006576</td><td>7186.4352809</td><td>-10669.8008882</td><td>-2019.58126471</td><td>-764.150163425</td><td>-3518.75203657</td></tr><tr><td>34</td><td>2016-01-01-134</td><td>2016-01-01</td><td>134</td><td>5</td><td>0</td><td>56.4</td><td>18.8</td><td>261</td><td>51</td><td>16</td><td>18</td><td>2</td><td>128.0</td><td>8.0</td><td>1</td><td>-59244.5713351</td><td>-263.0828471</td><td>239.665154504</td><td>-3525.03461628</td><td>1619.95441111</td><td>-1711.39599849</td><td>-1192.70261555</td><td>-1900.85717249</td><td>123.528385042</td><td>1466.20028437</td></tr><tr><td>26</td><td>2016-01-09-94</td><td>2016-01-09</td><td>94</td><td>6</td><td>0</td><td>1164.8</td><td>29.8666666667</td><td>306</td><td>94</td><td>20</td><td>20</td><td>2</td><td>139.0</td><td>9.0</td><td>8</td><td>-59316.1977014</td><td>-4734.67815088</td><td>-504.891626878</td><td>-4147.46537609</td><td>-582.399857378</td><td>89.5481513595</td><td>-2526.64154424</td><td>-520.847612615</td><td>453.972078536</td><td>404.144086264</td></tr><tr><td>40</td><td>2016-01-05-85</td><td>2016-01-05</td><td>85</td><td>2</td><td>0</td><td>312.9</td><td>34.7666666667</td><td>251</td><td>40</td><td>6</td><td>3</td><td>4</td><td>34.0</td><td>8.0</td><td>1</td><td>-64931.4946754</td><td>-3401.9619505</td><td>-4726.89727348</td><td>-7591.19720166</td><td>1775.65412799</td><td>-241.22485119</td><td>-1948.92277199</td><td>549.508500755</td><td>1107.80099352</td><td>953.159739621</td></tr><tr><td>17</td><td>2016-01-05-69</td><td>2016-01-05</td><td>69</td><td>2</td><td>0</td><td>58.0</td><td>11.6</td><td>330</td><td>50</td><td>14</td><td>10</td><td>4</td><td>26.0</td><td>8.0</td><td>1</td><td>-49290.4626288</td><td>332.995686437</td><td>7382.5712453</td><td>-2785.38370919</td><td>-7976.15142278</td><td>6388.05360456</td><td>-4493.58049229</td><td>-1129.3414217</td><td>112.011338561</td><td>1819.48162144</td></tr><tr><td>16</td><td>2016-01-01-62</td><td>2016-01-01</td><td>62</td><td>5</td><td>0</td><td>304.0</td><td>16.8888888889</td><td>300</td><td>66</td><td>18</td><td>5</td><td>2</td><td>186.0</td><td>5.0</td><td>7</td><td>-58381.0458992</td><td>4.80180731453</td><td>-3070.8259844</td><td>-4843.25916217</td><td>186.574626098</td><td>-342.428268756</td><td>556.691766186</td><td>1592.93173229</td><td>381.26891949</td><td>230.332669622</td></tr><tr><td>59</td><td>2016-01-07-123</td><td>2016-01-07</td><td>123</td><td>4</td><td>0</td><td>70.0</td><td>17.5</td><td>143</td><td>38</td><td>7</td><td>9</td><td>2</td><td>122.0</td><td>7.0</td><td>0</td><td>-64364.6353441</td><td>-1598.17517753</td><td>-6410.65516565</td><td>-7173.08461937</td><td>2429.5624518</td><td>-1025.4069752</td><td>1553.93575592</td><td>1311.01084431</td><td>1011.70315328</td><td>-51.4614331857</td></tr><tr><td>21</td><td>2016-01-13-70</td><td>2016-01-13</td><td>70</td><td>3</td><td>0</td><td>1051.9</td><td>17.5316666667</td><td>804</td><td>125</td><td>35</td><td>35</td><td>2</td><td>85.0</td><td>3.0</td><td>0</td><td>-7961.09113226</td><td>-11508.7412803</td><td>-23975.3366729</td><td>6447.47422405</td><td>15754.4322921</td><td>-10370.3177435</td><td>-6619.72605671</td><td>2503.82428353</td><td>-4072.60462965</td><td>5788.36347968</td></tr><tr><td>23</td><td>2016-01-08-135</td><td>2016-01-08</td><td>135</td><td>5</td><td>0</td><td>4670.9</td><td>16.9850909091</td><td>2941</td><td>874</td><td>223</td><td>182</td><td>2</td><td>120.0</td><td>4.0</td><td>18</td><td>304387.677174</td><td>-40711.0600395</td><td>-17701.6569374</td><td>36428.5565779</td><td>-176.593499468</td><td>-3677.66343545</td><td>7064.05056067</td><td>4729.97719913</td><td>17321.8112746</td><td>3618.71785193</td></tr><tr><td>38</td><td>2016-01-10-89</td><td>2016-01-10</td><td>89</td><td>0</td><td>1</td><td>221.0</td><td>20.0909090909</td><td>359</td><td>101</td><td>37</td><td>13</td><td>8</td><td>183.0</td><td>7.0</td><td>1</td><td>-55675.9716833</td><td>197.557492556</td><td>1409.85979012</td><td>-5526.46183733</td><td>-1318.21198254</td><td>441.984514419</td><td>-1170.48133519</td><td>972.374122858</td><td>1210.75318309</td><td>964.328514639</td></tr></table></div>\n",
       "    <br />(rows: 0, datalab-projects-1331:xjk_algo_comp.future_gaps_final1)<br />\n",
       "    <script>\n",
       "      require(['extensions/charting', 'element!2_146579591045', 'style!/static/extensions/charting.css'],\n",
       "        function(charts, dom) {\n",
       "          charts.render(dom,\n",
       "            {\n",
       "              chartStyle:\"table\",\n",
       "              dataName:\"0\",\n",
       "              fields:\"district_id,timeslot,date,timeofday_slot,day_in_week,is_sunday,sum_price,avg_price,traffic_tj_level1,traffic_tj_level2,traffic_tj_level3,traffic_tj_level4,weather,weather_pm25,weather_temperature,gap,poi1,poi2,poi3,poi4,poi5,poi6,poi7,poi8,poi9,poi10\",\n",
       "              totalRows:0,\n",
       "              rowsPerPage:25,\n",
       "            }, {}, {\"rows\": [{\"c\": [{\"v\": 8}, {\"v\": \"2016-01-13-142\"}, {\"v\": \"2016-01-13\"}, {\"v\": 142}, {\"v\": 3}, {\"v\": 0}, {\"v\": 2387.0}, {\"v\": 19.891666666666666}, {\"v\": 2626}, {\"v\": 331}, {\"v\": 96}, {\"v\": 114}, {\"v\": 2}, {\"v\": 110.0}, {\"v\": 3.0}, {\"v\": 3}, {\"v\": 272662.31156683835}, {\"v\": -47763.19859145043}, {\"v\": -8298.804754286419}, {\"v\": 19828.32628601877}, {\"v\": 8690.55846577551}, {\"v\": 10089.099588349573}, {\"v\": -10552.40033827503}, {\"v\": -1210.3271314084895}, {\"v\": -1476.1139444844266}, {\"v\": -2306.975712859571}]}, {\"c\": [{\"v\": 59}, {\"v\": \"2016-01-02-122\"}, {\"v\": \"2016-01-02\"}, {\"v\": 122}, {\"v\": 6}, {\"v\": 0}, {\"v\": 86.0}, {\"v\": 21.5}, {\"v\": 178}, {\"v\": 31}, {\"v\": 8}, {\"v\": 3}, {\"v\": 2}, {\"v\": 100.0}, {\"v\": 13.0}, {\"v\": 0}, {\"v\": -64364.635344067996}, {\"v\": -1598.1751775255598}, {\"v\": -6410.655165648449}, {\"v\": -7173.084619374977}, {\"v\": 2429.5624518000873}, {\"v\": -1025.4069751985178}, {\"v\": 1553.9357559189664}, {\"v\": 1311.010844309015}, {\"v\": 1011.7031532815921}, {\"v\": -51.46143318573841}]}, {\"c\": [{\"v\": 56}, {\"v\": \"2016-01-06-47\"}, {\"v\": \"2016-01-06\"}, {\"v\": 47}, {\"v\": 3}, {\"v\": 0}, {\"v\": 9.0}, {\"v\": 9.0}, {\"v\": 223}, {\"v\": 17}, {\"v\": 3}, {\"v\": 3}, {\"v\": 4}, {\"v\": 55.0}, {\"v\": 7.0}, {\"v\": 0}, {\"v\": -62654.031675997874}, {\"v\": 6028.484803735022}, {\"v\": -4445.548851447891}, {\"v\": -10283.329063610014}, {\"v\": 5597.915947424435}, {\"v\": -709.9454471567989}, {\"v\": 730.2480447667864}, {\"v\": 1275.1416968467174}, {\"v\": 298.16995815888276}, {\"v\": 2850.1647988092195}]}, {\"c\": [{\"v\": 40}, {\"v\": \"2016-01-17-66\"}, {\"v\": \"2016-01-17\"}, {\"v\": 66}, {\"v\": 0}, {\"v\": 1}, {\"v\": 215.0}, {\"v\": 19.545454545454547}, {\"v\": 302}, {\"v\": 71}, {\"v\": 12}, {\"v\": 3}, {\"v\": 4}, {\"v\": 55.0}, {\"v\": 6.0}, {\"v\": 1}, {\"v\": -64931.49467540745}, {\"v\": -3401.9619504950874}, {\"v\": -4726.897273478495}, {\"v\": -7591.197201663188}, {\"v\": 1775.6541279919063}, {\"v\": -241.2248511901506}, {\"v\": -1948.922771986791}, {\"v\": 549.5085007553547}, {\"v\": 1107.8009935188818}, {\"v\": 953.1597396209328}]}, {\"c\": [{\"v\": 10}, {\"v\": \"2016-01-20-143\"}, {\"v\": \"2016-01-20\"}, {\"v\": 143}, {\"v\": 3}, {\"v\": 0}, {\"v\": 22.0}, {\"v\": 11.0}, {\"v\": 142}, {\"v\": 6}, {\"v\": 4}, {\"v\": 2}, {\"v\": 0}, {\"v\": NaN}, {\"v\": NaN}, {\"v\": 0}, {\"v\": -67611.82610801347}, {\"v\": -898.5941828023707}, {\"v\": -7635.177177613466}, {\"v\": -8032.089387741988}, {\"v\": 5210.1782665080755}, {\"v\": -2477.0750304801663}, {\"v\": 1930.2069894775955}, {\"v\": 929.9941455407438}, {\"v\": -88.20441842574546}, {\"v\": 738.2117674524503}]}, {\"c\": [{\"v\": 8}, {\"v\": \"2016-01-18-20\"}, {\"v\": \"2016-01-18\"}, {\"v\": 20}, {\"v\": 1}, {\"v\": 0}, {\"v\": 211.0}, {\"v\": 19.181818181818183}, {\"v\": 2053}, {\"v\": 158}, {\"v\": 61}, {\"v\": 65}, {\"v\": 3}, {\"v\": 74.0}, {\"v\": 3.0}, {\"v\": 0}, {\"v\": 272662.31156683835}, {\"v\": -47763.19859145043}, {\"v\": -8298.804754286419}, {\"v\": 19828.32628601877}, {\"v\": 8690.55846577551}, {\"v\": 10089.099588349573}, {\"v\": -10552.40033827503}, {\"v\": -1210.3271314084895}, {\"v\": -1476.1139444844266}, {\"v\": -2306.975712859571}]}, {\"c\": [{\"v\": 26}, {\"v\": \"2016-01-20-64\"}, {\"v\": \"2016-01-20\"}, {\"v\": 64}, {\"v\": 3}, {\"v\": 0}, {\"v\": 351.59999999999997}, {\"v\": 15.286956521739128}, {\"v\": 350}, {\"v\": 107}, {\"v\": 31}, {\"v\": 11}, {\"v\": 0}, {\"v\": NaN}, {\"v\": NaN}, {\"v\": 0}, {\"v\": -59316.19770135737}, {\"v\": -4734.678150883374}, {\"v\": -504.89162687795965}, {\"v\": -4147.46537609326}, {\"v\": -582.3998573778894}, {\"v\": 89.5481513594684}, {\"v\": -2526.64154423666}, {\"v\": -520.8476126145814}, {\"v\": 453.97207853578675}, {\"v\": 404.1440862641897}]}, {\"c\": [{\"v\": 31}, {\"v\": \"2016-01-08-57\"}, {\"v\": \"2016-01-08\"}, {\"v\": 57}, {\"v\": 5}, {\"v\": 0}, {\"v\": 264.0}, {\"v\": 16.5}, {\"v\": 629}, {\"v\": 82}, {\"v\": 20}, {\"v\": 16}, {\"v\": 2}, {\"v\": 93.0}, {\"v\": 4.0}, {\"v\": 2}, {\"v\": -55528.66884130713}, {\"v\": -3665.7877311167153}, {\"v\": 121.6808390985545}, {\"v\": -5696.160211060884}, {\"v\": -1436.1586356324203}, {\"v\": 1383.4872069013009}, {\"v\": -4241.30111214407}, {\"v\": 707.7608789795905}, {\"v\": 2489.720043658358}, {\"v\": -1447.5159216762775}]}, {\"c\": [{\"v\": 1}, {\"v\": \"2016-01-04-130\"}, {\"v\": \"2016-01-04\"}, {\"v\": 130}, {\"v\": 1}, {\"v\": 0}, {\"v\": 2194.0000000000005}, {\"v\": 9.927601809954753}, {\"v\": 1470}, {\"v\": 346}, {\"v\": 96}, {\"v\": 75}, {\"v\": 4}, {\"v\": 194.0}, {\"v\": 12.0}, {\"v\": 6}, {\"v\": 48245.89005979162}, {\"v\": -341.80638034240724}, {\"v\": 8231.712629865922}, {\"v\": 29193.673193590483}, {\"v\": 4288.374781572557}, {\"v\": -28909.26136546567}, {\"v\": -4401.506794546594}, {\"v\": -5676.7844147532805}, {\"v\": -8417.263753188867}, {\"v\": -435.3247474599002}]}, {\"c\": [{\"v\": 1}, {\"v\": \"2016-01-17-24\"}, {\"v\": \"2016-01-17\"}, {\"v\": 24}, {\"v\": 0}, {\"v\": 1}, {\"v\": 416.0}, {\"v\": 24.470588235294116}, {\"v\": 821}, {\"v\": 130}, {\"v\": 26}, {\"v\": 25}, {\"v\": 4}, {\"v\": 117.0}, {\"v\": 6.0}, {\"v\": 2}, {\"v\": 48245.89005979162}, {\"v\": -341.80638034240724}, {\"v\": 8231.712629865922}, {\"v\": 29193.673193590483}, {\"v\": 4288.374781572557}, {\"v\": -28909.26136546567}, {\"v\": -4401.506794546594}, {\"v\": -5676.7844147532805}, {\"v\": -8417.263753188867}, {\"v\": -435.3247474599002}]}, {\"c\": [{\"v\": 56}, {\"v\": \"2016-01-20-87\"}, {\"v\": \"2016-01-20\"}, {\"v\": 87}, {\"v\": 3}, {\"v\": 0}, {\"v\": 22.0}, {\"v\": 22.0}, {\"v\": 179}, {\"v\": 31}, {\"v\": 11}, {\"v\": 2}, {\"v\": 0}, {\"v\": NaN}, {\"v\": NaN}, {\"v\": 0}, {\"v\": -62654.031675997874}, {\"v\": 6028.484803735022}, {\"v\": -4445.548851447891}, {\"v\": -10283.329063610014}, {\"v\": 5597.915947424435}, {\"v\": -709.9454471567989}, {\"v\": 730.2480447667864}, {\"v\": 1275.1416968467174}, {\"v\": 298.16995815888276}, {\"v\": 2850.1647988092195}]}, {\"c\": [{\"v\": 31}, {\"v\": \"2016-01-04-19\"}, {\"v\": \"2016-01-04\"}, {\"v\": 19}, {\"v\": 1}, {\"v\": 0}, {\"v\": 18.0}, {\"v\": 18.0}, {\"v\": 219}, {\"v\": 32}, {\"v\": 6}, {\"v\": 2}, {\"v\": 2}, {\"v\": 202.0}, {\"v\": 13.0}, {\"v\": 0}, {\"v\": -55528.66884130713}, {\"v\": -3665.7877311167153}, {\"v\": 121.6808390985545}, {\"v\": -5696.160211060884}, {\"v\": -1436.1586356324203}, {\"v\": 1383.4872069013009}, {\"v\": -4241.30111214407}, {\"v\": 707.7608789795905}, {\"v\": 2489.720043658358}, {\"v\": -1447.5159216762775}]}, {\"c\": [{\"v\": 19}, {\"v\": \"2016-01-11-45\"}, {\"v\": \"2016-01-11\"}, {\"v\": 45}, {\"v\": 1}, {\"v\": 0}, {\"v\": 639.6}, {\"v\": 16.83157894736842}, {\"v\": 883}, {\"v\": 158}, {\"v\": 42}, {\"v\": 23}, {\"v\": 4}, {\"v\": 35.0}, {\"v\": 7.0}, {\"v\": 0}, {\"v\": -30607.742242210294}, {\"v\": 3946.777334152007}, {\"v\": 16612.404199587338}, {\"v\": -390.1030565311408}, {\"v\": -10345.942106647737}, {\"v\": 2559.251207386308}, {\"v\": -5740.0101766107155}, {\"v\": -4110.4755423831975}, {\"v\": -286.10008461213437}, {\"v\": -925.376266963528}]}, {\"c\": [{\"v\": 9}, {\"v\": \"2016-01-06-52\"}, {\"v\": \"2016-01-06\"}, {\"v\": 52}, {\"v\": 3}, {\"v\": 0}, {\"v\": 1286.6000000000001}, {\"v\": 25.22745098039216}, {\"v\": 555}, {\"v\": 125}, {\"v\": 30}, {\"v\": 25}, {\"v\": 4}, {\"v\": 55.0}, {\"v\": 7.0}, {\"v\": 3}, {\"v\": -47755.888529398544}, {\"v\": 7847.170880750486}, {\"v\": -130.03442563754814}, {\"v\": 3424.894692060525}, {\"v\": 8146.276411878912}, {\"v\": -7062.213652837777}, {\"v\": 3952.962970273269}, {\"v\": 604.9993960734463}, {\"v\": -2442.007538450393}, {\"v\": -1470.5099543868812}]}, {\"c\": [{\"v\": 32}, {\"v\": \"2016-01-18-88\"}, {\"v\": \"2016-01-18\"}, {\"v\": 88}, {\"v\": 1}, {\"v\": 0}, {\"v\": 18.0}, {\"v\": 9.0}, {\"v\": 116}, {\"v\": 13}, {\"v\": 2}, {\"v\": 0}, {\"v\": 2}, {\"v\": 263.0}, {\"v\": 6.0}, {\"v\": 0}, {\"v\": -61194.568389101645}, {\"v\": -1660.1976219990602}, {\"v\": -240.65955409524784}, {\"v\": -7812.03838761322}, {\"v\": -314.30945933104056}, {\"v\": 951.8262447256409}, {\"v\": -2217.22041197867}, {\"v\": 271.07585259212425}, {\"v\": 1307.6025657742475}, {\"v\": -446.3634054322516}]}, {\"c\": [{\"v\": 20}, {\"v\": \"2016-01-02-50\"}, {\"v\": \"2016-01-02\"}, {\"v\": 50}, {\"v\": 6}, {\"v\": 0}, {\"v\": 607.6}, {\"v\": 13.208695652173914}, {\"v\": 902}, {\"v\": 176}, {\"v\": 42}, {\"v\": 51}, {\"v\": 2}, {\"v\": 166.0}, {\"v\": 7.0}, {\"v\": 0}, {\"v\": -29369.221533006694}, {\"v\": -4388.810432640775}, {\"v\": 16971.091111949005}, {\"v\": 774.8843292892159}, {\"v\": -9202.180065764165}, {\"v\": 7186.4352809034135}, {\"v\": -10669.800888175441}, {\"v\": -2019.5812647136083}, {\"v\": -764.150163424909}, {\"v\": -3518.7520365660193}]}, {\"c\": [{\"v\": 34}, {\"v\": \"2016-01-01-134\"}, {\"v\": \"2016-01-01\"}, {\"v\": 134}, {\"v\": 5}, {\"v\": 0}, {\"v\": 56.4}, {\"v\": 18.8}, {\"v\": 261}, {\"v\": 51}, {\"v\": 16}, {\"v\": 18}, {\"v\": 2}, {\"v\": 128.0}, {\"v\": 8.0}, {\"v\": 1}, {\"v\": -59244.57133508226}, {\"v\": -263.082847100255}, {\"v\": 239.66515450360902}, {\"v\": -3525.03461628383}, {\"v\": 1619.9544111072937}, {\"v\": -1711.3959984852017}, {\"v\": -1192.7026155528206}, {\"v\": -1900.8571724936967}, {\"v\": 123.52838504241097}, {\"v\": 1466.2002843746586}]}, {\"c\": [{\"v\": 26}, {\"v\": \"2016-01-09-94\"}, {\"v\": \"2016-01-09\"}, {\"v\": 94}, {\"v\": 6}, {\"v\": 0}, {\"v\": 1164.8}, {\"v\": 29.866666666666667}, {\"v\": 306}, {\"v\": 94}, {\"v\": 20}, {\"v\": 20}, {\"v\": 2}, {\"v\": 139.0}, {\"v\": 9.0}, {\"v\": 8}, {\"v\": -59316.19770135737}, {\"v\": -4734.678150883374}, {\"v\": -504.89162687795965}, {\"v\": -4147.46537609326}, {\"v\": -582.3998573778894}, {\"v\": 89.5481513594684}, {\"v\": -2526.64154423666}, {\"v\": -520.8476126145814}, {\"v\": 453.97207853578675}, {\"v\": 404.1440862641897}]}, {\"c\": [{\"v\": 40}, {\"v\": \"2016-01-05-85\"}, {\"v\": \"2016-01-05\"}, {\"v\": 85}, {\"v\": 2}, {\"v\": 0}, {\"v\": 312.9}, {\"v\": 34.766666666666666}, {\"v\": 251}, {\"v\": 40}, {\"v\": 6}, {\"v\": 3}, {\"v\": 4}, {\"v\": 34.0}, {\"v\": 8.0}, {\"v\": 1}, {\"v\": -64931.49467540745}, {\"v\": -3401.9619504950874}, {\"v\": -4726.897273478495}, {\"v\": -7591.197201663188}, {\"v\": 1775.6541279919063}, {\"v\": -241.2248511901506}, {\"v\": -1948.922771986791}, {\"v\": 549.5085007553547}, {\"v\": 1107.8009935188818}, {\"v\": 953.1597396209328}]}, {\"c\": [{\"v\": 17}, {\"v\": \"2016-01-05-69\"}, {\"v\": \"2016-01-05\"}, {\"v\": 69}, {\"v\": 2}, {\"v\": 0}, {\"v\": 58.0}, {\"v\": 11.6}, {\"v\": 330}, {\"v\": 50}, {\"v\": 14}, {\"v\": 10}, {\"v\": 4}, {\"v\": 26.0}, {\"v\": 8.0}, {\"v\": 1}, {\"v\": -49290.46262875628}, {\"v\": 332.995686436503}, {\"v\": 7382.57124530197}, {\"v\": -2785.3837091940823}, {\"v\": -7976.151422779466}, {\"v\": 6388.053604559627}, {\"v\": -4493.580492291713}, {\"v\": -1129.3414217018799}, {\"v\": 112.01133856093396}, {\"v\": 1819.4816214375335}]}, {\"c\": [{\"v\": 16}, {\"v\": \"2016-01-01-62\"}, {\"v\": \"2016-01-01\"}, {\"v\": 62}, {\"v\": 5}, {\"v\": 0}, {\"v\": 304.0}, {\"v\": 16.88888888888889}, {\"v\": 300}, {\"v\": 66}, {\"v\": 18}, {\"v\": 5}, {\"v\": 2}, {\"v\": 186.0}, {\"v\": 5.0}, {\"v\": 7}, {\"v\": -58381.045899161414}, {\"v\": 4.801807314527694}, {\"v\": -3070.825984398579}, {\"v\": -4843.259162165069}, {\"v\": 186.57462609760358}, {\"v\": -342.428268756161}, {\"v\": 556.691766186206}, {\"v\": 1592.931732288435}, {\"v\": 381.26891948955694}, {\"v\": 230.33266962164006}]}, {\"c\": [{\"v\": 59}, {\"v\": \"2016-01-07-123\"}, {\"v\": \"2016-01-07\"}, {\"v\": 123}, {\"v\": 4}, {\"v\": 0}, {\"v\": 70.0}, {\"v\": 17.5}, {\"v\": 143}, {\"v\": 38}, {\"v\": 7}, {\"v\": 9}, {\"v\": 2}, {\"v\": 122.0}, {\"v\": 7.0}, {\"v\": 0}, {\"v\": -64364.635344067996}, {\"v\": -1598.1751775255598}, {\"v\": -6410.655165648449}, {\"v\": -7173.084619374977}, {\"v\": 2429.5624518000873}, {\"v\": -1025.4069751985178}, {\"v\": 1553.9357559189664}, {\"v\": 1311.010844309015}, {\"v\": 1011.7031532815921}, {\"v\": -51.46143318573841}]}, {\"c\": [{\"v\": 21}, {\"v\": \"2016-01-13-70\"}, {\"v\": \"2016-01-13\"}, {\"v\": 70}, {\"v\": 3}, {\"v\": 0}, {\"v\": 1051.9}, {\"v\": 17.53166666666667}, {\"v\": 804}, {\"v\": 125}, {\"v\": 35}, {\"v\": 35}, {\"v\": 2}, {\"v\": 85.0}, {\"v\": 3.0}, {\"v\": 0}, {\"v\": -7961.091132263672}, {\"v\": -11508.74128031313}, {\"v\": -23975.336672946476}, {\"v\": 6447.47422404655}, {\"v\": 15754.432292092706}, {\"v\": -10370.317743485248}, {\"v\": -6619.726056711029}, {\"v\": 2503.8242835273977}, {\"v\": -4072.604629645091}, {\"v\": 5788.363479682356}]}, {\"c\": [{\"v\": 23}, {\"v\": \"2016-01-08-135\"}, {\"v\": \"2016-01-08\"}, {\"v\": 135}, {\"v\": 5}, {\"v\": 0}, {\"v\": 4670.9}, {\"v\": 16.985090909090907}, {\"v\": 2941}, {\"v\": 874}, {\"v\": 223}, {\"v\": 182}, {\"v\": 2}, {\"v\": 120.0}, {\"v\": 4.0}, {\"v\": 18}, {\"v\": 304387.67717388156}, {\"v\": -40711.060039502045}, {\"v\": -17701.656937359887}, {\"v\": 36428.55657785648}, {\"v\": -176.59349946782189}, {\"v\": -3677.6634354472153}, {\"v\": 7064.050560672347}, {\"v\": 4729.977199128269}, {\"v\": 17321.811274627147}, {\"v\": 3618.7178519301806}]}, {\"c\": [{\"v\": 38}, {\"v\": \"2016-01-10-89\"}, {\"v\": \"2016-01-10\"}, {\"v\": 89}, {\"v\": 0}, {\"v\": 1}, {\"v\": 221.0}, {\"v\": 20.09090909090909}, {\"v\": 359}, {\"v\": 101}, {\"v\": 37}, {\"v\": 13}, {\"v\": 8}, {\"v\": 183.0}, {\"v\": 7.0}, {\"v\": 1}, {\"v\": -55675.97168334918}, {\"v\": 197.55749255608782}, {\"v\": 1409.8597901207015}, {\"v\": -5526.461837325348}, {\"v\": -1318.2119825386803}, {\"v\": 441.98451441921895}, {\"v\": -1170.4813351876405}, {\"v\": 972.3741228581148}, {\"v\": 1210.753183088647}, {\"v\": 964.3285146391023}]}], \"cols\": [{\"type\": \"number\", \"id\": \"district_id\", \"label\": \"district_id\"}, {\"type\": \"string\", \"id\": \"timeslot\", \"label\": \"timeslot\"}, {\"type\": \"string\", \"id\": \"date\", \"label\": \"date\"}, {\"type\": \"number\", \"id\": \"timeofday_slot\", \"label\": \"timeofday_slot\"}, {\"type\": \"number\", \"id\": \"day_in_week\", \"label\": \"day_in_week\"}, {\"type\": \"number\", \"id\": \"is_sunday\", \"label\": \"is_sunday\"}, {\"type\": \"number\", \"id\": \"sum_price\", \"label\": \"sum_price\"}, {\"type\": \"number\", \"id\": \"avg_price\", \"label\": \"avg_price\"}, {\"type\": \"number\", \"id\": \"traffic_tj_level1\", \"label\": \"traffic_tj_level1\"}, {\"type\": \"number\", \"id\": \"traffic_tj_level2\", \"label\": \"traffic_tj_level2\"}, {\"type\": \"number\", \"id\": \"traffic_tj_level3\", \"label\": \"traffic_tj_level3\"}, {\"type\": \"number\", \"id\": \"traffic_tj_level4\", \"label\": \"traffic_tj_level4\"}, {\"type\": \"number\", \"id\": \"weather\", \"label\": \"weather\"}, {\"type\": \"number\", \"id\": \"weather_pm25\", \"label\": \"weather_pm25\"}, {\"type\": \"number\", \"id\": \"weather_temperature\", \"label\": \"weather_temperature\"}, {\"type\": \"number\", \"id\": \"gap\", \"label\": \"gap\"}, {\"type\": \"number\", \"id\": \"poi1\", \"label\": \"poi1\"}, {\"type\": \"number\", \"id\": \"poi2\", \"label\": \"poi2\"}, {\"type\": \"number\", \"id\": \"poi3\", \"label\": \"poi3\"}, {\"type\": \"number\", \"id\": \"poi4\", \"label\": \"poi4\"}, {\"type\": \"number\", \"id\": \"poi5\", \"label\": \"poi5\"}, {\"type\": \"number\", \"id\": \"poi6\", \"label\": \"poi6\"}, {\"type\": \"number\", \"id\": \"poi7\", \"label\": \"poi7\"}, {\"type\": \"number\", \"id\": \"poi8\", \"label\": \"poi8\"}, {\"type\": \"number\", \"id\": \"poi9\", \"label\": \"poi9\"}, {\"type\": \"number\", \"id\": \"poi10\", \"label\": \"poi10\"}]});\n",
       "        }\n",
       "      );\n",
       "    </script>\n",
       "  "
      ],
      "text/plain": [
       "Table datalab-projects-1331:xjk_algo_comp.future_gaps_final1"
      ]
     },
     "execution_count": 9,
     "metadata": {},
     "output_type": "execute_result"
    }
   ],
   "source": [
    "all_data_df = pd.DataFrame(all_data)\n",
    "all_data_df\n",
    "all_data_df['traffic_tj_level1'] = all_data_df['traffic_tj_level1'].fillna(0).astype('int64')\n",
    "all_data_df['traffic_tj_level2'] = all_data_df['traffic_tj_level2'].fillna(0).astype('int64')\n",
    "all_data_df['traffic_tj_level3'] = all_data_df['traffic_tj_level3'].fillna(0).astype('int64')\n",
    "all_data_df['traffic_tj_level4'] = all_data_df['traffic_tj_level4'].fillna(0).astype('int64')\n",
    "all_data_df['weather'] = all_data_df['weather'].fillna(0).astype('int64')\n",
    "\n",
    "schema = bq.Schema([\n",
    "    {'name': 'district_id', 'type': 'INTEGER'},\n",
    "    {'name': 'timeslot', 'type': 'STRING'},\n",
    "    {'name': 'date', 'type': 'STRING'},\n",
    "    {'name': 'timeofday_slot', 'type': 'INTEGER'},\n",
    "    {'name': 'day_in_week', 'type': 'INTEGER'},\n",
    "    {'name': 'is_sunday', 'type': 'INTEGER'},\n",
    "    {'name': 'sum_price', 'type': 'FLOAT'},\n",
    "    {'name': 'avg_price', 'type': 'FLOAT'},\n",
    "    {'name': 'traffic_tj_level1', 'type': 'INTEGER'},\n",
    "    {'name': 'traffic_tj_level2', 'type': 'INTEGER'},\n",
    "    {'name': 'traffic_tj_level3', 'type': 'INTEGER'},\n",
    "    {'name': 'traffic_tj_level4', 'type': 'INTEGER'},\n",
    "    {'name': 'weather', 'type': 'INTEGER'},\n",
    "    {'name': 'weather_pm25', 'type': 'FLOAT'},\n",
    "    {'name': 'weather_temperature', 'type': 'FLOAT'},\n",
    "    {'name': 'gap', 'type': 'INTEGER'}\n",
    "] + poi_schema)\n",
    "table = bq.Table('datalab-projects-1331:xjk_algo_comp.future_gaps_final1')\n",
    "if table.exists():\n",
    "  table.delete()\n",
    "\n",
    "table.create(schema)\n",
    "table.insert_data(all_data_df)"
   ]
  },
  {
   "cell_type": "markdown",
   "metadata": {},
   "source": [
    "# Previous Gap\n",
    "Add `previous_gap` field to data."
   ]
  },
  {
   "cell_type": "code",
   "execution_count": 10,
   "metadata": {
    "collapsed": true
   },
   "outputs": [],
   "source": [
    "%%sql --module q\n",
    "\n",
    "SELECT *\n",
    "FROM [datalab-projects-1331:xjk_algo_comp.future_gaps_final1]\n",
    "ORDER BY timeslot, district_id"
   ]
  },
  {
   "cell_type": "code",
   "execution_count": 11,
   "metadata": {
    "collapsed": false
   },
   "outputs": [
    {
     "name": "stdout",
     "output_type": "stream",
     "text": [
      "there are 74058 rows\n",
      "processed 0 rows\n",
      "processed 5000 rows\n",
      "processed 10000 rows\n",
      "processed 15000 rows\n",
      "processed 20000 rows\n",
      "processed 25000 rows\n",
      "processed 30000 rows\n",
      "processed 35000 rows\n",
      "processed 40000 rows\n",
      "processed 45000 rows\n",
      "processed 50000 rows\n",
      "processed 55000 rows\n",
      "processed 60000 rows\n",
      "processed 65000 rows\n",
      "processed 70000 rows\n"
     ]
    }
   ],
   "source": [
    "query = bq.Query(q)\n",
    "tableresult = query.results()\n",
    "\n",
    "previous_gaps = {}\n",
    "print 'there are {} rows'.format(tableresult.length)\n",
    "for rcounter, row in enumerate(tableresult):\n",
    "  previous_gaps['{}:{}'.format(row['timeslot'], row['district_id'])] = row['gap']\n",
    "  if rcounter % 5000 == 0:\n",
    "    print 'processed {} rows'.format(rcounter)"
   ]
  },
  {
   "cell_type": "code",
   "execution_count": null,
   "metadata": {
    "collapsed": false
   },
   "outputs": [
    {
     "name": "stdout",
     "output_type": "stream",
     "text": [
      "there are 74058 rows\n",
      "processed 0 rows\n",
      "processed 5000 rows\n",
      "processed 10000 rows\n",
      "processed 15000 rows\n",
      "processed 20000 rows\n",
      "processed 25000 rows\n",
      "processed 30000 rows\n",
      "processed 35000 rows\n",
      "processed 40000 rows\n",
      "processed 45000 rows\n",
      "processed 50000 rows\n",
      "processed 55000 rows\n",
      "processed 60000 rows\n",
      "processed 65000 rows\n",
      "processed 70000 rows\n"
     ]
    }
   ],
   "source": [
    "all_data = []\n",
    "print 'there are {} rows'.format(tableresult.length)\n",
    "for rcounter, row in enumerate(tableresult):\n",
    "  timeslot_r = map(lambda x: int(x), row['timeslot'].split('-'))\n",
    "  for i in range(prev_n_range):\n",
    "    prev_n = i+1\n",
    "    slot = timeslot_r[3] - 1\n",
    "    date_obj = date(timeslot_r[0], timeslot_r[1], timeslot_r[2])\n",
    "    if slot <= 0:\n",
    "      slot = 144\n",
    "      date_obj = date_obj - timedelta(days=1)\n",
    "    prev_timestamp = '{}-{}-{}-{}'.format(\n",
    "      date_obj.year, str(date_obj.month).zfill(2), str(date_obj.day).zfill(2), slot)\n",
    "    prev_index = '{}:{}'.format(prev_timestamp, row['district_id'])\n",
    "    row['previous_gap{}'.format(prev_n)] = 0\n",
    "    if prev_index in previous_gaps:\n",
    "      row['previous_gap{}'.format(prev_n)] = previous_gaps[prev_index]\n",
    "  all_data.append(row)\n",
    "  if rcounter % 5000 == 0:\n",
    "    print 'processed {} rows'.format(rcounter)"
   ]
  },
  {
   "cell_type": "code",
   "execution_count": null,
   "metadata": {
    "collapsed": false
   },
   "outputs": [],
   "source": [
    "schema = bq.Schema([\n",
    "    {'name': 'district_id', 'type': 'INTEGER'},\n",
    "    {'name': 'timeslot', 'type': 'STRING'},\n",
    "    {'name': 'date', 'type': 'STRING'},\n",
    "    {'name': 'timeofday_slot', 'type': 'INTEGER'},\n",
    "    {'name': 'day_in_week', 'type': 'INTEGER'},\n",
    "    {'name': 'is_sunday', 'type': 'INTEGER'},\n",
    "    {'name': 'sum_price', 'type': 'FLOAT'},\n",
    "    {'name': 'avg_price', 'type': 'FLOAT'},\n",
    "    {'name': 'traffic_tj_level1', 'type': 'INTEGER'},\n",
    "    {'name': 'traffic_tj_level2', 'type': 'INTEGER'},\n",
    "    {'name': 'traffic_tj_level3', 'type': 'INTEGER'},\n",
    "    {'name': 'traffic_tj_level4', 'type': 'INTEGER'},\n",
    "    {'name': 'weather', 'type': 'INTEGER'},\n",
    "    {'name': 'weather_pm25', 'type': 'FLOAT'},\n",
    "    {'name': 'weather_temperature', 'type': 'FLOAT'},\n",
    "    {'name': 'gap', 'type': 'INTEGER'}\n",
    "] + poi_schema + prev_gap_schema)\n",
    "table = bq.Table('datalab-projects-1331:xjk_algo_comp.future_gaps_final2')\n",
    "if table.exists():\n",
    "  table.delete()\n",
    "table.create(schema)\n",
    "table.insert_data(all_data)"
   ]
  },
  {
   "cell_type": "code",
   "execution_count": null,
   "metadata": {
    "collapsed": true
   },
   "outputs": [],
   "source": []
  }
 ],
 "metadata": {
  "kernelspec": {
   "display_name": "Python 2",
   "language": "python",
   "name": "python2"
  },
  "language_info": {
   "codemirror_mode": {
    "name": "ipython",
    "version": 2
   },
   "file_extension": ".py",
   "mimetype": "text/x-python",
   "name": "python",
   "nbconvert_exporter": "python",
   "pygments_lexer": "ipython2",
   "version": "2.7.9"
  }
 },
 "nbformat": 4,
 "nbformat_minor": 0
}
