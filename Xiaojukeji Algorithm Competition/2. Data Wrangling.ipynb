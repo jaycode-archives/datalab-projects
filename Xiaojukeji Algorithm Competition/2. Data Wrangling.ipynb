{
 "cells": [
  {
   "cell_type": "markdown",
   "metadata": {},
   "source": [
    "Recovered query from previous version that disappeared:"
   ]
  },
  {
   "cell_type": "code",
   "execution_count": null,
   "metadata": {
    "collapsed": true
   },
   "outputs": [],
   "source": [
    "%%sql --module query\n",
    "\n",
    "SELECT FIRST(gaps.district_id) AS district_id, FIRST(gaps.timeslot) AS timeslot, FIRST(gaps.date) AS date,\n",
    "  FIRST(gaps.day_in_week) AS day_in_week, FIRST(gaps.timeofday_slot) AS timeofday_slot,\n",
    "  FIRST(gaps.sum_price) AS sum_price, FIRST(gaps.avg_price) AS avg_price, FIRST(gaps.gap) AS gap,\n",
    "  FIRST(pois.f1), FIRST(pois.f1_1), FIRST(pois.f1_10), FIRST(pois.f1_11), FIRST(pois.f1_2), \n",
    "  FIRST(pois.f1_3), FIRST(pois.f1_4), FIRST(pois.f1_5), FIRST(pois.f1_6), FIRST(pois.f1_7),\n",
    "  FIRST(pois.f1_8), FIRST(pois.f1_9), FIRST(pois.f10_1), FIRST(pois.f11), FIRST(pois.f11_1),\n",
    "  FIRST(pois.f11_2), FIRST(pois.f11_3), FIRST(pois.f11_4), FIRST(pois.f11_5), FIRST(pois.f11_6),\n",
    "  FIRST(pois.f11_7), FIRST(pois.f11_8), FIRST(pois.f12), FIRST(pois.f13_1), FIRST(pois.f13_2),\n",
    "  FIRST(pois.f13_3), FIRST(pois.f13_4), FIRST(pois.f13_5), FIRST(pois.f13_6), FIRST(pois.f13_7),\n",
    "  FIRST(pois.f13_8), FIRST(pois.f14), FIRST(pois.f14_1), FIRST(pois.f14_10), FIRST(pois.f14_2), \n",
    "  FIRST(pois.f14_3), FIRST(pois.f14_4), FIRST(pois.f14_5), FIRST(pois.f14_6), FIRST(pois.f14_7), \n",
    "  FIRST(pois.f14_8), FIRST(pois.f14_9), FIRST(pois.f15), FIRST(pois.f15_1), FIRST(pois.f15_2), \n",
    "  FIRST(pois.f15_3), FIRST(pois.f15_4), FIRST(pois.f15_5), FIRST(pois.f15_6), FIRST(pois.f15_7), \n",
    "  FIRST(pois.f15_8), FIRST(pois.f16), FIRST(pois.f16_1), FIRST(pois.f16_10), FIRST(pois.f16_11), \n",
    "  FIRST(pois.f16_12), FIRST(pois.f16_2), FIRST(pois.f16_3), FIRST(pois.f16_4), FIRST(pois.f16_5),\n",
    "  FIRST(pois.f16_6), FIRST(pois.f16_7), FIRST(pois.f16_8), FIRST(pois.f16_9), FIRST(pois.f17), \n",
    "  FIRST(pois.f17_1), FIRST(pois.f17_2), FIRST(pois.f17_3), FIRST(pois.f17_4), FIRST(pois.f17_5),\n",
    "  FIRST(pois.f18), FIRST(pois.f19), FIRST(pois.f19_1), FIRST(pois.f19_2), FIRST(pois.f19_3),\n",
    "  FIRST(pois.f19_4), FIRST(pois.f2_1), FIRST(pois.f2_10), FIRST(pois.f2_11), FIRST(pois.f2_12), \n",
    "  FIRST(pois.f2_13), FIRST(pois.f2_2), FIRST(pois.f2_3), FIRST(pois.f2_4), FIRST(pois.f2_5), \n",
    "  FIRST(pois.f2_6), FIRST(pois.f2_7), FIRST(pois.f2_8), FIRST(pois.f2_9), FIRST(pois.f20),\n",
    "  FIRST(pois.f20_1), FIRST(pois.f20_2), FIRST(pois.f20_3), FIRST(pois.f20_4), FIRST(pois.f20_5),\n",
    "  FIRST(pois.f20_6), FIRST(pois.f20_7), FIRST(pois.f20_8), FIRST(pois.f20_9), FIRST(pois.f21_1), \n",
    "  FIRST(pois.f21_2), FIRST(pois.f21_4), FIRST(pois.f22), FIRST(pois.f22_1), FIRST(pois.f22_2), \n",
    "  FIRST(pois.f22_3), FIRST(pois.f22_4), FIRST(pois.f22_5), FIRST(pois.f22_6), FIRST(pois.f23), \n",
    "  FIRST(pois.f23_1), FIRST(pois.f23_2), FIRST(pois.f23_3), FIRST(pois.f23_4), FIRST(pois.f23_5), \n",
    "  FIRST(pois.f23_6), FIRST(pois.f24), FIRST(pois.f24_1), FIRST(pois.f24_2), FIRST(pois.f24_3), \n",
    "  FIRST(pois.f25), FIRST(pois.f25_1), FIRST(pois.f25_2), FIRST(pois.f25_3), FIRST(pois.f25_4), \n",
    "  FIRST(pois.f25_5), FIRST(pois.f25_6), FIRST(pois.f25_7), FIRST(pois.f25_8), FIRST(pois.f25_9), \n",
    "  FIRST(pois.f3), FIRST(pois.f3_1), FIRST(pois.f3_2), FIRST(pois.f3_3), FIRST(pois.f3_4), \n",
    "  FIRST(pois.f3_5), FIRST(pois.f4), FIRST(pois.f4_1), FIRST(pois.f4_10), FIRST(pois.f4_11), \n",
    "  FIRST(pois.f4_12), FIRST(pois.f4_13), FIRST(pois.f4_14), FIRST(pois.f4_15), FIRST(pois.f4_16), \n",
    "  FIRST(pois.f4_17), FIRST(pois.f4_18), FIRST(pois.f4_2), FIRST(pois.f4_3), FIRST(pois.f4_4), \n",
    "  FIRST(pois.f4_5), FIRST(pois.f4_6), FIRST(pois.f4_7), FIRST(pois.f4_8), FIRST(pois.f4_9), \n",
    "  FIRST(pois.f5), FIRST(pois.f5_1), FIRST(pois.f5_2), FIRST(pois.f5_3), FIRST(pois.f5_4), \n",
    "  FIRST(pois.f6), FIRST(pois.f6_1), FIRST(pois.f6_2), FIRST(pois.f6_3), FIRST(pois.f6_4), \n",
    "  FIRST(pois.f7), FIRST(pois.f7_1), FIRST(pois.f7_2), FIRST(pois.f7_3), FIRST(pois.f8), \n",
    "  FIRST(pois.f8_1), FIRST(pois.f8_2), FIRST(pois.f8_3), FIRST(pois.f8_4), FIRST(pois.f8_5), \n",
    "  FIRST(pois.f9_1_1),\n",
    "  FIRST(weather.weather) AS weather,\n",
    "  FIRST(weather.temperature) AS weather_temperature, FIRST(weather.pm25) AS weather_pm25,\n",
    "  FIRST(traffic.tj_level1) AS traffic_tj_level1, FIRST(traffic.tj_level2) AS traffic_tj_level2,\n",
    "  FIRST(traffic.tj_level3) AS traffic_tj_level3, FIRST(traffic.tj_level4) AS traffic_tj_level4\n",
    "FROM [datalab-projects-1331:xjk_algo_comp.gaps] as gaps\n",
    "LEFT JOIN [datalab-projects-1331:xjk_algo_comp.districts] as districts\n",
    "  ON districts.district_id = gaps.district_id\n",
    "LEFT JOIN [datalab-projects-1331:xjk_algo_comp.pois] as pois\n",
    "  ON pois.district_hash = districts.district_hash\n",
    "LEFT JOIN [datalab-projects-1331:xjk_algo_comp.weather] as weather\n",
    "  ON weather.timeslot = gaps.timeslot\n",
    "LEFT JOIN [datalab-projects-1331:xjk_algo_comp.traffic] as traffic\n",
    "  ON traffic.timeslot = gaps.timeslot\n",
    "  AND traffic.district_hash = districts.district_hash\n",
    "GROUP BY gaps.district_id, gaps.timeslot"
   ]
  },
  {
   "cell_type": "code",
   "execution_count": null,
   "metadata": {
    "collapsed": true
   },
   "outputs": [],
   "source": []
  }
 ],
 "metadata": {
  "kernelspec": {
   "display_name": "Python 2",
   "language": "python",
   "name": "python2"
  },
  "language_info": {
   "codemirror_mode": {
    "name": "ipython",
    "version": 2
   },
   "file_extension": ".py",
   "mimetype": "text/x-python",
   "name": "python",
   "nbconvert_exporter": "python",
   "pygments_lexer": "ipython2",
   "version": "2.7.9"
  }
 },
 "nbformat": 4,
 "nbformat_minor": 0
}
