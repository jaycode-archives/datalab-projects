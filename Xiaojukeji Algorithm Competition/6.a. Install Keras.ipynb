{
 "cells": [
  {
   "cell_type": "code",
   "execution_count": 1,
   "metadata": {
    "collapsed": false
   },
   "outputs": [
    {
     "name": "stdout",
     "output_type": "stream",
     "text": [
      "Downloading/unpacking keras\n",
      "  Running setup.py (path:/tmp/pip-build-QjkjTm/keras/setup.py) egg_info for package keras\n",
      "    \n",
      "Downloading/unpacking theano (from keras)\n",
      "  Running setup.py (path:/tmp/pip-build-QjkjTm/theano/setup.py) egg_info for package theano\n",
      "    \n",
      "    warning: manifest_maker: MANIFEST.in, line 9: 'recursive-include' expects <dir> <pattern1> <pattern2> ...\n",
      "    \n",
      "Requirement already satisfied (use --upgrade to upgrade): pyyaml in /usr/local/lib/python2.7/dist-packages (from keras)\n",
      "Requirement already satisfied (use --upgrade to upgrade): six in /usr/local/lib/python2.7/dist-packages (from keras)\n",
      "Requirement already satisfied (use --upgrade to upgrade): numpy>=1.7.1 in /usr/local/lib/python2.7/dist-packages (from theano->keras)\n",
      "Requirement already satisfied (use --upgrade to upgrade): scipy>=0.11 in /usr/local/lib/python2.7/dist-packages (from theano->keras)\n",
      "Installing collected packages: keras, theano\n",
      "  Running setup.py install for keras\n",
      "    \n",
      "  Could not find .egg-info directory in install record for keras\n",
      "  Running setup.py install for theano\n",
      "    changing mode of build/scripts-2.7/theano-cache from 644 to 755\n",
      "    changing mode of build/scripts-2.7/theano-nose from 644 to 755\n",
      "    changing mode of build/scripts-2.7/theano-test from 644 to 755\n",
      "    \n",
      "    warning: manifest_maker: MANIFEST.in, line 9: 'recursive-include' expects <dir> <pattern1> <pattern2> ...\n",
      "    \n",
      "    changing mode of /usr/local/bin/theano-nose to 755\n",
      "    changing mode of /usr/local/bin/theano-cache to 755\n",
      "    changing mode of /usr/local/bin/theano-test to 755\n",
      "  Could not find .egg-info directory in install record for theano (from keras)\n",
      "Successfully installed keras theano\n",
      "Cleaning up...\n"
     ]
    }
   ],
   "source": [
    "%%bash\n",
    "pip install keras"
   ]
  },
  {
   "cell_type": "code",
   "execution_count": null,
   "metadata": {
    "collapsed": false
   },
   "outputs": [],
   "source": [
    "%bash\n",
    "apt-get install hdf5\n",
    "pip install h5py"
   ]
  },
  {
   "cell_type": "code",
   "execution_count": 7,
   "metadata": {
    "collapsed": false
   },
   "outputs": [
    {
     "ename": "ImportError",
     "evalue": "No module named h5py",
     "output_type": "error",
     "traceback": [
      "\u001b[1;31m\u001b[0m",
      "\u001b[1;31mImportError\u001b[0mTraceback (most recent call last)",
      "\u001b[1;32m<ipython-input-7-d2492aa8f3bd>\u001b[0m in \u001b[0;36m<module>\u001b[1;34m()\u001b[0m\n\u001b[0;32m      1\u001b[0m \u001b[1;32mimport\u001b[0m \u001b[0mkeras\u001b[0m\u001b[1;33m\u001b[0m\u001b[0m\n\u001b[0;32m      2\u001b[0m \u001b[0mkeras\u001b[0m\u001b[1;33m.\u001b[0m\u001b[0m__version__\u001b[0m\u001b[1;33m\u001b[0m\u001b[0m\n\u001b[1;32m----> 3\u001b[1;33m \u001b[1;32mimport\u001b[0m \u001b[0mh5py\u001b[0m\u001b[1;33m\u001b[0m\u001b[0m\n\u001b[0m\u001b[0;32m      4\u001b[0m \u001b[0mh5py\u001b[0m\u001b[1;33m.\u001b[0m\u001b[0m__version__\u001b[0m\u001b[1;33m\u001b[0m\u001b[0m\n",
      "\u001b[1;31mImportError\u001b[0m: No module named h5py"
     ]
    }
   ],
   "source": [
    "import keras\n",
    "keras.__version__ \n",
    "import h5py\n",
    "h5py.__version__"
   ]
  },
  {
   "cell_type": "code",
   "execution_count": 3,
   "metadata": {
    "collapsed": false
   },
   "outputs": [
    {
     "name": "stdout",
     "output_type": "stream",
     "text": [
      "before\n",
      "{\n",
      "    \"image_dim_ordering\": \"th\", \n",
      "    \"epsilon\": 1e-07, \n",
      "    \"floatx\": \"float32\", \n",
      "    \"backend\": \"theano\"\n",
      "}\n",
      "after\n",
      "{\n",
      "    \"image_dim_ordering\": \"th\", \n",
      "    \"epsilon\": 1e-07, \n",
      "    \"floatx\": \"float32\", \n",
      "    \"backend\": \"tensorflow\"\n",
      "}"
     ]
    }
   ],
   "source": [
    "%%bash\n",
    "echo \"before\"\n",
    "cat ~/.keras/keras.json\n",
    "sed -i -e 's/theano/tensorflow/g' ~/.keras/keras.json\n",
    "echo \"\"\n",
    "echo \"after\"\n",
    "cat ~/.keras/keras.json"
   ]
  }
 ],
 "metadata": {
  "kernelspec": {
   "display_name": "Python 2",
   "language": "python",
   "name": "python2"
  },
  "language_info": {
   "codemirror_mode": {
    "name": "ipython",
    "version": 2
   },
   "file_extension": ".py",
   "mimetype": "text/x-python",
   "name": "python",
   "nbconvert_exporter": "python",
   "pygments_lexer": "ipython2",
   "version": "2.7.9"
  }
 },
 "nbformat": 4,
 "nbformat_minor": 0
}
