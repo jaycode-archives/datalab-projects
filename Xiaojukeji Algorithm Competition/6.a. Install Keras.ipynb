{
 "cells": [
  {
   "cell_type": "code",
   "execution_count": 9,
   "metadata": {
    "collapsed": false
   },
   "outputs": [
    {
     "name": "stdout",
     "output_type": "stream",
     "text": [
      "Downloading/unpacking keras\n",
      "  Running setup.py (path:/tmp/pip-build-oJ8MhJ/keras/setup.py) egg_info for package keras\n",
      "    \n",
      "Downloading/unpacking theano (from keras)\n",
      "  Running setup.py (path:/tmp/pip-build-oJ8MhJ/theano/setup.py) egg_info for package theano\n",
      "    \n",
      "    warning: manifest_maker: MANIFEST.in, line 9: 'recursive-include' expects <dir> <pattern1> <pattern2> ...\n",
      "    \n",
      "Requirement already satisfied (use --upgrade to upgrade): pyyaml in /usr/local/lib/python2.7/dist-packages (from keras)\n",
      "Requirement already satisfied (use --upgrade to upgrade): six in /usr/local/lib/python2.7/dist-packages (from keras)\n",
      "Requirement already satisfied (use --upgrade to upgrade): numpy>=1.7.1 in /usr/local/lib/python2.7/dist-packages (from theano->keras)\n",
      "Requirement already satisfied (use --upgrade to upgrade): scipy>=0.11 in /usr/local/lib/python2.7/dist-packages (from theano->keras)\n",
      "Installing collected packages: keras, theano\n",
      "  Running setup.py install for keras\n",
      "    \n",
      "  Could not find .egg-info directory in install record for keras\n",
      "  Running setup.py install for theano\n",
      "    changing mode of build/scripts-2.7/theano-cache from 644 to 755\n",
      "    changing mode of build/scripts-2.7/theano-nose from 644 to 755\n",
      "    changing mode of build/scripts-2.7/theano-test from 644 to 755\n",
      "    \n",
      "    warning: manifest_maker: MANIFEST.in, line 9: 'recursive-include' expects <dir> <pattern1> <pattern2> ...\n",
      "    \n",
      "    changing mode of /usr/local/bin/theano-test to 755\n",
      "    changing mode of /usr/local/bin/theano-cache to 755\n",
      "    changing mode of /usr/local/bin/theano-nose to 755\n",
      "  Could not find .egg-info directory in install record for theano (from keras)\n",
      "Successfully installed keras theano\n",
      "Cleaning up...\n"
     ]
    }
   ],
   "source": [
    "%%bash\n",
    "pip install keras"
   ]
  },
  {
   "cell_type": "code",
   "execution_count": 11,
   "metadata": {
    "collapsed": false
   },
   "outputs": [
    {
     "data": {
      "text/plain": [
       "'1.0.4'"
      ]
     },
     "execution_count": 11,
     "metadata": {},
     "output_type": "execute_result"
    }
   ],
   "source": [
    "import keras\n",
    "keras.__version__ "
   ]
  },
  {
   "cell_type": "code",
   "execution_count": 16,
   "metadata": {
    "collapsed": false
   },
   "outputs": [
    {
     "name": "stdout",
     "output_type": "stream",
     "text": [
      "before\\n\n",
      "{\n",
      "    \"image_dim_ordering\": \"th\", \n",
      "    \"epsilon\": 1e-07, \n",
      "    \"floatx\": \"float32\", \n",
      "    \"backend\": \"tensorflow\"\n",
      "}after\\n\n",
      "{\n",
      "    \"image_dim_ordering\": \"th\", \n",
      "    \"epsilon\": 1e-07, \n",
      "    \"floatx\": \"float32\", \n",
      "    \"backend\": \"tensorflow\"\n",
      "}"
     ]
    }
   ],
   "source": [
    "%%bash\n",
    "echo \"before\"\n",
    "cat ~/.keras/keras.json\n",
    "sed -i -e 's/theano/tensorflow/g' ~/.keras/keras.json\n",
    "echo \"\"\n",
    "echo \"after\"\n",
    "cat ~/.keras/keras.json"
   ]
  },
  {
   "cell_type": "code",
   "execution_count": 3,
   "metadata": {
    "collapsed": false
   },
   "outputs": [
    {
     "ename": "ImportError",
     "evalue": "cannot import name check_estimator",
     "output_type": "error",
     "traceback": [
      "\u001b[1;31m\u001b[0m",
      "\u001b[1;31mImportError\u001b[0mTraceback (most recent call last)",
      "\u001b[1;32m<ipython-input-3-a8d3497a2a65>\u001b[0m in \u001b[0;36m<module>\u001b[1;34m()\u001b[0m\n\u001b[1;32m----> 1\u001b[1;33m \u001b[1;32mfrom\u001b[0m \u001b[0msklearn\u001b[0m\u001b[1;33m.\u001b[0m\u001b[0mutils\u001b[0m\u001b[1;33m.\u001b[0m\u001b[0mestimator_checks\u001b[0m \u001b[1;32mimport\u001b[0m \u001b[0mcheck_estimator\u001b[0m\u001b[1;33m\u001b[0m\u001b[0m\n\u001b[0m\u001b[0;32m      2\u001b[0m \u001b[1;32mfrom\u001b[0m \u001b[0msklearn\u001b[0m\u001b[1;33m.\u001b[0m\u001b[0mbase\u001b[0m \u001b[1;32mimport\u001b[0m \u001b[0mBaseEstimator\u001b[0m\u001b[1;33m,\u001b[0m \u001b[0mRegressorMixin\u001b[0m\u001b[1;33m\u001b[0m\u001b[0m\n\u001b[0;32m      3\u001b[0m \u001b[1;33m\u001b[0m\u001b[0m\n\u001b[0;32m      4\u001b[0m \u001b[1;32mclass\u001b[0m \u001b[0mCustomRegressor\u001b[0m\u001b[1;33m(\u001b[0m\u001b[0mBaseEstimator\u001b[0m\u001b[1;33m,\u001b[0m \u001b[0mRegressorMixin\u001b[0m\u001b[1;33m)\u001b[0m\u001b[1;33m:\u001b[0m\u001b[1;33m\u001b[0m\u001b[0m\n\u001b[0;32m      5\u001b[0m   \u001b[1;32mdef\u001b[0m \u001b[0m__init__\u001b[0m\u001b[1;33m(\u001b[0m\u001b[0mself\u001b[0m\u001b[1;33m)\u001b[0m\u001b[1;33m:\u001b[0m\u001b[1;33m\u001b[0m\u001b[0m\n",
      "\u001b[1;31mImportError\u001b[0m: cannot import name check_estimator"
     ]
    }
   ],
   "source": [
    "from sklearn.utils.estimator_checks import check_estimator\n",
    "from sklearn.base import BaseEstimator, RegressorMixin\n",
    "\n",
    "class CustomRegressor(BaseEstimator, RegressorMixin):\n",
    "  def __init__(self):\n",
    "    pass\n",
    "\n",
    "  def fit(self, X, y):\n",
    "#     self.classes_, indices = np.unique([\"foo\", \"bar\", \"foo\"],\n",
    "#                                     return_inverse=True)\n",
    "#     self.majority_ = np.argmax(np.bincount(indices))\n",
    "    return self\n",
    "\n",
    "  def predict(self, X):\n",
    "    # 56: gap_1_slots_ago\n",
    "    # 58: gap_2_slots_ago\n",
    "    # 60: gap_3_slots_ago\n",
    "    predictions = np.amax(np.concatenate(\n",
    "        np.ones(X.shape[0]),\n",
    "        (X[:, 56]*0.65+X[:, 58]*0.25+X[:, 60]*0.15)/2\n",
    "      )\n",
    "    )\n",
    "    \n",
    "    return predictions\n",
    "check_estimator(CustomRegressor)"
   ]
  },
  {
   "cell_type": "code",
   "execution_count": 1,
   "metadata": {
    "collapsed": false
   },
   "outputs": [
    {
     "ename": "ImportError",
     "evalue": "No module named keras.models",
     "output_type": "error",
     "traceback": [
      "\u001b[1;31m\u001b[0m",
      "\u001b[1;31mImportError\u001b[0mTraceback (most recent call last)",
      "\u001b[1;32m<ipython-input-1-cf6e072412f4>\u001b[0m in \u001b[0;36m<module>\u001b[1;34m()\u001b[0m\n\u001b[1;32m----> 1\u001b[1;33m \u001b[1;32mfrom\u001b[0m \u001b[0mkeras\u001b[0m\u001b[1;33m.\u001b[0m\u001b[0mmodels\u001b[0m \u001b[1;32mimport\u001b[0m \u001b[0mSequential\u001b[0m\u001b[1;33m\u001b[0m\u001b[0m\n\u001b[0m\u001b[0;32m      2\u001b[0m \u001b[1;33m\u001b[0m\u001b[0m\n\u001b[0;32m      3\u001b[0m \u001b[0mmodel\u001b[0m \u001b[1;33m=\u001b[0m \u001b[0mSequential\u001b[0m\u001b[1;33m(\u001b[0m\u001b[1;33m)\u001b[0m\u001b[1;33m\u001b[0m\u001b[0m\n",
      "\u001b[1;31mImportError\u001b[0m: No module named keras.models"
     ]
    }
   ],
   "source": [
    "from keras.models import Sequential\n",
    "\n",
    "model = Sequential()"
   ]
  },
  {
   "cell_type": "code",
   "execution_count": null,
   "metadata": {
    "collapsed": true
   },
   "outputs": [],
   "source": [
    "def mape(predictions, targets):\n",
    "  "
   ]
  },
  {
   "cell_type": "code",
   "execution_count": null,
   "metadata": {
    "collapsed": true
   },
   "outputs": [],
   "source": [
    "class FinalAlgorithm(object):\n",
    "  def __init__():\n",
    "    lstm_cell = tf.nn.rnn_cell.BasicLSTMCell(size, forget_bias=0.0)\n",
    "    # Initial state of the LSTM memory.\n",
    "    state = tf.zeros([batch_size, lstm_cell.state_size])\n",
    "\n",
    "    loss = 0.0\n",
    "    for current_batch_of_words in words_in_dataset:      \n",
    "      # The value of state is updated after processing each batch of words.\n",
    "      output, state = lstm_cell(current_batch_of_words, state)\n",
    "\n",
    "      # The LSTM output can be used to make next word predictions\n",
    "      logits = tf.matmul(output, softmax_w) + softmax_b\n",
    "      probabilities = tf.nn.softmax(logits)\n",
    "      loss += mape(probabilities, targets)\n"
   ]
  },
  {
   "cell_type": "code",
   "execution_count": null,
   "metadata": {
    "collapsed": true
   },
   "outputs": [],
   "source": [
    "with tf.Graph().as_default(), tf.Session() as session:\n",
    "  with tf.variable_scope(\"model\", reuse=None, initializer=initializer):\n",
    "    m = FinalAlgorithm(is_training=True, config=config)\n",
    "  with tf.variable_scope(\"model\", reuse=True, initializer=initializer):\n",
    "    mvalid = FinalAlgorithm(is_training=False, config=config)\n",
    "    mtest = FinalAlgorithm(is_training=False, config=eval_config)\n",
    "\n",
    "  tf.initialize_all_variables().run()"
   ]
  }
 ],
 "metadata": {
  "kernelspec": {
   "display_name": "Python 2",
   "language": "python",
   "name": "python2"
  },
  "language_info": {
   "codemirror_mode": {
    "name": "ipython",
    "version": 2
   },
   "file_extension": ".py",
   "mimetype": "text/x-python",
   "name": "python",
   "nbconvert_exporter": "python",
   "pygments_lexer": "ipython2",
   "version": "2.7.9"
  }
 },
 "nbformat": 4,
 "nbformat_minor": 0
}
