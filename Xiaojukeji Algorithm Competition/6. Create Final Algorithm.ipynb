{
 "cells": [
  {
   "cell_type": "code",
   "execution_count": null,
   "metadata": {
    "collapsed": true
   },
   "outputs": [],
   "source": [
    "import tensorflow as tf"
   ]
  },
  {
   "cell_type": "code",
   "execution_count": null,
   "metadata": {
    "collapsed": true
   },
   "outputs": [],
   "source": [
    "def mape(predictions, targets):\n",
    "  "
   ]
  },
  {
   "cell_type": "code",
   "execution_count": null,
   "metadata": {
    "collapsed": true
   },
   "outputs": [],
   "source": [
    "class FinalAlgorithm(object):\n",
    "  lstm_cell = tf.nn.rnn_cell.BasicLSTMCell(size, forget_bias=0.0)\n",
    "  # Initial state of the LSTM memory.\n",
    "  state = tf.zeros([batch_size, lstm_cell.state_size])\n",
    "\n",
    "  loss = 0.0\n",
    "  for current_batch_of_words in words_in_dataset:      \n",
    "    # The value of state is updated after processing each batch of words.\n",
    "    output, state = lstm_cell(current_batch_of_words, state)\n",
    "\n",
    "    # The LSTM output can be used to make next word predictions\n",
    "    logits = tf.matmul(output, softmax_w) + softmax_b\n",
    "    probabilities = tf.nn.softmax(logits)\n",
    "    loss += mape(probabilities, targets)\n"
   ]
  },
  {
   "cell_type": "code",
   "execution_count": null,
   "metadata": {
    "collapsed": true
   },
   "outputs": [],
   "source": [
    "with tf.Graph().as_default(), tf.Session() as session:\n",
    "  with tf.variable_scope(\"model\", reuse=None, initializer=initializer):\n",
    "    m = PTBModel(is_training=True, config=config)\n",
    "  with tf.variable_scope(\"model\", reuse=True, initializer=initializer):\n",
    "    mvalid = PTBModel(is_training=False, config=config)\n",
    "    mtest = PTBModel(is_training=False, config=eval_config)\n",
    "\n",
    "  tf.initialize_all_variables().run()"
   ]
  }
 ],
 "metadata": {
  "kernelspec": {
   "display_name": "Python 2",
   "language": "python",
   "name": "python2"
  },
  "language_info": {
   "codemirror_mode": {
    "name": "ipython",
    "version": 2
   },
   "file_extension": ".py",
   "mimetype": "text/x-python",
   "name": "python",
   "nbconvert_exporter": "python",
   "pygments_lexer": "ipython2",
   "version": "2.7.9"
  }
 },
 "nbformat": 4,
 "nbformat_minor": 0
}
