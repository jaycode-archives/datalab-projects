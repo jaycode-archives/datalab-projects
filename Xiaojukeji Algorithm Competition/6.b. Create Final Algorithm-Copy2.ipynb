{
 "cells": [
  {
   "cell_type": "code",
   "execution_count": 2,
   "metadata": {
    "collapsed": false
   },
   "outputs": [
    {
     "name": "stderr",
     "output_type": "stream",
     "text": [
      "Using TensorFlow backend.\n"
     ]
    }
   ],
   "source": [
    "import pdb\n",
    "import numpy as np\n",
    "import gcp.bigquery as bq\n",
    "import gcp.storage as storage\n",
    "from keras.callbacks import ModelCheckpoint\n",
    "from keras import backend as K\n",
    "from keras.optimizers import SGD\n",
    "import tensorflow as tf\n",
    "import h5py\n",
    "from sklearn.preprocessing import MinMaxScaler, StandardScaler\n",
    "from sklearn.pipeline import Pipeline\n",
    "from sklearn.preprocessing import OneHotEncoder\n",
    "from keras.wrappers.scikit_learn import KerasRegressor\n",
    "from keras.models import Sequential\n",
    "from keras.layers import Dense, Activation\n",
    "import time\n",
    "from sklearn.cross_validation import StratifiedKFold\n",
    "from sklearn.cross_validation import cross_val_score\n",
    "from sklearn.grid_search import GridSearchCV\n",
    "import matplotlib.pyplot as plt\n",
    "from keras.layers import Dropout\n",
    "\n",
    "HDF_FILENAME = 'final_model2.hdf5'\n",
    "JSON_MODEL_FILENAME = 'final_model2.json'\n",
    "\n",
    "GRID_HDF_FILENAME = 'best_grid_model.hdf5'\n",
    "\n",
    "seed = 13\n",
    "np.random.seed(seed)"
   ]
  },
  {
   "cell_type": "markdown",
   "metadata": {},
   "source": [
    "# 1. Load Data"
   ]
  },
  {
   "cell_type": "code",
   "execution_count": 3,
   "metadata": {
    "collapsed": true
   },
   "outputs": [],
   "source": [
    "# Put all categorical data first for easier implementation of One Hot Encoding.\n",
    "fields_str = \"\"\"\n",
    "gap\tday_in_week\tweather_1_slots_ago\tweather_2_slots_ago\tweather_3_slots_ago\tbusy_time\t\n",
    "tj_level1_1_slots_ago\ttj_level2_1_slots_ago\ttj_level3_1_slots_ago\ttj_level4_1_slots_ago\t\n",
    "tj_level1_2_slots_ago\ttj_level2_2_slots_ago\ttj_level3_2_slots_ago\ttj_level4_2_slots_ago\t\n",
    "tj_level1_3_slots_ago\ttj_level2_3_slots_ago\ttj_level3_3_slots_ago\ttj_level4_3_slots_ago\t\n",
    "temperature_1_slots_ago\tpm25_1_slots_ago\t\n",
    "temperature_2_slots_ago\tpm25_2_slots_ago\t\n",
    "temperature_3_slots_ago\tpm25_3_slots_ago\t\n",
    "gap_1_slots_ago\tsum_price_1_slots_ago\t\n",
    "gap_2_slots_ago\tsum_price_2_slots_ago\t\n",
    "gap_3_slots_ago\tsum_price_3_slots_ago\t\n",
    "f1\tf11\tf11_1\tf11_2\tf11_3\tf11_4\tf11_5\tf11_6\tf11_7\t\n",
    "f11_8\tf13_4\tf13_8\tf14\tf14_1\tf14_10\tf14_2\tf14_3\tf14_6\tf14_8\tf15\tf15_1\t\n",
    "f15_2\tf15_3\tf15_4\tf15_6\tf15_7\tf15_8\tf16\tf16_1\tf16_10\tf16_11\tf16_12\tf16_3\t\n",
    "f16_4\tf16_6\tf17\tf17_2\tf17_3\tf17_4\tf17_5\tf19\tf19_1\tf19_2\tf19_3\tf19_4\tf1_1\t\n",
    "f1_10\tf1_11\tf1_2\tf1_3\tf1_4\tf1_5\tf1_6\tf1_7\tf1_8\tf20\tf20_1\tf20_2\t\n",
    "f20_4\tf20_5\tf20_6\tf20_7\tf20_8\tf20_9\tf21_1\tf21_2\tf22\tf22_1\tf22_2\tf22_3\t\n",
    "f22_4\tf22_5\tf23\tf23_1\tf23_2\tf23_3\tf23_4\tf23_5\tf23_6\tf24\tf24_1\tf24_2\tf24_3\t\n",
    "f25\tf25_1\tf25_3\tf25_7\tf25_8\tf25_9\tf2_1\tf2_10\tf2_11\tf2_12\tf2_13\tf2_2\t\n",
    "f2_4\tf2_5\tf2_6\tf2_7\tf2_8\tf3_1\tf3_2\tf3_3\tf4\tf4_1\tf4_10\tf4_11\t\n",
    "f4_13\tf4_14\tf4_16\tf4_17\tf4_18\tf4_2\tf4_3\tf4_5\tf4_6\tf4_7\tf4_8\tf4_9\t\n",
    "f5\tf5_1\tf5_3\tf5_4\tf6\tf6_1\tf6_2\tf6_4\tf7\tf8\tf8_1\tf8_2\tf8_3\tf8_4\t\n",
    "f8_5\n",
    "\"\"\"\n",
    "fields = map(lambda x: x.strip(), fields_str.split('\\t'))\n",
    "features = fields[1:]\n",
    "\n",
    "# Use this instead of len(features) since this variable can change\n",
    "# e.g. when one hot encoding is used and/or new features are added.\n",
    "n_features = len(features)"
   ]
  },
  {
   "cell_type": "code",
   "execution_count": 4,
   "metadata": {
    "collapsed": true
   },
   "outputs": [],
   "source": [
    "%%sql --module q_all\n",
    "\n",
    "SELECT *, HASH(CAST(district_id AS STRING) +timeslot) AS hash_value,\n",
    "  IF(ABS(HASH(CAST(district_id AS STRING) + timeslot)) % 2 == 1, 'True', 'False')\n",
    "    AS included_in_sample, IF(timeofday_slot >= 50 AND timeofday_slot <= 53, 1, 0) AS busy_time\n",
    "FROM [datalab-projects-1331:xjk_algo_comp.gaps]\n",
    "WHERE gap > 0\n",
    "\n",
    "\n",
    "# The above query randomizes its outputs."
   ]
  },
  {
   "cell_type": "code",
   "execution_count": 5,
   "metadata": {
    "collapsed": false
   },
   "outputs": [
    {
     "name": "stdout",
     "output_type": "stream",
     "text": [
      "there are 102592 rows\n",
      "processed 0 rows\n",
      "processed 5000 rows\n",
      "processed 10000 rows\n",
      "processed 15000 rows\n",
      "processed 20000 rows\n",
      "processed 25000 rows\n",
      "processed 30000 rows\n",
      "processed 35000 rows\n",
      "processed 40000 rows\n",
      "processed 45000 rows\n",
      "processed 50000 rows\n",
      "processed 55000 rows\n",
      "processed 60000 rows\n",
      "processed 65000 rows\n",
      "processed 70000 rows\n",
      "processed 75000 rows\n",
      "processed 80000 rows\n",
      "processed 85000 rows\n",
      "processed 90000 rows\n",
      "processed 95000 rows\n",
      "processed 100000 rows\n"
     ]
    }
   ],
   "source": [
    "query = bq.Query(q_all)\n",
    "tableresult = query.results()\n",
    "\n",
    "all_data = np.zeros((tableresult.length, len(fields)))\n",
    "print 'there are {} rows'.format(tableresult.length)\n",
    "for rcounter, row in enumerate(tableresult):\n",
    "  for fcounter, field in enumerate(fields):\n",
    "    all_data[rcounter, fcounter] = row[field]\n",
    "  if rcounter % 5000 == 0:\n",
    "    print 'processed {} rows'.format(rcounter)\n",
    "all_data_original = np.copy(all_data)"
   ]
  },
  {
   "cell_type": "markdown",
   "metadata": {},
   "source": [
    "# 2. Preprocess Data\n",
    "\n",
    "Note that in the end we don't use data adjusted from Preprocessing steps, but rather including the preprocessing instances in Pipeline to be applied to original data."
   ]
  },
  {
   "cell_type": "code",
   "execution_count": 6,
   "metadata": {
    "collapsed": true
   },
   "outputs": [],
   "source": [
    "all_data = np.copy(all_data_original)"
   ]
  },
  {
   "cell_type": "markdown",
   "metadata": {},
   "source": [
    "## 2.1. Impute NaN and inf values"
   ]
  },
  {
   "cell_type": "code",
   "execution_count": 7,
   "metadata": {
    "collapsed": false
   },
   "outputs": [
    {
     "name": "stdout",
     "output_type": "stream",
     "text": [
      "Checkinf for NaN and Inf\n",
      "np.nan= (array([     5,      5,     19, ..., 102591, 102591, 102591]), array([24, 25, 24, ..., 21, 22, 23]))\n",
      "is.inf= (array([], dtype=int64), array([], dtype=int64))\n",
      "np.max= nan\n",
      "Shape of old data:\n",
      "(102592, 164)\n",
      "Stats (NaN values are replaced with following means for each feature):\n",
      "[  1.47531386e+01   3.01818855e+00   3.10143084e+00   3.09452721e+00\n",
      "   3.09335324e+00   3.55680755e-02   9.25288152e+02   2.11476701e+02\n",
      "   6.39290514e+01   4.27323248e+01   9.24878845e+02   2.11314586e+02\n",
      "   6.38820215e+01   4.27167737e+01   9.24081034e+02   2.11042060e+02\n",
      "   6.38010039e+01   4.26568256e+01   6.73477959e+00   1.22643715e+02\n",
      "   6.72686319e+00   1.22560244e+02   6.72055706e+00   1.22575663e+02\n",
      "   1.49658681e+01   1.38741400e+03   1.49710991e+01   1.39304667e+03\n",
      "   1.49745991e+01   1.39496361e+03   1.63135306e+03   7.13633744e+03\n",
      "   1.28722165e+03   3.13526206e+03   3.60085879e+03   2.13496506e+04\n",
      "   1.04434925e+03   7.91680944e+03   1.61694424e+03   1.98460352e+04\n",
      "   1.82435654e+04   2.48352695e+03   1.02267129e+03   9.46645937e+00\n",
      "   2.15314420e+02   8.09984599e+01   4.52081887e+02   5.77904651e+02\n",
      "   1.52562822e+02   4.03880126e+03   4.84827374e+01   2.83854790e+03\n",
      "   5.07361366e+03   2.97105729e+02   2.62249564e+03   1.43395056e+03\n",
      "   5.28717249e+01   5.65806175e+03   4.80078369e+01   7.98514334e+03\n",
      "   4.58616341e+03   1.61599848e+03   3.39218165e+02   3.66425195e+03\n",
      "   2.40710679e+01   1.04156052e+03   5.84659148e+03   1.87298522e+02\n",
      "   1.65440718e+03   6.14575714e+03   4.54160374e+04   1.42002149e+03\n",
      "   4.71361880e+02   2.21003058e+04   9.41813601e+02   1.67864005e+02\n",
      "   1.15230135e+02   1.43449423e+03   9.40248129e+02   3.22091810e+02\n",
      "   1.79188806e+02   6.39463335e+03   7.91967502e+01   8.38664711e+01\n",
      "   3.05426602e+03   2.32738142e+04   6.25673744e+03   3.80739119e+03\n",
      "   4.48044747e+03   2.66957957e+03   2.91840563e+02   9.88863628e+03\n",
      "   3.98525869e+04   8.76341235e+00   4.79536319e+01   1.03828476e+02\n",
      "   1.60324736e+03   4.33780821e+02   1.20163195e+03   6.30159896e+02\n",
      "   1.45512854e+03   5.03721460e+02   1.23227477e+03   1.99374103e+02\n",
      "   1.00694294e+02   3.84487436e+02   1.35936447e+02   5.89746423e+02\n",
      "   3.85325591e+02   1.03185863e+03   5.80984990e+04   3.65056154e+03\n",
      "   4.05705055e+02   1.57685599e+03   3.88334373e+01   3.55910899e+02\n",
      "   1.51386330e+03   1.10226204e+03   3.49489528e+03   1.61115886e+02\n",
      "   1.28839232e+03   2.22119980e+02   3.79670957e+03   9.56128577e+02\n",
      "   3.87066866e+03   1.47771746e+02   5.85421349e+02   1.88262805e+03\n",
      "   5.54077911e+02   2.89050218e+01   2.93011795e+03   1.00764680e+02\n",
      "   1.51639718e+02   6.48868956e+03   4.61307256e+02   1.92705108e+03\n",
      "   1.60898419e+03   1.80038530e+03   1.51955726e+03   3.09390040e+02\n",
      "   1.67676391e+03   1.57454136e+03   2.29341948e+03   7.89011307e+02\n",
      "   2.17821766e+03   4.26805365e+02   5.92460718e+02   2.27775908e+02\n",
      "   1.48079420e+03   1.54491549e+02   2.17979688e+03   1.49153569e+03\n",
      "   3.52025109e+01   7.32479854e+03   1.24134318e+03   6.82556720e+02\n",
      "   3.68893383e+02   5.81649732e+03   3.09710416e+02   1.59675813e+02\n",
      "   4.39927264e+03   2.81146886e+03   2.99062692e+03   3.10910207e+01]\n",
      "Shape of new data:\n",
      "(102592, 164)\n",
      "Checkinf for NaN and Inf\n",
      "np.nan= (array([], dtype=int64), array([], dtype=int64))\n",
      "is.inf= (array([], dtype=int64), array([], dtype=int64))\n",
      "np.max= 461563.0\n"
     ]
    }
   ],
   "source": [
    "from sklearn.preprocessing import Imputer\n",
    "# Useful code to check NaN and Inf values. This is needed since these values would\n",
    "# cause \"Input contains NaN, infinity or a value too large for dtype('float32')\n",
    "# errors when left unchecked.\n",
    "print \"Checkinf for NaN and Inf\"\n",
    "print \"np.nan=\", np.where(np.isnan(all_data))\n",
    "print \"is.inf=\", np.where(np.isinf(all_data))\n",
    "print \"np.max=\", np.max(abs(all_data))\n",
    "\n",
    "# Impute\n",
    "imputer = Imputer()\n",
    "imputer.fit(all_data)\n",
    "print 'Shape of old data:'\n",
    "print all_data.shape\n",
    "print 'Stats (NaN values are replaced with following means for each feature):'\n",
    "print imputer.statistics_\n",
    "all_data = imputer.fit_transform(all_data)\n",
    "print 'Shape of new data:'\n",
    "print all_data.shape\n",
    "\n",
    "# See that NaN and Inf values replaced\n",
    "print \"Checkinf for NaN and Inf\"\n",
    "print \"np.nan=\", np.where(np.isnan(all_data))\n",
    "print \"is.inf=\", np.where(np.isinf(all_data))\n",
    "print \"np.max=\", np.max(abs(all_data))"
   ]
  },
  {
   "cell_type": "markdown",
   "metadata": {},
   "source": [
    "## 2.2. One Hot Encoding"
   ]
  },
  {
   "cell_type": "code",
   "execution_count": 8,
   "metadata": {
    "collapsed": false
   },
   "outputs": [
    {
     "name": "stdout",
     "output_type": "stream",
     "text": [
      "n_values_:\n",
      "[ 7 10 10 10]\n",
      "feature_indices_:\n",
      "[ 0  7 17 27 37]\n",
      "new number of features: 196\n"
     ]
    }
   ],
   "source": [
    "one_hot = OneHotEncoder(categorical_features=[1, 2, 3, 4], n_values=[7, 10, 10, 10])\n",
    "one_hot.fit(all_data)\n",
    "print \"n_values_:\"\n",
    "print one_hot.n_values_\n",
    "print \"feature_indices_:\"\n",
    "print one_hot.feature_indices_\n",
    "all_data = one_hot.fit_transform(all_data).todense()\n",
    "n_features = all_data.shape[1] - 1\n",
    "print 'new number of features: {}'.format(n_features)"
   ]
  },
  {
   "cell_type": "markdown",
   "metadata": {},
   "source": [
    "## 2.3. Feature Scaling"
   ]
  },
  {
   "cell_type": "code",
   "execution_count": 9,
   "metadata": {
    "collapsed": false
   },
   "outputs": [
    {
     "name": "stdout",
     "output_type": "stream",
     "text": [
      "old data:\n",
      "means: 2443.22705892, min: 0.0, max: 461563.0\n",
      "new data:\n",
      "means: 2.62116712276e-15, min: -1.94360466344, max: 62.211464139\n"
     ]
    }
   ],
   "source": [
    "scaler = StandardScaler()\n",
    "print 'old data:'\n",
    "print 'means: {}, min: {}, max: {}'.format(np.mean(all_data), np.min(all_data), np.max(all_data))\n",
    "all_data = scaler.fit_transform(all_data)\n",
    "print 'new data:'\n",
    "print 'means: {}, min: {}, max: {}'.format(np.mean(all_data), np.min(all_data), np.max(all_data))"
   ]
  },
  {
   "cell_type": "markdown",
   "metadata": {},
   "source": [
    "# 3. Split into Train and Test Data"
   ]
  },
  {
   "cell_type": "code",
   "execution_count": 10,
   "metadata": {
    "collapsed": true
   },
   "outputs": [],
   "source": [
    "# Split the originaldata into train and test sets.\n",
    "data_size = all_data_original.shape[0]\n",
    "training_size = data_size * 90/100\n",
    "indices = np.random.permutation(data_size)\n",
    "training_idx, test_idx = indices[:training_size], indices[training_size:]\n",
    "all_data_train, all_data_test = all_data_original[training_idx,:], all_data_original[test_idx,:]\n",
    "\n",
    "data_train = all_data_train[:,1:]\n",
    "targets_train = all_data_train[:,0]\n",
    "data_test = all_data_test[:,1:]\n",
    "targets_test = all_data_test[:,0]"
   ]
  },
  {
   "cell_type": "markdown",
   "metadata": {},
   "source": [
    "# 4. Model Creation"
   ]
  },
  {
   "cell_type": "markdown",
   "metadata": {},
   "source": [
    "## 4.1. Loss Function"
   ]
  },
  {
   "cell_type": "code",
   "execution_count": 11,
   "metadata": {
    "collapsed": true
   },
   "outputs": [],
   "source": [
    "def mape(y, predictions):\n",
    "  return K.mean(K.abs(y-predictions/K.clip(K.abs(y), K.epsilon(), np.inf)), axis=-1)"
   ]
  },
  {
   "cell_type": "markdown",
   "metadata": {},
   "source": [
    "## 4.2. Create Pipeline"
   ]
  },
  {
   "cell_type": "code",
   "execution_count": 12,
   "metadata": {
    "collapsed": false
   },
   "outputs": [],
   "source": [
    "def create_model(optimizer='adagrad', init='uniform'):\n",
    "  model = Sequential()\n",
    "  model.add(Dense(n_features, input_dim=n_features, init=init, activation='relu'))\n",
    "  model.add(Dense(int(n_features/2), init=init, activation='relu'))\n",
    "  model.add(Dense(int(n_features/4), init=init, activation='relu'))\n",
    "  model.add(Dense(1))\n",
    "  model.compile(loss=mape, optimizer=optimizer)\n",
    "  return model\n",
    "\n",
    "model = KerasRegressor(build_fn=create_model, nb_epoch=20, batch_size=10, verbose=2)\n",
    "\n",
    "steps = [\n",
    "  ('impute', Imputer()),\n",
    "  # Remember that gap, the first variable, is removed, thus categorical_features\n",
    "  # should start at index 0.\n",
    "  ('one_hot', OneHotEncoder(categorical_features=[0, 1, 2, 3], sparse=False)),\n",
    "  ('scale', StandardScaler()),\n",
    "#   ('pca', PCA(n_components=120)),\n",
    "  ('estimate', model)\n",
    "]\n",
    "final_est = Pipeline(steps)\n",
    "\n",
    "# kfold = StratifiedKFold(y=targets_train, n_folds=10, shuffle=True, random_state=seed)"
   ]
  },
  {
   "cell_type": "markdown",
   "metadata": {},
   "source": [
    "## 4.3. Grid Search to Find Best Hyperparameters\n",
    "\n",
    "Use subset of training data in grid search just to find what hyperparameters are best for this project. Specifically we want to find the best optimizer, initializer, and batch size. Topology of the model will be adjusted in crossvalidation step."
   ]
  },
  {
   "cell_type": "code",
   "execution_count": 13,
   "metadata": {
    "collapsed": false
   },
   "outputs": [],
   "source": [
    "# model.fit(data_train, targets_train, validation_split=0.33,  nb_epoch=100, batch_size=10, \n",
    "#           callbacks=callbacks_list)\n",
    "# results = cross_val_score(model, data_train, targets_train, cv=kfold)\n",
    "\n",
    "# checkpoint = ModelCheckpoint(GRID_HDF_FILENAME, monitor='loss', save_best_only=True, mode='min')\n",
    "# callbacks_list = [checkpoint]\n",
    "\n",
    "# epochs = 150\n",
    "# learning_rate = 0.1\n",
    "# decay_rate = learning_rate / epochs\n",
    "# momentum = 0.8\n",
    "# sgd = SGD(lr=learning_rate, momentum=momentum, decay=decay_rate, nesterov=False)\n",
    "\n",
    "# data_train_s = data_train[:1000]\n",
    "# targets_train_s = targets_train[:1000]\n",
    "# optimizers = [sgd, 'adam', 'adagrad']\n",
    "# init = ['glorot_uniform', 'normal', 'uniform']\n",
    "# epochs_r = np.array([epochs])\n",
    "# batches = np.array([5, 10, 20])\n",
    "# param_grid = {\n",
    "#   'estimate__optimizer': optimizers,\n",
    "#   'estimate__nb_epoch': epochs_r, \n",
    "#   'estimate__batch_size': batches,\n",
    "#   'estimate__init': init,\n",
    "#   'estimate__callbacks': [callbacks_list]\n",
    "# }\n",
    "\n",
    "# grid = GridSearchCV(estimator=final_est, param_grid=param_grid, cv=3)\n",
    "# grid_result = grid.fit(data_train_s, targets_train_s)\n",
    "# time.sleep(0.5)"
   ]
  },
  {
   "cell_type": "code",
   "execution_count": 14,
   "metadata": {
    "collapsed": false
   },
   "outputs": [],
   "source": [
    "# summarize results\n",
    "# print(\"Best: %f using %s\" % (grid_result.best_score_, grid_result.best_params_))\n",
    "# for params, mean_score, scores in grid_result.grid_scores_:\n",
    "# print(\"%f (%f) with: %r\" % (scores.mean(), scores.std(), params))"
   ]
  },
  {
   "cell_type": "code",
   "execution_count": 15,
   "metadata": {
    "collapsed": false
   },
   "outputs": [],
   "source": [
    "# scores = model.evaluate(data_train, targets_train)\n",
    "# print(\"\\nscore: %.2f%\" % (scores))"
   ]
  },
  {
   "cell_type": "code",
   "execution_count": 16,
   "metadata": {
    "collapsed": false
   },
   "outputs": [],
   "source": [
    "# scores = model.evaluate(data_test, targets_test)\n",
    "# print(\"\\nscore: %.2f%\" % (scores))"
   ]
  },
  {
   "cell_type": "markdown",
   "metadata": {},
   "source": [
    "## 4.4. Crossvalidation\n",
    "\n",
    "Use entire training data for cross validation. Resulting model from here will be the final model."
   ]
  },
  {
   "cell_type": "code",
   "execution_count": 17,
   "metadata": {
    "collapsed": false
   },
   "outputs": [],
   "source": [
    "steps = [\n",
    "  ('impute', Imputer()),\n",
    "  # Remember that gap, the first variable, is removed, thus categorical_features\n",
    "  # should start at index 0.\n",
    "  ('one_hot', OneHotEncoder(categorical_features=[0, 1, 2, 3], sparse=False,\n",
    "                           n_values=[7, 10, 10, 10])),\n",
    "  ('scale', StandardScaler()),\n",
    "#   ('pca', PCA(n_components=120)),\n",
    "#   ('estimate', final_model)\n",
    "]\n",
    "transformer = Pipeline(steps)\n",
    "data_train2 = transformer.fit_transform(data_train)"
   ]
  },
  {
   "cell_type": "code",
   "execution_count": 18,
   "metadata": {
    "collapsed": false
   },
   "outputs": [],
   "source": [
    "epochs = 200\n",
    "\n",
    "def get_optimizer(epochs=50):\n",
    "  learning_rate = 0.2\n",
    "  decay_rate = learning_rate / epochs\n",
    "  momentum = 0.8\n",
    "  return SGD(lr=learning_rate, momentum=momentum, decay=decay_rate, nesterov=False)\n",
    "\n",
    "def create_final_model():\n",
    "  init='uniform'\n",
    "  final_model = Sequential()\n",
    "  final_model.add(Dropout(0.2, input_shape=(n_features,)))\n",
    "  final_model.add(Dense(n_features, init=init, activation='relu'))\n",
    "  final_model.add(Dense(int(n_features/2), init=init, activation='relu'))\n",
    "  final_model.add(Dense(1))\n",
    "  final_model.compile(loss=mape, optimizer=get_optimizer(epochs))\n",
    "  return final_model\n",
    "\n",
    "final_est = KerasRegressor(build_fn=create_final_model)"
   ]
  },
  {
   "cell_type": "code",
   "execution_count": 19,
   "metadata": {
    "collapsed": false
   },
   "outputs": [
    {
     "name": "stdout",
     "output_type": "stream",
     "text": [
      "Epoch 00000: val_loss improved from inf to 13.84933, saving model to final_model2.hdf5\n",
      "Epoch 00001: val_loss improved from 13.84933 to 13.74588, saving model to final_model2.hdf5\n",
      "Epoch 00002: val_loss improved from 13.74588 to 13.70911, saving model to final_model2.hdf5\n",
      "Epoch 00003: val_loss improved from 13.70911 to 13.66700, saving model to final_model2.hdf5\n",
      "Epoch 00004: val_loss improved from 13.66700 to 13.44034, saving model to final_model2.hdf5\n",
      "Epoch 00005: val_loss improved from 13.44034 to 12.91573, saving model to final_model2.hdf5\n",
      "Epoch 00006: val_loss improved from 12.91573 to 12.62271, saving model to final_model2.hdf5\n",
      "Epoch 00007: val_loss improved from 12.62271 to 12.24755, saving model to final_model2.hdf5\n",
      "Epoch 00008: val_loss improved from 12.24755 to 12.10628, saving model to final_model2.hdf5\n",
      "Epoch 00009: val_loss did not improve\n",
      "Epoch 00010: val_loss did not improve\n",
      "Epoch 00011: val_loss improved from 12.10628 to 11.49320, saving model to final_model2.hdf5\n",
      "Epoch 00012: val_loss did not improve\n",
      "Epoch 00013: val_loss did not improve\n",
      "Epoch 00014: val_loss improved from 11.49320 to 11.29722, saving model to final_model2.hdf5\n",
      "Epoch 00015: val_loss did not improve\n",
      "Epoch 00016: val_loss improved from 11.29722 to 11.17109, saving model to final_model2.hdf5\n",
      "Epoch 00017: val_loss did not improve\n",
      "Epoch 00018: val_loss improved from 11.17109 to 10.98891, saving model to final_model2.hdf5\n",
      "Epoch 00019: val_loss did not improve\n",
      "Epoch 00020: val_loss did not improve\n",
      "Epoch 00021: val_loss did not improve\n",
      "Epoch 00022: val_loss did not improve\n",
      "Epoch 00023: val_loss did not improve\n",
      "Epoch 00024: val_loss did not improve\n",
      "Epoch 00025: val_loss did not improve\n",
      "Epoch 00026: val_loss did not improve\n",
      "Epoch 00027: val_loss did not improve\n",
      "Epoch 00028: val_loss did not improve\n",
      "Epoch 00029: val_loss did not improve\n",
      "Epoch 00030: val_loss did not improve\n",
      "Epoch 00031: val_loss did not improve\n",
      "Epoch 00032: val_loss did not improve\n",
      "Epoch 00033: val_loss did not improve\n",
      "Epoch 00034: val_loss did not improve\n",
      "Epoch 00035: val_loss did not improve\n",
      "Epoch 00036: val_loss did not improve\n",
      "Epoch 00037: val_loss did not improve\n",
      "Epoch 00038: val_loss did not improve\n",
      "Epoch 00039: val_loss did not improve\n",
      "Epoch 00040: val_loss did not improve\n",
      "Epoch 00041: val_loss did not improve\n",
      "Epoch 00042: val_loss did not improve\n",
      "Epoch 00043: val_loss did not improve\n",
      "Epoch 00044: val_loss did not improve\n",
      "Epoch 00045: val_loss did not improve\n",
      "Epoch 00046: val_loss did not improve\n",
      "Epoch 00047: val_loss did not improve\n",
      "Epoch 00048: val_loss did not improve\n",
      "Epoch 00049: val_loss did not improve\n",
      "Epoch 00050: val_loss did not improve\n",
      "Epoch 00051: val_loss did not improve\n",
      "Epoch 00052: val_loss did not improve\n",
      "Epoch 00053: val_loss did not improve\n",
      "Epoch 00054: val_loss did not improve\n",
      "Epoch 00055: val_loss improved from 10.98891 to 10.92214, saving model to final_model2.hdf5\n",
      "Epoch 00056: val_loss did not improve\n",
      "Epoch 00057: val_loss did not improve\n",
      "Epoch 00058: val_loss did not improve\n",
      "Epoch 00059: val_loss did not improve\n",
      "Epoch 00060: val_loss did not improve\n",
      "Epoch 00061: val_loss did not improve\n",
      "Epoch 00062: val_loss did not improve\n",
      "Epoch 00063: val_loss did not improve\n",
      "Epoch 00064: val_loss did not improve\n",
      "Epoch 00065: val_loss improved from 10.92214 to 10.89619, saving model to final_model2.hdf5\n",
      "Epoch 00066: val_loss did not improve\n",
      "Epoch 00067: val_loss did not improve\n",
      "Epoch 00068: val_loss did not improve\n",
      "Epoch 00069: val_loss did not improve\n",
      "Epoch 00070: val_loss did not improve\n",
      "Epoch 00071: val_loss did not improve\n",
      "Epoch 00072: val_loss did not improve\n",
      "Epoch 00073: val_loss did not improve\n",
      "Epoch 00074: val_loss did not improve\n",
      "Epoch 00075: val_loss did not improve\n",
      "Epoch 00076: val_loss did not improve\n",
      "Epoch 00077: val_loss did not improve\n",
      "Epoch 00078: val_loss did not improve\n",
      "Epoch 00079: val_loss did not improve\n",
      "Epoch 00080: val_loss did not improve\n",
      "Epoch 00081: val_loss did not improve\n",
      "Epoch 00082: val_loss did not improve\n",
      "Epoch 00083: val_loss did not improve\n",
      "Epoch 00084: val_loss did not improve\n",
      "Epoch 00085: val_loss did not improve\n",
      "Epoch 00086: val_loss improved from 10.89619 to 10.84768, saving model to final_model2.hdf5\n",
      "Epoch 00087: val_loss did not improve\n",
      "Epoch 00088: val_loss did not improve\n",
      "Epoch 00089: val_loss did not improve\n",
      "Epoch 00090: val_loss did not improve\n",
      "Epoch 00091: val_loss did not improve\n",
      "Epoch 00092: val_loss improved from 10.84768 to 10.82565, saving model to final_model2.hdf5\n",
      "Epoch 00093: val_loss did not improve\n",
      "Epoch 00094: val_loss did not improve\n",
      "Epoch 00095: val_loss did not improve\n",
      "Epoch 00096: val_loss did not improve\n",
      "Epoch 00097: val_loss did not improve\n",
      "Epoch 00098: val_loss did not improve\n",
      "Epoch 00099: val_loss did not improve\n",
      "Epoch 00100: val_loss did not improve\n",
      "Epoch 00101: val_loss did not improve\n",
      "Epoch 00102: val_loss did not improve\n",
      "Epoch 00103: val_loss did not improve\n",
      "Epoch 00104: val_loss did not improve\n",
      "Epoch 00105: val_loss did not improve\n",
      "Epoch 00106: val_loss did not improve\n",
      "Epoch 00107: val_loss did not improve\n",
      "Epoch 00108: val_loss did not improve\n",
      "Epoch 00109: val_loss did not improve\n",
      "Epoch 00110: val_loss did not improve\n",
      "Epoch 00111: val_loss did not improve\n",
      "Epoch 00112: val_loss did not improve\n",
      "Epoch 00113: val_loss did not improve\n",
      "Epoch 00114: val_loss did not improve\n",
      "Epoch 00115: val_loss did not improve\n",
      "Epoch 00116: val_loss did not improve\n",
      "Epoch 00117: val_loss did not improve\n",
      "Epoch 00118: val_loss did not improve\n",
      "Epoch 00119: val_loss did not improve\n",
      "Epoch 00120: val_loss did not improve\n",
      "Epoch 00121: val_loss did not improve\n",
      "Epoch 00122: val_loss did not improve\n",
      "Epoch 00123: val_loss did not improve\n",
      "Epoch 00124: val_loss did not improve\n",
      "Epoch 00125: val_loss did not improve\n",
      "Epoch 00126: val_loss did not improve\n",
      "Epoch 00127: val_loss did not improve\n",
      "Epoch 00128: val_loss did not improve\n",
      "Epoch 00129: val_loss improved from 10.82565 to 10.79782, saving model to final_model2.hdf5\n",
      "Epoch 00130: val_loss did not improve\n",
      "Epoch 00131: val_loss did not improve\n",
      "Epoch 00132: val_loss did not improve\n",
      "Epoch 00133: val_loss did not improve\n",
      "Epoch 00134: val_loss did not improve\n",
      "Epoch 00135: val_loss did not improve\n",
      "Epoch 00136: val_loss did not improve\n",
      "Epoch 00137: val_loss did not improve\n",
      "Epoch 00138: val_loss did not improve\n",
      "Epoch 00139: val_loss did not improve\n",
      "Epoch 00140: val_loss did not improve\n",
      "Epoch 00141: val_loss improved from 10.79782 to 10.78646, saving model to final_model2.hdf5\n",
      "Epoch 00142: val_loss did not improve\n",
      "Epoch 00143: val_loss did not improve\n",
      "Epoch 00144: val_loss did not improve\n",
      "Epoch 00145: val_loss did not improve\n",
      "Epoch 00146: val_loss did not improve\n",
      "Epoch 00147: val_loss did not improve\n",
      "Epoch 00148: val_loss did not improve\n",
      "Epoch 00149: val_loss did not improve\n",
      "Epoch 00150: val_loss did not improve\n",
      "Epoch 00151: val_loss did not improve\n",
      "Epoch 00152: val_loss did not improve\n",
      "Epoch 00153: val_loss did not improve\n",
      "Epoch 00154: val_loss did not improve\n",
      "Epoch 00155: val_loss did not improve\n",
      "Epoch 00156: val_loss did not improve\n",
      "Epoch 00157: val_loss did not improve\n",
      "Epoch 00158: val_loss did not improve\n",
      "Epoch 00159: val_loss did not improve\n",
      "Epoch 00160: val_loss did not improve\n",
      "Epoch 00161: val_loss did not improve\n",
      "Epoch 00162: val_loss did not improve\n",
      "Epoch 00163: val_loss did not improve\n",
      "Epoch 00164: val_loss did not improve\n",
      "Epoch 00165: val_loss did not improve\n",
      "Epoch 00166: val_loss did not improve\n",
      "Epoch 00167: val_loss improved from 10.78646 to 10.76444, saving model to final_model2.hdf5\n",
      "Epoch 00168: val_loss did not improve\n",
      "Epoch 00169: val_loss did not improve\n",
      "Epoch 00170: val_loss did not improve\n",
      "Epoch 00171: val_loss did not improve\n",
      "Epoch 00172: val_loss did not improve\n",
      "Epoch 00173: val_loss did not improve\n",
      "Epoch 00174: val_loss did not improve\n",
      "Epoch 00175: val_loss did not improve\n",
      "Epoch 00176: val_loss did not improve\n",
      "Epoch 00177: val_loss did not improve\n",
      "Epoch 00178: val_loss did not improve\n",
      "Epoch 00179: val_loss did not improve\n",
      "Epoch 00180: val_loss did not improve\n",
      "Epoch 00181: val_loss did not improve\n",
      "Epoch 00182: val_loss did not improve\n",
      "Epoch 00183: val_loss did not improve\n",
      "Epoch 00184: val_loss did not improve\n",
      "Epoch 00185: val_loss did not improve\n",
      "Epoch 00186: val_loss did not improve\n",
      "Epoch 00187: val_loss did not improve\n",
      "Epoch 00188: val_loss did not improve\n",
      "Epoch 00189: val_loss did not improve\n",
      "Epoch 00190: val_loss did not improve\n",
      "Epoch 00191: val_loss did not improve\n",
      "Epoch 00192: val_loss did not improve\n",
      "Epoch 00193: val_loss did not improve\n",
      "Epoch 00194: val_loss did not improve\n",
      "Epoch 00195: val_loss did not improve\n",
      "Epoch 00196: val_loss did not improve\n",
      "Epoch 00197: val_loss did not improve\n",
      "Epoch 00198: val_loss did not improve\n",
      "Epoch 00199: val_loss did not improve\n"
     ]
    }
   ],
   "source": [
    "checkpoint = ModelCheckpoint(HDF_FILENAME, monitor='val_loss', verbose=1, save_best_only=True, mode='min')\n",
    "callbacks_list = [checkpoint]\n",
    "\n",
    "history = final_est.fit(data_train2, targets_train, validation_split=0.33,\n",
    "                          nb_epoch=epochs, batch_size=10, verbose=0, callbacks=callbacks_list)\n",
    "time.sleep(0.1)"
   ]
  },
  {
   "cell_type": "code",
   "execution_count": 20,
   "metadata": {
    "collapsed": false
   },
   "outputs": [
    {
     "data": {
      "image/png": "[encoded data removed]",
      "text/plain": [
       "<matplotlib.figure.Figure at 0x7fd7e85bf250>"
      ]
     },
     "metadata": {},
     "output_type": "display_data"
    }
   ],
   "source": [
    "plt.plot(history.history['loss'])\n",
    "plt.plot(history.history['val_loss'])\n",
    "plt.title('model loss')\n",
    "plt.ylabel('loss')\n",
    "plt.xlabel('epoch')\n",
    "plt.legend(['train', 'test'], loc='upper left')\n",
    "plt.show()\n",
    "\n",
    "# kfold = KFold(n=len(data_train), n_folds=10, random_state=seed)\n",
    "# results = cross_val_score(estimator, data_train, targets_train, cv=kfold)\n",
    "# print(\"Results: %.2f (%.2f) MSE\" % (results.mean(), results.std()))"
   ]
  },
  {
   "cell_type": "markdown",
   "metadata": {},
   "source": [
    "# Store Model to File"
   ]
  },
  {
   "cell_type": "code",
   "execution_count": 21,
   "metadata": {
    "collapsed": false
   },
   "outputs": [],
   "source": [
    "model_json = final_est.model.to_json()\n",
    "with open(JSON_MODEL_FILENAME, \"w\") as json_file:\n",
    "  json_file.write(model_json)"
   ]
  },
  {
   "cell_type": "code",
   "execution_count": 22,
   "metadata": {
    "collapsed": false
   },
   "outputs": [
    {
     "name": "stdout",
     "output_type": "stream",
     "text": [
      "Loaded model from disk\n",
      "loss: 10.71\n",
      "sample predictions:\n",
      "[[  0.99982786]\n",
      " [ 64.35321045]\n",
      " [  0.99982786]\n",
      " [  3.91705394]\n",
      " [  0.99982786]\n",
      " [  0.99982786]\n",
      " [  0.99982786]\n",
      " [  0.99982786]\n",
      " [  0.99982786]\n",
      " [  0.99982786]]\n"
     ]
    }
   ],
   "source": [
    "from keras.models import model_from_json\n",
    "json_file = open(JSON_MODEL_FILENAME, 'r')\n",
    "loaded_model_json = json_file.read()\n",
    "json_file.close()\n",
    "loaded_model = model_from_json(loaded_model_json)\n",
    "# load weights into new model\n",
    "loaded_model.load_weights(HDF_FILENAME)\n",
    "print(\"Loaded model from disk\")\n",
    "\n",
    "# evaluate loaded model on test data\n",
    "data_test2 = transformer.fit_transform(data_test)\n",
    "loaded_model.compile(loss=mape, optimizer=get_optimizer(epochs))\n",
    "score = loaded_model.evaluate(data_test2, targets_test, verbose=0)\n",
    "print \"%s: %.2f\" % (loaded_model.metrics_names[0], score)\n",
    "predictions = loaded_model.predict(data_test2)\n",
    "print 'sample predictions:'\n",
    "print(predictions[0:10])"
   ]
  }
 ],
 "metadata": {
  "kernelspec": {
   "display_name": "Python 2",
   "language": "python",
   "name": "python2"
  },
  "language_info": {
   "codemirror_mode": {
    "name": "ipython",
    "version": 2
   },
   "file_extension": ".py",
   "mimetype": "text/x-python",
   "name": "python",
   "nbconvert_exporter": "python",
   "pygments_lexer": "ipython2",
   "version": "2.7.9"
  }
 },
 "nbformat": 4,
 "nbformat_minor": 0
}
