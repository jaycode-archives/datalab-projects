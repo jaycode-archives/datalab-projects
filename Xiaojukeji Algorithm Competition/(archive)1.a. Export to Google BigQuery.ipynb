{
 "cells": [
  {
  
   "cell_type": "code",
   "execution_count": 3,
   "metadata": {
    "collapsed": false
   },
   "outputs": [
    {
     "name": "stdout",
     "output_type": "stream",
     "text": [
      "Bucket: gs://datalab-projects-1331-datalab/data\n"
     ]
    }
   ],
   "source": [
    "from cStringIO import StringIO\n",
    "import gzip\n",
    "import os\n",
    "import glob\n",
    "import re\n",
    "import pdb\n",
    "\n",
    "import gcp\n",
    "from gcp import storage\n",
    "from gcp import bigquery as bq\n",
    "import pandas as pd\n",
    "\n",
    "# Import zip file from Google Cloud Storage\n",
    "project = gcp.Context.default().project_id\n",
    "bucket_name = project + '-datalab'\n",
    "bucket_path = 'gs://' + bucket_name + '/data'\n",
    "print 'Bucket: ' + bucket_path"
   ]
  },
  {
   "cell_type": "code",
   "execution_count": 4,
   "metadata": {
    "collapsed": true
   },
   "outputs": [],
   "source": [
    "# Downloading and extracting the files from cloud storage.\n",
    "\n",
    "def process_datafile(localpath, storagepath, table, mode='create', overwrite=False):\n",
    "  gzip_filename = 'citydata2.tar.gz'\n",
    "  tar_filename = 'citydata2.tar'\n",
    "  datadir = 'season_2'\n",
    "  storagepath_r = storagepath.split('/')\n",
    "  # If data has not been extracted, extract it.\n",
    "  if not os.path.isdir(datadir):\n",
    "    # If citydata.tar has not been downloaded, download it\n",
    "    if not os.path.isfile(tar_filename):\n",
    "      \n",
    "      bucket_object = '/'.join(storagepath_r[:3]) + '/citydata2.tar.gz'\n",
    "      %storage read --object $bucket_object --variable compressed_file\n",
    "      \n",
    "      gzip_file = gzip.GzipFile(fileobj=StringIO(compressed_file))\n",
    "      del compressed_file\n",
    "\n",
    "      import shutil\n",
    "      with open(tar_filename, 'wb') as f_out:\n",
    "        shutil.copyfileobj(gzip_file, f_out)\n",
    "\n",
    "    import tarfile\n",
    "    tar = tarfile.open(tar_filename, \"r\")\n",
    "    tar.extractall()\n",
    "    tar.close()\n",
    "    os.remove(tar_filename)\n",
    "\n",
    "  # Upload extracted file into GCS\n",
    "  bucketname = storagepath_r[2]\n",
    "  itempath = '/'.join(storagepath_r[3:])\n",
    "  item = storage.Item(bucketname, itempath)\n",
    "  if not item.exists() or overwrite:    \n",
    "    with open(localpath, 'rb') as f:\n",
    "      item.write_to(f.read(), 'text/plain')\n",
    "  # Load data into Google BigQuery\n",
    "  table.load(storagepath, mode=mode, csv_options=bq.CSVOptions(delimiter='\\t'))"
   ]
  },
  {
   "cell_type": "markdown",
   "metadata": {},
   "source": [
    "# Process Training Data"
   ]
  },
  {
   "cell_type": "markdown",
   "metadata": {},
   "source": [
    "## Districts"
   ]
  },
  {
   "cell_type": "code",
   "execution_count": 5,
   "metadata": {
    "collapsed": true
   },
   "outputs": [],
   "source": [
    "table = bq.Table('datalab-projects-1331:xjk_algo_comp.districts')\n",
    "if not table.exists():\n",
    "  schema = bq.Schema([\n",
    "      {'name': 'district_hash', 'type': 'STRING'},\n",
    "      {'name': 'district_id', 'type': 'INTEGER'}\n",
    "    ])\n",
    "  table.create(schema)\n",
    "  \n",
    "  localpath = 'season_2/training_data/cluster_map/cluster_map'\n",
    "  storagepath = os.path.join(bucket_path,localpath)\n",
    "  process_datafile(localpath, storagepath, table)"
   ]
  },
  {
   "cell_type": "markdown",
   "metadata": {},
   "source": [
    "## Weather"
   ]
  },
  {
   "cell_type": "code",
   "execution_count": 6,
   "metadata": {
    "collapsed": true
   },
   "outputs": [],
   "source": [
    "table = bq.Table('datalab-projects-1331:xjk_algo_comp.weather')\n",
    "if not table.exists():\n",
    "  schema = bq.Schema([\n",
    "      {'name': 'time', 'type': 'STRING'},\n",
    "      {'name': 'weather', 'type': 'INTEGER'},\n",
    "      {'name': 'temperature', 'type': 'FLOAT'},\n",
    "      {'name': 'pm25', 'type': 'FLOAT'}\n",
    "    ])\n",
    "  table.create(schema)\n",
    "  \n",
    "  wildpath = 'season_2/training_data/weather_data/*'\n",
    "  for localpath in glob.glob(wildpath):\n",
    "    storagepath = os.path.join(bucket_path,localpath)\n",
    "    process_datafile(localpath, storagepath, table, mode='append')"
   ]
  },
  {
   "cell_type": "code",
   "execution_count": 7,
   "metadata": {
    "collapsed": true
   },
   "outputs": [],
   "source": [
    "%%bigquery udf --module transform_weather_time\n",
    "\n",
    "/**\n",
    " * Pad with 0 or given string.\n",
    " *\n",
    " * @param int n Number to add padding to.\n",
    " * @param int width Width of number + padding.\n",
    " * @param string z (Optional) Other string to replace '0' as padding.\n",
    " */\n",
    "function pad(n, width, z) {\n",
    "  z = z || '0';\n",
    "  n = n + '';\n",
    "  return n.length >= width ? n : new Array(width - n.length + 1).join(z) + n;\n",
    "}\n",
    "\n",
    "/**\n",
    " * Transform timestamps of weather table into timeslots in weather table.\n",
    " *\n",
    " * @param {{time: string, weather: integer, temperature: float, pm25: float}} r\n",
    " * @param function({{time: string, weather: integer, temperature: float, pm25: float,\n",
    "                     timeslot: string}}) emitFn\n",
    " */\n",
    "function(r, emitFn) {\n",
    "  var t = r.time.split(/[ :\\-]/);\n",
    "  var slot = Math.floor((parseInt(t[3]) * 60 + parseInt(t[4])) / 10) + 1;\n",
    "  r.timeslot = t[0] + '-' + pad(t[1], 2) +\n",
    "               '-' + pad(t[2], 2) + '-' + slot;\n",
    "  emitFn(r);\n",
    "}"
   ]
  },
  {
   "cell_type": "code",
   "execution_count": 8,
   "metadata": {
    "collapsed": false
   },
   "outputs": [
    {
     "data": {
      "text/html": [
       "\n",
       "    <div class=\"bqtv\" id=\"1_146579649214\"><table><tr><th>time</th><th>weather</th><th>temperature</th><th>pm25</th><th>timeslot</th></tr><tr><td>2016-01-18 00:00:29</td><td>3</td><td>3.0</td><td>88.0</td><td>2016-01-18-1</td></tr><tr><td>2016-01-18 00:06:04</td><td>3</td><td>3.0</td><td>88.0</td><td>2016-01-18-1</td></tr><tr><td>2016-01-18 00:11:12</td><td>3</td><td>3.0</td><td>88.0</td><td>2016-01-18-2</td></tr><tr><td>2016-01-18 00:16:13</td><td>3</td><td>3.0</td><td>88.0</td><td>2016-01-18-2</td></tr><tr><td>2016-01-18 00:20:45</td><td>3</td><td>3.0</td><td>88.0</td><td>2016-01-18-3</td></tr><tr><td>2016-01-18 00:25:22</td><td>3</td><td>3.0</td><td>88.0</td><td>2016-01-18-3</td></tr><tr><td>2016-01-18 00:30:41</td><td>3</td><td>3.0</td><td>88.0</td><td>2016-01-18-4</td></tr><tr><td>2016-01-18 00:35:40</td><td>3</td><td>3.0</td><td>88.0</td><td>2016-01-18-4</td></tr><tr><td>2016-01-18 00:40:19</td><td>3</td><td>3.0</td><td>88.0</td><td>2016-01-18-5</td></tr><tr><td>2016-01-18 00:45:34</td><td>3</td><td>3.0</td><td>88.0</td><td>2016-01-18-5</td></tr><tr><td>2016-01-18 00:50:23</td><td>3</td><td>3.0</td><td>82.0</td><td>2016-01-18-6</td></tr><tr><td>2016-01-18 00:55:33</td><td>3</td><td>3.0</td><td>82.0</td><td>2016-01-18-6</td></tr><tr><td>2016-01-18 01:01:05</td><td>3</td><td>3.0</td><td>82.0</td><td>2016-01-18-7</td></tr><tr><td>2016-01-18 01:05:25</td><td>3</td><td>3.0</td><td>82.0</td><td>2016-01-18-7</td></tr><tr><td>2016-01-18 01:10:51</td><td>3</td><td>3.0</td><td>82.0</td><td>2016-01-18-8</td></tr><tr><td>2016-01-18 01:15:22</td><td>3</td><td>3.0</td><td>82.0</td><td>2016-01-18-8</td></tr><tr><td>2016-01-18 01:21:08</td><td>3</td><td>3.0</td><td>82.0</td><td>2016-01-18-9</td></tr><tr><td>2016-01-18 01:25:34</td><td>3</td><td>3.0</td><td>82.0</td><td>2016-01-18-9</td></tr><tr><td>2016-01-18 01:30:22</td><td>3</td><td>3.0</td><td>82.0</td><td>2016-01-18-10</td></tr><tr><td>2016-01-18 01:35:38</td><td>3</td><td>3.0</td><td>82.0</td><td>2016-01-18-10</td></tr><tr><td>2016-01-18 01:40:47</td><td>3</td><td>3.0</td><td>78.0</td><td>2016-01-18-11</td></tr><tr><td>2016-01-18 01:45:19</td><td>3</td><td>3.0</td><td>78.0</td><td>2016-01-18-11</td></tr><tr><td>2016-01-18 01:50:45</td><td>3</td><td>3.0</td><td>78.0</td><td>2016-01-18-12</td></tr><tr><td>2016-01-18 01:56:01</td><td>3</td><td>3.0</td><td>78.0</td><td>2016-01-18-12</td></tr><tr><td>2016-01-18 02:00:28</td><td>3</td><td>3.0</td><td>78.0</td><td>2016-01-18-13</td></tr></table></div>\n",
       "    <br />(rows: 4811, time: 1.4s,   289KB processed, job: job_ZlFaY5w9i9WtcRWFORcBR94ZneI)<br />\n",
       "    <script>\n",
       "      require(['extensions/charting', 'element!1_146579649214', 'style!/static/extensions/charting.css'],\n",
       "        function(charts, dom) {\n",
       "          charts.render(dom,\n",
       "            {\n",
       "              chartStyle:\"paged_table\",\n",
       "              dataName:\"0\",\n",
       "              fields:\"time,weather,temperature,pm25,timeslot\",\n",
       "              totalRows:4811,\n",
       "              rowsPerPage:25,\n",
       "            }, {}, {\"rows\": [{\"c\": [{\"v\": \"2016-01-18 00:00:29\"}, {\"v\": 3}, {\"v\": 3.0}, {\"v\": 88.0}, {\"v\": \"2016-01-18-1\"}]}, {\"c\": [{\"v\": \"2016-01-18 00:06:04\"}, {\"v\": 3}, {\"v\": 3.0}, {\"v\": 88.0}, {\"v\": \"2016-01-18-1\"}]}, {\"c\": [{\"v\": \"2016-01-18 00:11:12\"}, {\"v\": 3}, {\"v\": 3.0}, {\"v\": 88.0}, {\"v\": \"2016-01-18-2\"}]}, {\"c\": [{\"v\": \"2016-01-18 00:16:13\"}, {\"v\": 3}, {\"v\": 3.0}, {\"v\": 88.0}, {\"v\": \"2016-01-18-2\"}]}, {\"c\": [{\"v\": \"2016-01-18 00:20:45\"}, {\"v\": 3}, {\"v\": 3.0}, {\"v\": 88.0}, {\"v\": \"2016-01-18-3\"}]}, {\"c\": [{\"v\": \"2016-01-18 00:25:22\"}, {\"v\": 3}, {\"v\": 3.0}, {\"v\": 88.0}, {\"v\": \"2016-01-18-3\"}]}, {\"c\": [{\"v\": \"2016-01-18 00:30:41\"}, {\"v\": 3}, {\"v\": 3.0}, {\"v\": 88.0}, {\"v\": \"2016-01-18-4\"}]}, {\"c\": [{\"v\": \"2016-01-18 00:35:40\"}, {\"v\": 3}, {\"v\": 3.0}, {\"v\": 88.0}, {\"v\": \"2016-01-18-4\"}]}, {\"c\": [{\"v\": \"2016-01-18 00:40:19\"}, {\"v\": 3}, {\"v\": 3.0}, {\"v\": 88.0}, {\"v\": \"2016-01-18-5\"}]}, {\"c\": [{\"v\": \"2016-01-18 00:45:34\"}, {\"v\": 3}, {\"v\": 3.0}, {\"v\": 88.0}, {\"v\": \"2016-01-18-5\"}]}, {\"c\": [{\"v\": \"2016-01-18 00:50:23\"}, {\"v\": 3}, {\"v\": 3.0}, {\"v\": 82.0}, {\"v\": \"2016-01-18-6\"}]}, {\"c\": [{\"v\": \"2016-01-18 00:55:33\"}, {\"v\": 3}, {\"v\": 3.0}, {\"v\": 82.0}, {\"v\": \"2016-01-18-6\"}]}, {\"c\": [{\"v\": \"2016-01-18 01:01:05\"}, {\"v\": 3}, {\"v\": 3.0}, {\"v\": 82.0}, {\"v\": \"2016-01-18-7\"}]}, {\"c\": [{\"v\": \"2016-01-18 01:05:25\"}, {\"v\": 3}, {\"v\": 3.0}, {\"v\": 82.0}, {\"v\": \"2016-01-18-7\"}]}, {\"c\": [{\"v\": \"2016-01-18 01:10:51\"}, {\"v\": 3}, {\"v\": 3.0}, {\"v\": 82.0}, {\"v\": \"2016-01-18-8\"}]}, {\"c\": [{\"v\": \"2016-01-18 01:15:22\"}, {\"v\": 3}, {\"v\": 3.0}, {\"v\": 82.0}, {\"v\": \"2016-01-18-8\"}]}, {\"c\": [{\"v\": \"2016-01-18 01:21:08\"}, {\"v\": 3}, {\"v\": 3.0}, {\"v\": 82.0}, {\"v\": \"2016-01-18-9\"}]}, {\"c\": [{\"v\": \"2016-01-18 01:25:34\"}, {\"v\": 3}, {\"v\": 3.0}, {\"v\": 82.0}, {\"v\": \"2016-01-18-9\"}]}, {\"c\": [{\"v\": \"2016-01-18 01:30:22\"}, {\"v\": 3}, {\"v\": 3.0}, {\"v\": 82.0}, {\"v\": \"2016-01-18-10\"}]}, {\"c\": [{\"v\": \"2016-01-18 01:35:38\"}, {\"v\": 3}, {\"v\": 3.0}, {\"v\": 82.0}, {\"v\": \"2016-01-18-10\"}]}, {\"c\": [{\"v\": \"2016-01-18 01:40:47\"}, {\"v\": 3}, {\"v\": 3.0}, {\"v\": 78.0}, {\"v\": \"2016-01-18-11\"}]}, {\"c\": [{\"v\": \"2016-01-18 01:45:19\"}, {\"v\": 3}, {\"v\": 3.0}, {\"v\": 78.0}, {\"v\": \"2016-01-18-11\"}]}, {\"c\": [{\"v\": \"2016-01-18 01:50:45\"}, {\"v\": 3}, {\"v\": 3.0}, {\"v\": 78.0}, {\"v\": \"2016-01-18-12\"}]}, {\"c\": [{\"v\": \"2016-01-18 01:56:01\"}, {\"v\": 3}, {\"v\": 3.0}, {\"v\": 78.0}, {\"v\": \"2016-01-18-12\"}]}, {\"c\": [{\"v\": \"2016-01-18 02:00:28\"}, {\"v\": 3}, {\"v\": 3.0}, {\"v\": 78.0}, {\"v\": \"2016-01-18-13\"}]}], \"cols\": [{\"type\": \"string\", \"id\": \"time\", \"label\": \"time\"}, {\"type\": \"number\", \"id\": \"weather\", \"label\": \"weather\"}, {\"type\": \"number\", \"id\": \"temperature\", \"label\": \"temperature\"}, {\"type\": \"number\", \"id\": \"pm25\", \"label\": \"pm25\"}, {\"type\": \"string\", \"id\": \"timeslot\", \"label\": \"timeslot\"}]});\n",
       "        }\n",
       "      );\n",
       "    </script>\n",
       "  "
      ],
      "text/plain": [
       "QueryResultsTable job_ZlFaY5w9i9WtcRWFORcBR94ZneI"
      ]
     },
     "execution_count": 8,
     "metadata": {},
     "output_type": "execute_result"
    }
   ],
   "source": [
    "%%bigquery execute -t datalab-projects-1331:xjk_algo_comp.weather -m overwrite\n",
    "SELECT time, weather, temperature, pm25, timeslot\n",
    "FROM transform_weather_time([datalab-projects-1331:xjk_algo_comp.weather])"
   ]
  },
  {
   "cell_type": "markdown",
   "metadata": {},
   "source": [
    "## Traffic"
   ]
  },
  {
   "cell_type": "code",
   "execution_count": 9,
   "metadata": {
    "collapsed": true
   },
   "outputs": [],
   "source": [
    "table = bq.Table('datalab-projects-1331:xjk_algo_comp.traffic')\n",
    "if not table.exists():\n",
    "  schema = bq.Schema([\n",
    "      {'name': 'district_hash', 'type': 'STRING'},\n",
    "      {'name': 'tj_level1', 'type': 'INTEGER'},\n",
    "      {'name': 'tj_level2', 'type': 'INTEGER'},\n",
    "      {'name': 'tj_level3', 'type': 'INTEGER'},\n",
    "      {'name': 'tj_level4', 'type': 'INTEGER'},\n",
    "      {'name': 'tj_time', 'type': 'STRING'}\n",
    "    ])\n",
    "  table.create(schema)\n",
    "  \n",
    "  wildpath = 'season_2/training_data/traffic_data/*'\n",
    "  for localpath in glob.glob(wildpath):\n",
    "    with open(localpath, 'rb') as f:\n",
    "      text = f.read()\n",
    "    with open(localpath, 'wb') as f:\n",
    "      f.write(re.sub(r'\\b\\t[0-9]:\\b', '\\t', text))\n",
    "    storagepath = os.path.join(bucket_path,localpath)\n",
    "    process_datafile(localpath, storagepath, table, mode='append', overwrite=True)"
   ]
  },
  {
   "cell_type": "code",
   "execution_count": 10,
   "metadata": {
    "collapsed": true
   },
   "outputs": [],
   "source": [
    "%%bigquery udf --module transform_traffic_time\n",
    "  \n",
    "/**\n",
    " * Pad with 0 or given string.\n",
    " *\n",
    " * @param int n Number to add padding to.\n",
    " * @param int width Width of number + padding.\n",
    " * @param string z (Optional) Other string to replace '0' as padding.\n",
    " */\n",
    "function pad(n, width, z) {\n",
    "  z = z || '0';\n",
    "  n = n + '';\n",
    "  return n.length >= width ? n : new Array(width - n.length + 1).join(z) + n;\n",
    "}\n",
    "\n",
    "/**\n",
    " * Transform timestamps of weather table into timeslots in traffic table.\n",
    " *\n",
    " * @param {{district_hash: string, tj_level1: integer, tj_level2: integer, tj_level3: integer, \n",
    "            tj_level4: integer, tj_time: string}} r\n",
    " * @param function({{district_hash: string, tj_level1: integer, tj_level2: integer, tj_level3: integer, \n",
    "                     tj_level4: integer, tj_time: string, timeslot: string}}) emitFn\n",
    " */\n",
    "function(r, emitFn) {\n",
    "  var t = r.tj_time.split(/[ :\\-]/);\n",
    "  var slot = Math.floor((parseInt(t[3]) * 60 + parseInt(t[4])) / 10) + 1;\n",
    "  r.timeslot = t[0] + '-' + pad(t[1], 2) +\n",
    "               '-' + pad(t[2], 2) + '-' + slot;\n",
    "  emitFn(r);\n",
    "}"
   ]
  },
  {
   "cell_type": "code",
   "execution_count": 11,
   "metadata": {
    "collapsed": false
   },
   "outputs": [
    {
     "data": {
      "text/html": [
       "\n",
       "    <div class=\"bqtv\" id=\"2_146579652265\"><table><tr><th>district_hash</th><th>tj_level1</th><th>tj_level2</th><th>tj_level3</th><th>tj_level4</th><th>tj_time</th><th>timeslot</th></tr><tr><td>0a5fef95db34383403d11cb6af937309</td><td>46</td><td>1</td><td>1</td><td>0</td><td>2016-01-16 00:10:27</td><td>2016-01-16-2</td></tr><tr><td>0a5fef95db34383403d11cb6af937309</td><td>46</td><td>1</td><td>1</td><td>0</td><td>2016-01-16 00:10:27</td><td>2016-01-16-2</td></tr><tr><td>0a5fef95db34383403d11cb6af937309</td><td>46</td><td>1</td><td>1</td><td>0</td><td>2016-01-16 00:10:27</td><td>2016-01-16-2</td></tr><tr><td>0a5fef95db34383403d11cb6af937309</td><td>46</td><td>1</td><td>1</td><td>0</td><td>2016-01-16 00:10:27</td><td>2016-01-16-2</td></tr><tr><td>1c60154546102e6525f68cb4f31e0657</td><td>108</td><td>9</td><td>1</td><td>0</td><td>2016-01-16 00:10:27</td><td>2016-01-16-2</td></tr><tr><td>1c60154546102e6525f68cb4f31e0657</td><td>108</td><td>9</td><td>1</td><td>0</td><td>2016-01-16 00:10:27</td><td>2016-01-16-2</td></tr><tr><td>1c60154546102e6525f68cb4f31e0657</td><td>108</td><td>9</td><td>1</td><td>0</td><td>2016-01-16 00:10:27</td><td>2016-01-16-2</td></tr><tr><td>1c60154546102e6525f68cb4f31e0657</td><td>108</td><td>9</td><td>1</td><td>0</td><td>2016-01-16 00:10:27</td><td>2016-01-16-2</td></tr><tr><td>fff4e8465d1e12621bc361276b6217cf</td><td>121</td><td>5</td><td>3</td><td>0</td><td>2016-01-16 00:10:27</td><td>2016-01-16-2</td></tr><tr><td>fff4e8465d1e12621bc361276b6217cf</td><td>121</td><td>5</td><td>3</td><td>0</td><td>2016-01-16 00:10:27</td><td>2016-01-16-2</td></tr><tr><td>fff4e8465d1e12621bc361276b6217cf</td><td>121</td><td>5</td><td>3</td><td>0</td><td>2016-01-16 00:10:27</td><td>2016-01-16-2</td></tr><tr><td>fff4e8465d1e12621bc361276b6217cf</td><td>121</td><td>5</td><td>3</td><td>0</td><td>2016-01-16 00:10:27</td><td>2016-01-16-2</td></tr><tr><td>1ecbb52d73c522f184a6fc53128b1ea1</td><td>250</td><td>27</td><td>12</td><td>0</td><td>2016-01-16 00:10:27</td><td>2016-01-16-2</td></tr><tr><td>1ecbb52d73c522f184a6fc53128b1ea1</td><td>250</td><td>27</td><td>12</td><td>0</td><td>2016-01-16 00:10:27</td><td>2016-01-16-2</td></tr><tr><td>1ecbb52d73c522f184a6fc53128b1ea1</td><td>250</td><td>27</td><td>12</td><td>0</td><td>2016-01-16 00:10:27</td><td>2016-01-16-2</td></tr><tr><td>1ecbb52d73c522f184a6fc53128b1ea1</td><td>250</td><td>27</td><td>12</td><td>0</td><td>2016-01-16 00:10:27</td><td>2016-01-16-2</td></tr><tr><td>73ff8ef735e1d68f0cdcbb84d788f2b6</td><td>258</td><td>38</td><td>4</td><td>0</td><td>2016-01-16 00:10:28</td><td>2016-01-16-2</td></tr><tr><td>73ff8ef735e1d68f0cdcbb84d788f2b6</td><td>258</td><td>38</td><td>4</td><td>0</td><td>2016-01-16 00:10:28</td><td>2016-01-16-2</td></tr><tr><td>73ff8ef735e1d68f0cdcbb84d788f2b6</td><td>258</td><td>38</td><td>4</td><td>0</td><td>2016-01-16 00:10:28</td><td>2016-01-16-2</td></tr><tr><td>73ff8ef735e1d68f0cdcbb84d788f2b6</td><td>258</td><td>38</td><td>4</td><td>0</td><td>2016-01-16 00:10:28</td><td>2016-01-16-2</td></tr><tr><td>d5cb17978de290c56e84c9cf97e63186</td><td>18</td><td>0</td><td>0</td><td>0</td><td>2016-01-16 00:10:28</td><td>2016-01-16-2</td></tr><tr><td>d5cb17978de290c56e84c9cf97e63186</td><td>18</td><td>0</td><td>0</td><td>0</td><td>2016-01-16 00:10:28</td><td>2016-01-16-2</td></tr><tr><td>d5cb17978de290c56e84c9cf97e63186</td><td>18</td><td>0</td><td>0</td><td>0</td><td>2016-01-16 00:10:28</td><td>2016-01-16-2</td></tr><tr><td>d5cb17978de290c56e84c9cf97e63186</td><td>18</td><td>0</td><td>0</td><td>0</td><td>2016-01-16 00:10:28</td><td>2016-01-16-2</td></tr><tr><td>7f84bdfc2b6d4541e1f6c0a3349e0251</td><td>130</td><td>5</td><td>0</td><td>0</td><td>2016-01-16 00:10:28</td><td>2016-01-16-2</td></tr></table></div>\n",
       "    <br />(rows: 792798, time: 30.1s,    81MB processed, job: job_vvoLjYI6nkwx03fGDgwP96YtNQg)<br />\n",
       "    <script>\n",
       "      require(['extensions/charting', 'element!2_146579652265', 'style!/static/extensions/charting.css'],\n",
       "        function(charts, dom) {\n",
       "          charts.render(dom,\n",
       "            {\n",
       "              chartStyle:\"paged_table\",\n",
       "              dataName:\"1\",\n",
       "              fields:\"district_hash,tj_level1,tj_level2,tj_level3,tj_level4,tj_time,timeslot\",\n",
       "              totalRows:792798,\n",
       "              rowsPerPage:25,\n",
       "            }, {}, {\"rows\": [{\"c\": [{\"v\": \"0a5fef95db34383403d11cb6af937309\"}, {\"v\": 46}, {\"v\": 1}, {\"v\": 1}, {\"v\": 0}, {\"v\": \"2016-01-16 00:10:27\"}, {\"v\": \"2016-01-16-2\"}]}, {\"c\": [{\"v\": \"0a5fef95db34383403d11cb6af937309\"}, {\"v\": 46}, {\"v\": 1}, {\"v\": 1}, {\"v\": 0}, {\"v\": \"2016-01-16 00:10:27\"}, {\"v\": \"2016-01-16-2\"}]}, {\"c\": [{\"v\": \"0a5fef95db34383403d11cb6af937309\"}, {\"v\": 46}, {\"v\": 1}, {\"v\": 1}, {\"v\": 0}, {\"v\": \"2016-01-16 00:10:27\"}, {\"v\": \"2016-01-16-2\"}]}, {\"c\": [{\"v\": \"0a5fef95db34383403d11cb6af937309\"}, {\"v\": 46}, {\"v\": 1}, {\"v\": 1}, {\"v\": 0}, {\"v\": \"2016-01-16 00:10:27\"}, {\"v\": \"2016-01-16-2\"}]}, {\"c\": [{\"v\": \"1c60154546102e6525f68cb4f31e0657\"}, {\"v\": 108}, {\"v\": 9}, {\"v\": 1}, {\"v\": 0}, {\"v\": \"2016-01-16 00:10:27\"}, {\"v\": \"2016-01-16-2\"}]}, {\"c\": [{\"v\": \"1c60154546102e6525f68cb4f31e0657\"}, {\"v\": 108}, {\"v\": 9}, {\"v\": 1}, {\"v\": 0}, {\"v\": \"2016-01-16 00:10:27\"}, {\"v\": \"2016-01-16-2\"}]}, {\"c\": [{\"v\": \"1c60154546102e6525f68cb4f31e0657\"}, {\"v\": 108}, {\"v\": 9}, {\"v\": 1}, {\"v\": 0}, {\"v\": \"2016-01-16 00:10:27\"}, {\"v\": \"2016-01-16-2\"}]}, {\"c\": [{\"v\": \"1c60154546102e6525f68cb4f31e0657\"}, {\"v\": 108}, {\"v\": 9}, {\"v\": 1}, {\"v\": 0}, {\"v\": \"2016-01-16 00:10:27\"}, {\"v\": \"2016-01-16-2\"}]}, {\"c\": [{\"v\": \"fff4e8465d1e12621bc361276b6217cf\"}, {\"v\": 121}, {\"v\": 5}, {\"v\": 3}, {\"v\": 0}, {\"v\": \"2016-01-16 00:10:27\"}, {\"v\": \"2016-01-16-2\"}]}, {\"c\": [{\"v\": \"fff4e8465d1e12621bc361276b6217cf\"}, {\"v\": 121}, {\"v\": 5}, {\"v\": 3}, {\"v\": 0}, {\"v\": \"2016-01-16 00:10:27\"}, {\"v\": \"2016-01-16-2\"}]}, {\"c\": [{\"v\": \"fff4e8465d1e12621bc361276b6217cf\"}, {\"v\": 121}, {\"v\": 5}, {\"v\": 3}, {\"v\": 0}, {\"v\": \"2016-01-16 00:10:27\"}, {\"v\": \"2016-01-16-2\"}]}, {\"c\": [{\"v\": \"fff4e8465d1e12621bc361276b6217cf\"}, {\"v\": 121}, {\"v\": 5}, {\"v\": 3}, {\"v\": 0}, {\"v\": \"2016-01-16 00:10:27\"}, {\"v\": \"2016-01-16-2\"}]}, {\"c\": [{\"v\": \"1ecbb52d73c522f184a6fc53128b1ea1\"}, {\"v\": 250}, {\"v\": 27}, {\"v\": 12}, {\"v\": 0}, {\"v\": \"2016-01-16 00:10:27\"}, {\"v\": \"2016-01-16-2\"}]}, {\"c\": [{\"v\": \"1ecbb52d73c522f184a6fc53128b1ea1\"}, {\"v\": 250}, {\"v\": 27}, {\"v\": 12}, {\"v\": 0}, {\"v\": \"2016-01-16 00:10:27\"}, {\"v\": \"2016-01-16-2\"}]}, {\"c\": [{\"v\": \"1ecbb52d73c522f184a6fc53128b1ea1\"}, {\"v\": 250}, {\"v\": 27}, {\"v\": 12}, {\"v\": 0}, {\"v\": \"2016-01-16 00:10:27\"}, {\"v\": \"2016-01-16-2\"}]}, {\"c\": [{\"v\": \"1ecbb52d73c522f184a6fc53128b1ea1\"}, {\"v\": 250}, {\"v\": 27}, {\"v\": 12}, {\"v\": 0}, {\"v\": \"2016-01-16 00:10:27\"}, {\"v\": \"2016-01-16-2\"}]}, {\"c\": [{\"v\": \"73ff8ef735e1d68f0cdcbb84d788f2b6\"}, {\"v\": 258}, {\"v\": 38}, {\"v\": 4}, {\"v\": 0}, {\"v\": \"2016-01-16 00:10:28\"}, {\"v\": \"2016-01-16-2\"}]}, {\"c\": [{\"v\": \"73ff8ef735e1d68f0cdcbb84d788f2b6\"}, {\"v\": 258}, {\"v\": 38}, {\"v\": 4}, {\"v\": 0}, {\"v\": \"2016-01-16 00:10:28\"}, {\"v\": \"2016-01-16-2\"}]}, {\"c\": [{\"v\": \"73ff8ef735e1d68f0cdcbb84d788f2b6\"}, {\"v\": 258}, {\"v\": 38}, {\"v\": 4}, {\"v\": 0}, {\"v\": \"2016-01-16 00:10:28\"}, {\"v\": \"2016-01-16-2\"}]}, {\"c\": [{\"v\": \"73ff8ef735e1d68f0cdcbb84d788f2b6\"}, {\"v\": 258}, {\"v\": 38}, {\"v\": 4}, {\"v\": 0}, {\"v\": \"2016-01-16 00:10:28\"}, {\"v\": \"2016-01-16-2\"}]}, {\"c\": [{\"v\": \"d5cb17978de290c56e84c9cf97e63186\"}, {\"v\": 18}, {\"v\": 0}, {\"v\": 0}, {\"v\": 0}, {\"v\": \"2016-01-16 00:10:28\"}, {\"v\": \"2016-01-16-2\"}]}, {\"c\": [{\"v\": \"d5cb17978de290c56e84c9cf97e63186\"}, {\"v\": 18}, {\"v\": 0}, {\"v\": 0}, {\"v\": 0}, {\"v\": \"2016-01-16 00:10:28\"}, {\"v\": \"2016-01-16-2\"}]}, {\"c\": [{\"v\": \"d5cb17978de290c56e84c9cf97e63186\"}, {\"v\": 18}, {\"v\": 0}, {\"v\": 0}, {\"v\": 0}, {\"v\": \"2016-01-16 00:10:28\"}, {\"v\": \"2016-01-16-2\"}]}, {\"c\": [{\"v\": \"d5cb17978de290c56e84c9cf97e63186\"}, {\"v\": 18}, {\"v\": 0}, {\"v\": 0}, {\"v\": 0}, {\"v\": \"2016-01-16 00:10:28\"}, {\"v\": \"2016-01-16-2\"}]}, {\"c\": [{\"v\": \"7f84bdfc2b6d4541e1f6c0a3349e0251\"}, {\"v\": 130}, {\"v\": 5}, {\"v\": 0}, {\"v\": 0}, {\"v\": \"2016-01-16 00:10:28\"}, {\"v\": \"2016-01-16-2\"}]}], \"cols\": [{\"type\": \"string\", \"id\": \"district_hash\", \"label\": \"district_hash\"}, {\"type\": \"number\", \"id\": \"tj_level1\", \"label\": \"tj_level1\"}, {\"type\": \"number\", \"id\": \"tj_level2\", \"label\": \"tj_level2\"}, {\"type\": \"number\", \"id\": \"tj_level3\", \"label\": \"tj_level3\"}, {\"type\": \"number\", \"id\": \"tj_level4\", \"label\": \"tj_level4\"}, {\"type\": \"string\", \"id\": \"tj_time\", \"label\": \"tj_time\"}, {\"type\": \"string\", \"id\": \"timeslot\", \"label\": \"timeslot\"}]});\n",
       "        }\n",
       "      );\n",
       "    </script>\n",
       "  "
      ],
      "text/plain": [
       "QueryResultsTable job_vvoLjYI6nkwx03fGDgwP96YtNQg"
      ]
     },
     "execution_count": 11,
     "metadata": {},
     "output_type": "execute_result"
    }
   ],
   "source": [
    "%%bigquery execute -t datalab-projects-1331:xjk_algo_comp.traffic -m overwrite\n",
    "  \n",
    "SELECT district_hash, tj_level1, tj_level2, tj_level3, tj_level4, tj_time, timeslot\n",
    "FROM transform_traffic_time([datalab-projects-1331:xjk_algo_comp.traffic])"
   ]
  },
  {
   "cell_type": "markdown",
   "metadata": {},
   "source": [
    "## POIs"
   ]
  },
  {
   "cell_type": "code",
   "execution_count": 12,
   "metadata": {
    "collapsed": false
   },
   "outputs": [
    {
     "ename": "IOError",
     "evalue": "[Errno 2] No such file or directory: 'season_2/training_data/poi_data/poi_data'",
     "output_type": "error",
     "traceback": [
      "\u001b[1;31m\u001b[0m",
      "\u001b[1;31mIOError\u001b[0mTraceback (most recent call last)",
      "\u001b[1;32m<ipython-input-12-64b5087f6953>\u001b[0m in \u001b[0;36m<module>\u001b[1;34m()\u001b[0m\n\u001b[0;32m      5\u001b[0m \u001b[0mpois\u001b[0m \u001b[1;33m=\u001b[0m \u001b[1;33m[\u001b[0m\u001b[1;33m]\u001b[0m\u001b[1;33m\u001b[0m\u001b[0m\n\u001b[0;32m      6\u001b[0m \u001b[0mpois_schema\u001b[0m \u001b[1;33m=\u001b[0m \u001b[1;33m[\u001b[0m\u001b[1;33m{\u001b[0m\u001b[1;34m'name'\u001b[0m\u001b[1;33m:\u001b[0m \u001b[1;34m'district_hash'\u001b[0m\u001b[1;33m,\u001b[0m \u001b[1;34m'type'\u001b[0m\u001b[1;33m:\u001b[0m \u001b[1;34m'STRING'\u001b[0m\u001b[1;33m}\u001b[0m\u001b[1;33m]\u001b[0m\u001b[1;33m\u001b[0m\u001b[0m\n\u001b[1;32m----> 7\u001b[1;33m \u001b[1;32mwith\u001b[0m \u001b[0mopen\u001b[0m\u001b[1;33m(\u001b[0m\u001b[0mlocalpath\u001b[0m\u001b[1;33m,\u001b[0m \u001b[1;34m'rb'\u001b[0m\u001b[1;33m)\u001b[0m \u001b[1;32mas\u001b[0m \u001b[0mf\u001b[0m\u001b[1;33m:\u001b[0m\u001b[1;33m\u001b[0m\u001b[0m\n\u001b[0m\u001b[0;32m      8\u001b[0m   \u001b[1;32mfor\u001b[0m \u001b[0mline\u001b[0m \u001b[1;32min\u001b[0m \u001b[0mf\u001b[0m\u001b[1;33m:\u001b[0m\u001b[1;33m\u001b[0m\u001b[0m\n\u001b[0;32m      9\u001b[0m     line_pois = map(lambda x: ['f{}'.format(x.split(':')[0].replace('#', '_')), x.split(':')[1]],\n",
      "\u001b[1;31mIOError\u001b[0m: [Errno 2] No such file or directory: 'season_2/training_data/poi_data/poi_data'"
     ]
    }
   ],
   "source": [
    "table = bq.Table('datalab-projects-1331:xjk_algo_comp.pois')\n",
    "  \n",
    "localpath = 'season_2/training_data/poi_data/poi_data'\n",
    "\n",
    "pois = []\n",
    "pois_schema = [{'name': 'district_hash', 'type': 'STRING'}]\n",
    "with open(localpath, 'rb') as f:\n",
    "  for line in f:\n",
    "    line_pois = map(lambda x: ['f{}'.format(x.split(':')[0].replace('#', '_')), x.split(':')[1]],\n",
    "                    line.split('\\t')[1:])\n",
    "  for poi in line_pois:\n",
    "    if poi[0] not in pois:\n",
    "      pois.append(poi[0])\n",
    "      pois_schema.append({'name': poi[0], 'type': 'INTEGER'})\n",
    "pois.sort()\n",
    "pois_schema = sorted(pois_schema, key=lambda k: k['name']) \n",
    "\n",
    "if not table.exists():\n",
    "  schema = bq.Schema.from_data(pois_schema)\n",
    "  table.create(schema)\n",
    "  \n",
    "  pois_data = pd.DataFrame(columns=['district_hash'] + pois)\n",
    "  with open(localpath, 'rb') as f:\n",
    "    for line in f:\n",
    "      hash_pois = {}\n",
    "      for poi_line in line.split('\\t')[1:]:\n",
    "        hash_pois['f{}'.format(poi_line.split(':')[0].replace('#', '_'))] = poi_line.split(':')[1]\n",
    "      poi_data = [line.split('\\t')[0]]\n",
    "      # hash_pois = {f1_1: 15, ...}\n",
    "      # pois = ['f1_1', ...]\n",
    "      for poi in pois:\n",
    "        value = '0'\n",
    "        if poi in hash_pois:\n",
    "          value = hash_pois[poi].strip()\n",
    "        poi_data.append(value)\n",
    "      pois_data.loc[len(pois_data)] = poi_data\n",
    "  for poi in pois:\n",
    "    pois_data[poi] = pd.to_numeric(pois_data[poi])\n",
    "  table.insert_data(pois_data)"
   ]
  },
  {
   "cell_type": "markdown",
   "metadata": {},
   "source": [
    "Following code can be used to print out feature fields to be used when selecting from tables."
   ]
  },
  {
   "cell_type": "code",
   "execution_count": null,
   "metadata": {
    "collapsed": true
   },
   "outputs": [],
   "source": [
    "final_text = ''\n",
    "for counter, poi_text in enumerate(map(lambda x: 'FIRST(pois.{}) AS {}'.format(x,x), pois)):\n",
    "  if counter%3 == 0:\n",
    "    final_text = '{}\\n'.format(final_text)\n",
    "  final_text = '{}{}, '.format(final_text, poi_text)\n",
    "print final_text[1:(len(final_text)-2)]"
   ]
  },
  {
   "cell_type": "markdown",
   "metadata": {},
   "source": [
    "## Orders"
   ]
  },
  {
   "cell_type": "code",
   "execution_count": null,
   "metadata": {
    "collapsed": true
   },
   "outputs": [],
   "source": [
    "table = bq.Table('datalab-projects-1331:xjk_algo_comp.orders')\n",
    "if not table.exists():\n",
    "  schema = bq.Schema([{'name': 'order_id', 'type': 'STRING'},\n",
    "                      {'name': 'driver_id', 'type': 'STRING'},\n",
    "                      {'name': 'passenger_id', 'type': 'STRING'},\n",
    "                      {'name': 'start_district_hash', 'type': 'STRING'},\n",
    "                      {'name': 'dest_district_hash', 'type': 'STRING'},\n",
    "                      {'name': 'price', 'type': 'FLOAT'},\n",
    "                      {'name': 'time', 'type': 'STRING'}])\n",
    "  table.create(schema)\n",
    "  \n",
    "  wildpath = 'season_2/training_data/order_data/*'\n",
    "  for localpath in glob.glob(wildpath):\n",
    "    print 'loading {}'.format(localpath)\n",
    "    storagepath = os.path.join(bucket_path,localpath)\n",
    "    process_datafile(localpath, storagepath, table, mode='append')"
   ]
  }
 ],
 "metadata": {
  "kernelspec": {
   "display_name": "Python 2",
   "language": "python",
   "name": "python2"
  },
  "language_info": {
   "codemirror_mode": {
    "name": "ipython",
    "version": 2
   },
   "file_extension": ".py",
   "mimetype": "text/x-python",
   "name": "python",
   "nbconvert_exporter": "python",
   "pygments_lexer": "ipython2",
   "version": "2.7.9"
  }
 },
 "nbformat": 4,
 "nbformat_minor": 0
}
