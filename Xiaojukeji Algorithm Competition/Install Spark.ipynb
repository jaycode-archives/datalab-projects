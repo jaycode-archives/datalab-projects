{
 "cells": [
  {
   "cell_type": "code",
   "execution_count": 2,
   "metadata": {
    "collapsed": false
   },
   "outputs": [
    {
     "name": "stdout",
     "output_type": "stream",
     "text": [
      " __ _                       _     _   _               _       _   _          \n",
      "/ _(_) __ _ _ __ ___   ___ (_) __| | /_\\  _ __   __ _| |_   _| |_(_) ___ ___ \n",
      "\\ \\| |/ _` | '_ ` _ \\ / _ \\| |/ _` |//_\\\\| '_ \\ / _` | | | | | __| |/ __/ __|\n",
      "_\\ \\ | (_| | | | | | | (_) | | (_| /  _  \\ | | | (_| | | |_| | |_| | (__\\__ \\\n",
      "\\__/_|\\__, |_| |_| |_|\\___/|_|\\__,_\\_/ \\_/_| |_|\\__,_|_|\\__, |\\__|_|\\___|___/\n",
      "      |___/              SigmoidAnalytics.com           |___/                \n",
      "\n",
      "[ Script Started ]\n",
      "# Usage: spark_gce.py <project> <no-slaves> <slave-type> <master-type> <identity-file> <zone> <cluster-name>\n",
      "# Usage: spark_gce.py <project> <cluster-name> destroy\n"
     ]
    },
    {
     "name": "stderr",
     "output_type": "stream",
     "text": [
      "Cloning into 'spark_gce'...\n"
     ]
    }
   ],
   "source": [
    "%%bash\n",
    "\n",
    "git clone https://github.com/sigmoidanalytics/spark_gce.git\n",
    "cd spark_gce\n",
    "python spark_gce.py datalab-projects-1331 1 n1-standard-1 n1-standard-1"
   ]
  },
  {
   "cell_type": "code",
   "execution_count": 3,
   "metadata": {
    "collapsed": false
   },
   "outputs": [
    {
     "name": "stdout",
     "output_type": "stream",
     "text": [
      " __ _                       _     _   _               _       _   _          \n",
      "/ _(_) __ _ _ __ ___   ___ (_) __| | /_\\  _ __   __ _| |_   _| |_(_) ___ ___ \n",
      "\\ \\| |/ _` | '_ ` _ \\ / _ \\| |/ _` |//_\\\\| '_ \\ / _` | | | | | __| |/ __/ __|\n",
      "_\\ \\ | (_| | | | | | | (_) | | (_| /  _  \\ | | | (_| | | |_| | |_| | (__\\__ \\\n",
      "\\__/_|\\__, |_| |_| |_|\\___/|_|\\__,_\\_/ \\_/_| |_|\\__,_|_|\\__, |\\__|_|\\___|___/\n",
      "      |___/              SigmoidAnalytics.com           |___/                \n",
      "\n",
      "[ Script Started ]\n",
      "# Usage: spark_gce.py <project> <no-slaves> <slave-type> <master-type> <identity-file> <zone> <cluster-name>\n",
      "# Usage: spark_gce.py <project> <cluster-name> destroy\n"
     ]
    }
   ],
   "source": [
    "%%bash\n",
    "cd spark_gce\n",
    "python spark_gce.py datalab-projects-1331 1 n1-standard-1 n1-standard-1"
   ]
  },
  {
   "cell_type": "code",
   "execution_count": 4,
   "metadata": {
    "collapsed": false
   },
   "outputs": [
    {
     "name": "stderr",
     "output_type": "stream",
     "text": [
      "ls: cannot access /root/.ssh: No such file or directory\n"
     ]
    }
   ],
   "source": [
    "%%bash\n",
    "\n",
    "ls ~/.ssh"
   ]
  },
  {
   "cell_type": "code",
   "execution_count": null,
   "metadata": {
    "collapsed": true
   },
   "outputs": [],
   "source": []
  }
 ],
 "metadata": {
  "kernelspec": {
   "display_name": "Python 2",
   "language": "python",
   "name": "python2"
  },
  "language_info": {
   "codemirror_mode": {
    "name": "ipython",
    "version": 2
   },
   "file_extension": ".py",
   "mimetype": "text/x-python",
   "name": "python",
   "nbconvert_exporter": "python",
   "pygments_lexer": "ipython2",
   "version": "2.7.9"
  }
 },
 "nbformat": 4,
 "nbformat_minor": 0
}
